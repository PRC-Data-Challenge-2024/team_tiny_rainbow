{
 "cells": [
  {
   "cell_type": "markdown",
   "id": "12342f03-8eb3-48e4-ac47-f4dc3d691932",
   "metadata": {
    "tags": []
   },
   "source": [
    "# XGBoost Model"
   ]
  },
  {
   "cell_type": "code",
   "execution_count": 1,
   "id": "23ff59ad-e6f3-4acf-bff2-3f9307ec3043",
   "metadata": {},
   "outputs": [],
   "source": [
    "import pandas as pd\n",
    "from xgboost import XGBRegressor, callback\n",
    "from sklearn.model_selection import train_test_split, RandomizedSearchCV\n",
    "from sklearn.metrics import r2_score, mean_squared_error\n",
    "import numpy as np\n",
    "from tqdm import tqdm\n",
    "from datetime import datetime\n",
    "import pytz\n",
    "import json\n",
    "import joblib \n",
    "import os\n",
    "import optuna"
   ]
  },
  {
   "cell_type": "code",
   "execution_count": 2,
   "id": "33936ce9-6883-4634-9cdf-7e48db301656",
   "metadata": {},
   "outputs": [],
   "source": [
    "# Load the dataset after the exploratory data analysis\n",
    "challenge_set_updated = pd.read_csv(\"./data/challenge_set_updated_v7.csv\")\n",
    "submission_set = pd.read_csv(\"./data/submission_set.csv\")\n",
    "submission_set_updated = pd.read_csv(\"./data/submission_set_updated_v7.csv\")\n",
    "\n",
    "# If necessary change this part to test the model before the training process\n",
    "df = challenge_set_updated.iloc[:,:]\n",
    "# df = challenge_set_updated.sample(frac=0.001)\n",
    "\n",
    "# Separating features and target variable\n",
    "X = df.drop('tow', axis=1)\n",
    "y = df['tow']\n",
    "\n",
    "n_jobs = os.cpu_count() // 2"
   ]
  },
  {
   "cell_type": "code",
   "execution_count": null,
   "id": "19810434-b559-47aa-b836-1d6adb80443f",
   "metadata": {},
   "outputs": [
    {
     "name": "stderr",
     "output_type": "stream",
     "text": [
      "[I 2024-09-13 03:14:17,805] A new study created in memory with name: no-name-5e934a07-50a3-4200-96ca-372cbbbfbcac\n"
     ]
    },
    {
     "name": "stdout",
     "output_type": "stream",
     "text": [
      "[0]\tvalidation_0-rmse:53028.08490\n",
      "[1000]\tvalidation_0-rmse:3403.39350\n",
      "[2000]\tvalidation_0-rmse:3337.55713\n",
      "[3000]\tvalidation_0-rmse:3312.21298\n",
      "[4000]\tvalidation_0-rmse:3300.42199\n",
      "[4605]\tvalidation_0-rmse:3296.37625\n"
     ]
    },
    {
     "name": "stderr",
     "output_type": "stream",
     "text": [
      "[I 2024-09-13 03:30:41,925] Trial 0 finished with value: 3296.3675170364886 and parameters: {'learning_rate': 0.007569165081214165, 'max_depth': 15, 'min_child_weight': 8, 'gamma': 0.10997095295835893, 'colsample_bytree': 0.5415703588078289, 'reg_alpha': 0.7476742564840364, 'reg_lambda': 0.00010521677052091404}. Best is trial 0 with value: 3296.3675170364886.\n"
     ]
    },
    {
     "name": "stdout",
     "output_type": "stream",
     "text": [
      "[0]\tvalidation_0-rmse:52880.97856\n",
      "[1000]\tvalidation_0-rmse:3377.56768\n",
      "[2000]\tvalidation_0-rmse:3331.23844\n",
      "[3000]\tvalidation_0-rmse:3312.38523\n",
      "[4000]\tvalidation_0-rmse:3303.20366\n",
      "[5000]\tvalidation_0-rmse:3297.99779\n",
      "[5973]\tvalidation_0-rmse:3294.88116\n"
     ]
    },
    {
     "name": "stderr",
     "output_type": "stream",
     "text": [
      "[I 2024-09-13 03:53:18,881] Trial 1 finished with value: 3294.869499072892 and parameters: {'learning_rate': 0.010364167332776215, 'max_depth': 15, 'min_child_weight': 1, 'gamma': 0.06250594645395556, 'colsample_bytree': 0.4340437646679536, 'reg_alpha': 0.255983719187635, 'reg_lambda': 0.3780729793233056}. Best is trial 1 with value: 3294.869499072892.\n"
     ]
    },
    {
     "name": "stdout",
     "output_type": "stream",
     "text": [
      "[0]\tvalidation_0-rmse:53345.89784\n",
      "[1000]\tvalidation_0-rmse:11424.25894\n",
      "[2000]\tvalidation_0-rmse:4221.59043\n",
      "[3000]\tvalidation_0-rmse:3551.95650\n",
      "[4000]\tvalidation_0-rmse:3467.03170\n",
      "[5000]\tvalidation_0-rmse:3429.22761\n",
      "[6000]\tvalidation_0-rmse:3404.97780\n",
      "[7000]\tvalidation_0-rmse:3386.70512\n",
      "[8000]\tvalidation_0-rmse:3372.67527\n",
      "[9000]\tvalidation_0-rmse:3363.00969\n",
      "[10000]\tvalidation_0-rmse:3353.08688\n",
      "[11000]\tvalidation_0-rmse:3343.99973\n",
      "[12000]\tvalidation_0-rmse:3336.50548\n",
      "[13000]\tvalidation_0-rmse:3330.04958\n",
      "[14000]\tvalidation_0-rmse:3323.77860\n",
      "[15000]\tvalidation_0-rmse:3319.10531\n",
      "[16000]\tvalidation_0-rmse:3314.26127\n",
      "[17000]\tvalidation_0-rmse:3310.64240\n",
      "[18000]\tvalidation_0-rmse:3307.73600\n",
      "[19000]\tvalidation_0-rmse:3305.04661\n",
      "[20000]\tvalidation_0-rmse:3302.34125\n",
      "[21000]\tvalidation_0-rmse:3300.06149\n",
      "[22000]\tvalidation_0-rmse:3298.11016\n",
      "[23000]\tvalidation_0-rmse:3296.17033\n",
      "[24000]\tvalidation_0-rmse:3294.44265\n",
      "[24613]\tvalidation_0-rmse:3293.52471\n"
     ]
    },
    {
     "name": "stderr",
     "output_type": "stream",
     "text": [
      "[I 2024-09-13 05:06:44,972] Trial 2 finished with value: 3293.5102830496303 and parameters: {'learning_rate': 0.0016005007015330677, 'max_depth': 14, 'min_child_weight': 10, 'gamma': 0.037227561890735346, 'colsample_bytree': 0.727812048187759, 'reg_alpha': 0.002188640020079764, 'reg_lambda': 0.5346097638951908}. Best is trial 2 with value: 3293.5102830496303.\n"
     ]
    },
    {
     "name": "stdout",
     "output_type": "stream",
     "text": [
      "[0]\tvalidation_0-rmse:52095.17898\n",
      "[1000]\tvalidation_0-rmse:3331.25029\n",
      "[1965]\tvalidation_0-rmse:3294.09492\n"
     ]
    },
    {
     "name": "stderr",
     "output_type": "stream",
     "text": [
      "[I 2024-09-13 05:12:10,164] Trial 3 finished with value: 3293.91024157036 and parameters: {'learning_rate': 0.02519800754609529, 'max_depth': 13, 'min_child_weight': 8, 'gamma': 0.5527998546086038, 'colsample_bytree': 0.7057073947645749, 'reg_alpha': 0.129920199645181, 'reg_lambda': 0.6760486690948311}. Best is trial 2 with value: 3293.5102830496303.\n"
     ]
    },
    {
     "name": "stdout",
     "output_type": "stream",
     "text": [
      "[0]\tvalidation_0-rmse:53153.32281\n",
      "[1000]\tvalidation_0-rmse:3847.44603\n",
      "[2000]\tvalidation_0-rmse:3651.30986\n",
      "[3000]\tvalidation_0-rmse:3566.58683\n",
      "[4000]\tvalidation_0-rmse:3516.49865\n",
      "[5000]\tvalidation_0-rmse:3484.64908\n",
      "[6000]\tvalidation_0-rmse:3455.68742\n",
      "[7000]\tvalidation_0-rmse:3436.71771\n",
      "[8000]\tvalidation_0-rmse:3422.00349\n",
      "[9000]\tvalidation_0-rmse:3404.41670\n",
      "[10000]\tvalidation_0-rmse:3387.96275\n",
      "[11000]\tvalidation_0-rmse:3376.54604\n",
      "[12000]\tvalidation_0-rmse:3366.61040\n",
      "[12949]\tvalidation_0-rmse:3358.94792\n"
     ]
    },
    {
     "name": "stderr",
     "output_type": "stream",
     "text": [
      "[I 2024-09-13 05:35:40,753] Trial 4 finished with value: 3358.918362889335 and parameters: {'learning_rate': 0.005234907385988487, 'max_depth': 9, 'min_child_weight': 7, 'gamma': 0.03546171148099006, 'colsample_bytree': 0.9668096235967286, 'reg_alpha': 0.009000791127987321, 'reg_lambda': 0.5356866892087341}. Best is trial 2 with value: 3293.5102830496303.\n"
     ]
    },
    {
     "name": "stdout",
     "output_type": "stream",
     "text": [
      "[0]\tvalidation_0-rmse:53030.17946\n",
      "[1000]\tvalidation_0-rmse:4150.81416\n",
      "[2000]\tvalidation_0-rmse:3945.66771\n",
      "[3000]\tvalidation_0-rmse:3828.01466\n",
      "[4000]\tvalidation_0-rmse:3748.76129\n",
      "[5000]\tvalidation_0-rmse:3693.03785\n",
      "[6000]\tvalidation_0-rmse:3652.74676\n",
      "[7000]\tvalidation_0-rmse:3619.67171\n",
      "[8000]\tvalidation_0-rmse:3591.84717\n",
      "[9000]\tvalidation_0-rmse:3566.96239\n",
      "[10000]\tvalidation_0-rmse:3543.44758\n",
      "[11000]\tvalidation_0-rmse:3522.01171\n",
      "[12000]\tvalidation_0-rmse:3503.98518\n",
      "[13000]\tvalidation_0-rmse:3488.79702\n",
      "[14000]\tvalidation_0-rmse:3475.46483\n",
      "[15000]\tvalidation_0-rmse:3463.31114\n",
      "[16000]\tvalidation_0-rmse:3453.47619\n",
      "[17000]\tvalidation_0-rmse:3443.07646\n",
      "[18000]\tvalidation_0-rmse:3433.32364\n",
      "[19000]\tvalidation_0-rmse:3424.76562\n",
      "[20000]\tvalidation_0-rmse:3417.26046\n",
      "[21000]\tvalidation_0-rmse:3411.05236\n",
      "[22000]\tvalidation_0-rmse:3404.84571\n",
      "[22399]\tvalidation_0-rmse:3402.59022\n"
     ]
    },
    {
     "name": "stderr",
     "output_type": "stream",
     "text": [
      "[I 2024-09-13 06:09:14,210] Trial 5 finished with value: 3402.574852924511 and parameters: {'learning_rate': 0.007614866109937625, 'max_depth': 6, 'min_child_weight': 8, 'gamma': 0.7651236691866169, 'colsample_bytree': 0.5065945799582415, 'reg_alpha': 0.0009879072272989773, 'reg_lambda': 0.06969008303086907}. Best is trial 2 with value: 3293.5102830496303.\n"
     ]
    },
    {
     "name": "stdout",
     "output_type": "stream",
     "text": [
      "[0]\tvalidation_0-rmse:53065.12462\n",
      "[1000]\tvalidation_0-rmse:3451.22269\n",
      "[2000]\tvalidation_0-rmse:3370.65961\n",
      "[3000]\tvalidation_0-rmse:3337.74122\n",
      "[4000]\tvalidation_0-rmse:3320.13909\n",
      "[5000]\tvalidation_0-rmse:3309.07125\n",
      "[5915]\tvalidation_0-rmse:3303.37901\n"
     ]
    },
    {
     "name": "stderr",
     "output_type": "stream",
     "text": [
      "[I 2024-09-13 06:22:46,983] Trial 6 finished with value: 3303.348185484985 and parameters: {'learning_rate': 0.006887061396352272, 'max_depth': 14, 'min_child_weight': 9, 'gamma': 0.002706979973385143, 'colsample_bytree': 0.7494676020515567, 'reg_alpha': 0.005595471412949319, 'reg_lambda': 0.1169694807207387}. Best is trial 2 with value: 3293.5102830496303.\n"
     ]
    },
    {
     "name": "stdout",
     "output_type": "stream",
     "text": [
      "[0]\tvalidation_0-rmse:51398.28809\n",
      "[1000]\tvalidation_0-rmse:3587.29899\n",
      "[2000]\tvalidation_0-rmse:3454.93269\n",
      "[3000]\tvalidation_0-rmse:3397.11684\n",
      "[4000]\tvalidation_0-rmse:3369.90614\n",
      "[4964]\tvalidation_0-rmse:3351.01563\n"
     ]
    },
    {
     "name": "stderr",
     "output_type": "stream",
     "text": [
      "[I 2024-09-13 06:30:22,485] Trial 7 finished with value: 3350.8993561890825 and parameters: {'learning_rate': 0.03852235170880481, 'max_depth': 7, 'min_child_weight': 8, 'gamma': 0.3089031744714691, 'colsample_bytree': 0.4085384156777457, 'reg_alpha': 0.0012916714220192755, 'reg_lambda': 0.045833079502469586}. Best is trial 2 with value: 3293.5102830496303.\n"
     ]
    },
    {
     "name": "stdout",
     "output_type": "stream",
     "text": [
      "[0]\tvalidation_0-rmse:51856.49693\n",
      "[1000]\tvalidation_0-rmse:4414.52211\n",
      "[2000]\tvalidation_0-rmse:4176.76790\n",
      "[3000]\tvalidation_0-rmse:4039.39276\n",
      "[4000]\tvalidation_0-rmse:3955.64432\n",
      "[5000]\tvalidation_0-rmse:3899.66701\n",
      "[6000]\tvalidation_0-rmse:3854.53707\n",
      "[7000]\tvalidation_0-rmse:3818.10727\n",
      "[8000]\tvalidation_0-rmse:3787.93047\n",
      "[9000]\tvalidation_0-rmse:3762.81525\n",
      "[10000]\tvalidation_0-rmse:3741.67545\n",
      "[11000]\tvalidation_0-rmse:3722.38326\n",
      "[12000]\tvalidation_0-rmse:3706.15208\n",
      "[13000]\tvalidation_0-rmse:3690.34502\n",
      "[14000]\tvalidation_0-rmse:3677.89511\n",
      "[15000]\tvalidation_0-rmse:3667.09353\n",
      "[16000]\tvalidation_0-rmse:3655.97781\n",
      "[17000]\tvalidation_0-rmse:3645.26995\n",
      "[18000]\tvalidation_0-rmse:3635.56272\n",
      "[19000]\tvalidation_0-rmse:3625.80621\n",
      "[20000]\tvalidation_0-rmse:3616.21834\n",
      "[21000]\tvalidation_0-rmse:3607.55157\n",
      "[22000]\tvalidation_0-rmse:3599.76433\n",
      "[22413]\tvalidation_0-rmse:3596.80693\n"
     ]
    },
    {
     "name": "stderr",
     "output_type": "stream",
     "text": [
      "[I 2024-09-13 07:00:33,033] Trial 8 finished with value: 3596.786766932317 and parameters: {'learning_rate': 0.030741653404632835, 'max_depth': 3, 'min_child_weight': 5, 'gamma': 0.021424965698175973, 'colsample_bytree': 0.44850503901891847, 'reg_alpha': 0.4186623722336174, 'reg_lambda': 0.531347639204047}. Best is trial 2 with value: 3293.5102830496303.\n"
     ]
    },
    {
     "name": "stdout",
     "output_type": "stream",
     "text": [
      "[0]\tvalidation_0-rmse:52962.14594\n",
      "[1000]\tvalidation_0-rmse:3468.79794\n",
      "[2000]\tvalidation_0-rmse:3380.66513\n",
      "[3000]\tvalidation_0-rmse:3340.92719\n",
      "[4000]\tvalidation_0-rmse:3317.60960\n",
      "[5000]\tvalidation_0-rmse:3303.46589\n",
      "[6000]\tvalidation_0-rmse:3294.25444\n",
      "[6618]\tvalidation_0-rmse:3288.95306\n"
     ]
    },
    {
     "name": "stderr",
     "output_type": "stream",
     "text": [
      "[I 2024-09-13 07:14:02,615] Trial 9 finished with value: 3288.939801874509 and parameters: {'learning_rate': 0.008830139045133923, 'max_depth': 12, 'min_child_weight': 6, 'gamma': 0.01730666445354706, 'colsample_bytree': 0.6705039060878218, 'reg_alpha': 0.0002489023279750477, 'reg_lambda': 0.254477859158967}. Best is trial 9 with value: 3288.939801874509.\n"
     ]
    },
    {
     "name": "stdout",
     "output_type": "stream",
     "text": [
      "[0]\tvalidation_0-rmse:48516.26892\n",
      "[1000]\tvalidation_0-rmse:3356.83102\n"
     ]
    },
    {
     "name": "stderr",
     "output_type": "stream",
     "text": [
      "[I 2024-09-13 07:15:50,987] Trial 10 finished with value: 3356.4471859530745 and parameters: {'learning_rate': 0.09255159460232132, 'max_depth': 10, 'min_child_weight': 4, 'gamma': 0.0044649227557944605, 'colsample_bytree': 0.8722613811041895, 'reg_alpha': 0.00010846811597153689, 'reg_lambda': 0.003221669444056658}. Best is trial 9 with value: 3288.939801874509.\n"
     ]
    },
    {
     "name": "stdout",
     "output_type": "stream",
     "text": [
      "[0]\tvalidation_0-rmse:53364.99828\n",
      "[1000]\tvalidation_0-rmse:15886.85308\n",
      "[2000]\tvalidation_0-rmse:5822.99058\n",
      "[3000]\tvalidation_0-rmse:3882.92448\n",
      "[4000]\tvalidation_0-rmse:3619.11581\n",
      "[5000]\tvalidation_0-rmse:3549.86827\n",
      "[6000]\tvalidation_0-rmse:3509.35487\n",
      "[7000]\tvalidation_0-rmse:3481.65541\n",
      "[8000]\tvalidation_0-rmse:3461.04440\n",
      "[9000]\tvalidation_0-rmse:3444.80100\n",
      "[10000]\tvalidation_0-rmse:3431.63972\n",
      "[11000]\tvalidation_0-rmse:3421.28807\n",
      "[12000]\tvalidation_0-rmse:3411.07831\n",
      "[13000]\tvalidation_0-rmse:3400.50534\n",
      "[14000]\tvalidation_0-rmse:3391.46734\n",
      "[15000]\tvalidation_0-rmse:3383.94381\n",
      "[16000]\tvalidation_0-rmse:3377.11583\n",
      "[17000]\tvalidation_0-rmse:3371.01177\n",
      "[18000]\tvalidation_0-rmse:3365.33382\n",
      "[19000]\tvalidation_0-rmse:3360.41977\n",
      "[20000]\tvalidation_0-rmse:3356.44701\n",
      "[21000]\tvalidation_0-rmse:3352.64354\n",
      "[22000]\tvalidation_0-rmse:3347.94604\n",
      "[23000]\tvalidation_0-rmse:3344.56504\n",
      "[24000]\tvalidation_0-rmse:3340.80461\n",
      "[25000]\tvalidation_0-rmse:3337.56585\n",
      "[26000]\tvalidation_0-rmse:3334.37177\n",
      "[27000]\tvalidation_0-rmse:3331.53991\n",
      "[28000]\tvalidation_0-rmse:3329.20100\n",
      "[29000]\tvalidation_0-rmse:3327.10441\n",
      "[30000]\tvalidation_0-rmse:3325.13923\n",
      "[31000]\tvalidation_0-rmse:3323.01866\n",
      "[32000]\tvalidation_0-rmse:3321.00144\n",
      "[33000]\tvalidation_0-rmse:3319.10349\n",
      "[33144]\tvalidation_0-rmse:3318.89372\n"
     ]
    },
    {
     "name": "stderr",
     "output_type": "stream",
     "text": [
      "[I 2024-09-13 08:23:26,489] Trial 11 finished with value: 3318.8839313862754 and parameters: {'learning_rate': 0.0012386680517441778, 'max_depth': 12, 'min_child_weight': 10, 'gamma': 0.009716340807768656, 'colsample_bytree': 0.6377865000676443, 'reg_alpha': 0.0001428558469890162, 'reg_lambda': 0.006764281891331671}. Best is trial 9 with value: 3288.939801874509.\n"
     ]
    },
    {
     "name": "stdout",
     "output_type": "stream",
     "text": [
      "[0]\tvalidation_0-rmse:53364.96537\n",
      "[1000]\tvalidation_0-rmse:15895.70869\n",
      "[2000]\tvalidation_0-rmse:5868.27268\n",
      "[3000]\tvalidation_0-rmse:3944.57396\n",
      "[4000]\tvalidation_0-rmse:3677.29341\n",
      "[5000]\tvalidation_0-rmse:3603.31388\n",
      "[6000]\tvalidation_0-rmse:3562.12038\n",
      "[7000]\tvalidation_0-rmse:3530.97463\n",
      "[8000]\tvalidation_0-rmse:3508.30033\n",
      "[9000]\tvalidation_0-rmse:3492.53487\n",
      "[10000]\tvalidation_0-rmse:3478.95158\n",
      "[11000]\tvalidation_0-rmse:3467.99328\n",
      "[12000]\tvalidation_0-rmse:3458.45913\n",
      "[13000]\tvalidation_0-rmse:3448.84037\n",
      "[14000]\tvalidation_0-rmse:3440.21068\n",
      "[15000]\tvalidation_0-rmse:3431.51352\n",
      "[16000]\tvalidation_0-rmse:3423.85437\n",
      "[17000]\tvalidation_0-rmse:3417.37356\n",
      "[18000]\tvalidation_0-rmse:3411.73976\n",
      "[19000]\tvalidation_0-rmse:3406.45118\n",
      "[20000]\tvalidation_0-rmse:3401.62617\n",
      "[21000]\tvalidation_0-rmse:3396.70903\n",
      "[22000]\tvalidation_0-rmse:3391.36122\n",
      "[23000]\tvalidation_0-rmse:3387.48879\n",
      "[24000]\tvalidation_0-rmse:3383.25795\n",
      "[25000]\tvalidation_0-rmse:3378.37539\n",
      "[26000]\tvalidation_0-rmse:3375.12639\n",
      "[27000]\tvalidation_0-rmse:3371.34582\n",
      "[28000]\tvalidation_0-rmse:3367.93805\n",
      "[29000]\tvalidation_0-rmse:3364.30275\n",
      "[30000]\tvalidation_0-rmse:3361.24030\n",
      "[31000]\tvalidation_0-rmse:3358.56891\n",
      "[32000]\tvalidation_0-rmse:3356.05854\n",
      "[33000]\tvalidation_0-rmse:3353.72226\n",
      "[34000]\tvalidation_0-rmse:3351.71595\n",
      "[35000]\tvalidation_0-rmse:3349.32051\n",
      "[36000]\tvalidation_0-rmse:3346.92661\n",
      "[37000]\tvalidation_0-rmse:3344.46755\n",
      "[38000]\tvalidation_0-rmse:3342.27459\n",
      "[39000]\tvalidation_0-rmse:3340.52170\n",
      "[40000]\tvalidation_0-rmse:3338.75432\n",
      "[41000]\tvalidation_0-rmse:3337.10879\n",
      "[42000]\tvalidation_0-rmse:3335.74198\n",
      "[43000]\tvalidation_0-rmse:3334.51394\n",
      "[44000]\tvalidation_0-rmse:3333.11484\n",
      "[45000]\tvalidation_0-rmse:3331.64751\n",
      "[45581]\tvalidation_0-rmse:3331.15451\n"
     ]
    },
    {
     "name": "stderr",
     "output_type": "stream",
     "text": [
      "[I 2024-09-13 09:53:32,193] Trial 12 finished with value: 3331.148438043154 and parameters: {'learning_rate': 0.0012391954223833696, 'max_depth': 11, 'min_child_weight': 3, 'gamma': 0.012318717038533471, 'colsample_bytree': 0.8020871813838039, 'reg_alpha': 0.0008367835099811545, 'reg_lambda': 0.026581056419018298}. Best is trial 9 with value: 3288.939801874509.\n"
     ]
    },
    {
     "name": "stdout",
     "output_type": "stream",
     "text": [
      "[0]\tvalidation_0-rmse:53281.80250\n",
      "[1000]\tvalidation_0-rmse:4897.57536\n",
      "[2000]\tvalidation_0-rmse:3564.81110\n",
      "[3000]\tvalidation_0-rmse:3475.89165\n",
      "[4000]\tvalidation_0-rmse:3432.11165\n",
      "[5000]\tvalidation_0-rmse:3406.42391\n",
      "[6000]\tvalidation_0-rmse:3386.12259\n",
      "[7000]\tvalidation_0-rmse:3370.44130\n",
      "[8000]\tvalidation_0-rmse:3357.46677\n",
      "[9000]\tvalidation_0-rmse:3347.01733\n",
      "[10000]\tvalidation_0-rmse:3337.23279\n",
      "[11000]\tvalidation_0-rmse:3330.02285\n",
      "[12000]\tvalidation_0-rmse:3324.32212\n",
      "[13000]\tvalidation_0-rmse:3319.80215\n",
      "[14000]\tvalidation_0-rmse:3316.38339\n",
      "[15000]\tvalidation_0-rmse:3312.25495\n",
      "[16000]\tvalidation_0-rmse:3309.21821\n",
      "[16158]\tvalidation_0-rmse:3308.89570\n"
     ]
    },
    {
     "name": "stderr",
     "output_type": "stream",
     "text": [
      "[I 2024-09-13 10:26:55,274] Trial 13 finished with value: 3308.874359910568 and parameters: {'learning_rate': 0.0028037697665779446, 'max_depth': 12, 'min_child_weight': 6, 'gamma': 0.0012940687187252568, 'colsample_bytree': 0.6323190991378431, 'reg_alpha': 0.04436462408705523, 'reg_lambda': 0.001427818027213409}. Best is trial 9 with value: 3288.939801874509.\n"
     ]
    },
    {
     "name": "stdout",
     "output_type": "stream",
     "text": [
      "[0]\tvalidation_0-rmse:53284.67403\n",
      "[1000]\tvalidation_0-rmse:5282.65406\n",
      "[2000]\tvalidation_0-rmse:3829.45696\n",
      "[3000]\tvalidation_0-rmse:3701.22490\n",
      "[4000]\tvalidation_0-rmse:3639.15995\n",
      "[5000]\tvalidation_0-rmse:3592.49959\n",
      "[6000]\tvalidation_0-rmse:3557.50944\n",
      "[7000]\tvalidation_0-rmse:3530.16766\n"
     ]
    }
   ],
   "source": [
    "# Split the data into training and test sets\n",
    "X_train_full, X_test, y_train_full, y_test = train_test_split(X, y, test_size=0.2, random_state=42)\n",
    "X_train, X_val, y_train, y_val = train_test_split(X_train_full, y_train_full, test_size=0.2, random_state=42)\n",
    "\n",
    "# Define the objective function to be used by Optuna for hyperparameter optimization\n",
    "def objective(trial):\n",
    "    # Suggest values for the hyperparameters to be optimized\n",
    "    params = {\n",
    "        'objective': 'reg:squarederror',\n",
    "        'random_state': 42,\n",
    "        'n_estimators': 1_000_000,  # Set a high value to allow early stopping\n",
    "        'learning_rate': trial.suggest_float('learning_rate', 1e-3, 0.1, log=True),\n",
    "        'max_depth': trial.suggest_int('max_depth', 3, 15),\n",
    "        'min_child_weight': trial.suggest_int('min_child_weight', 1, 10),\n",
    "        'gamma': trial.suggest_float('gamma', 1e-3, 1.0, log=True),\n",
    "        'subsample': 1.0,\n",
    "        'colsample_bytree': trial.suggest_float('colsample_bytree', 0.4, 1.0),\n",
    "        'reg_alpha': trial.suggest_float('reg_alpha', 1e-4, 1.0, log=True),\n",
    "        'reg_lambda': trial.suggest_float('reg_lambda', 1e-4, 1.0, log=True),\n",
    "        'n_jobs': n_jobs,\n",
    "        'eval_metric': 'rmse',  # Move eval_metric to the constructor\n",
    "        'early_stopping_rounds': 20  # Move early_stopping_rounds to the constructor\n",
    "    }\n",
    "    \n",
    "    # Initialize the model with the suggested parameters\n",
    "    model = XGBRegressor(**params)\n",
    "    \n",
    "    # Train the model with early stopping\n",
    "    model.fit(\n",
    "        X_train, y_train,\n",
    "        eval_set=[(X_val, y_val)],\n",
    "        verbose=1000\n",
    "    )\n",
    "    \n",
    "    # Make predictions and calculate the error on the validation set\n",
    "    preds = model.predict(X_val)\n",
    "    rmse = np.sqrt(mean_squared_error(y_val, preds))\n",
    "    \n",
    "    return rmse\n",
    "\n",
    "# Start the study with Optuna\n",
    "study = optuna.create_study(direction='minimize')  # Minimize the RMSE\n",
    "study.optimize(objective, n_trials=50)  # Adjust the number of trials as necessary\n",
    "\n",
    "# Display the best hyperparameters found\n",
    "print(f\"Best trial: {study.best_trial.params}\")\n",
    "\n",
    "# Train the final model with the best parameters\n",
    "best_params = study.best_trial.params\n",
    "best_model = XGBRegressor(\n",
    "    **best_params,\n",
    "    objective='reg:squarederror',\n",
    "    random_state=42,\n",
    "    n_estimators=1_000_000,\n",
    "    n_jobs=n_jobs\n",
    ")\n",
    "\n",
    "# Train the model with early stopping\n",
    "best_model.fit(\n",
    "    X_train, y_train,\n",
    "    eval_set=[(X_val, y_val)],\n",
    "    verbose=500\n",
    ")\n",
    "\n",
    "# Update the n_estimators parameter with the best value found\n",
    "best_params['n_estimators'] = best_model.best_iteration + 1\n",
    "\n",
    "# Evaluate the performance on the test set\n",
    "y_pred = best_model.predict(X_test)\n",
    "r2 = r2_score(y_test, y_pred)\n",
    "rmse = np.sqrt(mean_squared_error(y_test, y_pred))\n",
    "\n",
    "print(f\"Best Model Performance - R^2 Score: {r2:.4f}, RMSE: {rmse:.4f}\")\n",
    "print(f\"Updated best_params: {best_params}\")\n"
   ]
  },
  {
   "cell_type": "code",
   "execution_count": null,
   "id": "af9cc69f-c81a-4e13-a47a-43ecfc901801",
   "metadata": {},
   "outputs": [],
   "source": [
    "# Save R², RMSE, and hyperparameters\n",
    "results = {\n",
    "    'R2': float(r2),\n",
    "    'RMSE': float(rmse),\n",
    "    'Best Parameters': {key: (int(value) if isinstance(value, np.integer) else float(value)\n",
    "                              if isinstance(value, np.floating) else value)\n",
    "                        for key, value in best_params.items()}\n",
    "}\n",
    "\n",
    "# Set timezone to São Paulo (UTC-3)\n",
    "saopaulo_tz = pytz.timezone('America/Sao_Paulo')\n",
    "timestamp = datetime.now(saopaulo_tz).strftime('%Y%m%d_%H%M%S')\n",
    "\n",
    "# Define logs directory, and create them if they don't exist\n",
    "logs_dir = 'logs'\n",
    "os.makedirs(logs_dir, exist_ok=True)\n",
    "\n",
    "# Define file paths within the respective directories\n",
    "results_file = os.path.join(logs_dir, f'model_results_{timestamp}.txt')\n",
    "\n",
    "# Save the results to a TXT file\n",
    "with open(results_file, 'w') as file:\n",
    "    file.write(f\"R2: {results['R2']}\\n\")\n",
    "    file.write(f\"RMSE: {results['RMSE']}\\n\")\n",
    "    file.write(\"Best Parameters:\\n\")\n",
    "    for param, value in results['Best Parameters'].items():\n",
    "        file.write(f\"  {param}: {value}\\n\")\n",
    "\n",
    "print(f\"Results saved to {results_file}\")"
   ]
  },
  {
   "cell_type": "code",
   "execution_count": null,
   "id": "fa803af4-452f-4f19-97b0-e1a5e69bf4bc",
   "metadata": {},
   "outputs": [],
   "source": [
    "# Display evaluation metrics\n",
    "print(f\"Final Model Performance - R^2 Score: {r2:.4f}, RMSE: {rmse:.4f}\")"
   ]
  },
  {
   "cell_type": "code",
   "execution_count": null,
   "id": "bcc4fe08-cc67-4d28-8787-554c7e05917a",
   "metadata": {},
   "outputs": [],
   "source": [
    "# Define models directory, and create them if they don't exist\n",
    "models_dir = 'models'\n",
    "os.makedirs(models_dir, exist_ok=True)\n",
    "\n",
    "# Train the final model using the full training+validation+test set with the optimal n_estimators\n",
    "final_model = XGBRegressor(**best_params, objective='reg:squarederror', random_state=42, n_jobs=n_jobs)\n",
    "\n",
    "# Train the model on the entire training+validation+set data\n",
    "final_model.fit(X, y, verbose=True)\n",
    "\n",
    "print(\"Final model trained successfully using all available data.\")"
   ]
  },
  {
   "cell_type": "code",
   "execution_count": null,
   "id": "f4865b87-8fb4-4d17-b844-4813da8d2f64",
   "metadata": {},
   "outputs": [],
   "source": [
    "# Define file paths within the respective directories\n",
    "model_file = os.path.join(models_dir, f'trained_model_{timestamp}.joblib')\n",
    "\n",
    "# Save the trained model to a file in the models folder\n",
    "joblib.dump(final_model, model_file)\n",
    "print(f\"Model saved to {model_file}\")"
   ]
  },
  {
   "cell_type": "code",
   "execution_count": null,
   "id": "53a5ee28-9a58-4fe5-9493-89c605857c8a",
   "metadata": {},
   "outputs": [],
   "source": [
    "# Use the final model to predict the `tow` for the submission_set_updated\n",
    "submission_set_features = submission_set_updated.iloc[:,:-1]\n",
    "submission_set['tow'] = final_model.predict(submission_set_features)\n",
    "\n",
    "submission_set"
   ]
  },
  {
   "cell_type": "code",
   "execution_count": null,
   "id": "b7f6b3f7-cda5-423f-94bf-142e5292267e",
   "metadata": {},
   "outputs": [],
   "source": [
    "submission_set['tow'].describe()"
   ]
  },
  {
   "cell_type": "code",
   "execution_count": null,
   "id": "79719f98-a070-45c0-adc1-d2be8a889828",
   "metadata": {},
   "outputs": [],
   "source": [
    "challenge_set_updated['tow'].describe()"
   ]
  },
  {
   "cell_type": "code",
   "execution_count": null,
   "id": "598c600c-c2d2-46f2-a9da-e71acc696e08",
   "metadata": {},
   "outputs": [],
   "source": [
    "# Define the submissions directory and create it if it doesn't exist\n",
    "submissions_dir = 'submissions'\n",
    "os.makedirs(submissions_dir, exist_ok=True)\n",
    "\n",
    "# Save the submission with a timestamp in the filename\n",
    "submission_file = os.path.join(submissions_dir, f\"submission_{timestamp}.csv\")\n",
    "submission_set.to_csv(submission_file, index=False)"
   ]
  },
  {
   "cell_type": "code",
   "execution_count": null,
   "id": "e5d09b39-f2e1-40bc-a872-c30927657332",
   "metadata": {},
   "outputs": [],
   "source": []
  }
 ],
 "metadata": {
  "kernelspec": {
   "display_name": "Python [conda env:base] *",
   "language": "python",
   "name": "conda-base-py"
  },
  "language_info": {
   "codemirror_mode": {
    "name": "ipython",
    "version": 3
   },
   "file_extension": ".py",
   "mimetype": "text/x-python",
   "name": "python",
   "nbconvert_exporter": "python",
   "pygments_lexer": "ipython3",
   "version": "3.9.10"
  }
 },
 "nbformat": 4,
 "nbformat_minor": 5
}
