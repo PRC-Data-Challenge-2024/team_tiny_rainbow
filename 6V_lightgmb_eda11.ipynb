{
 "cells": [
  {
   "cell_type": "code",
   "execution_count": 1,
   "metadata": {},
   "outputs": [
    {
     "name": "stderr",
     "output_type": "stream",
     "text": [
      "/home/carolima/.local/lib/python3.10/site-packages/tqdm/auto.py:21: TqdmWarning: IProgress not found. Please update jupyter and ipywidgets. See https://ipywidgets.readthedocs.io/en/stable/user_install.html\n",
      "  from .autonotebook import tqdm as notebook_tqdm\n"
     ]
    }
   ],
   "source": [
    "from sklearn.model_selection import train_test_split\n",
    "import pandas as pd\n",
    "import numpy as np\n",
    "import lightgbm as lgb\n",
    "from sklearn.metrics import mean_squared_error\n",
    "import optuna"
   ]
  },
  {
   "cell_type": "code",
   "execution_count": 2,
   "metadata": {},
   "outputs": [],
   "source": [
    "# Load the dataset after the exploratory data analysis\n",
    "challenge_set_updated = pd.read_csv(\"./data/challenge_set_updated_v9_median.csv\")\n",
    "submission_set = pd.read_csv(\"./data/submission_set.csv\")\n",
    "submission_set_updated = pd.read_csv(\"./data/submission_set_updated_v9_median.csv\")\n",
    "\n"
   ]
  },
  {
   "cell_type": "code",
   "execution_count": 3,
   "metadata": {},
   "outputs": [],
   "source": [
    "# Separating features and target variable\n",
    "X = challenge_set_updated.drop('tow', axis=1)\n",
    "y = challenge_set_updated['tow']"
   ]
  },
  {
   "cell_type": "code",
   "execution_count": 4,
   "metadata": {},
   "outputs": [],
   "source": [
    "# Dropping unnecessary columns\n",
    "to_drop = [\n",
    "    'offblock_to_arrival_duration', 'normalized_taxi_ratio', 'MALW_kg', 'wind_distance_ARR_100', \n",
    "    'average_airspeed_ARR_100', 'track_variation_ARR_100', 'is_offblock_weekend', 'Num_Engines', \n",
    "    'flown_distance_ARR_100', 'average_humidity_ARR_100', 'average_temperature_ARR_100', \n",
    "    'arrival_minute', 'track_variation_ENR', 'groundspeed_ARR_100', 'average_vertical_rate_ARR_100', \n",
    "    'taxiout_time', 'offblock_minute', \n",
    "    'average_airspeed_ENR', 'specific_energy_ENR', 'taxi_ratio',  \n",
    "    'specific_energy_ARR_100', 'is_offblock_rush_hour', 'wind_distance_ENR', 'groundspeed_ENR', \n",
    "    'altitude_difference', 'average_vertical_rate_ENR', 'bearing', 'Altitude_ades'\n",
    "]\n",
    "\n",
    "\n",
    "X.drop(to_drop, axis=1, inplace=True)"
   ]
  },
  {
   "cell_type": "code",
   "execution_count": 5,
   "metadata": {},
   "outputs": [],
   "source": [
    "cat_names = [\n",
    "    'adep', 'ades', 'aircraft_type', 'wtc', 'airline', 'offblock_hour', 'offblock_minute', \n",
    "    'offblock_day_of_week', 'offblock_month', 'offblock_week_of_year', 'offblock_season', \n",
    "    'arrival_hour', 'arrival_minute', 'is_offblock_weekend', 'is_offblock_rush_hour', \n",
    "    'flight_duration_category', 'adep_region', 'ades_region', 'same_country_flight', \n",
    "    'same_region_flight', 'flight_direction', 'is_intercontinental', 'Manufacturer', \n",
    "    'Model_FAA', 'Physical_Class_Engine', 'FAA_Weight', 'adep_geo_cluster', 'ades_geo_cluster'\n",
    "]\n",
    "\n",
    "# Filtering categorical features that are still present after dropping columns\n",
    "selected_cat_names = [x for x in cat_names if x not in to_drop]"
   ]
  },
  {
   "cell_type": "code",
   "execution_count": 6,
   "metadata": {},
   "outputs": [],
   "source": [
    "import pandas as pd\n",
    "from sklearn.preprocessing import LabelEncoder\n",
    "\n",
    "# Handle categorical columns by Label Encoding\n",
    "label_encoder = LabelEncoder()\n",
    "\n",
    "# Specify the columns that are categorical\n",
    "categorical_cols = ['adep', 'ades', 'aircraft_type', 'wtc', 'airline', 'offblock_season', \n",
    "                    'flight_duration_category', 'adep_region', 'ades_region', 'flight_direction', \n",
    "                    'Manufacturer', 'Model_FAA', 'Physical_Class_Engine', 'FAA_Weight']\n",
    "\n",
    "# Convert these categorical columns into numerical form using Label Encoding\n",
    "for col in categorical_cols:\n",
    "    X[col] = label_encoder.fit_transform(X[col])\n",
    "\n",
    "# Now, you can proceed with training LightGBM with this processed data\n"
   ]
  },
  {
   "cell_type": "code",
   "execution_count": 7,
   "metadata": {},
   "outputs": [],
   "source": [
    "# Splitting the data into training and validation sets\n",
    "X_train, X_val, y_train, y_val = train_test_split(X, y, test_size=0.2, random_state=42)\n",
    "\n",
    "# Identify categorical feature indices for LightGBM\n",
    "cat_feature_indices = [X_train.columns.get_loc(col) for col in selected_cat_names if col in X_train.columns]\n",
    "\n",
    "# Define the objective function for hyperparameter tuning with Optuna\n",
    "def objective(trial):\n",
    "    params = {\n",
    "        'objective': 'regression',\n",
    "        'metric': 'rmse',\n",
    "        'verbosity': -1,\n",
    "        'boosting_type': 'gbdt',\n",
    "        'learning_rate': trial.suggest_float('learning_rate', 0.01, 0.1),\n",
    "        'num_leaves': trial.suggest_int('num_leaves', 20, 3000),\n",
    "        'max_depth': trial.suggest_int('max_depth', 3, 15),\n",
    "        'min_data_in_leaf': trial.suggest_int('min_data_in_leaf', 1, 100),\n",
    "        'feature_fraction': trial.suggest_float('feature_fraction', 0.4, 1.0),\n",
    "        'bagging_fraction': trial.suggest_float('bagging_fraction', 0.4, 1.0),\n",
    "        'lambda_l1': trial.suggest_float('lambda_l1', 0.0, 10.0),\n",
    "        'lambda_l2': trial.suggest_float('lambda_l2', 0.0, 10.0),\n",
    "        'min_gain_to_split': trial.suggest_float('min_gain_to_split', 0.0, 0.2),\n",
    "        'min_child_weight': trial.suggest_float('min_child_weight', 0.0, 10.0),\n",
    "        'device_type': 'gpu',  # Use GPU for training\n",
    "\n",
    "    }\n",
    "\n",
    "    model = lgb.LGBMRegressor(**params, n_estimators=5000)\n",
    "\n",
    "    model.fit(\n",
    "        X_train, y_train,\n",
    "        eval_set=[(X_val, y_val)],\n",
    "        eval_metric='rmse',\n",
    "        callbacks=[lgb.early_stopping(stopping_rounds=50)],\n",
    "        categorical_feature=cat_feature_indices\n",
    "    )\n",
    "    \n",
    "    val_pred = model.predict(X_val)\n",
    "    rmse = mean_squared_error(y_val, val_pred, squared=False)\n",
    "    \n",
    "    return rmse"
   ]
  },
  {
   "cell_type": "code",
   "execution_count": 8,
   "metadata": {},
   "outputs": [
    {
     "name": "stderr",
     "output_type": "stream",
     "text": [
      "[I 2024-09-25 11:17:04,340] A new study created in memory with name: no-name-1d30e969-a543-46a8-a9f1-6a201312e5c8\n"
     ]
    },
    {
     "name": "stdout",
     "output_type": "stream",
     "text": [
      "Training until validation scores don't improve for 50 rounds\n",
      "Early stopping, best iteration is:\n",
      "[2606]\tvalid_0's rmse: 2708.85\n"
     ]
    },
    {
     "name": "stderr",
     "output_type": "stream",
     "text": [
      "/home/carolima/.local/lib/python3.10/site-packages/sklearn/metrics/_regression.py:492: FutureWarning: 'squared' is deprecated in version 1.4 and will be removed in 1.6. To calculate the root mean squared error, use the function'root_mean_squared_error'.\n",
      "  warnings.warn(\n",
      "[I 2024-09-25 11:17:20,147] Trial 0 finished with value: 2708.8505588056096 and parameters: {'learning_rate': 0.06824013703023082, 'num_leaves': 568, 'max_depth': 7, 'min_data_in_leaf': 26, 'feature_fraction': 0.7645742084353451, 'bagging_fraction': 0.762039990749708, 'lambda_l1': 4.0172032540830855, 'lambda_l2': 3.1558944189389737, 'min_gain_to_split': 0.1505361144667464, 'min_child_weight': 5.673169545674453}. Best is trial 0 with value: 2708.8505588056096.\n"
     ]
    },
    {
     "name": "stdout",
     "output_type": "stream",
     "text": [
      "Training until validation scores don't improve for 50 rounds\n",
      "Early stopping, best iteration is:\n",
      "[3188]\tvalid_0's rmse: 2710.54\n"
     ]
    },
    {
     "name": "stderr",
     "output_type": "stream",
     "text": [
      "/home/carolima/.local/lib/python3.10/site-packages/sklearn/metrics/_regression.py:492: FutureWarning: 'squared' is deprecated in version 1.4 and will be removed in 1.6. To calculate the root mean squared error, use the function'root_mean_squared_error'.\n",
      "  warnings.warn(\n",
      "[I 2024-09-25 11:17:41,121] Trial 1 finished with value: 2710.539239300816 and parameters: {'learning_rate': 0.09482995200078194, 'num_leaves': 2931, 'max_depth': 7, 'min_data_in_leaf': 53, 'feature_fraction': 0.40083426098264774, 'bagging_fraction': 0.9495950196575347, 'lambda_l1': 7.796807558927977, 'lambda_l2': 9.05108001278872, 'min_gain_to_split': 0.17753972404427532, 'min_child_weight': 9.285691009651972}. Best is trial 0 with value: 2708.8505588056096.\n"
     ]
    },
    {
     "name": "stdout",
     "output_type": "stream",
     "text": [
      "Training until validation scores don't improve for 50 rounds\n",
      "Early stopping, best iteration is:\n",
      "[2797]\tvalid_0's rmse: 2723.22\n"
     ]
    },
    {
     "name": "stderr",
     "output_type": "stream",
     "text": [
      "/home/carolima/.local/lib/python3.10/site-packages/sklearn/metrics/_regression.py:492: FutureWarning: 'squared' is deprecated in version 1.4 and will be removed in 1.6. To calculate the root mean squared error, use the function'root_mean_squared_error'.\n",
      "  warnings.warn(\n",
      "[I 2024-09-25 11:18:02,670] Trial 2 finished with value: 2723.216718314271 and parameters: {'learning_rate': 0.058245521635027546, 'num_leaves': 1255, 'max_depth': 7, 'min_data_in_leaf': 14, 'feature_fraction': 0.9341295608471015, 'bagging_fraction': 0.6974294892915671, 'lambda_l1': 5.669402065443439, 'lambda_l2': 9.278583241518115, 'min_gain_to_split': 0.04138080497925545, 'min_child_weight': 8.306677092263289}. Best is trial 0 with value: 2708.8505588056096.\n"
     ]
    },
    {
     "name": "stdout",
     "output_type": "stream",
     "text": [
      "Training until validation scores don't improve for 50 rounds\n",
      "Did not meet early stopping. Best iteration is:\n",
      "[5000]\tvalid_0's rmse: 3072.69\n"
     ]
    },
    {
     "name": "stderr",
     "output_type": "stream",
     "text": [
      "/home/carolima/.local/lib/python3.10/site-packages/sklearn/metrics/_regression.py:492: FutureWarning: 'squared' is deprecated in version 1.4 and will be removed in 1.6. To calculate the root mean squared error, use the function'root_mean_squared_error'.\n",
      "  warnings.warn(\n",
      "[I 2024-09-25 11:18:11,576] Trial 3 finished with value: 3072.6885173831247 and parameters: {'learning_rate': 0.027267006964760122, 'num_leaves': 2223, 'max_depth': 3, 'min_data_in_leaf': 5, 'feature_fraction': 0.5513444704607725, 'bagging_fraction': 0.4921562579754231, 'lambda_l1': 1.8047041775534112, 'lambda_l2': 4.558295966875978, 'min_gain_to_split': 0.13235097146573044, 'min_child_weight': 5.846507109068744}. Best is trial 0 with value: 2708.8505588056096.\n"
     ]
    },
    {
     "name": "stdout",
     "output_type": "stream",
     "text": [
      "Training until validation scores don't improve for 50 rounds\n",
      "Early stopping, best iteration is:\n",
      "[1550]\tvalid_0's rmse: 2723\n"
     ]
    },
    {
     "name": "stderr",
     "output_type": "stream",
     "text": [
      "/home/carolima/.local/lib/python3.10/site-packages/sklearn/metrics/_regression.py:492: FutureWarning: 'squared' is deprecated in version 1.4 and will be removed in 1.6. To calculate the root mean squared error, use the function'root_mean_squared_error'.\n",
      "  warnings.warn(\n",
      "[I 2024-09-25 11:18:28,593] Trial 4 finished with value: 2723.0008646272 and parameters: {'learning_rate': 0.08536505437362495, 'num_leaves': 825, 'max_depth': 8, 'min_data_in_leaf': 32, 'feature_fraction': 0.9080277365974212, 'bagging_fraction': 0.5677706461363927, 'lambda_l1': 0.5354447010126018, 'lambda_l2': 3.0166039620308602, 'min_gain_to_split': 0.09600392329395449, 'min_child_weight': 3.0205568356102654}. Best is trial 0 with value: 2708.8505588056096.\n"
     ]
    },
    {
     "name": "stdout",
     "output_type": "stream",
     "text": [
      "Training until validation scores don't improve for 50 rounds\n",
      "Did not meet early stopping. Best iteration is:\n",
      "[4992]\tvalid_0's rmse: 2693.6\n"
     ]
    },
    {
     "name": "stderr",
     "output_type": "stream",
     "text": [
      "/home/carolima/.local/lib/python3.10/site-packages/sklearn/metrics/_regression.py:492: FutureWarning: 'squared' is deprecated in version 1.4 and will be removed in 1.6. To calculate the root mean squared error, use the function'root_mean_squared_error'.\n",
      "  warnings.warn(\n",
      "[I 2024-09-25 11:19:05,363] Trial 5 finished with value: 2693.598551324118 and parameters: {'learning_rate': 0.0348869695013039, 'num_leaves': 113, 'max_depth': 10, 'min_data_in_leaf': 59, 'feature_fraction': 0.7884848137382204, 'bagging_fraction': 0.8724082867814367, 'lambda_l1': 1.87255114459271, 'lambda_l2': 5.345579585792784, 'min_gain_to_split': 0.06198318801538272, 'min_child_weight': 0.8869979318310584}. Best is trial 5 with value: 2693.598551324118.\n"
     ]
    },
    {
     "name": "stdout",
     "output_type": "stream",
     "text": [
      "Training until validation scores don't improve for 50 rounds\n",
      "Early stopping, best iteration is:\n",
      "[2005]\tvalid_0's rmse: 2685.82\n"
     ]
    },
    {
     "name": "stderr",
     "output_type": "stream",
     "text": [
      "/home/carolima/.local/lib/python3.10/site-packages/sklearn/metrics/_regression.py:492: FutureWarning: 'squared' is deprecated in version 1.4 and will be removed in 1.6. To calculate the root mean squared error, use the function'root_mean_squared_error'.\n",
      "  warnings.warn(\n",
      "[I 2024-09-25 11:19:58,957] Trial 6 finished with value: 2685.8223051739274 and parameters: {'learning_rate': 0.0501424941382079, 'num_leaves': 405, 'max_depth': 14, 'min_data_in_leaf': 22, 'feature_fraction': 0.6426953935489712, 'bagging_fraction': 0.8849347168267577, 'lambda_l1': 4.000809799575446, 'lambda_l2': 5.529708620372766, 'min_gain_to_split': 0.1450262758410169, 'min_child_weight': 0.5737650878136513}. Best is trial 6 with value: 2685.8223051739274.\n"
     ]
    },
    {
     "name": "stdout",
     "output_type": "stream",
     "text": [
      "Training until validation scores don't improve for 50 rounds\n",
      "Early stopping, best iteration is:\n",
      "[1088]\tvalid_0's rmse: 2708.49\n"
     ]
    },
    {
     "name": "stderr",
     "output_type": "stream",
     "text": [
      "/home/carolima/.local/lib/python3.10/site-packages/sklearn/metrics/_regression.py:492: FutureWarning: 'squared' is deprecated in version 1.4 and will be removed in 1.6. To calculate the root mean squared error, use the function'root_mean_squared_error'.\n",
      "  warnings.warn(\n",
      "[I 2024-09-25 11:20:42,357] Trial 7 finished with value: 2708.494183005438 and parameters: {'learning_rate': 0.07036203438720712, 'num_leaves': 929, 'max_depth': 12, 'min_data_in_leaf': 24, 'feature_fraction': 0.8203154537548751, 'bagging_fraction': 0.7985710148762004, 'lambda_l1': 8.57800813126953, 'lambda_l2': 5.868547766831989, 'min_gain_to_split': 0.005484258911301332, 'min_child_weight': 0.40625478591800324}. Best is trial 6 with value: 2685.8223051739274.\n"
     ]
    },
    {
     "name": "stdout",
     "output_type": "stream",
     "text": [
      "Training until validation scores don't improve for 50 rounds\n",
      "Did not meet early stopping. Best iteration is:\n",
      "[5000]\tvalid_0's rmse: 3063.57\n"
     ]
    },
    {
     "name": "stderr",
     "output_type": "stream",
     "text": [
      "/home/carolima/.local/lib/python3.10/site-packages/sklearn/metrics/_regression.py:492: FutureWarning: 'squared' is deprecated in version 1.4 and will be removed in 1.6. To calculate the root mean squared error, use the function'root_mean_squared_error'.\n",
      "  warnings.warn(\n",
      "[I 2024-09-25 11:20:52,206] Trial 8 finished with value: 3063.5666052943925 and parameters: {'learning_rate': 0.029755320322083265, 'num_leaves': 1833, 'max_depth': 3, 'min_data_in_leaf': 73, 'feature_fraction': 0.4515728280518596, 'bagging_fraction': 0.49191976942670224, 'lambda_l1': 3.2745486135130406, 'lambda_l2': 1.579029403252653, 'min_gain_to_split': 0.18320419714681396, 'min_child_weight': 2.718900450371952}. Best is trial 6 with value: 2685.8223051739274.\n"
     ]
    },
    {
     "name": "stdout",
     "output_type": "stream",
     "text": [
      "Training until validation scores don't improve for 50 rounds\n",
      "Early stopping, best iteration is:\n",
      "[3448]\tvalid_0's rmse: 2717.13\n"
     ]
    },
    {
     "name": "stderr",
     "output_type": "stream",
     "text": [
      "/home/carolima/.local/lib/python3.10/site-packages/sklearn/metrics/_regression.py:492: FutureWarning: 'squared' is deprecated in version 1.4 and will be removed in 1.6. To calculate the root mean squared error, use the function'root_mean_squared_error'.\n",
      "  warnings.warn(\n",
      "[I 2024-09-25 11:21:07,885] Trial 9 finished with value: 2717.1341765097354 and parameters: {'learning_rate': 0.07975893412963032, 'num_leaves': 2171, 'max_depth': 6, 'min_data_in_leaf': 90, 'feature_fraction': 0.860371729148602, 'bagging_fraction': 0.6206172561969556, 'lambda_l1': 4.197763332427162, 'lambda_l2': 4.460738074745342, 'min_gain_to_split': 0.06362415319455912, 'min_child_weight': 0.7398607322643425}. Best is trial 6 with value: 2685.8223051739274.\n"
     ]
    },
    {
     "name": "stdout",
     "output_type": "stream",
     "text": [
      "Training until validation scores don't improve for 50 rounds\n",
      "Did not meet early stopping. Best iteration is:\n",
      "[5000]\tvalid_0's rmse: 2759.3\n"
     ]
    },
    {
     "name": "stderr",
     "output_type": "stream",
     "text": [
      "/home/carolima/.local/lib/python3.10/site-packages/sklearn/metrics/_regression.py:492: FutureWarning: 'squared' is deprecated in version 1.4 and will be removed in 1.6. To calculate the root mean squared error, use the function'root_mean_squared_error'.\n",
      "  warnings.warn(\n",
      "[I 2024-09-25 11:21:37,475] Trial 10 finished with value: 2759.3023451336176 and parameters: {'learning_rate': 0.012825035736641698, 'num_leaves': 68, 'max_depth': 15, 'min_data_in_leaf': 38, 'feature_fraction': 0.637691696809199, 'bagging_fraction': 0.9668213368159375, 'lambda_l1': 5.738069161874885, 'lambda_l2': 7.197066079536035, 'min_gain_to_split': 0.12402337728870036, 'min_child_weight': 3.471216984494418}. Best is trial 6 with value: 2685.8223051739274.\n"
     ]
    },
    {
     "name": "stdout",
     "output_type": "stream",
     "text": [
      "Training until validation scores don't improve for 50 rounds\n",
      "Did not meet early stopping. Best iteration is:\n",
      "[5000]\tvalid_0's rmse: 2706.79\n"
     ]
    },
    {
     "name": "stderr",
     "output_type": "stream",
     "text": [
      "/home/carolima/.local/lib/python3.10/site-packages/sklearn/metrics/_regression.py:492: FutureWarning: 'squared' is deprecated in version 1.4 and will be removed in 1.6. To calculate the root mean squared error, use the function'root_mean_squared_error'.\n",
      "  warnings.warn(\n",
      "[I 2024-09-25 11:21:58,901] Trial 11 finished with value: 2706.790106108739 and parameters: {'learning_rate': 0.04587511221381087, 'num_leaves': 40, 'max_depth': 11, 'min_data_in_leaf': 58, 'feature_fraction': 0.6798792538549379, 'bagging_fraction': 0.8524332943736322, 'lambda_l1': 2.378663267536495, 'lambda_l2': 6.807951166042289, 'min_gain_to_split': 0.08236644549012555, 'min_child_weight': 0.11709000400983616}. Best is trial 6 with value: 2685.8223051739274.\n"
     ]
    },
    {
     "name": "stdout",
     "output_type": "stream",
     "text": [
      "Training until validation scores don't improve for 50 rounds\n",
      "Early stopping, best iteration is:\n",
      "[1712]\tvalid_0's rmse: 2671.15\n"
     ]
    },
    {
     "name": "stderr",
     "output_type": "stream",
     "text": [
      "/home/carolima/.local/lib/python3.10/site-packages/sklearn/metrics/_regression.py:492: FutureWarning: 'squared' is deprecated in version 1.4 and will be removed in 1.6. To calculate the root mean squared error, use the function'root_mean_squared_error'.\n",
      "  warnings.warn(\n",
      "[I 2024-09-25 11:22:46,225] Trial 12 finished with value: 2671.1521251914496 and parameters: {'learning_rate': 0.043844284290387614, 'num_leaves': 518, 'max_depth': 15, 'min_data_in_leaf': 69, 'feature_fraction': 0.5953264125299325, 'bagging_fraction': 0.8753546638417105, 'lambda_l1': 0.0919917970052857, 'lambda_l2': 7.626896981305079, 'min_gain_to_split': 0.04340255522610508, 'min_child_weight': 1.5637526018119017}. Best is trial 12 with value: 2671.1521251914496.\n"
     ]
    },
    {
     "name": "stdout",
     "output_type": "stream",
     "text": [
      "Training until validation scores don't improve for 50 rounds\n",
      "Early stopping, best iteration is:\n",
      "[1442]\tvalid_0's rmse: 2671.88\n"
     ]
    },
    {
     "name": "stderr",
     "output_type": "stream",
     "text": [
      "/home/carolima/.local/lib/python3.10/site-packages/sklearn/metrics/_regression.py:492: FutureWarning: 'squared' is deprecated in version 1.4 and will be removed in 1.6. To calculate the root mean squared error, use the function'root_mean_squared_error'.\n",
      "  warnings.warn(\n",
      "[I 2024-09-25 11:23:30,792] Trial 13 finished with value: 2671.8785050972056 and parameters: {'learning_rate': 0.04828880664129436, 'num_leaves': 596, 'max_depth': 15, 'min_data_in_leaf': 100, 'feature_fraction': 0.5785949191747294, 'bagging_fraction': 0.999898760479947, 'lambda_l1': 0.646815986943782, 'lambda_l2': 7.423033662584855, 'min_gain_to_split': 0.0008390258666972697, 'min_child_weight': 1.7338396201849635}. Best is trial 12 with value: 2671.1521251914496.\n"
     ]
    },
    {
     "name": "stdout",
     "output_type": "stream",
     "text": [
      "Training until validation scores don't improve for 50 rounds\n",
      "Early stopping, best iteration is:\n",
      "[1697]\tvalid_0's rmse: 2668.22\n"
     ]
    },
    {
     "name": "stderr",
     "output_type": "stream",
     "text": [
      "/home/carolima/.local/lib/python3.10/site-packages/sklearn/metrics/_regression.py:492: FutureWarning: 'squared' is deprecated in version 1.4 and will be removed in 1.6. To calculate the root mean squared error, use the function'root_mean_squared_error'.\n",
      "  warnings.warn(\n",
      "[I 2024-09-25 11:24:19,938] Trial 14 finished with value: 2668.2205701330645 and parameters: {'learning_rate': 0.04463961594305718, 'num_leaves': 1270, 'max_depth': 13, 'min_data_in_leaf': 96, 'feature_fraction': 0.5650234551485831, 'bagging_fraction': 0.9866897623006018, 'lambda_l1': 0.07871650874003659, 'lambda_l2': 8.0685173528918, 'min_gain_to_split': 0.009725576230935618, 'min_child_weight': 2.0084774249330533}. Best is trial 14 with value: 2668.2205701330645.\n"
     ]
    },
    {
     "name": "stdout",
     "output_type": "stream",
     "text": [
      "Training until validation scores don't improve for 50 rounds\n",
      "Did not meet early stopping. Best iteration is:\n",
      "[5000]\tvalid_0's rmse: 2648.95\n"
     ]
    },
    {
     "name": "stderr",
     "output_type": "stream",
     "text": [
      "/home/carolima/.local/lib/python3.10/site-packages/sklearn/metrics/_regression.py:492: FutureWarning: 'squared' is deprecated in version 1.4 and will be removed in 1.6. To calculate the root mean squared error, use the function'root_mean_squared_error'.\n",
      "  warnings.warn(\n",
      "[I 2024-09-25 11:27:00,677] Trial 15 finished with value: 2648.9534808293793 and parameters: {'learning_rate': 0.010201035547956504, 'num_leaves': 1243, 'max_depth': 13, 'min_data_in_leaf': 78, 'feature_fraction': 0.5200300191154457, 'bagging_fraction': 0.9065294189412629, 'lambda_l1': 0.0016504718350366515, 'lambda_l2': 8.345756878455427, 'min_gain_to_split': 0.031741825759914924, 'min_child_weight': 4.318153436301136}. Best is trial 15 with value: 2648.9534808293793.\n"
     ]
    },
    {
     "name": "stdout",
     "output_type": "stream",
     "text": [
      "Training until validation scores don't improve for 50 rounds\n",
      "Did not meet early stopping. Best iteration is:\n",
      "[5000]\tvalid_0's rmse: 2649.09\n"
     ]
    },
    {
     "name": "stderr",
     "output_type": "stream",
     "text": [
      "/home/carolima/.local/lib/python3.10/site-packages/sklearn/metrics/_regression.py:492: FutureWarning: 'squared' is deprecated in version 1.4 and will be removed in 1.6. To calculate the root mean squared error, use the function'root_mean_squared_error'.\n",
      "  warnings.warn(\n",
      "[I 2024-09-25 11:29:29,688] Trial 16 finished with value: 2649.085641985118 and parameters: {'learning_rate': 0.010338744901694757, 'num_leaves': 1468, 'max_depth': 13, 'min_data_in_leaf': 86, 'feature_fraction': 0.5030955059585589, 'bagging_fraction': 0.7262443940387098, 'lambda_l1': 1.4380583857096587, 'lambda_l2': 9.612759340749548, 'min_gain_to_split': 0.023103721911607172, 'min_child_weight': 4.481907307576972}. Best is trial 15 with value: 2648.9534808293793.\n"
     ]
    },
    {
     "name": "stdout",
     "output_type": "stream",
     "text": [
      "Training until validation scores don't improve for 50 rounds\n",
      "Did not meet early stopping. Best iteration is:\n",
      "[4998]\tvalid_0's rmse: 2652.82\n"
     ]
    },
    {
     "name": "stderr",
     "output_type": "stream",
     "text": [
      "/home/carolima/.local/lib/python3.10/site-packages/sklearn/metrics/_regression.py:492: FutureWarning: 'squared' is deprecated in version 1.4 and will be removed in 1.6. To calculate the root mean squared error, use the function'root_mean_squared_error'.\n",
      "  warnings.warn(\n",
      "[I 2024-09-25 11:31:40,758] Trial 17 finished with value: 2652.818560046912 and parameters: {'learning_rate': 0.011134361298782544, 'num_leaves': 1669, 'max_depth': 12, 'min_data_in_leaf': 83, 'feature_fraction': 0.4985626441436933, 'bagging_fraction': 0.6949797900685445, 'lambda_l1': 1.3261402966559335, 'lambda_l2': 9.613269242037383, 'min_gain_to_split': 0.0376216813698424, 'min_child_weight': 4.3997251172646195}. Best is trial 15 with value: 2648.9534808293793.\n"
     ]
    },
    {
     "name": "stdout",
     "output_type": "stream",
     "text": [
      "Training until validation scores don't improve for 50 rounds\n",
      "Did not meet early stopping. Best iteration is:\n",
      "[4995]\tvalid_0's rmse: 2653.21\n"
     ]
    },
    {
     "name": "stderr",
     "output_type": "stream",
     "text": [
      "/home/carolima/.local/lib/python3.10/site-packages/sklearn/metrics/_regression.py:492: FutureWarning: 'squared' is deprecated in version 1.4 and will be removed in 1.6. To calculate the root mean squared error, use the function'root_mean_squared_error'.\n",
      "  warnings.warn(\n",
      "[I 2024-09-25 11:33:02,562] Trial 18 finished with value: 2653.2084389078645 and parameters: {'learning_rate': 0.0198000188800777, 'num_leaves': 1352, 'max_depth': 10, 'min_data_in_leaf': 78, 'feature_fraction': 0.49336238370872976, 'bagging_fraction': 0.7696954366526322, 'lambda_l1': 2.8512766244401604, 'lambda_l2': 8.520393211214694, 'min_gain_to_split': 0.027723030354542252, 'min_child_weight': 6.926767236460147}. Best is trial 15 with value: 2648.9534808293793.\n"
     ]
    },
    {
     "name": "stdout",
     "output_type": "stream",
     "text": [
      "Training until validation scores don't improve for 50 rounds\n",
      "Early stopping, best iteration is:\n",
      "[3249]\tvalid_0's rmse: 2669.71\n"
     ]
    },
    {
     "name": "stderr",
     "output_type": "stream",
     "text": [
      "/home/carolima/.local/lib/python3.10/site-packages/sklearn/metrics/_regression.py:492: FutureWarning: 'squared' is deprecated in version 1.4 and will be removed in 1.6. To calculate the root mean squared error, use the function'root_mean_squared_error'.\n",
      "  warnings.warn(\n",
      "[I 2024-09-25 11:35:39,909] Trial 19 finished with value: 2669.714261910574 and parameters: {'learning_rate': 0.020631113935262527, 'num_leaves': 2009, 'max_depth': 13, 'min_data_in_leaf': 43, 'feature_fraction': 0.7263355030246372, 'bagging_fraction': 0.6172339360836181, 'lambda_l1': 1.354640022146738, 'lambda_l2': 9.964474451799262, 'min_gain_to_split': 0.06939854131843542, 'min_child_weight': 4.226041534754213}. Best is trial 15 with value: 2648.9534808293793.\n"
     ]
    },
    {
     "name": "stdout",
     "output_type": "stream",
     "text": [
      "Training until validation scores don't improve for 50 rounds\n",
      "Early stopping, best iteration is:\n",
      "[4771]\tvalid_0's rmse: 2707.08\n"
     ]
    },
    {
     "name": "stderr",
     "output_type": "stream",
     "text": [
      "/home/carolima/.local/lib/python3.10/site-packages/sklearn/metrics/_regression.py:492: FutureWarning: 'squared' is deprecated in version 1.4 and will be removed in 1.6. To calculate the root mean squared error, use the function'root_mean_squared_error'.\n",
      "  warnings.warn(\n",
      "[I 2024-09-25 11:36:38,036] Trial 20 finished with value: 2707.084186827637 and parameters: {'learning_rate': 0.02006048091219813, 'num_leaves': 2654, 'max_depth': 9, 'min_data_in_leaf': 65, 'feature_fraction': 0.995754483241825, 'bagging_fraction': 0.8109776016250146, 'lambda_l1': 6.875997138894256, 'lambda_l2': 8.445316596324055, 'min_gain_to_split': 0.02099423721230105, 'min_child_weight': 6.648433328746529}. Best is trial 15 with value: 2648.9534808293793.\n"
     ]
    },
    {
     "name": "stdout",
     "output_type": "stream",
     "text": [
      "Training until validation scores don't improve for 50 rounds\n",
      "Did not meet early stopping. Best iteration is:\n",
      "[5000]\tvalid_0's rmse: 2657.28\n"
     ]
    },
    {
     "name": "stderr",
     "output_type": "stream",
     "text": [
      "/home/carolima/.local/lib/python3.10/site-packages/sklearn/metrics/_regression.py:492: FutureWarning: 'squared' is deprecated in version 1.4 and will be removed in 1.6. To calculate the root mean squared error, use the function'root_mean_squared_error'.\n",
      "  warnings.warn(\n",
      "[I 2024-09-25 11:38:32,316] Trial 21 finished with value: 2657.284946382836 and parameters: {'learning_rate': 0.010158580638921152, 'num_leaves': 1691, 'max_depth': 12, 'min_data_in_leaf': 83, 'feature_fraction': 0.5014183757410755, 'bagging_fraction': 0.6874419965632301, 'lambda_l1': 0.9389929889143102, 'lambda_l2': 9.960935337187388, 'min_gain_to_split': 0.04558631152813275, 'min_child_weight': 4.550561517440494}. Best is trial 15 with value: 2648.9534808293793.\n"
     ]
    },
    {
     "name": "stdout",
     "output_type": "stream",
     "text": [
      "Training until validation scores don't improve for 50 rounds\n",
      "Did not meet early stopping. Best iteration is:\n",
      "[5000]\tvalid_0's rmse: 2648.52\n"
     ]
    },
    {
     "name": "stderr",
     "output_type": "stream",
     "text": [
      "/home/carolima/.local/lib/python3.10/site-packages/sklearn/metrics/_regression.py:492: FutureWarning: 'squared' is deprecated in version 1.4 and will be removed in 1.6. To calculate the root mean squared error, use the function'root_mean_squared_error'.\n",
      "  warnings.warn(\n",
      "[I 2024-09-25 11:40:43,097] Trial 22 finished with value: 2648.5227099065073 and parameters: {'learning_rate': 0.01009418569687866, 'num_leaves': 1559, 'max_depth': 13, 'min_data_in_leaf': 88, 'feature_fraction': 0.42589539111138475, 'bagging_fraction': 0.4055190455436449, 'lambda_l1': 1.4484843497691309, 'lambda_l2': 9.12420444567433, 'min_gain_to_split': 0.028092504472655155, 'min_child_weight': 4.075077560931486}. Best is trial 22 with value: 2648.5227099065073.\n"
     ]
    },
    {
     "name": "stdout",
     "output_type": "stream",
     "text": [
      "Training until validation scores don't improve for 50 rounds\n",
      "Early stopping, best iteration is:\n",
      "[2661]\tvalid_0's rmse: 2657.23\n"
     ]
    },
    {
     "name": "stderr",
     "output_type": "stream",
     "text": [
      "/home/carolima/.local/lib/python3.10/site-packages/sklearn/metrics/_regression.py:492: FutureWarning: 'squared' is deprecated in version 1.4 and will be removed in 1.6. To calculate the root mean squared error, use the function'root_mean_squared_error'.\n",
      "  warnings.warn(\n",
      "[I 2024-09-25 11:42:00,631] Trial 23 finished with value: 2657.225709537356 and parameters: {'learning_rate': 0.034951246601194724, 'num_leaves': 1028, 'max_depth': 13, 'min_data_in_leaf': 91, 'feature_fraction': 0.40169238660341433, 'bagging_fraction': 0.41645448710830335, 'lambda_l1': 2.422386690256837, 'lambda_l2': 0.16904607875853195, 'min_gain_to_split': 0.02088171282471115, 'min_child_weight': 5.288674236418073}. Best is trial 22 with value: 2648.5227099065073.\n"
     ]
    },
    {
     "name": "stdout",
     "output_type": "stream",
     "text": [
      "Training until validation scores don't improve for 50 rounds\n",
      "Early stopping, best iteration is:\n",
      "[4260]\tvalid_0's rmse: 2643.36\n"
     ]
    },
    {
     "name": "stderr",
     "output_type": "stream",
     "text": [
      "/home/carolima/.local/lib/python3.10/site-packages/sklearn/metrics/_regression.py:492: FutureWarning: 'squared' is deprecated in version 1.4 and will be removed in 1.6. To calculate the root mean squared error, use the function'root_mean_squared_error'.\n",
      "  warnings.warn(\n",
      "[I 2024-09-25 11:44:08,834] Trial 24 finished with value: 2643.3637905333035 and parameters: {'learning_rate': 0.017780312906297557, 'num_leaves': 1474, 'max_depth': 14, 'min_data_in_leaf': 86, 'feature_fraction': 0.45292978398075145, 'bagging_fraction': 0.4201674433320353, 'lambda_l1': 3.209550539996979, 'lambda_l2': 6.5289134117884915, 'min_gain_to_split': 0.10540894611143609, 'min_child_weight': 3.7742275788805566}. Best is trial 24 with value: 2643.3637905333035.\n"
     ]
    },
    {
     "name": "stdout",
     "output_type": "stream",
     "text": [
      "Training until validation scores don't improve for 50 rounds\n",
      "Early stopping, best iteration is:\n",
      "[3640]\tvalid_0's rmse: 2645.13\n"
     ]
    },
    {
     "name": "stderr",
     "output_type": "stream",
     "text": [
      "/home/carolima/.local/lib/python3.10/site-packages/sklearn/metrics/_regression.py:492: FutureWarning: 'squared' is deprecated in version 1.4 and will be removed in 1.6. To calculate the root mean squared error, use the function'root_mean_squared_error'.\n",
      "  warnings.warn(\n",
      "[I 2024-09-25 11:46:19,847] Trial 25 finished with value: 2645.12860039945 and parameters: {'learning_rate': 0.02500612523389948, 'num_leaves': 1141, 'max_depth': 14, 'min_data_in_leaf': 76, 'feature_fraction': 0.4513754801797484, 'bagging_fraction': 0.4081765575637231, 'lambda_l1': 3.2679573590481863, 'lambda_l2': 6.543375678791744, 'min_gain_to_split': 0.10054708274054301, 'min_child_weight': 3.5507495606120845}. Best is trial 24 with value: 2643.3637905333035.\n"
     ]
    },
    {
     "name": "stdout",
     "output_type": "stream",
     "text": [
      "Training until validation scores don't improve for 50 rounds\n",
      "Early stopping, best iteration is:\n",
      "[2829]\tvalid_0's rmse: 2650.26\n"
     ]
    },
    {
     "name": "stderr",
     "output_type": "stream",
     "text": [
      "/home/carolima/.local/lib/python3.10/site-packages/sklearn/metrics/_regression.py:492: FutureWarning: 'squared' is deprecated in version 1.4 and will be removed in 1.6. To calculate the root mean squared error, use the function'root_mean_squared_error'.\n",
      "  warnings.warn(\n",
      "[I 2024-09-25 11:47:50,172] Trial 26 finished with value: 2650.264950417102 and parameters: {'learning_rate': 0.023960017623298236, 'num_leaves': 1069, 'max_depth': 14, 'min_data_in_leaf': 74, 'feature_fraction': 0.4267647406566788, 'bagging_fraction': 0.40339263994603375, 'lambda_l1': 9.866749529264808, 'lambda_l2': 6.575738248360427, 'min_gain_to_split': 0.10589712606837266, 'min_child_weight': 3.443433920910425}. Best is trial 24 with value: 2643.3637905333035.\n"
     ]
    },
    {
     "name": "stdout",
     "output_type": "stream",
     "text": [
      "Training until validation scores don't improve for 50 rounds\n",
      "Early stopping, best iteration is:\n",
      "[1791]\tvalid_0's rmse: 2663.64\n"
     ]
    },
    {
     "name": "stderr",
     "output_type": "stream",
     "text": [
      "/home/carolima/.local/lib/python3.10/site-packages/sklearn/metrics/_regression.py:492: FutureWarning: 'squared' is deprecated in version 1.4 and will be removed in 1.6. To calculate the root mean squared error, use the function'root_mean_squared_error'.\n",
      "  warnings.warn(\n",
      "[I 2024-09-25 11:48:41,275] Trial 27 finished with value: 2663.6398505917564 and parameters: {'learning_rate': 0.03646046215259334, 'num_leaves': 1559, 'max_depth': 14, 'min_data_in_leaf': 94, 'feature_fraction': 0.45315648022408306, 'bagging_fraction': 0.4663188477014925, 'lambda_l1': 3.3280312170418007, 'lambda_l2': 6.26617065181266, 'min_gain_to_split': 0.10245020812697038, 'min_child_weight': 6.607504124930977}. Best is trial 24 with value: 2643.3637905333035.\n"
     ]
    },
    {
     "name": "stdout",
     "output_type": "stream",
     "text": [
      "Training until validation scores don't improve for 50 rounds\n",
      "Did not meet early stopping. Best iteration is:\n",
      "[4971]\tvalid_0's rmse: 2646.51\n"
     ]
    },
    {
     "name": "stderr",
     "output_type": "stream",
     "text": [
      "/home/carolima/.local/lib/python3.10/site-packages/sklearn/metrics/_regression.py:492: FutureWarning: 'squared' is deprecated in version 1.4 and will be removed in 1.6. To calculate the root mean squared error, use the function'root_mean_squared_error'.\n",
      "  warnings.warn(\n",
      "[I 2024-09-25 11:50:26,788] Trial 28 finished with value: 2646.509352133502 and parameters: {'learning_rate': 0.01712847927294276, 'num_leaves': 1979, 'max_depth': 11, 'min_data_in_leaf': 65, 'feature_fraction': 0.44853227301909065, 'bagging_fraction': 0.5383732940213594, 'lambda_l1': 4.6172226581130555, 'lambda_l2': 4.228239666885414, 'min_gain_to_split': 0.11765746086511997, 'min_child_weight': 2.4459990397622433}. Best is trial 24 with value: 2643.3637905333035.\n"
     ]
    },
    {
     "name": "stdout",
     "output_type": "stream",
     "text": [
      "Training until validation scores don't improve for 50 rounds\n",
      "Early stopping, best iteration is:\n",
      "[1918]\tvalid_0's rmse: 2694.13\n"
     ]
    },
    {
     "name": "stderr",
     "output_type": "stream",
     "text": [
      "/home/carolima/.local/lib/python3.10/site-packages/sklearn/metrics/_regression.py:492: FutureWarning: 'squared' is deprecated in version 1.4 and will be removed in 1.6. To calculate the root mean squared error, use the function'root_mean_squared_error'.\n",
      "  warnings.warn(\n",
      "[I 2024-09-25 11:51:05,670] Trial 29 finished with value: 2694.1336328860834 and parameters: {'learning_rate': 0.061797949861180757, 'num_leaves': 2444, 'max_depth': 11, 'min_data_in_leaf': 64, 'feature_fraction': 0.4638016088341487, 'bagging_fraction': 0.5409719765162476, 'lambda_l1': 4.817668945407842, 'lambda_l2': 3.7934097891791323, 'min_gain_to_split': 0.16450621717049108, 'min_child_weight': 2.3368013250940995}. Best is trial 24 with value: 2643.3637905333035.\n"
     ]
    },
    {
     "name": "stdout",
     "output_type": "stream",
     "text": [
      "Best trial: {'learning_rate': 0.017780312906297557, 'num_leaves': 1474, 'max_depth': 14, 'min_data_in_leaf': 86, 'feature_fraction': 0.45292978398075145, 'bagging_fraction': 0.4201674433320353, 'lambda_l1': 3.209550539996979, 'lambda_l2': 6.5289134117884915, 'min_gain_to_split': 0.10540894611143609, 'min_child_weight': 3.7742275788805566}\n"
     ]
    }
   ],
   "source": [
    "# Create the Optuna study and start optimization\n",
    "study = optuna.create_study(direction='minimize')\n",
    "study.optimize(objective, n_trials=30)\n",
    "\n",
    "# Display the best hyperparameters found\n",
    "print(f\"Best trial: {study.best_trial.params}\")\n"
   ]
  },
  {
   "cell_type": "code",
   "execution_count": 9,
   "metadata": {},
   "outputs": [
    {
     "data": {
      "text/html": [
       "<style>#sk-container-id-1 {\n",
       "  /* Definition of color scheme common for light and dark mode */\n",
       "  --sklearn-color-text: black;\n",
       "  --sklearn-color-line: gray;\n",
       "  /* Definition of color scheme for unfitted estimators */\n",
       "  --sklearn-color-unfitted-level-0: #fff5e6;\n",
       "  --sklearn-color-unfitted-level-1: #f6e4d2;\n",
       "  --sklearn-color-unfitted-level-2: #ffe0b3;\n",
       "  --sklearn-color-unfitted-level-3: chocolate;\n",
       "  /* Definition of color scheme for fitted estimators */\n",
       "  --sklearn-color-fitted-level-0: #f0f8ff;\n",
       "  --sklearn-color-fitted-level-1: #d4ebff;\n",
       "  --sklearn-color-fitted-level-2: #b3dbfd;\n",
       "  --sklearn-color-fitted-level-3: cornflowerblue;\n",
       "\n",
       "  /* Specific color for light theme */\n",
       "  --sklearn-color-text-on-default-background: var(--sg-text-color, var(--theme-code-foreground, var(--jp-content-font-color1, black)));\n",
       "  --sklearn-color-background: var(--sg-background-color, var(--theme-background, var(--jp-layout-color0, white)));\n",
       "  --sklearn-color-border-box: var(--sg-text-color, var(--theme-code-foreground, var(--jp-content-font-color1, black)));\n",
       "  --sklearn-color-icon: #696969;\n",
       "\n",
       "  @media (prefers-color-scheme: dark) {\n",
       "    /* Redefinition of color scheme for dark theme */\n",
       "    --sklearn-color-text-on-default-background: var(--sg-text-color, var(--theme-code-foreground, var(--jp-content-font-color1, white)));\n",
       "    --sklearn-color-background: var(--sg-background-color, var(--theme-background, var(--jp-layout-color0, #111)));\n",
       "    --sklearn-color-border-box: var(--sg-text-color, var(--theme-code-foreground, var(--jp-content-font-color1, white)));\n",
       "    --sklearn-color-icon: #878787;\n",
       "  }\n",
       "}\n",
       "\n",
       "#sk-container-id-1 {\n",
       "  color: var(--sklearn-color-text);\n",
       "}\n",
       "\n",
       "#sk-container-id-1 pre {\n",
       "  padding: 0;\n",
       "}\n",
       "\n",
       "#sk-container-id-1 input.sk-hidden--visually {\n",
       "  border: 0;\n",
       "  clip: rect(1px 1px 1px 1px);\n",
       "  clip: rect(1px, 1px, 1px, 1px);\n",
       "  height: 1px;\n",
       "  margin: -1px;\n",
       "  overflow: hidden;\n",
       "  padding: 0;\n",
       "  position: absolute;\n",
       "  width: 1px;\n",
       "}\n",
       "\n",
       "#sk-container-id-1 div.sk-dashed-wrapped {\n",
       "  border: 1px dashed var(--sklearn-color-line);\n",
       "  margin: 0 0.4em 0.5em 0.4em;\n",
       "  box-sizing: border-box;\n",
       "  padding-bottom: 0.4em;\n",
       "  background-color: var(--sklearn-color-background);\n",
       "}\n",
       "\n",
       "#sk-container-id-1 div.sk-container {\n",
       "  /* jupyter's `normalize.less` sets `[hidden] { display: none; }`\n",
       "     but bootstrap.min.css set `[hidden] { display: none !important; }`\n",
       "     so we also need the `!important` here to be able to override the\n",
       "     default hidden behavior on the sphinx rendered scikit-learn.org.\n",
       "     See: https://github.com/scikit-learn/scikit-learn/issues/21755 */\n",
       "  display: inline-block !important;\n",
       "  position: relative;\n",
       "}\n",
       "\n",
       "#sk-container-id-1 div.sk-text-repr-fallback {\n",
       "  display: none;\n",
       "}\n",
       "\n",
       "div.sk-parallel-item,\n",
       "div.sk-serial,\n",
       "div.sk-item {\n",
       "  /* draw centered vertical line to link estimators */\n",
       "  background-image: linear-gradient(var(--sklearn-color-text-on-default-background), var(--sklearn-color-text-on-default-background));\n",
       "  background-size: 2px 100%;\n",
       "  background-repeat: no-repeat;\n",
       "  background-position: center center;\n",
       "}\n",
       "\n",
       "/* Parallel-specific style estimator block */\n",
       "\n",
       "#sk-container-id-1 div.sk-parallel-item::after {\n",
       "  content: \"\";\n",
       "  width: 100%;\n",
       "  border-bottom: 2px solid var(--sklearn-color-text-on-default-background);\n",
       "  flex-grow: 1;\n",
       "}\n",
       "\n",
       "#sk-container-id-1 div.sk-parallel {\n",
       "  display: flex;\n",
       "  align-items: stretch;\n",
       "  justify-content: center;\n",
       "  background-color: var(--sklearn-color-background);\n",
       "  position: relative;\n",
       "}\n",
       "\n",
       "#sk-container-id-1 div.sk-parallel-item {\n",
       "  display: flex;\n",
       "  flex-direction: column;\n",
       "}\n",
       "\n",
       "#sk-container-id-1 div.sk-parallel-item:first-child::after {\n",
       "  align-self: flex-end;\n",
       "  width: 50%;\n",
       "}\n",
       "\n",
       "#sk-container-id-1 div.sk-parallel-item:last-child::after {\n",
       "  align-self: flex-start;\n",
       "  width: 50%;\n",
       "}\n",
       "\n",
       "#sk-container-id-1 div.sk-parallel-item:only-child::after {\n",
       "  width: 0;\n",
       "}\n",
       "\n",
       "/* Serial-specific style estimator block */\n",
       "\n",
       "#sk-container-id-1 div.sk-serial {\n",
       "  display: flex;\n",
       "  flex-direction: column;\n",
       "  align-items: center;\n",
       "  background-color: var(--sklearn-color-background);\n",
       "  padding-right: 1em;\n",
       "  padding-left: 1em;\n",
       "}\n",
       "\n",
       "\n",
       "/* Toggleable style: style used for estimator/Pipeline/ColumnTransformer box that is\n",
       "clickable and can be expanded/collapsed.\n",
       "- Pipeline and ColumnTransformer use this feature and define the default style\n",
       "- Estimators will overwrite some part of the style using the `sk-estimator` class\n",
       "*/\n",
       "\n",
       "/* Pipeline and ColumnTransformer style (default) */\n",
       "\n",
       "#sk-container-id-1 div.sk-toggleable {\n",
       "  /* Default theme specific background. It is overwritten whether we have a\n",
       "  specific estimator or a Pipeline/ColumnTransformer */\n",
       "  background-color: var(--sklearn-color-background);\n",
       "}\n",
       "\n",
       "/* Toggleable label */\n",
       "#sk-container-id-1 label.sk-toggleable__label {\n",
       "  cursor: pointer;\n",
       "  display: block;\n",
       "  width: 100%;\n",
       "  margin-bottom: 0;\n",
       "  padding: 0.5em;\n",
       "  box-sizing: border-box;\n",
       "  text-align: center;\n",
       "}\n",
       "\n",
       "#sk-container-id-1 label.sk-toggleable__label-arrow:before {\n",
       "  /* Arrow on the left of the label */\n",
       "  content: \"▸\";\n",
       "  float: left;\n",
       "  margin-right: 0.25em;\n",
       "  color: var(--sklearn-color-icon);\n",
       "}\n",
       "\n",
       "#sk-container-id-1 label.sk-toggleable__label-arrow:hover:before {\n",
       "  color: var(--sklearn-color-text);\n",
       "}\n",
       "\n",
       "/* Toggleable content - dropdown */\n",
       "\n",
       "#sk-container-id-1 div.sk-toggleable__content {\n",
       "  max-height: 0;\n",
       "  max-width: 0;\n",
       "  overflow: hidden;\n",
       "  text-align: left;\n",
       "  /* unfitted */\n",
       "  background-color: var(--sklearn-color-unfitted-level-0);\n",
       "}\n",
       "\n",
       "#sk-container-id-1 div.sk-toggleable__content.fitted {\n",
       "  /* fitted */\n",
       "  background-color: var(--sklearn-color-fitted-level-0);\n",
       "}\n",
       "\n",
       "#sk-container-id-1 div.sk-toggleable__content pre {\n",
       "  margin: 0.2em;\n",
       "  border-radius: 0.25em;\n",
       "  color: var(--sklearn-color-text);\n",
       "  /* unfitted */\n",
       "  background-color: var(--sklearn-color-unfitted-level-0);\n",
       "}\n",
       "\n",
       "#sk-container-id-1 div.sk-toggleable__content.fitted pre {\n",
       "  /* unfitted */\n",
       "  background-color: var(--sklearn-color-fitted-level-0);\n",
       "}\n",
       "\n",
       "#sk-container-id-1 input.sk-toggleable__control:checked~div.sk-toggleable__content {\n",
       "  /* Expand drop-down */\n",
       "  max-height: 200px;\n",
       "  max-width: 100%;\n",
       "  overflow: auto;\n",
       "}\n",
       "\n",
       "#sk-container-id-1 input.sk-toggleable__control:checked~label.sk-toggleable__label-arrow:before {\n",
       "  content: \"▾\";\n",
       "}\n",
       "\n",
       "/* Pipeline/ColumnTransformer-specific style */\n",
       "\n",
       "#sk-container-id-1 div.sk-label input.sk-toggleable__control:checked~label.sk-toggleable__label {\n",
       "  color: var(--sklearn-color-text);\n",
       "  background-color: var(--sklearn-color-unfitted-level-2);\n",
       "}\n",
       "\n",
       "#sk-container-id-1 div.sk-label.fitted input.sk-toggleable__control:checked~label.sk-toggleable__label {\n",
       "  background-color: var(--sklearn-color-fitted-level-2);\n",
       "}\n",
       "\n",
       "/* Estimator-specific style */\n",
       "\n",
       "/* Colorize estimator box */\n",
       "#sk-container-id-1 div.sk-estimator input.sk-toggleable__control:checked~label.sk-toggleable__label {\n",
       "  /* unfitted */\n",
       "  background-color: var(--sklearn-color-unfitted-level-2);\n",
       "}\n",
       "\n",
       "#sk-container-id-1 div.sk-estimator.fitted input.sk-toggleable__control:checked~label.sk-toggleable__label {\n",
       "  /* fitted */\n",
       "  background-color: var(--sklearn-color-fitted-level-2);\n",
       "}\n",
       "\n",
       "#sk-container-id-1 div.sk-label label.sk-toggleable__label,\n",
       "#sk-container-id-1 div.sk-label label {\n",
       "  /* The background is the default theme color */\n",
       "  color: var(--sklearn-color-text-on-default-background);\n",
       "}\n",
       "\n",
       "/* On hover, darken the color of the background */\n",
       "#sk-container-id-1 div.sk-label:hover label.sk-toggleable__label {\n",
       "  color: var(--sklearn-color-text);\n",
       "  background-color: var(--sklearn-color-unfitted-level-2);\n",
       "}\n",
       "\n",
       "/* Label box, darken color on hover, fitted */\n",
       "#sk-container-id-1 div.sk-label.fitted:hover label.sk-toggleable__label.fitted {\n",
       "  color: var(--sklearn-color-text);\n",
       "  background-color: var(--sklearn-color-fitted-level-2);\n",
       "}\n",
       "\n",
       "/* Estimator label */\n",
       "\n",
       "#sk-container-id-1 div.sk-label label {\n",
       "  font-family: monospace;\n",
       "  font-weight: bold;\n",
       "  display: inline-block;\n",
       "  line-height: 1.2em;\n",
       "}\n",
       "\n",
       "#sk-container-id-1 div.sk-label-container {\n",
       "  text-align: center;\n",
       "}\n",
       "\n",
       "/* Estimator-specific */\n",
       "#sk-container-id-1 div.sk-estimator {\n",
       "  font-family: monospace;\n",
       "  border: 1px dotted var(--sklearn-color-border-box);\n",
       "  border-radius: 0.25em;\n",
       "  box-sizing: border-box;\n",
       "  margin-bottom: 0.5em;\n",
       "  /* unfitted */\n",
       "  background-color: var(--sklearn-color-unfitted-level-0);\n",
       "}\n",
       "\n",
       "#sk-container-id-1 div.sk-estimator.fitted {\n",
       "  /* fitted */\n",
       "  background-color: var(--sklearn-color-fitted-level-0);\n",
       "}\n",
       "\n",
       "/* on hover */\n",
       "#sk-container-id-1 div.sk-estimator:hover {\n",
       "  /* unfitted */\n",
       "  background-color: var(--sklearn-color-unfitted-level-2);\n",
       "}\n",
       "\n",
       "#sk-container-id-1 div.sk-estimator.fitted:hover {\n",
       "  /* fitted */\n",
       "  background-color: var(--sklearn-color-fitted-level-2);\n",
       "}\n",
       "\n",
       "/* Specification for estimator info (e.g. \"i\" and \"?\") */\n",
       "\n",
       "/* Common style for \"i\" and \"?\" */\n",
       "\n",
       ".sk-estimator-doc-link,\n",
       "a:link.sk-estimator-doc-link,\n",
       "a:visited.sk-estimator-doc-link {\n",
       "  float: right;\n",
       "  font-size: smaller;\n",
       "  line-height: 1em;\n",
       "  font-family: monospace;\n",
       "  background-color: var(--sklearn-color-background);\n",
       "  border-radius: 1em;\n",
       "  height: 1em;\n",
       "  width: 1em;\n",
       "  text-decoration: none !important;\n",
       "  margin-left: 1ex;\n",
       "  /* unfitted */\n",
       "  border: var(--sklearn-color-unfitted-level-1) 1pt solid;\n",
       "  color: var(--sklearn-color-unfitted-level-1);\n",
       "}\n",
       "\n",
       ".sk-estimator-doc-link.fitted,\n",
       "a:link.sk-estimator-doc-link.fitted,\n",
       "a:visited.sk-estimator-doc-link.fitted {\n",
       "  /* fitted */\n",
       "  border: var(--sklearn-color-fitted-level-1) 1pt solid;\n",
       "  color: var(--sklearn-color-fitted-level-1);\n",
       "}\n",
       "\n",
       "/* On hover */\n",
       "div.sk-estimator:hover .sk-estimator-doc-link:hover,\n",
       ".sk-estimator-doc-link:hover,\n",
       "div.sk-label-container:hover .sk-estimator-doc-link:hover,\n",
       ".sk-estimator-doc-link:hover {\n",
       "  /* unfitted */\n",
       "  background-color: var(--sklearn-color-unfitted-level-3);\n",
       "  color: var(--sklearn-color-background);\n",
       "  text-decoration: none;\n",
       "}\n",
       "\n",
       "div.sk-estimator.fitted:hover .sk-estimator-doc-link.fitted:hover,\n",
       ".sk-estimator-doc-link.fitted:hover,\n",
       "div.sk-label-container:hover .sk-estimator-doc-link.fitted:hover,\n",
       ".sk-estimator-doc-link.fitted:hover {\n",
       "  /* fitted */\n",
       "  background-color: var(--sklearn-color-fitted-level-3);\n",
       "  color: var(--sklearn-color-background);\n",
       "  text-decoration: none;\n",
       "}\n",
       "\n",
       "/* Span, style for the box shown on hovering the info icon */\n",
       ".sk-estimator-doc-link span {\n",
       "  display: none;\n",
       "  z-index: 9999;\n",
       "  position: relative;\n",
       "  font-weight: normal;\n",
       "  right: .2ex;\n",
       "  padding: .5ex;\n",
       "  margin: .5ex;\n",
       "  width: min-content;\n",
       "  min-width: 20ex;\n",
       "  max-width: 50ex;\n",
       "  color: var(--sklearn-color-text);\n",
       "  box-shadow: 2pt 2pt 4pt #999;\n",
       "  /* unfitted */\n",
       "  background: var(--sklearn-color-unfitted-level-0);\n",
       "  border: .5pt solid var(--sklearn-color-unfitted-level-3);\n",
       "}\n",
       "\n",
       ".sk-estimator-doc-link.fitted span {\n",
       "  /* fitted */\n",
       "  background: var(--sklearn-color-fitted-level-0);\n",
       "  border: var(--sklearn-color-fitted-level-3);\n",
       "}\n",
       "\n",
       ".sk-estimator-doc-link:hover span {\n",
       "  display: block;\n",
       "}\n",
       "\n",
       "/* \"?\"-specific style due to the `<a>` HTML tag */\n",
       "\n",
       "#sk-container-id-1 a.estimator_doc_link {\n",
       "  float: right;\n",
       "  font-size: 1rem;\n",
       "  line-height: 1em;\n",
       "  font-family: monospace;\n",
       "  background-color: var(--sklearn-color-background);\n",
       "  border-radius: 1rem;\n",
       "  height: 1rem;\n",
       "  width: 1rem;\n",
       "  text-decoration: none;\n",
       "  /* unfitted */\n",
       "  color: var(--sklearn-color-unfitted-level-1);\n",
       "  border: var(--sklearn-color-unfitted-level-1) 1pt solid;\n",
       "}\n",
       "\n",
       "#sk-container-id-1 a.estimator_doc_link.fitted {\n",
       "  /* fitted */\n",
       "  border: var(--sklearn-color-fitted-level-1) 1pt solid;\n",
       "  color: var(--sklearn-color-fitted-level-1);\n",
       "}\n",
       "\n",
       "/* On hover */\n",
       "#sk-container-id-1 a.estimator_doc_link:hover {\n",
       "  /* unfitted */\n",
       "  background-color: var(--sklearn-color-unfitted-level-3);\n",
       "  color: var(--sklearn-color-background);\n",
       "  text-decoration: none;\n",
       "}\n",
       "\n",
       "#sk-container-id-1 a.estimator_doc_link.fitted:hover {\n",
       "  /* fitted */\n",
       "  background-color: var(--sklearn-color-fitted-level-3);\n",
       "}\n",
       "</style><div id=\"sk-container-id-1\" class=\"sk-top-container\"><div class=\"sk-text-repr-fallback\"><pre>LGBMRegressor(bagging_fraction=0.4201674433320353,\n",
       "              feature_fraction=0.45292978398075145, lambda_l1=3.209550539996979,\n",
       "              lambda_l2=6.5289134117884915, learning_rate=0.017780312906297557,\n",
       "              max_depth=14, min_child_weight=3.7742275788805566,\n",
       "              min_data_in_leaf=86, min_gain_to_split=0.10540894611143609,\n",
       "              n_estimators=10000, num_leaves=1474)</pre><b>In a Jupyter environment, please rerun this cell to show the HTML representation or trust the notebook. <br />On GitHub, the HTML representation is unable to render, please try loading this page with nbviewer.org.</b></div><div class=\"sk-container\" hidden><div class=\"sk-item\"><div class=\"sk-estimator fitted sk-toggleable\"><input class=\"sk-toggleable__control sk-hidden--visually\" id=\"sk-estimator-id-1\" type=\"checkbox\" checked><label for=\"sk-estimator-id-1\" class=\"sk-toggleable__label fitted sk-toggleable__label-arrow fitted\">&nbsp;LGBMRegressor<span class=\"sk-estimator-doc-link fitted\">i<span>Fitted</span></span></label><div class=\"sk-toggleable__content fitted\"><pre>LGBMRegressor(bagging_fraction=0.4201674433320353,\n",
       "              feature_fraction=0.45292978398075145, lambda_l1=3.209550539996979,\n",
       "              lambda_l2=6.5289134117884915, learning_rate=0.017780312906297557,\n",
       "              max_depth=14, min_child_weight=3.7742275788805566,\n",
       "              min_data_in_leaf=86, min_gain_to_split=0.10540894611143609,\n",
       "              n_estimators=10000, num_leaves=1474)</pre></div> </div></div></div></div>"
      ],
      "text/plain": [
       "LGBMRegressor(bagging_fraction=0.4201674433320353,\n",
       "              feature_fraction=0.45292978398075145, lambda_l1=3.209550539996979,\n",
       "              lambda_l2=6.5289134117884915, learning_rate=0.017780312906297557,\n",
       "              max_depth=14, min_child_weight=3.7742275788805566,\n",
       "              min_data_in_leaf=86, min_gain_to_split=0.10540894611143609,\n",
       "              n_estimators=10000, num_leaves=1474)"
      ]
     },
     "execution_count": 9,
     "metadata": {},
     "output_type": "execute_result"
    }
   ],
   "source": [
    "# Train the final LightGBM model with the best hyperparameters\n",
    "best_params = study.best_trial.params\n",
    "\n",
    "best_model = lgb.LGBMRegressor(**best_params, n_estimators=10000)\n",
    "\n",
    "best_model.fit(\n",
    "    X_train, y_train,\n",
    "    eval_set=[(X_val, y_val)],\n",
    "    eval_metric='rmse',\n",
    "  #  early_stopping_rounds=50,\n",
    "    categorical_feature=cat_feature_indices\n",
    ")\n",
    "\n"
   ]
  },
  {
   "cell_type": "code",
   "execution_count": null,
   "metadata": {},
   "outputs": [],
   "source": [
    "# Inspect the model's feature names (from the training phase)\n",
    "model_features = best_model.feature_name_  # Or check best_model.booster_.feature_name() for lightgbm\n",
    "\n",
    "# Print model's features and submission_set columns for debugging\n",
    "print(\"Model features:\", model_features)\n",
    "print(\"Submission set columns:\", submission_set.columns.tolist())\n",
    "\n",
    "# Ensure the submission_set has the same features as the model\n",
    "# Add missing columns with default values (e.g., 0 or the mean)\n",
    "for feature in model_features:\n",
    "    if feature not in submission_set.columns:\n",
    "        submission_set[feature] = 0  # You can choose a more appropriate fill value\n"
   ]
  },
  {
   "cell_type": "code",
   "execution_count": 12,
   "metadata": {},
   "outputs": [
    {
     "name": "stdout",
     "output_type": "stream",
     "text": [
      "Submission set dtypes after label encoding: flight_id              int64\n",
      "date                  object\n",
      "callsign              object\n",
      "adep                   int64\n",
      "name_adep             object\n",
      "                       ...  \n",
      "Latitude_ades          int64\n",
      "Longitude_ades         int64\n",
      "elevation_gradient     int64\n",
      "adep_geo_cluster       int64\n",
      "ades_geo_cluster       int64\n",
      "Length: 64, dtype: object\n",
      "   flight_id        date                          callsign  adep  \\\n",
      "0  248753821  2022-01-01  3b3de0f3ad0ee192513995c02f7bf7cf   331   \n",
      "1  248753822  2022-01-01  e06dd03d4a879ca37d9e18c1bd7cad16    11   \n",
      "2  248754498  2022-01-01  2d3b1c962c78c4ebeef11bcd51b9e94c   158   \n",
      "3  248757623  2022-01-01  81564432d3ee97c4bdf4cd8f006753dc    45   \n",
      "4  248763603  2022-01-01  84be079d7e660db105d91f600b4b3d59    74   \n",
      "\n",
      "                name_adep country_code_adep  ades        name_ades  \\\n",
      "0  Istanbul Sabiha Gokcen                TR   185             Lyon   \n",
      "1                Brussels                BE   138     New York JFK   \n",
      "2                   Miami                US    47  London Heathrow   \n",
      "3     Doncaster Sheffield                GB   161         Alicante   \n",
      "4                  Dublin                IE   185             Lyon   \n",
      "\n",
      "  country_code_ades  actual_offblock_time  ... FAA_Weight  MTOW_kg  \\\n",
      "0                FR  2022-01-01T09:44:00Z  ...          0        0   \n",
      "1                US  2022-01-01T09:45:00Z  ...          0        0   \n",
      "2                GB  2022-01-01T01:52:00Z  ...          0        0   \n",
      "3                ES  2022-01-01T08:20:00Z  ...          0        0   \n",
      "4                FR  2022-01-01T11:01:00Z  ...          0        0   \n",
      "\n",
      "   Latitude_adep  Longitude_adep  Altitude_adep  Latitude_ades  \\\n",
      "0              0               0              0              0   \n",
      "1              0               0              0              0   \n",
      "2              0               0              0              0   \n",
      "3              0               0              0              0   \n",
      "4              0               0              0              0   \n",
      "\n",
      "   Longitude_ades  elevation_gradient  adep_geo_cluster  ades_geo_cluster  \n",
      "0               0                   0                 0                 0  \n",
      "1               0                   0                 0                 0  \n",
      "2               0                   0                 0                 0  \n",
      "3               0                   0                 0                 0  \n",
      "4               0                   0                 0                 0  \n",
      "\n",
      "[5 rows x 64 columns]\n"
     ]
    }
   ],
   "source": [
    "from sklearn.preprocessing import LabelEncoder\n",
    "\n",
    "# List of categorical columns that need to be converted to numeric\n",
    "categorical_columns = ['adep', 'ades', 'aircraft_type', 'wtc', 'airline']\n",
    "\n",
    "# Initialize LabelEncoder\n",
    "label_encoders = {}\n",
    "\n",
    "# Convert each categorical column to numeric using LabelEncoder\n",
    "for col in categorical_columns:\n",
    "    label_encoders[col] = LabelEncoder()\n",
    "    submission_set[col] = label_encoders[col].fit_transform(submission_set[col].astype(str))\n",
    "\n",
    "# Print to check the converted types\n",
    "print(\"Submission set dtypes after label encoding:\", submission_set.dtypes)\n",
    "\n",
    "# Ensure the submission_set has the same features as the model\n",
    "submission_set_features = submission_set[model_features]\n",
    "\n",
    "# Predict using the aligned features\n",
    "submission_set['tow'] = best_model.predict(submission_set_features)\n",
    "\n",
    "# Inspect the result\n",
    "print(submission_set.head())\n"
   ]
  },
  {
   "cell_type": "code",
   "execution_count": 13,
   "metadata": {},
   "outputs": [],
   "source": [
    "\n",
    "from datetime import datetime\n",
    "import pytz\n",
    "\n",
    "saopaulo_tz = pytz.timezone('America/Sao_Paulo')\n",
    "\n",
    "timestamp = datetime.now(saopaulo_tz).strftime('%Y%m%d_%H%M%S')\n"
   ]
  },
  {
   "cell_type": "code",
   "execution_count": 14,
   "metadata": {},
   "outputs": [],
   "source": [
    "\n",
    "import os\n",
    "\n",
    "# Define the submissions directory and create it if it doesn't exist\n",
    "submissions_dir = 'submissions'\n",
    "os.makedirs(submissions_dir, exist_ok=True)\n",
    "\n",
    "# Save the submission with a timestamp in the filename\n",
    "submission_file = os.path.join(submissions_dir, f\"submission_{timestamp}.csv\")\n",
    "submission_set.to_csv(submission_file, index=False)"
   ]
  },
  {
   "cell_type": "code",
   "execution_count": null,
   "metadata": {},
   "outputs": [],
   "source": []
  }
 ],
 "metadata": {
  "kernelspec": {
   "display_name": "Python 3",
   "language": "python",
   "name": "python3"
  },
  "language_info": {
   "codemirror_mode": {
    "name": "ipython",
    "version": 3
   },
   "file_extension": ".py",
   "mimetype": "text/x-python",
   "name": "python",
   "nbconvert_exporter": "python",
   "pygments_lexer": "ipython3",
   "version": "3.10.12"
  }
 },
 "nbformat": 4,
 "nbformat_minor": 2
}
