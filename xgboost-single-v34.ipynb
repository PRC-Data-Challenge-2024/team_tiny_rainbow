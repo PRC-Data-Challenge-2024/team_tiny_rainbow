{
 "cells": [
  {
   "cell_type": "markdown",
   "id": "12342f03-8eb3-48e4-ac47-f4dc3d691932",
   "metadata": {
    "tags": []
   },
   "source": [
    "# XGBoost Model"
   ]
  },
  {
   "cell_type": "code",
   "execution_count": 1,
   "id": "23ff59ad-e6f3-4acf-bff2-3f9307ec3043",
   "metadata": {},
   "outputs": [],
   "source": [
    "import pandas as pd\n",
    "from xgboost import XGBRegressor, callback\n",
    "from sklearn.model_selection import train_test_split, RandomizedSearchCV\n",
    "from sklearn.metrics import r2_score, mean_squared_error\n",
    "import numpy as np\n",
    "from tqdm import tqdm\n",
    "from datetime import datetime\n",
    "import pytz\n",
    "import json\n",
    "import joblib \n",
    "import os\n",
    "import seaborn as sns\n",
    "import matplotlib.pyplot as plt\n",
    "from sklearn.impute import KNNImputer\n",
    "from tqdm import tqdm"
   ]
  },
  {
   "cell_type": "code",
   "execution_count": 2,
   "id": "33936ce9-6883-4634-9cdf-7e48db301656",
   "metadata": {},
   "outputs": [],
   "source": [
    "# Load the dataset after the exploratory data analysis\n",
    "challenge_set_updated = pd.read_csv(\"./data/challenge_set_updated_v9.csv\")\n",
    "submission_set = pd.read_csv(\"./data/submission_set.csv\")\n",
    "submission_set_updated = pd.read_csv(\"./data/submission_set_updated_v9.csv\")"
   ]
  },
  {
   "cell_type": "code",
   "execution_count": 3,
   "id": "3ffb1c80-41a8-4a17-a3a2-20fc4c511969",
   "metadata": {},
   "outputs": [
    {
     "name": "stdout",
     "output_type": "stream",
     "text": [
      "Analysis of challenge_set_updated:\n",
      "                               Missing Values  Percentage\n",
      "track_variation_ARR_100                 23528    6.375927\n",
      "track_variation_DEP_100                 54966   14.895410\n",
      "track_variation_ENR                     50848   13.779460\n",
      "average_vertical_rate_ARR_100           23728    6.430126\n",
      "average_vertical_rate_DEP_100           55412   15.016273\n",
      "average_vertical_rate_ENR               50852   13.780544\n",
      "average_airspeed_ARR_100                23996    6.502752\n",
      "average_airspeed_DEP_100                55471   15.032262\n",
      "average_airspeed_ENR                    50852   13.780544\n",
      "groundspeed_ARR_100                     23725    6.429313\n",
      "groundspeed_DEP_100                     55409   15.015460\n",
      "groundspeed_ENR                         50850   13.780002\n",
      "wind_distance_ARR_100                   23528    6.375927\n",
      "wind_distance_DEP_100                   54966   14.895410\n",
      "wind_distance_ENR                       50848   13.779460\n",
      "average_temperature_ARR_100             23832    6.458309\n",
      "average_temperature_DEP_100             55228   14.966410\n",
      "average_temperature_ENR                 50850   13.780002\n",
      "average_humidity_ARR_100                23832    6.458309\n",
      "average_humidity_DEP_100                55228   14.966410\n",
      "average_humidity_ENR                    50850   13.780002\n",
      "specific_energy_ARR_100                153734   41.660863\n",
      "specific_energy_DEP_100                 56379   15.278324\n",
      "specific_energy_ENR                     51764   14.027690\n",
      "flown_distance_ARR_100                  23528    6.375927\n",
      "flown_distance_DEP_100                  54966   14.895410\n",
      "flown_distance_ENR                      50848   13.779460\n",
      "specific_energy                          4329    1.173129\n",
      "\n",
      "Analysis of submission_set_updated:\n",
      "                               Missing Values  Percentage\n",
      "track_variation_ARR_100                  6688    6.311875\n",
      "track_variation_DEP_100                 15825   14.935022\n",
      "track_variation_ENR                     14348   13.541087\n",
      "average_vertical_rate_ARR_100            6749    6.369445\n",
      "average_vertical_rate_DEP_100           15943   15.046386\n",
      "average_vertical_rate_ENR               14348   13.541087\n",
      "average_airspeed_ARR_100                 6810    6.427014\n",
      "average_airspeed_DEP_100                15969   15.070924\n",
      "average_airspeed_ENR                    14350   13.542974\n",
      "groundspeed_ARR_100                      6749    6.369445\n",
      "groundspeed_DEP_100                     15943   15.046386\n",
      "groundspeed_ENR                         14348   13.541087\n",
      "wind_distance_ARR_100                    6688    6.311875\n",
      "wind_distance_DEP_100                   15825   14.935022\n",
      "wind_distance_ENR                       14348   13.541087\n",
      "average_temperature_ARR_100              6766    6.385489\n",
      "average_temperature_DEP_100             15910   15.015242\n",
      "average_temperature_ENR                 14350   13.542974\n",
      "average_humidity_ARR_100                 6766    6.385489\n",
      "average_humidity_DEP_100                15910   15.015242\n",
      "average_humidity_ENR                    14350   13.542974\n",
      "specific_energy_ARR_100                 43812   41.348069\n",
      "specific_energy_DEP_100                 16232   15.319133\n",
      "specific_energy_ENR                     14616   13.794015\n",
      "flown_distance_ARR_100                   6688    6.311875\n",
      "flown_distance_DEP_100                  15825   14.935022\n",
      "flown_distance_ENR                      14348   13.541087\n",
      "specific_energy                          1349    1.273134\n",
      "tow                                    105959  100.000000\n"
     ]
    }
   ],
   "source": [
    "# Function to analyze missing values\n",
    "def analyze_missing_values(df):\n",
    "    # Count and percentage of missing values per column\n",
    "    missing_values = df.isna().sum()\n",
    "    missing_percentage = (missing_values / len(df)) * 100\n",
    "    missing_summary = pd.DataFrame({'Missing Values': missing_values, 'Percentage': missing_percentage})\n",
    "    \n",
    "    # Display summary of missing values\n",
    "    print(missing_summary[missing_summary['Missing Values'] > 0])\n",
    "    \n",
    "# Analyzing missing values in both datasets\n",
    "print(\"Analysis of challenge_set_updated:\")\n",
    "analyze_missing_values(challenge_set_updated)\n",
    "\n",
    "print(\"\\nAnalysis of submission_set_updated:\")\n",
    "analyze_missing_values(submission_set_updated)"
   ]
  },
  {
   "cell_type": "code",
   "execution_count": 4,
   "id": "b9adef39-d715-4df0-8f6b-095d9523be43",
   "metadata": {},
   "outputs": [],
   "source": [
    "# Function to drop columns with more than 16% missing values, except for 'tow' in the submission set\n",
    "def drop_columns_above_threshold(df, threshold=16, preserve_columns=None):\n",
    "    if preserve_columns is None:\n",
    "        preserve_columns = []\n",
    "    \n",
    "    missing_percentage = df.isna().mean() * 100\n",
    "    cols_to_keep = missing_percentage[missing_percentage <= threshold].index.tolist()\n",
    "    \n",
    "    # Ensure columns in preserve_columns are kept even if they exceed the threshold\n",
    "    cols_to_keep.extend([col for col in preserve_columns if col in df.columns])\n",
    "    \n",
    "    df = df[cols_to_keep]\n",
    "    return df\n",
    "\n",
    "# Applying the function to challenge_set_updated\n",
    "challenge_set_updated = drop_columns_above_threshold(challenge_set_updated)\n",
    "\n",
    "# Applying the function to submission_set_updated, keeping 'tow'\n",
    "submission_set_updated = drop_columns_above_threshold(submission_set_updated, preserve_columns=['tow'])"
   ]
  },
  {
   "cell_type": "code",
   "execution_count": 5,
   "id": "35910a7a-9bed-421e-b589-5f942b5b832d",
   "metadata": {},
   "outputs": [
    {
     "name": "stderr",
     "output_type": "stream",
     "text": [
      "Imputing columns:   0%|          | 0/27 [00:00<?, ?it/s]"
     ]
    },
    {
     "name": "stdout",
     "output_type": "stream",
     "text": [
      "Processing column: track_variation_ARR_100\n"
     ]
    },
    {
     "name": "stderr",
     "output_type": "stream",
     "text": [
      "Imputing columns:   4%|▎         | 1/27 [01:57<51:04, 117.85s/it]"
     ]
    },
    {
     "name": "stdout",
     "output_type": "stream",
     "text": [
      "Processing column: track_variation_DEP_100\n"
     ]
    },
    {
     "name": "stderr",
     "output_type": "stream",
     "text": [
      "Imputing columns:   7%|▋         | 2/27 [02:06<22:27, 53.90s/it] "
     ]
    },
    {
     "name": "stdout",
     "output_type": "stream",
     "text": [
      "Processing column: track_variation_ENR\n"
     ]
    },
    {
     "name": "stderr",
     "output_type": "stream",
     "text": [
      "Imputing columns:  11%|█         | 3/27 [02:15<13:12, 33.01s/it]"
     ]
    },
    {
     "name": "stdout",
     "output_type": "stream",
     "text": [
      "Processing column: average_vertical_rate_ARR_100\n"
     ]
    },
    {
     "name": "stderr",
     "output_type": "stream",
     "text": [
      "Imputing columns:  15%|█▍        | 4/27 [02:23<08:52, 23.15s/it]"
     ]
    },
    {
     "name": "stdout",
     "output_type": "stream",
     "text": [
      "Processing column: average_vertical_rate_DEP_100\n"
     ]
    },
    {
     "name": "stderr",
     "output_type": "stream",
     "text": [
      "Imputing columns:  19%|█▊        | 5/27 [02:31<06:30, 17.77s/it]"
     ]
    },
    {
     "name": "stdout",
     "output_type": "stream",
     "text": [
      "Processing column: average_vertical_rate_ENR\n"
     ]
    },
    {
     "name": "stderr",
     "output_type": "stream",
     "text": [
      "Imputing columns:  22%|██▏       | 6/27 [02:39<05:04, 14.52s/it]"
     ]
    },
    {
     "name": "stdout",
     "output_type": "stream",
     "text": [
      "Processing column: average_airspeed_ARR_100\n"
     ]
    },
    {
     "name": "stderr",
     "output_type": "stream",
     "text": [
      "Imputing columns:  26%|██▌       | 7/27 [02:47<04:08, 12.40s/it]"
     ]
    },
    {
     "name": "stdout",
     "output_type": "stream",
     "text": [
      "Processing column: average_airspeed_DEP_100\n"
     ]
    },
    {
     "name": "stderr",
     "output_type": "stream",
     "text": [
      "Imputing columns:  30%|██▉       | 8/27 [02:56<03:31, 11.12s/it]"
     ]
    },
    {
     "name": "stdout",
     "output_type": "stream",
     "text": [
      "Processing column: average_airspeed_ENR\n"
     ]
    },
    {
     "name": "stderr",
     "output_type": "stream",
     "text": [
      "Imputing columns:  33%|███▎      | 9/27 [03:04<03:03, 10.20s/it]"
     ]
    },
    {
     "name": "stdout",
     "output_type": "stream",
     "text": [
      "Processing column: groundspeed_ARR_100\n"
     ]
    },
    {
     "name": "stderr",
     "output_type": "stream",
     "text": [
      "Imputing columns:  37%|███▋      | 10/27 [03:12<02:41,  9.52s/it]"
     ]
    },
    {
     "name": "stdout",
     "output_type": "stream",
     "text": [
      "Processing column: groundspeed_DEP_100\n"
     ]
    },
    {
     "name": "stderr",
     "output_type": "stream",
     "text": [
      "Imputing columns:  41%|████      | 11/27 [03:20<02:26,  9.13s/it]"
     ]
    },
    {
     "name": "stdout",
     "output_type": "stream",
     "text": [
      "Processing column: groundspeed_ENR\n"
     ]
    },
    {
     "name": "stderr",
     "output_type": "stream",
     "text": [
      "Imputing columns:  44%|████▍     | 12/27 [03:28<02:12,  8.83s/it]"
     ]
    },
    {
     "name": "stdout",
     "output_type": "stream",
     "text": [
      "Processing column: wind_distance_ARR_100\n"
     ]
    },
    {
     "name": "stderr",
     "output_type": "stream",
     "text": [
      "Imputing columns:  48%|████▊     | 13/27 [03:36<02:00,  8.60s/it]"
     ]
    },
    {
     "name": "stdout",
     "output_type": "stream",
     "text": [
      "Processing column: wind_distance_DEP_100\n"
     ]
    },
    {
     "name": "stderr",
     "output_type": "stream",
     "text": [
      "Imputing columns:  52%|█████▏    | 14/27 [03:44<01:50,  8.46s/it]"
     ]
    },
    {
     "name": "stdout",
     "output_type": "stream",
     "text": [
      "Processing column: wind_distance_ENR\n"
     ]
    },
    {
     "name": "stderr",
     "output_type": "stream",
     "text": [
      "Imputing columns:  56%|█████▌    | 15/27 [03:53<01:40,  8.38s/it]"
     ]
    },
    {
     "name": "stdout",
     "output_type": "stream",
     "text": [
      "Processing column: average_temperature_ARR_100\n"
     ]
    },
    {
     "name": "stderr",
     "output_type": "stream",
     "text": [
      "Imputing columns:  59%|█████▉    | 16/27 [04:01<01:31,  8.31s/it]"
     ]
    },
    {
     "name": "stdout",
     "output_type": "stream",
     "text": [
      "Processing column: average_temperature_DEP_100\n"
     ]
    },
    {
     "name": "stderr",
     "output_type": "stream",
     "text": [
      "Imputing columns:  63%|██████▎   | 17/27 [04:09<01:22,  8.28s/it]"
     ]
    },
    {
     "name": "stdout",
     "output_type": "stream",
     "text": [
      "Processing column: average_temperature_ENR\n"
     ]
    },
    {
     "name": "stderr",
     "output_type": "stream",
     "text": [
      "Imputing columns:  67%|██████▋   | 18/27 [04:17<01:14,  8.28s/it]"
     ]
    },
    {
     "name": "stdout",
     "output_type": "stream",
     "text": [
      "Processing column: average_humidity_ARR_100\n"
     ]
    },
    {
     "name": "stderr",
     "output_type": "stream",
     "text": [
      "Imputing columns:  70%|███████   | 19/27 [04:25<01:05,  8.20s/it]"
     ]
    },
    {
     "name": "stdout",
     "output_type": "stream",
     "text": [
      "Processing column: average_humidity_DEP_100\n"
     ]
    },
    {
     "name": "stderr",
     "output_type": "stream",
     "text": [
      "Imputing columns:  74%|███████▍  | 20/27 [04:33<00:57,  8.19s/it]"
     ]
    },
    {
     "name": "stdout",
     "output_type": "stream",
     "text": [
      "Processing column: average_humidity_ENR\n"
     ]
    },
    {
     "name": "stderr",
     "output_type": "stream",
     "text": [
      "Imputing columns:  78%|███████▊  | 21/27 [04:41<00:49,  8.18s/it]"
     ]
    },
    {
     "name": "stdout",
     "output_type": "stream",
     "text": [
      "Processing column: specific_energy_DEP_100\n"
     ]
    },
    {
     "name": "stderr",
     "output_type": "stream",
     "text": [
      "Imputing columns:  81%|████████▏ | 22/27 [04:50<00:40,  8.19s/it]"
     ]
    },
    {
     "name": "stdout",
     "output_type": "stream",
     "text": [
      "Processing column: specific_energy_ENR\n"
     ]
    },
    {
     "name": "stderr",
     "output_type": "stream",
     "text": [
      "Imputing columns:  85%|████████▌ | 23/27 [04:58<00:32,  8.20s/it]"
     ]
    },
    {
     "name": "stdout",
     "output_type": "stream",
     "text": [
      "Processing column: flown_distance_ARR_100\n"
     ]
    },
    {
     "name": "stderr",
     "output_type": "stream",
     "text": [
      "Imputing columns:  89%|████████▉ | 24/27 [05:06<00:24,  8.13s/it]"
     ]
    },
    {
     "name": "stdout",
     "output_type": "stream",
     "text": [
      "Processing column: flown_distance_DEP_100\n"
     ]
    },
    {
     "name": "stderr",
     "output_type": "stream",
     "text": [
      "Imputing columns:  93%|█████████▎| 25/27 [05:14<00:16,  8.16s/it]"
     ]
    },
    {
     "name": "stdout",
     "output_type": "stream",
     "text": [
      "Processing column: flown_distance_ENR\n"
     ]
    },
    {
     "name": "stderr",
     "output_type": "stream",
     "text": [
      "Imputing columns:  96%|█████████▋| 26/27 [05:22<00:08,  8.18s/it]"
     ]
    },
    {
     "name": "stdout",
     "output_type": "stream",
     "text": [
      "Processing column: specific_energy\n"
     ]
    },
    {
     "name": "stderr",
     "output_type": "stream",
     "text": [
      "Imputing columns: 100%|██████████| 27/27 [05:30<00:00, 12.25s/it]\n",
      "Imputing columns:   0%|          | 0/27 [00:00<?, ?it/s]"
     ]
    },
    {
     "name": "stdout",
     "output_type": "stream",
     "text": [
      "Processing column: track_variation_ARR_100\n"
     ]
    },
    {
     "name": "stderr",
     "output_type": "stream",
     "text": [
      "Imputing columns:   4%|▎         | 1/27 [00:29<12:35, 29.06s/it]"
     ]
    },
    {
     "name": "stdout",
     "output_type": "stream",
     "text": [
      "Processing column: track_variation_DEP_100\n"
     ]
    },
    {
     "name": "stderr",
     "output_type": "stream",
     "text": [
      "Imputing columns:   7%|▋         | 2/27 [00:31<05:36, 13.47s/it]"
     ]
    },
    {
     "name": "stdout",
     "output_type": "stream",
     "text": [
      "Processing column: track_variation_ENR\n"
     ]
    },
    {
     "name": "stderr",
     "output_type": "stream",
     "text": [
      "Imputing columns:  11%|█         | 3/27 [00:33<03:20,  8.34s/it]"
     ]
    },
    {
     "name": "stdout",
     "output_type": "stream",
     "text": [
      "Processing column: average_vertical_rate_ARR_100\n"
     ]
    },
    {
     "name": "stderr",
     "output_type": "stream",
     "text": [
      "Imputing columns:  15%|█▍        | 4/27 [00:36<02:16,  5.94s/it]"
     ]
    },
    {
     "name": "stdout",
     "output_type": "stream",
     "text": [
      "Processing column: average_vertical_rate_DEP_100\n"
     ]
    },
    {
     "name": "stderr",
     "output_type": "stream",
     "text": [
      "Imputing columns:  19%|█▊        | 5/27 [00:38<01:41,  4.60s/it]"
     ]
    },
    {
     "name": "stdout",
     "output_type": "stream",
     "text": [
      "Processing column: average_vertical_rate_ENR\n"
     ]
    },
    {
     "name": "stderr",
     "output_type": "stream",
     "text": [
      "Imputing columns:  22%|██▏       | 6/27 [00:40<01:19,  3.80s/it]"
     ]
    },
    {
     "name": "stdout",
     "output_type": "stream",
     "text": [
      "Processing column: average_airspeed_ARR_100\n"
     ]
    },
    {
     "name": "stderr",
     "output_type": "stream",
     "text": [
      "Imputing columns:  26%|██▌       | 7/27 [00:42<01:06,  3.31s/it]"
     ]
    },
    {
     "name": "stdout",
     "output_type": "stream",
     "text": [
      "Processing column: average_airspeed_DEP_100\n"
     ]
    },
    {
     "name": "stderr",
     "output_type": "stream",
     "text": [
      "Imputing columns:  30%|██▉       | 8/27 [00:45<00:56,  2.97s/it]"
     ]
    },
    {
     "name": "stdout",
     "output_type": "stream",
     "text": [
      "Processing column: average_airspeed_ENR\n"
     ]
    },
    {
     "name": "stderr",
     "output_type": "stream",
     "text": [
      "Imputing columns:  33%|███▎      | 9/27 [00:47<00:49,  2.74s/it]"
     ]
    },
    {
     "name": "stdout",
     "output_type": "stream",
     "text": [
      "Processing column: groundspeed_ARR_100\n"
     ]
    },
    {
     "name": "stderr",
     "output_type": "stream",
     "text": [
      "Imputing columns:  37%|███▋      | 10/27 [00:49<00:44,  2.60s/it]"
     ]
    },
    {
     "name": "stdout",
     "output_type": "stream",
     "text": [
      "Processing column: groundspeed_DEP_100\n"
     ]
    },
    {
     "name": "stderr",
     "output_type": "stream",
     "text": [
      "Imputing columns:  41%|████      | 11/27 [00:51<00:39,  2.49s/it]"
     ]
    },
    {
     "name": "stdout",
     "output_type": "stream",
     "text": [
      "Processing column: groundspeed_ENR\n"
     ]
    },
    {
     "name": "stderr",
     "output_type": "stream",
     "text": [
      "Imputing columns:  44%|████▍     | 12/27 [00:54<00:36,  2.41s/it]"
     ]
    },
    {
     "name": "stdout",
     "output_type": "stream",
     "text": [
      "Processing column: wind_distance_ARR_100\n"
     ]
    },
    {
     "name": "stderr",
     "output_type": "stream",
     "text": [
      "Imputing columns:  48%|████▊     | 13/27 [00:56<00:33,  2.37s/it]"
     ]
    },
    {
     "name": "stdout",
     "output_type": "stream",
     "text": [
      "Processing column: wind_distance_DEP_100\n"
     ]
    },
    {
     "name": "stderr",
     "output_type": "stream",
     "text": [
      "Imputing columns:  52%|█████▏    | 14/27 [00:58<00:30,  2.33s/it]"
     ]
    },
    {
     "name": "stdout",
     "output_type": "stream",
     "text": [
      "Processing column: wind_distance_ENR\n"
     ]
    },
    {
     "name": "stderr",
     "output_type": "stream",
     "text": [
      "Imputing columns:  56%|█████▌    | 15/27 [01:00<00:27,  2.31s/it]"
     ]
    },
    {
     "name": "stdout",
     "output_type": "stream",
     "text": [
      "Processing column: average_temperature_ARR_100\n"
     ]
    },
    {
     "name": "stderr",
     "output_type": "stream",
     "text": [
      "Imputing columns:  59%|█████▉    | 16/27 [01:03<00:25,  2.32s/it]"
     ]
    },
    {
     "name": "stdout",
     "output_type": "stream",
     "text": [
      "Processing column: average_temperature_DEP_100\n"
     ]
    },
    {
     "name": "stderr",
     "output_type": "stream",
     "text": [
      "Imputing columns:  63%|██████▎   | 17/27 [01:05<00:23,  2.30s/it]"
     ]
    },
    {
     "name": "stdout",
     "output_type": "stream",
     "text": [
      "Processing column: average_temperature_ENR\n"
     ]
    },
    {
     "name": "stderr",
     "output_type": "stream",
     "text": [
      "Imputing columns:  67%|██████▋   | 18/27 [01:07<00:20,  2.30s/it]"
     ]
    },
    {
     "name": "stdout",
     "output_type": "stream",
     "text": [
      "Processing column: average_humidity_ARR_100\n"
     ]
    },
    {
     "name": "stderr",
     "output_type": "stream",
     "text": [
      "Imputing columns:  70%|███████   | 19/27 [01:10<00:18,  2.29s/it]"
     ]
    },
    {
     "name": "stdout",
     "output_type": "stream",
     "text": [
      "Processing column: average_humidity_DEP_100\n"
     ]
    },
    {
     "name": "stderr",
     "output_type": "stream",
     "text": [
      "Imputing columns:  74%|███████▍  | 20/27 [01:12<00:15,  2.28s/it]"
     ]
    },
    {
     "name": "stdout",
     "output_type": "stream",
     "text": [
      "Processing column: average_humidity_ENR\n"
     ]
    },
    {
     "name": "stderr",
     "output_type": "stream",
     "text": [
      "Imputing columns:  78%|███████▊  | 21/27 [01:14<00:13,  2.27s/it]"
     ]
    },
    {
     "name": "stdout",
     "output_type": "stream",
     "text": [
      "Processing column: specific_energy_DEP_100\n"
     ]
    },
    {
     "name": "stderr",
     "output_type": "stream",
     "text": [
      "Imputing columns:  81%|████████▏ | 22/27 [01:16<00:11,  2.26s/it]"
     ]
    },
    {
     "name": "stdout",
     "output_type": "stream",
     "text": [
      "Processing column: specific_energy_ENR\n"
     ]
    },
    {
     "name": "stderr",
     "output_type": "stream",
     "text": [
      "Imputing columns:  85%|████████▌ | 23/27 [01:19<00:09,  2.26s/it]"
     ]
    },
    {
     "name": "stdout",
     "output_type": "stream",
     "text": [
      "Processing column: flown_distance_ARR_100\n"
     ]
    },
    {
     "name": "stderr",
     "output_type": "stream",
     "text": [
      "Imputing columns:  89%|████████▉ | 24/27 [01:21<00:06,  2.27s/it]"
     ]
    },
    {
     "name": "stdout",
     "output_type": "stream",
     "text": [
      "Processing column: flown_distance_DEP_100\n"
     ]
    },
    {
     "name": "stderr",
     "output_type": "stream",
     "text": [
      "Imputing columns:  93%|█████████▎| 25/27 [01:23<00:04,  2.26s/it]"
     ]
    },
    {
     "name": "stdout",
     "output_type": "stream",
     "text": [
      "Processing column: flown_distance_ENR\n"
     ]
    },
    {
     "name": "stderr",
     "output_type": "stream",
     "text": [
      "Imputing columns:  96%|█████████▋| 26/27 [01:25<00:02,  2.26s/it]"
     ]
    },
    {
     "name": "stdout",
     "output_type": "stream",
     "text": [
      "Processing column: specific_energy\n"
     ]
    },
    {
     "name": "stderr",
     "output_type": "stream",
     "text": [
      "Imputing columns: 100%|██████████| 27/27 [01:28<00:00,  3.26s/it]\n"
     ]
    }
   ],
   "source": [
    "# Function to handle infinities and large values\n",
    "def clean_infinities(df):\n",
    "    \"\"\"\n",
    "    Replace infinite values with NaN in the dataframe to handle large or infinite values.\n",
    "    \"\"\"\n",
    "    return df.replace([np.inf, -np.inf], np.nan)\n",
    "\n",
    "# Function to impute missing values using KNN\n",
    "def knn_imputation(df, exclude_columns=None, n_neighbors=5):\n",
    "    \"\"\"\n",
    "    Impute missing values using K-Nearest Neighbors (KNN), using only the columns that do not have missing values,\n",
    "    excluding the specified columns.\n",
    "    \n",
    "    Parameters:\n",
    "    df (pd.DataFrame): The dataframe to impute.\n",
    "    exclude_columns (list): List of columns to exclude from the imputation (e.g., 'tow').\n",
    "    n_neighbors (int): Number of neighbors to use for KNN imputation.\n",
    "    \n",
    "    Returns:\n",
    "    pd.DataFrame: Dataframe with imputed values.\n",
    "    \"\"\"\n",
    "    df = df.copy()  # Create a copy of the dataframe to avoid modifying the original\n",
    "\n",
    "    # Clean infinite values in the dataframe by replacing them with NaN\n",
    "    df = clean_infinities(df)\n",
    "\n",
    "    # Exclude specified columns from the imputation process\n",
    "    if exclude_columns is None:\n",
    "        exclude_columns = []\n",
    "\n",
    "    # Ensure 'tow' is in the exclude columns, regardless of its state\n",
    "    if 'tow' not in exclude_columns:\n",
    "        exclude_columns.append('tow')\n",
    "\n",
    "    # Select numeric columns that are not in the exclude list\n",
    "    numeric_columns = df.select_dtypes(include=[np.number]).drop(columns=exclude_columns, errors='ignore')\n",
    "\n",
    "    # Identify columns with missing values\n",
    "    cols_with_missing = numeric_columns.columns[numeric_columns.isnull().any()]\n",
    "\n",
    "    # Loop through each column that has missing values with a progress bar using tqdm\n",
    "    for col in tqdm(cols_with_missing, desc=\"Imputing columns\"):\n",
    "        # Print the column being processed\n",
    "        print(f\"Processing column: {col}\")\n",
    "        \n",
    "        # Separate rows with and without missing values in the target column\n",
    "        missing_rows = numeric_columns[col].isnull()\n",
    "        non_missing_rows = ~missing_rows\n",
    "\n",
    "        # Find columns that do not have missing values both in non-missing and missing rows\n",
    "        non_missing_features = numeric_columns.loc[non_missing_rows].dropna(axis=1).columns\n",
    "        missing_features = numeric_columns.loc[missing_rows, non_missing_features].dropna(axis=1).columns\n",
    "\n",
    "        # Ensure both training and missing feature sets are aligned and non-empty\n",
    "        consistent_features = non_missing_features.intersection(missing_features)\n",
    "\n",
    "        if consistent_features.empty:\n",
    "            print(f\"Skipping column {col}: No consistent features between training and prediction.\")\n",
    "            continue\n",
    "\n",
    "        # Use only the consistent columns without missing values for KNN imputation\n",
    "        X_train = df.loc[non_missing_rows, consistent_features]\n",
    "        X_missing = df.loc[missing_rows, consistent_features]\n",
    "\n",
    "        # Verifica se há NaNs nas features antes de aplicar o KNN\n",
    "        if X_train.isnull().values.any():\n",
    "            print(f\"Skipping column {col}: NaNs found in training data.\")\n",
    "            continue\n",
    "\n",
    "        # Apply KNN Imputer\n",
    "        imputer = KNNImputer(n_neighbors=n_neighbors)\n",
    "        combined_data = pd.concat([X_train, X_missing])\n",
    "        imputed_data = imputer.fit_transform(combined_data)\n",
    "\n",
    "        # Replace the original missing values with imputed values\n",
    "        df.loc[combined_data.index, consistent_features] = imputed_data\n",
    "\n",
    "    return df\n",
    "\n",
    "# Applying the KNN imputation on challenge_set_updated\n",
    "challenge_set_updated = knn_imputation(challenge_set_updated, exclude_columns=['tow'], n_neighbors=5)\n",
    "# challenge_set_updated.to_csv(\"./data/challenge_set_updated_imputed.csv\", index=False)\n",
    "\n",
    "# Applying the KNN imputation on submission_set_updated\n",
    "submission_set_updated = knn_imputation(submission_set_updated, exclude_columns=['tow'], n_neighbors=5)\n",
    "# submission_set_updated.to_csv(\"./data/submission_set_updated_imputed.csv\", index=False)"
   ]
  },
  {
   "cell_type": "code",
   "execution_count": 6,
   "id": "4f017078-f0cd-4e9f-9ae3-658d1b560116",
   "metadata": {},
   "outputs": [],
   "source": [
    "# If necessary change this part to test the model before the training process\n",
    "df = challenge_set_updated.iloc[:,:]\n",
    "\n",
    "# Separating features and target variable\n",
    "X = df.drop('tow', axis=1)\n",
    "y = df['tow']\n",
    "\n",
    "n_jobs = os.cpu_count() - 1"
   ]
  },
  {
   "cell_type": "code",
   "execution_count": 7,
   "id": "19810434-b559-47aa-b836-1d6adb80443f",
   "metadata": {},
   "outputs": [
    {
     "name": "stdout",
     "output_type": "stream",
     "text": [
      "[0]\tvalidation_0-rmse:53006.27714\n",
      "[50]\tvalidation_0-rmse:35616.97985\n",
      "[100]\tvalidation_0-rmse:24019.71245\n",
      "[150]\tvalidation_0-rmse:16323.17530\n",
      "[200]\tvalidation_0-rmse:11254.95525\n",
      "[250]\tvalidation_0-rmse:7974.48395\n",
      "[300]\tvalidation_0-rmse:5922.21594\n",
      "[350]\tvalidation_0-rmse:4695.10843\n",
      "[400]\tvalidation_0-rmse:4005.54282\n",
      "[450]\tvalidation_0-rmse:3636.49691\n",
      "[500]\tvalidation_0-rmse:3445.29560\n",
      "[550]\tvalidation_0-rmse:3343.26518\n",
      "[600]\tvalidation_0-rmse:3284.48316\n",
      "[650]\tvalidation_0-rmse:3248.48205\n",
      "[700]\tvalidation_0-rmse:3225.04844\n",
      "[750]\tvalidation_0-rmse:3209.46269\n",
      "[800]\tvalidation_0-rmse:3194.57403\n",
      "[850]\tvalidation_0-rmse:3182.41555\n",
      "[900]\tvalidation_0-rmse:3172.03515\n",
      "[950]\tvalidation_0-rmse:3163.74053\n",
      "[1000]\tvalidation_0-rmse:3155.94142\n",
      "[1050]\tvalidation_0-rmse:3148.49154\n",
      "[1100]\tvalidation_0-rmse:3142.54755\n",
      "[1150]\tvalidation_0-rmse:3137.03179\n",
      "[1200]\tvalidation_0-rmse:3131.90869\n",
      "[1250]\tvalidation_0-rmse:3127.32468\n",
      "[1300]\tvalidation_0-rmse:3123.41842\n",
      "[1350]\tvalidation_0-rmse:3119.19458\n",
      "[1400]\tvalidation_0-rmse:3115.55864\n",
      "[1450]\tvalidation_0-rmse:3112.06422\n",
      "[1500]\tvalidation_0-rmse:3109.07122\n",
      "[1550]\tvalidation_0-rmse:3106.35457\n",
      "[1600]\tvalidation_0-rmse:3103.40418\n",
      "[1650]\tvalidation_0-rmse:3101.22855\n",
      "[1700]\tvalidation_0-rmse:3098.98457\n",
      "[1750]\tvalidation_0-rmse:3096.86292\n",
      "[1800]\tvalidation_0-rmse:3094.66627\n",
      "[1850]\tvalidation_0-rmse:3092.64717\n",
      "[1900]\tvalidation_0-rmse:3091.05077\n",
      "[1950]\tvalidation_0-rmse:3088.98240\n",
      "[2000]\tvalidation_0-rmse:3087.21233\n",
      "[2050]\tvalidation_0-rmse:3085.66117\n",
      "[2100]\tvalidation_0-rmse:3084.17708\n",
      "[2150]\tvalidation_0-rmse:3082.78341\n",
      "[2200]\tvalidation_0-rmse:3081.41111\n",
      "[2250]\tvalidation_0-rmse:3079.99135\n",
      "[2300]\tvalidation_0-rmse:3078.51139\n",
      "[2350]\tvalidation_0-rmse:3077.17381\n",
      "[2400]\tvalidation_0-rmse:3075.94272\n",
      "[2450]\tvalidation_0-rmse:3074.73924\n",
      "[2500]\tvalidation_0-rmse:3073.51092\n",
      "[2550]\tvalidation_0-rmse:3072.53689\n",
      "[2600]\tvalidation_0-rmse:3071.49551\n",
      "[2650]\tvalidation_0-rmse:3070.45460\n",
      "[2700]\tvalidation_0-rmse:3069.41182\n",
      "[2750]\tvalidation_0-rmse:3068.37856\n",
      "[2800]\tvalidation_0-rmse:3067.43011\n",
      "[2850]\tvalidation_0-rmse:3066.50953\n",
      "[2900]\tvalidation_0-rmse:3065.62036\n",
      "[2950]\tvalidation_0-rmse:3064.72736\n",
      "[3000]\tvalidation_0-rmse:3063.90496\n",
      "[3050]\tvalidation_0-rmse:3062.92041\n",
      "[3100]\tvalidation_0-rmse:3062.04649\n",
      "[3150]\tvalidation_0-rmse:3061.24573\n",
      "[3200]\tvalidation_0-rmse:3060.53345\n",
      "[3250]\tvalidation_0-rmse:3059.75599\n",
      "[3300]\tvalidation_0-rmse:3058.99342\n",
      "[3350]\tvalidation_0-rmse:3058.38165\n",
      "[3400]\tvalidation_0-rmse:3057.67368\n",
      "[3450]\tvalidation_0-rmse:3057.06457\n",
      "[3500]\tvalidation_0-rmse:3056.56000\n",
      "[3550]\tvalidation_0-rmse:3056.03255\n",
      "[3600]\tvalidation_0-rmse:3055.46335\n",
      "[3650]\tvalidation_0-rmse:3054.99667\n",
      "[3700]\tvalidation_0-rmse:3054.38648\n",
      "[3750]\tvalidation_0-rmse:3053.88530\n",
      "[3800]\tvalidation_0-rmse:3053.33864\n",
      "[3850]\tvalidation_0-rmse:3052.88984\n",
      "[3900]\tvalidation_0-rmse:3052.52004\n",
      "[3950]\tvalidation_0-rmse:3052.04178\n",
      "[4000]\tvalidation_0-rmse:3051.54147\n",
      "[4050]\tvalidation_0-rmse:3051.04489\n",
      "[4100]\tvalidation_0-rmse:3050.59245\n",
      "[4150]\tvalidation_0-rmse:3050.24348\n",
      "[4200]\tvalidation_0-rmse:3049.86853\n",
      "[4250]\tvalidation_0-rmse:3049.42703\n",
      "[4300]\tvalidation_0-rmse:3049.03323\n",
      "[4350]\tvalidation_0-rmse:3048.64704\n",
      "[4400]\tvalidation_0-rmse:3048.30149\n",
      "[4450]\tvalidation_0-rmse:3047.97560\n",
      "[4500]\tvalidation_0-rmse:3047.57476\n",
      "[4550]\tvalidation_0-rmse:3047.20989\n",
      "[4600]\tvalidation_0-rmse:3046.94030\n",
      "[4650]\tvalidation_0-rmse:3046.52217\n",
      "[4700]\tvalidation_0-rmse:3046.16455\n",
      "[4750]\tvalidation_0-rmse:3045.89713\n",
      "[4800]\tvalidation_0-rmse:3045.57854\n",
      "[4850]\tvalidation_0-rmse:3045.23477\n",
      "[4900]\tvalidation_0-rmse:3044.93582\n",
      "[4950]\tvalidation_0-rmse:3044.64262\n",
      "[5000]\tvalidation_0-rmse:3044.37641\n",
      "[5050]\tvalidation_0-rmse:3044.10581\n",
      "[5100]\tvalidation_0-rmse:3043.83080\n",
      "[5150]\tvalidation_0-rmse:3043.56058\n",
      "[5200]\tvalidation_0-rmse:3043.27451\n",
      "[5250]\tvalidation_0-rmse:3042.99928\n",
      "[5300]\tvalidation_0-rmse:3042.73311\n",
      "[5350]\tvalidation_0-rmse:3042.49551\n",
      "[5400]\tvalidation_0-rmse:3042.25580\n",
      "[5450]\tvalidation_0-rmse:3042.01623\n",
      "[5500]\tvalidation_0-rmse:3041.81321\n",
      "[5550]\tvalidation_0-rmse:3041.64487\n",
      "[5600]\tvalidation_0-rmse:3041.43174\n",
      "[5650]\tvalidation_0-rmse:3041.23174\n",
      "[5700]\tvalidation_0-rmse:3041.03483\n",
      "[5750]\tvalidation_0-rmse:3040.83921\n",
      "[5800]\tvalidation_0-rmse:3040.66733\n",
      "[5850]\tvalidation_0-rmse:3040.49759\n",
      "[5900]\tvalidation_0-rmse:3040.39341\n",
      "[5950]\tvalidation_0-rmse:3040.18065\n",
      "[6000]\tvalidation_0-rmse:3040.04400\n",
      "[6050]\tvalidation_0-rmse:3039.90118\n",
      "[6100]\tvalidation_0-rmse:3039.74815\n",
      "[6150]\tvalidation_0-rmse:3039.58762\n",
      "[6200]\tvalidation_0-rmse:3039.43195\n",
      "[6250]\tvalidation_0-rmse:3039.27964\n",
      "[6300]\tvalidation_0-rmse:3039.12616\n",
      "[6350]\tvalidation_0-rmse:3039.00368\n",
      "[6400]\tvalidation_0-rmse:3038.86434\n",
      "[6450]\tvalidation_0-rmse:3038.67440\n",
      "[6500]\tvalidation_0-rmse:3038.55584\n",
      "[6550]\tvalidation_0-rmse:3038.42572\n",
      "[6600]\tvalidation_0-rmse:3038.29202\n",
      "[6650]\tvalidation_0-rmse:3038.11891\n",
      "[6700]\tvalidation_0-rmse:3037.99750\n",
      "[6750]\tvalidation_0-rmse:3037.90734\n",
      "[6800]\tvalidation_0-rmse:3037.74076\n",
      "[6850]\tvalidation_0-rmse:3037.60525\n",
      "[6900]\tvalidation_0-rmse:3037.51369\n",
      "[6950]\tvalidation_0-rmse:3037.38008\n",
      "[7000]\tvalidation_0-rmse:3037.25205\n",
      "[7050]\tvalidation_0-rmse:3037.12704\n",
      "[7100]\tvalidation_0-rmse:3037.02088\n",
      "[7150]\tvalidation_0-rmse:3036.87759\n",
      "[7200]\tvalidation_0-rmse:3036.75532\n",
      "[7250]\tvalidation_0-rmse:3036.61775\n",
      "[7300]\tvalidation_0-rmse:3036.51606\n",
      "[7350]\tvalidation_0-rmse:3036.40279\n",
      "[7400]\tvalidation_0-rmse:3036.28698\n",
      "[7450]\tvalidation_0-rmse:3036.17031\n",
      "[7500]\tvalidation_0-rmse:3036.08645\n",
      "[7550]\tvalidation_0-rmse:3035.97369\n",
      "[7600]\tvalidation_0-rmse:3035.88834\n",
      "[7650]\tvalidation_0-rmse:3035.76625\n",
      "[7700]\tvalidation_0-rmse:3035.66448\n",
      "[7750]\tvalidation_0-rmse:3035.57542\n",
      "[7800]\tvalidation_0-rmse:3035.49324\n",
      "[7850]\tvalidation_0-rmse:3035.39599\n",
      "[7900]\tvalidation_0-rmse:3035.31766\n",
      "[7950]\tvalidation_0-rmse:3035.24989\n",
      "[8000]\tvalidation_0-rmse:3035.16273\n",
      "[8050]\tvalidation_0-rmse:3035.05399\n",
      "[8100]\tvalidation_0-rmse:3034.96550\n",
      "[8150]\tvalidation_0-rmse:3034.84255\n",
      "[8200]\tvalidation_0-rmse:3034.79424\n",
      "[8250]\tvalidation_0-rmse:3034.72927\n",
      "[8300]\tvalidation_0-rmse:3034.63360\n",
      "[8350]\tvalidation_0-rmse:3034.53138\n",
      "[8400]\tvalidation_0-rmse:3034.42132\n",
      "[8450]\tvalidation_0-rmse:3034.36010\n",
      "[8500]\tvalidation_0-rmse:3034.29647\n",
      "[8550]\tvalidation_0-rmse:3034.24120\n",
      "[8600]\tvalidation_0-rmse:3034.17535\n",
      "[8650]\tvalidation_0-rmse:3034.08532\n",
      "[8700]\tvalidation_0-rmse:3034.01438\n",
      "[8750]\tvalidation_0-rmse:3033.97106\n",
      "[8800]\tvalidation_0-rmse:3033.90876\n",
      "[8850]\tvalidation_0-rmse:3033.83672\n",
      "[8900]\tvalidation_0-rmse:3033.77444\n",
      "[8950]\tvalidation_0-rmse:3033.74178\n",
      "[9000]\tvalidation_0-rmse:3033.70557\n",
      "[9050]\tvalidation_0-rmse:3033.65317\n",
      "[9100]\tvalidation_0-rmse:3033.60641\n",
      "[9150]\tvalidation_0-rmse:3033.54657\n",
      "[9200]\tvalidation_0-rmse:3033.47477\n",
      "[9250]\tvalidation_0-rmse:3033.42384\n",
      "[9300]\tvalidation_0-rmse:3033.37602\n",
      "[9350]\tvalidation_0-rmse:3033.29966\n",
      "[9400]\tvalidation_0-rmse:3033.23949\n",
      "[9450]\tvalidation_0-rmse:3033.18364\n",
      "[9500]\tvalidation_0-rmse:3033.11520\n",
      "[9550]\tvalidation_0-rmse:3033.06428\n",
      "[9600]\tvalidation_0-rmse:3032.99962\n",
      "[9650]\tvalidation_0-rmse:3032.94994\n",
      "[9700]\tvalidation_0-rmse:3032.89277\n",
      "[9750]\tvalidation_0-rmse:3032.84591\n",
      "[9797]\tvalidation_0-rmse:3032.81993\n",
      "Best Model Performance - R^2 Score: 0.9968, RMSE: 2973.0258\n",
      "Updated best_params: {'subsample': 1.0, 'reg_lambda': 0.46415888336127775, 'reg_alpha': 0.166810053720005, 'min_child_weight': 4, 'max_depth': 13, 'learning_rate': 0.008, 'gamma': 0.4444444444444444, 'colsample_bytree': 0.6, 'n_estimators': 9779}\n"
     ]
    }
   ],
   "source": [
    "# Split the data into training and test sets\n",
    "X_train_full, X_test, y_train_full, y_test = train_test_split(X, y, test_size=0.2, random_state=42)\n",
    "\n",
    "# Further split the training data into training and validation sets for early stopping\n",
    "X_train, X_val, y_train, y_val = train_test_split(X_train_full, y_train_full, test_size=0.2, random_state=42)\n",
    "\n",
    "# Define the best parameters provided\n",
    "best_params = {\n",
    "    'subsample': 1.0,\n",
    "    'reg_lambda': 0.46415888336127775,\n",
    "    'reg_alpha': 0.166810053720005,\n",
    "    'min_child_weight': 4,\n",
    "    'max_depth': 13,\n",
    "    'learning_rate': 0.008,\n",
    "    'gamma': 0.4444444444444444,\n",
    "    'colsample_bytree': 0.6\n",
    "}\n",
    "\n",
    "# Initialize the XGBoost model with the provided best parameters\n",
    "best_model = XGBRegressor(\n",
    "    **best_params,\n",
    "    objective='reg:squarederror',\n",
    "    random_state=42,\n",
    "    n_estimators=10_000_000,  # Set a high value to allow early stopping to find the best n_estimators\n",
    "    n_jobs=n_jobs,\n",
    "    eval_metric=\"rmse\",  # Set eval_metric in the constructor\n",
    "    early_stopping_rounds=20,  # Set early_stopping_rounds in the constructor\n",
    "    # enable_categorical=True  # Enable categorical feature handling\n",
    ")\n",
    "\n",
    "# Train the model on the training data with early stopping using the validation set\n",
    "best_model.fit(X_train, y_train, verbose=50, eval_set=[(X_val, y_val)])\n",
    "\n",
    "# Update best_params with the best number of estimators found during early stopping\n",
    "best_params['n_estimators'] = best_model.best_iteration + 1  # +1 because best_iteration is zero-indexed\n",
    "\n",
    "# Evaluate the final model on the test set\n",
    "y_pred = best_model.predict(X_test)\n",
    "r2 = r2_score(y_test, y_pred)\n",
    "rmse = np.sqrt(mean_squared_error(y_test, y_pred))\n",
    "\n",
    "print(f\"Best Model Performance - R^2 Score: {r2:.4f}, RMSE: {rmse:.4f}\")\n",
    "print(f\"Updated best_params: {best_params}\")"
   ]
  },
  {
   "cell_type": "code",
   "execution_count": 8,
   "id": "af9cc69f-c81a-4e13-a47a-43ecfc901801",
   "metadata": {},
   "outputs": [
    {
     "name": "stdout",
     "output_type": "stream",
     "text": [
      "Results saved to logs/model_results_20240918_194727.txt\n"
     ]
    }
   ],
   "source": [
    "# Save R², RMSE, and hyperparameters\n",
    "results = {\n",
    "    'R2': float(r2),\n",
    "    'RMSE': float(rmse),\n",
    "    'Best Parameters': {key: (int(value) if isinstance(value, np.integer) else float(value)\n",
    "                              if isinstance(value, np.floating) else value)\n",
    "                        for key, value in best_params.items()}\n",
    "}\n",
    "\n",
    "# Set timezone to São Paulo (UTC-3)\n",
    "saopaulo_tz = pytz.timezone('America/Sao_Paulo')\n",
    "timestamp = datetime.now(saopaulo_tz).strftime('%Y%m%d_%H%M%S')\n",
    "\n",
    "# Define logs directory, and create them if they don't exist\n",
    "logs_dir = 'logs'\n",
    "os.makedirs(logs_dir, exist_ok=True)\n",
    "\n",
    "# Define file paths within the respective directories\n",
    "results_file = os.path.join(logs_dir, f'model_results_{timestamp}.txt')\n",
    "\n",
    "# Save the results to a TXT file\n",
    "with open(results_file, 'w') as file:\n",
    "    file.write(f\"R2: {results['R2']}\\n\")\n",
    "    file.write(f\"RMSE: {results['RMSE']}\\n\")\n",
    "    file.write(\"Best Parameters:\\n\")\n",
    "    for param, value in results['Best Parameters'].items():\n",
    "        file.write(f\"  {param}: {value}\\n\")\n",
    "\n",
    "print(f\"Results saved to {results_file}\")"
   ]
  },
  {
   "cell_type": "code",
   "execution_count": 9,
   "id": "fa803af4-452f-4f19-97b0-e1a5e69bf4bc",
   "metadata": {},
   "outputs": [
    {
     "name": "stdout",
     "output_type": "stream",
     "text": [
      "Final Model Performance - R^2 Score: 0.9968, RMSE: 2973.0258\n"
     ]
    }
   ],
   "source": [
    "# Display evaluation metrics\n",
    "print(f\"Final Model Performance - R^2 Score: {r2:.4f}, RMSE: {rmse:.4f}\")"
   ]
  },
  {
   "cell_type": "code",
   "execution_count": 10,
   "id": "bcc4fe08-cc67-4d28-8787-554c7e05917a",
   "metadata": {},
   "outputs": [
    {
     "name": "stdout",
     "output_type": "stream",
     "text": [
      "Final model trained successfully using all available data.\n"
     ]
    }
   ],
   "source": [
    "# Define models directory, and create them if they don't exist\n",
    "models_dir = 'models'\n",
    "os.makedirs(models_dir, exist_ok=True)\n",
    "\n",
    "# Train the final model using the full training+validation+test set with the optimal n_estimators\n",
    "final_model = XGBRegressor(**best_params, objective='reg:squarederror', random_state=42, n_jobs=n_jobs)\n",
    "\n",
    "# Train the model on the entire training+validation+set data\n",
    "final_model.fit(X, y, verbose=100)\n",
    "\n",
    "print(\"Final model trained successfully using all available data.\")"
   ]
  },
  {
   "cell_type": "code",
   "execution_count": 11,
   "id": "f4865b87-8fb4-4d17-b844-4813da8d2f64",
   "metadata": {},
   "outputs": [
    {
     "name": "stdout",
     "output_type": "stream",
     "text": [
      "Model saved to models/trained_model_20240918_194727.joblib\n"
     ]
    }
   ],
   "source": [
    "# Define file paths within the respective directories\n",
    "model_file = os.path.join(models_dir, f'trained_model_{timestamp}.joblib')\n",
    "\n",
    "# Save the trained model to a file in the models folder\n",
    "joblib.dump(final_model, model_file)\n",
    "print(f\"Model saved to {model_file}\")"
   ]
  },
  {
   "cell_type": "code",
   "execution_count": 12,
   "id": "53a5ee28-9a58-4fe5-9493-89c605857c8a",
   "metadata": {},
   "outputs": [
    {
     "data": {
      "text/html": [
       "<div>\n",
       "<style scoped>\n",
       "    .dataframe tbody tr th:only-of-type {\n",
       "        vertical-align: middle;\n",
       "    }\n",
       "\n",
       "    .dataframe tbody tr th {\n",
       "        vertical-align: top;\n",
       "    }\n",
       "\n",
       "    .dataframe thead th {\n",
       "        text-align: right;\n",
       "    }\n",
       "</style>\n",
       "<table border=\"1\" class=\"dataframe\">\n",
       "  <thead>\n",
       "    <tr style=\"text-align: right;\">\n",
       "      <th></th>\n",
       "      <th>flight_id</th>\n",
       "      <th>date</th>\n",
       "      <th>callsign</th>\n",
       "      <th>adep</th>\n",
       "      <th>name_adep</th>\n",
       "      <th>country_code_adep</th>\n",
       "      <th>ades</th>\n",
       "      <th>name_ades</th>\n",
       "      <th>country_code_ades</th>\n",
       "      <th>actual_offblock_time</th>\n",
       "      <th>arrival_time</th>\n",
       "      <th>aircraft_type</th>\n",
       "      <th>wtc</th>\n",
       "      <th>airline</th>\n",
       "      <th>flight_duration</th>\n",
       "      <th>taxiout_time</th>\n",
       "      <th>flown_distance</th>\n",
       "      <th>tow</th>\n",
       "    </tr>\n",
       "  </thead>\n",
       "  <tbody>\n",
       "    <tr>\n",
       "      <th>0</th>\n",
       "      <td>248753821</td>\n",
       "      <td>2022-01-01</td>\n",
       "      <td>3b3de0f3ad0ee192513995c02f7bf7cf</td>\n",
       "      <td>LTFJ</td>\n",
       "      <td>Istanbul Sabiha Gokcen</td>\n",
       "      <td>TR</td>\n",
       "      <td>LFLL</td>\n",
       "      <td>Lyon</td>\n",
       "      <td>FR</td>\n",
       "      <td>2022-01-01T09:44:00Z</td>\n",
       "      <td>2022-01-01T12:48:33Z</td>\n",
       "      <td>B738</td>\n",
       "      <td>M</td>\n",
       "      <td>6351ec1b849adacc0cbb3b1313d8d39b</td>\n",
       "      <td>170</td>\n",
       "      <td>15</td>\n",
       "      <td>1122</td>\n",
       "      <td>68857.656250</td>\n",
       "    </tr>\n",
       "    <tr>\n",
       "      <th>1</th>\n",
       "      <td>248753822</td>\n",
       "      <td>2022-01-01</td>\n",
       "      <td>e06dd03d4a879ca37d9e18c1bd7cad16</td>\n",
       "      <td>EBBR</td>\n",
       "      <td>Brussels</td>\n",
       "      <td>BE</td>\n",
       "      <td>KJFK</td>\n",
       "      <td>New York JFK</td>\n",
       "      <td>US</td>\n",
       "      <td>2022-01-01T09:45:00Z</td>\n",
       "      <td>2022-01-01T17:49:51Z</td>\n",
       "      <td>A333</td>\n",
       "      <td>H</td>\n",
       "      <td>bdeeef3a675587d530de70a25d7118d2</td>\n",
       "      <td>470</td>\n",
       "      <td>15</td>\n",
       "      <td>3205</td>\n",
       "      <td>215556.250000</td>\n",
       "    </tr>\n",
       "    <tr>\n",
       "      <th>2</th>\n",
       "      <td>248754498</td>\n",
       "      <td>2022-01-01</td>\n",
       "      <td>2d3b1c962c78c4ebeef11bcd51b9e94c</td>\n",
       "      <td>KMIA</td>\n",
       "      <td>Miami</td>\n",
       "      <td>US</td>\n",
       "      <td>EGLL</td>\n",
       "      <td>London Heathrow</td>\n",
       "      <td>GB</td>\n",
       "      <td>2022-01-01T01:52:00Z</td>\n",
       "      <td>2022-01-01T09:55:16Z</td>\n",
       "      <td>B77W</td>\n",
       "      <td>H</td>\n",
       "      <td>5543e4dc327359ffaf5b9c0e6faaf0e1</td>\n",
       "      <td>473</td>\n",
       "      <td>10</td>\n",
       "      <td>3965</td>\n",
       "      <td>223199.718750</td>\n",
       "    </tr>\n",
       "    <tr>\n",
       "      <th>3</th>\n",
       "      <td>248757623</td>\n",
       "      <td>2022-01-01</td>\n",
       "      <td>81564432d3ee97c4bdf4cd8f006753dc</td>\n",
       "      <td>EGCN</td>\n",
       "      <td>Doncaster Sheffield</td>\n",
       "      <td>GB</td>\n",
       "      <td>LEAL</td>\n",
       "      <td>Alicante</td>\n",
       "      <td>ES</td>\n",
       "      <td>2022-01-01T08:20:00Z</td>\n",
       "      <td>2022-01-01T11:06:08Z</td>\n",
       "      <td>B38M</td>\n",
       "      <td>M</td>\n",
       "      <td>3922524069809ac4326134429751e26f</td>\n",
       "      <td>156</td>\n",
       "      <td>10</td>\n",
       "      <td>986</td>\n",
       "      <td>63746.378906</td>\n",
       "    </tr>\n",
       "    <tr>\n",
       "      <th>4</th>\n",
       "      <td>248763603</td>\n",
       "      <td>2022-01-01</td>\n",
       "      <td>84be079d7e660db105d91f600b4b3d59</td>\n",
       "      <td>EIDW</td>\n",
       "      <td>Dublin</td>\n",
       "      <td>IE</td>\n",
       "      <td>LFLL</td>\n",
       "      <td>Lyon</td>\n",
       "      <td>FR</td>\n",
       "      <td>2022-01-01T11:01:00Z</td>\n",
       "      <td>2022-01-01T13:00:43Z</td>\n",
       "      <td>A320</td>\n",
       "      <td>M</td>\n",
       "      <td>a73f82288988b79be490c6322f4c32ed</td>\n",
       "      <td>105</td>\n",
       "      <td>15</td>\n",
       "      <td>686</td>\n",
       "      <td>63619.421875</td>\n",
       "    </tr>\n",
       "    <tr>\n",
       "      <th>...</th>\n",
       "      <td>...</td>\n",
       "      <td>...</td>\n",
       "      <td>...</td>\n",
       "      <td>...</td>\n",
       "      <td>...</td>\n",
       "      <td>...</td>\n",
       "      <td>...</td>\n",
       "      <td>...</td>\n",
       "      <td>...</td>\n",
       "      <td>...</td>\n",
       "      <td>...</td>\n",
       "      <td>...</td>\n",
       "      <td>...</td>\n",
       "      <td>...</td>\n",
       "      <td>...</td>\n",
       "      <td>...</td>\n",
       "      <td>...</td>\n",
       "      <td>...</td>\n",
       "    </tr>\n",
       "    <tr>\n",
       "      <th>105954</th>\n",
       "      <td>258066302</td>\n",
       "      <td>2022-12-31</td>\n",
       "      <td>2d3b4446c4d05a25196a9d52cab936fb</td>\n",
       "      <td>LTFJ</td>\n",
       "      <td>Istanbul Sabiha Gokcen</td>\n",
       "      <td>TR</td>\n",
       "      <td>EKCH</td>\n",
       "      <td>Copenhagen</td>\n",
       "      <td>DK</td>\n",
       "      <td>2022-12-31T09:36:00Z</td>\n",
       "      <td>2022-12-31T13:12:17Z</td>\n",
       "      <td>B38M</td>\n",
       "      <td>M</td>\n",
       "      <td>6351ec1b849adacc0cbb3b1313d8d39b</td>\n",
       "      <td>201</td>\n",
       "      <td>15</td>\n",
       "      <td>1199</td>\n",
       "      <td>68013.453125</td>\n",
       "    </tr>\n",
       "    <tr>\n",
       "      <th>105955</th>\n",
       "      <td>258068609</td>\n",
       "      <td>2022-12-31</td>\n",
       "      <td>253fd692ed441fac523081471c067772</td>\n",
       "      <td>LOWW</td>\n",
       "      <td>Vienna</td>\n",
       "      <td>AT</td>\n",
       "      <td>KIAD</td>\n",
       "      <td>Washington Dulles</td>\n",
       "      <td>US</td>\n",
       "      <td>2022-12-31T09:49:00Z</td>\n",
       "      <td>2022-12-31T19:38:26Z</td>\n",
       "      <td>B763</td>\n",
       "      <td>H</td>\n",
       "      <td>5d407cb11cc29578cc3e292e743f5393</td>\n",
       "      <td>575</td>\n",
       "      <td>14</td>\n",
       "      <td>3937</td>\n",
       "      <td>174963.531250</td>\n",
       "    </tr>\n",
       "    <tr>\n",
       "      <th>105956</th>\n",
       "      <td>258068876</td>\n",
       "      <td>2022-12-31</td>\n",
       "      <td>c9fca302ca2e28acab0eb0bb1b46f11b</td>\n",
       "      <td>LTFM</td>\n",
       "      <td>iGA Istanbul</td>\n",
       "      <td>TR</td>\n",
       "      <td>LSZH</td>\n",
       "      <td>Zurich</td>\n",
       "      <td>CH</td>\n",
       "      <td>2022-12-31T09:25:00Z</td>\n",
       "      <td>2022-12-31T12:24:24Z</td>\n",
       "      <td>A321</td>\n",
       "      <td>M</td>\n",
       "      <td>6351ec1b849adacc0cbb3b1313d8d39b</td>\n",
       "      <td>154</td>\n",
       "      <td>25</td>\n",
       "      <td>988</td>\n",
       "      <td>74369.757812</td>\n",
       "    </tr>\n",
       "    <tr>\n",
       "      <th>105957</th>\n",
       "      <td>258064675</td>\n",
       "      <td>2022-12-31</td>\n",
       "      <td>00f96ad0e382476649574ba044c764fc</td>\n",
       "      <td>EHAM</td>\n",
       "      <td>Amsterdam</td>\n",
       "      <td>NL</td>\n",
       "      <td>EDDF</td>\n",
       "      <td>Frankfurt</td>\n",
       "      <td>DE</td>\n",
       "      <td>2022-12-31T10:04:21Z</td>\n",
       "      <td>2022-12-31T10:55:35Z</td>\n",
       "      <td>A320</td>\n",
       "      <td>M</td>\n",
       "      <td>f502877cab405652cf0dd70c2213e730</td>\n",
       "      <td>42</td>\n",
       "      <td>9</td>\n",
       "      <td>240</td>\n",
       "      <td>61011.003906</td>\n",
       "    </tr>\n",
       "    <tr>\n",
       "      <th>105958</th>\n",
       "      <td>258058370</td>\n",
       "      <td>2022-12-31</td>\n",
       "      <td>5f0c222c7f7ceff3fbe75c854cce74c9</td>\n",
       "      <td>UBBB</td>\n",
       "      <td>Baku</td>\n",
       "      <td>AZ</td>\n",
       "      <td>LTFM</td>\n",
       "      <td>iGA Istanbul</td>\n",
       "      <td>TR</td>\n",
       "      <td>2022-12-31T09:40:00Z</td>\n",
       "      <td>2022-12-31T12:28:00Z</td>\n",
       "      <td>B738</td>\n",
       "      <td>M</td>\n",
       "      <td>6351ec1b849adacc0cbb3b1313d8d39b</td>\n",
       "      <td>158</td>\n",
       "      <td>10</td>\n",
       "      <td>1014</td>\n",
       "      <td>63806.546875</td>\n",
       "    </tr>\n",
       "  </tbody>\n",
       "</table>\n",
       "<p>105959 rows × 18 columns</p>\n",
       "</div>"
      ],
      "text/plain": [
       "        flight_id        date                          callsign  adep  \\\n",
       "0       248753821  2022-01-01  3b3de0f3ad0ee192513995c02f7bf7cf  LTFJ   \n",
       "1       248753822  2022-01-01  e06dd03d4a879ca37d9e18c1bd7cad16  EBBR   \n",
       "2       248754498  2022-01-01  2d3b1c962c78c4ebeef11bcd51b9e94c  KMIA   \n",
       "3       248757623  2022-01-01  81564432d3ee97c4bdf4cd8f006753dc  EGCN   \n",
       "4       248763603  2022-01-01  84be079d7e660db105d91f600b4b3d59  EIDW   \n",
       "...           ...         ...                               ...   ...   \n",
       "105954  258066302  2022-12-31  2d3b4446c4d05a25196a9d52cab936fb  LTFJ   \n",
       "105955  258068609  2022-12-31  253fd692ed441fac523081471c067772  LOWW   \n",
       "105956  258068876  2022-12-31  c9fca302ca2e28acab0eb0bb1b46f11b  LTFM   \n",
       "105957  258064675  2022-12-31  00f96ad0e382476649574ba044c764fc  EHAM   \n",
       "105958  258058370  2022-12-31  5f0c222c7f7ceff3fbe75c854cce74c9  UBBB   \n",
       "\n",
       "                     name_adep country_code_adep  ades          name_ades  \\\n",
       "0       Istanbul Sabiha Gokcen                TR  LFLL               Lyon   \n",
       "1                     Brussels                BE  KJFK       New York JFK   \n",
       "2                        Miami                US  EGLL    London Heathrow   \n",
       "3          Doncaster Sheffield                GB  LEAL           Alicante   \n",
       "4                       Dublin                IE  LFLL               Lyon   \n",
       "...                        ...               ...   ...                ...   \n",
       "105954  Istanbul Sabiha Gokcen                TR  EKCH         Copenhagen   \n",
       "105955                  Vienna                AT  KIAD  Washington Dulles   \n",
       "105956            iGA Istanbul                TR  LSZH             Zurich   \n",
       "105957               Amsterdam                NL  EDDF          Frankfurt   \n",
       "105958                    Baku                AZ  LTFM       iGA Istanbul   \n",
       "\n",
       "       country_code_ades  actual_offblock_time          arrival_time  \\\n",
       "0                     FR  2022-01-01T09:44:00Z  2022-01-01T12:48:33Z   \n",
       "1                     US  2022-01-01T09:45:00Z  2022-01-01T17:49:51Z   \n",
       "2                     GB  2022-01-01T01:52:00Z  2022-01-01T09:55:16Z   \n",
       "3                     ES  2022-01-01T08:20:00Z  2022-01-01T11:06:08Z   \n",
       "4                     FR  2022-01-01T11:01:00Z  2022-01-01T13:00:43Z   \n",
       "...                  ...                   ...                   ...   \n",
       "105954                DK  2022-12-31T09:36:00Z  2022-12-31T13:12:17Z   \n",
       "105955                US  2022-12-31T09:49:00Z  2022-12-31T19:38:26Z   \n",
       "105956                CH  2022-12-31T09:25:00Z  2022-12-31T12:24:24Z   \n",
       "105957                DE  2022-12-31T10:04:21Z  2022-12-31T10:55:35Z   \n",
       "105958                TR  2022-12-31T09:40:00Z  2022-12-31T12:28:00Z   \n",
       "\n",
       "       aircraft_type wtc                           airline  flight_duration  \\\n",
       "0               B738   M  6351ec1b849adacc0cbb3b1313d8d39b              170   \n",
       "1               A333   H  bdeeef3a675587d530de70a25d7118d2              470   \n",
       "2               B77W   H  5543e4dc327359ffaf5b9c0e6faaf0e1              473   \n",
       "3               B38M   M  3922524069809ac4326134429751e26f              156   \n",
       "4               A320   M  a73f82288988b79be490c6322f4c32ed              105   \n",
       "...              ...  ..                               ...              ...   \n",
       "105954          B38M   M  6351ec1b849adacc0cbb3b1313d8d39b              201   \n",
       "105955          B763   H  5d407cb11cc29578cc3e292e743f5393              575   \n",
       "105956          A321   M  6351ec1b849adacc0cbb3b1313d8d39b              154   \n",
       "105957          A320   M  f502877cab405652cf0dd70c2213e730               42   \n",
       "105958          B738   M  6351ec1b849adacc0cbb3b1313d8d39b              158   \n",
       "\n",
       "        taxiout_time  flown_distance            tow  \n",
       "0                 15            1122   68857.656250  \n",
       "1                 15            3205  215556.250000  \n",
       "2                 10            3965  223199.718750  \n",
       "3                 10             986   63746.378906  \n",
       "4                 15             686   63619.421875  \n",
       "...              ...             ...            ...  \n",
       "105954            15            1199   68013.453125  \n",
       "105955            14            3937  174963.531250  \n",
       "105956            25             988   74369.757812  \n",
       "105957             9             240   61011.003906  \n",
       "105958            10            1014   63806.546875  \n",
       "\n",
       "[105959 rows x 18 columns]"
      ]
     },
     "execution_count": 12,
     "metadata": {},
     "output_type": "execute_result"
    }
   ],
   "source": [
    "# Use the final model to predict the `tow` for the submission_set_updated\n",
    "submission_set_features = submission_set_updated.iloc[:,:-1]\n",
    "submission_set['tow'] = final_model.predict(submission_set_features)\n",
    "\n",
    "submission_set"
   ]
  },
  {
   "cell_type": "code",
   "execution_count": 13,
   "id": "598c600c-c2d2-46f2-a9da-e71acc696e08",
   "metadata": {},
   "outputs": [],
   "source": [
    "# Define the submissions directory and create it if it doesn't exist\n",
    "submissions_dir = 'submissions'\n",
    "os.makedirs(submissions_dir, exist_ok=True)\n",
    "\n",
    "# Save the submission with a timestamp in the filename\n",
    "submission_file = os.path.join(submissions_dir, f\"submission_{timestamp}.csv\")\n",
    "submission_set.to_csv(submission_file, index=False)"
   ]
  }
 ],
 "metadata": {
  "kernelspec": {
   "display_name": "Python [conda env:base] *",
   "language": "python",
   "name": "conda-base-py"
  },
  "language_info": {
   "codemirror_mode": {
    "name": "ipython",
    "version": 3
   },
   "file_extension": ".py",
   "mimetype": "text/x-python",
   "name": "python",
   "nbconvert_exporter": "python",
   "pygments_lexer": "ipython3",
   "version": "3.9.10"
  }
 },
 "nbformat": 4,
 "nbformat_minor": 5
}
