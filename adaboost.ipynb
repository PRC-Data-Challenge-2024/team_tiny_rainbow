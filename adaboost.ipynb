{
 "cells": [
  {
   "cell_type": "code",
   "execution_count": 28,
   "metadata": {},
   "outputs": [],
   "source": [
    "import pandas as pd\n",
    "from sklearn.preprocessing import LabelEncoder\n",
    "import lightgbm as lgb\n",
    "from sklearn.model_selection import train_test_split\n",
    "from sklearn.metrics import mean_squared_error\n",
    "from sklearn.preprocessing import OneHotEncoder\n",
    "from sklearn.ensemble import AdaBoostRegressor\n",
    "\n",
    "import numpy as np"
   ]
  },
  {
   "cell_type": "code",
   "execution_count": 29,
   "metadata": {},
   "outputs": [
    {
     "data": {
      "text/html": [
       "<div>\n",
       "<style scoped>\n",
       "    .dataframe tbody tr th:only-of-type {\n",
       "        vertical-align: middle;\n",
       "    }\n",
       "\n",
       "    .dataframe tbody tr th {\n",
       "        vertical-align: top;\n",
       "    }\n",
       "\n",
       "    .dataframe thead th {\n",
       "        text-align: right;\n",
       "    }\n",
       "</style>\n",
       "<table border=\"1\" class=\"dataframe\">\n",
       "  <thead>\n",
       "    <tr style=\"text-align: right;\">\n",
       "      <th></th>\n",
       "      <th>adep</th>\n",
       "      <th>country_code_adep</th>\n",
       "      <th>ades</th>\n",
       "      <th>name_ades</th>\n",
       "      <th>country_code_ades</th>\n",
       "      <th>aircraft_type</th>\n",
       "      <th>wtc</th>\n",
       "      <th>airline</th>\n",
       "      <th>flight_duration</th>\n",
       "      <th>taxiout_time</th>\n",
       "      <th>flown_distance</th>\n",
       "      <th>tow</th>\n",
       "      <th>offblock_hour</th>\n",
       "      <th>offblock_day_of_week</th>\n",
       "      <th>offblock_month</th>\n",
       "    </tr>\n",
       "  </thead>\n",
       "  <tbody>\n",
       "    <tr>\n",
       "      <th>0</th>\n",
       "      <td>EGLL</td>\n",
       "      <td>GB</td>\n",
       "      <td>EICK</td>\n",
       "      <td>Cork</td>\n",
       "      <td>IE</td>\n",
       "      <td>A320</td>\n",
       "      <td>M</td>\n",
       "      <td>a73f82288988b79be490c6322f4c32ed</td>\n",
       "      <td>61</td>\n",
       "      <td>18</td>\n",
       "      <td>321</td>\n",
       "      <td>-0.464485</td>\n",
       "      <td>14</td>\n",
       "      <td>5</td>\n",
       "      <td>1</td>\n",
       "    </tr>\n",
       "    <tr>\n",
       "      <th>1</th>\n",
       "      <td>LEBL</td>\n",
       "      <td>ES</td>\n",
       "      <td>KMIA</td>\n",
       "      <td>Miami</td>\n",
       "      <td>US</td>\n",
       "      <td>B772</td>\n",
       "      <td>H</td>\n",
       "      <td>5543e4dc327359ffaf5b9c0e6faaf0e1</td>\n",
       "      <td>570</td>\n",
       "      <td>13</td>\n",
       "      <td>4193</td>\n",
       "      <td>1.989801</td>\n",
       "      <td>10</td>\n",
       "      <td>5</td>\n",
       "      <td>1</td>\n",
       "    </tr>\n",
       "    <tr>\n",
       "      <th>2</th>\n",
       "      <td>ESSA</td>\n",
       "      <td>SE</td>\n",
       "      <td>KORD</td>\n",
       "      <td>Chicago O'Hare</td>\n",
       "      <td>US</td>\n",
       "      <td>A333</td>\n",
       "      <td>H</td>\n",
       "      <td>8be5c854fd664bcb97fb543339f74770</td>\n",
       "      <td>554</td>\n",
       "      <td>15</td>\n",
       "      <td>3770</td>\n",
       "      <td>2.834012</td>\n",
       "      <td>10</td>\n",
       "      <td>5</td>\n",
       "      <td>1</td>\n",
       "    </tr>\n",
       "    <tr>\n",
       "      <th>3</th>\n",
       "      <td>LSZH</td>\n",
       "      <td>CH</td>\n",
       "      <td>KPHL</td>\n",
       "      <td>Philadelphia</td>\n",
       "      <td>US</td>\n",
       "      <td>B788</td>\n",
       "      <td>H</td>\n",
       "      <td>5543e4dc327359ffaf5b9c0e6faaf0e1</td>\n",
       "      <td>497</td>\n",
       "      <td>11</td>\n",
       "      <td>3607</td>\n",
       "      <td>1.467256</td>\n",
       "      <td>11</td>\n",
       "      <td>5</td>\n",
       "      <td>1</td>\n",
       "    </tr>\n",
       "    <tr>\n",
       "      <th>4</th>\n",
       "      <td>EIDW</td>\n",
       "      <td>IE</td>\n",
       "      <td>EGLL</td>\n",
       "      <td>London Heathrow</td>\n",
       "      <td>GB</td>\n",
       "      <td>A21N</td>\n",
       "      <td>M</td>\n",
       "      <td>a73f82288988b79be490c6322f4c32ed</td>\n",
       "      <td>55</td>\n",
       "      <td>14</td>\n",
       "      <td>305</td>\n",
       "      <td>-0.172087</td>\n",
       "      <td>13</td>\n",
       "      <td>5</td>\n",
       "      <td>1</td>\n",
       "    </tr>\n",
       "  </tbody>\n",
       "</table>\n",
       "</div>"
      ],
      "text/plain": [
       "   adep country_code_adep  ades        name_ades country_code_ades  \\\n",
       "0  EGLL                GB  EICK             Cork                IE   \n",
       "1  LEBL                ES  KMIA            Miami                US   \n",
       "2  ESSA                SE  KORD   Chicago O'Hare                US   \n",
       "3  LSZH                CH  KPHL     Philadelphia                US   \n",
       "4  EIDW                IE  EGLL  London Heathrow                GB   \n",
       "\n",
       "  aircraft_type wtc                           airline  flight_duration  \\\n",
       "0          A320   M  a73f82288988b79be490c6322f4c32ed               61   \n",
       "1          B772   H  5543e4dc327359ffaf5b9c0e6faaf0e1              570   \n",
       "2          A333   H  8be5c854fd664bcb97fb543339f74770              554   \n",
       "3          B788   H  5543e4dc327359ffaf5b9c0e6faaf0e1              497   \n",
       "4          A21N   M  a73f82288988b79be490c6322f4c32ed               55   \n",
       "\n",
       "   taxiout_time  flown_distance       tow  offblock_hour  \\\n",
       "0            18             321 -0.464485             14   \n",
       "1            13            4193  1.989801             10   \n",
       "2            15            3770  2.834012             10   \n",
       "3            11            3607  1.467256             11   \n",
       "4            14             305 -0.172087             13   \n",
       "\n",
       "   offblock_day_of_week  offblock_month  \n",
       "0                     5               1  \n",
       "1                     5               1  \n",
       "2                     5               1  \n",
       "3                     5               1  \n",
       "4                     5               1  "
      ]
     },
     "execution_count": 29,
     "metadata": {},
     "output_type": "execute_result"
    }
   ],
   "source": [
    "\n",
    "# Load the dataset from the provided file\n",
    "file_path = 'challenge_set.csv'\n",
    "\n",
    "# Function to load and preprocess the data\n",
    "def load(file_path):\n",
    "    df = pd.read_csv(file_path)\n",
    "    m, s = df['tow'].mean(), df['tow'].std()\n",
    "    df['date'] = pd.to_datetime(df['date'])\n",
    "    df['actual_offblock_time'] = pd.to_datetime(df['actual_offblock_time'])\n",
    "    df['arrival_time'] = pd.to_datetime(df['arrival_time'])\n",
    "    df['offblock_hour'] = df['actual_offblock_time'].dt.round('h').dt.hour\n",
    "    df['offblock_day_of_week'] = df['actual_offblock_time'].dt.dayofweek\n",
    "    df['offblock_month'] = df['actual_offblock_time'].dt.month\n",
    "    df = df.drop(columns=['flight_id', 'name_adep', 'callsign', 'actual_offblock_time', 'arrival_time', 'date'])\n",
    "    df['tow'] = (df['tow'] - m) / s  # Standardize 'tow' column\n",
    "    return df, m, s\n",
    "\n",
    "# Load the data\n",
    "df, mean, std = load(file_path)\n",
    "\n",
    "# Display the first few rows of the dataframe to verify\n",
    "df.head()\n"
   ]
  },
  {
   "cell_type": "code",
   "execution_count": 30,
   "metadata": {},
   "outputs": [],
   "source": [
    "# Separate features and target variable\n",
    "X = df.drop(columns=['tow'])\n",
    "y = df['tow']\n",
    "\n",
    "# Identify categorical columns\n",
    "categorical_columns = ['adep', 'country_code_adep', 'ades', 'name_ades', \n",
    "                       'country_code_ades', 'aircraft_type', 'wtc', 'airline']\n",
    "\n"
   ]
  },
  {
   "cell_type": "code",
   "execution_count": 31,
   "metadata": {},
   "outputs": [],
   "source": [
    "# Label encode the categorical columns instead of one-hot encoding\n",
    "label_encoders = {}\n",
    "for col in categorical_columns:\n",
    "    le = LabelEncoder()\n",
    "    X[col] = le.fit_transform(X[col])\n",
    "    label_encoders[col] = le"
   ]
  },
  {
   "cell_type": "code",
   "execution_count": 32,
   "metadata": {},
   "outputs": [
    {
     "data": {
      "text/plain": [
       "0.03978943208987905"
      ]
     },
     "execution_count": 32,
     "metadata": {},
     "output_type": "execute_result"
    }
   ],
   "source": [
    "# Split the dataset into training and test sets\n",
    "X_train, X_val, y_train, y_val = train_test_split(X, y, train_size=0.8, random_state=42)\n",
    "\n",
    "# Initialize and train the AdaBoostRegressor\n",
    "ada_regressor = AdaBoostRegressor(n_estimators=50, random_state=42)\n",
    "ada_regressor.fit(X_train, y_train)\n",
    "\n",
    "# Make predictions on the test set\n",
    "y_pred = ada_regressor.predict(X)\n",
    "\n",
    "# Evaluate the model using Mean Squared Error (MSE)\n",
    "mse = mean_squared_error(y, y_pred)\n",
    "mse"
   ]
  },
  {
   "cell_type": "code",
   "execution_count": 33,
   "metadata": {},
   "outputs": [
    {
     "data": {
      "text/plain": [
       "10622.114599738949"
      ]
     },
     "execution_count": 33,
     "metadata": {},
     "output_type": "execute_result"
    }
   ],
   "source": [
    "# Since we already have mean and std from the normalization, let's calculate RMSE for the denormalized values\n",
    "\n",
    "# Define the root_mean_squared_error function\n",
    "def root_mean_squared_error(y_true, y_pred):\n",
    "    return np.sqrt(mean_squared_error(y_true, y_pred))\n",
    "\n",
    "# Denormalize both the actual and predicted values\n",
    "y_test_denormalized = y * std + mean\n",
    "y_pred_denormalized = y_pred * std + mean\n",
    "\n",
    "# Compute the RMSE\n",
    "rmse = root_mean_squared_error(y_test_denormalized, y_pred_denormalized)\n",
    "\n",
    "# Print the RMSE\n",
    "rmse\n"
   ]
  },
  {
   "cell_type": "code",
   "execution_count": 34,
   "metadata": {},
   "outputs": [
    {
     "data": {
      "image/png": "[encoded data removed]",
      "text/plain": [
       "<Figure size 1000x600 with 1 Axes>"
      ]
     },
     "metadata": {},
     "output_type": "display_data"
    }
   ],
   "source": [
    "import matplotlib.pyplot as plt\n",
    "\n",
    "# Extract feature importances for AdaBoost (based on feature importance from the decision trees)\n",
    "importances = ada_regressor.feature_importances_\n",
    "feature_names = X_train.columns\n",
    "\n",
    "# Sort the features by importance\n",
    "indices = np.argsort(importances)[::-1]\n",
    "\n",
    "# Plot feature importances for AdaBoost\n",
    "plt.figure(figsize=(10, 6))\n",
    "plt.title(\"Feature Importances - AdaBoost\")\n",
    "plt.bar(range(len(importances)), importances[indices], align='center')\n",
    "plt.xticks(range(len(importances)), [feature_names[i] for i in indices], rotation=90)\n",
    "plt.tight_layout()\n",
    "plt.show()\n"
   ]
  },
  {
   "cell_type": "markdown",
   "metadata": {},
   "source": [
    "## Hyperparameter Tunning\n"
   ]
  },
  {
   "cell_type": "code",
   "execution_count": 35,
   "metadata": {},
   "outputs": [
    {
     "name": "stdout",
     "output_type": "stream",
     "text": [
      "Fitting 3 folds for each of 10 candidates, totalling 30 fits\n",
      "[CV] END estimator__max_depth=1, learning_rate=0.5, loss=linear, n_estimators=50; total time=  20.1s\n",
      "[CV] END estimator__max_depth=1, learning_rate=0.5, loss=linear, n_estimators=50; total time=  20.7s\n",
      "[CV] END estimator__max_depth=1, learning_rate=0.5, loss=linear, n_estimators=50; total time=  21.1s\n",
      "[CV] END estimator__max_depth=2, learning_rate=1.0, loss=exponential, n_estimators=100; total time=  44.4s\n",
      "[CV] END estimator__max_depth=2, learning_rate=1.0, loss=exponential, n_estimators=100; total time=  44.8s\n",
      "[CV] END estimator__max_depth=2, learning_rate=1.0, loss=exponential, n_estimators=100; total time=  40.4s\n",
      "[CV] END estimator__max_depth=3, learning_rate=0.01, loss=exponential, n_estimators=50; total time=  30.7s\n",
      "[CV] END estimator__max_depth=1, learning_rate=0.01, loss=square, n_estimators=200; total time= 1.3min\n",
      "[CV] END estimator__max_depth=1, learning_rate=0.01, loss=square, n_estimators=200; total time= 1.3min\n",
      "[CV] END estimator__max_depth=1, learning_rate=0.01, loss=square, n_estimators=200; total time= 1.3min\n",
      "[CV] END estimator__max_depth=3, learning_rate=0.1, loss=linear, n_estimators=100; total time= 1.0min\n",
      "[CV] END estimator__max_depth=3, learning_rate=0.1, loss=linear, n_estimators=100; total time= 1.0min\n",
      "[CV] END estimator__max_depth=3, learning_rate=0.01, loss=exponential, n_estimators=50; total time=  33.4s\n",
      "[CV] END estimator__max_depth=3, learning_rate=0.1, loss=linear, n_estimators=100; total time= 1.0min\n",
      "[CV] END estimator__max_depth=3, learning_rate=0.01, loss=exponential, n_estimators=50; total time=  33.5s\n",
      "[CV] END estimator__max_depth=4, learning_rate=0.5, loss=square, n_estimators=50; total time=  34.4s\n",
      "[CV] END estimator__max_depth=4, learning_rate=0.5, loss=square, n_estimators=50; total time=  34.5s\n",
      "[CV] END estimator__max_depth=4, learning_rate=0.5, loss=square, n_estimators=50; total time=  35.1s\n",
      "[CV] END estimator__max_depth=5, learning_rate=1.0, loss=square, n_estimators=100; total time=  59.4s\n",
      "[CV] END estimator__max_depth=5, learning_rate=1.0, loss=square, n_estimators=100; total time= 1.0min\n",
      "[CV] END estimator__max_depth=1, learning_rate=0.01, loss=exponential, n_estimators=100; total time=  39.4s\n"
     ]
    },
    {
     "name": "stderr",
     "output_type": "stream",
     "text": [
      "/Library/Frameworks/Python.framework/Versions/3.12/lib/python3.12/site-packages/joblib/externals/loky/process_executor.py:752: UserWarning: A worker stopped while some jobs were given to the executor. This can be caused by a too short worker timeout or by a memory leak.\n",
      "  warnings.warn(\n"
     ]
    },
    {
     "name": "stdout",
     "output_type": "stream",
     "text": [
      "[CV] END estimator__max_depth=1, learning_rate=0.01, loss=exponential, n_estimators=100; total time=  39.0s\n",
      "[CV] END estimator__max_depth=2, learning_rate=1.0, loss=linear, n_estimators=200; total time=  45.2s\n",
      "[CV] END estimator__max_depth=5, learning_rate=1.0, loss=square, n_estimators=100; total time= 1.0min\n",
      "[CV] END estimator__max_depth=1, learning_rate=0.01, loss=exponential, n_estimators=100; total time=  32.0s\n",
      "[CV] END estimator__max_depth=2, learning_rate=1.0, loss=linear, n_estimators=200; total time= 1.2min\n",
      "[CV] END estimator__max_depth=2, learning_rate=1.0, loss=linear, n_estimators=200; total time= 1.2min\n",
      "[CV] END estimator__max_depth=3, learning_rate=1.0, loss=exponential, n_estimators=300; total time= 1.4min\n",
      "[CV] END estimator__max_depth=3, learning_rate=1.0, loss=exponential, n_estimators=300; total time= 1.4min\n",
      "[CV] END estimator__max_depth=3, learning_rate=1.0, loss=exponential, n_estimators=300; total time= 1.3min\n",
      "{'n_estimators': 100, 'loss': 'square', 'learning_rate': 1.0, 'estimator__max_depth': 5}\n"
     ]
    }
   ],
   "source": [
    "from sklearn.model_selection import RandomizedSearchCV\n",
    "from sklearn.tree import DecisionTreeRegressor\n",
    "from sklearn.ensemble import AdaBoostRegressor\n",
    "\n",
    "# Define the parameter grid for AdaBoost\n",
    "param_dist = {\n",
    "    'n_estimators': [50, 100, 200, 300],\n",
    "    'learning_rate': [0.01, 0.1, 0.5, 1.0],\n",
    "    'estimator__max_depth': [1, 2, 3, 4, 5],  # Depth of the decision trees\n",
    "    'loss': ['linear', 'square', 'exponential']  # Loss function\n",
    "}\n",
    "\n",
    "# Initialize AdaBoostRegressor with a decision tree as the base estimator\n",
    "base_estimator = DecisionTreeRegressor(random_state=42)\n",
    "ada_regressor_tuned = AdaBoostRegressor(estimator=base_estimator, random_state=42)\n",
    "\n",
    "# Initialize RandomizedSearchCV\n",
    "random_search = RandomizedSearchCV(\n",
    "    estimator=ada_regressor_tuned,\n",
    "    param_distributions=param_dist,\n",
    "    n_iter=10,  # Number of random combinations to try\n",
    "    cv=3,  # 3-fold cross-validation\n",
    "    verbose=2,\n",
    "    random_state=42,\n",
    "    n_jobs=-1  # Use all available cores\n",
    ")\n",
    "\n",
    "# Fit the model\n",
    "random_search.fit(X_train, y_train)\n",
    "\n",
    "# Get the best hyperparameters\n",
    "best_params = random_search.best_params_\n",
    "print(best_params)\n"
   ]
  },
  {
   "cell_type": "code",
   "execution_count": 37,
   "metadata": {},
   "outputs": [
    {
     "name": "stdout",
     "output_type": "stream",
     "text": [
      "Model validation RMSE: 10622.1146\n"
     ]
    }
   ],
   "source": [
    "from sklearn.metrics import mean_squared_error\n",
    "import numpy as np\n",
    "\n",
    "# Assuming 'mean' and 'std' were used to normalize the 'tow' column\n",
    "# and preds_val contains the model predictions on the validation set.\n",
    "\n",
    "# Define a function to compute RMSE\n",
    "def root_mean_squared_error(y_true, y_pred):\n",
    "    return np.sqrt(mean_squared_error(y_true, y_pred))\n",
    "\n",
    "# Denormalize both the actual and predicted values (y_val and preds_val)\n",
    "y_val_denormalized = y * std + mean\n",
    "preds_val_denormalized = y_pred * std + mean\n",
    "\n",
    "# Compute the RMSE\n",
    "rmse = root_mean_squared_error(y_val_denormalized, preds_val_denormalized)\n",
    "\n",
    "# Print the RMSE\n",
    "print('Model validation RMSE: {:.4f}'.format(rmse))\n"
   ]
  },
  {
   "cell_type": "markdown",
   "metadata": {},
   "source": [
    "## SUBMISION"
   ]
  },
  {
   "cell_type": "code",
   "execution_count": 38,
   "metadata": {},
   "outputs": [
    {
     "name": "stdout",
     "output_type": "stream",
     "text": [
      "Denormalized Predictions (y_test):\n",
      "[ 52738.61714438 200835.25442398 189745.77542739 ...  52738.61714438\n",
      "  61530.29950264 196207.34720925]\n"
     ]
    }
   ],
   "source": [
    "import numpy as np\n",
    "\n",
    "# Function to extend the label encoder with new unseen labels (convert all to string to avoid dtype mismatch)\n",
    "def extend_label_encoder(encoder, new_labels):\n",
    "    \"\"\"Extend the LabelEncoder to handle new labels in the test set.\"\"\"\n",
    "    current_classes = list(encoder.classes_.astype(str))  # Ensure all current classes are strings\n",
    "    for label in new_labels:\n",
    "        label = str(label)  # Convert new labels to strings\n",
    "        if label not in current_classes:\n",
    "            current_classes.append(label)\n",
    "    encoder.classes_ = np.array(sorted(current_classes))  # Keep classes sorted\n",
    "\n",
    "# Loop through the categorical columns and extend the label encoders with unseen labels\n",
    "for col in categorical_columns:\n",
    "    if col in label_encoders:\n",
    "        unseen_labels = set(X[col].astype(str).unique()) - set(label_encoders[col].classes_.astype(str))\n",
    "        if unseen_labels:\n",
    "            extend_label_encoder(label_encoders[col], unseen_labels)\n",
    "        X[col] = label_encoders[col].transform(X[col].astype(str))\n",
    "\n",
    "# Predict on the encoded test set using the trained AdaBoost model\n",
    "y_pred = ada_regressor.predict(X)\n",
    "\n",
    "# Denormalize the predictions\n",
    "y_test_denormalized = y_pred * std + mean\n",
    "\n",
    "# Print the denormalized predictions\n",
    "print(\"Denormalized Predictions (y_test):\")\n",
    "print(y_test_denormalized)\n"
   ]
  },
  {
   "cell_type": "code",
   "execution_count": 39,
   "metadata": {},
   "outputs": [
    {
     "name": "stdout",
     "output_type": "stream",
     "text": [
      "Predictions saved to 'adaboots.csv'.\n"
     ]
    }
   ],
   "source": [
    "import pandas as pd\n",
    "\n",
    "# Assuming 'y_test_denormalized' contains the predictions and 'submission_set.csv' has the 'flight_id' column\n",
    "\n",
    "# Load the test data to extract 'flight_id'\n",
    "dft0 = pd.read_csv('submission_set.csv')\n",
    "\n",
    "# Ensure both arrays have the same length by trimming y_test_denormalized to match dft0\n",
    "min_length = min(len(dft0), len(y_test_denormalized))\n",
    "y_test_denormalized = y_test_denormalized[:min_length]\n",
    "\n",
    "# Assign the denormalized predictions to the 'tow' column\n",
    "dft0['tow'] = y_test_denormalized\n",
    "\n",
    "# Save the flight_id and tow columns to a CSV file\n",
    "dft0[['flight_id', 'tow']].to_csv('adaboots.csv', index=False)\n",
    "\n",
    "# Print a confirmation message\n",
    "print(\"Predictions saved to 'adaboots.csv'.\")"
   ]
  },
  {
   "cell_type": "code",
   "execution_count": 40,
   "metadata": {},
   "outputs": [
    {
     "name": "stdout",
     "output_type": "stream",
     "text": [
      "flight_id,tow\n",
      "248753821,52738.61714437893\n",
      "248753822,200835.25442398235\n",
      "248754498,189745.7754273892\n",
      "248757623,191177.32000438182\n",
      "248763603,61530.29950263833\n",
      "248755068,73059.46233147997\n",
      "248754229,49802.111098065376\n",
      "248754894,61530.29950263833\n",
      "248754751,194364.5163117756\n"
     ]
    }
   ],
   "source": [
    "!head adaboots.csv"
   ]
  },
  {
   "cell_type": "code",
   "execution_count": null,
   "metadata": {},
   "outputs": [],
   "source": []
  }
 ],
 "metadata": {
  "kernelspec": {
   "display_name": "Python 3",
   "language": "python",
   "name": "python3"
  },
  "language_info": {
   "codemirror_mode": {
    "name": "ipython",
    "version": 3
   },
   "file_extension": ".py",
   "mimetype": "text/x-python",
   "name": "python",
   "nbconvert_exporter": "python",
   "pygments_lexer": "ipython3",
   "version": "3.12.4"
  }
 },
 "nbformat": 4,
 "nbformat_minor": 2
}
