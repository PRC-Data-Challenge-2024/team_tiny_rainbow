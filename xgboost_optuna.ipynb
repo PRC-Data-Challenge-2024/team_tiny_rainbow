{
 "cells": [
  {
   "cell_type": "markdown",
   "id": "12342f03-8eb3-48e4-ac47-f4dc3d691932",
   "metadata": {
    "tags": []
   },
   "source": [
    "# XGBoost Model"
   ]
  },
  {
   "cell_type": "code",
   "execution_count": 7,
   "id": "23ff59ad-e6f3-4acf-bff2-3f9307ec3043",
   "metadata": {},
   "outputs": [],
   "source": [
    "import sys\n",
    "import subprocess\n",
    "import importlib\n",
    "\n",
    "# Function to install packages if they are not already installed\n",
    "def install_and_import(package):\n",
    "    try:\n",
    "        importlib.import_module(package)\n",
    "    except ImportError:\n",
    "        print(f\"Installing {package}...\")\n",
    "        subprocess.check_call([sys.executable, \"-m\", \"pip\", \"install\", package])\n",
    "    finally:\n",
    "        globals()[package] = importlib.import_module(package)\n",
    "\n",
    "# Check and install the required packages\n",
    "required_packages = [\n",
    "    'pandas', 'xgboost', 'sklearn', 'numpy', 'tqdm', \n",
    "    'datetime', 'pytz', 'json', 'joblib', 'os', 'optuna'\n",
    "]\n",
    "\n",
    "for package in required_packages:\n",
    "    install_and_import(package)\n",
    "\n",
    "# Imports\n",
    "import pandas as pd\n",
    "from xgboost import XGBRegressor, callback\n",
    "from sklearn.model_selection import train_test_split, RandomizedSearchCV\n",
    "from sklearn.metrics import r2_score, mean_squared_error\n",
    "import numpy as np\n",
    "from tqdm import tqdm\n",
    "from datetime import datetime\n",
    "import pytz\n",
    "import json\n",
    "import joblib \n",
    "import os\n",
    "import optuna"
   ]
  },
  {
   "cell_type": "code",
   "execution_count": 8,
   "id": "33936ce9-6883-4634-9cdf-7e48db301656",
   "metadata": {},
   "outputs": [],
   "source": [
    "# Load the dataset after the exploratory data analysis\n",
    "challenge_set_updated = pd.read_csv(\"./data/challenge_set_updated_v19.csv\")\n",
    "submission_set = pd.read_csv(\"./data/final_submission_set.csv\")\n",
    "submission_set_updated = pd.read_csv(\"./data/submission_set_updated_v19.csv\")"
   ]
  },
  {
   "cell_type": "code",
   "execution_count": 10,
   "id": "6b4be8ad-f258-456d-8dd7-7494c565fd8a",
   "metadata": {},
   "outputs": [
    {
     "name": "stderr",
     "output_type": "stream",
     "text": [
      "/tmp/ipykernel_1760/4238663828.py:13: FutureWarning: DataFrame.fillna with 'method' is deprecated and will raise in a future version. Use obj.ffill() or obj.bfill() instead.\n",
      "  df.loc[:, numeric_columns] = df.loc[:, numeric_columns].fillna(method='ffill').fillna(df[numeric_columns].median())\n",
      "/tmp/ipykernel_1760/4238663828.py:13: FutureWarning: DataFrame.fillna with 'method' is deprecated and will raise in a future version. Use obj.ffill() or obj.bfill() instead.\n",
      "  df.loc[:, numeric_columns] = df.loc[:, numeric_columns].fillna(method='ffill').fillna(df[numeric_columns].median())\n"
     ]
    }
   ],
   "source": [
    "def clean_data_better(df, threshold=1e10):\n",
    "    # Create an explicit copy of the DataFrame to avoid SettingWithCopyWarning\n",
    "    df = df.copy()\n",
    "    \n",
    "    # Replace inf and -inf with NaN using vectorized operations\n",
    "    df.replace([np.inf, -np.inf], np.nan, inplace=True)\n",
    "    \n",
    "    # Mask values above the threshold directly on numeric columns using .loc\n",
    "    numeric_columns = df.select_dtypes(include=[np.number]).columns\n",
    "    df.loc[:, numeric_columns] = df.loc[:, numeric_columns].mask(df[numeric_columns].abs() > threshold)\n",
    "    \n",
    "    # Fill NaNs using forward fill, then median\n",
    "    df.loc[:, numeric_columns] = df.loc[:, numeric_columns].fillna(method='ffill').fillna(df[numeric_columns].median())\n",
    "    \n",
    "    return df\n",
    "\n",
    "# Applying the cleaning function\n",
    "challenge_set_updated = clean_data_better(challenge_set_updated)\n",
    "submission_set_updated = clean_data_better(submission_set_updated)"
   ]
  },
  {
   "cell_type": "code",
   "execution_count": 11,
   "id": "d3c40d20-21b0-41c1-8676-d2ad2dbef0d4",
   "metadata": {},
   "outputs": [],
   "source": [
    "# If necessary change this part to test the model before the training process\n",
    "df = challenge_set_updated.iloc[:,:]\n",
    "# df = challenge_set_updated.sample(frac=0.001)\n",
    "\n",
    "# Separating features and target variable\n",
    "X = df.drop('tow', axis=1)\n",
    "y = df['tow']\n",
    "\n",
    "n_jobs = os.cpu_count() // 2"
   ]
  },
  {
   "cell_type": "code",
   "execution_count": 12,
   "id": "19810434-b559-47aa-b836-1d6adb80443f",
   "metadata": {},
   "outputs": [
    {
     "name": "stderr",
     "output_type": "stream",
     "text": [
      "[I 2024-10-18 21:29:16,116] A new study created in memory with name: no-name-e93b4735-64cd-4c43-b5ec-1092787314d9\n"
     ]
    },
    {
     "name": "stdout",
     "output_type": "stream",
     "text": [
      "[0]\tvalidation_0-rmse:48109.65634\n",
      "[498]\tvalidation_0-rmse:2711.99664\n"
     ]
    },
    {
     "name": "stderr",
     "output_type": "stream",
     "text": [
      "[I 2024-10-18 21:31:48,872] Trial 0 finished with value: 2711.8619157249564 and parameters: {'max_depth': 13, 'min_child_weight': 10, 'gamma': 0.003528186188693561, 'colsample_bytree': 0.5875129489623385, 'reg_alpha': 0.015638678910209404, 'reg_lambda': 0.0005504996034221035}. Best is trial 0 with value: 2711.8619157249564.\n"
     ]
    },
    {
     "name": "stdout",
     "output_type": "stream",
     "text": [
      "[0]\tvalidation_0-rmse:48222.50979\n",
      "[1000]\tvalidation_0-rmse:2996.89555\n",
      "[2000]\tvalidation_0-rmse:2857.15491\n",
      "[2019]\tvalidation_0-rmse:2857.26742\n"
     ]
    },
    {
     "name": "stderr",
     "output_type": "stream",
     "text": [
      "[I 2024-10-18 21:36:24,634] Trial 1 finished with value: 2857.08675224402 and parameters: {'max_depth': 4, 'min_child_weight': 1, 'gamma': 0.944860055048793, 'colsample_bytree': 0.4597664622555391, 'reg_alpha': 0.004216085508157351, 'reg_lambda': 0.0005164622181664028}. Best is trial 0 with value: 2711.8619157249564.\n"
     ]
    },
    {
     "name": "stdout",
     "output_type": "stream",
     "text": [
      "[0]\tvalidation_0-rmse:48214.69751\n",
      "[1000]\tvalidation_0-rmse:2987.18826\n",
      "[2000]\tvalidation_0-rmse:2848.27456\n",
      "[2871]\tvalidation_0-rmse:2799.07920\n"
     ]
    },
    {
     "name": "stderr",
     "output_type": "stream",
     "text": [
      "[I 2024-10-18 21:42:58,967] Trial 2 finished with value: 2799.0329522839597 and parameters: {'max_depth': 4, 'min_child_weight': 2, 'gamma': 0.0055466750716694265, 'colsample_bytree': 0.666128058205729, 'reg_alpha': 0.02514097398756596, 'reg_lambda': 0.010163912745091477}. Best is trial 0 with value: 2711.8619157249564.\n"
     ]
    },
    {
     "name": "stdout",
     "output_type": "stream",
     "text": [
      "[0]\tvalidation_0-rmse:48112.53198\n",
      "[1000]\tvalidation_0-rmse:2693.56715\n",
      "[1219]\tvalidation_0-rmse:2692.11950\n"
     ]
    },
    {
     "name": "stderr",
     "output_type": "stream",
     "text": [
      "[I 2024-10-18 21:47:51,273] Trial 3 finished with value: 2692.044198112313 and parameters: {'max_depth': 11, 'min_child_weight': 10, 'gamma': 0.030717549440002732, 'colsample_bytree': 0.5939643897159202, 'reg_alpha': 0.0167980422805703, 'reg_lambda': 0.005069980701783285}. Best is trial 3 with value: 2692.044198112313.\n"
     ]
    },
    {
     "name": "stdout",
     "output_type": "stream",
     "text": [
      "[0]\tvalidation_0-rmse:48271.72678\n",
      "[1000]\tvalidation_0-rmse:3218.08368\n",
      "[2000]\tvalidation_0-rmse:3030.29802\n",
      "[3000]\tvalidation_0-rmse:2938.45090\n",
      "[4000]\tvalidation_0-rmse:2886.71533\n",
      "[4892]\tvalidation_0-rmse:2854.59137\n"
     ]
    },
    {
     "name": "stderr",
     "output_type": "stream",
     "text": [
      "[I 2024-10-18 21:59:09,382] Trial 4 finished with value: 2854.482032683168 and parameters: {'max_depth': 3, 'min_child_weight': 2, 'gamma': 0.0022064362855165986, 'colsample_bytree': 0.7714179209840213, 'reg_alpha': 0.6265526557684539, 'reg_lambda': 0.0001408668995952831}. Best is trial 3 with value: 2692.044198112313.\n"
     ]
    },
    {
     "name": "stdout",
     "output_type": "stream",
     "text": [
      "[0]\tvalidation_0-rmse:48214.89964\n",
      "[1000]\tvalidation_0-rmse:2985.67731\n",
      "[2000]\tvalidation_0-rmse:2845.03305\n",
      "[3000]\tvalidation_0-rmse:2790.63275\n",
      "[4000]\tvalidation_0-rmse:2756.89376\n",
      "[4336]\tvalidation_0-rmse:2747.61291\n"
     ]
    },
    {
     "name": "stderr",
     "output_type": "stream",
     "text": [
      "[I 2024-10-18 22:08:57,893] Trial 5 finished with value: 2747.5181746129524 and parameters: {'max_depth': 4, 'min_child_weight': 1, 'gamma': 0.07424978950481402, 'colsample_bytree': 0.5845348509118424, 'reg_alpha': 0.04738196195793192, 'reg_lambda': 0.0010649997931709775}. Best is trial 3 with value: 2692.044198112313.\n"
     ]
    },
    {
     "name": "stdout",
     "output_type": "stream",
     "text": [
      "[0]\tvalidation_0-rmse:48201.71972\n",
      "[1000]\tvalidation_0-rmse:2993.70521\n",
      "[2000]\tvalidation_0-rmse:2852.56533\n",
      "[3000]\tvalidation_0-rmse:2798.50317\n",
      "[4000]\tvalidation_0-rmse:2769.08369\n",
      "[4122]\tvalidation_0-rmse:2766.32500\n"
     ]
    },
    {
     "name": "stderr",
     "output_type": "stream",
     "text": [
      "[I 2024-10-18 22:18:22,555] Trial 6 finished with value: 2766.2862029737134 and parameters: {'max_depth': 4, 'min_child_weight': 2, 'gamma': 0.026417535432027905, 'colsample_bytree': 0.98759927531056, 'reg_alpha': 0.00015509864755035814, 'reg_lambda': 0.0009064493639640551}. Best is trial 3 with value: 2692.044198112313.\n"
     ]
    },
    {
     "name": "stdout",
     "output_type": "stream",
     "text": [
      "[0]\tvalidation_0-rmse:48107.79898\n",
      "[492]\tvalidation_0-rmse:2714.80078\n"
     ]
    },
    {
     "name": "stderr",
     "output_type": "stream",
     "text": [
      "[I 2024-10-18 22:20:50,634] Trial 7 finished with value: 2714.7785034858402 and parameters: {'max_depth': 12, 'min_child_weight': 5, 'gamma': 0.2599207503726779, 'colsample_bytree': 0.8014379519145451, 'reg_alpha': 0.007832863105360332, 'reg_lambda': 0.003000418559365606}. Best is trial 3 with value: 2692.044198112313.\n"
     ]
    },
    {
     "name": "stdout",
     "output_type": "stream",
     "text": [
      "[0]\tvalidation_0-rmse:48177.42672\n",
      "[1000]\tvalidation_0-rmse:2866.09134\n",
      "[2000]\tvalidation_0-rmse:2773.82472\n",
      "[3000]\tvalidation_0-rmse:2736.26108\n",
      "[3319]\tvalidation_0-rmse:2731.46695\n"
     ]
    },
    {
     "name": "stderr",
     "output_type": "stream",
     "text": [
      "[I 2024-10-18 22:28:45,971] Trial 8 finished with value: 2731.0288388395757 and parameters: {'max_depth': 5, 'min_child_weight': 1, 'gamma': 0.01420856544122998, 'colsample_bytree': 0.7521548014170082, 'reg_alpha': 0.0014548901590608542, 'reg_lambda': 0.0005717808996170741}. Best is trial 3 with value: 2692.044198112313.\n"
     ]
    },
    {
     "name": "stdout",
     "output_type": "stream",
     "text": [
      "[0]\tvalidation_0-rmse:48106.51192\n",
      "[660]\tvalidation_0-rmse:2721.88322\n"
     ]
    },
    {
     "name": "stderr",
     "output_type": "stream",
     "text": [
      "[I 2024-10-18 22:32:13,065] Trial 9 finished with value: 2721.8403150520294 and parameters: {'max_depth': 13, 'min_child_weight': 9, 'gamma': 0.0015634412197371387, 'colsample_bytree': 0.896024877403942, 'reg_alpha': 0.035282574539999126, 'reg_lambda': 0.0009149776434229105}. Best is trial 3 with value: 2692.044198112313.\n"
     ]
    },
    {
     "name": "stdout",
     "output_type": "stream",
     "text": [
      "Best trial: {'max_depth': 11, 'min_child_weight': 10, 'gamma': 0.030717549440002732, 'colsample_bytree': 0.5939643897159202, 'reg_alpha': 0.0167980422805703, 'reg_lambda': 0.005069980701783285}\n",
      "[0]\tvalidation_0-rmse:37498.72436\n",
      "[500]\tvalidation_0-rmse:301.48700\n",
      "[1000]\tvalidation_0-rmse:54.47217\n",
      "[1200]\tvalidation_0-rmse:27.42262\n",
      "Best Model Performance - R^2 Score: 0.9972, RMSE: 2801.7486\n",
      "Updated best_params: {'max_depth': 11, 'min_child_weight': 10, 'gamma': 0.030717549440002732, 'colsample_bytree': 0.5939643897159202, 'reg_alpha': 0.0167980422805703, 'reg_lambda': 0.005069980701783285, 'n_estimators': 1201}\n"
     ]
    }
   ],
   "source": [
    "# Split the data into training and test sets\n",
    "X_train, X_val, y_train, y_val = train_test_split(X, y, test_size=0.2, random_state=42)\n",
    "\n",
    "# Define the objective function to be used by Optuna for hyperparameter optimization\n",
    "def objective(trial):\n",
    "    # Suggest values for the hyperparameters to be optimized\n",
    "    params = {\n",
    "        'objective': 'reg:squarederror',\n",
    "        'random_state': 42,\n",
    "        'n_estimators': 1_000_000,  # Set a high value to allow early stopping\n",
    "        'learning_rate': 0.1, #trial.suggest_float('learning_rate', 1e-3, 0.1, log=True),\n",
    "        'max_depth': trial.suggest_int('max_depth', 3, 15),\n",
    "        'min_child_weight': trial.suggest_int('min_child_weight', 1, 10),\n",
    "        'gamma': trial.suggest_float('gamma', 1e-3, 1.0, log=True),\n",
    "        'subsample': 1.0,\n",
    "        'colsample_bytree': trial.suggest_float('colsample_bytree', 0.4, 1.0),\n",
    "        'reg_alpha': trial.suggest_float('reg_alpha', 1e-4, 1.0, log=True),\n",
    "        'reg_lambda': trial.suggest_float('reg_lambda', 1e-4, 1.0, log=True),\n",
    "        'n_jobs': n_jobs,\n",
    "        'eval_metric': 'rmse',\n",
    "        'early_stopping_rounds': 20  # Define early stopping in the constructor\n",
    "    }\n",
    "    \n",
    "    # Initialize the model with the suggested parameters\n",
    "    model = XGBRegressor(**params)\n",
    "    \n",
    "    # Train the model on the validation set\n",
    "    model.fit(\n",
    "        X_train, y_train,\n",
    "        eval_set=[(X_val, y_val)],\n",
    "        verbose=1000\n",
    "    )\n",
    "    \n",
    "    # Make predictions and calculate RMSE on the validation set\n",
    "    preds = model.predict(X_val)\n",
    "    rmse = np.sqrt(mean_squared_error(y_val, preds))\n",
    "    \n",
    "    # Store the best_iteration for future use\n",
    "    trial.set_user_attr(\"best_iteration\", model.best_iteration)\n",
    "    \n",
    "    return rmse\n",
    "\n",
    "# Start the study with Optuna\n",
    "study = optuna.create_study(direction='minimize')  # Minimize the RMSE\n",
    "study.optimize(objective, n_trials=10)  # Adjust the number of trials as necessary\n",
    "\n",
    "# Display the best hyperparameters found\n",
    "print(f\"Best trial: {study.best_trial.params}\")\n",
    "\n",
    "# Get the best number of estimators (from early stopping during hyperparameter optimization)\n",
    "best_n_estimators = study.best_trial.user_attrs[\"best_iteration\"] + 1\n",
    "\n",
    "# Train the final model with the best hyperparameters and best n_estimators on full training data\n",
    "best_params = study.best_trial.params\n",
    "best_params['n_estimators'] = best_n_estimators  # Use the optimal number of estimators\n",
    "\n",
    "# Train the final model using the full training set (X, y)\n",
    "best_model = XGBRegressor(\n",
    "    **best_params,\n",
    "    objective='reg:squarederror',\n",
    "    random_state=42,\n",
    "    n_jobs=n_jobs,\n",
    "    early_stopping_rounds=20  # Early stopping in the constructor\n",
    ")\n",
    "\n",
    "# Train the model on the full dataset\n",
    "best_model.fit(\n",
    "    X, y,\n",
    "    eval_set=[(X_val, y_val)],\n",
    "    verbose=500\n",
    ")\n",
    "\n",
    "# Evaluate the performance on the val set\n",
    "y_pred = best_model.predict(X_val)\n",
    "r2 = r2_score(y_val, y_pred)\n",
    "rmse = np.sqrt(mean_squared_error(y_val, y_pred))\n",
    "\n",
    "# Display final performance and hyperparameters\n",
    "print(f\"Best Model Performance - R^2 Score: {r2:.4f}, RMSE: {rmse:.4f}\")\n",
    "print(f\"Updated best_params: {best_params}\")"
   ]
  },
  {
   "cell_type": "code",
   "execution_count": 13,
   "id": "97387f15-892a-4f67-9e42-4a20338494bb",
   "metadata": {},
   "outputs": [
    {
     "name": "stdout",
     "output_type": "stream",
     "text": [
      "Final Model Performance - R^2 Score: 0.9972, RMSE: 2801.7486\n"
     ]
    }
   ],
   "source": [
    "# Display evaluation metrics\n",
    "print(f\"Final Model Performance - R^2 Score: {r2:.4f}, RMSE: {rmse:.4f}\")"
   ]
  },
  {
   "cell_type": "code",
   "execution_count": 14,
   "id": "af9cc69f-c81a-4e13-a47a-43ecfc901801",
   "metadata": {},
   "outputs": [
    {
     "name": "stdout",
     "output_type": "stream",
     "text": [
      "Results saved to logs/model_results_20241018_193738.txt\n"
     ]
    }
   ],
   "source": [
    "# Save R², RMSE, and hyperparameters\n",
    "results = {\n",
    "    'R2': float(r2),\n",
    "    'RMSE': float(rmse),\n",
    "    'Best Parameters': {key: (int(value) if isinstance(value, np.integer) else float(value)\n",
    "                              if isinstance(value, np.floating) else value)\n",
    "                        for key, value in best_params.items()}\n",
    "}\n",
    "\n",
    "# Set timezone to São Paulo (UTC-3)\n",
    "saopaulo_tz = pytz.timezone('America/Sao_Paulo')\n",
    "timestamp = datetime.now(saopaulo_tz).strftime('%Y%m%d_%H%M%S')\n",
    "\n",
    "# Define logs directory, and create them if they don't exist\n",
    "logs_dir = 'logs'\n",
    "os.makedirs(logs_dir, exist_ok=True)\n",
    "\n",
    "# Define file paths within the respective directories\n",
    "results_file = os.path.join(logs_dir, f'model_results_{timestamp}.txt')\n",
    "\n",
    "# Save the results to a TXT file\n",
    "with open(results_file, 'w') as file:\n",
    "    file.write(f\"R2: {results['R2']}\\n\")\n",
    "    file.write(f\"RMSE: {results['RMSE']}\\n\")\n",
    "    file.write(\"Best Parameters:\\n\")\n",
    "    for param, value in results['Best Parameters'].items():\n",
    "        file.write(f\"  {param}: {value}\\n\")\n",
    "\n",
    "print(f\"Results saved to {results_file}\")"
   ]
  },
  {
   "cell_type": "code",
   "execution_count": 15,
   "id": "bcc4fe08-cc67-4d28-8787-554c7e05917a",
   "metadata": {},
   "outputs": [
    {
     "name": "stdout",
     "output_type": "stream",
     "text": [
      "Final model trained successfully using all available data.\n"
     ]
    }
   ],
   "source": [
    "# Define models directory, and create them if they don't exist\n",
    "models_dir = 'models'\n",
    "os.makedirs(models_dir, exist_ok=True)\n",
    "\n",
    "# Update the learning_rate in best_params\n",
    "best_params['learning_rate'] = 0.005\n",
    "\n",
    "# Train the final model using the full training+validation+test set with the optimal n_estimators\n",
    "final_model = XGBRegressor(**best_params, objective='reg:squarederror', random_state=42, n_jobs=n_jobs)\n",
    "\n",
    "# Train the model on the entire training+validation+set data\n",
    "final_model.fit(X, y, verbose=True)\n",
    "\n",
    "print(\"Final model trained successfully using all available data.\")\n"
   ]
  },
  {
   "cell_type": "code",
   "execution_count": 16,
   "id": "f4865b87-8fb4-4d17-b844-4813da8d2f64",
   "metadata": {},
   "outputs": [
    {
     "name": "stdout",
     "output_type": "stream",
     "text": [
      "Model saved to models/trained_model_20241018_193738.joblib\n"
     ]
    }
   ],
   "source": [
    "# Define file paths within the respective directories\n",
    "model_file = os.path.join(models_dir, f'trained_model_{timestamp}.joblib')\n",
    "\n",
    "# Save the trained model to a file in the models folder\n",
    "joblib.dump(final_model, model_file)\n",
    "print(f\"Model saved to {model_file}\")"
   ]
  },
  {
   "cell_type": "code",
   "execution_count": 17,
   "id": "53a5ee28-9a58-4fe5-9493-89c605857c8a",
   "metadata": {},
   "outputs": [
    {
     "ename": "ValueError",
     "evalue": "Length of values (264108) does not match length of index (158149)",
     "output_type": "error",
     "traceback": [
      "\u001b[0;31m---------------------------------------------------------------------------\u001b[0m",
      "\u001b[0;31mValueError\u001b[0m                                Traceback (most recent call last)",
      "Cell \u001b[0;32mIn[17], line 3\u001b[0m\n\u001b[1;32m      1\u001b[0m \u001b[38;5;66;03m# Use the final model to predict the `tow` for the submission_set_updated\u001b[39;00m\n\u001b[1;32m      2\u001b[0m submission_set_features \u001b[38;5;241m=\u001b[39m submission_set_updated\u001b[38;5;241m.\u001b[39miloc[:,:\u001b[38;5;241m-\u001b[39m\u001b[38;5;241m1\u001b[39m]\n\u001b[0;32m----> 3\u001b[0m \u001b[43msubmission_set\u001b[49m\u001b[43m[\u001b[49m\u001b[38;5;124;43m'\u001b[39;49m\u001b[38;5;124;43mtow\u001b[39;49m\u001b[38;5;124;43m'\u001b[39;49m\u001b[43m]\u001b[49m \u001b[38;5;241m=\u001b[39m final_model\u001b[38;5;241m.\u001b[39mpredict(submission_set_features)\n\u001b[1;32m      5\u001b[0m submission_set\n",
      "File \u001b[0;32m~/work/.envs/asa/lib/python3.11/site-packages/pandas/core/frame.py:4094\u001b[0m, in \u001b[0;36mDataFrame.__setitem__\u001b[0;34m(self, key, value)\u001b[0m\n\u001b[1;32m   4091\u001b[0m     \u001b[38;5;28mself\u001b[39m\u001b[38;5;241m.\u001b[39m_setitem_array([key], value)\n\u001b[1;32m   4092\u001b[0m \u001b[38;5;28;01melse\u001b[39;00m:\n\u001b[1;32m   4093\u001b[0m     \u001b[38;5;66;03m# set column\u001b[39;00m\n\u001b[0;32m-> 4094\u001b[0m     \u001b[38;5;28;43mself\u001b[39;49m\u001b[38;5;241;43m.\u001b[39;49m\u001b[43m_set_item\u001b[49m\u001b[43m(\u001b[49m\u001b[43mkey\u001b[49m\u001b[43m,\u001b[49m\u001b[43m \u001b[49m\u001b[43mvalue\u001b[49m\u001b[43m)\u001b[49m\n",
      "File \u001b[0;32m~/work/.envs/asa/lib/python3.11/site-packages/pandas/core/frame.py:4303\u001b[0m, in \u001b[0;36mDataFrame._set_item\u001b[0;34m(self, key, value)\u001b[0m\n\u001b[1;32m   4293\u001b[0m \u001b[38;5;28;01mdef\u001b[39;00m \u001b[38;5;21m_set_item\u001b[39m(\u001b[38;5;28mself\u001b[39m, key, value) \u001b[38;5;241m-\u001b[39m\u001b[38;5;241m>\u001b[39m \u001b[38;5;28;01mNone\u001b[39;00m:\n\u001b[1;32m   4294\u001b[0m \u001b[38;5;250m    \u001b[39m\u001b[38;5;124;03m\"\"\"\u001b[39;00m\n\u001b[1;32m   4295\u001b[0m \u001b[38;5;124;03m    Add series to DataFrame in specified column.\u001b[39;00m\n\u001b[1;32m   4296\u001b[0m \n\u001b[0;32m   (...)\u001b[0m\n\u001b[1;32m   4301\u001b[0m \u001b[38;5;124;03m    ensure homogeneity.\u001b[39;00m\n\u001b[1;32m   4302\u001b[0m \u001b[38;5;124;03m    \"\"\"\u001b[39;00m\n\u001b[0;32m-> 4303\u001b[0m     value, refs \u001b[38;5;241m=\u001b[39m \u001b[38;5;28;43mself\u001b[39;49m\u001b[38;5;241;43m.\u001b[39;49m\u001b[43m_sanitize_column\u001b[49m\u001b[43m(\u001b[49m\u001b[43mvalue\u001b[49m\u001b[43m)\u001b[49m\n\u001b[1;32m   4305\u001b[0m     \u001b[38;5;28;01mif\u001b[39;00m (\n\u001b[1;32m   4306\u001b[0m         key \u001b[38;5;129;01min\u001b[39;00m \u001b[38;5;28mself\u001b[39m\u001b[38;5;241m.\u001b[39mcolumns\n\u001b[1;32m   4307\u001b[0m         \u001b[38;5;129;01mand\u001b[39;00m value\u001b[38;5;241m.\u001b[39mndim \u001b[38;5;241m==\u001b[39m \u001b[38;5;241m1\u001b[39m\n\u001b[1;32m   4308\u001b[0m         \u001b[38;5;129;01mand\u001b[39;00m \u001b[38;5;129;01mnot\u001b[39;00m \u001b[38;5;28misinstance\u001b[39m(value\u001b[38;5;241m.\u001b[39mdtype, ExtensionDtype)\n\u001b[1;32m   4309\u001b[0m     ):\n\u001b[1;32m   4310\u001b[0m         \u001b[38;5;66;03m# broadcast across multiple columns if necessary\u001b[39;00m\n\u001b[1;32m   4311\u001b[0m         \u001b[38;5;28;01mif\u001b[39;00m \u001b[38;5;129;01mnot\u001b[39;00m \u001b[38;5;28mself\u001b[39m\u001b[38;5;241m.\u001b[39mcolumns\u001b[38;5;241m.\u001b[39mis_unique \u001b[38;5;129;01mor\u001b[39;00m \u001b[38;5;28misinstance\u001b[39m(\u001b[38;5;28mself\u001b[39m\u001b[38;5;241m.\u001b[39mcolumns, MultiIndex):\n",
      "File \u001b[0;32m~/work/.envs/asa/lib/python3.11/site-packages/pandas/core/frame.py:5042\u001b[0m, in \u001b[0;36mDataFrame._sanitize_column\u001b[0;34m(self, value)\u001b[0m\n\u001b[1;32m   5039\u001b[0m     \u001b[38;5;28;01mreturn\u001b[39;00m _reindex_for_setitem(value, \u001b[38;5;28mself\u001b[39m\u001b[38;5;241m.\u001b[39mindex)\n\u001b[1;32m   5041\u001b[0m \u001b[38;5;28;01mif\u001b[39;00m is_list_like(value):\n\u001b[0;32m-> 5042\u001b[0m     \u001b[43mcom\u001b[49m\u001b[38;5;241;43m.\u001b[39;49m\u001b[43mrequire_length_match\u001b[49m\u001b[43m(\u001b[49m\u001b[43mvalue\u001b[49m\u001b[43m,\u001b[49m\u001b[43m \u001b[49m\u001b[38;5;28;43mself\u001b[39;49m\u001b[38;5;241;43m.\u001b[39;49m\u001b[43mindex\u001b[49m\u001b[43m)\u001b[49m\n\u001b[1;32m   5043\u001b[0m \u001b[38;5;28;01mreturn\u001b[39;00m sanitize_array(value, \u001b[38;5;28mself\u001b[39m\u001b[38;5;241m.\u001b[39mindex, copy\u001b[38;5;241m=\u001b[39m\u001b[38;5;28;01mTrue\u001b[39;00m, allow_2d\u001b[38;5;241m=\u001b[39m\u001b[38;5;28;01mTrue\u001b[39;00m), \u001b[38;5;28;01mNone\u001b[39;00m\n",
      "File \u001b[0;32m~/work/.envs/asa/lib/python3.11/site-packages/pandas/core/common.py:561\u001b[0m, in \u001b[0;36mrequire_length_match\u001b[0;34m(data, index)\u001b[0m\n\u001b[1;32m    557\u001b[0m \u001b[38;5;250m\u001b[39m\u001b[38;5;124;03m\"\"\"\u001b[39;00m\n\u001b[1;32m    558\u001b[0m \u001b[38;5;124;03mCheck the length of data matches the length of the index.\u001b[39;00m\n\u001b[1;32m    559\u001b[0m \u001b[38;5;124;03m\"\"\"\u001b[39;00m\n\u001b[1;32m    560\u001b[0m \u001b[38;5;28;01mif\u001b[39;00m \u001b[38;5;28mlen\u001b[39m(data) \u001b[38;5;241m!=\u001b[39m \u001b[38;5;28mlen\u001b[39m(index):\n\u001b[0;32m--> 561\u001b[0m     \u001b[38;5;28;01mraise\u001b[39;00m \u001b[38;5;167;01mValueError\u001b[39;00m(\n\u001b[1;32m    562\u001b[0m         \u001b[38;5;124m\"\u001b[39m\u001b[38;5;124mLength of values \u001b[39m\u001b[38;5;124m\"\u001b[39m\n\u001b[1;32m    563\u001b[0m         \u001b[38;5;124mf\u001b[39m\u001b[38;5;124m\"\u001b[39m\u001b[38;5;124m(\u001b[39m\u001b[38;5;132;01m{\u001b[39;00m\u001b[38;5;28mlen\u001b[39m(data)\u001b[38;5;132;01m}\u001b[39;00m\u001b[38;5;124m) \u001b[39m\u001b[38;5;124m\"\u001b[39m\n\u001b[1;32m    564\u001b[0m         \u001b[38;5;124m\"\u001b[39m\u001b[38;5;124mdoes not match length of index \u001b[39m\u001b[38;5;124m\"\u001b[39m\n\u001b[1;32m    565\u001b[0m         \u001b[38;5;124mf\u001b[39m\u001b[38;5;124m\"\u001b[39m\u001b[38;5;124m(\u001b[39m\u001b[38;5;132;01m{\u001b[39;00m\u001b[38;5;28mlen\u001b[39m(index)\u001b[38;5;132;01m}\u001b[39;00m\u001b[38;5;124m)\u001b[39m\u001b[38;5;124m\"\u001b[39m\n\u001b[1;32m    566\u001b[0m     )\n",
      "\u001b[0;31mValueError\u001b[0m: Length of values (264108) does not match length of index (158149)"
     ]
    }
   ],
   "source": [
    "# Use the final model to predict the `tow` for the submission_set_updated\n",
    "submission_set_features = submission_set_updated.drop(\"tow\", axis=1)\n",
    "submission_set['tow'] = final_model.predict(submission_set_features)\n",
    "\n",
    "submission_set"
   ]
  },
  {
   "cell_type": "code",
   "execution_count": null,
   "id": "598c600c-c2d2-46f2-a9da-e71acc696e08",
   "metadata": {},
   "outputs": [],
   "source": [
    "# Define the submissions directory and create it if it doesn't exist\n",
    "submissions_dir = 'submissions'\n",
    "os.makedirs(submissions_dir, exist_ok=True)\n",
    "\n",
    "# Save the submission with a timestamp in the filename\n",
    "submission_file = os.path.join(submissions_dir, f\"submission_{timestamp}.csv\")\n",
    "submission_set.to_csv(submission_file, index=False)"
   ]
  }
 ],
 "metadata": {
  "kernelspec": {
   "display_name": "Python [conda env:asa]",
   "language": "python",
   "name": "conda-env-asa-py"
  },
  "language_info": {
   "codemirror_mode": {
    "name": "ipython",
    "version": 3
   },
   "file_extension": ".py",
   "mimetype": "text/x-python",
   "name": "python",
   "nbconvert_exporter": "python",
   "pygments_lexer": "ipython3",
   "version": "3.11.3"
  }
 },
 "nbformat": 4,
 "nbformat_minor": 5
}
