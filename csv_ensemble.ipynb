{
 "cells": [
  {
   "cell_type": "markdown",
   "id": "aee14d5c-47ab-4dd4-8805-214dad34852b",
   "metadata": {},
   "source": [
    "# Emsemble from models outputs loaded from CSV"
   ]
  },
  {
   "cell_type": "code",
   "execution_count": 1,
   "id": "687649ee-0622-44b2-97e7-ae55ae1aaf4f",
   "metadata": {},
   "outputs": [],
   "source": [
    "# !pip install qpsolvers[proxqp]"
   ]
  },
  {
   "cell_type": "code",
   "execution_count": 2,
   "id": "e8abc0b2-8499-44e3-acf7-f4f1df00b5f6",
   "metadata": {},
   "outputs": [],
   "source": [
    "import qpsolvers\n",
    "import numpy as np\n",
    "import pandas as pd\n",
    "from sklearn.metrics import mean_squared_error\n",
    "from sklearn.model_selection import train_test_split"
   ]
  },
  {
   "cell_type": "markdown",
   "id": "2829edb7-fb58-4362-895f-b474c4811971",
   "metadata": {},
   "source": [
    "## Loading data\n",
    "\n",
    "Submissions should be on `'submissions/{model}_train.csv'`for training the weights and `'submissions/{model}.csv'` for the final submission."
   ]
  },
  {
   "cell_type": "code",
   "execution_count": 5,
   "id": "a0508f5b-ad5b-4fa8-ada3-8fd8136abab1",
   "metadata": {},
   "outputs": [],
   "source": [
    "true_values = pd.read_csv('data/challenge_set.csv')[['flight_id', 'tow']]\n",
    "\n",
    "models = ['catboost', 'xgboost', 'lightgbm']#, 'mlp', 'saint']"
   ]
  },
  {
   "cell_type": "code",
   "execution_count": 20,
   "id": "94fe4fc3-9de0-422f-81fa-33300c56155f",
   "metadata": {},
   "outputs": [],
   "source": [
    "_, y_true = train_test_split(true_values['tow'].values, test_size=0.2, random_state=42)\n",
    "predictions = []\n",
    "for model in models:\n",
    "  predictions.append(pd.read_csv(f'submissions/{model}_train.csv')[['tow']].values)\n",
    "predictions = np.hstack(predictions)"
   ]
  },
  {
   "cell_type": "markdown",
   "id": "2d3bdc60-0ba0-433c-91ba-d9d93fc1459d",
   "metadata": {},
   "source": [
    "## Finding the best weights"
   ]
  },
  {
   "cell_type": "code",
   "execution_count": 66,
   "id": "2481dd61-7d07-4f36-828a-6f571757e578",
   "metadata": {},
   "outputs": [
    {
     "data": {
      "text/plain": [
       "array([8.65886309e-01, 1.34329641e-01, 4.77878426e-22])"
      ]
     },
     "execution_count": 66,
     "metadata": {},
     "output_type": "execute_result"
    }
   ],
   "source": [
    "weights = qpsolvers.solve_ls(predictions, y_true, ub=np.ones(len(models)), lb=np.zeros(len(models)), solver='proxqp')\n",
    "weights"
   ]
  },
  {
   "cell_type": "markdown",
   "id": "c99eb7bb-8f19-4aa5-a6e6-2f01ac20e792",
   "metadata": {},
   "source": [
    "## Final Ensemble Submission"
   ]
  },
  {
   "cell_type": "code",
   "execution_count": 67,
   "id": "f7f6ed4a-f41f-4c4a-ac00-f3b599bc153f",
   "metadata": {},
   "outputs": [],
   "source": [
    "submission_combined_df = pd.read_csv(f'submissions/{models[0]}.csv')[['flight_id', 'tow']].copy()\n",
    "\n",
    "for model in models:\n",
    "  model_df = pd.read_csv(f'submissions/{model}.csv')[['flight_id', 'tow']]\n",
    "  submission_combined_df = submission_combined_df.merge(model_df, on='flight_id', suffixes=('', f'_{model}'))\n",
    "\n",
    "submission_predictions = submission_combined_df[[f'tow_{model}' for model in models]].values\n",
    "ensemble_submission_preds = np.dot(submission_predictions, weights)\n",
    "submission_combined_df['tow'] = ensemble_submission_preds"
   ]
  },
  {
   "cell_type": "code",
   "execution_count": 68,
   "id": "350addbb-ce49-4ee8-b271-2305b590c5b2",
   "metadata": {},
   "outputs": [],
   "source": [
    "submission_combined_df[['flight_id', 'tow']].to_csv('submissions/ensemble.csv', index=False)"
   ]
  }
 ],
 "metadata": {
  "kernelspec": {
   "display_name": "Python 3 (ipykernel)",
   "language": "python",
   "name": "python3"
  },
  "language_info": {
   "codemirror_mode": {
    "name": "ipython",
    "version": 3
   },
   "file_extension": ".py",
   "mimetype": "text/x-python",
   "name": "python",
   "nbconvert_exporter": "python",
   "pygments_lexer": "ipython3",
   "version": "3.11.7"
  }
 },
 "nbformat": 4,
 "nbformat_minor": 5
}
