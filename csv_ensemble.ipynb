{
 "cells": [
  {
   "cell_type": "markdown",
   "id": "aee14d5c-47ab-4dd4-8805-214dad34852b",
   "metadata": {},
   "source": [
    "# Emsemble from models outputs loaded from CSV"
   ]
  },
  {
   "cell_type": "code",
   "execution_count": null,
   "id": "e8abc0b2-8499-44e3-acf7-f4f1df00b5f6",
   "metadata": {},
   "outputs": [],
   "source": [
    "import numpy as np\n",
    "import pandas as pd\n",
    "import optuna\n",
    "from sklearn.metrics import mean_squared_error"
   ]
  },
  {
   "cell_type": "markdown",
   "id": "2829edb7-fb58-4362-895f-b474c4811971",
   "metadata": {},
   "source": [
    "## Loading data\n",
    "\n",
    "Submissions should be on `'submissions/{model}_train.csv'`for training the weights and `'submissions/{model}.csv'` for the final submission."
   ]
  },
  {
   "cell_type": "code",
   "execution_count": null,
   "id": "a0508f5b-ad5b-4fa8-ada3-8fd8136abab1",
   "metadata": {},
   "outputs": [],
   "source": [
    "true_values = pd.read_csv('data/challenge_set.csv')[['flight_id', 'tow']]\n",
    "\n",
    "models = ['catboost', 'xdgboost', 'lightgbm', 'mlp', 'saint']"
   ]
  },
  {
   "cell_type": "code",
   "execution_count": null,
   "id": "94fe4fc3-9de0-422f-81fa-33300c56155f",
   "metadata": {},
   "outputs": [],
   "source": [
    "combined_df = true_values.copy()\n",
    "for model in models:\n",
    "  model_df = pd.read_csv(f'submissions/{model}_train.csv')[['flight_id', 'tow']]\n",
    "  combined_df = combined_df.merge(model_df, on='flight_id', suffixes=('', f'_{model}'))\n",
    "\n",
    "y_true = combined_df['tow'].values\n",
    "predictions = combined_df[[f'tow_{model}' for model in models]].values"
   ]
  },
  {
   "cell_type": "markdown",
   "id": "2d3bdc60-0ba0-433c-91ba-d9d93fc1459d",
   "metadata": {},
   "source": [
    "## Finding the best weights"
   ]
  },
  {
   "cell_type": "code",
   "execution_count": null,
   "id": "2300a6c3-113e-490a-afd3-17ac796de572",
   "metadata": {
    "scrolled": true
   },
   "outputs": [],
   "source": [
    "def objective(trial):\n",
    "  weights = []\n",
    "  for model in models:\n",
    "    weights.append(trial.suggest_float(f'weight_{model}', 0.0, 1.0))\n",
    "  weights = np.array(weights)\n",
    "  weights /= weights.sum()\n",
    "  ensemble_preds = np.dot(predictions, weights)\n",
    "  rmse = mean_squared_error(y_true, ensemble_preds, squared=False)\n",
    "  return rmse\n",
    "\n",
    "study = optuna.create_study(direction='minimize')\n",
    "study.optimize(objective, n_trials=100)"
   ]
  },
  {
   "cell_type": "code",
   "execution_count": null,
   "id": "0cbf2207-79d5-4261-b652-a869fa541367",
   "metadata": {},
   "outputs": [],
   "source": [
    "best_weights = study.best_params\n",
    "weights = [best_weights[f'weight_{model}'] for model in models]\n",
    "weights = np.array(weights) / np.sum(weights)\n",
    "weights"
   ]
  },
  {
   "cell_type": "markdown",
   "id": "c99eb7bb-8f19-4aa5-a6e6-2f01ac20e792",
   "metadata": {},
   "source": [
    "## Final Ensemble Submission"
   ]
  },
  {
   "cell_type": "code",
   "execution_count": null,
   "id": "f7f6ed4a-f41f-4c4a-ac00-f3b599bc153f",
   "metadata": {},
   "outputs": [],
   "source": [
    "submission_combined_df = pd.read_csv(f'submissions/{models[0]}.csv')[['flight_id', 'tow']].copy()\n",
    "\n",
    "for model in models:\n",
    "  model_df = pd.read_csv(f'submissions/{model}.csv')[['flight_id', 'tow']]\n",
    "  submission_combined_df = submission_combined_df.merge(model_df, on='flight_id', suffixes=('', f'_{model}'))\n",
    "\n",
    "submission_predictions = submission_combined_df[[f'tow_{model}' for model in models]].values\n",
    "ensemble_submission_preds = np.dot(submission_predictions, weights)\n",
    "submission_combined_df['tow'] = ensemble_submission_preds"
   ]
  },
  {
   "cell_type": "code",
   "execution_count": null,
   "id": "350addbb-ce49-4ee8-b271-2305b590c5b2",
   "metadata": {},
   "outputs": [],
   "source": [
    "submission_combined_df[['flight_id', 'tow']].to_csv('submissions/ensemble.csv', index=False)"
   ]
  }
 ],
 "metadata": {
  "kernelspec": {
   "display_name": "Python 3 (ipykernel)",
   "language": "python",
   "name": "python3"
  },
  "language_info": {
   "codemirror_mode": {
    "name": "ipython",
    "version": 3
   },
   "file_extension": ".py",
   "mimetype": "text/x-python",
   "name": "python",
   "nbconvert_exporter": "python",
   "pygments_lexer": "ipython3",
   "version": "3.11.7"
  }
 },
 "nbformat": 4,
 "nbformat_minor": 5
}
