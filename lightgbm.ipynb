{
 "cells": [
  {
   "cell_type": "code",
   "execution_count": null,
   "id": "d208adad-c114-4181-a0e8-201a1b5cdf0e",
   "metadata": {
    "ExecuteTime": {
     "end_time": "2024-10-06T21:26:10.862240Z",
     "start_time": "2024-10-06T21:26:10.859122Z"
    }
   },
   "outputs": [],
   "source": [
    "import pandas as pd\n",
    "import numpy as np"
   ]
  },
  {
   "cell_type": "markdown",
   "id": "ed5768b5-ccc9-44e8-90f0-af97e53fedfe",
   "metadata": {},
   "source": [
    "## Loading Data"
   ]
  },
  {
   "cell_type": "code",
   "execution_count": null,
   "id": "00e2070e-305f-4387-a763-2b9bbad31e1b",
   "metadata": {
    "ExecuteTime": {
     "end_time": "2024-10-06T21:38:42.054099Z",
     "start_time": "2024-10-06T21:38:38.158181Z"
    }
   },
   "outputs": [],
   "source": [
    "# Load the dataset after the exploratory data analysis\n",
    "challenge_set_updated = pd.read_csv(\"./data/challenge_set_updated_v20.csv\")\n",
    "submission_set_updated = pd.read_csv(\"./data/submission_set_updated_v20.csv\")\n",
    "submission_set = pd.read_csv(\"./data/final_submission_set.csv\")"
   ]
  },
  {
   "cell_type": "markdown",
   "id": "19261bf2-b8d1-4cd6-a3c4-969c8bbaa16a",
   "metadata": {},
   "source": [
    "## Predictive Model Learning"
   ]
  },
  {
   "cell_type": "code",
   "execution_count": null,
   "id": "08f4c04c-eb88-4732-b4c2-920d713ddc9c",
   "metadata": {
    "ExecuteTime": {
     "end_time": "2024-10-06T21:38:42.090068Z",
     "start_time": "2024-10-06T21:38:42.087125Z"
    }
   },
   "outputs": [],
   "source": [
    "cat_names = ['callsign',\n",
    "            'adep', \n",
    "            'ades', \n",
    "            'aircraft_type', \n",
    "            'wtc', \n",
    "            'airline',\n",
    "            'offblock_hour',\n",
    "            'offblock_minute', \n",
    "            'offblock_day_of_week',\n",
    "            'offblock_weekday_name',\n",
    "            'offblock_month',\n",
    "            'offblock_week_of_year', \n",
    "            'offblock_season', \n",
    "            'arrival_hour',\n",
    "            'arrival_minute',\n",
    "            'arrival_season',\n",
    "            'arrival_weekday_name',\n",
    "            'is_offblock_weekend',\n",
    "            'is_offblock_rush_hour',\n",
    "            'flight_duration_category',                       \n",
    "            'adep_region', \n",
    "            'ades_region', \n",
    "            'same_country_flight',\n",
    "            'same_region_flight',                        \n",
    "            'flight_direction',\n",
    "            'is_intercontinental',\n",
    "            'Manufacturer',\n",
    "            'Model_FAA',\n",
    "            'Physical_Class_Engine',\n",
    "            'FAA_Weight',\n",
    "            'adep_geo_cluster',\n",
    "            'ades_geo_cluster']"
   ]
  },
  {
   "cell_type": "code",
   "execution_count": null,
   "id": "047d2b79-142c-4a1d-9fed-d56779bedccc",
   "metadata": {
    "ExecuteTime": {
     "end_time": "2024-10-06T21:38:42.090068Z",
     "start_time": "2024-10-06T21:38:42.087125Z"
    }
   },
   "outputs": [],
   "source": [
    "dataset = pd.concat([challenge_set_updated, submission_set_updated], axis=0)"
   ]
  },
  {
   "cell_type": "code",
   "execution_count": null,
   "id": "3aba2a91-c843-4b85-82b0-96646f97658c",
   "metadata": {
    "ExecuteTime": {
     "end_time": "2024-10-06T21:38:42.274048Z",
     "start_time": "2024-10-06T21:38:42.143808Z"
    }
   },
   "outputs": [],
   "source": [
    "pd.set_option('display.max_rows', None)\n",
    "\n",
    "print(dataset.isnull().mean().sort_values(ascending=False))\n",
    "\n",
    "pd.reset_option('display.max_rows')"
   ]
  },
  {
   "cell_type": "code",
   "execution_count": null,
   "id": "65f64717-12fc-41c4-9852-550e59bf94e2",
   "metadata": {
    "ExecuteTime": {
     "end_time": "2024-10-06T21:38:42.274048Z",
     "start_time": "2024-10-06T21:38:42.143808Z"
    }
   },
   "outputs": [],
   "source": [
    "# Dropping columns with too many NaNs\n",
    "threshold = 0.4\n",
    "df = dataset.dropna(thresh=int((1 - threshold) * len(dataset)), axis=1)"
   ]
  },
  {
   "cell_type": "code",
   "execution_count": null,
   "id": "5d434797c9b4c8a2",
   "metadata": {
    "ExecuteTime": {
     "end_time": "2024-10-06T21:38:55.408905Z",
     "start_time": "2024-10-06T21:38:42.352376Z"
    }
   },
   "outputs": [],
   "source": [
    "# Imputation of NaNs\n",
    "columns_with_nan = dataset.isna().any()\n",
    "for col in dataset.columns[columns_with_nan]:\n",
    "    dataset.loc[:, col] = dataset.fillna(dataset[col].median())"
   ]
  },
  {
   "cell_type": "code",
   "execution_count": null,
   "id": "23c5b9e4-7275-4c88-a171-6a1d5f6f46c8",
   "metadata": {
    "ExecuteTime": {
     "end_time": "2024-10-06T21:38:55.408905Z",
     "start_time": "2024-10-06T21:38:42.352376Z"
    }
   },
   "outputs": [],
   "source": [
    "df = dataset.iloc[0:challenge_set_updated.shape[0], :]"
   ]
  },
  {
   "cell_type": "code",
   "execution_count": null,
   "id": "e043fa0a-27d7-44ae-adce-99c6dcbfe1aa",
   "metadata": {
    "ExecuteTime": {
     "end_time": "2024-10-06T21:38:55.683992Z",
     "start_time": "2024-10-06T21:38:55.596679Z"
    }
   },
   "outputs": [],
   "source": [
    "X = df.drop('tow', axis=1)\n",
    "y = df.tow"
   ]
  },
  {
   "cell_type": "code",
   "execution_count": null,
   "id": "f47ece36",
   "metadata": {},
   "outputs": [],
   "source": [
    "import lightgbm as lgb\n",
    "from sklearn.model_selection import train_test_split\n",
    "from lightgbm.basic import LightGBMError\n",
    "\n",
    "# Specify your categorical columns\n",
    "categorical_cols = [\n",
    "    'callsign', 'adep', 'ades', 'aircraft_type', 'wtc', 'airline',\n",
    "    'offblock_season', 'offblock_weekday_name', 'arrival_season', 'arrival_weekday_name',\n",
    "    'flight_duration_category', 'adep_region', 'ades_region', 'flight_direction',\n",
    "    'Manufacturer', 'Model_FAA', 'Physical_Class_Engine', 'FAA_Weight'\n",
    "]\n",
    "\n",
    "# Convert categorical columns to type 'category'\n",
    "for col in categorical_cols:\n",
    "    if col in X.columns:\n",
    "        X[col] = X[col].astype('category')\n",
    "\n",
    "# Splitting the dataset\n",
    "X_train, X_val, y_train, y_val = train_test_split(X, y, test_size=0.2, random_state=42)\n",
    "\n",
    "# LightGBM parameters\n",
    "params = {\n",
    "    'learning_rate': 0.01,\n",
    "    'reg_lambda': 0.46415888336127775,\n",
    "    'reg_alpha': 0.166810053720005,\n",
    "    'min_child_weight': 4,\n",
    "    'max_depth': 13,\n",
    "    'colsample_bytree': 0.6,\n",
    "    'objective': 'regression',\n",
    "    'random_state': 42,\n",
    "    'n_estimators': 50000,\n",
    "    'metric': 'rmse',\n",
    "    'n_jobs': -1,\n",
    "    'device': 'gpu',  # Enable GPU usage\n",
    "    'subsample': 1.0\n",
    "}\n",
    "\n",
    "# Creating LightGBM datasets with free_raw_data set to False\n",
    "train_data = lgb.Dataset(X_train, label=y_train, \n",
    "                         categorical_feature=categorical_cols, \n",
    "                         free_raw_data=False)\n",
    "val_data = lgb.Dataset(X_val, label=y_val, \n",
    "                       categorical_feature=categorical_cols, \n",
    "                       free_raw_data=False)\n",
    "\n",
    "# Training the LightGBM model\n",
    "try:\n",
    "    model = lgb.train(\n",
    "        params,\n",
    "        train_data,\n",
    "        valid_sets=[val_data],\n",
    "        valid_names=['valid'],\n",
    "        callbacks=[\n",
    "            lgb.early_stopping(stopping_rounds=20),\n",
    "            lgb.log_evaluation(period=100)  # Logs evaluation every 100 rounds\n",
    "        ]\n",
    "    )\n",
    "except LightGBMError as e:\n",
    "    # Handle GPU error, switch to CPU\n",
    "    print(\"Switching to CPU due to GPU limitation.\")\n",
    "    params['device'] = 'cpu'  # Switch device to CPU\n",
    "    model = lgb.train(\n",
    "        params,\n",
    "        train_data,\n",
    "        num_boost_round=5000,\n",
    "        valid_sets=[val_data],\n",
    "        valid_names=['valid'],\n",
    "        callbacks=[\n",
    "            lgb.early_stopping(stopping_rounds=20),\n",
    "            lgb.log_evaluation(period=100)  # Logs evaluation every 100 rounds\n",
    "        ]\n",
    "    )\n"
   ]
  },
  {
   "cell_type": "code",
   "execution_count": null,
   "id": "111e2801-5dd8-4d68-b768-fe0ded4ca6f2",
   "metadata": {
    "ExecuteTime": {
     "end_time": "2024-10-06T21:41:42.961168Z",
     "start_time": "2024-10-06T21:41:21.038498Z"
    }
   },
   "outputs": [],
   "source": [
    "# Predict on the validation set\n",
    "y_pred = model.predict(X_val)\n",
    "\n",
    "# Save predictions to a CSV file\n",
    "pd.DataFrame(data={'tow': y_pred}).to_csv('lightgbm_val_v20.csv', index=False)\n",
    "print(\"Predictions saved to 'lightgbm_val_v20.csv'\")"
   ]
  },
  {
   "cell_type": "code",
   "execution_count": null,
   "id": "9cceb72a",
   "metadata": {},
   "outputs": [],
   "source": [
    "df_test = dataset.iloc[challenge_set_updated.shape[0]:, :]\n",
    "df_test.head()"
   ]
  },
  {
   "cell_type": "code",
   "execution_count": null,
   "id": "6549a2af",
   "metadata": {},
   "outputs": [],
   "source": [
    "X_test = df_test.drop('tow', axis=1)\n"
   ]
  },
  {
   "cell_type": "code",
   "execution_count": null,
   "id": "c490d018",
   "metadata": {},
   "outputs": [],
   "source": [
    "# Assuming X_test is your test dataset\n",
    "\n",
    "# Convert categorical columns to 'category' type with the same categories as in X_train\n",
    "for col in categorical_cols:\n",
    "    if col in X_test.columns:\n",
    "        X_test[col] = pd.Categorical(X_test[col], categories=X_train[col].cat.categories)\n",
    "\n",
    "# Now you can safely use the model for prediction\n",
    "y_pred = model.predict(X_test)\n",
    "y_test = y_pred"
   ]
  },
  {
   "cell_type": "code",
   "execution_count": null,
   "id": "505d0b75",
   "metadata": {},
   "outputs": [],
   "source": [
    "dft0 = pd.read_csv('./data/final_submission_set.csv')\n",
    "dft0['tow'] = y_test\n",
    "dft0[['flight_id', 'tow']].to_csv('submissions/lightligbm.csv', index=False)"
   ]
  }
 ],
 "metadata": {
  "kernelspec": {
   "display_name": "Python 3",
   "language": "python",
   "name": "python3"
  },
  "language_info": {
   "codemirror_mode": {
    "name": "ipython",
    "version": 3
   },
   "file_extension": ".py",
   "mimetype": "text/x-python",
   "name": "python",
   "nbconvert_exporter": "python",
   "pygments_lexer": "ipython3",
   "version": "3.10.12"
  }
 },
 "nbformat": 4,
 "nbformat_minor": 5
}
