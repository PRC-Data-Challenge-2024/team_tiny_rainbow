{
 "cells": [
  {
   "cell_type": "code",
   "execution_count": 1,
   "id": "80aa4ca3-dbdf-41d2-b574-db201040c233",
   "metadata": {},
   "outputs": [],
   "source": [
    "from fastai.tabular.all import *"
   ]
  },
  {
   "cell_type": "markdown",
   "id": "ed5768b5-ccc9-44e8-90f0-af97e53fedfe",
   "metadata": {},
   "source": [
    "## Preprocessamento dos dados"
   ]
  },
  {
   "cell_type": "code",
   "execution_count": 2,
   "id": "00e2070e-305f-4387-a763-2b9bbad31e1b",
   "metadata": {},
   "outputs": [
    {
     "data": {
      "text/html": [
       "<div>\n",
       "<style scoped>\n",
       "    .dataframe tbody tr th:only-of-type {\n",
       "        vertical-align: middle;\n",
       "    }\n",
       "\n",
       "    .dataframe tbody tr th {\n",
       "        vertical-align: top;\n",
       "    }\n",
       "\n",
       "    .dataframe thead th {\n",
       "        text-align: right;\n",
       "    }\n",
       "</style>\n",
       "<table border=\"1\" class=\"dataframe\">\n",
       "  <thead>\n",
       "    <tr style=\"text-align: right;\">\n",
       "      <th></th>\n",
       "      <th>adep</th>\n",
       "      <th>country_code_adep</th>\n",
       "      <th>ades</th>\n",
       "      <th>name_ades</th>\n",
       "      <th>country_code_ades</th>\n",
       "      <th>aircraft_type</th>\n",
       "      <th>wtc</th>\n",
       "      <th>airline</th>\n",
       "      <th>flight_duration</th>\n",
       "      <th>taxiout_time</th>\n",
       "      <th>flown_distance</th>\n",
       "      <th>tow</th>\n",
       "      <th>offblock_hour</th>\n",
       "      <th>offblock_day_of_week</th>\n",
       "      <th>offblock_month</th>\n",
       "    </tr>\n",
       "  </thead>\n",
       "  <tbody>\n",
       "    <tr>\n",
       "      <th>0</th>\n",
       "      <td>EGLL</td>\n",
       "      <td>GB</td>\n",
       "      <td>EICK</td>\n",
       "      <td>Cork</td>\n",
       "      <td>IE</td>\n",
       "      <td>A320</td>\n",
       "      <td>M</td>\n",
       "      <td>a73f82288988b79be490c6322f4c32ed</td>\n",
       "      <td>61</td>\n",
       "      <td>18</td>\n",
       "      <td>321</td>\n",
       "      <td>-0.464485</td>\n",
       "      <td>14</td>\n",
       "      <td>5</td>\n",
       "      <td>1</td>\n",
       "    </tr>\n",
       "    <tr>\n",
       "      <th>1</th>\n",
       "      <td>LEBL</td>\n",
       "      <td>ES</td>\n",
       "      <td>KMIA</td>\n",
       "      <td>Miami</td>\n",
       "      <td>US</td>\n",
       "      <td>B772</td>\n",
       "      <td>H</td>\n",
       "      <td>5543e4dc327359ffaf5b9c0e6faaf0e1</td>\n",
       "      <td>570</td>\n",
       "      <td>13</td>\n",
       "      <td>4193</td>\n",
       "      <td>1.989801</td>\n",
       "      <td>10</td>\n",
       "      <td>5</td>\n",
       "      <td>1</td>\n",
       "    </tr>\n",
       "    <tr>\n",
       "      <th>2</th>\n",
       "      <td>ESSA</td>\n",
       "      <td>SE</td>\n",
       "      <td>KORD</td>\n",
       "      <td>Chicago O'Hare</td>\n",
       "      <td>US</td>\n",
       "      <td>A333</td>\n",
       "      <td>H</td>\n",
       "      <td>8be5c854fd664bcb97fb543339f74770</td>\n",
       "      <td>554</td>\n",
       "      <td>15</td>\n",
       "      <td>3770</td>\n",
       "      <td>2.834012</td>\n",
       "      <td>10</td>\n",
       "      <td>5</td>\n",
       "      <td>1</td>\n",
       "    </tr>\n",
       "    <tr>\n",
       "      <th>3</th>\n",
       "      <td>LSZH</td>\n",
       "      <td>CH</td>\n",
       "      <td>KPHL</td>\n",
       "      <td>Philadelphia</td>\n",
       "      <td>US</td>\n",
       "      <td>B788</td>\n",
       "      <td>H</td>\n",
       "      <td>5543e4dc327359ffaf5b9c0e6faaf0e1</td>\n",
       "      <td>497</td>\n",
       "      <td>11</td>\n",
       "      <td>3607</td>\n",
       "      <td>1.467256</td>\n",
       "      <td>11</td>\n",
       "      <td>5</td>\n",
       "      <td>1</td>\n",
       "    </tr>\n",
       "    <tr>\n",
       "      <th>4</th>\n",
       "      <td>EIDW</td>\n",
       "      <td>IE</td>\n",
       "      <td>EGLL</td>\n",
       "      <td>London Heathrow</td>\n",
       "      <td>GB</td>\n",
       "      <td>A21N</td>\n",
       "      <td>M</td>\n",
       "      <td>a73f82288988b79be490c6322f4c32ed</td>\n",
       "      <td>55</td>\n",
       "      <td>14</td>\n",
       "      <td>305</td>\n",
       "      <td>-0.172087</td>\n",
       "      <td>13</td>\n",
       "      <td>5</td>\n",
       "      <td>1</td>\n",
       "    </tr>\n",
       "  </tbody>\n",
       "</table>\n",
       "</div>"
      ],
      "text/plain": [
       "   adep country_code_adep  ades        name_ades country_code_ades  \\\n",
       "0  EGLL                GB  EICK             Cork                IE   \n",
       "1  LEBL                ES  KMIA            Miami                US   \n",
       "2  ESSA                SE  KORD   Chicago O'Hare                US   \n",
       "3  LSZH                CH  KPHL     Philadelphia                US   \n",
       "4  EIDW                IE  EGLL  London Heathrow                GB   \n",
       "\n",
       "  aircraft_type wtc                           airline  flight_duration  \\\n",
       "0          A320   M  a73f82288988b79be490c6322f4c32ed               61   \n",
       "1          B772   H  5543e4dc327359ffaf5b9c0e6faaf0e1              570   \n",
       "2          A333   H  8be5c854fd664bcb97fb543339f74770              554   \n",
       "3          B788   H  5543e4dc327359ffaf5b9c0e6faaf0e1              497   \n",
       "4          A21N   M  a73f82288988b79be490c6322f4c32ed               55   \n",
       "\n",
       "   taxiout_time  flown_distance       tow  offblock_hour  \\\n",
       "0            18             321 -0.464485             14   \n",
       "1            13            4193  1.989801             10   \n",
       "2            15            3770  2.834012             10   \n",
       "3            11            3607  1.467256             11   \n",
       "4            14             305 -0.172087             13   \n",
       "\n",
       "   offblock_day_of_week  offblock_month  \n",
       "0                     5               1  \n",
       "1                     5               1  \n",
       "2                     5               1  \n",
       "3                     5               1  \n",
       "4                     5               1  "
      ]
     },
     "execution_count": 2,
     "metadata": {},
     "output_type": "execute_result"
    }
   ],
   "source": [
    "def load(file_path):\n",
    "  df = pd.read_csv(file_path)\n",
    "  m, s = df['tow'].mean(), df['tow'].std()\n",
    "  df['date'] = pd.to_datetime(df['date'])\n",
    "  df['actual_offblock_time'] = pd.to_datetime(df['actual_offblock_time'])\n",
    "  df['arrival_time'] = pd.to_datetime(df['arrival_time'])\n",
    "  df['offblock_hour'] = df['actual_offblock_time'].dt.round('H').dt.hour\n",
    "  df['offblock_day_of_week'] = df['actual_offblock_time'].dt.dayofweek\n",
    "  df['offblock_month'] = df['actual_offblock_time'].dt.month\n",
    "  df = df.drop(columns=['flight_id','name_adep', 'callsign', 'actual_offblock_time', 'arrival_time', 'date'])\n",
    "  df['tow'] = (df['tow']-m)/s\n",
    "  return df, m, s # Roubando aqui na média e desvio padrão do dataset inteiro :p\n",
    "\n",
    "df, mean, std = load('challenge_set.csv')\n",
    "df.head()"
   ]
  },
  {
   "cell_type": "markdown",
   "id": "19261bf2-b8d1-4cd6-a3c4-969c8bbaa16a",
   "metadata": {},
   "source": [
    "## Modelo (com pre-processamento auto)"
   ]
  },
  {
   "cell_type": "code",
   "execution_count": 3,
   "id": "b942f73f-81ae-4db5-bb2f-c8d309d237d6",
   "metadata": {},
   "outputs": [],
   "source": [
    "splits = RandomSplitter(valid_pct=0.2)(range_of(df))\n",
    "to = TabularPandas(df, procs=[Categorify, FillMissing, Normalize],\n",
    "                   cat_names = ['adep', 'country_code_adep', 'ades', 'name_ades', 'country_code_ades',\n",
    "                                'aircraft_type', 'wtc', 'airline', 'offblock_hour', 'offblock_day_of_week', 'offblock_month'],\n",
    "                   cont_names = ['flight_duration', 'taxiout_time', 'flown_distance'],\n",
    "                   y_names='tow',\n",
    "                   splits=splits)\n",
    "dls = to.dataloaders(bs=64)"
   ]
  },
  {
   "cell_type": "code",
   "execution_count": 4,
   "id": "09877478-7be3-4e07-b449-69d9d75f39bb",
   "metadata": {},
   "outputs": [],
   "source": [
    "learn = tabular_learner(dls, metrics=accuracy)"
   ]
  },
  {
   "cell_type": "code",
   "execution_count": 5,
   "id": "eb96b5f7-3f69-4be8-a6ac-9c508f0eaa3d",
   "metadata": {},
   "outputs": [
    {
     "data": {
      "text/html": [
       "\n",
       "<style>\n",
       "    /* Turns off some styling */\n",
       "    progress {\n",
       "        /* gets rid of default border in Firefox and Opera. */\n",
       "        border: none;\n",
       "        /* Needs to be in here for Safari polyfill so background images work as expected. */\n",
       "        background-size: auto;\n",
       "    }\n",
       "    progress:not([value]), progress:not([value])::-webkit-progress-bar {\n",
       "        background: repeating-linear-gradient(45deg, #7e7e7e, #7e7e7e 10px, #5c5c5c 10px, #5c5c5c 20px);\n",
       "    }\n",
       "    .progress-bar-interrupted, .progress-bar-interrupted::-webkit-progress-bar {\n",
       "        background: #F44336;\n",
       "    }\n",
       "</style>\n"
      ],
      "text/plain": [
       "<IPython.core.display.HTML object>"
      ]
     },
     "metadata": {},
     "output_type": "display_data"
    },
    {
     "data": {
      "text/html": [
       "<table border=\"1\" class=\"dataframe\">\n",
       "  <thead>\n",
       "    <tr style=\"text-align: left;\">\n",
       "      <th>epoch</th>\n",
       "      <th>train_loss</th>\n",
       "      <th>valid_loss</th>\n",
       "      <th>accuracy</th>\n",
       "      <th>time</th>\n",
       "    </tr>\n",
       "  </thead>\n",
       "  <tbody>\n",
       "    <tr>\n",
       "      <td>0</td>\n",
       "      <td>0.031219</td>\n",
       "      <td>0.008544</td>\n",
       "      <td>0.000000</td>\n",
       "      <td>00:30</td>\n",
       "    </tr>\n",
       "    <tr>\n",
       "      <td>1</td>\n",
       "      <td>0.022229</td>\n",
       "      <td>0.007596</td>\n",
       "      <td>0.000000</td>\n",
       "      <td>00:30</td>\n",
       "    </tr>\n",
       "    <tr>\n",
       "      <td>2</td>\n",
       "      <td>0.023709</td>\n",
       "      <td>0.007106</td>\n",
       "      <td>0.000000</td>\n",
       "      <td>00:30</td>\n",
       "    </tr>\n",
       "    <tr>\n",
       "      <td>3</td>\n",
       "      <td>0.018542</td>\n",
       "      <td>0.007038</td>\n",
       "      <td>0.000000</td>\n",
       "      <td>00:29</td>\n",
       "    </tr>\n",
       "    <tr>\n",
       "      <td>4</td>\n",
       "      <td>0.024506</td>\n",
       "      <td>0.006357</td>\n",
       "      <td>0.000000</td>\n",
       "      <td>00:30</td>\n",
       "    </tr>\n",
       "    <tr>\n",
       "      <td>5</td>\n",
       "      <td>0.028802</td>\n",
       "      <td>0.014277</td>\n",
       "      <td>0.000000</td>\n",
       "      <td>00:31</td>\n",
       "    </tr>\n",
       "    <tr>\n",
       "      <td>6</td>\n",
       "      <td>0.020479</td>\n",
       "      <td>0.005707</td>\n",
       "      <td>0.000000</td>\n",
       "      <td>00:29</td>\n",
       "    </tr>\n",
       "    <tr>\n",
       "      <td>7</td>\n",
       "      <td>0.017463</td>\n",
       "      <td>0.006137</td>\n",
       "      <td>0.000000</td>\n",
       "      <td>00:30</td>\n",
       "    </tr>\n",
       "    <tr>\n",
       "      <td>8</td>\n",
       "      <td>0.018264</td>\n",
       "      <td>0.006704</td>\n",
       "      <td>0.000000</td>\n",
       "      <td>00:30</td>\n",
       "    </tr>\n",
       "    <tr>\n",
       "      <td>9</td>\n",
       "      <td>0.022283</td>\n",
       "      <td>0.004982</td>\n",
       "      <td>0.000000</td>\n",
       "      <td>00:31</td>\n",
       "    </tr>\n",
       "  </tbody>\n",
       "</table>"
      ],
      "text/plain": [
       "<IPython.core.display.HTML object>"
      ]
     },
     "metadata": {},
     "output_type": "display_data"
    }
   ],
   "source": [
    "learn.fit_one_cycle(10)"
   ]
  },
  {
   "cell_type": "markdown",
   "id": "02a2045d-2800-4d5a-a580-fe3f23e2d365",
   "metadata": {},
   "source": [
    "## Validação"
   ]
  },
  {
   "cell_type": "code",
   "execution_count": 6,
   "id": "ecfa85da-05ca-45c5-859b-1dd08bc2d926",
   "metadata": {},
   "outputs": [
    {
     "data": {
      "text/html": [
       "\n",
       "<style>\n",
       "    /* Turns off some styling */\n",
       "    progress {\n",
       "        /* gets rid of default border in Firefox and Opera. */\n",
       "        border: none;\n",
       "        /* Needs to be in here for Safari polyfill so background images work as expected. */\n",
       "        background-size: auto;\n",
       "    }\n",
       "    progress:not([value]), progress:not([value])::-webkit-progress-bar {\n",
       "        background: repeating-linear-gradient(45deg, #7e7e7e, #7e7e7e 10px, #5c5c5c 10px, #5c5c5c 20px);\n",
       "    }\n",
       "    .progress-bar-interrupted, .progress-bar-interrupted::-webkit-progress-bar {\n",
       "        background: #F44336;\n",
       "    }\n",
       "</style>\n"
      ],
      "text/plain": [
       "<IPython.core.display.HTML object>"
      ]
     },
     "metadata": {},
     "output_type": "display_data"
    },
    {
     "data": {
      "text/html": [],
      "text/plain": [
       "<IPython.core.display.HTML object>"
      ]
     },
     "metadata": {},
     "output_type": "display_data"
    },
    {
     "data": {
      "text/plain": [
       "(tensor(-0.0021), tensor(0.0705))"
      ]
     },
     "execution_count": 6,
     "metadata": {},
     "output_type": "execute_result"
    },
    {
     "data": {
      "image/png": "[encoded data removed]",
      "text/plain": [
       "<Figure size 800x200 with 1 Axes>"
      ]
     },
     "metadata": {},
     "output_type": "display_data"
    }
   ],
   "source": [
    "plt.figure(figsize=(8, 2))\n",
    "preds_valida, real_valida = learn.get_preds()\n",
    "diff_valida = preds_valida - real_valida\n",
    "plt.hist(diff_valida.numpy(), bins=200)\n",
    "diff_valida.mean(), diff_valida.std()"
   ]
  },
  {
   "cell_type": "markdown",
   "id": "2747f714-e2d8-4df9-8dae-0f0404704952",
   "metadata": {},
   "source": [
    "## Teste"
   ]
  },
  {
   "cell_type": "code",
   "execution_count": 7,
   "id": "d884c3cb-9474-4e2e-ace1-abeb6d971ef8",
   "metadata": {},
   "outputs": [
    {
     "data": {
      "text/html": [
       "\n",
       "<style>\n",
       "    /* Turns off some styling */\n",
       "    progress {\n",
       "        /* gets rid of default border in Firefox and Opera. */\n",
       "        border: none;\n",
       "        /* Needs to be in here for Safari polyfill so background images work as expected. */\n",
       "        background-size: auto;\n",
       "    }\n",
       "    progress:not([value]), progress:not([value])::-webkit-progress-bar {\n",
       "        background: repeating-linear-gradient(45deg, #7e7e7e, #7e7e7e 10px, #5c5c5c 10px, #5c5c5c 20px);\n",
       "    }\n",
       "    .progress-bar-interrupted, .progress-bar-interrupted::-webkit-progress-bar {\n",
       "        background: #F44336;\n",
       "    }\n",
       "</style>\n"
      ],
      "text/plain": [
       "<IPython.core.display.HTML object>"
      ]
     },
     "metadata": {},
     "output_type": "display_data"
    },
    {
     "data": {
      "text/html": [],
      "text/plain": [
       "<IPython.core.display.HTML object>"
      ]
     },
     "metadata": {},
     "output_type": "display_data"
    }
   ],
   "source": [
    "df_test, _, _ = load('submission_set.csv')\n",
    "dl_test = learn.dls.test_dl(df_test)\n",
    "preds, _ = learn.get_preds(dl=dl_test)\n",
    "valores = (preds*std+mean).numpy()"
   ]
  },
  {
   "cell_type": "code",
   "execution_count": 8,
   "id": "d47f80be-af3b-4494-996a-cde2785a7185",
   "metadata": {},
   "outputs": [
    {
     "data": {
      "image/png": "[encoded data removed]",
      "text/plain": [
       "<Figure size 1400x200 with 1 Axes>"
      ]
     },
     "metadata": {},
     "output_type": "display_data"
    }
   ],
   "source": [
    "plt.figure(figsize=(14, 2))\n",
    "nums, bins, f = plt.hist(valores, bins=300, density=True, color='g')\n",
    "plt.hist(df['tow']*std+mean, bins=bins, alpha=0.5, color='r', density=True);"
   ]
  },
  {
   "cell_type": "markdown",
   "id": "7508f56d-8c1e-4e28-9332-89c0aabf16db",
   "metadata": {},
   "source": [
    "# Submissão"
   ]
  },
  {
   "cell_type": "code",
   "execution_count": 9,
   "id": "afe8ffb1-7939-49c8-b8a8-4191313d7493",
   "metadata": {
    "scrolled": true
   },
   "outputs": [],
   "source": [
    "dft0 = pd.read_csv('submission_set.csv')\n",
    "dft0['tow'] = valores\n",
    "dft0[['flight_id', 'tow']].to_csv('mlp.csv', index=False)"
   ]
  },
  {
   "cell_type": "code",
   "execution_count": 10,
   "id": "0db81ef7-c884-4886-8083-441d98df5340",
   "metadata": {},
   "outputs": [
    {
     "name": "stdout",
     "output_type": "stream",
     "text": [
      "flight_id,tow\n",
      "248753821,68915.91\n",
      "248753822,213001.84\n",
      "248754498,217307.66\n",
      "248757623,66044.07\n",
      "248763603,63943.03\n",
      "248755068,61226.816\n",
      "248754229,57157.43\n",
      "248754894,57718.785\n",
      "248754751,58821.902\n"
     ]
    }
   ],
   "source": [
    "!head mlp.csv"
   ]
  },
  {
   "cell_type": "code",
   "execution_count": 11,
   "id": "eed40eee-95ca-4851-b264-dcf880a08808",
   "metadata": {},
   "outputs": [],
   "source": [
    "# !mc cp ./mlp.csv dc24/submissions/team_tiny_rainbow_v2_7ec66710-1eb8-478e-8976-584c090b6373.csv"
   ]
  }
 ],
 "metadata": {
  "kernelspec": {
   "display_name": "Python 3 (ipykernel)",
   "language": "python",
   "name": "python3"
  },
  "language_info": {
   "codemirror_mode": {
    "name": "ipython",
    "version": 3
   },
   "file_extension": ".py",
   "mimetype": "text/x-python",
   "name": "python",
   "nbconvert_exporter": "python",
   "pygments_lexer": "ipython3",
   "version": "3.11.7"
  }
 },
 "nbformat": 4,
 "nbformat_minor": 5
}
