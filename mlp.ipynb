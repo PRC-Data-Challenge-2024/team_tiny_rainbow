{
 "cells": [
  {
   "cell_type": "code",
   "execution_count": 1,
   "id": "80aa4ca3-dbdf-41d2-b574-db201040c233",
   "metadata": {},
   "outputs": [],
   "source": [
    "from fastai.tabular.all import *\n",
    "from sklearn.model_selection import train_test_split"
   ]
  },
  {
   "cell_type": "markdown",
   "id": "ed5768b5-ccc9-44e8-90f0-af97e53fedfe",
   "metadata": {},
   "source": [
    "## Preprocessamento dos dados"
   ]
  },
  {
   "cell_type": "code",
   "execution_count": 2,
   "id": "00e2070e-305f-4387-a763-2b9bbad31e1b",
   "metadata": {
    "scrolled": true
   },
   "outputs": [
    {
     "data": {
      "text/html": [
       "<div>\n",
       "<style scoped>\n",
       "    .dataframe tbody tr th:only-of-type {\n",
       "        vertical-align: middle;\n",
       "    }\n",
       "\n",
       "    .dataframe tbody tr th {\n",
       "        vertical-align: top;\n",
       "    }\n",
       "\n",
       "    .dataframe thead th {\n",
       "        text-align: right;\n",
       "    }\n",
       "</style>\n",
       "<table border=\"1\" class=\"dataframe\">\n",
       "  <thead>\n",
       "    <tr style=\"text-align: right;\">\n",
       "      <th></th>\n",
       "      <th>aircraft_type</th>\n",
       "      <th>wtc</th>\n",
       "      <th>airline</th>\n",
       "      <th>taxiout_time</th>\n",
       "      <th>flown_distance</th>\n",
       "      <th>track_variation_ARR_100</th>\n",
       "      <th>track_variation_DEP_100</th>\n",
       "      <th>track_variation_ENR</th>\n",
       "      <th>average_vertical_rate_ARR_100</th>\n",
       "      <th>average_vertical_rate_DEP_100</th>\n",
       "      <th>...</th>\n",
       "      <th>Altitude_adep</th>\n",
       "      <th>Latitude_ades</th>\n",
       "      <th>Longitude_ades</th>\n",
       "      <th>Altitude_ades</th>\n",
       "      <th>altitude_difference</th>\n",
       "      <th>bearing</th>\n",
       "      <th>elevation_gradient</th>\n",
       "      <th>adep_geo_cluster</th>\n",
       "      <th>ades_geo_cluster</th>\n",
       "      <th>tow</th>\n",
       "    </tr>\n",
       "  </thead>\n",
       "  <tbody>\n",
       "    <tr>\n",
       "      <th>0</th>\n",
       "      <td>A320</td>\n",
       "      <td>M</td>\n",
       "      <td>a73f82288988b79be490c6322f4c32ed</td>\n",
       "      <td>18.0</td>\n",
       "      <td>321</td>\n",
       "      <td>124.339907</td>\n",
       "      <td>39.704139</td>\n",
       "      <td>2.102124</td>\n",
       "      <td>-1276.005427</td>\n",
       "      <td>1683.211169</td>\n",
       "      <td>...</td>\n",
       "      <td>25</td>\n",
       "      <td>51.843</td>\n",
       "      <td>-8.492</td>\n",
       "      <td>154</td>\n",
       "      <td>129</td>\n",
       "      <td>277.346455</td>\n",
       "      <td>0.232363</td>\n",
       "      <td>3</td>\n",
       "      <td>13</td>\n",
       "      <td>0.118329</td>\n",
       "    </tr>\n",
       "    <tr>\n",
       "      <th>1</th>\n",
       "      <td>B772</td>\n",
       "      <td>H</td>\n",
       "      <td>5543e4dc327359ffaf5b9c0e6faaf0e1</td>\n",
       "      <td>13.0</td>\n",
       "      <td>4193</td>\n",
       "      <td>179.318890</td>\n",
       "      <td>8.910306</td>\n",
       "      <td>76.029652</td>\n",
       "      <td>-858.158167</td>\n",
       "      <td>1682.557205</td>\n",
       "      <td>...</td>\n",
       "      <td>4</td>\n",
       "      <td>25.793</td>\n",
       "      <td>-80.291</td>\n",
       "      <td>3</td>\n",
       "      <td>-1</td>\n",
       "      <td>285.530704</td>\n",
       "      <td>-0.000133</td>\n",
       "      <td>10</td>\n",
       "      <td>18</td>\n",
       "      <td>0.506854</td>\n",
       "    </tr>\n",
       "    <tr>\n",
       "      <th>2</th>\n",
       "      <td>A333</td>\n",
       "      <td>H</td>\n",
       "      <td>8be5c854fd664bcb97fb543339f74770</td>\n",
       "      <td>15.0</td>\n",
       "      <td>3770</td>\n",
       "      <td>179.638848</td>\n",
       "      <td>32.391881</td>\n",
       "      <td>85.115541</td>\n",
       "      <td>-791.849866</td>\n",
       "      <td>840.240481</td>\n",
       "      <td>...</td>\n",
       "      <td>38</td>\n",
       "      <td>41.979</td>\n",
       "      <td>-87.904</td>\n",
       "      <td>204</td>\n",
       "      <td>166</td>\n",
       "      <td>305.643136</td>\n",
       "      <td>0.024214</td>\n",
       "      <td>5</td>\n",
       "      <td>1</td>\n",
       "      <td>0.640496</td>\n",
       "    </tr>\n",
       "    <tr>\n",
       "      <th>3</th>\n",
       "      <td>B788</td>\n",
       "      <td>H</td>\n",
       "      <td>5543e4dc327359ffaf5b9c0e6faaf0e1</td>\n",
       "      <td>11.0</td>\n",
       "      <td>3607</td>\n",
       "      <td>0.208347</td>\n",
       "      <td>36.998783</td>\n",
       "      <td>101.712676</td>\n",
       "      <td>-690.489814</td>\n",
       "      <td>1851.136442</td>\n",
       "      <td>...</td>\n",
       "      <td>432</td>\n",
       "      <td>39.872</td>\n",
       "      <td>-75.241</td>\n",
       "      <td>12</td>\n",
       "      <td>-420</td>\n",
       "      <td>296.005451</td>\n",
       "      <td>-0.065017</td>\n",
       "      <td>12</td>\n",
       "      <td>9</td>\n",
       "      <td>0.424133</td>\n",
       "    </tr>\n",
       "    <tr>\n",
       "      <th>4</th>\n",
       "      <td>A21N</td>\n",
       "      <td>M</td>\n",
       "      <td>a73f82288988b79be490c6322f4c32ed</td>\n",
       "      <td>14.0</td>\n",
       "      <td>305</td>\n",
       "      <td>NaN</td>\n",
       "      <td>174.878799</td>\n",
       "      <td>NaN</td>\n",
       "      <td>NaN</td>\n",
       "      <td>2754.662045</td>\n",
       "      <td>...</td>\n",
       "      <td>74</td>\n",
       "      <td>51.477</td>\n",
       "      <td>-0.461</td>\n",
       "      <td>25</td>\n",
       "      <td>-49</td>\n",
       "      <td>116.445141</td>\n",
       "      <td>-0.109150</td>\n",
       "      <td>13</td>\n",
       "      <td>3</td>\n",
       "      <td>0.164617</td>\n",
       "    </tr>\n",
       "  </tbody>\n",
       "</table>\n",
       "<p>5 rows × 76 columns</p>\n",
       "</div>"
      ],
      "text/plain": [
       "  aircraft_type wtc                           airline  taxiout_time  \\\n",
       "0          A320   M  a73f82288988b79be490c6322f4c32ed          18.0   \n",
       "1          B772   H  5543e4dc327359ffaf5b9c0e6faaf0e1          13.0   \n",
       "2          A333   H  8be5c854fd664bcb97fb543339f74770          15.0   \n",
       "3          B788   H  5543e4dc327359ffaf5b9c0e6faaf0e1          11.0   \n",
       "4          A21N   M  a73f82288988b79be490c6322f4c32ed          14.0   \n",
       "\n",
       "   flown_distance  track_variation_ARR_100  track_variation_DEP_100  \\\n",
       "0             321               124.339907                39.704139   \n",
       "1            4193               179.318890                 8.910306   \n",
       "2            3770               179.638848                32.391881   \n",
       "3            3607                 0.208347                36.998783   \n",
       "4             305                      NaN               174.878799   \n",
       "\n",
       "   track_variation_ENR  average_vertical_rate_ARR_100  \\\n",
       "0             2.102124                   -1276.005427   \n",
       "1            76.029652                    -858.158167   \n",
       "2            85.115541                    -791.849866   \n",
       "3           101.712676                    -690.489814   \n",
       "4                  NaN                            NaN   \n",
       "\n",
       "   average_vertical_rate_DEP_100  ...  Altitude_adep  Latitude_ades  \\\n",
       "0                    1683.211169  ...             25         51.843   \n",
       "1                    1682.557205  ...              4         25.793   \n",
       "2                     840.240481  ...             38         41.979   \n",
       "3                    1851.136442  ...            432         39.872   \n",
       "4                    2754.662045  ...             74         51.477   \n",
       "\n",
       "   Longitude_ades  Altitude_ades  altitude_difference     bearing  \\\n",
       "0          -8.492            154                  129  277.346455   \n",
       "1         -80.291              3                   -1  285.530704   \n",
       "2         -87.904            204                  166  305.643136   \n",
       "3         -75.241             12                 -420  296.005451   \n",
       "4          -0.461             25                  -49  116.445141   \n",
       "\n",
       "   elevation_gradient  adep_geo_cluster  ades_geo_cluster       tow  \n",
       "0            0.232363                 3                13  0.118329  \n",
       "1           -0.000133                10                18  0.506854  \n",
       "2            0.024214                 5                 1  0.640496  \n",
       "3           -0.065017                12                 9  0.424133  \n",
       "4           -0.109150                13                 3  0.164617  \n",
       "\n",
       "[5 rows x 76 columns]"
      ]
     },
     "execution_count": 2,
     "metadata": {},
     "output_type": "execute_result"
    }
   ],
   "source": [
    "df = pd.read_csv('data/challenge_set_updated_v8.csv').replace([np.inf, -np.inf], np.nan)\n",
    "dmin, dmax = df.tow.min(), df.tow.max()\n",
    "df.tow = (df.tow - dmin) / (dmax - dmin)\n",
    "cat_names = ['aircraft_type', \n",
    "             'wtc', \n",
    "             'airline',\n",
    "             'offblock_hour',\n",
    "             'offblock_minute', \n",
    "             'offblock_day_of_week',\n",
    "             'offblock_month',\n",
    "             'offblock_week_of_year', \n",
    "             'offblock_season', \n",
    "             'arrival_hour',\n",
    "             'arrival_minute',\n",
    "             'is_offblock_weekend',\n",
    "             'is_offblock_rush_hour',\n",
    "             'flight_duration_category',                       \n",
    "             'adep_region', \n",
    "             'ades_region', \n",
    "             'same_country_flight',\n",
    "             'same_region_flight',                        \n",
    "             'flight_direction',\n",
    "             'is_intercontinental',\n",
    "             'Manufacturer',\n",
    "             'Model_FAA',\n",
    "             'Physical_Class_Engine',\n",
    "             'FAA_Weight',\n",
    "             'adep_geo_cluster',\n",
    "             'ades_geo_cluster']\n",
    "cont_names = list(set(df.columns) - set(cat_names) - set(['tow']))\n",
    "df.head()"
   ]
  },
  {
   "cell_type": "markdown",
   "id": "19261bf2-b8d1-4cd6-a3c4-969c8bbaa16a",
   "metadata": {},
   "source": [
    "## Modelo (com pre-processamento auto)"
   ]
  },
  {
   "cell_type": "code",
   "execution_count": 3,
   "id": "b942f73f-81ae-4db5-bb2f-c8d309d237d6",
   "metadata": {},
   "outputs": [],
   "source": [
    "idx_train, idx_val = train_test_split(range_of(df), test_size=0.05, random_state=42)\n",
    "to = TabularPandas(df, procs=[Categorify, FillMissing, Normalize],\n",
    "                   cat_names=cat_names, cont_names=cont_names,\n",
    "                   y_names='tow',\n",
    "                   splits=(L(idx_train), L(idx_val)))\n",
    "dls = to.dataloaders(bs=128)"
   ]
  },
  {
   "cell_type": "code",
   "execution_count": 5,
   "id": "09877478-7be3-4e07-b449-69d9d75f39bb",
   "metadata": {},
   "outputs": [],
   "source": [
    "rmse.func = lambda x, y: torch.sqrt(F.mse_loss(x, y)) * (dmax - dmin)\n",
    "learn = tabular_learner(dls, y_range=(df.tow.min(), df.tow.max()), metrics=rmse)"
   ]
  },
  {
   "cell_type": "code",
   "execution_count": 6,
   "id": "1f55a0df-0fbf-473f-92eb-cf03c5dd498d",
   "metadata": {},
   "outputs": [
    {
     "data": {
      "text/html": [
       "\n",
       "<style>\n",
       "    /* Turns off some styling */\n",
       "    progress {\n",
       "        /* gets rid of default border in Firefox and Opera. */\n",
       "        border: none;\n",
       "        /* Needs to be in here for Safari polyfill so background images work as expected. */\n",
       "        background-size: auto;\n",
       "    }\n",
       "    progress:not([value]), progress:not([value])::-webkit-progress-bar {\n",
       "        background: repeating-linear-gradient(45deg, #7e7e7e, #7e7e7e 10px, #5c5c5c 10px, #5c5c5c 20px);\n",
       "    }\n",
       "    .progress-bar-interrupted, .progress-bar-interrupted::-webkit-progress-bar {\n",
       "        background: #F44336;\n",
       "    }\n",
       "</style>\n"
      ],
      "text/plain": [
       "<IPython.core.display.HTML object>"
      ]
     },
     "metadata": {},
     "output_type": "display_data"
    },
    {
     "data": {
      "text/html": [],
      "text/plain": [
       "<IPython.core.display.HTML object>"
      ]
     },
     "metadata": {},
     "output_type": "display_data"
    },
    {
     "data": {
      "text/plain": [
       "SuggestedLRs(valley=0.005248074419796467)"
      ]
     },
     "execution_count": 6,
     "metadata": {},
     "output_type": "execute_result"
    },
    {
     "data": {
      "image/png": "[encoded data removed]",
      "text/plain": [
       "<Figure size 640x480 with 1 Axes>"
      ]
     },
     "metadata": {},
     "output_type": "display_data"
    }
   ],
   "source": [
    "learn.lr_find()"
   ]
  },
  {
   "cell_type": "code",
   "execution_count": 7,
   "id": "eb96b5f7-3f69-4be8-a6ac-9c508f0eaa3d",
   "metadata": {},
   "outputs": [
    {
     "data": {
      "text/html": [
       "\n",
       "<style>\n",
       "    /* Turns off some styling */\n",
       "    progress {\n",
       "        /* gets rid of default border in Firefox and Opera. */\n",
       "        border: none;\n",
       "        /* Needs to be in here for Safari polyfill so background images work as expected. */\n",
       "        background-size: auto;\n",
       "    }\n",
       "    progress:not([value]), progress:not([value])::-webkit-progress-bar {\n",
       "        background: repeating-linear-gradient(45deg, #7e7e7e, #7e7e7e 10px, #5c5c5c 10px, #5c5c5c 20px);\n",
       "    }\n",
       "    .progress-bar-interrupted, .progress-bar-interrupted::-webkit-progress-bar {\n",
       "        background: #F44336;\n",
       "    }\n",
       "</style>\n"
      ],
      "text/plain": [
       "<IPython.core.display.HTML object>"
      ]
     },
     "metadata": {},
     "output_type": "display_data"
    },
    {
     "data": {
      "text/html": [
       "<table border=\"1\" class=\"dataframe\">\n",
       "  <thead>\n",
       "    <tr style=\"text-align: left;\">\n",
       "      <th>epoch</th>\n",
       "      <th>train_loss</th>\n",
       "      <th>valid_loss</th>\n",
       "      <th>_rmse</th>\n",
       "      <th>time</th>\n",
       "    </tr>\n",
       "  </thead>\n",
       "  <tbody>\n",
       "    <tr>\n",
       "      <td>0</td>\n",
       "      <td>0.000449</td>\n",
       "      <td>0.000882</td>\n",
       "      <td>9990.519531</td>\n",
       "      <td>00:37</td>\n",
       "    </tr>\n",
       "    <tr>\n",
       "      <td>1</td>\n",
       "      <td>0.000369</td>\n",
       "      <td>0.000892</td>\n",
       "      <td>10046.682617</td>\n",
       "      <td>00:35</td>\n",
       "    </tr>\n",
       "    <tr>\n",
       "      <td>2</td>\n",
       "      <td>0.000312</td>\n",
       "      <td>0.000194</td>\n",
       "      <td>4687.553223</td>\n",
       "      <td>00:37</td>\n",
       "    </tr>\n",
       "    <tr>\n",
       "      <td>3</td>\n",
       "      <td>0.000276</td>\n",
       "      <td>0.000199</td>\n",
       "      <td>4746.143066</td>\n",
       "      <td>00:38</td>\n",
       "    </tr>\n",
       "    <tr>\n",
       "      <td>4</td>\n",
       "      <td>0.000248</td>\n",
       "      <td>0.000184</td>\n",
       "      <td>4558.124023</td>\n",
       "      <td>00:36</td>\n",
       "    </tr>\n",
       "    <tr>\n",
       "      <td>5</td>\n",
       "      <td>0.000233</td>\n",
       "      <td>0.000413</td>\n",
       "      <td>6833.965332</td>\n",
       "      <td>00:39</td>\n",
       "    </tr>\n",
       "    <tr>\n",
       "      <td>6</td>\n",
       "      <td>0.000208</td>\n",
       "      <td>0.000217</td>\n",
       "      <td>4958.250977</td>\n",
       "      <td>00:38</td>\n",
       "    </tr>\n",
       "    <tr>\n",
       "      <td>7</td>\n",
       "      <td>0.000210</td>\n",
       "      <td>0.000142</td>\n",
       "      <td>4006.550293</td>\n",
       "      <td>00:39</td>\n",
       "    </tr>\n",
       "    <tr>\n",
       "      <td>8</td>\n",
       "      <td>0.000219</td>\n",
       "      <td>0.000165</td>\n",
       "      <td>4319.066895</td>\n",
       "      <td>00:38</td>\n",
       "    </tr>\n",
       "    <tr>\n",
       "      <td>9</td>\n",
       "      <td>0.000186</td>\n",
       "      <td>0.000136</td>\n",
       "      <td>3920.800537</td>\n",
       "      <td>00:38</td>\n",
       "    </tr>\n",
       "    <tr>\n",
       "      <td>10</td>\n",
       "      <td>0.000177</td>\n",
       "      <td>0.000180</td>\n",
       "      <td>4515.754883</td>\n",
       "      <td>00:38</td>\n",
       "    </tr>\n",
       "    <tr>\n",
       "      <td>11</td>\n",
       "      <td>0.000171</td>\n",
       "      <td>0.000128</td>\n",
       "      <td>3809.861328</td>\n",
       "      <td>00:39</td>\n",
       "    </tr>\n",
       "    <tr>\n",
       "      <td>12</td>\n",
       "      <td>0.000158</td>\n",
       "      <td>0.000612</td>\n",
       "      <td>8319.401367</td>\n",
       "      <td>00:39</td>\n",
       "    </tr>\n",
       "    <tr>\n",
       "      <td>13</td>\n",
       "      <td>0.000142</td>\n",
       "      <td>0.000150</td>\n",
       "      <td>4114.235352</td>\n",
       "      <td>00:38</td>\n",
       "    </tr>\n",
       "    <tr>\n",
       "      <td>14</td>\n",
       "      <td>0.000141</td>\n",
       "      <td>0.000162</td>\n",
       "      <td>4287.233398</td>\n",
       "      <td>00:39</td>\n",
       "    </tr>\n",
       "    <tr>\n",
       "      <td>15</td>\n",
       "      <td>0.000145</td>\n",
       "      <td>0.000225</td>\n",
       "      <td>5043.948730</td>\n",
       "      <td>00:38</td>\n",
       "    </tr>\n",
       "    <tr>\n",
       "      <td>16</td>\n",
       "      <td>0.000125</td>\n",
       "      <td>0.000130</td>\n",
       "      <td>3834.593994</td>\n",
       "      <td>00:39</td>\n",
       "    </tr>\n",
       "    <tr>\n",
       "      <td>17</td>\n",
       "      <td>0.000137</td>\n",
       "      <td>0.000136</td>\n",
       "      <td>3926.295410</td>\n",
       "      <td>00:39</td>\n",
       "    </tr>\n",
       "  </tbody>\n",
       "</table>"
      ],
      "text/plain": [
       "<IPython.core.display.HTML object>"
      ]
     },
     "metadata": {},
     "output_type": "display_data"
    },
    {
     "name": "stdout",
     "output_type": "stream",
     "text": [
      "Better model found at epoch 0 with valid_loss value: 0.0008820803486742079.\n",
      "Better model found at epoch 2 with valid_loss value: 0.00019418890587985516.\n",
      "Better model found at epoch 4 with valid_loss value: 0.00018361335969530046.\n",
      "Better model found at epoch 7 with valid_loss value: 0.00014186424959916621.\n",
      "Better model found at epoch 9 with valid_loss value: 0.00013585681153926998.\n",
      "Better model found at epoch 11 with valid_loss value: 0.00012827746104449034.\n",
      "No improvement since epoch 11: early stopping\n"
     ]
    }
   ],
   "source": [
    "learn.fit_one_cycle(20, lr_max=0.005, cbs=[\n",
    "        EarlyStoppingCallback(monitor='valid_loss', min_delta=0, patience=6),\n",
    "        SaveModelCallback(monitor='valid_loss', fname='mlp_v8_default')])"
   ]
  },
  {
   "cell_type": "code",
   "execution_count": 13,
   "id": "edbe682e-5560-4d85-8068-f419ea857c32",
   "metadata": {},
   "outputs": [
    {
     "name": "stderr",
     "output_type": "stream",
     "text": [
      "/home/gabriel/.pyenv/versions/3.11.7/lib/python3.11/site-packages/fastai/learner.py:59: UserWarning: Saved file doesn't contain an optimizer state.\n",
      "  elif with_opt: warn(\"Saved file doesn't contain an optimizer state.\")\n"
     ]
    },
    {
     "data": {
      "text/plain": [
       "<fastai.tabular.learner.TabularLearner at 0x7887c4fd1d90>"
      ]
     },
     "execution_count": 13,
     "metadata": {},
     "output_type": "execute_result"
    }
   ],
   "source": [
    "learn.load('mlp_v8_default')\n",
    "learn.validate()"
   ]
  },
  {
   "cell_type": "code",
   "execution_count": 8,
   "id": "1d603319-5f4d-43c4-962c-e22cf4411fba",
   "metadata": {},
   "outputs": [
    {
     "data": {
      "text/html": [
       "\n",
       "<style>\n",
       "    /* Turns off some styling */\n",
       "    progress {\n",
       "        /* gets rid of default border in Firefox and Opera. */\n",
       "        border: none;\n",
       "        /* Needs to be in here for Safari polyfill so background images work as expected. */\n",
       "        background-size: auto;\n",
       "    }\n",
       "    progress:not([value]), progress:not([value])::-webkit-progress-bar {\n",
       "        background: repeating-linear-gradient(45deg, #7e7e7e, #7e7e7e 10px, #5c5c5c 10px, #5c5c5c 20px);\n",
       "    }\n",
       "    .progress-bar-interrupted, .progress-bar-interrupted::-webkit-progress-bar {\n",
       "        background: #F44336;\n",
       "    }\n",
       "</style>\n"
      ],
      "text/plain": [
       "<IPython.core.display.HTML object>"
      ]
     },
     "metadata": {},
     "output_type": "display_data"
    },
    {
     "data": {
      "text/html": [],
      "text/plain": [
       "<IPython.core.display.HTML object>"
      ]
     },
     "metadata": {},
     "output_type": "display_data"
    },
    {
     "data": {
      "text/plain": [
       "(3828.759726483375, 0.00051047624, 0.011370691, 0.00051047624)"
      ]
     },
     "execution_count": 8,
     "metadata": {},
     "output_type": "execute_result"
    },
    {
     "data": {
      "image/png": "[encoded data removed]",
      "text/plain": [
       "<Figure size 800x200 with 1 Axes>"
      ]
     },
     "metadata": {},
     "output_type": "display_data"
    }
   ],
   "source": [
    "plt.figure(figsize=(8, 2))\n",
    "preds_train, real_train = learn.get_preds(ds_idx=0)\n",
    "diff_train = (preds_train - real_train).numpy()\n",
    "plt.hist(diff_train, bins=200)\n",
    "np.sqrt(np.mean(diff_train**2)) *(dmax-dmin), diff_train.mean(), diff_train.std(), np.clip(diff_train, -5000, 5000).mean()"
   ]
  },
  {
   "cell_type": "code",
   "execution_count": 9,
   "id": "e6793569-2b0d-4aa0-a742-62c9fd870d7e",
   "metadata": {},
   "outputs": [
    {
     "data": {
      "image/png": "[encoded data removed]",
      "text/plain": [
       "<Figure size 1400x200 with 1 Axes>"
      ]
     },
     "metadata": {},
     "output_type": "display_data"
    }
   ],
   "source": [
    "plt.figure(figsize=(14, 2))\n",
    "nums, bins, f = plt.hist(preds_train.numpy()*(dmax-dmin)+dmin, bins=300, density=True, color='g', log=True)\n",
    "plt.hist(df['tow']*(dmax-dmin)+dmin, bins=bins, alpha=0.5, color='r', density=True, log=True);"
   ]
  },
  {
   "cell_type": "markdown",
   "id": "02a2045d-2800-4d5a-a580-fe3f23e2d365",
   "metadata": {},
   "source": [
    "## Validação"
   ]
  },
  {
   "cell_type": "code",
   "execution_count": 10,
   "id": "ecfa85da-05ca-45c5-859b-1dd08bc2d926",
   "metadata": {},
   "outputs": [
    {
     "data": {
      "text/html": [
       "\n",
       "<style>\n",
       "    /* Turns off some styling */\n",
       "    progress {\n",
       "        /* gets rid of default border in Firefox and Opera. */\n",
       "        border: none;\n",
       "        /* Needs to be in here for Safari polyfill so background images work as expected. */\n",
       "        background-size: auto;\n",
       "    }\n",
       "    progress:not([value]), progress:not([value])::-webkit-progress-bar {\n",
       "        background: repeating-linear-gradient(45deg, #7e7e7e, #7e7e7e 10px, #5c5c5c 10px, #5c5c5c 20px);\n",
       "    }\n",
       "    .progress-bar-interrupted, .progress-bar-interrupted::-webkit-progress-bar {\n",
       "        background: #F44336;\n",
       "    }\n",
       "</style>\n"
      ],
      "text/plain": [
       "<IPython.core.display.HTML object>"
      ]
     },
     "metadata": {},
     "output_type": "display_data"
    },
    {
     "data": {
      "text/html": [],
      "text/plain": [
       "<IPython.core.display.HTML object>"
      ]
     },
     "metadata": {},
     "output_type": "display_data"
    },
    {
     "data": {
      "text/plain": [
       "(3809.8616, 143.15852, 3807.171, -7.116401)"
      ]
     },
     "execution_count": 10,
     "metadata": {},
     "output_type": "execute_result"
    },
    {
     "data": {
      "image/png": "[encoded data removed]",
      "text/plain": [
       "<Figure size 800x200 with 1 Axes>"
      ]
     },
     "metadata": {},
     "output_type": "display_data"
    }
   ],
   "source": [
    "plt.figure(figsize=(8, 2))\n",
    "preds_valida, real_valida = learn.get_preds()\n",
    "diff_valida = (preds_valida - real_valida).numpy() * (dmax-dmin)\n",
    "plt.hist(diff_valida, bins=200)\n",
    "np.sqrt(np.mean(diff_valida**2)), diff_valida.mean(), diff_valida.std(), np.clip(diff_valida, -5000, 5000).mean()"
   ]
  },
  {
   "cell_type": "code",
   "execution_count": 11,
   "id": "86787560-aab4-4061-a364-7752f92f4011",
   "metadata": {},
   "outputs": [
    {
     "data": {
      "image/png": "[encoded data removed]",
      "text/plain": [
       "<Figure size 1400x200 with 1 Axes>"
      ]
     },
     "metadata": {},
     "output_type": "display_data"
    }
   ],
   "source": [
    "plt.figure(figsize=(14, 2))\n",
    "nums, bins, f = plt.hist(preds_valida.numpy()*(dmax-dmin)+dmin, bins=300, density=True, color='g', log=True)\n",
    "plt.hist(df['tow']*(dmax-dmin)+dmin, bins=bins, alpha=0.5, color='r', density=True, log=True);"
   ]
  },
  {
   "cell_type": "markdown",
   "id": "2747f714-e2d8-4df9-8dae-0f0404704952",
   "metadata": {},
   "source": [
    "## Teste"
   ]
  },
  {
   "cell_type": "code",
   "execution_count": 12,
   "id": "d884c3cb-9474-4e2e-ace1-abeb6d971ef8",
   "metadata": {},
   "outputs": [
    {
     "data": {
      "text/html": [
       "\n",
       "<style>\n",
       "    /* Turns off some styling */\n",
       "    progress {\n",
       "        /* gets rid of default border in Firefox and Opera. */\n",
       "        border: none;\n",
       "        /* Needs to be in here for Safari polyfill so background images work as expected. */\n",
       "        background-size: auto;\n",
       "    }\n",
       "    progress:not([value]), progress:not([value])::-webkit-progress-bar {\n",
       "        background: repeating-linear-gradient(45deg, #7e7e7e, #7e7e7e 10px, #5c5c5c 10px, #5c5c5c 20px);\n",
       "    }\n",
       "    .progress-bar-interrupted, .progress-bar-interrupted::-webkit-progress-bar {\n",
       "        background: #F44336;\n",
       "    }\n",
       "</style>\n"
      ],
      "text/plain": [
       "<IPython.core.display.HTML object>"
      ]
     },
     "metadata": {},
     "output_type": "display_data"
    },
    {
     "data": {
      "text/html": [],
      "text/plain": [
       "<IPython.core.display.HTML object>"
      ]
     },
     "metadata": {},
     "output_type": "display_data"
    }
   ],
   "source": [
    "df_test = pd.read_csv('data/submission_set_updated_v8.csv').replace([np.inf, -np.inf], np.nan)\n",
    "dl_test = learn.dls.test_dl(df_test)\n",
    "preds, _ = learn.get_preds(dl=dl_test)\n",
    "valores = preds.numpy()*(dmax-dmin)+dmin"
   ]
  },
  {
   "cell_type": "code",
   "execution_count": 13,
   "id": "d47f80be-af3b-4494-996a-cde2785a7185",
   "metadata": {},
   "outputs": [
    {
     "data": {
      "image/png": "[encoded data removed]",
      "text/plain": [
       "<Figure size 1400x200 with 1 Axes>"
      ]
     },
     "metadata": {},
     "output_type": "display_data"
    }
   ],
   "source": [
    "plt.figure(figsize=(14, 2))\n",
    "nums, bins, f = plt.hist(valores, bins=300, density=True, color='g', log=True)\n",
    "plt.hist(df['tow']*(dmax-dmin)+dmin, bins=bins, alpha=0.5, color='r', density=True, log=True);"
   ]
  },
  {
   "cell_type": "markdown",
   "id": "7508f56d-8c1e-4e28-9332-89c0aabf16db",
   "metadata": {},
   "source": [
    "# Submissão"
   ]
  },
  {
   "cell_type": "code",
   "execution_count": 22,
   "id": "afe8ffb1-7939-49c8-b8a8-4191313d7493",
   "metadata": {
    "scrolled": true
   },
   "outputs": [],
   "source": [
    "dft0 = pd.read_csv('data/submission_set.csv')\n",
    "assert len(dft0) == len(dft0)\n",
    "dft0['tow'] = np.clip(valores.flatten(), 0, df_test.MTOW_kg.values)\n",
    "dft0[['flight_id', 'tow']].to_csv('mlp.csv', index=False)"
   ]
  },
  {
   "cell_type": "code",
   "execution_count": 11,
   "id": "eed40eee-95ca-4851-b264-dcf880a08808",
   "metadata": {},
   "outputs": [],
   "source": [
    "# !mc cp ./mlp.csv dc24/submissions/team_tiny_rainbow_v2_7ec66710-1eb8-478e-8976-584c090b6373.csv"
   ]
  }
 ],
 "metadata": {
  "kernelspec": {
   "display_name": "Python 3 (ipykernel)",
   "language": "python",
   "name": "python3"
  },
  "language_info": {
   "codemirror_mode": {
    "name": "ipython",
    "version": 3
   },
   "file_extension": ".py",
   "mimetype": "text/x-python",
   "name": "python",
   "nbconvert_exporter": "python",
   "pygments_lexer": "ipython3",
   "version": "3.11.7"
  }
 },
 "nbformat": 4,
 "nbformat_minor": 5
}
