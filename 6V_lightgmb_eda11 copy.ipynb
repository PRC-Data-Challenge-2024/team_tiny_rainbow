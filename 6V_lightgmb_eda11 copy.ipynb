{
 "cells": [
  {
   "cell_type": "code",
   "execution_count": 1,
   "metadata": {},
   "outputs": [
    {
     "name": "stderr",
     "output_type": "stream",
     "text": [
      "/home/carolima/.local/lib/python3.10/site-packages/tqdm/auto.py:21: TqdmWarning: IProgress not found. Please update jupyter and ipywidgets. See https://ipywidgets.readthedocs.io/en/stable/user_install.html\n",
      "  from .autonotebook import tqdm as notebook_tqdm\n"
     ]
    }
   ],
   "source": [
    "from sklearn.model_selection import train_test_split\n",
    "import pandas as pd\n",
    "import numpy as np\n",
    "import lightgbm as lgb\n",
    "from sklearn.metrics import mean_squared_error\n",
    "import optuna"
   ]
  },
  {
   "cell_type": "code",
   "execution_count": 3,
   "metadata": {},
   "outputs": [],
   "source": [
    "# Load the dataset after the exploratory data analysis\n",
    "challenge_set_updated = pd.read_csv(\"./data/challenge_set_updated_v11.csv\")\n",
    "submission_set = pd.read_csv(\"./data/submission_set.csv\")\n",
    "submission_set_updated = pd.read_csv(\"./data/submission_set_updated_v11.csv\")\n",
    "\n"
   ]
  },
  {
   "cell_type": "code",
   "execution_count": 4,
   "metadata": {},
   "outputs": [],
   "source": [
    "# Separating features and target variable\n",
    "X = challenge_set_updated.drop('tow', axis=1)\n",
    "y = challenge_set_updated['tow']"
   ]
  },
  {
   "cell_type": "code",
   "execution_count": 7,
   "metadata": {},
   "outputs": [
    {
     "name": "stdout",
     "output_type": "stream",
     "text": [
      "Current Columns in X: ['taxiout_time', 'flown_distance', 'track_variation_ARR_100', 'track_variation_DEP_40', 'track_variation_ENR', 'average_vertical_rate_ARR_100', 'average_vertical_rate_DEP_40', 'average_vertical_rate_ENR', 'average_airspeed_ARR_100', 'average_airspeed_DEP_40', 'average_airspeed_ENR', 'groundspeed_ARR_100', 'groundspeed_DEP_40', 'groundspeed_ENR', 'wind_distance_ARR_100', 'wind_distance_DEP_40', 'wind_distance_ENR', 'average_temperature_ARR_100', 'average_temperature_DEP_40', 'average_temperature_ENR', 'average_humidity_ARR_100', 'average_humidity_DEP_40', 'average_humidity_ENR', 'specific_energy_ARR_100', 'specific_energy_DEP_40', 'specific_energy_ENR', 'flown_distance_ARR_100', 'flown_distance_DEP_40', 'flown_distance_ENR', 'average_altitude_ARR_100', 'average_altitude_DEP_40', 'average_altitude_ENR', 'specific_energy', 'taxi_ratio', 'flight_speed', 'normalized_taxi_ratio', 'speed_per_distance', 'cumulative_avg_speed', 'airspeed_specific_energy_ARR', 'airspeed_specific_energy_DEP', 'airspeed_specific_energy_ENR', 'vertical_rate_airspeed_ratio_ARR', 'vertical_rate_airspeed_ratio_DEP', 'Approach_Speed_knot', 'Wingspan_ft_without_winglets_sharklets', 'Wingspan_ft_with_winglets_sharklets', 'Length_ft', 'Tail_Height_at_OEW_ft', 'Wheelbase_ft', 'Cockpit_to_Main_Gear_ft', 'Main_Gear_Width_ft', 'Parking_Area_ft2', 'Total_IFR_Operations_2021_2022', 'MTOW_kg', 'MALW_kg', 'Latitude_adep', 'Longitude_adep', 'Altitude_adep', 'Latitude_ades', 'Longitude_ades', 'Altitude_ades', 'adep_tavg', 'adep_tmin', 'adep_tmax', 'adep_wdir', 'adep_wspd', 'adep_pres', 'ades_tavg', 'ades_tmin', 'ades_tmax', 'ades_wdir', 'ades_wspd', 'ades_pres', 'actual_distance', 'altitude_difference', 'bearing', 'elevation_gradient', 'aircraft_type_A21N', 'aircraft_type_A310', 'aircraft_type_A319', 'aircraft_type_A320', 'aircraft_type_A321', 'aircraft_type_A332', 'aircraft_type_A333', 'aircraft_type_A343', 'aircraft_type_A359', 'aircraft_type_AT76', 'aircraft_type_B38M', 'aircraft_type_B39M', 'aircraft_type_B737', 'aircraft_type_B738', 'aircraft_type_B739', 'aircraft_type_B752', 'aircraft_type_B763', 'aircraft_type_B772', 'aircraft_type_B773', 'aircraft_type_B77W', 'aircraft_type_B788', 'aircraft_type_B789', 'aircraft_type_BCS1', 'aircraft_type_BCS3', 'aircraft_type_C56X', 'aircraft_type_CRJ9', 'aircraft_type_E190', 'aircraft_type_E195', 'aircraft_type_E290', 'wtc_M', 'airline_1332254e11e92b4ac6410613b2e86787', 'airline_154acc473ac7d5991245125f4ff6b3a6', 'airline_2d5def0a5a844b343ba1b7cc9cb28fa9', 'airline_310d41975a1e6b9b51ca356414d67daf', 'airline_36b364c9ba9ffb2e3e4803cb4e025745', 'airline_3922524069809ac4326134429751e26f', 'airline_3a6435cd8884f0dd51b886b3e57267f3', 'airline_415bb6c2faf8f0aa7b4108deeec9869c', 'airline_4fea233a1f67230add909d3e8fc8e230', 'airline_5543e4dc327359ffaf5b9c0e6faaf0e1', 'airline_588c4a7c5b7320c61a6c4227be465964', 'airline_5ab5177074e7490ebf8c249ce250759e', 'airline_5d407cb11cc29578cc3e292e743f5393', 'airline_6351ec1b849adacc0cbb3b1313d8d39b', 'airline_6a681ee572c1e4e981cdab3c55b4b422', 'airline_713b84080a5509415d149fe1f7f0add1', 'airline_72ba06dd5ae13526df103042ce4c535e', 'airline_8be5c854fd664bcb97fb543339f74770', 'airline_8c4e5298059ae6c9ddf6a4ce9a57d1c8', 'airline_a73f82288988b79be490c6322f4c32ed', 'airline_b37a3f3161e6ec4cffbb65e7ebf4ecfe', 'airline_bdeeef3a675587d530de70a25d7118d2', 'airline_cc0752e0930c0f501873a342d96c13f0', 'airline_e36f387a48050121d2415f3935000bdc', 'airline_ecae30f8b0a678b4e97d1f7307642d2b', 'airline_f502877cab405652cf0dd70c2213e730', 'airline_f53c55b5cf0cbb3be755bf50df6fa52d', 'airline_f5c2e765e074db66052862ab3d1c4529', 'offblock_hour_1.0', 'offblock_hour_2.0', 'offblock_hour_3.0', 'offblock_hour_4.0', 'offblock_hour_5.0', 'offblock_hour_6.0', 'offblock_hour_7.0', 'offblock_hour_8.0', 'offblock_hour_9.0', 'offblock_hour_10.0', 'offblock_hour_11.0', 'offblock_hour_12.0', 'offblock_hour_13.0', 'offblock_hour_14.0', 'offblock_hour_15.0', 'offblock_hour_16.0', 'offblock_hour_17.0', 'offblock_hour_18.0', 'offblock_hour_19.0', 'offblock_hour_20.0', 'offblock_hour_21.0', 'offblock_hour_22.0', 'offblock_hour_23.0', 'offblock_minute_1.0', 'offblock_minute_2.0', 'offblock_minute_3.0', 'offblock_minute_4.0', 'offblock_minute_5.0', 'offblock_minute_6.0', 'offblock_minute_7.0', 'offblock_minute_8.0', 'offblock_minute_9.0', 'offblock_minute_10.0', 'offblock_minute_11.0', 'offblock_minute_12.0', 'offblock_minute_13.0', 'offblock_minute_14.0', 'offblock_minute_15.0', 'offblock_minute_16.0', 'offblock_minute_17.0', 'offblock_minute_18.0', 'offblock_minute_19.0', 'offblock_minute_20.0', 'offblock_minute_21.0', 'offblock_minute_22.0', 'offblock_minute_23.0', 'offblock_minute_24.0', 'offblock_minute_25.0', 'offblock_minute_26.0', 'offblock_minute_27.0', 'offblock_minute_28.0', 'offblock_minute_29.0', 'offblock_minute_30.0', 'offblock_minute_31.0', 'offblock_minute_32.0', 'offblock_minute_33.0', 'offblock_minute_34.0', 'offblock_minute_35.0', 'offblock_minute_36.0', 'offblock_minute_37.0', 'offblock_minute_38.0', 'offblock_minute_39.0', 'offblock_minute_40.0', 'offblock_minute_41.0', 'offblock_minute_42.0', 'offblock_minute_43.0', 'offblock_minute_44.0', 'offblock_minute_45.0', 'offblock_minute_46.0', 'offblock_minute_47.0', 'offblock_minute_48.0', 'offblock_minute_49.0', 'offblock_minute_50.0', 'offblock_minute_51.0', 'offblock_minute_52.0', 'offblock_minute_53.0', 'offblock_minute_54.0', 'offblock_minute_55.0', 'offblock_minute_56.0', 'offblock_minute_57.0', 'offblock_minute_58.0', 'offblock_minute_59.0', 'offblock_day_of_week_1.0', 'offblock_day_of_week_2.0', 'offblock_day_of_week_3.0', 'offblock_day_of_week_4.0', 'offblock_day_of_week_5.0', 'offblock_day_of_week_6.0', 'flight_duration_category_Short', 'flight_duration_category_Medium', 'flight_duration_category_Long', 'adep_region_Asia', 'adep_region_Europe', 'adep_region_Middle East', 'adep_region_North America', 'adep_region_Other', 'adep_region_South America', 'ades_region_Asia', 'ades_region_Europe', 'ades_region_Middle East', 'ades_region_North America', 'ades_region_Other', 'ades_region_South America', 'same_country_flight_1', 'same_region_flight_1', 'flight_direction_North-South', 'flight_direction_Other', 'is_intercontinental_1', 'temperature_bins_ARR_1.0', 'temperature_bins_ARR_2.0', 'temperature_bins_ARR_3.0', 'temperature_bins_ARR_4.0', 'humidity_bins_DEP_1.0', 'humidity_bins_DEP_2.0', 'humidity_bins_DEP_3.0', 'humidity_bins_DEP_4.0', 'Physical_Class_Engine_Turboprop', 'Num_Engines_4', 'Main_Gear_Config_2D/D1', 'Main_Gear_Config_3D', 'Main_Gear_Config_D', 'Main_Gear_Config_S', 'FAA_Weight_Large', 'FAA_Weight_Small+', 'adep_geo_cluster_1', 'adep_geo_cluster_2', 'adep_geo_cluster_3', 'adep_geo_cluster_4', 'adep_geo_cluster_5', 'adep_geo_cluster_6', 'adep_geo_cluster_7', 'adep_geo_cluster_8', 'adep_geo_cluster_9', 'adep_geo_cluster_10', 'adep_geo_cluster_11', 'adep_geo_cluster_12', 'adep_geo_cluster_13', 'adep_geo_cluster_14', 'adep_geo_cluster_15', 'adep_geo_cluster_16', 'adep_geo_cluster_17', 'adep_geo_cluster_18', 'adep_geo_cluster_19', 'ades_geo_cluster_1', 'ades_geo_cluster_2', 'ades_geo_cluster_3', 'ades_geo_cluster_4', 'ades_geo_cluster_5', 'ades_geo_cluster_6', 'ades_geo_cluster_7', 'ades_geo_cluster_8', 'ades_geo_cluster_9', 'ades_geo_cluster_10', 'ades_geo_cluster_11', 'ades_geo_cluster_12', 'ades_geo_cluster_13', 'ades_geo_cluster_14', 'ades_geo_cluster_15', 'ades_geo_cluster_16', 'ades_geo_cluster_17', 'ades_geo_cluster_18', 'ades_geo_cluster_19']\n"
     ]
    }
   ],
   "source": [
    "# Dropping unnecessary columns\n",
    "to_drop = [\n",
    "    'offblock_to_arrival_duration', 'normalized_taxi_ratio', 'MALW_kg', 'wind_distance_ARR_100', \n",
    "    'average_airspeed_ARR_100', 'track_variation_ARR_100', 'is_offblock_weekend', 'Num_Engines', \n",
    "    'flown_distance_ARR_100', 'average_humidity_ARR_100', 'average_temperature_ARR_100', \n",
    "    'arrival_minute', 'track_variation_ENR', 'groundspeed_ARR_100', 'average_vertical_rate_ARR_100', \n",
    "    'taxiout_time', 'offblock_minute', \n",
    "    'average_airspeed_ENR', 'specific_energy_ENR', 'taxi_ratio',  \n",
    "    'specific_energy_ARR_100', 'is_offblock_rush_hour', 'wind_distance_ENR', 'groundspeed_ENR', \n",
    "    'altitude_difference', 'average_vertical_rate_ENR', 'bearing', 'Altitude_ades'\n",
    "]\n",
    "\n",
    "\n",
    "# Function to filter out non-existing columns before dropping\n",
    "def filter_existing_columns(df, columns_to_drop):\n",
    "    return [col for col in columns_to_drop if col in df.columns]\n",
    "\n",
    "# Check the columns in the DataFrame X\n",
    "print(\"Current Columns in X:\", X.columns.tolist())\n",
    "\n",
    "# Filter the columns to drop\n",
    "existing_columns_to_drop = filter_existing_columns(X, to_drop)\n",
    "\n",
    "# Drop the unnecessary columns\n",
    "X.drop(existing_columns_to_drop, axis=1, inplace=True)\n"
   ]
  },
  {
   "cell_type": "code",
   "execution_count": 8,
   "metadata": {},
   "outputs": [],
   "source": [
    "cat_names = [\n",
    "    'adep', 'ades', 'aircraft_type', 'wtc', 'airline', 'offblock_hour', 'offblock_minute', \n",
    "    'offblock_day_of_week', 'offblock_month', 'offblock_week_of_year', 'offblock_season', \n",
    "    'arrival_hour', 'arrival_minute', 'is_offblock_weekend', 'is_offblock_rush_hour', \n",
    "    'flight_duration_category', 'adep_region', 'ades_region', 'same_country_flight', \n",
    "    'same_region_flight', 'flight_direction', 'is_intercontinental', 'Manufacturer', \n",
    "    'Model_FAA', 'Physical_Class_Engine', 'FAA_Weight', 'adep_geo_cluster', 'ades_geo_cluster'\n",
    "]\n",
    "\n",
    "# Filtering categorical features that are still present after dropping columns\n",
    "selected_cat_names = [x for x in cat_names if x not in to_drop]"
   ]
  },
  {
   "cell_type": "code",
   "execution_count": 10,
   "metadata": {},
   "outputs": [
    {
     "name": "stdout",
     "output_type": "stream",
     "text": [
      "Current Columns in X: ['flown_distance', 'track_variation_DEP_40', 'average_vertical_rate_DEP_40', 'average_airspeed_DEP_40', 'groundspeed_DEP_40', 'wind_distance_DEP_40', 'average_temperature_DEP_40', 'average_temperature_ENR', 'average_humidity_DEP_40', 'average_humidity_ENR', 'specific_energy_DEP_40', 'flown_distance_DEP_40', 'flown_distance_ENR', 'average_altitude_ARR_100', 'average_altitude_DEP_40', 'average_altitude_ENR', 'specific_energy', 'flight_speed', 'speed_per_distance', 'cumulative_avg_speed', 'airspeed_specific_energy_ARR', 'airspeed_specific_energy_DEP', 'airspeed_specific_energy_ENR', 'vertical_rate_airspeed_ratio_ARR', 'vertical_rate_airspeed_ratio_DEP', 'Approach_Speed_knot', 'Wingspan_ft_without_winglets_sharklets', 'Wingspan_ft_with_winglets_sharklets', 'Length_ft', 'Tail_Height_at_OEW_ft', 'Wheelbase_ft', 'Cockpit_to_Main_Gear_ft', 'Main_Gear_Width_ft', 'Parking_Area_ft2', 'Total_IFR_Operations_2021_2022', 'MTOW_kg', 'Latitude_adep', 'Longitude_adep', 'Altitude_adep', 'Latitude_ades', 'Longitude_ades', 'adep_tavg', 'adep_tmin', 'adep_tmax', 'adep_wdir', 'adep_wspd', 'adep_pres', 'ades_tavg', 'ades_tmin', 'ades_tmax', 'ades_wdir', 'ades_wspd', 'ades_pres', 'actual_distance', 'elevation_gradient', 'aircraft_type_A21N', 'aircraft_type_A310', 'aircraft_type_A319', 'aircraft_type_A320', 'aircraft_type_A321', 'aircraft_type_A332', 'aircraft_type_A333', 'aircraft_type_A343', 'aircraft_type_A359', 'aircraft_type_AT76', 'aircraft_type_B38M', 'aircraft_type_B39M', 'aircraft_type_B737', 'aircraft_type_B738', 'aircraft_type_B739', 'aircraft_type_B752', 'aircraft_type_B763', 'aircraft_type_B772', 'aircraft_type_B773', 'aircraft_type_B77W', 'aircraft_type_B788', 'aircraft_type_B789', 'aircraft_type_BCS1', 'aircraft_type_BCS3', 'aircraft_type_C56X', 'aircraft_type_CRJ9', 'aircraft_type_E190', 'aircraft_type_E195', 'aircraft_type_E290', 'wtc_M', 'airline_1332254e11e92b4ac6410613b2e86787', 'airline_154acc473ac7d5991245125f4ff6b3a6', 'airline_2d5def0a5a844b343ba1b7cc9cb28fa9', 'airline_310d41975a1e6b9b51ca356414d67daf', 'airline_36b364c9ba9ffb2e3e4803cb4e025745', 'airline_3922524069809ac4326134429751e26f', 'airline_3a6435cd8884f0dd51b886b3e57267f3', 'airline_415bb6c2faf8f0aa7b4108deeec9869c', 'airline_4fea233a1f67230add909d3e8fc8e230', 'airline_5543e4dc327359ffaf5b9c0e6faaf0e1', 'airline_588c4a7c5b7320c61a6c4227be465964', 'airline_5ab5177074e7490ebf8c249ce250759e', 'airline_5d407cb11cc29578cc3e292e743f5393', 'airline_6351ec1b849adacc0cbb3b1313d8d39b', 'airline_6a681ee572c1e4e981cdab3c55b4b422', 'airline_713b84080a5509415d149fe1f7f0add1', 'airline_72ba06dd5ae13526df103042ce4c535e', 'airline_8be5c854fd664bcb97fb543339f74770', 'airline_8c4e5298059ae6c9ddf6a4ce9a57d1c8', 'airline_a73f82288988b79be490c6322f4c32ed', 'airline_b37a3f3161e6ec4cffbb65e7ebf4ecfe', 'airline_bdeeef3a675587d530de70a25d7118d2', 'airline_cc0752e0930c0f501873a342d96c13f0', 'airline_e36f387a48050121d2415f3935000bdc', 'airline_ecae30f8b0a678b4e97d1f7307642d2b', 'airline_f502877cab405652cf0dd70c2213e730', 'airline_f53c55b5cf0cbb3be755bf50df6fa52d', 'airline_f5c2e765e074db66052862ab3d1c4529', 'offblock_hour_1.0', 'offblock_hour_2.0', 'offblock_hour_3.0', 'offblock_hour_4.0', 'offblock_hour_5.0', 'offblock_hour_6.0', 'offblock_hour_7.0', 'offblock_hour_8.0', 'offblock_hour_9.0', 'offblock_hour_10.0', 'offblock_hour_11.0', 'offblock_hour_12.0', 'offblock_hour_13.0', 'offblock_hour_14.0', 'offblock_hour_15.0', 'offblock_hour_16.0', 'offblock_hour_17.0', 'offblock_hour_18.0', 'offblock_hour_19.0', 'offblock_hour_20.0', 'offblock_hour_21.0', 'offblock_hour_22.0', 'offblock_hour_23.0', 'offblock_minute_1.0', 'offblock_minute_2.0', 'offblock_minute_3.0', 'offblock_minute_4.0', 'offblock_minute_5.0', 'offblock_minute_6.0', 'offblock_minute_7.0', 'offblock_minute_8.0', 'offblock_minute_9.0', 'offblock_minute_10.0', 'offblock_minute_11.0', 'offblock_minute_12.0', 'offblock_minute_13.0', 'offblock_minute_14.0', 'offblock_minute_15.0', 'offblock_minute_16.0', 'offblock_minute_17.0', 'offblock_minute_18.0', 'offblock_minute_19.0', 'offblock_minute_20.0', 'offblock_minute_21.0', 'offblock_minute_22.0', 'offblock_minute_23.0', 'offblock_minute_24.0', 'offblock_minute_25.0', 'offblock_minute_26.0', 'offblock_minute_27.0', 'offblock_minute_28.0', 'offblock_minute_29.0', 'offblock_minute_30.0', 'offblock_minute_31.0', 'offblock_minute_32.0', 'offblock_minute_33.0', 'offblock_minute_34.0', 'offblock_minute_35.0', 'offblock_minute_36.0', 'offblock_minute_37.0', 'offblock_minute_38.0', 'offblock_minute_39.0', 'offblock_minute_40.0', 'offblock_minute_41.0', 'offblock_minute_42.0', 'offblock_minute_43.0', 'offblock_minute_44.0', 'offblock_minute_45.0', 'offblock_minute_46.0', 'offblock_minute_47.0', 'offblock_minute_48.0', 'offblock_minute_49.0', 'offblock_minute_50.0', 'offblock_minute_51.0', 'offblock_minute_52.0', 'offblock_minute_53.0', 'offblock_minute_54.0', 'offblock_minute_55.0', 'offblock_minute_56.0', 'offblock_minute_57.0', 'offblock_minute_58.0', 'offblock_minute_59.0', 'offblock_day_of_week_1.0', 'offblock_day_of_week_2.0', 'offblock_day_of_week_3.0', 'offblock_day_of_week_4.0', 'offblock_day_of_week_5.0', 'offblock_day_of_week_6.0', 'flight_duration_category_Short', 'flight_duration_category_Medium', 'flight_duration_category_Long', 'adep_region_Asia', 'adep_region_Europe', 'adep_region_Middle East', 'adep_region_North America', 'adep_region_Other', 'adep_region_South America', 'ades_region_Asia', 'ades_region_Europe', 'ades_region_Middle East', 'ades_region_North America', 'ades_region_Other', 'ades_region_South America', 'same_country_flight_1', 'same_region_flight_1', 'flight_direction_North-South', 'flight_direction_Other', 'is_intercontinental_1', 'temperature_bins_ARR_1.0', 'temperature_bins_ARR_2.0', 'temperature_bins_ARR_3.0', 'temperature_bins_ARR_4.0', 'humidity_bins_DEP_1.0', 'humidity_bins_DEP_2.0', 'humidity_bins_DEP_3.0', 'humidity_bins_DEP_4.0', 'Physical_Class_Engine_Turboprop', 'Num_Engines_4', 'Main_Gear_Config_2D/D1', 'Main_Gear_Config_3D', 'Main_Gear_Config_D', 'Main_Gear_Config_S', 'FAA_Weight_Large', 'FAA_Weight_Small+', 'adep_geo_cluster_1', 'adep_geo_cluster_2', 'adep_geo_cluster_3', 'adep_geo_cluster_4', 'adep_geo_cluster_5', 'adep_geo_cluster_6', 'adep_geo_cluster_7', 'adep_geo_cluster_8', 'adep_geo_cluster_9', 'adep_geo_cluster_10', 'adep_geo_cluster_11', 'adep_geo_cluster_12', 'adep_geo_cluster_13', 'adep_geo_cluster_14', 'adep_geo_cluster_15', 'adep_geo_cluster_16', 'adep_geo_cluster_17', 'adep_geo_cluster_18', 'adep_geo_cluster_19', 'ades_geo_cluster_1', 'ades_geo_cluster_2', 'ades_geo_cluster_3', 'ades_geo_cluster_4', 'ades_geo_cluster_5', 'ades_geo_cluster_6', 'ades_geo_cluster_7', 'ades_geo_cluster_8', 'ades_geo_cluster_9', 'ades_geo_cluster_10', 'ades_geo_cluster_11', 'ades_geo_cluster_12', 'ades_geo_cluster_13', 'ades_geo_cluster_14', 'ades_geo_cluster_15', 'ades_geo_cluster_16', 'ades_geo_cluster_17', 'ades_geo_cluster_18', 'ades_geo_cluster_19']\n"
     ]
    }
   ],
   "source": [
    "from sklearn.preprocessing import LabelEncoder\n",
    "\n",
    "# Check available columns in X\n",
    "print(\"Current Columns in X:\", X.columns.tolist())\n",
    "\n",
    "# Handle categorical columns by Label Encoding\n",
    "label_encoder = LabelEncoder()\n",
    "\n",
    "# Specify the columns that are categorical\n",
    "categorical_cols = ['adep', 'ades', 'aircraft_type', 'wtc', 'airline', 'offblock_season', \n",
    "                    'flight_duration_category', 'adep_region', 'ades_region', 'flight_direction', \n",
    "                    'Manufacturer', 'Model_FAA', 'Physical_Class_Engine', 'FAA_Weight']\n",
    "\n",
    "# Filter out only those categorical columns that exist in X\n",
    "existing_categorical_cols = [col for col in categorical_cols if col in X.columns]\n",
    "\n",
    "# Convert these categorical columns into numerical form using Label Encoding\n",
    "for col in existing_categorical_cols:\n",
    "    X[col] = label_encoder.fit_transform(X[col])\n",
    "\n",
    "# Now, you can proceed with training LightGBM with this processed data\n"
   ]
  },
  {
   "cell_type": "code",
   "execution_count": 11,
   "metadata": {},
   "outputs": [],
   "source": [
    "# Splitting the data into training and validation sets\n",
    "X_train, X_val, y_train, y_val = train_test_split(X, y, test_size=0.2, random_state=42)\n",
    "\n",
    "# Identify categorical feature indices for LightGBM\n",
    "cat_feature_indices = [X_train.columns.get_loc(col) for col in selected_cat_names if col in X_train.columns]\n",
    "\n",
    "# Define the objective function for hyperparameter tuning with Optuna\n",
    "def objective(trial):\n",
    "    params = {\n",
    "        'objective': 'regression',\n",
    "        'metric': 'rmse',\n",
    "        'verbosity': -1,\n",
    "        'boosting_type': 'gbdt',\n",
    "        'learning_rate': trial.suggest_float('learning_rate', 0.01, 0.1),\n",
    "        'num_leaves': trial.suggest_int('num_leaves', 20, 3000),\n",
    "        'max_depth': trial.suggest_int('max_depth', 3, 15),\n",
    "        'min_data_in_leaf': trial.suggest_int('min_data_in_leaf', 1, 100),\n",
    "        'feature_fraction': trial.suggest_float('feature_fraction', 0.4, 1.0),\n",
    "        'bagging_fraction': trial.suggest_float('bagging_fraction', 0.4, 1.0),\n",
    "        'lambda_l1': trial.suggest_float('lambda_l1', 0.0, 10.0),\n",
    "        'lambda_l2': trial.suggest_float('lambda_l2', 0.0, 10.0),\n",
    "        'min_gain_to_split': trial.suggest_float('min_gain_to_split', 0.0, 0.2),\n",
    "        'min_child_weight': trial.suggest_float('min_child_weight', 0.0, 10.0),\n",
    "        'device_type': 'gpu',  # Use GPU for training\n",
    "\n",
    "    }\n",
    "\n",
    "    model = lgb.LGBMRegressor(**params, n_estimators=5000)\n",
    "\n",
    "    model.fit(\n",
    "        X_train, y_train,\n",
    "        eval_set=[(X_val, y_val)],\n",
    "        eval_metric='rmse',\n",
    "        callbacks=[lgb.early_stopping(stopping_rounds=50)],\n",
    "        categorical_feature=cat_feature_indices\n",
    "    )\n",
    "    \n",
    "    val_pred = model.predict(X_val)\n",
    "    rmse = mean_squared_error(y_val, val_pred, squared=False)\n",
    "    \n",
    "    return rmse"
   ]
  },
  {
   "cell_type": "code",
   "execution_count": 12,
   "metadata": {},
   "outputs": [
    {
     "name": "stderr",
     "output_type": "stream",
     "text": [
      "[I 2024-09-26 09:47:09,692] A new study created in memory with name: no-name-2a58bf00-646a-40d2-b24f-aeb3c329794b\n"
     ]
    },
    {
     "name": "stdout",
     "output_type": "stream",
     "text": [
      "Training until validation scores don't improve for 50 rounds\n",
      "Did not meet early stopping. Best iteration is:\n",
      "[4998]\tvalid_0's rmse: 2762.88\n"
     ]
    },
    {
     "name": "stderr",
     "output_type": "stream",
     "text": [
      "/home/carolima/.local/lib/python3.10/site-packages/sklearn/metrics/_regression.py:492: FutureWarning: 'squared' is deprecated in version 1.4 and will be removed in 1.6. To calculate the root mean squared error, use the function'root_mean_squared_error'.\n",
      "  warnings.warn(\n",
      "[I 2024-09-26 09:47:49,648] Trial 0 finished with value: 2762.8829082473276 and parameters: {'learning_rate': 0.035615551544055386, 'num_leaves': 2059, 'max_depth': 8, 'min_data_in_leaf': 77, 'feature_fraction': 0.5785152976273922, 'bagging_fraction': 0.9296503790920617, 'lambda_l1': 5.874308412280258, 'lambda_l2': 7.256133483225944, 'min_gain_to_split': 0.035909932886852784, 'min_child_weight': 3.2229204107038543}. Best is trial 0 with value: 2762.8829082473276.\n"
     ]
    },
    {
     "name": "stdout",
     "output_type": "stream",
     "text": [
      "Training until validation scores don't improve for 50 rounds\n",
      "Did not meet early stopping. Best iteration is:\n",
      "[5000]\tvalid_0's rmse: 2788.2\n"
     ]
    },
    {
     "name": "stderr",
     "output_type": "stream",
     "text": [
      "/home/carolima/.local/lib/python3.10/site-packages/sklearn/metrics/_regression.py:492: FutureWarning: 'squared' is deprecated in version 1.4 and will be removed in 1.6. To calculate the root mean squared error, use the function'root_mean_squared_error'.\n",
      "  warnings.warn(\n",
      "[I 2024-09-26 09:48:17,882] Trial 1 finished with value: 2788.1957382239652 and parameters: {'learning_rate': 0.03326177130240085, 'num_leaves': 1252, 'max_depth': 7, 'min_data_in_leaf': 69, 'feature_fraction': 0.6719196873411559, 'bagging_fraction': 0.6537943478041194, 'lambda_l1': 0.04541017854773233, 'lambda_l2': 0.23878889991223673, 'min_gain_to_split': 0.18061753212130904, 'min_child_weight': 6.765029338322633}. Best is trial 0 with value: 2762.8829082473276.\n"
     ]
    },
    {
     "name": "stdout",
     "output_type": "stream",
     "text": [
      "Training until validation scores don't improve for 50 rounds\n",
      "Did not meet early stopping. Best iteration is:\n",
      "[5000]\tvalid_0's rmse: 2778.38\n"
     ]
    },
    {
     "name": "stderr",
     "output_type": "stream",
     "text": [
      "/home/carolima/.local/lib/python3.10/site-packages/sklearn/metrics/_regression.py:492: FutureWarning: 'squared' is deprecated in version 1.4 and will be removed in 1.6. To calculate the root mean squared error, use the function'root_mean_squared_error'.\n",
      "  warnings.warn(\n",
      "[I 2024-09-26 09:49:04,519] Trial 2 finished with value: 2778.3818480398218 and parameters: {'learning_rate': 0.024142734143911056, 'num_leaves': 2376, 'max_depth': 8, 'min_data_in_leaf': 47, 'feature_fraction': 0.9492726306546486, 'bagging_fraction': 0.9185196043177036, 'lambda_l1': 1.3480115693539674, 'lambda_l2': 4.128619312021061, 'min_gain_to_split': 0.16202305878215403, 'min_child_weight': 8.499883167614687}. Best is trial 0 with value: 2762.8829082473276.\n"
     ]
    },
    {
     "name": "stdout",
     "output_type": "stream",
     "text": [
      "Training until validation scores don't improve for 50 rounds\n",
      "Did not meet early stopping. Best iteration is:\n",
      "[4998]\tvalid_0's rmse: 3037.26\n"
     ]
    },
    {
     "name": "stderr",
     "output_type": "stream",
     "text": [
      "/home/carolima/.local/lib/python3.10/site-packages/sklearn/metrics/_regression.py:492: FutureWarning: 'squared' is deprecated in version 1.4 and will be removed in 1.6. To calculate the root mean squared error, use the function'root_mean_squared_error'.\n",
      "  warnings.warn(\n",
      "[I 2024-09-26 09:49:13,220] Trial 3 finished with value: 3037.2598907895485 and parameters: {'learning_rate': 0.08362789981467116, 'num_leaves': 1903, 'max_depth': 3, 'min_data_in_leaf': 100, 'feature_fraction': 0.9272323492455561, 'bagging_fraction': 0.9112729495951775, 'lambda_l1': 7.883340749343805, 'lambda_l2': 5.962609025320182, 'min_gain_to_split': 0.006489066568723701, 'min_child_weight': 7.572474090678489}. Best is trial 0 with value: 2762.8829082473276.\n"
     ]
    },
    {
     "name": "stdout",
     "output_type": "stream",
     "text": [
      "Training until validation scores don't improve for 50 rounds\n",
      "Did not meet early stopping. Best iteration is:\n",
      "[5000]\tvalid_0's rmse: 2873.23\n"
     ]
    },
    {
     "name": "stderr",
     "output_type": "stream",
     "text": [
      "/home/carolima/.local/lib/python3.10/site-packages/sklearn/metrics/_regression.py:492: FutureWarning: 'squared' is deprecated in version 1.4 and will be removed in 1.6. To calculate the root mean squared error, use the function'root_mean_squared_error'.\n",
      "  warnings.warn(\n",
      "[I 2024-09-26 09:49:25,079] Trial 4 finished with value: 2873.230789394959 and parameters: {'learning_rate': 0.08689146187355191, 'num_leaves': 2509, 'max_depth': 4, 'min_data_in_leaf': 25, 'feature_fraction': 0.6711966542761167, 'bagging_fraction': 0.5619287964574358, 'lambda_l1': 9.43587619638359, 'lambda_l2': 1.3765829240318084, 'min_gain_to_split': 0.1548000109526796, 'min_child_weight': 7.209025077880396}. Best is trial 0 with value: 2762.8829082473276.\n"
     ]
    },
    {
     "name": "stdout",
     "output_type": "stream",
     "text": [
      "Training until validation scores don't improve for 50 rounds\n",
      "Did not meet early stopping. Best iteration is:\n",
      "[4999]\tvalid_0's rmse: 3078.05\n"
     ]
    },
    {
     "name": "stderr",
     "output_type": "stream",
     "text": [
      "/home/carolima/.local/lib/python3.10/site-packages/sklearn/metrics/_regression.py:492: FutureWarning: 'squared' is deprecated in version 1.4 and will be removed in 1.6. To calculate the root mean squared error, use the function'root_mean_squared_error'.\n",
      "  warnings.warn(\n",
      "[I 2024-09-26 09:49:38,087] Trial 5 finished with value: 3078.0494423220716 and parameters: {'learning_rate': 0.028321343595049092, 'num_leaves': 111, 'max_depth': 4, 'min_data_in_leaf': 93, 'feature_fraction': 0.6187620830879583, 'bagging_fraction': 0.5245381253559697, 'lambda_l1': 7.0640165346988395, 'lambda_l2': 1.8773959822493813, 'min_gain_to_split': 0.021855052306481507, 'min_child_weight': 0.5350891242206979}. Best is trial 0 with value: 2762.8829082473276.\n"
     ]
    },
    {
     "name": "stdout",
     "output_type": "stream",
     "text": [
      "Training until validation scores don't improve for 50 rounds\n",
      "Did not meet early stopping. Best iteration is:\n",
      "[4999]\tvalid_0's rmse: 2835.79\n"
     ]
    },
    {
     "name": "stderr",
     "output_type": "stream",
     "text": [
      "/home/carolima/.local/lib/python3.10/site-packages/sklearn/metrics/_regression.py:492: FutureWarning: 'squared' is deprecated in version 1.4 and will be removed in 1.6. To calculate the root mean squared error, use the function'root_mean_squared_error'.\n",
      "  warnings.warn(\n",
      "[I 2024-09-26 09:49:53,677] Trial 6 finished with value: 2835.7930031159976 and parameters: {'learning_rate': 0.068657399366399, 'num_leaves': 2753, 'max_depth': 5, 'min_data_in_leaf': 72, 'feature_fraction': 0.7138179061178785, 'bagging_fraction': 0.9685812006241037, 'lambda_l1': 2.3550491466865022, 'lambda_l2': 9.327699982869072, 'min_gain_to_split': 0.19590443328319998, 'min_child_weight': 2.4414478931789385}. Best is trial 0 with value: 2762.8829082473276.\n"
     ]
    },
    {
     "name": "stdout",
     "output_type": "stream",
     "text": [
      "Training until validation scores don't improve for 50 rounds\n",
      "Early stopping, best iteration is:\n",
      "[3015]\tvalid_0's rmse: 2755.51\n"
     ]
    },
    {
     "name": "stderr",
     "output_type": "stream",
     "text": [
      "/home/carolima/.local/lib/python3.10/site-packages/sklearn/metrics/_regression.py:492: FutureWarning: 'squared' is deprecated in version 1.4 and will be removed in 1.6. To calculate the root mean squared error, use the function'root_mean_squared_error'.\n",
      "  warnings.warn(\n",
      "[I 2024-09-26 09:50:52,183] Trial 7 finished with value: 2755.5135276304222 and parameters: {'learning_rate': 0.060378280243872755, 'num_leaves': 1396, 'max_depth': 13, 'min_data_in_leaf': 93, 'feature_fraction': 0.40973281933911343, 'bagging_fraction': 0.7011468457374967, 'lambda_l1': 8.588999585087034, 'lambda_l2': 4.193112055043297, 'min_gain_to_split': 0.18321914386596905, 'min_child_weight': 9.290715602424754}. Best is trial 7 with value: 2755.5135276304222.\n"
     ]
    },
    {
     "name": "stdout",
     "output_type": "stream",
     "text": [
      "Training until validation scores don't improve for 50 rounds\n",
      "Did not meet early stopping. Best iteration is:\n",
      "[5000]\tvalid_0's rmse: 2814.97\n"
     ]
    },
    {
     "name": "stderr",
     "output_type": "stream",
     "text": [
      "/home/carolima/.local/lib/python3.10/site-packages/sklearn/metrics/_regression.py:492: FutureWarning: 'squared' is deprecated in version 1.4 and will be removed in 1.6. To calculate the root mean squared error, use the function'root_mean_squared_error'.\n",
      "  warnings.warn(\n",
      "[I 2024-09-26 09:51:36,282] Trial 8 finished with value: 2814.9735382466806 and parameters: {'learning_rate': 0.013185453373689643, 'num_leaves': 853, 'max_depth': 9, 'min_data_in_leaf': 98, 'feature_fraction': 0.6910517118737867, 'bagging_fraction': 0.9459874223305709, 'lambda_l1': 9.483923221967276, 'lambda_l2': 1.653842273313697, 'min_gain_to_split': 0.08327518636377669, 'min_child_weight': 6.836374919473377}. Best is trial 7 with value: 2755.5135276304222.\n"
     ]
    },
    {
     "name": "stdout",
     "output_type": "stream",
     "text": [
      "Training until validation scores don't improve for 50 rounds\n",
      "Did not meet early stopping. Best iteration is:\n",
      "[5000]\tvalid_0's rmse: 2840.09\n"
     ]
    },
    {
     "name": "stderr",
     "output_type": "stream",
     "text": [
      "/home/carolima/.local/lib/python3.10/site-packages/sklearn/metrics/_regression.py:492: FutureWarning: 'squared' is deprecated in version 1.4 and will be removed in 1.6. To calculate the root mean squared error, use the function'root_mean_squared_error'.\n",
      "  warnings.warn(\n",
      "[I 2024-09-26 09:51:53,040] Trial 9 finished with value: 2840.092916376986 and parameters: {'learning_rate': 0.05173261828496909, 'num_leaves': 1965, 'max_depth': 5, 'min_data_in_leaf': 23, 'feature_fraction': 0.6918553953773501, 'bagging_fraction': 0.8620904695503425, 'lambda_l1': 3.851532770939933, 'lambda_l2': 6.730133257588972, 'min_gain_to_split': 0.14309946793830133, 'min_child_weight': 6.8727039401204575}. Best is trial 7 with value: 2755.5135276304222.\n"
     ]
    },
    {
     "name": "stdout",
     "output_type": "stream",
     "text": [
      "Training until validation scores don't improve for 50 rounds\n",
      "Early stopping, best iteration is:\n",
      "[2740]\tvalid_0's rmse: 2753.27\n"
     ]
    },
    {
     "name": "stderr",
     "output_type": "stream",
     "text": [
      "/home/carolima/.local/lib/python3.10/site-packages/sklearn/metrics/_regression.py:492: FutureWarning: 'squared' is deprecated in version 1.4 and will be removed in 1.6. To calculate the root mean squared error, use the function'root_mean_squared_error'.\n",
      "  warnings.warn(\n",
      "[I 2024-09-26 09:54:09,804] Trial 10 finished with value: 2753.273317584168 and parameters: {'learning_rate': 0.0611192798975334, 'num_leaves': 844, 'max_depth': 14, 'min_data_in_leaf': 6, 'feature_fraction': 0.40353112688405385, 'bagging_fraction': 0.4210713295981399, 'lambda_l1': 4.136403626995856, 'lambda_l2': 3.760833237058865, 'min_gain_to_split': 0.1135225703791216, 'min_child_weight': 9.87143921567126}. Best is trial 10 with value: 2753.273317584168.\n"
     ]
    },
    {
     "name": "stdout",
     "output_type": "stream",
     "text": [
      "Training until validation scores don't improve for 50 rounds\n",
      "Early stopping, best iteration is:\n",
      "[3139]\tvalid_0's rmse: 2747.49\n"
     ]
    },
    {
     "name": "stderr",
     "output_type": "stream",
     "text": [
      "/home/carolima/.local/lib/python3.10/site-packages/sklearn/metrics/_regression.py:492: FutureWarning: 'squared' is deprecated in version 1.4 and will be removed in 1.6. To calculate the root mean squared error, use the function'root_mean_squared_error'.\n",
      "  warnings.warn(\n",
      "[I 2024-09-26 09:57:06,414] Trial 11 finished with value: 2747.4894807750456 and parameters: {'learning_rate': 0.05798401361365572, 'num_leaves': 790, 'max_depth': 14, 'min_data_in_leaf': 3, 'feature_fraction': 0.41384772662043745, 'bagging_fraction': 0.42194835404337244, 'lambda_l1': 4.368551366840768, 'lambda_l2': 3.943089298462867, 'min_gain_to_split': 0.10804857380700328, 'min_child_weight': 9.82887994400401}. Best is trial 11 with value: 2747.4894807750456.\n"
     ]
    },
    {
     "name": "stdout",
     "output_type": "stream",
     "text": [
      "Training until validation scores don't improve for 50 rounds\n",
      "Did not meet early stopping. Best iteration is:\n",
      "[5000]\tvalid_0's rmse: 2733.82\n"
     ]
    },
    {
     "name": "stderr",
     "output_type": "stream",
     "text": [
      "/home/carolima/.local/lib/python3.10/site-packages/sklearn/metrics/_regression.py:492: FutureWarning: 'squared' is deprecated in version 1.4 and will be removed in 1.6. To calculate the root mean squared error, use the function'root_mean_squared_error'.\n",
      "  warnings.warn(\n",
      "[I 2024-09-26 10:00:14,134] Trial 12 finished with value: 2733.8237752918453 and parameters: {'learning_rate': 0.0510386922436786, 'num_leaves': 529, 'max_depth': 15, 'min_data_in_leaf': 2, 'feature_fraction': 0.4033354755243845, 'bagging_fraction': 0.4012078232332666, 'lambda_l1': 4.361366440817587, 'lambda_l2': 3.399395476492106, 'min_gain_to_split': 0.10443444471464444, 'min_child_weight': 9.955017269638407}. Best is trial 12 with value: 2733.8237752918453.\n"
     ]
    },
    {
     "name": "stdout",
     "output_type": "stream",
     "text": [
      "Training until validation scores don't improve for 50 rounds\n",
      "Did not meet early stopping. Best iteration is:\n",
      "[5000]\tvalid_0's rmse: 2772.42\n"
     ]
    },
    {
     "name": "stderr",
     "output_type": "stream",
     "text": [
      "/home/carolima/.local/lib/python3.10/site-packages/sklearn/metrics/_regression.py:492: FutureWarning: 'squared' is deprecated in version 1.4 and will be removed in 1.6. To calculate the root mean squared error, use the function'root_mean_squared_error'.\n",
      "  warnings.warn(\n",
      "[I 2024-09-26 10:00:46,959] Trial 13 finished with value: 2772.4206163337135 and parameters: {'learning_rate': 0.04776604177411088, 'num_leaves': 60, 'max_depth': 12, 'min_data_in_leaf': 5, 'feature_fraction': 0.5168460634804681, 'bagging_fraction': 0.40796049563169406, 'lambda_l1': 5.535037143240543, 'lambda_l2': 3.064065822051835, 'min_gain_to_split': 0.07693440499338929, 'min_child_weight': 4.726793977527949}. Best is trial 12 with value: 2733.8237752918453.\n"
     ]
    },
    {
     "name": "stdout",
     "output_type": "stream",
     "text": [
      "Training until validation scores don't improve for 50 rounds\n",
      "Early stopping, best iteration is:\n",
      "[1945]\tvalid_0's rmse: 2756.75\n"
     ]
    },
    {
     "name": "stderr",
     "output_type": "stream",
     "text": [
      "/home/carolima/.local/lib/python3.10/site-packages/sklearn/metrics/_regression.py:492: FutureWarning: 'squared' is deprecated in version 1.4 and will be removed in 1.6. To calculate the root mean squared error, use the function'root_mean_squared_error'.\n",
      "  warnings.warn(\n",
      "[I 2024-09-26 10:02:03,204] Trial 14 finished with value: 2756.7535883358482 and parameters: {'learning_rate': 0.07235139742899235, 'num_leaves': 569, 'max_depth': 15, 'min_data_in_leaf': 23, 'feature_fraction': 0.4947343912652503, 'bagging_fraction': 0.5057780342226598, 'lambda_l1': 3.5499498163068126, 'lambda_l2': 5.055570870133552, 'min_gain_to_split': 0.1160658022078206, 'min_child_weight': 8.66901764622183}. Best is trial 12 with value: 2733.8237752918453.\n"
     ]
    },
    {
     "name": "stdout",
     "output_type": "stream",
     "text": [
      "Training until validation scores don't improve for 50 rounds\n",
      "Early stopping, best iteration is:\n",
      "[3371]\tvalid_0's rmse: 2731.14\n"
     ]
    },
    {
     "name": "stderr",
     "output_type": "stream",
     "text": [
      "/home/carolima/.local/lib/python3.10/site-packages/sklearn/metrics/_regression.py:492: FutureWarning: 'squared' is deprecated in version 1.4 and will be removed in 1.6. To calculate the root mean squared error, use the function'root_mean_squared_error'.\n",
      "  warnings.warn(\n",
      "[I 2024-09-26 10:03:07,255] Trial 15 finished with value: 2731.1358037110317 and parameters: {'learning_rate': 0.043439488503074865, 'num_leaves': 635, 'max_depth': 11, 'min_data_in_leaf': 40, 'feature_fraction': 0.8421909122661454, 'bagging_fraction': 0.6510732011334237, 'lambda_l1': 6.203249915219508, 'lambda_l2': 2.7068452107197705, 'min_gain_to_split': 0.06594324740440607, 'min_child_weight': 5.460585277082647}. Best is trial 15 with value: 2731.1358037110317.\n"
     ]
    },
    {
     "name": "stdout",
     "output_type": "stream",
     "text": [
      "Training until validation scores don't improve for 50 rounds\n",
      "Early stopping, best iteration is:\n",
      "[3111]\tvalid_0's rmse: 2733.71\n"
     ]
    },
    {
     "name": "stderr",
     "output_type": "stream",
     "text": [
      "/home/carolima/.local/lib/python3.10/site-packages/sklearn/metrics/_regression.py:492: FutureWarning: 'squared' is deprecated in version 1.4 and will be removed in 1.6. To calculate the root mean squared error, use the function'root_mean_squared_error'.\n",
      "  warnings.warn(\n",
      "[I 2024-09-26 10:04:02,856] Trial 16 finished with value: 2733.711332243817 and parameters: {'learning_rate': 0.04251147975480407, 'num_leaves': 396, 'max_depth': 11, 'min_data_in_leaf': 44, 'feature_fraction': 0.8248050768227795, 'bagging_fraction': 0.7812040475399622, 'lambda_l1': 6.67264828254082, 'lambda_l2': 2.6371005655523714, 'min_gain_to_split': 0.05991326984263978, 'min_child_weight': 5.1881515689200075}. Best is trial 15 with value: 2731.1358037110317.\n"
     ]
    },
    {
     "name": "stdout",
     "output_type": "stream",
     "text": [
      "Training until validation scores don't improve for 50 rounds\n",
      "Early stopping, best iteration is:\n",
      "[3235]\tvalid_0's rmse: 2735.98\n"
     ]
    },
    {
     "name": "stderr",
     "output_type": "stream",
     "text": [
      "/home/carolima/.local/lib/python3.10/site-packages/sklearn/metrics/_regression.py:492: FutureWarning: 'squared' is deprecated in version 1.4 and will be removed in 1.6. To calculate the root mean squared error, use the function'root_mean_squared_error'.\n",
      "  warnings.warn(\n",
      "[I 2024-09-26 10:05:06,395] Trial 17 finished with value: 2735.9833241589436 and parameters: {'learning_rate': 0.04084320670921195, 'num_leaves': 458, 'max_depth': 11, 'min_data_in_leaf': 44, 'feature_fraction': 0.827342447897695, 'bagging_fraction': 0.777243603139686, 'lambda_l1': 6.689111989103696, 'lambda_l2': 0.3967222712424112, 'min_gain_to_split': 0.04460797459251714, 'min_child_weight': 5.014108921760135}. Best is trial 15 with value: 2731.1358037110317.\n"
     ]
    },
    {
     "name": "stdout",
     "output_type": "stream",
     "text": [
      "Training until validation scores don't improve for 50 rounds\n",
      "Early stopping, best iteration is:\n",
      "[1501]\tvalid_0's rmse: 2768.24\n"
     ]
    },
    {
     "name": "stderr",
     "output_type": "stream",
     "text": [
      "/home/carolima/.local/lib/python3.10/site-packages/sklearn/metrics/_regression.py:492: FutureWarning: 'squared' is deprecated in version 1.4 and will be removed in 1.6. To calculate the root mean squared error, use the function'root_mean_squared_error'.\n",
      "  warnings.warn(\n",
      "[I 2024-09-26 10:05:40,623] Trial 18 finished with value: 2768.241221332797 and parameters: {'learning_rate': 0.09994794458096701, 'num_leaves': 1212, 'max_depth': 11, 'min_data_in_leaf': 37, 'feature_fraction': 0.8085158715167241, 'bagging_fraction': 0.7655876876962671, 'lambda_l1': 6.634096710261541, 'lambda_l2': 2.779292855269564, 'min_gain_to_split': 0.06094683847654775, 'min_child_weight': 5.339033851952656}. Best is trial 15 with value: 2731.1358037110317.\n"
     ]
    },
    {
     "name": "stdout",
     "output_type": "stream",
     "text": [
      "Training until validation scores don't improve for 50 rounds\n",
      "Did not meet early stopping. Best iteration is:\n",
      "[5000]\tvalid_0's rmse: 2761.04\n"
     ]
    },
    {
     "name": "stderr",
     "output_type": "stream",
     "text": [
      "/home/carolima/.local/lib/python3.10/site-packages/sklearn/metrics/_regression.py:492: FutureWarning: 'squared' is deprecated in version 1.4 and will be removed in 1.6. To calculate the root mean squared error, use the function'root_mean_squared_error'.\n",
      "  warnings.warn(\n",
      "[I 2024-09-26 10:06:54,661] Trial 19 finished with value: 2761.0429403760663 and parameters: {'learning_rate': 0.016457577720957545, 'num_leaves': 1662, 'max_depth': 10, 'min_data_in_leaf': 60, 'feature_fraction': 0.8510416366570338, 'bagging_fraction': 0.6547291309637523, 'lambda_l1': 7.946192299791277, 'lambda_l2': 2.2574146478811565, 'min_gain_to_split': 0.05985516299866374, 'min_child_weight': 3.7108758335623944}. Best is trial 15 with value: 2731.1358037110317.\n"
     ]
    },
    {
     "name": "stdout",
     "output_type": "stream",
     "text": [
      "Training until validation scores don't improve for 50 rounds\n",
      "Early stopping, best iteration is:\n",
      "[3894]\tvalid_0's rmse: 2732.36\n"
     ]
    },
    {
     "name": "stderr",
     "output_type": "stream",
     "text": [
      "/home/carolima/.local/lib/python3.10/site-packages/sklearn/metrics/_regression.py:492: FutureWarning: 'squared' is deprecated in version 1.4 and will be removed in 1.6. To calculate the root mean squared error, use the function'root_mean_squared_error'.\n",
      "  warnings.warn(\n",
      "[I 2024-09-26 10:08:07,438] Trial 20 finished with value: 2732.359462466091 and parameters: {'learning_rate': 0.04191372745510007, 'num_leaves': 347, 'max_depth': 12, 'min_data_in_leaf': 58, 'feature_fraction': 0.7724286918446021, 'bagging_fraction': 0.7893179361930602, 'lambda_l1': 5.4834647534394385, 'lambda_l2': 5.222195043656004, 'min_gain_to_split': 0.08545806776239126, 'min_child_weight': 5.826131298869141}. Best is trial 15 with value: 2731.1358037110317.\n"
     ]
    },
    {
     "name": "stdout",
     "output_type": "stream",
     "text": [
      "Training until validation scores don't improve for 50 rounds\n",
      "Early stopping, best iteration is:\n",
      "[4412]\tvalid_0's rmse: 2734.23\n"
     ]
    },
    {
     "name": "stderr",
     "output_type": "stream",
     "text": [
      "/home/carolima/.local/lib/python3.10/site-packages/sklearn/metrics/_regression.py:492: FutureWarning: 'squared' is deprecated in version 1.4 and will be removed in 1.6. To calculate the root mean squared error, use the function'root_mean_squared_error'.\n",
      "  warnings.warn(\n",
      "[I 2024-09-26 10:09:32,015] Trial 21 finished with value: 2734.227084751908 and parameters: {'learning_rate': 0.04322693349463416, 'num_leaves': 285, 'max_depth': 12, 'min_data_in_leaf': 61, 'feature_fraction': 0.762796148289436, 'bagging_fraction': 0.8200705117596455, 'lambda_l1': 5.214746400351307, 'lambda_l2': 5.433554132316387, 'min_gain_to_split': 0.08154113479396564, 'min_child_weight': 5.89597526447815}. Best is trial 15 with value: 2731.1358037110317.\n"
     ]
    },
    {
     "name": "stdout",
     "output_type": "stream",
     "text": [
      "Training until validation scores don't improve for 50 rounds\n",
      "Did not meet early stopping. Best iteration is:\n",
      "[4998]\tvalid_0's rmse: 2725.1\n"
     ]
    },
    {
     "name": "stderr",
     "output_type": "stream",
     "text": [
      "/home/carolima/.local/lib/python3.10/site-packages/sklearn/metrics/_regression.py:492: FutureWarning: 'squared' is deprecated in version 1.4 and will be removed in 1.6. To calculate the root mean squared error, use the function'root_mean_squared_error'.\n",
      "  warnings.warn(\n",
      "[I 2024-09-26 10:10:59,971] Trial 22 finished with value: 2725.1024902499903 and parameters: {'learning_rate': 0.040232447540238, 'num_leaves': 1035, 'max_depth': 10, 'min_data_in_leaf': 35, 'feature_fraction': 0.8880567898770956, 'bagging_fraction': 0.7109490701551315, 'lambda_l1': 6.156991762243389, 'lambda_l2': 7.71117214126504, 'min_gain_to_split': 0.051274563395863657, 'min_child_weight': 4.021845555499864}. Best is trial 22 with value: 2725.1024902499903.\n"
     ]
    },
    {
     "name": "stdout",
     "output_type": "stream",
     "text": [
      "Training until validation scores don't improve for 50 rounds\n",
      "Did not meet early stopping. Best iteration is:\n",
      "[5000]\tvalid_0's rmse: 2748.88\n"
     ]
    },
    {
     "name": "stderr",
     "output_type": "stream",
     "text": [
      "/home/carolima/.local/lib/python3.10/site-packages/sklearn/metrics/_regression.py:492: FutureWarning: 'squared' is deprecated in version 1.4 and will be removed in 1.6. To calculate the root mean squared error, use the function'root_mean_squared_error'.\n",
      "  warnings.warn(\n",
      "[I 2024-09-26 10:12:26,382] Trial 23 finished with value: 2748.876924021506 and parameters: {'learning_rate': 0.02147101480045263, 'num_leaves': 1003, 'max_depth': 10, 'min_data_in_leaf': 34, 'feature_fraction': 0.9023325164778059, 'bagging_fraction': 0.7086051370472111, 'lambda_l1': 5.818445518099778, 'lambda_l2': 9.3036894565535, 'min_gain_to_split': 0.04052651918971402, 'min_child_weight': 3.7533169457441646}. Best is trial 22 with value: 2725.1024902499903.\n"
     ]
    },
    {
     "name": "stdout",
     "output_type": "stream",
     "text": [
      "Training until validation scores don't improve for 50 rounds\n",
      "Early stopping, best iteration is:\n",
      "[4442]\tvalid_0's rmse: 2729.57\n"
     ]
    },
    {
     "name": "stderr",
     "output_type": "stream",
     "text": [
      "/home/carolima/.local/lib/python3.10/site-packages/sklearn/metrics/_regression.py:492: FutureWarning: 'squared' is deprecated in version 1.4 and will be removed in 1.6. To calculate the root mean squared error, use the function'root_mean_squared_error'.\n",
      "  warnings.warn(\n",
      "[I 2024-09-26 10:14:21,478] Trial 24 finished with value: 2729.571842509032 and parameters: {'learning_rate': 0.03278869165537788, 'num_leaves': 1092, 'max_depth': 13, 'min_data_in_leaf': 55, 'feature_fraction': 0.8963043374583974, 'bagging_fraction': 0.6160860973070215, 'lambda_l1': 3.104788104489984, 'lambda_l2': 8.024326120463424, 'min_gain_to_split': 0.0936865798969131, 'min_child_weight': 1.8348492757984083}. Best is trial 22 with value: 2725.1024902499903.\n"
     ]
    },
    {
     "name": "stdout",
     "output_type": "stream",
     "text": [
      "Training until validation scores don't improve for 50 rounds\n",
      "Early stopping, best iteration is:\n",
      "[3158]\tvalid_0's rmse: 2742.52\n"
     ]
    },
    {
     "name": "stderr",
     "output_type": "stream",
     "text": [
      "/home/carolima/.local/lib/python3.10/site-packages/sklearn/metrics/_regression.py:492: FutureWarning: 'squared' is deprecated in version 1.4 and will be removed in 1.6. To calculate the root mean squared error, use the function'root_mean_squared_error'.\n",
      "  warnings.warn(\n",
      "[I 2024-09-26 10:15:58,325] Trial 25 finished with value: 2742.5220768907093 and parameters: {'learning_rate': 0.031509848880958036, 'num_leaves': 1588, 'max_depth': 13, 'min_data_in_leaf': 51, 'feature_fraction': 0.9978374747216763, 'bagging_fraction': 0.6026921761618478, 'lambda_l1': 2.838052890578157, 'lambda_l2': 8.285559968900744, 'min_gain_to_split': 0.13541550011281167, 'min_child_weight': 1.431441341092622}. Best is trial 22 with value: 2725.1024902499903.\n"
     ]
    },
    {
     "name": "stdout",
     "output_type": "stream",
     "text": [
      "Training until validation scores don't improve for 50 rounds\n",
      "Did not meet early stopping. Best iteration is:\n",
      "[5000]\tvalid_0's rmse: 2740.67\n"
     ]
    },
    {
     "name": "stderr",
     "output_type": "stream",
     "text": [
      "/home/carolima/.local/lib/python3.10/site-packages/sklearn/metrics/_regression.py:492: FutureWarning: 'squared' is deprecated in version 1.4 and will be removed in 1.6. To calculate the root mean squared error, use the function'root_mean_squared_error'.\n",
      "  warnings.warn(\n",
      "[I 2024-09-26 10:17:06,711] Trial 26 finished with value: 2740.674035684798 and parameters: {'learning_rate': 0.036842411058338846, 'num_leaves': 1194, 'max_depth': 9, 'min_data_in_leaf': 33, 'feature_fraction': 0.8672616196094547, 'bagging_fraction': 0.6275710433296907, 'lambda_l1': 1.970923858772546, 'lambda_l2': 8.252626919572457, 'min_gain_to_split': 0.0017775909960288105, 'min_child_weight': 2.037427827086125}. Best is trial 22 with value: 2725.1024902499903.\n"
     ]
    },
    {
     "name": "stdout",
     "output_type": "stream",
     "text": [
      "Training until validation scores don't improve for 50 rounds\n",
      "Did not meet early stopping. Best iteration is:\n",
      "[4998]\tvalid_0's rmse: 2742.35\n"
     ]
    },
    {
     "name": "stderr",
     "output_type": "stream",
     "text": [
      "/home/carolima/.local/lib/python3.10/site-packages/sklearn/metrics/_regression.py:492: FutureWarning: 'squared' is deprecated in version 1.4 and will be removed in 1.6. To calculate the root mean squared error, use the function'root_mean_squared_error'.\n",
      "  warnings.warn(\n",
      "[I 2024-09-26 10:18:57,254] Trial 27 finished with value: 2742.3542735196943 and parameters: {'learning_rate': 0.02504523405361413, 'num_leaves': 1012, 'max_depth': 10, 'min_data_in_leaf': 15, 'feature_fraction': 0.9940426715042445, 'bagging_fraction': 0.733658865067458, 'lambda_l1': 0.9336983346309582, 'lambda_l2': 7.9906492472006665, 'min_gain_to_split': 0.06833094687037669, 'min_child_weight': 0.026287020793487104}. Best is trial 22 with value: 2725.1024902499903.\n"
     ]
    },
    {
     "name": "stdout",
     "output_type": "stream",
     "text": [
      "Training until validation scores don't improve for 50 rounds\n",
      "Did not meet early stopping. Best iteration is:\n",
      "[4998]\tvalid_0's rmse: 2736.22\n"
     ]
    },
    {
     "name": "stderr",
     "output_type": "stream",
     "text": [
      "/home/carolima/.local/lib/python3.10/site-packages/sklearn/metrics/_regression.py:492: FutureWarning: 'squared' is deprecated in version 1.4 and will be removed in 1.6. To calculate the root mean squared error, use the function'root_mean_squared_error'.\n",
      "  warnings.warn(\n",
      "[I 2024-09-26 10:21:35,632] Trial 28 finished with value: 2736.215953760433 and parameters: {'learning_rate': 0.01781140506372878, 'num_leaves': 676, 'max_depth': 13, 'min_data_in_leaf': 37, 'feature_fraction': 0.9032931764855036, 'bagging_fraction': 0.5957893744650885, 'lambda_l1': 3.4431471917350724, 'lambda_l2': 6.864105933603034, 'min_gain_to_split': 0.09310943475057917, 'min_child_weight': 4.190548190460737}. Best is trial 22 with value: 2725.1024902499903.\n"
     ]
    },
    {
     "name": "stdout",
     "output_type": "stream",
     "text": [
      "Training until validation scores don't improve for 50 rounds\n",
      "Did not meet early stopping. Best iteration is:\n",
      "[5000]\tvalid_0's rmse: 2788.1\n"
     ]
    },
    {
     "name": "stderr",
     "output_type": "stream",
     "text": [
      "/home/carolima/.local/lib/python3.10/site-packages/sklearn/metrics/_regression.py:492: FutureWarning: 'squared' is deprecated in version 1.4 and will be removed in 1.6. To calculate the root mean squared error, use the function'root_mean_squared_error'.\n",
      "  warnings.warn(\n",
      "[I 2024-09-26 10:22:06,022] Trial 29 finished with value: 2788.103937955437 and parameters: {'learning_rate': 0.03428774108057072, 'num_leaves': 1059, 'max_depth': 7, 'min_data_in_leaf': 53, 'feature_fraction': 0.7701605715402617, 'bagging_fraction': 0.6703326119680071, 'lambda_l1': 4.856842525798516, 'lambda_l2': 9.952080142998154, 'min_gain_to_split': 0.0316325009866814, 'min_child_weight': 2.767631378386426}. Best is trial 22 with value: 2725.1024902499903.\n"
     ]
    },
    {
     "name": "stdout",
     "output_type": "stream",
     "text": [
      "Best trial: {'learning_rate': 0.040232447540238, 'num_leaves': 1035, 'max_depth': 10, 'min_data_in_leaf': 35, 'feature_fraction': 0.8880567898770956, 'bagging_fraction': 0.7109490701551315, 'lambda_l1': 6.156991762243389, 'lambda_l2': 7.71117214126504, 'min_gain_to_split': 0.051274563395863657, 'min_child_weight': 4.021845555499864}\n"
     ]
    }
   ],
   "source": [
    "# Create the Optuna study and start optimization\n",
    "study = optuna.create_study(direction='minimize')\n",
    "study.optimize(objective, n_trials=30)\n",
    "\n",
    "# Display the best hyperparameters found\n",
    "print(f\"Best trial: {study.best_trial.params}\")\n"
   ]
  },
  {
   "cell_type": "code",
   "execution_count": 13,
   "metadata": {},
   "outputs": [
    {
     "data": {
      "text/html": [
       "<style>#sk-container-id-1 {\n",
       "  /* Definition of color scheme common for light and dark mode */\n",
       "  --sklearn-color-text: black;\n",
       "  --sklearn-color-line: gray;\n",
       "  /* Definition of color scheme for unfitted estimators */\n",
       "  --sklearn-color-unfitted-level-0: #fff5e6;\n",
       "  --sklearn-color-unfitted-level-1: #f6e4d2;\n",
       "  --sklearn-color-unfitted-level-2: #ffe0b3;\n",
       "  --sklearn-color-unfitted-level-3: chocolate;\n",
       "  /* Definition of color scheme for fitted estimators */\n",
       "  --sklearn-color-fitted-level-0: #f0f8ff;\n",
       "  --sklearn-color-fitted-level-1: #d4ebff;\n",
       "  --sklearn-color-fitted-level-2: #b3dbfd;\n",
       "  --sklearn-color-fitted-level-3: cornflowerblue;\n",
       "\n",
       "  /* Specific color for light theme */\n",
       "  --sklearn-color-text-on-default-background: var(--sg-text-color, var(--theme-code-foreground, var(--jp-content-font-color1, black)));\n",
       "  --sklearn-color-background: var(--sg-background-color, var(--theme-background, var(--jp-layout-color0, white)));\n",
       "  --sklearn-color-border-box: var(--sg-text-color, var(--theme-code-foreground, var(--jp-content-font-color1, black)));\n",
       "  --sklearn-color-icon: #696969;\n",
       "\n",
       "  @media (prefers-color-scheme: dark) {\n",
       "    /* Redefinition of color scheme for dark theme */\n",
       "    --sklearn-color-text-on-default-background: var(--sg-text-color, var(--theme-code-foreground, var(--jp-content-font-color1, white)));\n",
       "    --sklearn-color-background: var(--sg-background-color, var(--theme-background, var(--jp-layout-color0, #111)));\n",
       "    --sklearn-color-border-box: var(--sg-text-color, var(--theme-code-foreground, var(--jp-content-font-color1, white)));\n",
       "    --sklearn-color-icon: #878787;\n",
       "  }\n",
       "}\n",
       "\n",
       "#sk-container-id-1 {\n",
       "  color: var(--sklearn-color-text);\n",
       "}\n",
       "\n",
       "#sk-container-id-1 pre {\n",
       "  padding: 0;\n",
       "}\n",
       "\n",
       "#sk-container-id-1 input.sk-hidden--visually {\n",
       "  border: 0;\n",
       "  clip: rect(1px 1px 1px 1px);\n",
       "  clip: rect(1px, 1px, 1px, 1px);\n",
       "  height: 1px;\n",
       "  margin: -1px;\n",
       "  overflow: hidden;\n",
       "  padding: 0;\n",
       "  position: absolute;\n",
       "  width: 1px;\n",
       "}\n",
       "\n",
       "#sk-container-id-1 div.sk-dashed-wrapped {\n",
       "  border: 1px dashed var(--sklearn-color-line);\n",
       "  margin: 0 0.4em 0.5em 0.4em;\n",
       "  box-sizing: border-box;\n",
       "  padding-bottom: 0.4em;\n",
       "  background-color: var(--sklearn-color-background);\n",
       "}\n",
       "\n",
       "#sk-container-id-1 div.sk-container {\n",
       "  /* jupyter's `normalize.less` sets `[hidden] { display: none; }`\n",
       "     but bootstrap.min.css set `[hidden] { display: none !important; }`\n",
       "     so we also need the `!important` here to be able to override the\n",
       "     default hidden behavior on the sphinx rendered scikit-learn.org.\n",
       "     See: https://github.com/scikit-learn/scikit-learn/issues/21755 */\n",
       "  display: inline-block !important;\n",
       "  position: relative;\n",
       "}\n",
       "\n",
       "#sk-container-id-1 div.sk-text-repr-fallback {\n",
       "  display: none;\n",
       "}\n",
       "\n",
       "div.sk-parallel-item,\n",
       "div.sk-serial,\n",
       "div.sk-item {\n",
       "  /* draw centered vertical line to link estimators */\n",
       "  background-image: linear-gradient(var(--sklearn-color-text-on-default-background), var(--sklearn-color-text-on-default-background));\n",
       "  background-size: 2px 100%;\n",
       "  background-repeat: no-repeat;\n",
       "  background-position: center center;\n",
       "}\n",
       "\n",
       "/* Parallel-specific style estimator block */\n",
       "\n",
       "#sk-container-id-1 div.sk-parallel-item::after {\n",
       "  content: \"\";\n",
       "  width: 100%;\n",
       "  border-bottom: 2px solid var(--sklearn-color-text-on-default-background);\n",
       "  flex-grow: 1;\n",
       "}\n",
       "\n",
       "#sk-container-id-1 div.sk-parallel {\n",
       "  display: flex;\n",
       "  align-items: stretch;\n",
       "  justify-content: center;\n",
       "  background-color: var(--sklearn-color-background);\n",
       "  position: relative;\n",
       "}\n",
       "\n",
       "#sk-container-id-1 div.sk-parallel-item {\n",
       "  display: flex;\n",
       "  flex-direction: column;\n",
       "}\n",
       "\n",
       "#sk-container-id-1 div.sk-parallel-item:first-child::after {\n",
       "  align-self: flex-end;\n",
       "  width: 50%;\n",
       "}\n",
       "\n",
       "#sk-container-id-1 div.sk-parallel-item:last-child::after {\n",
       "  align-self: flex-start;\n",
       "  width: 50%;\n",
       "}\n",
       "\n",
       "#sk-container-id-1 div.sk-parallel-item:only-child::after {\n",
       "  width: 0;\n",
       "}\n",
       "\n",
       "/* Serial-specific style estimator block */\n",
       "\n",
       "#sk-container-id-1 div.sk-serial {\n",
       "  display: flex;\n",
       "  flex-direction: column;\n",
       "  align-items: center;\n",
       "  background-color: var(--sklearn-color-background);\n",
       "  padding-right: 1em;\n",
       "  padding-left: 1em;\n",
       "}\n",
       "\n",
       "\n",
       "/* Toggleable style: style used for estimator/Pipeline/ColumnTransformer box that is\n",
       "clickable and can be expanded/collapsed.\n",
       "- Pipeline and ColumnTransformer use this feature and define the default style\n",
       "- Estimators will overwrite some part of the style using the `sk-estimator` class\n",
       "*/\n",
       "\n",
       "/* Pipeline and ColumnTransformer style (default) */\n",
       "\n",
       "#sk-container-id-1 div.sk-toggleable {\n",
       "  /* Default theme specific background. It is overwritten whether we have a\n",
       "  specific estimator or a Pipeline/ColumnTransformer */\n",
       "  background-color: var(--sklearn-color-background);\n",
       "}\n",
       "\n",
       "/* Toggleable label */\n",
       "#sk-container-id-1 label.sk-toggleable__label {\n",
       "  cursor: pointer;\n",
       "  display: block;\n",
       "  width: 100%;\n",
       "  margin-bottom: 0;\n",
       "  padding: 0.5em;\n",
       "  box-sizing: border-box;\n",
       "  text-align: center;\n",
       "}\n",
       "\n",
       "#sk-container-id-1 label.sk-toggleable__label-arrow:before {\n",
       "  /* Arrow on the left of the label */\n",
       "  content: \"▸\";\n",
       "  float: left;\n",
       "  margin-right: 0.25em;\n",
       "  color: var(--sklearn-color-icon);\n",
       "}\n",
       "\n",
       "#sk-container-id-1 label.sk-toggleable__label-arrow:hover:before {\n",
       "  color: var(--sklearn-color-text);\n",
       "}\n",
       "\n",
       "/* Toggleable content - dropdown */\n",
       "\n",
       "#sk-container-id-1 div.sk-toggleable__content {\n",
       "  max-height: 0;\n",
       "  max-width: 0;\n",
       "  overflow: hidden;\n",
       "  text-align: left;\n",
       "  /* unfitted */\n",
       "  background-color: var(--sklearn-color-unfitted-level-0);\n",
       "}\n",
       "\n",
       "#sk-container-id-1 div.sk-toggleable__content.fitted {\n",
       "  /* fitted */\n",
       "  background-color: var(--sklearn-color-fitted-level-0);\n",
       "}\n",
       "\n",
       "#sk-container-id-1 div.sk-toggleable__content pre {\n",
       "  margin: 0.2em;\n",
       "  border-radius: 0.25em;\n",
       "  color: var(--sklearn-color-text);\n",
       "  /* unfitted */\n",
       "  background-color: var(--sklearn-color-unfitted-level-0);\n",
       "}\n",
       "\n",
       "#sk-container-id-1 div.sk-toggleable__content.fitted pre {\n",
       "  /* unfitted */\n",
       "  background-color: var(--sklearn-color-fitted-level-0);\n",
       "}\n",
       "\n",
       "#sk-container-id-1 input.sk-toggleable__control:checked~div.sk-toggleable__content {\n",
       "  /* Expand drop-down */\n",
       "  max-height: 200px;\n",
       "  max-width: 100%;\n",
       "  overflow: auto;\n",
       "}\n",
       "\n",
       "#sk-container-id-1 input.sk-toggleable__control:checked~label.sk-toggleable__label-arrow:before {\n",
       "  content: \"▾\";\n",
       "}\n",
       "\n",
       "/* Pipeline/ColumnTransformer-specific style */\n",
       "\n",
       "#sk-container-id-1 div.sk-label input.sk-toggleable__control:checked~label.sk-toggleable__label {\n",
       "  color: var(--sklearn-color-text);\n",
       "  background-color: var(--sklearn-color-unfitted-level-2);\n",
       "}\n",
       "\n",
       "#sk-container-id-1 div.sk-label.fitted input.sk-toggleable__control:checked~label.sk-toggleable__label {\n",
       "  background-color: var(--sklearn-color-fitted-level-2);\n",
       "}\n",
       "\n",
       "/* Estimator-specific style */\n",
       "\n",
       "/* Colorize estimator box */\n",
       "#sk-container-id-1 div.sk-estimator input.sk-toggleable__control:checked~label.sk-toggleable__label {\n",
       "  /* unfitted */\n",
       "  background-color: var(--sklearn-color-unfitted-level-2);\n",
       "}\n",
       "\n",
       "#sk-container-id-1 div.sk-estimator.fitted input.sk-toggleable__control:checked~label.sk-toggleable__label {\n",
       "  /* fitted */\n",
       "  background-color: var(--sklearn-color-fitted-level-2);\n",
       "}\n",
       "\n",
       "#sk-container-id-1 div.sk-label label.sk-toggleable__label,\n",
       "#sk-container-id-1 div.sk-label label {\n",
       "  /* The background is the default theme color */\n",
       "  color: var(--sklearn-color-text-on-default-background);\n",
       "}\n",
       "\n",
       "/* On hover, darken the color of the background */\n",
       "#sk-container-id-1 div.sk-label:hover label.sk-toggleable__label {\n",
       "  color: var(--sklearn-color-text);\n",
       "  background-color: var(--sklearn-color-unfitted-level-2);\n",
       "}\n",
       "\n",
       "/* Label box, darken color on hover, fitted */\n",
       "#sk-container-id-1 div.sk-label.fitted:hover label.sk-toggleable__label.fitted {\n",
       "  color: var(--sklearn-color-text);\n",
       "  background-color: var(--sklearn-color-fitted-level-2);\n",
       "}\n",
       "\n",
       "/* Estimator label */\n",
       "\n",
       "#sk-container-id-1 div.sk-label label {\n",
       "  font-family: monospace;\n",
       "  font-weight: bold;\n",
       "  display: inline-block;\n",
       "  line-height: 1.2em;\n",
       "}\n",
       "\n",
       "#sk-container-id-1 div.sk-label-container {\n",
       "  text-align: center;\n",
       "}\n",
       "\n",
       "/* Estimator-specific */\n",
       "#sk-container-id-1 div.sk-estimator {\n",
       "  font-family: monospace;\n",
       "  border: 1px dotted var(--sklearn-color-border-box);\n",
       "  border-radius: 0.25em;\n",
       "  box-sizing: border-box;\n",
       "  margin-bottom: 0.5em;\n",
       "  /* unfitted */\n",
       "  background-color: var(--sklearn-color-unfitted-level-0);\n",
       "}\n",
       "\n",
       "#sk-container-id-1 div.sk-estimator.fitted {\n",
       "  /* fitted */\n",
       "  background-color: var(--sklearn-color-fitted-level-0);\n",
       "}\n",
       "\n",
       "/* on hover */\n",
       "#sk-container-id-1 div.sk-estimator:hover {\n",
       "  /* unfitted */\n",
       "  background-color: var(--sklearn-color-unfitted-level-2);\n",
       "}\n",
       "\n",
       "#sk-container-id-1 div.sk-estimator.fitted:hover {\n",
       "  /* fitted */\n",
       "  background-color: var(--sklearn-color-fitted-level-2);\n",
       "}\n",
       "\n",
       "/* Specification for estimator info (e.g. \"i\" and \"?\") */\n",
       "\n",
       "/* Common style for \"i\" and \"?\" */\n",
       "\n",
       ".sk-estimator-doc-link,\n",
       "a:link.sk-estimator-doc-link,\n",
       "a:visited.sk-estimator-doc-link {\n",
       "  float: right;\n",
       "  font-size: smaller;\n",
       "  line-height: 1em;\n",
       "  font-family: monospace;\n",
       "  background-color: var(--sklearn-color-background);\n",
       "  border-radius: 1em;\n",
       "  height: 1em;\n",
       "  width: 1em;\n",
       "  text-decoration: none !important;\n",
       "  margin-left: 1ex;\n",
       "  /* unfitted */\n",
       "  border: var(--sklearn-color-unfitted-level-1) 1pt solid;\n",
       "  color: var(--sklearn-color-unfitted-level-1);\n",
       "}\n",
       "\n",
       ".sk-estimator-doc-link.fitted,\n",
       "a:link.sk-estimator-doc-link.fitted,\n",
       "a:visited.sk-estimator-doc-link.fitted {\n",
       "  /* fitted */\n",
       "  border: var(--sklearn-color-fitted-level-1) 1pt solid;\n",
       "  color: var(--sklearn-color-fitted-level-1);\n",
       "}\n",
       "\n",
       "/* On hover */\n",
       "div.sk-estimator:hover .sk-estimator-doc-link:hover,\n",
       ".sk-estimator-doc-link:hover,\n",
       "div.sk-label-container:hover .sk-estimator-doc-link:hover,\n",
       ".sk-estimator-doc-link:hover {\n",
       "  /* unfitted */\n",
       "  background-color: var(--sklearn-color-unfitted-level-3);\n",
       "  color: var(--sklearn-color-background);\n",
       "  text-decoration: none;\n",
       "}\n",
       "\n",
       "div.sk-estimator.fitted:hover .sk-estimator-doc-link.fitted:hover,\n",
       ".sk-estimator-doc-link.fitted:hover,\n",
       "div.sk-label-container:hover .sk-estimator-doc-link.fitted:hover,\n",
       ".sk-estimator-doc-link.fitted:hover {\n",
       "  /* fitted */\n",
       "  background-color: var(--sklearn-color-fitted-level-3);\n",
       "  color: var(--sklearn-color-background);\n",
       "  text-decoration: none;\n",
       "}\n",
       "\n",
       "/* Span, style for the box shown on hovering the info icon */\n",
       ".sk-estimator-doc-link span {\n",
       "  display: none;\n",
       "  z-index: 9999;\n",
       "  position: relative;\n",
       "  font-weight: normal;\n",
       "  right: .2ex;\n",
       "  padding: .5ex;\n",
       "  margin: .5ex;\n",
       "  width: min-content;\n",
       "  min-width: 20ex;\n",
       "  max-width: 50ex;\n",
       "  color: var(--sklearn-color-text);\n",
       "  box-shadow: 2pt 2pt 4pt #999;\n",
       "  /* unfitted */\n",
       "  background: var(--sklearn-color-unfitted-level-0);\n",
       "  border: .5pt solid var(--sklearn-color-unfitted-level-3);\n",
       "}\n",
       "\n",
       ".sk-estimator-doc-link.fitted span {\n",
       "  /* fitted */\n",
       "  background: var(--sklearn-color-fitted-level-0);\n",
       "  border: var(--sklearn-color-fitted-level-3);\n",
       "}\n",
       "\n",
       ".sk-estimator-doc-link:hover span {\n",
       "  display: block;\n",
       "}\n",
       "\n",
       "/* \"?\"-specific style due to the `<a>` HTML tag */\n",
       "\n",
       "#sk-container-id-1 a.estimator_doc_link {\n",
       "  float: right;\n",
       "  font-size: 1rem;\n",
       "  line-height: 1em;\n",
       "  font-family: monospace;\n",
       "  background-color: var(--sklearn-color-background);\n",
       "  border-radius: 1rem;\n",
       "  height: 1rem;\n",
       "  width: 1rem;\n",
       "  text-decoration: none;\n",
       "  /* unfitted */\n",
       "  color: var(--sklearn-color-unfitted-level-1);\n",
       "  border: var(--sklearn-color-unfitted-level-1) 1pt solid;\n",
       "}\n",
       "\n",
       "#sk-container-id-1 a.estimator_doc_link.fitted {\n",
       "  /* fitted */\n",
       "  border: var(--sklearn-color-fitted-level-1) 1pt solid;\n",
       "  color: var(--sklearn-color-fitted-level-1);\n",
       "}\n",
       "\n",
       "/* On hover */\n",
       "#sk-container-id-1 a.estimator_doc_link:hover {\n",
       "  /* unfitted */\n",
       "  background-color: var(--sklearn-color-unfitted-level-3);\n",
       "  color: var(--sklearn-color-background);\n",
       "  text-decoration: none;\n",
       "}\n",
       "\n",
       "#sk-container-id-1 a.estimator_doc_link.fitted:hover {\n",
       "  /* fitted */\n",
       "  background-color: var(--sklearn-color-fitted-level-3);\n",
       "}\n",
       "</style><div id=\"sk-container-id-1\" class=\"sk-top-container\"><div class=\"sk-text-repr-fallback\"><pre>LGBMRegressor(bagging_fraction=0.7109490701551315,\n",
       "              feature_fraction=0.8880567898770956, lambda_l1=6.156991762243389,\n",
       "              lambda_l2=7.71117214126504, learning_rate=0.040232447540238,\n",
       "              max_depth=10, min_child_weight=4.021845555499864,\n",
       "              min_data_in_leaf=35, min_gain_to_split=0.051274563395863657,\n",
       "              n_estimators=10000, num_leaves=1035)</pre><b>In a Jupyter environment, please rerun this cell to show the HTML representation or trust the notebook. <br />On GitHub, the HTML representation is unable to render, please try loading this page with nbviewer.org.</b></div><div class=\"sk-container\" hidden><div class=\"sk-item\"><div class=\"sk-estimator fitted sk-toggleable\"><input class=\"sk-toggleable__control sk-hidden--visually\" id=\"sk-estimator-id-1\" type=\"checkbox\" checked><label for=\"sk-estimator-id-1\" class=\"sk-toggleable__label fitted sk-toggleable__label-arrow fitted\">&nbsp;LGBMRegressor<span class=\"sk-estimator-doc-link fitted\">i<span>Fitted</span></span></label><div class=\"sk-toggleable__content fitted\"><pre>LGBMRegressor(bagging_fraction=0.7109490701551315,\n",
       "              feature_fraction=0.8880567898770956, lambda_l1=6.156991762243389,\n",
       "              lambda_l2=7.71117214126504, learning_rate=0.040232447540238,\n",
       "              max_depth=10, min_child_weight=4.021845555499864,\n",
       "              min_data_in_leaf=35, min_gain_to_split=0.051274563395863657,\n",
       "              n_estimators=10000, num_leaves=1035)</pre></div> </div></div></div></div>"
      ],
      "text/plain": [
       "LGBMRegressor(bagging_fraction=0.7109490701551315,\n",
       "              feature_fraction=0.8880567898770956, lambda_l1=6.156991762243389,\n",
       "              lambda_l2=7.71117214126504, learning_rate=0.040232447540238,\n",
       "              max_depth=10, min_child_weight=4.021845555499864,\n",
       "              min_data_in_leaf=35, min_gain_to_split=0.051274563395863657,\n",
       "              n_estimators=10000, num_leaves=1035)"
      ]
     },
     "execution_count": 13,
     "metadata": {},
     "output_type": "execute_result"
    }
   ],
   "source": [
    "# Train the final LightGBM model with the best hyperparameters\n",
    "best_params = study.best_trial.params\n",
    "\n",
    "best_model = lgb.LGBMRegressor(**best_params, n_estimators=10000)\n",
    "\n",
    "best_model.fit(\n",
    "    X_train, y_train,\n",
    "    eval_set=[(X_val, y_val)],\n",
    "    eval_metric='rmse',\n",
    "  #  early_stopping_rounds=50,\n",
    "    categorical_feature=cat_feature_indices\n",
    ")\n",
    "\n"
   ]
  },
  {
   "cell_type": "code",
   "execution_count": 14,
   "metadata": {},
   "outputs": [
    {
     "name": "stdout",
     "output_type": "stream",
     "text": [
      "Model features: ['flown_distance', 'track_variation_DEP_40', 'average_vertical_rate_DEP_40', 'average_airspeed_DEP_40', 'groundspeed_DEP_40', 'wind_distance_DEP_40', 'average_temperature_DEP_40', 'average_temperature_ENR', 'average_humidity_DEP_40', 'average_humidity_ENR', 'specific_energy_DEP_40', 'flown_distance_DEP_40', 'flown_distance_ENR', 'average_altitude_ARR_100', 'average_altitude_DEP_40', 'average_altitude_ENR', 'specific_energy', 'flight_speed', 'speed_per_distance', 'cumulative_avg_speed', 'airspeed_specific_energy_ARR', 'airspeed_specific_energy_DEP', 'airspeed_specific_energy_ENR', 'vertical_rate_airspeed_ratio_ARR', 'vertical_rate_airspeed_ratio_DEP', 'Approach_Speed_knot', 'Wingspan_ft_without_winglets_sharklets', 'Wingspan_ft_with_winglets_sharklets', 'Length_ft', 'Tail_Height_at_OEW_ft', 'Wheelbase_ft', 'Cockpit_to_Main_Gear_ft', 'Main_Gear_Width_ft', 'Parking_Area_ft2', 'Total_IFR_Operations_2021_2022', 'MTOW_kg', 'Latitude_adep', 'Longitude_adep', 'Altitude_adep', 'Latitude_ades', 'Longitude_ades', 'adep_tavg', 'adep_tmin', 'adep_tmax', 'adep_wdir', 'adep_wspd', 'adep_pres', 'ades_tavg', 'ades_tmin', 'ades_tmax', 'ades_wdir', 'ades_wspd', 'ades_pres', 'actual_distance', 'elevation_gradient', 'aircraft_type_A21N', 'aircraft_type_A310', 'aircraft_type_A319', 'aircraft_type_A320', 'aircraft_type_A321', 'aircraft_type_A332', 'aircraft_type_A333', 'aircraft_type_A343', 'aircraft_type_A359', 'aircraft_type_AT76', 'aircraft_type_B38M', 'aircraft_type_B39M', 'aircraft_type_B737', 'aircraft_type_B738', 'aircraft_type_B739', 'aircraft_type_B752', 'aircraft_type_B763', 'aircraft_type_B772', 'aircraft_type_B773', 'aircraft_type_B77W', 'aircraft_type_B788', 'aircraft_type_B789', 'aircraft_type_BCS1', 'aircraft_type_BCS3', 'aircraft_type_C56X', 'aircraft_type_CRJ9', 'aircraft_type_E190', 'aircraft_type_E195', 'aircraft_type_E290', 'wtc_M', 'airline_1332254e11e92b4ac6410613b2e86787', 'airline_154acc473ac7d5991245125f4ff6b3a6', 'airline_2d5def0a5a844b343ba1b7cc9cb28fa9', 'airline_310d41975a1e6b9b51ca356414d67daf', 'airline_36b364c9ba9ffb2e3e4803cb4e025745', 'airline_3922524069809ac4326134429751e26f', 'airline_3a6435cd8884f0dd51b886b3e57267f3', 'airline_415bb6c2faf8f0aa7b4108deeec9869c', 'airline_4fea233a1f67230add909d3e8fc8e230', 'airline_5543e4dc327359ffaf5b9c0e6faaf0e1', 'airline_588c4a7c5b7320c61a6c4227be465964', 'airline_5ab5177074e7490ebf8c249ce250759e', 'airline_5d407cb11cc29578cc3e292e743f5393', 'airline_6351ec1b849adacc0cbb3b1313d8d39b', 'airline_6a681ee572c1e4e981cdab3c55b4b422', 'airline_713b84080a5509415d149fe1f7f0add1', 'airline_72ba06dd5ae13526df103042ce4c535e', 'airline_8be5c854fd664bcb97fb543339f74770', 'airline_8c4e5298059ae6c9ddf6a4ce9a57d1c8', 'airline_a73f82288988b79be490c6322f4c32ed', 'airline_b37a3f3161e6ec4cffbb65e7ebf4ecfe', 'airline_bdeeef3a675587d530de70a25d7118d2', 'airline_cc0752e0930c0f501873a342d96c13f0', 'airline_e36f387a48050121d2415f3935000bdc', 'airline_ecae30f8b0a678b4e97d1f7307642d2b', 'airline_f502877cab405652cf0dd70c2213e730', 'airline_f53c55b5cf0cbb3be755bf50df6fa52d', 'airline_f5c2e765e074db66052862ab3d1c4529', 'offblock_hour_1.0', 'offblock_hour_2.0', 'offblock_hour_3.0', 'offblock_hour_4.0', 'offblock_hour_5.0', 'offblock_hour_6.0', 'offblock_hour_7.0', 'offblock_hour_8.0', 'offblock_hour_9.0', 'offblock_hour_10.0', 'offblock_hour_11.0', 'offblock_hour_12.0', 'offblock_hour_13.0', 'offblock_hour_14.0', 'offblock_hour_15.0', 'offblock_hour_16.0', 'offblock_hour_17.0', 'offblock_hour_18.0', 'offblock_hour_19.0', 'offblock_hour_20.0', 'offblock_hour_21.0', 'offblock_hour_22.0', 'offblock_hour_23.0', 'offblock_minute_1.0', 'offblock_minute_2.0', 'offblock_minute_3.0', 'offblock_minute_4.0', 'offblock_minute_5.0', 'offblock_minute_6.0', 'offblock_minute_7.0', 'offblock_minute_8.0', 'offblock_minute_9.0', 'offblock_minute_10.0', 'offblock_minute_11.0', 'offblock_minute_12.0', 'offblock_minute_13.0', 'offblock_minute_14.0', 'offblock_minute_15.0', 'offblock_minute_16.0', 'offblock_minute_17.0', 'offblock_minute_18.0', 'offblock_minute_19.0', 'offblock_minute_20.0', 'offblock_minute_21.0', 'offblock_minute_22.0', 'offblock_minute_23.0', 'offblock_minute_24.0', 'offblock_minute_25.0', 'offblock_minute_26.0', 'offblock_minute_27.0', 'offblock_minute_28.0', 'offblock_minute_29.0', 'offblock_minute_30.0', 'offblock_minute_31.0', 'offblock_minute_32.0', 'offblock_minute_33.0', 'offblock_minute_34.0', 'offblock_minute_35.0', 'offblock_minute_36.0', 'offblock_minute_37.0', 'offblock_minute_38.0', 'offblock_minute_39.0', 'offblock_minute_40.0', 'offblock_minute_41.0', 'offblock_minute_42.0', 'offblock_minute_43.0', 'offblock_minute_44.0', 'offblock_minute_45.0', 'offblock_minute_46.0', 'offblock_minute_47.0', 'offblock_minute_48.0', 'offblock_minute_49.0', 'offblock_minute_50.0', 'offblock_minute_51.0', 'offblock_minute_52.0', 'offblock_minute_53.0', 'offblock_minute_54.0', 'offblock_minute_55.0', 'offblock_minute_56.0', 'offblock_minute_57.0', 'offblock_minute_58.0', 'offblock_minute_59.0', 'offblock_day_of_week_1.0', 'offblock_day_of_week_2.0', 'offblock_day_of_week_3.0', 'offblock_day_of_week_4.0', 'offblock_day_of_week_5.0', 'offblock_day_of_week_6.0', 'flight_duration_category_Short', 'flight_duration_category_Medium', 'flight_duration_category_Long', 'adep_region_Asia', 'adep_region_Europe', 'adep_region_Middle_East', 'adep_region_North_America', 'adep_region_Other', 'adep_region_South_America', 'ades_region_Asia', 'ades_region_Europe', 'ades_region_Middle_East', 'ades_region_North_America', 'ades_region_Other', 'ades_region_South_America', 'same_country_flight_1', 'same_region_flight_1', 'flight_direction_North-South', 'flight_direction_Other', 'is_intercontinental_1', 'temperature_bins_ARR_1.0', 'temperature_bins_ARR_2.0', 'temperature_bins_ARR_3.0', 'temperature_bins_ARR_4.0', 'humidity_bins_DEP_1.0', 'humidity_bins_DEP_2.0', 'humidity_bins_DEP_3.0', 'humidity_bins_DEP_4.0', 'Physical_Class_Engine_Turboprop', 'Num_Engines_4', 'Main_Gear_Config_2D/D1', 'Main_Gear_Config_3D', 'Main_Gear_Config_D', 'Main_Gear_Config_S', 'FAA_Weight_Large', 'FAA_Weight_Small+', 'adep_geo_cluster_1', 'adep_geo_cluster_2', 'adep_geo_cluster_3', 'adep_geo_cluster_4', 'adep_geo_cluster_5', 'adep_geo_cluster_6', 'adep_geo_cluster_7', 'adep_geo_cluster_8', 'adep_geo_cluster_9', 'adep_geo_cluster_10', 'adep_geo_cluster_11', 'adep_geo_cluster_12', 'adep_geo_cluster_13', 'adep_geo_cluster_14', 'adep_geo_cluster_15', 'adep_geo_cluster_16', 'adep_geo_cluster_17', 'adep_geo_cluster_18', 'adep_geo_cluster_19', 'ades_geo_cluster_1', 'ades_geo_cluster_2', 'ades_geo_cluster_3', 'ades_geo_cluster_4', 'ades_geo_cluster_5', 'ades_geo_cluster_6', 'ades_geo_cluster_7', 'ades_geo_cluster_8', 'ades_geo_cluster_9', 'ades_geo_cluster_10', 'ades_geo_cluster_11', 'ades_geo_cluster_12', 'ades_geo_cluster_13', 'ades_geo_cluster_14', 'ades_geo_cluster_15', 'ades_geo_cluster_16', 'ades_geo_cluster_17', 'ades_geo_cluster_18', 'ades_geo_cluster_19']\n",
      "Submission set columns: ['flight_id', 'date', 'callsign', 'adep', 'name_adep', 'country_code_adep', 'ades', 'name_ades', 'country_code_ades', 'actual_offblock_time', 'arrival_time', 'aircraft_type', 'wtc', 'airline', 'flight_duration', 'taxiout_time', 'flown_distance', 'tow']\n"
     ]
    },
    {
     "name": "stderr",
     "output_type": "stream",
     "text": [
      "/tmp/ipykernel_826648/106421064.py:12: PerformanceWarning: DataFrame is highly fragmented.  This is usually the result of calling `frame.insert` many times, which has poor performance.  Consider joining all columns at once using pd.concat(axis=1) instead. To get a de-fragmented frame, use `newframe = frame.copy()`\n",
      "  submission_set[feature] = 0  # You can choose a more appropriate fill value\n",
      "/tmp/ipykernel_826648/106421064.py:12: PerformanceWarning: DataFrame is highly fragmented.  This is usually the result of calling `frame.insert` many times, which has poor performance.  Consider joining all columns at once using pd.concat(axis=1) instead. To get a de-fragmented frame, use `newframe = frame.copy()`\n",
      "  submission_set[feature] = 0  # You can choose a more appropriate fill value\n",
      "/tmp/ipykernel_826648/106421064.py:12: PerformanceWarning: DataFrame is highly fragmented.  This is usually the result of calling `frame.insert` many times, which has poor performance.  Consider joining all columns at once using pd.concat(axis=1) instead. To get a de-fragmented frame, use `newframe = frame.copy()`\n",
      "  submission_set[feature] = 0  # You can choose a more appropriate fill value\n",
      "/tmp/ipykernel_826648/106421064.py:12: PerformanceWarning: DataFrame is highly fragmented.  This is usually the result of calling `frame.insert` many times, which has poor performance.  Consider joining all columns at once using pd.concat(axis=1) instead. To get a de-fragmented frame, use `newframe = frame.copy()`\n",
      "  submission_set[feature] = 0  # You can choose a more appropriate fill value\n",
      "/tmp/ipykernel_826648/106421064.py:12: PerformanceWarning: DataFrame is highly fragmented.  This is usually the result of calling `frame.insert` many times, which has poor performance.  Consider joining all columns at once using pd.concat(axis=1) instead. To get a de-fragmented frame, use `newframe = frame.copy()`\n",
      "  submission_set[feature] = 0  # You can choose a more appropriate fill value\n",
      "/tmp/ipykernel_826648/106421064.py:12: PerformanceWarning: DataFrame is highly fragmented.  This is usually the result of calling `frame.insert` many times, which has poor performance.  Consider joining all columns at once using pd.concat(axis=1) instead. To get a de-fragmented frame, use `newframe = frame.copy()`\n",
      "  submission_set[feature] = 0  # You can choose a more appropriate fill value\n",
      "/tmp/ipykernel_826648/106421064.py:12: PerformanceWarning: DataFrame is highly fragmented.  This is usually the result of calling `frame.insert` many times, which has poor performance.  Consider joining all columns at once using pd.concat(axis=1) instead. To get a de-fragmented frame, use `newframe = frame.copy()`\n",
      "  submission_set[feature] = 0  # You can choose a more appropriate fill value\n",
      "/tmp/ipykernel_826648/106421064.py:12: PerformanceWarning: DataFrame is highly fragmented.  This is usually the result of calling `frame.insert` many times, which has poor performance.  Consider joining all columns at once using pd.concat(axis=1) instead. To get a de-fragmented frame, use `newframe = frame.copy()`\n",
      "  submission_set[feature] = 0  # You can choose a more appropriate fill value\n",
      "/tmp/ipykernel_826648/106421064.py:12: PerformanceWarning: DataFrame is highly fragmented.  This is usually the result of calling `frame.insert` many times, which has poor performance.  Consider joining all columns at once using pd.concat(axis=1) instead. To get a de-fragmented frame, use `newframe = frame.copy()`\n",
      "  submission_set[feature] = 0  # You can choose a more appropriate fill value\n",
      "/tmp/ipykernel_826648/106421064.py:12: PerformanceWarning: DataFrame is highly fragmented.  This is usually the result of calling `frame.insert` many times, which has poor performance.  Consider joining all columns at once using pd.concat(axis=1) instead. To get a de-fragmented frame, use `newframe = frame.copy()`\n",
      "  submission_set[feature] = 0  # You can choose a more appropriate fill value\n",
      "/tmp/ipykernel_826648/106421064.py:12: PerformanceWarning: DataFrame is highly fragmented.  This is usually the result of calling `frame.insert` many times, which has poor performance.  Consider joining all columns at once using pd.concat(axis=1) instead. To get a de-fragmented frame, use `newframe = frame.copy()`\n",
      "  submission_set[feature] = 0  # You can choose a more appropriate fill value\n",
      "/tmp/ipykernel_826648/106421064.py:12: PerformanceWarning: DataFrame is highly fragmented.  This is usually the result of calling `frame.insert` many times, which has poor performance.  Consider joining all columns at once using pd.concat(axis=1) instead. To get a de-fragmented frame, use `newframe = frame.copy()`\n",
      "  submission_set[feature] = 0  # You can choose a more appropriate fill value\n",
      "/tmp/ipykernel_826648/106421064.py:12: PerformanceWarning: DataFrame is highly fragmented.  This is usually the result of calling `frame.insert` many times, which has poor performance.  Consider joining all columns at once using pd.concat(axis=1) instead. To get a de-fragmented frame, use `newframe = frame.copy()`\n",
      "  submission_set[feature] = 0  # You can choose a more appropriate fill value\n",
      "/tmp/ipykernel_826648/106421064.py:12: PerformanceWarning: DataFrame is highly fragmented.  This is usually the result of calling `frame.insert` many times, which has poor performance.  Consider joining all columns at once using pd.concat(axis=1) instead. To get a de-fragmented frame, use `newframe = frame.copy()`\n",
      "  submission_set[feature] = 0  # You can choose a more appropriate fill value\n",
      "/tmp/ipykernel_826648/106421064.py:12: PerformanceWarning: DataFrame is highly fragmented.  This is usually the result of calling `frame.insert` many times, which has poor performance.  Consider joining all columns at once using pd.concat(axis=1) instead. To get a de-fragmented frame, use `newframe = frame.copy()`\n",
      "  submission_set[feature] = 0  # You can choose a more appropriate fill value\n",
      "/tmp/ipykernel_826648/106421064.py:12: PerformanceWarning: DataFrame is highly fragmented.  This is usually the result of calling `frame.insert` many times, which has poor performance.  Consider joining all columns at once using pd.concat(axis=1) instead. To get a de-fragmented frame, use `newframe = frame.copy()`\n",
      "  submission_set[feature] = 0  # You can choose a more appropriate fill value\n",
      "/tmp/ipykernel_826648/106421064.py:12: PerformanceWarning: DataFrame is highly fragmented.  This is usually the result of calling `frame.insert` many times, which has poor performance.  Consider joining all columns at once using pd.concat(axis=1) instead. To get a de-fragmented frame, use `newframe = frame.copy()`\n",
      "  submission_set[feature] = 0  # You can choose a more appropriate fill value\n",
      "/tmp/ipykernel_826648/106421064.py:12: PerformanceWarning: DataFrame is highly fragmented.  This is usually the result of calling `frame.insert` many times, which has poor performance.  Consider joining all columns at once using pd.concat(axis=1) instead. To get a de-fragmented frame, use `newframe = frame.copy()`\n",
      "  submission_set[feature] = 0  # You can choose a more appropriate fill value\n",
      "/tmp/ipykernel_826648/106421064.py:12: PerformanceWarning: DataFrame is highly fragmented.  This is usually the result of calling `frame.insert` many times, which has poor performance.  Consider joining all columns at once using pd.concat(axis=1) instead. To get a de-fragmented frame, use `newframe = frame.copy()`\n",
      "  submission_set[feature] = 0  # You can choose a more appropriate fill value\n",
      "/tmp/ipykernel_826648/106421064.py:12: PerformanceWarning: DataFrame is highly fragmented.  This is usually the result of calling `frame.insert` many times, which has poor performance.  Consider joining all columns at once using pd.concat(axis=1) instead. To get a de-fragmented frame, use `newframe = frame.copy()`\n",
      "  submission_set[feature] = 0  # You can choose a more appropriate fill value\n",
      "/tmp/ipykernel_826648/106421064.py:12: PerformanceWarning: DataFrame is highly fragmented.  This is usually the result of calling `frame.insert` many times, which has poor performance.  Consider joining all columns at once using pd.concat(axis=1) instead. To get a de-fragmented frame, use `newframe = frame.copy()`\n",
      "  submission_set[feature] = 0  # You can choose a more appropriate fill value\n",
      "/tmp/ipykernel_826648/106421064.py:12: PerformanceWarning: DataFrame is highly fragmented.  This is usually the result of calling `frame.insert` many times, which has poor performance.  Consider joining all columns at once using pd.concat(axis=1) instead. To get a de-fragmented frame, use `newframe = frame.copy()`\n",
      "  submission_set[feature] = 0  # You can choose a more appropriate fill value\n",
      "/tmp/ipykernel_826648/106421064.py:12: PerformanceWarning: DataFrame is highly fragmented.  This is usually the result of calling `frame.insert` many times, which has poor performance.  Consider joining all columns at once using pd.concat(axis=1) instead. To get a de-fragmented frame, use `newframe = frame.copy()`\n",
      "  submission_set[feature] = 0  # You can choose a more appropriate fill value\n",
      "/tmp/ipykernel_826648/106421064.py:12: PerformanceWarning: DataFrame is highly fragmented.  This is usually the result of calling `frame.insert` many times, which has poor performance.  Consider joining all columns at once using pd.concat(axis=1) instead. To get a de-fragmented frame, use `newframe = frame.copy()`\n",
      "  submission_set[feature] = 0  # You can choose a more appropriate fill value\n",
      "/tmp/ipykernel_826648/106421064.py:12: PerformanceWarning: DataFrame is highly fragmented.  This is usually the result of calling `frame.insert` many times, which has poor performance.  Consider joining all columns at once using pd.concat(axis=1) instead. To get a de-fragmented frame, use `newframe = frame.copy()`\n",
      "  submission_set[feature] = 0  # You can choose a more appropriate fill value\n",
      "/tmp/ipykernel_826648/106421064.py:12: PerformanceWarning: DataFrame is highly fragmented.  This is usually the result of calling `frame.insert` many times, which has poor performance.  Consider joining all columns at once using pd.concat(axis=1) instead. To get a de-fragmented frame, use `newframe = frame.copy()`\n",
      "  submission_set[feature] = 0  # You can choose a more appropriate fill value\n",
      "/tmp/ipykernel_826648/106421064.py:12: PerformanceWarning: DataFrame is highly fragmented.  This is usually the result of calling `frame.insert` many times, which has poor performance.  Consider joining all columns at once using pd.concat(axis=1) instead. To get a de-fragmented frame, use `newframe = frame.copy()`\n",
      "  submission_set[feature] = 0  # You can choose a more appropriate fill value\n",
      "/tmp/ipykernel_826648/106421064.py:12: PerformanceWarning: DataFrame is highly fragmented.  This is usually the result of calling `frame.insert` many times, which has poor performance.  Consider joining all columns at once using pd.concat(axis=1) instead. To get a de-fragmented frame, use `newframe = frame.copy()`\n",
      "  submission_set[feature] = 0  # You can choose a more appropriate fill value\n",
      "/tmp/ipykernel_826648/106421064.py:12: PerformanceWarning: DataFrame is highly fragmented.  This is usually the result of calling `frame.insert` many times, which has poor performance.  Consider joining all columns at once using pd.concat(axis=1) instead. To get a de-fragmented frame, use `newframe = frame.copy()`\n",
      "  submission_set[feature] = 0  # You can choose a more appropriate fill value\n",
      "/tmp/ipykernel_826648/106421064.py:12: PerformanceWarning: DataFrame is highly fragmented.  This is usually the result of calling `frame.insert` many times, which has poor performance.  Consider joining all columns at once using pd.concat(axis=1) instead. To get a de-fragmented frame, use `newframe = frame.copy()`\n",
      "  submission_set[feature] = 0  # You can choose a more appropriate fill value\n",
      "/tmp/ipykernel_826648/106421064.py:12: PerformanceWarning: DataFrame is highly fragmented.  This is usually the result of calling `frame.insert` many times, which has poor performance.  Consider joining all columns at once using pd.concat(axis=1) instead. To get a de-fragmented frame, use `newframe = frame.copy()`\n",
      "  submission_set[feature] = 0  # You can choose a more appropriate fill value\n",
      "/tmp/ipykernel_826648/106421064.py:12: PerformanceWarning: DataFrame is highly fragmented.  This is usually the result of calling `frame.insert` many times, which has poor performance.  Consider joining all columns at once using pd.concat(axis=1) instead. To get a de-fragmented frame, use `newframe = frame.copy()`\n",
      "  submission_set[feature] = 0  # You can choose a more appropriate fill value\n",
      "/tmp/ipykernel_826648/106421064.py:12: PerformanceWarning: DataFrame is highly fragmented.  This is usually the result of calling `frame.insert` many times, which has poor performance.  Consider joining all columns at once using pd.concat(axis=1) instead. To get a de-fragmented frame, use `newframe = frame.copy()`\n",
      "  submission_set[feature] = 0  # You can choose a more appropriate fill value\n",
      "/tmp/ipykernel_826648/106421064.py:12: PerformanceWarning: DataFrame is highly fragmented.  This is usually the result of calling `frame.insert` many times, which has poor performance.  Consider joining all columns at once using pd.concat(axis=1) instead. To get a de-fragmented frame, use `newframe = frame.copy()`\n",
      "  submission_set[feature] = 0  # You can choose a more appropriate fill value\n",
      "/tmp/ipykernel_826648/106421064.py:12: PerformanceWarning: DataFrame is highly fragmented.  This is usually the result of calling `frame.insert` many times, which has poor performance.  Consider joining all columns at once using pd.concat(axis=1) instead. To get a de-fragmented frame, use `newframe = frame.copy()`\n",
      "  submission_set[feature] = 0  # You can choose a more appropriate fill value\n",
      "/tmp/ipykernel_826648/106421064.py:12: PerformanceWarning: DataFrame is highly fragmented.  This is usually the result of calling `frame.insert` many times, which has poor performance.  Consider joining all columns at once using pd.concat(axis=1) instead. To get a de-fragmented frame, use `newframe = frame.copy()`\n",
      "  submission_set[feature] = 0  # You can choose a more appropriate fill value\n",
      "/tmp/ipykernel_826648/106421064.py:12: PerformanceWarning: DataFrame is highly fragmented.  This is usually the result of calling `frame.insert` many times, which has poor performance.  Consider joining all columns at once using pd.concat(axis=1) instead. To get a de-fragmented frame, use `newframe = frame.copy()`\n",
      "  submission_set[feature] = 0  # You can choose a more appropriate fill value\n",
      "/tmp/ipykernel_826648/106421064.py:12: PerformanceWarning: DataFrame is highly fragmented.  This is usually the result of calling `frame.insert` many times, which has poor performance.  Consider joining all columns at once using pd.concat(axis=1) instead. To get a de-fragmented frame, use `newframe = frame.copy()`\n",
      "  submission_set[feature] = 0  # You can choose a more appropriate fill value\n",
      "/tmp/ipykernel_826648/106421064.py:12: PerformanceWarning: DataFrame is highly fragmented.  This is usually the result of calling `frame.insert` many times, which has poor performance.  Consider joining all columns at once using pd.concat(axis=1) instead. To get a de-fragmented frame, use `newframe = frame.copy()`\n",
      "  submission_set[feature] = 0  # You can choose a more appropriate fill value\n",
      "/tmp/ipykernel_826648/106421064.py:12: PerformanceWarning: DataFrame is highly fragmented.  This is usually the result of calling `frame.insert` many times, which has poor performance.  Consider joining all columns at once using pd.concat(axis=1) instead. To get a de-fragmented frame, use `newframe = frame.copy()`\n",
      "  submission_set[feature] = 0  # You can choose a more appropriate fill value\n",
      "/tmp/ipykernel_826648/106421064.py:12: PerformanceWarning: DataFrame is highly fragmented.  This is usually the result of calling `frame.insert` many times, which has poor performance.  Consider joining all columns at once using pd.concat(axis=1) instead. To get a de-fragmented frame, use `newframe = frame.copy()`\n",
      "  submission_set[feature] = 0  # You can choose a more appropriate fill value\n",
      "/tmp/ipykernel_826648/106421064.py:12: PerformanceWarning: DataFrame is highly fragmented.  This is usually the result of calling `frame.insert` many times, which has poor performance.  Consider joining all columns at once using pd.concat(axis=1) instead. To get a de-fragmented frame, use `newframe = frame.copy()`\n",
      "  submission_set[feature] = 0  # You can choose a more appropriate fill value\n",
      "/tmp/ipykernel_826648/106421064.py:12: PerformanceWarning: DataFrame is highly fragmented.  This is usually the result of calling `frame.insert` many times, which has poor performance.  Consider joining all columns at once using pd.concat(axis=1) instead. To get a de-fragmented frame, use `newframe = frame.copy()`\n",
      "  submission_set[feature] = 0  # You can choose a more appropriate fill value\n",
      "/tmp/ipykernel_826648/106421064.py:12: PerformanceWarning: DataFrame is highly fragmented.  This is usually the result of calling `frame.insert` many times, which has poor performance.  Consider joining all columns at once using pd.concat(axis=1) instead. To get a de-fragmented frame, use `newframe = frame.copy()`\n",
      "  submission_set[feature] = 0  # You can choose a more appropriate fill value\n",
      "/tmp/ipykernel_826648/106421064.py:12: PerformanceWarning: DataFrame is highly fragmented.  This is usually the result of calling `frame.insert` many times, which has poor performance.  Consider joining all columns at once using pd.concat(axis=1) instead. To get a de-fragmented frame, use `newframe = frame.copy()`\n",
      "  submission_set[feature] = 0  # You can choose a more appropriate fill value\n",
      "/tmp/ipykernel_826648/106421064.py:12: PerformanceWarning: DataFrame is highly fragmented.  This is usually the result of calling `frame.insert` many times, which has poor performance.  Consider joining all columns at once using pd.concat(axis=1) instead. To get a de-fragmented frame, use `newframe = frame.copy()`\n",
      "  submission_set[feature] = 0  # You can choose a more appropriate fill value\n",
      "/tmp/ipykernel_826648/106421064.py:12: PerformanceWarning: DataFrame is highly fragmented.  This is usually the result of calling `frame.insert` many times, which has poor performance.  Consider joining all columns at once using pd.concat(axis=1) instead. To get a de-fragmented frame, use `newframe = frame.copy()`\n",
      "  submission_set[feature] = 0  # You can choose a more appropriate fill value\n",
      "/tmp/ipykernel_826648/106421064.py:12: PerformanceWarning: DataFrame is highly fragmented.  This is usually the result of calling `frame.insert` many times, which has poor performance.  Consider joining all columns at once using pd.concat(axis=1) instead. To get a de-fragmented frame, use `newframe = frame.copy()`\n",
      "  submission_set[feature] = 0  # You can choose a more appropriate fill value\n",
      "/tmp/ipykernel_826648/106421064.py:12: PerformanceWarning: DataFrame is highly fragmented.  This is usually the result of calling `frame.insert` many times, which has poor performance.  Consider joining all columns at once using pd.concat(axis=1) instead. To get a de-fragmented frame, use `newframe = frame.copy()`\n",
      "  submission_set[feature] = 0  # You can choose a more appropriate fill value\n",
      "/tmp/ipykernel_826648/106421064.py:12: PerformanceWarning: DataFrame is highly fragmented.  This is usually the result of calling `frame.insert` many times, which has poor performance.  Consider joining all columns at once using pd.concat(axis=1) instead. To get a de-fragmented frame, use `newframe = frame.copy()`\n",
      "  submission_set[feature] = 0  # You can choose a more appropriate fill value\n",
      "/tmp/ipykernel_826648/106421064.py:12: PerformanceWarning: DataFrame is highly fragmented.  This is usually the result of calling `frame.insert` many times, which has poor performance.  Consider joining all columns at once using pd.concat(axis=1) instead. To get a de-fragmented frame, use `newframe = frame.copy()`\n",
      "  submission_set[feature] = 0  # You can choose a more appropriate fill value\n",
      "/tmp/ipykernel_826648/106421064.py:12: PerformanceWarning: DataFrame is highly fragmented.  This is usually the result of calling `frame.insert` many times, which has poor performance.  Consider joining all columns at once using pd.concat(axis=1) instead. To get a de-fragmented frame, use `newframe = frame.copy()`\n",
      "  submission_set[feature] = 0  # You can choose a more appropriate fill value\n",
      "/tmp/ipykernel_826648/106421064.py:12: PerformanceWarning: DataFrame is highly fragmented.  This is usually the result of calling `frame.insert` many times, which has poor performance.  Consider joining all columns at once using pd.concat(axis=1) instead. To get a de-fragmented frame, use `newframe = frame.copy()`\n",
      "  submission_set[feature] = 0  # You can choose a more appropriate fill value\n",
      "/tmp/ipykernel_826648/106421064.py:12: PerformanceWarning: DataFrame is highly fragmented.  This is usually the result of calling `frame.insert` many times, which has poor performance.  Consider joining all columns at once using pd.concat(axis=1) instead. To get a de-fragmented frame, use `newframe = frame.copy()`\n",
      "  submission_set[feature] = 0  # You can choose a more appropriate fill value\n",
      "/tmp/ipykernel_826648/106421064.py:12: PerformanceWarning: DataFrame is highly fragmented.  This is usually the result of calling `frame.insert` many times, which has poor performance.  Consider joining all columns at once using pd.concat(axis=1) instead. To get a de-fragmented frame, use `newframe = frame.copy()`\n",
      "  submission_set[feature] = 0  # You can choose a more appropriate fill value\n",
      "/tmp/ipykernel_826648/106421064.py:12: PerformanceWarning: DataFrame is highly fragmented.  This is usually the result of calling `frame.insert` many times, which has poor performance.  Consider joining all columns at once using pd.concat(axis=1) instead. To get a de-fragmented frame, use `newframe = frame.copy()`\n",
      "  submission_set[feature] = 0  # You can choose a more appropriate fill value\n",
      "/tmp/ipykernel_826648/106421064.py:12: PerformanceWarning: DataFrame is highly fragmented.  This is usually the result of calling `frame.insert` many times, which has poor performance.  Consider joining all columns at once using pd.concat(axis=1) instead. To get a de-fragmented frame, use `newframe = frame.copy()`\n",
      "  submission_set[feature] = 0  # You can choose a more appropriate fill value\n",
      "/tmp/ipykernel_826648/106421064.py:12: PerformanceWarning: DataFrame is highly fragmented.  This is usually the result of calling `frame.insert` many times, which has poor performance.  Consider joining all columns at once using pd.concat(axis=1) instead. To get a de-fragmented frame, use `newframe = frame.copy()`\n",
      "  submission_set[feature] = 0  # You can choose a more appropriate fill value\n",
      "/tmp/ipykernel_826648/106421064.py:12: PerformanceWarning: DataFrame is highly fragmented.  This is usually the result of calling `frame.insert` many times, which has poor performance.  Consider joining all columns at once using pd.concat(axis=1) instead. To get a de-fragmented frame, use `newframe = frame.copy()`\n",
      "  submission_set[feature] = 0  # You can choose a more appropriate fill value\n",
      "/tmp/ipykernel_826648/106421064.py:12: PerformanceWarning: DataFrame is highly fragmented.  This is usually the result of calling `frame.insert` many times, which has poor performance.  Consider joining all columns at once using pd.concat(axis=1) instead. To get a de-fragmented frame, use `newframe = frame.copy()`\n",
      "  submission_set[feature] = 0  # You can choose a more appropriate fill value\n",
      "/tmp/ipykernel_826648/106421064.py:12: PerformanceWarning: DataFrame is highly fragmented.  This is usually the result of calling `frame.insert` many times, which has poor performance.  Consider joining all columns at once using pd.concat(axis=1) instead. To get a de-fragmented frame, use `newframe = frame.copy()`\n",
      "  submission_set[feature] = 0  # You can choose a more appropriate fill value\n",
      "/tmp/ipykernel_826648/106421064.py:12: PerformanceWarning: DataFrame is highly fragmented.  This is usually the result of calling `frame.insert` many times, which has poor performance.  Consider joining all columns at once using pd.concat(axis=1) instead. To get a de-fragmented frame, use `newframe = frame.copy()`\n",
      "  submission_set[feature] = 0  # You can choose a more appropriate fill value\n",
      "/tmp/ipykernel_826648/106421064.py:12: PerformanceWarning: DataFrame is highly fragmented.  This is usually the result of calling `frame.insert` many times, which has poor performance.  Consider joining all columns at once using pd.concat(axis=1) instead. To get a de-fragmented frame, use `newframe = frame.copy()`\n",
      "  submission_set[feature] = 0  # You can choose a more appropriate fill value\n",
      "/tmp/ipykernel_826648/106421064.py:12: PerformanceWarning: DataFrame is highly fragmented.  This is usually the result of calling `frame.insert` many times, which has poor performance.  Consider joining all columns at once using pd.concat(axis=1) instead. To get a de-fragmented frame, use `newframe = frame.copy()`\n",
      "  submission_set[feature] = 0  # You can choose a more appropriate fill value\n",
      "/tmp/ipykernel_826648/106421064.py:12: PerformanceWarning: DataFrame is highly fragmented.  This is usually the result of calling `frame.insert` many times, which has poor performance.  Consider joining all columns at once using pd.concat(axis=1) instead. To get a de-fragmented frame, use `newframe = frame.copy()`\n",
      "  submission_set[feature] = 0  # You can choose a more appropriate fill value\n",
      "/tmp/ipykernel_826648/106421064.py:12: PerformanceWarning: DataFrame is highly fragmented.  This is usually the result of calling `frame.insert` many times, which has poor performance.  Consider joining all columns at once using pd.concat(axis=1) instead. To get a de-fragmented frame, use `newframe = frame.copy()`\n",
      "  submission_set[feature] = 0  # You can choose a more appropriate fill value\n",
      "/tmp/ipykernel_826648/106421064.py:12: PerformanceWarning: DataFrame is highly fragmented.  This is usually the result of calling `frame.insert` many times, which has poor performance.  Consider joining all columns at once using pd.concat(axis=1) instead. To get a de-fragmented frame, use `newframe = frame.copy()`\n",
      "  submission_set[feature] = 0  # You can choose a more appropriate fill value\n",
      "/tmp/ipykernel_826648/106421064.py:12: PerformanceWarning: DataFrame is highly fragmented.  This is usually the result of calling `frame.insert` many times, which has poor performance.  Consider joining all columns at once using pd.concat(axis=1) instead. To get a de-fragmented frame, use `newframe = frame.copy()`\n",
      "  submission_set[feature] = 0  # You can choose a more appropriate fill value\n",
      "/tmp/ipykernel_826648/106421064.py:12: PerformanceWarning: DataFrame is highly fragmented.  This is usually the result of calling `frame.insert` many times, which has poor performance.  Consider joining all columns at once using pd.concat(axis=1) instead. To get a de-fragmented frame, use `newframe = frame.copy()`\n",
      "  submission_set[feature] = 0  # You can choose a more appropriate fill value\n",
      "/tmp/ipykernel_826648/106421064.py:12: PerformanceWarning: DataFrame is highly fragmented.  This is usually the result of calling `frame.insert` many times, which has poor performance.  Consider joining all columns at once using pd.concat(axis=1) instead. To get a de-fragmented frame, use `newframe = frame.copy()`\n",
      "  submission_set[feature] = 0  # You can choose a more appropriate fill value\n",
      "/tmp/ipykernel_826648/106421064.py:12: PerformanceWarning: DataFrame is highly fragmented.  This is usually the result of calling `frame.insert` many times, which has poor performance.  Consider joining all columns at once using pd.concat(axis=1) instead. To get a de-fragmented frame, use `newframe = frame.copy()`\n",
      "  submission_set[feature] = 0  # You can choose a more appropriate fill value\n",
      "/tmp/ipykernel_826648/106421064.py:12: PerformanceWarning: DataFrame is highly fragmented.  This is usually the result of calling `frame.insert` many times, which has poor performance.  Consider joining all columns at once using pd.concat(axis=1) instead. To get a de-fragmented frame, use `newframe = frame.copy()`\n",
      "  submission_set[feature] = 0  # You can choose a more appropriate fill value\n",
      "/tmp/ipykernel_826648/106421064.py:12: PerformanceWarning: DataFrame is highly fragmented.  This is usually the result of calling `frame.insert` many times, which has poor performance.  Consider joining all columns at once using pd.concat(axis=1) instead. To get a de-fragmented frame, use `newframe = frame.copy()`\n",
      "  submission_set[feature] = 0  # You can choose a more appropriate fill value\n",
      "/tmp/ipykernel_826648/106421064.py:12: PerformanceWarning: DataFrame is highly fragmented.  This is usually the result of calling `frame.insert` many times, which has poor performance.  Consider joining all columns at once using pd.concat(axis=1) instead. To get a de-fragmented frame, use `newframe = frame.copy()`\n",
      "  submission_set[feature] = 0  # You can choose a more appropriate fill value\n",
      "/tmp/ipykernel_826648/106421064.py:12: PerformanceWarning: DataFrame is highly fragmented.  This is usually the result of calling `frame.insert` many times, which has poor performance.  Consider joining all columns at once using pd.concat(axis=1) instead. To get a de-fragmented frame, use `newframe = frame.copy()`\n",
      "  submission_set[feature] = 0  # You can choose a more appropriate fill value\n",
      "/tmp/ipykernel_826648/106421064.py:12: PerformanceWarning: DataFrame is highly fragmented.  This is usually the result of calling `frame.insert` many times, which has poor performance.  Consider joining all columns at once using pd.concat(axis=1) instead. To get a de-fragmented frame, use `newframe = frame.copy()`\n",
      "  submission_set[feature] = 0  # You can choose a more appropriate fill value\n",
      "/tmp/ipykernel_826648/106421064.py:12: PerformanceWarning: DataFrame is highly fragmented.  This is usually the result of calling `frame.insert` many times, which has poor performance.  Consider joining all columns at once using pd.concat(axis=1) instead. To get a de-fragmented frame, use `newframe = frame.copy()`\n",
      "  submission_set[feature] = 0  # You can choose a more appropriate fill value\n",
      "/tmp/ipykernel_826648/106421064.py:12: PerformanceWarning: DataFrame is highly fragmented.  This is usually the result of calling `frame.insert` many times, which has poor performance.  Consider joining all columns at once using pd.concat(axis=1) instead. To get a de-fragmented frame, use `newframe = frame.copy()`\n",
      "  submission_set[feature] = 0  # You can choose a more appropriate fill value\n",
      "/tmp/ipykernel_826648/106421064.py:12: PerformanceWarning: DataFrame is highly fragmented.  This is usually the result of calling `frame.insert` many times, which has poor performance.  Consider joining all columns at once using pd.concat(axis=1) instead. To get a de-fragmented frame, use `newframe = frame.copy()`\n",
      "  submission_set[feature] = 0  # You can choose a more appropriate fill value\n",
      "/tmp/ipykernel_826648/106421064.py:12: PerformanceWarning: DataFrame is highly fragmented.  This is usually the result of calling `frame.insert` many times, which has poor performance.  Consider joining all columns at once using pd.concat(axis=1) instead. To get a de-fragmented frame, use `newframe = frame.copy()`\n",
      "  submission_set[feature] = 0  # You can choose a more appropriate fill value\n",
      "/tmp/ipykernel_826648/106421064.py:12: PerformanceWarning: DataFrame is highly fragmented.  This is usually the result of calling `frame.insert` many times, which has poor performance.  Consider joining all columns at once using pd.concat(axis=1) instead. To get a de-fragmented frame, use `newframe = frame.copy()`\n",
      "  submission_set[feature] = 0  # You can choose a more appropriate fill value\n",
      "/tmp/ipykernel_826648/106421064.py:12: PerformanceWarning: DataFrame is highly fragmented.  This is usually the result of calling `frame.insert` many times, which has poor performance.  Consider joining all columns at once using pd.concat(axis=1) instead. To get a de-fragmented frame, use `newframe = frame.copy()`\n",
      "  submission_set[feature] = 0  # You can choose a more appropriate fill value\n",
      "/tmp/ipykernel_826648/106421064.py:12: PerformanceWarning: DataFrame is highly fragmented.  This is usually the result of calling `frame.insert` many times, which has poor performance.  Consider joining all columns at once using pd.concat(axis=1) instead. To get a de-fragmented frame, use `newframe = frame.copy()`\n",
      "  submission_set[feature] = 0  # You can choose a more appropriate fill value\n",
      "/tmp/ipykernel_826648/106421064.py:12: PerformanceWarning: DataFrame is highly fragmented.  This is usually the result of calling `frame.insert` many times, which has poor performance.  Consider joining all columns at once using pd.concat(axis=1) instead. To get a de-fragmented frame, use `newframe = frame.copy()`\n",
      "  submission_set[feature] = 0  # You can choose a more appropriate fill value\n",
      "/tmp/ipykernel_826648/106421064.py:12: PerformanceWarning: DataFrame is highly fragmented.  This is usually the result of calling `frame.insert` many times, which has poor performance.  Consider joining all columns at once using pd.concat(axis=1) instead. To get a de-fragmented frame, use `newframe = frame.copy()`\n",
      "  submission_set[feature] = 0  # You can choose a more appropriate fill value\n",
      "/tmp/ipykernel_826648/106421064.py:12: PerformanceWarning: DataFrame is highly fragmented.  This is usually the result of calling `frame.insert` many times, which has poor performance.  Consider joining all columns at once using pd.concat(axis=1) instead. To get a de-fragmented frame, use `newframe = frame.copy()`\n",
      "  submission_set[feature] = 0  # You can choose a more appropriate fill value\n",
      "/tmp/ipykernel_826648/106421064.py:12: PerformanceWarning: DataFrame is highly fragmented.  This is usually the result of calling `frame.insert` many times, which has poor performance.  Consider joining all columns at once using pd.concat(axis=1) instead. To get a de-fragmented frame, use `newframe = frame.copy()`\n",
      "  submission_set[feature] = 0  # You can choose a more appropriate fill value\n",
      "/tmp/ipykernel_826648/106421064.py:12: PerformanceWarning: DataFrame is highly fragmented.  This is usually the result of calling `frame.insert` many times, which has poor performance.  Consider joining all columns at once using pd.concat(axis=1) instead. To get a de-fragmented frame, use `newframe = frame.copy()`\n",
      "  submission_set[feature] = 0  # You can choose a more appropriate fill value\n",
      "/tmp/ipykernel_826648/106421064.py:12: PerformanceWarning: DataFrame is highly fragmented.  This is usually the result of calling `frame.insert` many times, which has poor performance.  Consider joining all columns at once using pd.concat(axis=1) instead. To get a de-fragmented frame, use `newframe = frame.copy()`\n",
      "  submission_set[feature] = 0  # You can choose a more appropriate fill value\n",
      "/tmp/ipykernel_826648/106421064.py:12: PerformanceWarning: DataFrame is highly fragmented.  This is usually the result of calling `frame.insert` many times, which has poor performance.  Consider joining all columns at once using pd.concat(axis=1) instead. To get a de-fragmented frame, use `newframe = frame.copy()`\n",
      "  submission_set[feature] = 0  # You can choose a more appropriate fill value\n",
      "/tmp/ipykernel_826648/106421064.py:12: PerformanceWarning: DataFrame is highly fragmented.  This is usually the result of calling `frame.insert` many times, which has poor performance.  Consider joining all columns at once using pd.concat(axis=1) instead. To get a de-fragmented frame, use `newframe = frame.copy()`\n",
      "  submission_set[feature] = 0  # You can choose a more appropriate fill value\n",
      "/tmp/ipykernel_826648/106421064.py:12: PerformanceWarning: DataFrame is highly fragmented.  This is usually the result of calling `frame.insert` many times, which has poor performance.  Consider joining all columns at once using pd.concat(axis=1) instead. To get a de-fragmented frame, use `newframe = frame.copy()`\n",
      "  submission_set[feature] = 0  # You can choose a more appropriate fill value\n",
      "/tmp/ipykernel_826648/106421064.py:12: PerformanceWarning: DataFrame is highly fragmented.  This is usually the result of calling `frame.insert` many times, which has poor performance.  Consider joining all columns at once using pd.concat(axis=1) instead. To get a de-fragmented frame, use `newframe = frame.copy()`\n",
      "  submission_set[feature] = 0  # You can choose a more appropriate fill value\n",
      "/tmp/ipykernel_826648/106421064.py:12: PerformanceWarning: DataFrame is highly fragmented.  This is usually the result of calling `frame.insert` many times, which has poor performance.  Consider joining all columns at once using pd.concat(axis=1) instead. To get a de-fragmented frame, use `newframe = frame.copy()`\n",
      "  submission_set[feature] = 0  # You can choose a more appropriate fill value\n",
      "/tmp/ipykernel_826648/106421064.py:12: PerformanceWarning: DataFrame is highly fragmented.  This is usually the result of calling `frame.insert` many times, which has poor performance.  Consider joining all columns at once using pd.concat(axis=1) instead. To get a de-fragmented frame, use `newframe = frame.copy()`\n",
      "  submission_set[feature] = 0  # You can choose a more appropriate fill value\n",
      "/tmp/ipykernel_826648/106421064.py:12: PerformanceWarning: DataFrame is highly fragmented.  This is usually the result of calling `frame.insert` many times, which has poor performance.  Consider joining all columns at once using pd.concat(axis=1) instead. To get a de-fragmented frame, use `newframe = frame.copy()`\n",
      "  submission_set[feature] = 0  # You can choose a more appropriate fill value\n",
      "/tmp/ipykernel_826648/106421064.py:12: PerformanceWarning: DataFrame is highly fragmented.  This is usually the result of calling `frame.insert` many times, which has poor performance.  Consider joining all columns at once using pd.concat(axis=1) instead. To get a de-fragmented frame, use `newframe = frame.copy()`\n",
      "  submission_set[feature] = 0  # You can choose a more appropriate fill value\n",
      "/tmp/ipykernel_826648/106421064.py:12: PerformanceWarning: DataFrame is highly fragmented.  This is usually the result of calling `frame.insert` many times, which has poor performance.  Consider joining all columns at once using pd.concat(axis=1) instead. To get a de-fragmented frame, use `newframe = frame.copy()`\n",
      "  submission_set[feature] = 0  # You can choose a more appropriate fill value\n",
      "/tmp/ipykernel_826648/106421064.py:12: PerformanceWarning: DataFrame is highly fragmented.  This is usually the result of calling `frame.insert` many times, which has poor performance.  Consider joining all columns at once using pd.concat(axis=1) instead. To get a de-fragmented frame, use `newframe = frame.copy()`\n",
      "  submission_set[feature] = 0  # You can choose a more appropriate fill value\n",
      "/tmp/ipykernel_826648/106421064.py:12: PerformanceWarning: DataFrame is highly fragmented.  This is usually the result of calling `frame.insert` many times, which has poor performance.  Consider joining all columns at once using pd.concat(axis=1) instead. To get a de-fragmented frame, use `newframe = frame.copy()`\n",
      "  submission_set[feature] = 0  # You can choose a more appropriate fill value\n",
      "/tmp/ipykernel_826648/106421064.py:12: PerformanceWarning: DataFrame is highly fragmented.  This is usually the result of calling `frame.insert` many times, which has poor performance.  Consider joining all columns at once using pd.concat(axis=1) instead. To get a de-fragmented frame, use `newframe = frame.copy()`\n",
      "  submission_set[feature] = 0  # You can choose a more appropriate fill value\n",
      "/tmp/ipykernel_826648/106421064.py:12: PerformanceWarning: DataFrame is highly fragmented.  This is usually the result of calling `frame.insert` many times, which has poor performance.  Consider joining all columns at once using pd.concat(axis=1) instead. To get a de-fragmented frame, use `newframe = frame.copy()`\n",
      "  submission_set[feature] = 0  # You can choose a more appropriate fill value\n",
      "/tmp/ipykernel_826648/106421064.py:12: PerformanceWarning: DataFrame is highly fragmented.  This is usually the result of calling `frame.insert` many times, which has poor performance.  Consider joining all columns at once using pd.concat(axis=1) instead. To get a de-fragmented frame, use `newframe = frame.copy()`\n",
      "  submission_set[feature] = 0  # You can choose a more appropriate fill value\n",
      "/tmp/ipykernel_826648/106421064.py:12: PerformanceWarning: DataFrame is highly fragmented.  This is usually the result of calling `frame.insert` many times, which has poor performance.  Consider joining all columns at once using pd.concat(axis=1) instead. To get a de-fragmented frame, use `newframe = frame.copy()`\n",
      "  submission_set[feature] = 0  # You can choose a more appropriate fill value\n",
      "/tmp/ipykernel_826648/106421064.py:12: PerformanceWarning: DataFrame is highly fragmented.  This is usually the result of calling `frame.insert` many times, which has poor performance.  Consider joining all columns at once using pd.concat(axis=1) instead. To get a de-fragmented frame, use `newframe = frame.copy()`\n",
      "  submission_set[feature] = 0  # You can choose a more appropriate fill value\n",
      "/tmp/ipykernel_826648/106421064.py:12: PerformanceWarning: DataFrame is highly fragmented.  This is usually the result of calling `frame.insert` many times, which has poor performance.  Consider joining all columns at once using pd.concat(axis=1) instead. To get a de-fragmented frame, use `newframe = frame.copy()`\n",
      "  submission_set[feature] = 0  # You can choose a more appropriate fill value\n",
      "/tmp/ipykernel_826648/106421064.py:12: PerformanceWarning: DataFrame is highly fragmented.  This is usually the result of calling `frame.insert` many times, which has poor performance.  Consider joining all columns at once using pd.concat(axis=1) instead. To get a de-fragmented frame, use `newframe = frame.copy()`\n",
      "  submission_set[feature] = 0  # You can choose a more appropriate fill value\n",
      "/tmp/ipykernel_826648/106421064.py:12: PerformanceWarning: DataFrame is highly fragmented.  This is usually the result of calling `frame.insert` many times, which has poor performance.  Consider joining all columns at once using pd.concat(axis=1) instead. To get a de-fragmented frame, use `newframe = frame.copy()`\n",
      "  submission_set[feature] = 0  # You can choose a more appropriate fill value\n",
      "/tmp/ipykernel_826648/106421064.py:12: PerformanceWarning: DataFrame is highly fragmented.  This is usually the result of calling `frame.insert` many times, which has poor performance.  Consider joining all columns at once using pd.concat(axis=1) instead. To get a de-fragmented frame, use `newframe = frame.copy()`\n",
      "  submission_set[feature] = 0  # You can choose a more appropriate fill value\n",
      "/tmp/ipykernel_826648/106421064.py:12: PerformanceWarning: DataFrame is highly fragmented.  This is usually the result of calling `frame.insert` many times, which has poor performance.  Consider joining all columns at once using pd.concat(axis=1) instead. To get a de-fragmented frame, use `newframe = frame.copy()`\n",
      "  submission_set[feature] = 0  # You can choose a more appropriate fill value\n",
      "/tmp/ipykernel_826648/106421064.py:12: PerformanceWarning: DataFrame is highly fragmented.  This is usually the result of calling `frame.insert` many times, which has poor performance.  Consider joining all columns at once using pd.concat(axis=1) instead. To get a de-fragmented frame, use `newframe = frame.copy()`\n",
      "  submission_set[feature] = 0  # You can choose a more appropriate fill value\n",
      "/tmp/ipykernel_826648/106421064.py:12: PerformanceWarning: DataFrame is highly fragmented.  This is usually the result of calling `frame.insert` many times, which has poor performance.  Consider joining all columns at once using pd.concat(axis=1) instead. To get a de-fragmented frame, use `newframe = frame.copy()`\n",
      "  submission_set[feature] = 0  # You can choose a more appropriate fill value\n",
      "/tmp/ipykernel_826648/106421064.py:12: PerformanceWarning: DataFrame is highly fragmented.  This is usually the result of calling `frame.insert` many times, which has poor performance.  Consider joining all columns at once using pd.concat(axis=1) instead. To get a de-fragmented frame, use `newframe = frame.copy()`\n",
      "  submission_set[feature] = 0  # You can choose a more appropriate fill value\n",
      "/tmp/ipykernel_826648/106421064.py:12: PerformanceWarning: DataFrame is highly fragmented.  This is usually the result of calling `frame.insert` many times, which has poor performance.  Consider joining all columns at once using pd.concat(axis=1) instead. To get a de-fragmented frame, use `newframe = frame.copy()`\n",
      "  submission_set[feature] = 0  # You can choose a more appropriate fill value\n",
      "/tmp/ipykernel_826648/106421064.py:12: PerformanceWarning: DataFrame is highly fragmented.  This is usually the result of calling `frame.insert` many times, which has poor performance.  Consider joining all columns at once using pd.concat(axis=1) instead. To get a de-fragmented frame, use `newframe = frame.copy()`\n",
      "  submission_set[feature] = 0  # You can choose a more appropriate fill value\n",
      "/tmp/ipykernel_826648/106421064.py:12: PerformanceWarning: DataFrame is highly fragmented.  This is usually the result of calling `frame.insert` many times, which has poor performance.  Consider joining all columns at once using pd.concat(axis=1) instead. To get a de-fragmented frame, use `newframe = frame.copy()`\n",
      "  submission_set[feature] = 0  # You can choose a more appropriate fill value\n",
      "/tmp/ipykernel_826648/106421064.py:12: PerformanceWarning: DataFrame is highly fragmented.  This is usually the result of calling `frame.insert` many times, which has poor performance.  Consider joining all columns at once using pd.concat(axis=1) instead. To get a de-fragmented frame, use `newframe = frame.copy()`\n",
      "  submission_set[feature] = 0  # You can choose a more appropriate fill value\n",
      "/tmp/ipykernel_826648/106421064.py:12: PerformanceWarning: DataFrame is highly fragmented.  This is usually the result of calling `frame.insert` many times, which has poor performance.  Consider joining all columns at once using pd.concat(axis=1) instead. To get a de-fragmented frame, use `newframe = frame.copy()`\n",
      "  submission_set[feature] = 0  # You can choose a more appropriate fill value\n",
      "/tmp/ipykernel_826648/106421064.py:12: PerformanceWarning: DataFrame is highly fragmented.  This is usually the result of calling `frame.insert` many times, which has poor performance.  Consider joining all columns at once using pd.concat(axis=1) instead. To get a de-fragmented frame, use `newframe = frame.copy()`\n",
      "  submission_set[feature] = 0  # You can choose a more appropriate fill value\n",
      "/tmp/ipykernel_826648/106421064.py:12: PerformanceWarning: DataFrame is highly fragmented.  This is usually the result of calling `frame.insert` many times, which has poor performance.  Consider joining all columns at once using pd.concat(axis=1) instead. To get a de-fragmented frame, use `newframe = frame.copy()`\n",
      "  submission_set[feature] = 0  # You can choose a more appropriate fill value\n",
      "/tmp/ipykernel_826648/106421064.py:12: PerformanceWarning: DataFrame is highly fragmented.  This is usually the result of calling `frame.insert` many times, which has poor performance.  Consider joining all columns at once using pd.concat(axis=1) instead. To get a de-fragmented frame, use `newframe = frame.copy()`\n",
      "  submission_set[feature] = 0  # You can choose a more appropriate fill value\n",
      "/tmp/ipykernel_826648/106421064.py:12: PerformanceWarning: DataFrame is highly fragmented.  This is usually the result of calling `frame.insert` many times, which has poor performance.  Consider joining all columns at once using pd.concat(axis=1) instead. To get a de-fragmented frame, use `newframe = frame.copy()`\n",
      "  submission_set[feature] = 0  # You can choose a more appropriate fill value\n",
      "/tmp/ipykernel_826648/106421064.py:12: PerformanceWarning: DataFrame is highly fragmented.  This is usually the result of calling `frame.insert` many times, which has poor performance.  Consider joining all columns at once using pd.concat(axis=1) instead. To get a de-fragmented frame, use `newframe = frame.copy()`\n",
      "  submission_set[feature] = 0  # You can choose a more appropriate fill value\n",
      "/tmp/ipykernel_826648/106421064.py:12: PerformanceWarning: DataFrame is highly fragmented.  This is usually the result of calling `frame.insert` many times, which has poor performance.  Consider joining all columns at once using pd.concat(axis=1) instead. To get a de-fragmented frame, use `newframe = frame.copy()`\n",
      "  submission_set[feature] = 0  # You can choose a more appropriate fill value\n",
      "/tmp/ipykernel_826648/106421064.py:12: PerformanceWarning: DataFrame is highly fragmented.  This is usually the result of calling `frame.insert` many times, which has poor performance.  Consider joining all columns at once using pd.concat(axis=1) instead. To get a de-fragmented frame, use `newframe = frame.copy()`\n",
      "  submission_set[feature] = 0  # You can choose a more appropriate fill value\n",
      "/tmp/ipykernel_826648/106421064.py:12: PerformanceWarning: DataFrame is highly fragmented.  This is usually the result of calling `frame.insert` many times, which has poor performance.  Consider joining all columns at once using pd.concat(axis=1) instead. To get a de-fragmented frame, use `newframe = frame.copy()`\n",
      "  submission_set[feature] = 0  # You can choose a more appropriate fill value\n",
      "/tmp/ipykernel_826648/106421064.py:12: PerformanceWarning: DataFrame is highly fragmented.  This is usually the result of calling `frame.insert` many times, which has poor performance.  Consider joining all columns at once using pd.concat(axis=1) instead. To get a de-fragmented frame, use `newframe = frame.copy()`\n",
      "  submission_set[feature] = 0  # You can choose a more appropriate fill value\n",
      "/tmp/ipykernel_826648/106421064.py:12: PerformanceWarning: DataFrame is highly fragmented.  This is usually the result of calling `frame.insert` many times, which has poor performance.  Consider joining all columns at once using pd.concat(axis=1) instead. To get a de-fragmented frame, use `newframe = frame.copy()`\n",
      "  submission_set[feature] = 0  # You can choose a more appropriate fill value\n",
      "/tmp/ipykernel_826648/106421064.py:12: PerformanceWarning: DataFrame is highly fragmented.  This is usually the result of calling `frame.insert` many times, which has poor performance.  Consider joining all columns at once using pd.concat(axis=1) instead. To get a de-fragmented frame, use `newframe = frame.copy()`\n",
      "  submission_set[feature] = 0  # You can choose a more appropriate fill value\n",
      "/tmp/ipykernel_826648/106421064.py:12: PerformanceWarning: DataFrame is highly fragmented.  This is usually the result of calling `frame.insert` many times, which has poor performance.  Consider joining all columns at once using pd.concat(axis=1) instead. To get a de-fragmented frame, use `newframe = frame.copy()`\n",
      "  submission_set[feature] = 0  # You can choose a more appropriate fill value\n",
      "/tmp/ipykernel_826648/106421064.py:12: PerformanceWarning: DataFrame is highly fragmented.  This is usually the result of calling `frame.insert` many times, which has poor performance.  Consider joining all columns at once using pd.concat(axis=1) instead. To get a de-fragmented frame, use `newframe = frame.copy()`\n",
      "  submission_set[feature] = 0  # You can choose a more appropriate fill value\n",
      "/tmp/ipykernel_826648/106421064.py:12: PerformanceWarning: DataFrame is highly fragmented.  This is usually the result of calling `frame.insert` many times, which has poor performance.  Consider joining all columns at once using pd.concat(axis=1) instead. To get a de-fragmented frame, use `newframe = frame.copy()`\n",
      "  submission_set[feature] = 0  # You can choose a more appropriate fill value\n",
      "/tmp/ipykernel_826648/106421064.py:12: PerformanceWarning: DataFrame is highly fragmented.  This is usually the result of calling `frame.insert` many times, which has poor performance.  Consider joining all columns at once using pd.concat(axis=1) instead. To get a de-fragmented frame, use `newframe = frame.copy()`\n",
      "  submission_set[feature] = 0  # You can choose a more appropriate fill value\n",
      "/tmp/ipykernel_826648/106421064.py:12: PerformanceWarning: DataFrame is highly fragmented.  This is usually the result of calling `frame.insert` many times, which has poor performance.  Consider joining all columns at once using pd.concat(axis=1) instead. To get a de-fragmented frame, use `newframe = frame.copy()`\n",
      "  submission_set[feature] = 0  # You can choose a more appropriate fill value\n",
      "/tmp/ipykernel_826648/106421064.py:12: PerformanceWarning: DataFrame is highly fragmented.  This is usually the result of calling `frame.insert` many times, which has poor performance.  Consider joining all columns at once using pd.concat(axis=1) instead. To get a de-fragmented frame, use `newframe = frame.copy()`\n",
      "  submission_set[feature] = 0  # You can choose a more appropriate fill value\n",
      "/tmp/ipykernel_826648/106421064.py:12: PerformanceWarning: DataFrame is highly fragmented.  This is usually the result of calling `frame.insert` many times, which has poor performance.  Consider joining all columns at once using pd.concat(axis=1) instead. To get a de-fragmented frame, use `newframe = frame.copy()`\n",
      "  submission_set[feature] = 0  # You can choose a more appropriate fill value\n",
      "/tmp/ipykernel_826648/106421064.py:12: PerformanceWarning: DataFrame is highly fragmented.  This is usually the result of calling `frame.insert` many times, which has poor performance.  Consider joining all columns at once using pd.concat(axis=1) instead. To get a de-fragmented frame, use `newframe = frame.copy()`\n",
      "  submission_set[feature] = 0  # You can choose a more appropriate fill value\n",
      "/tmp/ipykernel_826648/106421064.py:12: PerformanceWarning: DataFrame is highly fragmented.  This is usually the result of calling `frame.insert` many times, which has poor performance.  Consider joining all columns at once using pd.concat(axis=1) instead. To get a de-fragmented frame, use `newframe = frame.copy()`\n",
      "  submission_set[feature] = 0  # You can choose a more appropriate fill value\n",
      "/tmp/ipykernel_826648/106421064.py:12: PerformanceWarning: DataFrame is highly fragmented.  This is usually the result of calling `frame.insert` many times, which has poor performance.  Consider joining all columns at once using pd.concat(axis=1) instead. To get a de-fragmented frame, use `newframe = frame.copy()`\n",
      "  submission_set[feature] = 0  # You can choose a more appropriate fill value\n",
      "/tmp/ipykernel_826648/106421064.py:12: PerformanceWarning: DataFrame is highly fragmented.  This is usually the result of calling `frame.insert` many times, which has poor performance.  Consider joining all columns at once using pd.concat(axis=1) instead. To get a de-fragmented frame, use `newframe = frame.copy()`\n",
      "  submission_set[feature] = 0  # You can choose a more appropriate fill value\n",
      "/tmp/ipykernel_826648/106421064.py:12: PerformanceWarning: DataFrame is highly fragmented.  This is usually the result of calling `frame.insert` many times, which has poor performance.  Consider joining all columns at once using pd.concat(axis=1) instead. To get a de-fragmented frame, use `newframe = frame.copy()`\n",
      "  submission_set[feature] = 0  # You can choose a more appropriate fill value\n",
      "/tmp/ipykernel_826648/106421064.py:12: PerformanceWarning: DataFrame is highly fragmented.  This is usually the result of calling `frame.insert` many times, which has poor performance.  Consider joining all columns at once using pd.concat(axis=1) instead. To get a de-fragmented frame, use `newframe = frame.copy()`\n",
      "  submission_set[feature] = 0  # You can choose a more appropriate fill value\n",
      "/tmp/ipykernel_826648/106421064.py:12: PerformanceWarning: DataFrame is highly fragmented.  This is usually the result of calling `frame.insert` many times, which has poor performance.  Consider joining all columns at once using pd.concat(axis=1) instead. To get a de-fragmented frame, use `newframe = frame.copy()`\n",
      "  submission_set[feature] = 0  # You can choose a more appropriate fill value\n",
      "/tmp/ipykernel_826648/106421064.py:12: PerformanceWarning: DataFrame is highly fragmented.  This is usually the result of calling `frame.insert` many times, which has poor performance.  Consider joining all columns at once using pd.concat(axis=1) instead. To get a de-fragmented frame, use `newframe = frame.copy()`\n",
      "  submission_set[feature] = 0  # You can choose a more appropriate fill value\n",
      "/tmp/ipykernel_826648/106421064.py:12: PerformanceWarning: DataFrame is highly fragmented.  This is usually the result of calling `frame.insert` many times, which has poor performance.  Consider joining all columns at once using pd.concat(axis=1) instead. To get a de-fragmented frame, use `newframe = frame.copy()`\n",
      "  submission_set[feature] = 0  # You can choose a more appropriate fill value\n",
      "/tmp/ipykernel_826648/106421064.py:12: PerformanceWarning: DataFrame is highly fragmented.  This is usually the result of calling `frame.insert` many times, which has poor performance.  Consider joining all columns at once using pd.concat(axis=1) instead. To get a de-fragmented frame, use `newframe = frame.copy()`\n",
      "  submission_set[feature] = 0  # You can choose a more appropriate fill value\n",
      "/tmp/ipykernel_826648/106421064.py:12: PerformanceWarning: DataFrame is highly fragmented.  This is usually the result of calling `frame.insert` many times, which has poor performance.  Consider joining all columns at once using pd.concat(axis=1) instead. To get a de-fragmented frame, use `newframe = frame.copy()`\n",
      "  submission_set[feature] = 0  # You can choose a more appropriate fill value\n",
      "/tmp/ipykernel_826648/106421064.py:12: PerformanceWarning: DataFrame is highly fragmented.  This is usually the result of calling `frame.insert` many times, which has poor performance.  Consider joining all columns at once using pd.concat(axis=1) instead. To get a de-fragmented frame, use `newframe = frame.copy()`\n",
      "  submission_set[feature] = 0  # You can choose a more appropriate fill value\n",
      "/tmp/ipykernel_826648/106421064.py:12: PerformanceWarning: DataFrame is highly fragmented.  This is usually the result of calling `frame.insert` many times, which has poor performance.  Consider joining all columns at once using pd.concat(axis=1) instead. To get a de-fragmented frame, use `newframe = frame.copy()`\n",
      "  submission_set[feature] = 0  # You can choose a more appropriate fill value\n",
      "/tmp/ipykernel_826648/106421064.py:12: PerformanceWarning: DataFrame is highly fragmented.  This is usually the result of calling `frame.insert` many times, which has poor performance.  Consider joining all columns at once using pd.concat(axis=1) instead. To get a de-fragmented frame, use `newframe = frame.copy()`\n",
      "  submission_set[feature] = 0  # You can choose a more appropriate fill value\n",
      "/tmp/ipykernel_826648/106421064.py:12: PerformanceWarning: DataFrame is highly fragmented.  This is usually the result of calling `frame.insert` many times, which has poor performance.  Consider joining all columns at once using pd.concat(axis=1) instead. To get a de-fragmented frame, use `newframe = frame.copy()`\n",
      "  submission_set[feature] = 0  # You can choose a more appropriate fill value\n",
      "/tmp/ipykernel_826648/106421064.py:12: PerformanceWarning: DataFrame is highly fragmented.  This is usually the result of calling `frame.insert` many times, which has poor performance.  Consider joining all columns at once using pd.concat(axis=1) instead. To get a de-fragmented frame, use `newframe = frame.copy()`\n",
      "  submission_set[feature] = 0  # You can choose a more appropriate fill value\n",
      "/tmp/ipykernel_826648/106421064.py:12: PerformanceWarning: DataFrame is highly fragmented.  This is usually the result of calling `frame.insert` many times, which has poor performance.  Consider joining all columns at once using pd.concat(axis=1) instead. To get a de-fragmented frame, use `newframe = frame.copy()`\n",
      "  submission_set[feature] = 0  # You can choose a more appropriate fill value\n",
      "/tmp/ipykernel_826648/106421064.py:12: PerformanceWarning: DataFrame is highly fragmented.  This is usually the result of calling `frame.insert` many times, which has poor performance.  Consider joining all columns at once using pd.concat(axis=1) instead. To get a de-fragmented frame, use `newframe = frame.copy()`\n",
      "  submission_set[feature] = 0  # You can choose a more appropriate fill value\n",
      "/tmp/ipykernel_826648/106421064.py:12: PerformanceWarning: DataFrame is highly fragmented.  This is usually the result of calling `frame.insert` many times, which has poor performance.  Consider joining all columns at once using pd.concat(axis=1) instead. To get a de-fragmented frame, use `newframe = frame.copy()`\n",
      "  submission_set[feature] = 0  # You can choose a more appropriate fill value\n",
      "/tmp/ipykernel_826648/106421064.py:12: PerformanceWarning: DataFrame is highly fragmented.  This is usually the result of calling `frame.insert` many times, which has poor performance.  Consider joining all columns at once using pd.concat(axis=1) instead. To get a de-fragmented frame, use `newframe = frame.copy()`\n",
      "  submission_set[feature] = 0  # You can choose a more appropriate fill value\n",
      "/tmp/ipykernel_826648/106421064.py:12: PerformanceWarning: DataFrame is highly fragmented.  This is usually the result of calling `frame.insert` many times, which has poor performance.  Consider joining all columns at once using pd.concat(axis=1) instead. To get a de-fragmented frame, use `newframe = frame.copy()`\n",
      "  submission_set[feature] = 0  # You can choose a more appropriate fill value\n",
      "/tmp/ipykernel_826648/106421064.py:12: PerformanceWarning: DataFrame is highly fragmented.  This is usually the result of calling `frame.insert` many times, which has poor performance.  Consider joining all columns at once using pd.concat(axis=1) instead. To get a de-fragmented frame, use `newframe = frame.copy()`\n",
      "  submission_set[feature] = 0  # You can choose a more appropriate fill value\n",
      "/tmp/ipykernel_826648/106421064.py:12: PerformanceWarning: DataFrame is highly fragmented.  This is usually the result of calling `frame.insert` many times, which has poor performance.  Consider joining all columns at once using pd.concat(axis=1) instead. To get a de-fragmented frame, use `newframe = frame.copy()`\n",
      "  submission_set[feature] = 0  # You can choose a more appropriate fill value\n",
      "/tmp/ipykernel_826648/106421064.py:12: PerformanceWarning: DataFrame is highly fragmented.  This is usually the result of calling `frame.insert` many times, which has poor performance.  Consider joining all columns at once using pd.concat(axis=1) instead. To get a de-fragmented frame, use `newframe = frame.copy()`\n",
      "  submission_set[feature] = 0  # You can choose a more appropriate fill value\n",
      "/tmp/ipykernel_826648/106421064.py:12: PerformanceWarning: DataFrame is highly fragmented.  This is usually the result of calling `frame.insert` many times, which has poor performance.  Consider joining all columns at once using pd.concat(axis=1) instead. To get a de-fragmented frame, use `newframe = frame.copy()`\n",
      "  submission_set[feature] = 0  # You can choose a more appropriate fill value\n",
      "/tmp/ipykernel_826648/106421064.py:12: PerformanceWarning: DataFrame is highly fragmented.  This is usually the result of calling `frame.insert` many times, which has poor performance.  Consider joining all columns at once using pd.concat(axis=1) instead. To get a de-fragmented frame, use `newframe = frame.copy()`\n",
      "  submission_set[feature] = 0  # You can choose a more appropriate fill value\n",
      "/tmp/ipykernel_826648/106421064.py:12: PerformanceWarning: DataFrame is highly fragmented.  This is usually the result of calling `frame.insert` many times, which has poor performance.  Consider joining all columns at once using pd.concat(axis=1) instead. To get a de-fragmented frame, use `newframe = frame.copy()`\n",
      "  submission_set[feature] = 0  # You can choose a more appropriate fill value\n",
      "/tmp/ipykernel_826648/106421064.py:12: PerformanceWarning: DataFrame is highly fragmented.  This is usually the result of calling `frame.insert` many times, which has poor performance.  Consider joining all columns at once using pd.concat(axis=1) instead. To get a de-fragmented frame, use `newframe = frame.copy()`\n",
      "  submission_set[feature] = 0  # You can choose a more appropriate fill value\n",
      "/tmp/ipykernel_826648/106421064.py:12: PerformanceWarning: DataFrame is highly fragmented.  This is usually the result of calling `frame.insert` many times, which has poor performance.  Consider joining all columns at once using pd.concat(axis=1) instead. To get a de-fragmented frame, use `newframe = frame.copy()`\n",
      "  submission_set[feature] = 0  # You can choose a more appropriate fill value\n",
      "/tmp/ipykernel_826648/106421064.py:12: PerformanceWarning: DataFrame is highly fragmented.  This is usually the result of calling `frame.insert` many times, which has poor performance.  Consider joining all columns at once using pd.concat(axis=1) instead. To get a de-fragmented frame, use `newframe = frame.copy()`\n",
      "  submission_set[feature] = 0  # You can choose a more appropriate fill value\n",
      "/tmp/ipykernel_826648/106421064.py:12: PerformanceWarning: DataFrame is highly fragmented.  This is usually the result of calling `frame.insert` many times, which has poor performance.  Consider joining all columns at once using pd.concat(axis=1) instead. To get a de-fragmented frame, use `newframe = frame.copy()`\n",
      "  submission_set[feature] = 0  # You can choose a more appropriate fill value\n",
      "/tmp/ipykernel_826648/106421064.py:12: PerformanceWarning: DataFrame is highly fragmented.  This is usually the result of calling `frame.insert` many times, which has poor performance.  Consider joining all columns at once using pd.concat(axis=1) instead. To get a de-fragmented frame, use `newframe = frame.copy()`\n",
      "  submission_set[feature] = 0  # You can choose a more appropriate fill value\n",
      "/tmp/ipykernel_826648/106421064.py:12: PerformanceWarning: DataFrame is highly fragmented.  This is usually the result of calling `frame.insert` many times, which has poor performance.  Consider joining all columns at once using pd.concat(axis=1) instead. To get a de-fragmented frame, use `newframe = frame.copy()`\n",
      "  submission_set[feature] = 0  # You can choose a more appropriate fill value\n",
      "/tmp/ipykernel_826648/106421064.py:12: PerformanceWarning: DataFrame is highly fragmented.  This is usually the result of calling `frame.insert` many times, which has poor performance.  Consider joining all columns at once using pd.concat(axis=1) instead. To get a de-fragmented frame, use `newframe = frame.copy()`\n",
      "  submission_set[feature] = 0  # You can choose a more appropriate fill value\n",
      "/tmp/ipykernel_826648/106421064.py:12: PerformanceWarning: DataFrame is highly fragmented.  This is usually the result of calling `frame.insert` many times, which has poor performance.  Consider joining all columns at once using pd.concat(axis=1) instead. To get a de-fragmented frame, use `newframe = frame.copy()`\n",
      "  submission_set[feature] = 0  # You can choose a more appropriate fill value\n",
      "/tmp/ipykernel_826648/106421064.py:12: PerformanceWarning: DataFrame is highly fragmented.  This is usually the result of calling `frame.insert` many times, which has poor performance.  Consider joining all columns at once using pd.concat(axis=1) instead. To get a de-fragmented frame, use `newframe = frame.copy()`\n",
      "  submission_set[feature] = 0  # You can choose a more appropriate fill value\n",
      "/tmp/ipykernel_826648/106421064.py:12: PerformanceWarning: DataFrame is highly fragmented.  This is usually the result of calling `frame.insert` many times, which has poor performance.  Consider joining all columns at once using pd.concat(axis=1) instead. To get a de-fragmented frame, use `newframe = frame.copy()`\n",
      "  submission_set[feature] = 0  # You can choose a more appropriate fill value\n",
      "/tmp/ipykernel_826648/106421064.py:12: PerformanceWarning: DataFrame is highly fragmented.  This is usually the result of calling `frame.insert` many times, which has poor performance.  Consider joining all columns at once using pd.concat(axis=1) instead. To get a de-fragmented frame, use `newframe = frame.copy()`\n",
      "  submission_set[feature] = 0  # You can choose a more appropriate fill value\n",
      "/tmp/ipykernel_826648/106421064.py:12: PerformanceWarning: DataFrame is highly fragmented.  This is usually the result of calling `frame.insert` many times, which has poor performance.  Consider joining all columns at once using pd.concat(axis=1) instead. To get a de-fragmented frame, use `newframe = frame.copy()`\n",
      "  submission_set[feature] = 0  # You can choose a more appropriate fill value\n",
      "/tmp/ipykernel_826648/106421064.py:12: PerformanceWarning: DataFrame is highly fragmented.  This is usually the result of calling `frame.insert` many times, which has poor performance.  Consider joining all columns at once using pd.concat(axis=1) instead. To get a de-fragmented frame, use `newframe = frame.copy()`\n",
      "  submission_set[feature] = 0  # You can choose a more appropriate fill value\n",
      "/tmp/ipykernel_826648/106421064.py:12: PerformanceWarning: DataFrame is highly fragmented.  This is usually the result of calling `frame.insert` many times, which has poor performance.  Consider joining all columns at once using pd.concat(axis=1) instead. To get a de-fragmented frame, use `newframe = frame.copy()`\n",
      "  submission_set[feature] = 0  # You can choose a more appropriate fill value\n"
     ]
    }
   ],
   "source": [
    "# Inspect the model's feature names (from the training phase)\n",
    "model_features = best_model.feature_name_  # Or check best_model.booster_.feature_name() for lightgbm\n",
    "\n",
    "# Print model's features and submission_set columns for debugging\n",
    "print(\"Model features:\", model_features)\n",
    "print(\"Submission set columns:\", submission_set.columns.tolist())\n",
    "\n",
    "# Ensure the submission_set has the same features as the model\n",
    "# Add missing columns with default values (e.g., 0 or the mean)\n",
    "for feature in model_features:\n",
    "    if feature not in submission_set.columns:\n",
    "        submission_set[feature] = 0  # You can choose a more appropriate fill value\n"
   ]
  },
  {
   "cell_type": "code",
   "execution_count": 15,
   "metadata": {},
   "outputs": [
    {
     "name": "stdout",
     "output_type": "stream",
     "text": [
      "Submission set dtypes after label encoding: flight_id               int64\n",
      "date                   object\n",
      "callsign               object\n",
      "adep                    int64\n",
      "name_adep              object\n",
      "                        ...  \n",
      "ades_geo_cluster_15     int64\n",
      "ades_geo_cluster_16     int64\n",
      "ades_geo_cluster_17     int64\n",
      "ades_geo_cluster_18     int64\n",
      "ades_geo_cluster_19     int64\n",
      "Length: 292, dtype: object\n",
      "   flight_id        date                          callsign  adep  \\\n",
      "0  248753821  2022-01-01  3b3de0f3ad0ee192513995c02f7bf7cf   331   \n",
      "1  248753822  2022-01-01  e06dd03d4a879ca37d9e18c1bd7cad16    11   \n",
      "2  248754498  2022-01-01  2d3b1c962c78c4ebeef11bcd51b9e94c   158   \n",
      "3  248757623  2022-01-01  81564432d3ee97c4bdf4cd8f006753dc    45   \n",
      "4  248763603  2022-01-01  84be079d7e660db105d91f600b4b3d59    74   \n",
      "\n",
      "                name_adep country_code_adep  ades        name_ades  \\\n",
      "0  Istanbul Sabiha Gokcen                TR   185             Lyon   \n",
      "1                Brussels                BE   138     New York JFK   \n",
      "2                   Miami                US    47  London Heathrow   \n",
      "3     Doncaster Sheffield                GB   161         Alicante   \n",
      "4                  Dublin                IE   185             Lyon   \n",
      "\n",
      "  country_code_ades  actual_offblock_time  ... ades_geo_cluster_10  \\\n",
      "0                FR  2022-01-01T09:44:00Z  ...                   0   \n",
      "1                US  2022-01-01T09:45:00Z  ...                   0   \n",
      "2                GB  2022-01-01T01:52:00Z  ...                   0   \n",
      "3                ES  2022-01-01T08:20:00Z  ...                   0   \n",
      "4                FR  2022-01-01T11:01:00Z  ...                   0   \n",
      "\n",
      "   ades_geo_cluster_11  ades_geo_cluster_12  ades_geo_cluster_13  \\\n",
      "0                    0                    0                    0   \n",
      "1                    0                    0                    0   \n",
      "2                    0                    0                    0   \n",
      "3                    0                    0                    0   \n",
      "4                    0                    0                    0   \n",
      "\n",
      "   ades_geo_cluster_14  ades_geo_cluster_15  ades_geo_cluster_16  \\\n",
      "0                    0                    0                    0   \n",
      "1                    0                    0                    0   \n",
      "2                    0                    0                    0   \n",
      "3                    0                    0                    0   \n",
      "4                    0                    0                    0   \n",
      "\n",
      "   ades_geo_cluster_17  ades_geo_cluster_18  ades_geo_cluster_19  \n",
      "0                    0                    0                    0  \n",
      "1                    0                    0                    0  \n",
      "2                    0                    0                    0  \n",
      "3                    0                    0                    0  \n",
      "4                    0                    0                    0  \n",
      "\n",
      "[5 rows x 292 columns]\n"
     ]
    }
   ],
   "source": [
    "from sklearn.preprocessing import LabelEncoder\n",
    "\n",
    "# List of categorical columns that need to be converted to numeric\n",
    "categorical_columns = ['adep', 'ades', 'aircraft_type', 'wtc', 'airline']\n",
    "\n",
    "# Initialize LabelEncoder\n",
    "label_encoders = {}\n",
    "\n",
    "# Convert each categorical column to numeric using LabelEncoder\n",
    "for col in categorical_columns:\n",
    "    label_encoders[col] = LabelEncoder()\n",
    "    submission_set[col] = label_encoders[col].fit_transform(submission_set[col].astype(str))\n",
    "\n",
    "# Print to check the converted types\n",
    "print(\"Submission set dtypes after label encoding:\", submission_set.dtypes)\n",
    "\n",
    "# Ensure the submission_set has the same features as the model\n",
    "submission_set_features = submission_set[model_features]\n",
    "\n",
    "# Predict using the aligned features\n",
    "submission_set['tow'] = best_model.predict(submission_set_features)\n",
    "\n",
    "# Inspect the result\n",
    "print(submission_set.head())\n"
   ]
  },
  {
   "cell_type": "code",
   "execution_count": 16,
   "metadata": {},
   "outputs": [],
   "source": [
    "\n",
    "from datetime import datetime\n",
    "import pytz\n",
    "\n",
    "saopaulo_tz = pytz.timezone('America/Sao_Paulo')\n",
    "\n",
    "timestamp = datetime.now(saopaulo_tz).strftime('%Y%m%d_%H%M%S')\n"
   ]
  },
  {
   "cell_type": "code",
   "execution_count": 17,
   "metadata": {},
   "outputs": [],
   "source": [
    "\n",
    "import os\n",
    "\n",
    "# Define the submissions directory and create it if it doesn't exist\n",
    "submissions_dir = 'submissions'\n",
    "os.makedirs(submissions_dir, exist_ok=True)\n",
    "\n",
    "# Save the submission with a timestamp in the filename\n",
    "submission_file = os.path.join(submissions_dir, f\"submission_{timestamp}.csv\")\n",
    "submission_set.to_csv(submission_file, index=False)"
   ]
  },
  {
   "cell_type": "code",
   "execution_count": null,
   "metadata": {},
   "outputs": [],
   "source": []
  },
  {
   "cell_type": "code",
   "execution_count": null,
   "metadata": {},
   "outputs": [],
   "source": []
  }
 ],
 "metadata": {
  "kernelspec": {
   "display_name": "Python 3",
   "language": "python",
   "name": "python3"
  },
  "language_info": {
   "codemirror_mode": {
    "name": "ipython",
    "version": 3
   },
   "file_extension": ".py",
   "mimetype": "text/x-python",
   "name": "python",
   "nbconvert_exporter": "python",
   "pygments_lexer": "ipython3",
   "version": "3.10.12"
  }
 },
 "nbformat": 4,
 "nbformat_minor": 2
}
