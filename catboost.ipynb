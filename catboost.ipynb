{
 "cells": [
  {
   "cell_type": "code",
   "execution_count": 50,
   "id": "d208adad-c114-4181-a0e8-201a1b5cdf0e",
   "metadata": {},
   "outputs": [],
   "source": [
    "import pandas as pd\n",
    "import numpy as np"
   ]
  },
  {
   "cell_type": "markdown",
   "id": "ed5768b5-ccc9-44e8-90f0-af97e53fedfe",
   "metadata": {},
   "source": [
    "## Preprocessamento dos dados"
   ]
  },
  {
   "cell_type": "code",
   "execution_count": 6,
   "id": "00e2070e-305f-4387-a763-2b9bbad31e1b",
   "metadata": {},
   "outputs": [
    {
     "data": {
      "text/html": [
       "<div>\n",
       "<style scoped>\n",
       "    .dataframe tbody tr th:only-of-type {\n",
       "        vertical-align: middle;\n",
       "    }\n",
       "\n",
       "    .dataframe tbody tr th {\n",
       "        vertical-align: top;\n",
       "    }\n",
       "\n",
       "    .dataframe thead th {\n",
       "        text-align: right;\n",
       "    }\n",
       "</style>\n",
       "<table border=\"1\" class=\"dataframe\">\n",
       "  <thead>\n",
       "    <tr style=\"text-align: right;\">\n",
       "      <th></th>\n",
       "      <th>adep</th>\n",
       "      <th>country_code_adep</th>\n",
       "      <th>ades</th>\n",
       "      <th>name_ades</th>\n",
       "      <th>country_code_ades</th>\n",
       "      <th>aircraft_type</th>\n",
       "      <th>wtc</th>\n",
       "      <th>airline</th>\n",
       "      <th>flight_duration</th>\n",
       "      <th>taxiout_time</th>\n",
       "      <th>flown_distance</th>\n",
       "      <th>tow</th>\n",
       "      <th>offblock_hour</th>\n",
       "      <th>offblock_day_of_week</th>\n",
       "      <th>offblock_month</th>\n",
       "    </tr>\n",
       "  </thead>\n",
       "  <tbody>\n",
       "    <tr>\n",
       "      <th>0</th>\n",
       "      <td>EGLL</td>\n",
       "      <td>GB</td>\n",
       "      <td>EICK</td>\n",
       "      <td>Cork</td>\n",
       "      <td>IE</td>\n",
       "      <td>A320</td>\n",
       "      <td>M</td>\n",
       "      <td>a73f82288988b79be490c6322f4c32ed</td>\n",
       "      <td>61</td>\n",
       "      <td>18</td>\n",
       "      <td>321</td>\n",
       "      <td>-0.464485</td>\n",
       "      <td>14</td>\n",
       "      <td>5</td>\n",
       "      <td>1</td>\n",
       "    </tr>\n",
       "    <tr>\n",
       "      <th>1</th>\n",
       "      <td>LEBL</td>\n",
       "      <td>ES</td>\n",
       "      <td>KMIA</td>\n",
       "      <td>Miami</td>\n",
       "      <td>US</td>\n",
       "      <td>B772</td>\n",
       "      <td>H</td>\n",
       "      <td>5543e4dc327359ffaf5b9c0e6faaf0e1</td>\n",
       "      <td>570</td>\n",
       "      <td>13</td>\n",
       "      <td>4193</td>\n",
       "      <td>1.989801</td>\n",
       "      <td>10</td>\n",
       "      <td>5</td>\n",
       "      <td>1</td>\n",
       "    </tr>\n",
       "    <tr>\n",
       "      <th>2</th>\n",
       "      <td>ESSA</td>\n",
       "      <td>SE</td>\n",
       "      <td>KORD</td>\n",
       "      <td>Chicago O'Hare</td>\n",
       "      <td>US</td>\n",
       "      <td>A333</td>\n",
       "      <td>H</td>\n",
       "      <td>8be5c854fd664bcb97fb543339f74770</td>\n",
       "      <td>554</td>\n",
       "      <td>15</td>\n",
       "      <td>3770</td>\n",
       "      <td>2.834012</td>\n",
       "      <td>10</td>\n",
       "      <td>5</td>\n",
       "      <td>1</td>\n",
       "    </tr>\n",
       "    <tr>\n",
       "      <th>3</th>\n",
       "      <td>LSZH</td>\n",
       "      <td>CH</td>\n",
       "      <td>KPHL</td>\n",
       "      <td>Philadelphia</td>\n",
       "      <td>US</td>\n",
       "      <td>B788</td>\n",
       "      <td>H</td>\n",
       "      <td>5543e4dc327359ffaf5b9c0e6faaf0e1</td>\n",
       "      <td>497</td>\n",
       "      <td>11</td>\n",
       "      <td>3607</td>\n",
       "      <td>1.467256</td>\n",
       "      <td>11</td>\n",
       "      <td>5</td>\n",
       "      <td>1</td>\n",
       "    </tr>\n",
       "    <tr>\n",
       "      <th>4</th>\n",
       "      <td>EIDW</td>\n",
       "      <td>IE</td>\n",
       "      <td>EGLL</td>\n",
       "      <td>London Heathrow</td>\n",
       "      <td>GB</td>\n",
       "      <td>A21N</td>\n",
       "      <td>M</td>\n",
       "      <td>a73f82288988b79be490c6322f4c32ed</td>\n",
       "      <td>55</td>\n",
       "      <td>14</td>\n",
       "      <td>305</td>\n",
       "      <td>-0.172087</td>\n",
       "      <td>13</td>\n",
       "      <td>5</td>\n",
       "      <td>1</td>\n",
       "    </tr>\n",
       "  </tbody>\n",
       "</table>\n",
       "</div>"
      ],
      "text/plain": [
       "   adep country_code_adep  ades        name_ades country_code_ades  \\\n",
       "0  EGLL                GB  EICK             Cork                IE   \n",
       "1  LEBL                ES  KMIA            Miami                US   \n",
       "2  ESSA                SE  KORD   Chicago O'Hare                US   \n",
       "3  LSZH                CH  KPHL     Philadelphia                US   \n",
       "4  EIDW                IE  EGLL  London Heathrow                GB   \n",
       "\n",
       "  aircraft_type wtc                           airline  flight_duration  \\\n",
       "0          A320   M  a73f82288988b79be490c6322f4c32ed               61   \n",
       "1          B772   H  5543e4dc327359ffaf5b9c0e6faaf0e1              570   \n",
       "2          A333   H  8be5c854fd664bcb97fb543339f74770              554   \n",
       "3          B788   H  5543e4dc327359ffaf5b9c0e6faaf0e1              497   \n",
       "4          A21N   M  a73f82288988b79be490c6322f4c32ed               55   \n",
       "\n",
       "   taxiout_time  flown_distance       tow  offblock_hour  \\\n",
       "0            18             321 -0.464485             14   \n",
       "1            13            4193  1.989801             10   \n",
       "2            15            3770  2.834012             10   \n",
       "3            11            3607  1.467256             11   \n",
       "4            14             305 -0.172087             13   \n",
       "\n",
       "   offblock_day_of_week  offblock_month  \n",
       "0                     5               1  \n",
       "1                     5               1  \n",
       "2                     5               1  \n",
       "3                     5               1  \n",
       "4                     5               1  "
      ]
     },
     "execution_count": 6,
     "metadata": {},
     "output_type": "execute_result"
    }
   ],
   "source": [
    "def load(file_path):\n",
    "  df = pd.read_csv(file_path)\n",
    "  m, s = df['tow'].mean(), df['tow'].std()\n",
    "  df['date'] = pd.to_datetime(df['date'])\n",
    "  df['actual_offblock_time'] = pd.to_datetime(df['actual_offblock_time'])\n",
    "  df['arrival_time'] = pd.to_datetime(df['arrival_time'])\n",
    "  df['offblock_hour'] = df['actual_offblock_time'].dt.round('h').dt.hour\n",
    "  df['offblock_day_of_week'] = df['actual_offblock_time'].dt.dayofweek\n",
    "  df['offblock_month'] = df['actual_offblock_time'].dt.month\n",
    "  df = df.drop(columns=['flight_id','name_adep', 'callsign', 'actual_offblock_time', 'arrival_time', 'date'])\n",
    "  df['tow'] = (df['tow']-m)/s\n",
    "  return df, m, s # Roubando aqui na média e desvio padrão do dataset inteiro :p\n",
    "\n",
    "df, mean, std = load('challenge_set.csv')\n",
    "df.head()"
   ]
  },
  {
   "cell_type": "markdown",
   "id": "19261bf2-b8d1-4cd6-a3c4-969c8bbaa16a",
   "metadata": {},
   "source": [
    "## Modelo (com pre-processamento auto)"
   ]
  },
  {
   "cell_type": "code",
   "execution_count": 11,
   "id": "3aba2a91-c843-4b85-82b0-96646f97658c",
   "metadata": {},
   "outputs": [
    {
     "name": "stdout",
     "output_type": "stream",
     "text": [
      "adep                    0\n",
      "country_code_adep       0\n",
      "ades                    0\n",
      "name_ades               0\n",
      "country_code_ades       0\n",
      "aircraft_type           0\n",
      "wtc                     0\n",
      "airline                 0\n",
      "flight_duration         0\n",
      "taxiout_time            0\n",
      "flown_distance          0\n",
      "tow                     0\n",
      "offblock_hour           0\n",
      "offblock_day_of_week    0\n",
      "offblock_month          0\n",
      "dtype: int64\n"
     ]
    }
   ],
   "source": [
    "null_value_stats = df.isnull().sum(axis=0)\n",
    "print(null_value_stats)"
   ]
  },
  {
   "cell_type": "code",
   "execution_count": 16,
   "id": "e043fa0a-27d7-44ae-adce-99c6dcbfe1aa",
   "metadata": {},
   "outputs": [],
   "source": [
    "X = df.drop('tow', axis=1)\n",
    "y = df.tow"
   ]
  },
  {
   "cell_type": "code",
   "execution_count": 17,
   "id": "bc319e50-2de5-4aee-90ee-7fb8e24adab4",
   "metadata": {},
   "outputs": [
    {
     "name": "stdout",
     "output_type": "stream",
     "text": [
      "adep                    object\n",
      "country_code_adep       object\n",
      "ades                    object\n",
      "name_ades               object\n",
      "country_code_ades       object\n",
      "aircraft_type           object\n",
      "wtc                     object\n",
      "airline                 object\n",
      "flight_duration          int64\n",
      "taxiout_time             int64\n",
      "flown_distance           int64\n",
      "offblock_hour            int32\n",
      "offblock_day_of_week     int32\n",
      "offblock_month           int32\n",
      "dtype: object\n"
     ]
    }
   ],
   "source": [
    "print(X.dtypes)"
   ]
  },
  {
   "cell_type": "code",
   "execution_count": null,
   "id": "f5baf139-1f24-4603-86b5-a56486932ef4",
   "metadata": {},
   "outputs": [],
   "source": [
    "categorical_features_indices = ["
   ]
  },
  {
   "cell_type": "code",
   "execution_count": 19,
   "id": "b942f73f-81ae-4db5-bb2f-c8d309d237d6",
   "metadata": {},
   "outputs": [],
   "source": [
    "from sklearn.model_selection import train_test_split\n",
    "\n",
    "X_train, X_val, y_train, y_val = train_test_split(X, y, train_size=0.75, random_state=42)"
   ]
  },
  {
   "cell_type": "code",
   "execution_count": 20,
   "id": "69fd85b7-45c4-4f24-a8ca-1734a1dd2a9b",
   "metadata": {},
   "outputs": [],
   "source": [
    "from catboost import CatBoostRegressor, Pool, metrics, cv\n",
    "from sklearn.metrics import r2_score, mean_squared_error"
   ]
  },
  {
   "cell_type": "code",
   "execution_count": 22,
   "id": "cda2f2d5-27bd-4577-ab01-b422862b9077",
   "metadata": {},
   "outputs": [],
   "source": [
    "model = CatBoostRegressor(\n",
    "    objective='RMSE',\n",
    "    random_seed=42,\n",
    "    logging_level='Silent'\n",
    ")"
   ]
  },
  {
   "cell_type": "code",
   "execution_count": 23,
   "id": "43fd922d-b68f-465f-87ec-77c514f39a57",
   "metadata": {},
   "outputs": [],
   "source": [
    "cat_names = ['adep', 'country_code_adep', 'ades', 'name_ades', 'country_code_ades',\n",
    "             'aircraft_type', 'wtc', 'airline', 'offblock_hour', 'offblock_day_of_week', 'offblock_month']"
   ]
  },
  {
   "cell_type": "code",
   "execution_count": 29,
   "id": "44445a95-7525-4642-8b12-f522c000bf2c",
   "metadata": {},
   "outputs": [
    {
     "data": {
      "application/vnd.jupyter.widget-view+json": {
       "model_id": "21589d5b149f4eb5a815a48e234550c7",
       "version_major": 2,
       "version_minor": 0
      },
      "text/plain": [
       "MetricVisualizer(layout=Layout(align_self='stretch', height='500px'))"
      ]
     },
     "metadata": {},
     "output_type": "display_data"
    },
    {
     "data": {
      "text/plain": [
       "<catboost.core.CatBoostRegressor at 0x79dfc99634f0>"
      ]
     },
     "execution_count": 29,
     "metadata": {},
     "output_type": "execute_result"
    }
   ],
   "source": [
    "model.fit(\n",
    "    X_train, y_train,\n",
    "    cat_features=cat_names,\n",
    "    eval_set=(X_val, y_val),\n",
    "    plot=True\n",
    ")"
   ]
  },
  {
   "cell_type": "code",
   "execution_count": 58,
   "id": "d25ce53c-279d-4e83-99d6-53b3ac5fc776",
   "metadata": {},
   "outputs": [],
   "source": [
    "params = {\n",
    "    'objective': 'RMSE',\n",
    "    'iterations': 500,\n",
    "    'learning_rate': 0.1,\n",
    "    'eval_metric': metrics.RMSE(),\n",
    "    'random_seed': 42,\n",
    "    'logging_level': 'Silent',\n",
    "    'use_best_model': False,\n",
    "}\n",
    "train_pool = Pool(X_train, y_train, cat_features=cat_names)\n",
    "val_pool = Pool(X_val, y_val, cat_features=cat_names)"
   ]
  },
  {
   "cell_type": "code",
   "execution_count": 59,
   "id": "4341f7ba-050b-4276-b9ab-14a7fe8eae47",
   "metadata": {},
   "outputs": [
    {
     "name": "stdout",
     "output_type": "stream",
     "text": [
      "Simple model validation MSE: 0.005519\n",
      "\n",
      "Best model validation MSE: 0.005519\n",
      "CPU times: user 10min 25s, sys: 18.8 s, total: 10min 43s\n",
      "Wall time: 48.8 s\n"
     ]
    }
   ],
   "source": [
    "%%time\n",
    "from sklearn.metrics import mean_squared_error\n",
    "\n",
    "model = CatBoostRegressor(**params)\n",
    "model.fit(train_pool, eval_set=val_pool)\n",
    "\n",
    "best_model_params = params.copy()\n",
    "best_model_params.update({\n",
    "    'use_best_model': True\n",
    "})\n",
    "best_model = CatBoostRegressor(**best_model_params)\n",
    "best_model.fit(train_pool, eval_set=val_pool)\n",
    "\n",
    "print('Simple model validation MSE: {:.4}'.format(\n",
    "    mean_squared_error(y_val, model.predict(X_val))\n",
    "))\n",
    "print('')\n",
    "\n",
    "print('Best model validation MSE: {:.4}'.format(\n",
    "    mean_squared_error(y_val, best_model.predict(X_val))\n",
    "))"
   ]
  },
  {
   "cell_type": "markdown",
   "id": "d37271a3-39bf-474f-9fbc-464a905b5527",
   "metadata": {},
   "source": [
    "## Training on GPU"
   ]
  },
  {
   "cell_type": "code",
   "execution_count": 62,
   "id": "05168d57-d6c3-4ca7-aa37-e57b1a13932b",
   "metadata": {},
   "outputs": [],
   "source": [
    "params = {\n",
    "    'objective': 'RMSE',\n",
    "    'iterations': 500,\n",
    "    'learning_rate': 0.1,\n",
    "    'eval_metric': metrics.RMSE(),\n",
    "    'random_seed': 42,\n",
    "    'logging_level': 'Silent',\n",
    "    'use_best_model': False,\n",
    "    'task_type': 'GPU',\n",
    "}\n",
    "train_pool = Pool(X_train, y_train, cat_features=cat_names)\n",
    "val_pool = Pool(X_val, y_val, cat_features=cat_names)"
   ]
  },
  {
   "cell_type": "code",
   "execution_count": 63,
   "id": "5fd9440a-0f47-4c4d-88a7-6e416ccc3717",
   "metadata": {},
   "outputs": [
    {
     "name": "stdout",
     "output_type": "stream",
     "text": [
      "Simple model validation MSE: 0.005413\n",
      "\n",
      "Best model validation MSE: 0.005411\n",
      "CPU times: user 29 s, sys: 2.26 s, total: 31.2 s\n",
      "Wall time: 19.9 s\n"
     ]
    }
   ],
   "source": [
    "%%time\n",
    "from sklearn.metrics import mean_squared_error\n",
    "\n",
    "model = CatBoostRegressor(**params)\n",
    "model.fit(train_pool, eval_set=val_pool)\n",
    "\n",
    "best_model_params = params.copy()\n",
    "best_model_params.update({\n",
    "    'use_best_model': True\n",
    "})\n",
    "best_model = CatBoostRegressor(**best_model_params)\n",
    "best_model.fit(train_pool, eval_set=val_pool)\n",
    "\n",
    "print('Simple model validation MSE: {:.4}'.format(\n",
    "    mean_squared_error(y_val, model.predict(X_val))\n",
    "))\n",
    "print('')\n",
    "\n",
    "print('Best model validation MSE: {:.4}'.format(\n",
    "    mean_squared_error(y_val, best_model.predict(X_val))\n",
    "))"
   ]
  },
  {
   "cell_type": "markdown",
   "id": "f082ce93-a26c-49cb-8812-ddac874ca2f5",
   "metadata": {},
   "source": [
    "## Features Importances"
   ]
  },
  {
   "cell_type": "code",
   "execution_count": 43,
   "id": "0182b915-33a4-4750-9b59-d3af1a98e02a",
   "metadata": {},
   "outputs": [
    {
     "name": "stdout",
     "output_type": "stream",
     "text": [
      "wtc: 66.614928652863\n",
      "aircraft_type: 13.755218568342919\n",
      "airline: 6.733638730285759\n",
      "flight_duration: 4.712739729990969\n",
      "flown_distance: 4.572024187483981\n",
      "country_code_ades: 0.9367501487493993\n",
      "taxiout_time: 0.9222817534439907\n",
      "country_code_adep: 0.678400556634356\n",
      "ades: 0.5288999522061736\n",
      "offblock_hour: 0.42518023304026265\n",
      "offblock_month: 0.09052470234923729\n",
      "offblock_day_of_week: 0.029412784609957485\n",
      "name_ades: 0.0\n",
      "adep: 0.0\n"
     ]
    }
   ],
   "source": [
    "model = CatBoostRegressor(**params).fit(train_pool)\n",
    "feature_importances = model.get_feature_importance(train_pool)\n",
    "feature_names = X_train.columns\n",
    "for score, name in sorted(zip(feature_importances, feature_names), reverse=True):\n",
    "    print('{}: {}'.format(name, score))"
   ]
  },
  {
   "cell_type": "markdown",
   "id": "56cc8f27-a45f-449f-a237-64077f802bb5",
   "metadata": {},
   "source": [
    "## Hyperparameter Tunning"
   ]
  },
  {
   "cell_type": "code",
   "execution_count": 47,
   "id": "09877478-7be3-4e07-b449-69d9d75f39bb",
   "metadata": {},
   "outputs": [
    {
     "name": "stdout",
     "output_type": "stream",
     "text": [
      "Requirement already satisfied: hyperopt in ./env/lib/python3.10/site-packages (0.2.7)\n",
      "Requirement already satisfied: numpy in ./env/lib/python3.10/site-packages (from hyperopt) (1.26.4)\n",
      "Requirement already satisfied: future in ./env/lib/python3.10/site-packages (from hyperopt) (1.0.0)\n",
      "Requirement already satisfied: cloudpickle in ./env/lib/python3.10/site-packages (from hyperopt) (3.0.0)\n",
      "Requirement already satisfied: py4j in ./env/lib/python3.10/site-packages (from hyperopt) (0.10.9.7)\n",
      "Requirement already satisfied: scipy in ./env/lib/python3.10/site-packages (from hyperopt) (1.14.1)\n",
      "Requirement already satisfied: networkx>=2.2 in ./env/lib/python3.10/site-packages (from hyperopt) (3.3)\n",
      "Requirement already satisfied: tqdm in ./env/lib/python3.10/site-packages (from hyperopt) (4.66.5)\n",
      "Requirement already satisfied: six in ./env/lib/python3.10/site-packages (from hyperopt) (1.16.0)\n"
     ]
    }
   ],
   "source": [
    "!pip install hyperopt"
   ]
  },
  {
   "cell_type": "code",
   "execution_count": 82,
   "id": "eb96b5f7-3f69-4be8-a6ac-9c508f0eaa3d",
   "metadata": {},
   "outputs": [],
   "source": [
    "import hyperopt\n",
    "\n",
    "def hyperopt_objective(params):\n",
    "    model = CatBoostRegressor(\n",
    "        l2_leaf_reg=int(params['l2_leaf_reg']),\n",
    "        learning_rate=params['learning_rate'],\n",
    "        iterations=1000,\n",
    "        eval_metric=metrics.RMSE(),\n",
    "        random_seed=42,\n",
    "        verbose=False,\n",
    "        objective=metrics.RMSE(),\n",
    "        task_type='GPU', # training on GPU\n",
    "        use_best_model=True,\n",
    "    )\n",
    "\n",
    "    cv_data = cv(\n",
    "        Pool(X, y, cat_features=cat_names),\n",
    "        model.get_params(),\n",
    "        logging_level='Silent',\n",
    "    )\n",
    "    best_rmse = np.max(cv_data['test-RMSE-mean'])\n",
    "\n",
    "    return best_rmse"
   ]
  },
  {
   "cell_type": "code",
   "execution_count": null,
   "id": "4852c4e9-d634-4cd7-ac25-b259a5a3b224",
   "metadata": {},
   "outputs": [
    {
     "name": "stdout",
     "output_type": "stream",
     "text": [
      " 76%|████▌ | 38/50 [1:00:03<19:45, 98.83s/trial, best loss: 0.22185545851167796]"
     ]
    }
   ],
   "source": [
    "params_space = {\n",
    "    'l2_leaf_reg': hyperopt.hp.qloguniform('l2_leaf_reg', 0, 4, 1),\n",
    "    'learning_rate': hyperopt.hp.uniform('learning_rate', 1e-3, 1.0),\n",
    "}\n",
    "\n",
    "trials = hyperopt.Trials()\n",
    "\n",
    "best = hyperopt.fmin(\n",
    "    hyperopt_objective,\n",
    "    space=params_space,\n",
    "    algo=hyperopt.tpe.suggest,\n",
    "    max_evals=50,\n",
    "    trials=trials,\n",
    "    rstate=np.random.default_rng(123)\n",
    ")\n",
    "\n",
    "print(best)"
   ]
  },
  {
   "cell_type": "code",
   "execution_count": null,
   "id": "a8dfb7f1-da80-48a2-a2b5-fd5580f7a8f2",
   "metadata": {},
   "outputs": [],
   "source": [
    "model = CatBoostRegressor(\n",
    "    l2_leaf_reg=int(best['l2_leaf_reg']),\n",
    "    learning_rate=best['learning_rate'],\n",
    "    iterations=2000,\n",
    "    eval_metric=metrics.RMSE(),\n",
    "    random_seed=42,\n",
    "    verbose=False,\n",
    "    objective=metrics.RMSE(),\n",
    "    task_type='GPU',\n",
    "    use_best_model=True,\n",
    ")\n",
    "cv_data = cv(Pool(X, y, cat_features=cat_names), model.get_params(), plot=True)"
   ]
  },
  {
   "cell_type": "code",
   "execution_count": null,
   "id": "d982febb-0c14-42b5-b165-34fa1e3b98dc",
   "metadata": {},
   "outputs": [],
   "source": [
    "model.fit(train_pool, eval_set=val_pool)\n",
    "print('Precise validation MSE score: {}'.format(np.max(cv_data['test-RMSE-mean'])))"
   ]
  },
  {
   "cell_type": "code",
   "execution_count": null,
   "id": "4a7e99c2-5d94-4621-a61c-0d9d31a75298",
   "metadata": {},
   "outputs": [],
   "source": [
    "import matplotlib.pyplot as plt\n",
    "\n",
    "plt.figure(figsize=(8, 2))\n",
    "preds_val = model.predict(X_val)\n",
    "diff_val = preds_val - y_val\n",
    "plt.hist(diff_val, bins=200)\n",
    "diff_val.mean(), diff_val.std()"
   ]
  },
  {
   "cell_type": "markdown",
   "id": "297a0598-b099-49f7-a562-fb1d0aa0e052",
   "metadata": {},
   "source": [
    "## Submissão"
   ]
  },
  {
   "cell_type": "code",
   "execution_count": 9,
   "id": "afe8ffb1-7939-49c8-b8a8-4191313d7493",
   "metadata": {
    "scrolled": true
   },
   "outputs": [],
   "source": [
    "dft0 = pd.read_csv('submission_set.csv')\n",
    "dft0['tow'] = valores\n",
    "dft0[['flight_id', 'tow']].to_csv('mlp.csv', index=False)"
   ]
  },
  {
   "cell_type": "code",
   "execution_count": 10,
   "id": "0db81ef7-c884-4886-8083-441d98df5340",
   "metadata": {},
   "outputs": [
    {
     "name": "stdout",
     "output_type": "stream",
     "text": [
      "flight_id,tow\n",
      "248753821,68915.91\n",
      "248753822,213001.84\n",
      "248754498,217307.66\n",
      "248757623,66044.07\n",
      "248763603,63943.03\n",
      "248755068,61226.816\n",
      "248754229,57157.43\n",
      "248754894,57718.785\n",
      "248754751,58821.902\n"
     ]
    }
   ],
   "source": [
    "!head mlp.csv"
   ]
  },
  {
   "cell_type": "code",
   "execution_count": 11,
   "id": "eed40eee-95ca-4851-b264-dcf880a08808",
   "metadata": {},
   "outputs": [],
   "source": [
    "# !mc cp ./mlp.csv dc24/submissions/team_tiny_rainbow_v2_7ec66710-1eb8-478e-8976-584c090b6373.csv"
   ]
  }
 ],
 "metadata": {
  "kernelspec": {
   "display_name": "Python 3 (ipykernel)",
   "language": "python",
   "name": "python3"
  },
  "language_info": {
   "codemirror_mode": {
    "name": "ipython",
    "version": 3
   },
   "file_extension": ".py",
   "mimetype": "text/x-python",
   "name": "python",
   "nbconvert_exporter": "python",
   "pygments_lexer": "ipython3",
   "version": "3.10.12"
  }
 },
 "nbformat": 4,
 "nbformat_minor": 5
}
