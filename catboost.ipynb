{
 "cells": [
  {
   "cell_type": "code",
   "execution_count": 1,
   "id": "d208adad-c114-4181-a0e8-201a1b5cdf0e",
   "metadata": {},
   "outputs": [],
   "source": [
    "import pandas as pd\n",
    "import numpy as np"
   ]
  },
  {
   "cell_type": "markdown",
   "id": "ed5768b5-ccc9-44e8-90f0-af97e53fedfe",
   "metadata": {},
   "source": [
    "## Preprocessamento dos dados"
   ]
  },
  {
   "cell_type": "code",
   "execution_count": 2,
   "id": "00e2070e-305f-4387-a763-2b9bbad31e1b",
   "metadata": {},
   "outputs": [
    {
     "data": {
      "text/html": [
       "<div>\n",
       "<style scoped>\n",
       "    .dataframe tbody tr th:only-of-type {\n",
       "        vertical-align: middle;\n",
       "    }\n",
       "\n",
       "    .dataframe tbody tr th {\n",
       "        vertical-align: top;\n",
       "    }\n",
       "\n",
       "    .dataframe thead th {\n",
       "        text-align: right;\n",
       "    }\n",
       "</style>\n",
       "<table border=\"1\" class=\"dataframe\">\n",
       "  <thead>\n",
       "    <tr style=\"text-align: right;\">\n",
       "      <th></th>\n",
       "      <th>adep</th>\n",
       "      <th>ades</th>\n",
       "      <th>aircraft_type</th>\n",
       "      <th>wtc</th>\n",
       "      <th>airline</th>\n",
       "      <th>taxiout_time</th>\n",
       "      <th>flown_distance</th>\n",
       "      <th>track_variation_ARR_100</th>\n",
       "      <th>track_variation_DEP_100</th>\n",
       "      <th>track_variation_ENR</th>\n",
       "      <th>...</th>\n",
       "      <th>Altitude_adep</th>\n",
       "      <th>Latitude_ades</th>\n",
       "      <th>Longitude_ades</th>\n",
       "      <th>Altitude_ades</th>\n",
       "      <th>altitude_difference</th>\n",
       "      <th>bearing</th>\n",
       "      <th>elevation_gradient</th>\n",
       "      <th>adep_geo_cluster</th>\n",
       "      <th>ades_geo_cluster</th>\n",
       "      <th>tow</th>\n",
       "    </tr>\n",
       "  </thead>\n",
       "  <tbody>\n",
       "    <tr>\n",
       "      <th>0</th>\n",
       "      <td>EGLL</td>\n",
       "      <td>EICK</td>\n",
       "      <td>A320</td>\n",
       "      <td>M</td>\n",
       "      <td>a73f82288988b79be490c6322f4c32ed</td>\n",
       "      <td>18.0</td>\n",
       "      <td>321</td>\n",
       "      <td>124.339907</td>\n",
       "      <td>39.704139</td>\n",
       "      <td>2.102124</td>\n",
       "      <td>...</td>\n",
       "      <td>25</td>\n",
       "      <td>51.843</td>\n",
       "      <td>-8.492</td>\n",
       "      <td>154</td>\n",
       "      <td>129</td>\n",
       "      <td>277.346455</td>\n",
       "      <td>0.232363</td>\n",
       "      <td>13</td>\n",
       "      <td>0</td>\n",
       "      <td>54748.000000</td>\n",
       "    </tr>\n",
       "    <tr>\n",
       "      <th>1</th>\n",
       "      <td>LEBL</td>\n",
       "      <td>KMIA</td>\n",
       "      <td>B772</td>\n",
       "      <td>H</td>\n",
       "      <td>5543e4dc327359ffaf5b9c0e6faaf0e1</td>\n",
       "      <td>13.0</td>\n",
       "      <td>4193</td>\n",
       "      <td>179.318890</td>\n",
       "      <td>8.910306</td>\n",
       "      <td>76.029652</td>\n",
       "      <td>...</td>\n",
       "      <td>4</td>\n",
       "      <td>25.793</td>\n",
       "      <td>-80.291</td>\n",
       "      <td>3</td>\n",
       "      <td>-1</td>\n",
       "      <td>285.530704</td>\n",
       "      <td>-0.000133</td>\n",
       "      <td>19</td>\n",
       "      <td>12</td>\n",
       "      <td>185441.000000</td>\n",
       "    </tr>\n",
       "    <tr>\n",
       "      <th>2</th>\n",
       "      <td>ESSA</td>\n",
       "      <td>KORD</td>\n",
       "      <td>A333</td>\n",
       "      <td>H</td>\n",
       "      <td>8be5c854fd664bcb97fb543339f74770</td>\n",
       "      <td>15.0</td>\n",
       "      <td>3770</td>\n",
       "      <td>179.638848</td>\n",
       "      <td>32.391881</td>\n",
       "      <td>85.115541</td>\n",
       "      <td>...</td>\n",
       "      <td>38</td>\n",
       "      <td>41.979</td>\n",
       "      <td>-87.904</td>\n",
       "      <td>204</td>\n",
       "      <td>166</td>\n",
       "      <td>305.643136</td>\n",
       "      <td>0.024214</td>\n",
       "      <td>8</td>\n",
       "      <td>15</td>\n",
       "      <td>230396.000000</td>\n",
       "    </tr>\n",
       "    <tr>\n",
       "      <th>3</th>\n",
       "      <td>LSZH</td>\n",
       "      <td>KPHL</td>\n",
       "      <td>B788</td>\n",
       "      <td>H</td>\n",
       "      <td>5543e4dc327359ffaf5b9c0e6faaf0e1</td>\n",
       "      <td>11.0</td>\n",
       "      <td>3607</td>\n",
       "      <td>0.208347</td>\n",
       "      <td>36.998783</td>\n",
       "      <td>101.712676</td>\n",
       "      <td>...</td>\n",
       "      <td>432</td>\n",
       "      <td>39.872</td>\n",
       "      <td>-75.241</td>\n",
       "      <td>12</td>\n",
       "      <td>-420</td>\n",
       "      <td>296.005451</td>\n",
       "      <td>-0.065017</td>\n",
       "      <td>2</td>\n",
       "      <td>1</td>\n",
       "      <td>157615.000000</td>\n",
       "    </tr>\n",
       "    <tr>\n",
       "      <th>4</th>\n",
       "      <td>EIDW</td>\n",
       "      <td>EGLL</td>\n",
       "      <td>A21N</td>\n",
       "      <td>M</td>\n",
       "      <td>a73f82288988b79be490c6322f4c32ed</td>\n",
       "      <td>14.0</td>\n",
       "      <td>305</td>\n",
       "      <td>74.373402</td>\n",
       "      <td>174.878799</td>\n",
       "      <td>29.204750</td>\n",
       "      <td>...</td>\n",
       "      <td>74</td>\n",
       "      <td>51.477</td>\n",
       "      <td>-0.461</td>\n",
       "      <td>25</td>\n",
       "      <td>-49</td>\n",
       "      <td>116.445141</td>\n",
       "      <td>-0.109150</td>\n",
       "      <td>0</td>\n",
       "      <td>13</td>\n",
       "      <td>70318.447226</td>\n",
       "    </tr>\n",
       "  </tbody>\n",
       "</table>\n",
       "<p>5 rows × 78 columns</p>\n",
       "</div>"
      ],
      "text/plain": [
       "   adep  ades aircraft_type wtc                           airline  \\\n",
       "0  EGLL  EICK          A320   M  a73f82288988b79be490c6322f4c32ed   \n",
       "1  LEBL  KMIA          B772   H  5543e4dc327359ffaf5b9c0e6faaf0e1   \n",
       "2  ESSA  KORD          A333   H  8be5c854fd664bcb97fb543339f74770   \n",
       "3  LSZH  KPHL          B788   H  5543e4dc327359ffaf5b9c0e6faaf0e1   \n",
       "4  EIDW  EGLL          A21N   M  a73f82288988b79be490c6322f4c32ed   \n",
       "\n",
       "   taxiout_time  flown_distance  track_variation_ARR_100  \\\n",
       "0          18.0             321               124.339907   \n",
       "1          13.0            4193               179.318890   \n",
       "2          15.0            3770               179.638848   \n",
       "3          11.0            3607                 0.208347   \n",
       "4          14.0             305                74.373402   \n",
       "\n",
       "   track_variation_DEP_100  track_variation_ENR  ...  Altitude_adep  \\\n",
       "0                39.704139             2.102124  ...             25   \n",
       "1                 8.910306            76.029652  ...              4   \n",
       "2                32.391881            85.115541  ...             38   \n",
       "3                36.998783           101.712676  ...            432   \n",
       "4               174.878799            29.204750  ...             74   \n",
       "\n",
       "   Latitude_ades  Longitude_ades  Altitude_ades  altitude_difference  \\\n",
       "0         51.843          -8.492            154                  129   \n",
       "1         25.793         -80.291              3                   -1   \n",
       "2         41.979         -87.904            204                  166   \n",
       "3         39.872         -75.241             12                 -420   \n",
       "4         51.477          -0.461             25                  -49   \n",
       "\n",
       "      bearing  elevation_gradient  adep_geo_cluster  ades_geo_cluster  \\\n",
       "0  277.346455            0.232363                13                 0   \n",
       "1  285.530704           -0.000133                19                12   \n",
       "2  305.643136            0.024214                 8                15   \n",
       "3  296.005451           -0.065017                 2                 1   \n",
       "4  116.445141           -0.109150                 0                13   \n",
       "\n",
       "             tow  \n",
       "0   54748.000000  \n",
       "1  185441.000000  \n",
       "2  230396.000000  \n",
       "3  157615.000000  \n",
       "4   70318.447226  \n",
       "\n",
       "[5 rows x 78 columns]"
      ]
     },
     "execution_count": 2,
     "metadata": {},
     "output_type": "execute_result"
    }
   ],
   "source": [
    "# Load the dataset after the exploratory data analysis\n",
    "# challenge_set_updated = pd.read_csv(\"./data/challenge_set_updated_v7.csv\")\n",
    "challenge_set_updated = pd.read_csv(\"./data/challenge_set_updated_v9_median.csv\")\n",
    "submission_set = pd.read_csv(\"./data/submission_set.csv\")\n",
    "# submission_set_updated = pd.read_csv(\"./data/submission_set_updated_v7.csv\")\n",
    "submission_set_updated = pd.read_csv(\"./data/submission_set_updated_v9_median.csv\")\n",
    "\n",
    "# If necessary change this part to test the model before the training process\n",
    "df = challenge_set_updated.iloc[:,:]\n",
    "# df = challenge_set_updated.sample(frac=0.001)\n",
    "\n",
    "# Separating features and target variable\n",
    "X = df.drop('tow', axis=1)\n",
    "y = df['tow']\n",
    "\n",
    "df.head()"
   ]
  },
  {
   "cell_type": "markdown",
   "id": "19261bf2-b8d1-4cd6-a3c4-969c8bbaa16a",
   "metadata": {},
   "source": [
    "## Modelo (com pre-processamento auto)"
   ]
  },
  {
   "cell_type": "code",
   "execution_count": 3,
   "id": "08f4c04c-eb88-4732-b4c2-920d713ddc9c",
   "metadata": {},
   "outputs": [],
   "source": [
    "cat_names = ['adep',\n",
    "             'ades',\n",
    "             'aircraft_type', \n",
    "             'wtc', \n",
    "             'airline',\n",
    "             'offblock_hour',\n",
    "             'offblock_minute', \n",
    "             'offblock_day_of_week',\n",
    "             'offblock_month',\n",
    "             'offblock_week_of_year', \n",
    "             'offblock_season', \n",
    "             'arrival_hour',\n",
    "             'arrival_minute',\n",
    "             'is_offblock_weekend',\n",
    "             'is_offblock_rush_hour',\n",
    "             'flight_duration_category',                       \n",
    "             'adep_region', \n",
    "             'ades_region', \n",
    "             'same_country_flight',\n",
    "             'same_region_flight',                        \n",
    "             'flight_direction',\n",
    "             'is_intercontinental',\n",
    "             'Manufacturer',\n",
    "             'Model_FAA',\n",
    "             'Physical_Class_Engine',\n",
    "             'FAA_Weight',\n",
    "             'adep_geo_cluster',\n",
    "             'ades_geo_cluster']"
   ]
  },
  {
   "cell_type": "code",
   "execution_count": 4,
   "id": "3aba2a91-c843-4b85-82b0-96646f97658c",
   "metadata": {},
   "outputs": [
    {
     "name": "stdout",
     "output_type": "stream",
     "text": [
      "adep                  0\n",
      "ades                  0\n",
      "aircraft_type         0\n",
      "wtc                   0\n",
      "airline               0\n",
      "                     ..\n",
      "bearing               0\n",
      "elevation_gradient    0\n",
      "adep_geo_cluster      0\n",
      "ades_geo_cluster      0\n",
      "tow                   0\n",
      "Length: 78, dtype: int64\n"
     ]
    }
   ],
   "source": [
    "null_value_stats = df.isnull().sum(axis=0)\n",
    "print(null_value_stats)"
   ]
  },
  {
   "cell_type": "code",
   "execution_count": 5,
   "id": "e043fa0a-27d7-44ae-adce-99c6dcbfe1aa",
   "metadata": {},
   "outputs": [],
   "source": [
    "X = df.drop('tow', axis=1)\n",
    "y = df.tow"
   ]
  },
  {
   "cell_type": "code",
   "execution_count": 6,
   "id": "90e35db3-54bd-46b4-b5b4-deffc73d41b4",
   "metadata": {},
   "outputs": [
    {
     "name": "stdout",
     "output_type": "stream",
     "text": [
      "['offblock_week_of_year', 'offblock_to_arrival_duration', 'normalized_taxi_ratio', 'MALW_kg']\n"
     ]
    }
   ],
   "source": [
    "import numpy as np\n",
    "import matplotlib.pyplot as plt\n",
    "import seaborn as sns\n",
    "\n",
    "# Create correlation matrix\n",
    "corr_matrix = X.corr(numeric_only=True).abs()\n",
    "\n",
    "# Select upper triangle of correlation matrix\n",
    "upper = corr_matrix.where(np.triu(np.ones(corr_matrix.shape), k=1).astype(bool))\n",
    "\n",
    "# Find features with correlation greater than 0.95\n",
    "to_drop = [column for column in upper.columns if any(upper[column] > 0.95)]\n",
    "print(to_drop)\n",
    "\n",
    "# corr_matrix['offblock_week_of_year'].sort_values(ascending=False).head()\n",
    "# corr_matrix['offblock_to_arrival_duration'].sort_values(ascending=False).head()\n",
    "# corr_matrix['normalized_taxi_ratio'].sort_values(ascending=False).head()\n",
    "# corr_matrix['MALW_kg'].sort_values(ascending=False).head()\n",
    "\n",
    "# Plotting the correlation matrix\n",
    "# plt.figure(figsize=(12, 8))\n",
    "# sns.heatmap(corr_matrix[to_drop, to_drop], annot=True, cmap='coolwarm', fmt=\".2f\")\n",
    "# plt.title('Correlation Matrix of Challenge Set')\n",
    "# plt.show()\n",
    "\n",
    "# # Drop features \n",
    "X.drop(['offblock_to_arrival_duration', 'normalized_taxi_ratio', 'MALW_kg'], axis=1, inplace=True)"
   ]
  },
  {
   "cell_type": "code",
   "execution_count": 7,
   "id": "bc319e50-2de5-4aee-90ee-7fb8e24adab4",
   "metadata": {},
   "outputs": [
    {
     "name": "stdout",
     "output_type": "stream",
     "text": [
      "adep                    object\n",
      "ades                    object\n",
      "aircraft_type           object\n",
      "wtc                     object\n",
      "airline                 object\n",
      "                        ...   \n",
      "altitude_difference      int64\n",
      "bearing                float64\n",
      "elevation_gradient     float64\n",
      "adep_geo_cluster         int64\n",
      "ades_geo_cluster         int64\n",
      "Length: 74, dtype: object\n"
     ]
    }
   ],
   "source": [
    "print(X.dtypes)"
   ]
  },
  {
   "cell_type": "code",
   "execution_count": 8,
   "id": "cda2f2d5-27bd-4577-ab01-b422862b9077",
   "metadata": {},
   "outputs": [],
   "source": [
    "from catboost import CatBoostRegressor, Pool, metrics\n",
    "from sklearn.model_selection import train_test_split\n",
    "\n",
    "X_train, X_val, y_train, y_val = train_test_split(X, y, test_size=0.2, random_state=42)\n",
    "\n",
    "params = {\n",
    "    'learning_rate': 0.05, \n",
    "    'reg_lambda': 69.07051080443502, \n",
    "    'subsample': 0.9831691718361609, \n",
    "    'random_strength': 16.348436502754343, \n",
    "    'depth': 11, \n",
    "    'colsample_bylevel': 0.9434202103659302, \n",
    "    'min_data_in_leaf': 2, \n",
    "    'leaf_estimation_iterations': 7\n",
    "    # 'reg_lambda': 15.865685490104017, \n",
    "    # 'random_strength': 33.58229075926253, \n",
    "    # 'depth': 11, \n",
    "    # 'min_data_in_leaf': 3, \n",
    "    # 'leaf_estimation_iterations': 15\n",
    "}\n",
    "train_pool = Pool(X_train, y_train, cat_features=cat_names)\n",
    "val_pool = Pool(X_val, y_val, cat_features=cat_names)\n",
    "\n",
    "model = CatBoostRegressor(\n",
    "    iterations=5000,\n",
    "    objective=metrics.RMSE(),\n",
    "    eval_metric=metrics.RMSE(),\n",
    "    random_seed=42,\n",
    "    verbose=False,\n",
    "    task_type='GPU',\n",
    "    use_best_model=True,\n",
    "    od_type='Iter',\n",
    "    od_wait=20,\n",
    "    **params,\n",
    ")"
   ]
  },
  {
   "cell_type": "code",
   "execution_count": 37,
   "id": "111e2801-5dd8-4d68-b768-fe0ded4ca6f2",
   "metadata": {},
   "outputs": [
    {
     "data": {
      "application/vnd.jupyter.widget-view+json": {
       "model_id": "0c469e17355d4372a438d727b36b79f9",
       "version_major": 2,
       "version_minor": 0
      },
      "text/plain": [
       "MetricVisualizer(layout=Layout(align_self='stretch', height='500px'))"
      ]
     },
     "metadata": {},
     "output_type": "display_data"
    },
    {
     "name": "stdout",
     "output_type": "stream",
     "text": [
      "Step #1 out of 5\n",
      "bestTest = 2946.519493\n",
      "bestIteration = 4766\n",
      "Shrink model to first 4767 iterations.\n",
      "Feature #19 eliminated\n",
      "Feature #13 eliminated\n",
      "Feature #7 eliminated\n",
      "Feature #43 eliminated\n",
      "Feature #59 eliminated\n",
      "Feature #31 eliminated\n",
      "Feature #25 eliminated\n",
      "Feature #22 eliminated\n",
      "Feature #20 eliminated\n",
      "Step #2 out of 5\n",
      "bestTest = 2937.187332\n",
      "bestIteration = 4999\n",
      "Feature #42 eliminated\n",
      "Feature #9 eliminated\n",
      "Feature #16 eliminated\n",
      "Feature #10 eliminated\n",
      "Feature #5 eliminated\n",
      "Feature #8 eliminated\n",
      "Feature #14 eliminated\n",
      "Step #3 out of 5\n",
      "bestTest = 2916.402706\n",
      "bestIteration = 4997\n",
      "Shrink model to first 4998 iterations.\n",
      "Feature #36 eliminated\n",
      "Feature #15 eliminated\n",
      "Feature #30 eliminated\n",
      "Feature #45 eliminated\n",
      "Feature #26 eliminated\n",
      "Feature #28 eliminated\n",
      "Feature #44 eliminated\n",
      "Step #4 out of 5\n",
      "bestTest = 2905.822482\n",
      "bestIteration = 3835\n",
      "Shrink model to first 3836 iterations.\n",
      "Feature #21 eliminated\n",
      "Feature #18 eliminated\n",
      "Feature #69 eliminated\n",
      "Feature #12 eliminated\n",
      "Feature #70 eliminated\n",
      "Feature #68 eliminated\n",
      "Step #5 out of 5\n",
      "bestTest = 2879.979467\n",
      "bestIteration = 4999\n",
      "Feature #29 eliminated\n",
      "Feature #64 eliminated\n",
      "Feature #33 eliminated\n",
      "Feature #32 eliminated\n",
      "Feature #49 eliminated\n",
      "Train final model\n",
      "bestTest = 2919.519826\n",
      "bestIteration = 4999\n"
     ]
    },
    {
     "data": {
      "application/vnd.plotly.v1+json": {
       "config": {
        "plotlyServerURL": "https://plot.ly"
       },
       "data": [
        {
         "line": {
          "color": "rgb(51,160,44)"
         },
         "mode": "lines+markers",
         "name": "",
         "text": [
          "",
          "wind_distance_ARR_100",
          "average_airspeed_ARR_100",
          "track_variation_ARR_100",
          "is_offblock_weekend",
          "Num_Engines",
          "flown_distance_ARR_100",
          "average_humidity_ARR_100",
          "average_temperature_ARR_100",
          "wind_distance_DEP_100",
          "arrival_minute",
          "track_variation_ENR",
          "groundspeed_ARR_100",
          "average_vertical_rate_ARR_100",
          "taxiout_time",
          "track_variation_DEP_100",
          "average_airspeed_DEP_100",
          "offblock_minute",
          "average_airspeed_ENR",
          "specific_energy_ENR",
          "taxi_ratio",
          "average_humidity_DEP_100",
          "specific_energy_ARR_100",
          "is_offblock_rush_hour",
          "wind_distance_ENR",
          "groundspeed_ENR",
          "altitude_difference",
          "average_vertical_rate_ENR",
          "bearing",
          "Altitude_ades",
          "specific_energy_DEP_100",
          "Longitude_adep",
          "flown_distance_ENR",
          "flown_distance_DEP_100",
          "cumulative_avg_speed"
         ],
         "type": "scatter",
         "x": [
          0,
          1,
          2,
          3,
          4,
          5,
          6,
          7,
          8,
          9,
          10,
          11,
          12,
          13,
          14,
          15,
          16,
          17,
          18,
          19,
          20,
          21,
          22,
          23,
          24,
          25,
          26,
          27,
          28,
          29,
          30,
          31,
          32,
          33,
          34
         ],
         "y": [
          2946.519191187826,
          2947.7054655295283,
          2947.505572504318,
          2947.118546503833,
          2946.5045277886375,
          2945.531405041233,
          2944.4942774213446,
          2942.3698634634693,
          2939.9298159512628,
          2937.1878598727226,
          2939.4505153780115,
          2937.967833270682,
          2935.2344573920914,
          2932.0708409124486,
          2927.6478052565662,
          2922.3088933857143,
          2916.4039511634924,
          2916.4273428702973,
          2915.6556615707314,
          2914.709465133141,
          2912.8818222468876,
          2910.9867212677404,
          2908.5600906938366,
          2905.8225587285915,
          2906.543668331273,
          2904.7259170335324,
          2900.0946284358943,
          2894.0884295699207,
          2887.655092276589,
          2879.980276986962,
          2884.374641649126,
          2889.430177888042,
          2897.891640685891,
          2907.1040133354854,
          2919.521957828519
         ]
        },
        {
         "marker": {
          "size": 10,
          "symbol": "square"
         },
         "mode": "markers",
         "name": "",
         "text": [
          "",
          "wind_distance_DEP_100",
          "average_airspeed_DEP_100",
          "is_offblock_rush_hour",
          "Altitude_ades",
          "cumulative_avg_speed"
         ],
         "type": "scatter",
         "x": [
          0,
          9,
          16,
          23,
          29,
          34
         ],
         "y": [
          2946.519191187826,
          2937.1878598727226,
          2916.4039511634924,
          2905.8225587285915,
          2879.980276986962,
          2919.521957828519
         ]
        },
        {
         "mode": "text",
         "name": "",
         "text": [
          "",
          "19",
          "13",
          "7",
          "43",
          "59",
          "31",
          "25",
          "22",
          "20",
          "42",
          "9",
          "16",
          "10",
          "5",
          "8",
          "14",
          "36",
          "15",
          "30",
          "45",
          "26",
          "28",
          "44",
          "21",
          "18",
          "69",
          "12",
          "70",
          "68",
          "29",
          "64",
          "33",
          "32",
          "49"
         ],
         "textfont": {
          "color": "rgb(51,160,44)",
          "family": "sans serif",
          "size": 18
         },
         "textposition": "bottom center",
         "type": "scatter",
         "visible": false,
         "x": [
          0,
          1,
          2,
          3,
          4,
          5,
          6,
          7,
          8,
          9,
          10,
          11,
          12,
          13,
          14,
          15,
          16,
          17,
          18,
          19,
          20,
          21,
          22,
          23,
          24,
          25,
          26,
          27,
          28,
          29,
          30,
          31,
          32,
          33,
          34
         ],
         "y": [
          2946.519191187826,
          2947.7054655295283,
          2947.505572504318,
          2947.118546503833,
          2946.5045277886375,
          2945.531405041233,
          2944.4942774213446,
          2942.3698634634693,
          2939.9298159512628,
          2937.1878598727226,
          2939.4505153780115,
          2937.967833270682,
          2935.2344573920914,
          2932.0708409124486,
          2927.6478052565662,
          2922.3088933857143,
          2916.4039511634924,
          2916.4273428702973,
          2915.6556615707314,
          2914.709465133141,
          2912.8818222468876,
          2910.9867212677404,
          2908.5600906938366,
          2905.8225587285915,
          2906.543668331273,
          2904.7259170335324,
          2900.0946284358943,
          2894.0884295699207,
          2887.655092276589,
          2879.980276986962,
          2884.374641649126,
          2889.430177888042,
          2897.891640685891,
          2907.1040133354854,
          2919.521957828519
         ]
        },
        {
         "mode": "text",
         "name": "",
         "text": [
          "",
          "wind_distance_ARR_100",
          "average_airspeed_ARR_100",
          "track_variation_ARR_100",
          "is_offblock_weekend",
          "Num_Engines",
          "flown_distance_ARR_100",
          "average_humidity_ARR_100",
          "average_temperature_ARR_100",
          "wind_distance_DEP_100",
          "arrival_minute",
          "track_variation_ENR",
          "groundspeed_ARR_100",
          "average_vertical_rate_ARR_100",
          "taxiout_time",
          "track_variation_DEP_100",
          "average_airspeed_DEP_100",
          "offblock_minute",
          "average_airspeed_ENR",
          "specific_energy_ENR",
          "taxi_ratio",
          "average_humidity_DEP_100",
          "specific_energy_ARR_100",
          "is_offblock_rush_hour",
          "wind_distance_ENR",
          "groundspeed_ENR",
          "altitude_difference",
          "average_vertical_rate_ENR",
          "bearing",
          "Altitude_ades",
          "specific_energy_DEP_100",
          "Longitude_adep",
          "flown_distance_ENR",
          "flown_distance_DEP_100",
          "cumulative_avg_speed"
         ],
         "textfont": {
          "color": "rgb(51,160,44)",
          "family": "sans serif",
          "size": 18
         },
         "textposition": "bottom center",
         "type": "scatter",
         "visible": false,
         "x": [
          0,
          1,
          2,
          3,
          4,
          5,
          6,
          7,
          8,
          9,
          10,
          11,
          12,
          13,
          14,
          15,
          16,
          17,
          18,
          19,
          20,
          21,
          22,
          23,
          24,
          25,
          26,
          27,
          28,
          29,
          30,
          31,
          32,
          33,
          34
         ],
         "y": [
          2946.519191187826,
          2947.7054655295283,
          2947.505572504318,
          2947.118546503833,
          2946.5045277886375,
          2945.531405041233,
          2944.4942774213446,
          2942.3698634634693,
          2939.9298159512628,
          2937.1878598727226,
          2939.4505153780115,
          2937.967833270682,
          2935.2344573920914,
          2932.0708409124486,
          2927.6478052565662,
          2922.3088933857143,
          2916.4039511634924,
          2916.4273428702973,
          2915.6556615707314,
          2914.709465133141,
          2912.8818222468876,
          2910.9867212677404,
          2908.5600906938366,
          2905.8225587285915,
          2906.543668331273,
          2904.7259170335324,
          2900.0946284358943,
          2894.0884295699207,
          2887.655092276589,
          2879.980276986962,
          2884.374641649126,
          2889.430177888042,
          2897.891640685891,
          2907.1040133354854,
          2919.521957828519
         ]
        }
       ],
       "layout": {
        "autosize": true,
        "showlegend": false,
        "template": {
         "data": {
          "bar": [
           {
            "error_x": {
             "color": "#2a3f5f"
            },
            "error_y": {
             "color": "#2a3f5f"
            },
            "marker": {
             "line": {
              "color": "#E5ECF6",
              "width": 0.5
             },
             "pattern": {
              "fillmode": "overlay",
              "size": 10,
              "solidity": 0.2
             }
            },
            "type": "bar"
           }
          ],
          "barpolar": [
           {
            "marker": {
             "line": {
              "color": "#E5ECF6",
              "width": 0.5
             },
             "pattern": {
              "fillmode": "overlay",
              "size": 10,
              "solidity": 0.2
             }
            },
            "type": "barpolar"
           }
          ],
          "carpet": [
           {
            "aaxis": {
             "endlinecolor": "#2a3f5f",
             "gridcolor": "white",
             "linecolor": "white",
             "minorgridcolor": "white",
             "startlinecolor": "#2a3f5f"
            },
            "baxis": {
             "endlinecolor": "#2a3f5f",
             "gridcolor": "white",
             "linecolor": "white",
             "minorgridcolor": "white",
             "startlinecolor": "#2a3f5f"
            },
            "type": "carpet"
           }
          ],
          "choropleth": [
           {
            "colorbar": {
             "outlinewidth": 0,
             "ticks": ""
            },
            "type": "choropleth"
           }
          ],
          "contour": [
           {
            "colorbar": {
             "outlinewidth": 0,
             "ticks": ""
            },
            "colorscale": [
             [
              0,
              "#0d0887"
             ],
             [
              0.1111111111111111,
              "#46039f"
             ],
             [
              0.2222222222222222,
              "#7201a8"
             ],
             [
              0.3333333333333333,
              "#9c179e"
             ],
             [
              0.4444444444444444,
              "#bd3786"
             ],
             [
              0.5555555555555556,
              "#d8576b"
             ],
             [
              0.6666666666666666,
              "#ed7953"
             ],
             [
              0.7777777777777778,
              "#fb9f3a"
             ],
             [
              0.8888888888888888,
              "#fdca26"
             ],
             [
              1,
              "#f0f921"
             ]
            ],
            "type": "contour"
           }
          ],
          "contourcarpet": [
           {
            "colorbar": {
             "outlinewidth": 0,
             "ticks": ""
            },
            "type": "contourcarpet"
           }
          ],
          "heatmap": [
           {
            "colorbar": {
             "outlinewidth": 0,
             "ticks": ""
            },
            "colorscale": [
             [
              0,
              "#0d0887"
             ],
             [
              0.1111111111111111,
              "#46039f"
             ],
             [
              0.2222222222222222,
              "#7201a8"
             ],
             [
              0.3333333333333333,
              "#9c179e"
             ],
             [
              0.4444444444444444,
              "#bd3786"
             ],
             [
              0.5555555555555556,
              "#d8576b"
             ],
             [
              0.6666666666666666,
              "#ed7953"
             ],
             [
              0.7777777777777778,
              "#fb9f3a"
             ],
             [
              0.8888888888888888,
              "#fdca26"
             ],
             [
              1,
              "#f0f921"
             ]
            ],
            "type": "heatmap"
           }
          ],
          "heatmapgl": [
           {
            "colorbar": {
             "outlinewidth": 0,
             "ticks": ""
            },
            "colorscale": [
             [
              0,
              "#0d0887"
             ],
             [
              0.1111111111111111,
              "#46039f"
             ],
             [
              0.2222222222222222,
              "#7201a8"
             ],
             [
              0.3333333333333333,
              "#9c179e"
             ],
             [
              0.4444444444444444,
              "#bd3786"
             ],
             [
              0.5555555555555556,
              "#d8576b"
             ],
             [
              0.6666666666666666,
              "#ed7953"
             ],
             [
              0.7777777777777778,
              "#fb9f3a"
             ],
             [
              0.8888888888888888,
              "#fdca26"
             ],
             [
              1,
              "#f0f921"
             ]
            ],
            "type": "heatmapgl"
           }
          ],
          "histogram": [
           {
            "marker": {
             "pattern": {
              "fillmode": "overlay",
              "size": 10,
              "solidity": 0.2
             }
            },
            "type": "histogram"
           }
          ],
          "histogram2d": [
           {
            "colorbar": {
             "outlinewidth": 0,
             "ticks": ""
            },
            "colorscale": [
             [
              0,
              "#0d0887"
             ],
             [
              0.1111111111111111,
              "#46039f"
             ],
             [
              0.2222222222222222,
              "#7201a8"
             ],
             [
              0.3333333333333333,
              "#9c179e"
             ],
             [
              0.4444444444444444,
              "#bd3786"
             ],
             [
              0.5555555555555556,
              "#d8576b"
             ],
             [
              0.6666666666666666,
              "#ed7953"
             ],
             [
              0.7777777777777778,
              "#fb9f3a"
             ],
             [
              0.8888888888888888,
              "#fdca26"
             ],
             [
              1,
              "#f0f921"
             ]
            ],
            "type": "histogram2d"
           }
          ],
          "histogram2dcontour": [
           {
            "colorbar": {
             "outlinewidth": 0,
             "ticks": ""
            },
            "colorscale": [
             [
              0,
              "#0d0887"
             ],
             [
              0.1111111111111111,
              "#46039f"
             ],
             [
              0.2222222222222222,
              "#7201a8"
             ],
             [
              0.3333333333333333,
              "#9c179e"
             ],
             [
              0.4444444444444444,
              "#bd3786"
             ],
             [
              0.5555555555555556,
              "#d8576b"
             ],
             [
              0.6666666666666666,
              "#ed7953"
             ],
             [
              0.7777777777777778,
              "#fb9f3a"
             ],
             [
              0.8888888888888888,
              "#fdca26"
             ],
             [
              1,
              "#f0f921"
             ]
            ],
            "type": "histogram2dcontour"
           }
          ],
          "mesh3d": [
           {
            "colorbar": {
             "outlinewidth": 0,
             "ticks": ""
            },
            "type": "mesh3d"
           }
          ],
          "parcoords": [
           {
            "line": {
             "colorbar": {
              "outlinewidth": 0,
              "ticks": ""
             }
            },
            "type": "parcoords"
           }
          ],
          "pie": [
           {
            "automargin": true,
            "type": "pie"
           }
          ],
          "scatter": [
           {
            "fillpattern": {
             "fillmode": "overlay",
             "size": 10,
             "solidity": 0.2
            },
            "type": "scatter"
           }
          ],
          "scatter3d": [
           {
            "line": {
             "colorbar": {
              "outlinewidth": 0,
              "ticks": ""
             }
            },
            "marker": {
             "colorbar": {
              "outlinewidth": 0,
              "ticks": ""
             }
            },
            "type": "scatter3d"
           }
          ],
          "scattercarpet": [
           {
            "marker": {
             "colorbar": {
              "outlinewidth": 0,
              "ticks": ""
             }
            },
            "type": "scattercarpet"
           }
          ],
          "scattergeo": [
           {
            "marker": {
             "colorbar": {
              "outlinewidth": 0,
              "ticks": ""
             }
            },
            "type": "scattergeo"
           }
          ],
          "scattergl": [
           {
            "marker": {
             "colorbar": {
              "outlinewidth": 0,
              "ticks": ""
             }
            },
            "type": "scattergl"
           }
          ],
          "scattermapbox": [
           {
            "marker": {
             "colorbar": {
              "outlinewidth": 0,
              "ticks": ""
             }
            },
            "type": "scattermapbox"
           }
          ],
          "scatterpolar": [
           {
            "marker": {
             "colorbar": {
              "outlinewidth": 0,
              "ticks": ""
             }
            },
            "type": "scatterpolar"
           }
          ],
          "scatterpolargl": [
           {
            "marker": {
             "colorbar": {
              "outlinewidth": 0,
              "ticks": ""
             }
            },
            "type": "scatterpolargl"
           }
          ],
          "scatterternary": [
           {
            "marker": {
             "colorbar": {
              "outlinewidth": 0,
              "ticks": ""
             }
            },
            "type": "scatterternary"
           }
          ],
          "surface": [
           {
            "colorbar": {
             "outlinewidth": 0,
             "ticks": ""
            },
            "colorscale": [
             [
              0,
              "#0d0887"
             ],
             [
              0.1111111111111111,
              "#46039f"
             ],
             [
              0.2222222222222222,
              "#7201a8"
             ],
             [
              0.3333333333333333,
              "#9c179e"
             ],
             [
              0.4444444444444444,
              "#bd3786"
             ],
             [
              0.5555555555555556,
              "#d8576b"
             ],
             [
              0.6666666666666666,
              "#ed7953"
             ],
             [
              0.7777777777777778,
              "#fb9f3a"
             ],
             [
              0.8888888888888888,
              "#fdca26"
             ],
             [
              1,
              "#f0f921"
             ]
            ],
            "type": "surface"
           }
          ],
          "table": [
           {
            "cells": {
             "fill": {
              "color": "#EBF0F8"
             },
             "line": {
              "color": "white"
             }
            },
            "header": {
             "fill": {
              "color": "#C8D4E3"
             },
             "line": {
              "color": "white"
             }
            },
            "type": "table"
           }
          ]
         },
         "layout": {
          "annotationdefaults": {
           "arrowcolor": "#2a3f5f",
           "arrowhead": 0,
           "arrowwidth": 1
          },
          "autotypenumbers": "strict",
          "coloraxis": {
           "colorbar": {
            "outlinewidth": 0,
            "ticks": ""
           }
          },
          "colorscale": {
           "diverging": [
            [
             0,
             "#8e0152"
            ],
            [
             0.1,
             "#c51b7d"
            ],
            [
             0.2,
             "#de77ae"
            ],
            [
             0.3,
             "#f1b6da"
            ],
            [
             0.4,
             "#fde0ef"
            ],
            [
             0.5,
             "#f7f7f7"
            ],
            [
             0.6,
             "#e6f5d0"
            ],
            [
             0.7,
             "#b8e186"
            ],
            [
             0.8,
             "#7fbc41"
            ],
            [
             0.9,
             "#4d9221"
            ],
            [
             1,
             "#276419"
            ]
           ],
           "sequential": [
            [
             0,
             "#0d0887"
            ],
            [
             0.1111111111111111,
             "#46039f"
            ],
            [
             0.2222222222222222,
             "#7201a8"
            ],
            [
             0.3333333333333333,
             "#9c179e"
            ],
            [
             0.4444444444444444,
             "#bd3786"
            ],
            [
             0.5555555555555556,
             "#d8576b"
            ],
            [
             0.6666666666666666,
             "#ed7953"
            ],
            [
             0.7777777777777778,
             "#fb9f3a"
            ],
            [
             0.8888888888888888,
             "#fdca26"
            ],
            [
             1,
             "#f0f921"
            ]
           ],
           "sequentialminus": [
            [
             0,
             "#0d0887"
            ],
            [
             0.1111111111111111,
             "#46039f"
            ],
            [
             0.2222222222222222,
             "#7201a8"
            ],
            [
             0.3333333333333333,
             "#9c179e"
            ],
            [
             0.4444444444444444,
             "#bd3786"
            ],
            [
             0.5555555555555556,
             "#d8576b"
            ],
            [
             0.6666666666666666,
             "#ed7953"
            ],
            [
             0.7777777777777778,
             "#fb9f3a"
            ],
            [
             0.8888888888888888,
             "#fdca26"
            ],
            [
             1,
             "#f0f921"
            ]
           ]
          },
          "colorway": [
           "#636efa",
           "#EF553B",
           "#00cc96",
           "#ab63fa",
           "#FFA15A",
           "#19d3f3",
           "#FF6692",
           "#B6E880",
           "#FF97FF",
           "#FECB52"
          ],
          "font": {
           "color": "#2a3f5f"
          },
          "geo": {
           "bgcolor": "white",
           "lakecolor": "white",
           "landcolor": "#E5ECF6",
           "showlakes": true,
           "showland": true,
           "subunitcolor": "white"
          },
          "hoverlabel": {
           "align": "left"
          },
          "hovermode": "closest",
          "mapbox": {
           "style": "light"
          },
          "paper_bgcolor": "white",
          "plot_bgcolor": "#E5ECF6",
          "polar": {
           "angularaxis": {
            "gridcolor": "white",
            "linecolor": "white",
            "ticks": ""
           },
           "bgcolor": "#E5ECF6",
           "radialaxis": {
            "gridcolor": "white",
            "linecolor": "white",
            "ticks": ""
           }
          },
          "scene": {
           "xaxis": {
            "backgroundcolor": "#E5ECF6",
            "gridcolor": "white",
            "gridwidth": 2,
            "linecolor": "white",
            "showbackground": true,
            "ticks": "",
            "zerolinecolor": "white"
           },
           "yaxis": {
            "backgroundcolor": "#E5ECF6",
            "gridcolor": "white",
            "gridwidth": 2,
            "linecolor": "white",
            "showbackground": true,
            "ticks": "",
            "zerolinecolor": "white"
           },
           "zaxis": {
            "backgroundcolor": "#E5ECF6",
            "gridcolor": "white",
            "gridwidth": 2,
            "linecolor": "white",
            "showbackground": true,
            "ticks": "",
            "zerolinecolor": "white"
           }
          },
          "shapedefaults": {
           "line": {
            "color": "#2a3f5f"
           }
          },
          "ternary": {
           "aaxis": {
            "gridcolor": "white",
            "linecolor": "white",
            "ticks": ""
           },
           "baxis": {
            "gridcolor": "white",
            "linecolor": "white",
            "ticks": ""
           },
           "bgcolor": "#E5ECF6",
           "caxis": {
            "gridcolor": "white",
            "linecolor": "white",
            "ticks": ""
           }
          },
          "title": {
           "x": 0.05
          },
          "xaxis": {
           "automargin": true,
           "gridcolor": "white",
           "linecolor": "white",
           "ticks": "",
           "title": {
            "standoff": 15
           },
           "zerolinecolor": "white",
           "zerolinewidth": 2
          },
          "yaxis": {
           "automargin": true,
           "gridcolor": "white",
           "linecolor": "white",
           "ticks": "",
           "title": {
            "standoff": 15
           },
           "zerolinecolor": "white",
           "zerolinewidth": 2
          }
         }
        },
        "title": {
         "text": "Loss by eliminated features"
        },
        "updatemenus": [
         {
          "active": 0,
          "buttons": [
           {
            "args": [
             {
              "visible": [
               true,
               true,
               false,
               false
              ]
             }
            ],
            "label": "Hide features",
            "method": "update"
           },
           {
            "args": [
             {
              "visible": [
               true,
               true,
               true,
               false
              ]
             }
            ],
            "label": "Show indices",
            "method": "update"
           },
           {
            "args": [
             {
              "visible": [
               true,
               true,
               false,
               true
              ]
             }
            ],
            "label": "Show names",
            "method": "update"
           }
          ],
          "pad": {
           "r": 10,
           "t": 10
          },
          "showactive": true,
          "x": -0.25,
          "xanchor": "left",
          "y": 1.03,
          "yanchor": "top"
         }
        ],
        "xaxis": {
         "autorange": true,
         "gridcolor": "rgb(255,255,255)",
         "range": [
          -2.218009478672986,
          36.21800947867298
         ],
         "showgrid": true,
         "showline": false,
         "showticklabels": true,
         "tickcolor": "rgb(127,127,127)",
         "ticks": "outside",
         "title": {
          "text": "number of removed features"
         },
         "type": "linear",
         "zeroline": false
        },
        "yaxis": {
         "autorange": true,
         "gridcolor": "rgb(255,255,255)",
         "range": [
          2873.1854801101586,
          2953.386361278987
         ],
         "showgrid": true,
         "showline": false,
         "showticklabels": true,
         "tickcolor": "rgb(127,127,127)",
         "tickfont": {
          "color": "rgb(51,160,44)"
         },
         "ticks": "outside",
         "title": {
          "font": {
           "color": "rgb(51,160,44)"
          },
          "text": "loss value"
         },
         "type": "linear",
         "zeroline": false
        }
       }
      },
      "image/png": "[encoded data removed]",
      "text/html": [
       "<div>                            <div id=\"33e18adb-f8e2-4ea9-8692-d2a3285bab2c\" class=\"plotly-graph-div\" style=\"height:525px; width:100%;\"></div>            <script type=\"text/javascript\">                require([\"plotly\"], function(Plotly) {                    window.PLOTLYENV=window.PLOTLYENV || {};                                    if (document.getElementById(\"33e18adb-f8e2-4ea9-8692-d2a3285bab2c\")) {                    Plotly.newPlot(                        \"33e18adb-f8e2-4ea9-8692-d2a3285bab2c\",                        [{\"line\":{\"color\":\"rgb(51,160,44)\"},\"mode\":\"lines+markers\",\"name\":\"\",\"text\":[\"\",\"wind_distance_ARR_100\",\"average_airspeed_ARR_100\",\"track_variation_ARR_100\",\"is_offblock_weekend\",\"Num_Engines\",\"flown_distance_ARR_100\",\"average_humidity_ARR_100\",\"average_temperature_ARR_100\",\"wind_distance_DEP_100\",\"arrival_minute\",\"track_variation_ENR\",\"groundspeed_ARR_100\",\"average_vertical_rate_ARR_100\",\"taxiout_time\",\"track_variation_DEP_100\",\"average_airspeed_DEP_100\",\"offblock_minute\",\"average_airspeed_ENR\",\"specific_energy_ENR\",\"taxi_ratio\",\"average_humidity_DEP_100\",\"specific_energy_ARR_100\",\"is_offblock_rush_hour\",\"wind_distance_ENR\",\"groundspeed_ENR\",\"altitude_difference\",\"average_vertical_rate_ENR\",\"bearing\",\"Altitude_ades\",\"specific_energy_DEP_100\",\"Longitude_adep\",\"flown_distance_ENR\",\"flown_distance_DEP_100\",\"cumulative_avg_speed\"],\"x\":[0,1,2,3,4,5,6,7,8,9,10,11,12,13,14,15,16,17,18,19,20,21,22,23,24,25,26,27,28,29,30,31,32,33,34],\"y\":[2946.519191187826,2947.7054655295283,2947.505572504318,2947.118546503833,2946.5045277886375,2945.531405041233,2944.4942774213446,2942.3698634634693,2939.9298159512628,2937.1878598727226,2939.4505153780115,2937.967833270682,2935.2344573920914,2932.0708409124486,2927.6478052565662,2922.3088933857143,2916.4039511634924,2916.4273428702973,2915.6556615707314,2914.709465133141,2912.8818222468876,2910.9867212677404,2908.5600906938366,2905.8225587285915,2906.543668331273,2904.7259170335324,2900.0946284358943,2894.0884295699207,2887.655092276589,2879.980276986962,2884.374641649126,2889.430177888042,2897.891640685891,2907.1040133354854,2919.521957828519],\"type\":\"scatter\"},{\"marker\":{\"size\":10,\"symbol\":\"square\"},\"mode\":\"markers\",\"name\":\"\",\"text\":[\"\",\"wind_distance_DEP_100\",\"average_airspeed_DEP_100\",\"is_offblock_rush_hour\",\"Altitude_ades\",\"cumulative_avg_speed\"],\"x\":[0,9,16,23,29,34],\"y\":[2946.519191187826,2937.1878598727226,2916.4039511634924,2905.8225587285915,2879.980276986962,2919.521957828519],\"type\":\"scatter\"},{\"mode\":\"text\",\"name\":\"\",\"text\":[\"\",\"19\",\"13\",\"7\",\"43\",\"59\",\"31\",\"25\",\"22\",\"20\",\"42\",\"9\",\"16\",\"10\",\"5\",\"8\",\"14\",\"36\",\"15\",\"30\",\"45\",\"26\",\"28\",\"44\",\"21\",\"18\",\"69\",\"12\",\"70\",\"68\",\"29\",\"64\",\"33\",\"32\",\"49\"],\"textfont\":{\"color\":\"rgb(51,160,44)\",\"family\":\"sans serif\",\"size\":18},\"textposition\":\"bottom center\",\"visible\":false,\"x\":[0,1,2,3,4,5,6,7,8,9,10,11,12,13,14,15,16,17,18,19,20,21,22,23,24,25,26,27,28,29,30,31,32,33,34],\"y\":[2946.519191187826,2947.7054655295283,2947.505572504318,2947.118546503833,2946.5045277886375,2945.531405041233,2944.4942774213446,2942.3698634634693,2939.9298159512628,2937.1878598727226,2939.4505153780115,2937.967833270682,2935.2344573920914,2932.0708409124486,2927.6478052565662,2922.3088933857143,2916.4039511634924,2916.4273428702973,2915.6556615707314,2914.709465133141,2912.8818222468876,2910.9867212677404,2908.5600906938366,2905.8225587285915,2906.543668331273,2904.7259170335324,2900.0946284358943,2894.0884295699207,2887.655092276589,2879.980276986962,2884.374641649126,2889.430177888042,2897.891640685891,2907.1040133354854,2919.521957828519],\"type\":\"scatter\"},{\"mode\":\"text\",\"name\":\"\",\"text\":[\"\",\"wind_distance_ARR_100\",\"average_airspeed_ARR_100\",\"track_variation_ARR_100\",\"is_offblock_weekend\",\"Num_Engines\",\"flown_distance_ARR_100\",\"average_humidity_ARR_100\",\"average_temperature_ARR_100\",\"wind_distance_DEP_100\",\"arrival_minute\",\"track_variation_ENR\",\"groundspeed_ARR_100\",\"average_vertical_rate_ARR_100\",\"taxiout_time\",\"track_variation_DEP_100\",\"average_airspeed_DEP_100\",\"offblock_minute\",\"average_airspeed_ENR\",\"specific_energy_ENR\",\"taxi_ratio\",\"average_humidity_DEP_100\",\"specific_energy_ARR_100\",\"is_offblock_rush_hour\",\"wind_distance_ENR\",\"groundspeed_ENR\",\"altitude_difference\",\"average_vertical_rate_ENR\",\"bearing\",\"Altitude_ades\",\"specific_energy_DEP_100\",\"Longitude_adep\",\"flown_distance_ENR\",\"flown_distance_DEP_100\",\"cumulative_avg_speed\"],\"textfont\":{\"color\":\"rgb(51,160,44)\",\"family\":\"sans serif\",\"size\":18},\"textposition\":\"bottom center\",\"visible\":false,\"x\":[0,1,2,3,4,5,6,7,8,9,10,11,12,13,14,15,16,17,18,19,20,21,22,23,24,25,26,27,28,29,30,31,32,33,34],\"y\":[2946.519191187826,2947.7054655295283,2947.505572504318,2947.118546503833,2946.5045277886375,2945.531405041233,2944.4942774213446,2942.3698634634693,2939.9298159512628,2937.1878598727226,2939.4505153780115,2937.967833270682,2935.2344573920914,2932.0708409124486,2927.6478052565662,2922.3088933857143,2916.4039511634924,2916.4273428702973,2915.6556615707314,2914.709465133141,2912.8818222468876,2910.9867212677404,2908.5600906938366,2905.8225587285915,2906.543668331273,2904.7259170335324,2900.0946284358943,2894.0884295699207,2887.655092276589,2879.980276986962,2884.374641649126,2889.430177888042,2897.891640685891,2907.1040133354854,2919.521957828519],\"type\":\"scatter\"}],                        {\"template\":{\"data\":{\"histogram2dcontour\":[{\"type\":\"histogram2dcontour\",\"colorbar\":{\"outlinewidth\":0,\"ticks\":\"\"},\"colorscale\":[[0.0,\"#0d0887\"],[0.1111111111111111,\"#46039f\"],[0.2222222222222222,\"#7201a8\"],[0.3333333333333333,\"#9c179e\"],[0.4444444444444444,\"#bd3786\"],[0.5555555555555556,\"#d8576b\"],[0.6666666666666666,\"#ed7953\"],[0.7777777777777778,\"#fb9f3a\"],[0.8888888888888888,\"#fdca26\"],[1.0,\"#f0f921\"]]}],\"choropleth\":[{\"type\":\"choropleth\",\"colorbar\":{\"outlinewidth\":0,\"ticks\":\"\"}}],\"histogram2d\":[{\"type\":\"histogram2d\",\"colorbar\":{\"outlinewidth\":0,\"ticks\":\"\"},\"colorscale\":[[0.0,\"#0d0887\"],[0.1111111111111111,\"#46039f\"],[0.2222222222222222,\"#7201a8\"],[0.3333333333333333,\"#9c179e\"],[0.4444444444444444,\"#bd3786\"],[0.5555555555555556,\"#d8576b\"],[0.6666666666666666,\"#ed7953\"],[0.7777777777777778,\"#fb9f3a\"],[0.8888888888888888,\"#fdca26\"],[1.0,\"#f0f921\"]]}],\"heatmap\":[{\"type\":\"heatmap\",\"colorbar\":{\"outlinewidth\":0,\"ticks\":\"\"},\"colorscale\":[[0.0,\"#0d0887\"],[0.1111111111111111,\"#46039f\"],[0.2222222222222222,\"#7201a8\"],[0.3333333333333333,\"#9c179e\"],[0.4444444444444444,\"#bd3786\"],[0.5555555555555556,\"#d8576b\"],[0.6666666666666666,\"#ed7953\"],[0.7777777777777778,\"#fb9f3a\"],[0.8888888888888888,\"#fdca26\"],[1.0,\"#f0f921\"]]}],\"heatmapgl\":[{\"type\":\"heatmapgl\",\"colorbar\":{\"outlinewidth\":0,\"ticks\":\"\"},\"colorscale\":[[0.0,\"#0d0887\"],[0.1111111111111111,\"#46039f\"],[0.2222222222222222,\"#7201a8\"],[0.3333333333333333,\"#9c179e\"],[0.4444444444444444,\"#bd3786\"],[0.5555555555555556,\"#d8576b\"],[0.6666666666666666,\"#ed7953\"],[0.7777777777777778,\"#fb9f3a\"],[0.8888888888888888,\"#fdca26\"],[1.0,\"#f0f921\"]]}],\"contourcarpet\":[{\"type\":\"contourcarpet\",\"colorbar\":{\"outlinewidth\":0,\"ticks\":\"\"}}],\"contour\":[{\"type\":\"contour\",\"colorbar\":{\"outlinewidth\":0,\"ticks\":\"\"},\"colorscale\":[[0.0,\"#0d0887\"],[0.1111111111111111,\"#46039f\"],[0.2222222222222222,\"#7201a8\"],[0.3333333333333333,\"#9c179e\"],[0.4444444444444444,\"#bd3786\"],[0.5555555555555556,\"#d8576b\"],[0.6666666666666666,\"#ed7953\"],[0.7777777777777778,\"#fb9f3a\"],[0.8888888888888888,\"#fdca26\"],[1.0,\"#f0f921\"]]}],\"surface\":[{\"type\":\"surface\",\"colorbar\":{\"outlinewidth\":0,\"ticks\":\"\"},\"colorscale\":[[0.0,\"#0d0887\"],[0.1111111111111111,\"#46039f\"],[0.2222222222222222,\"#7201a8\"],[0.3333333333333333,\"#9c179e\"],[0.4444444444444444,\"#bd3786\"],[0.5555555555555556,\"#d8576b\"],[0.6666666666666666,\"#ed7953\"],[0.7777777777777778,\"#fb9f3a\"],[0.8888888888888888,\"#fdca26\"],[1.0,\"#f0f921\"]]}],\"mesh3d\":[{\"type\":\"mesh3d\",\"colorbar\":{\"outlinewidth\":0,\"ticks\":\"\"}}],\"scatter\":[{\"fillpattern\":{\"fillmode\":\"overlay\",\"size\":10,\"solidity\":0.2},\"type\":\"scatter\"}],\"parcoords\":[{\"type\":\"parcoords\",\"line\":{\"colorbar\":{\"outlinewidth\":0,\"ticks\":\"\"}}}],\"scatterpolargl\":[{\"type\":\"scatterpolargl\",\"marker\":{\"colorbar\":{\"outlinewidth\":0,\"ticks\":\"\"}}}],\"bar\":[{\"error_x\":{\"color\":\"#2a3f5f\"},\"error_y\":{\"color\":\"#2a3f5f\"},\"marker\":{\"line\":{\"color\":\"#E5ECF6\",\"width\":0.5},\"pattern\":{\"fillmode\":\"overlay\",\"size\":10,\"solidity\":0.2}},\"type\":\"bar\"}],\"scattergeo\":[{\"type\":\"scattergeo\",\"marker\":{\"colorbar\":{\"outlinewidth\":0,\"ticks\":\"\"}}}],\"scatterpolar\":[{\"type\":\"scatterpolar\",\"marker\":{\"colorbar\":{\"outlinewidth\":0,\"ticks\":\"\"}}}],\"histogram\":[{\"marker\":{\"pattern\":{\"fillmode\":\"overlay\",\"size\":10,\"solidity\":0.2}},\"type\":\"histogram\"}],\"scattergl\":[{\"type\":\"scattergl\",\"marker\":{\"colorbar\":{\"outlinewidth\":0,\"ticks\":\"\"}}}],\"scatter3d\":[{\"type\":\"scatter3d\",\"line\":{\"colorbar\":{\"outlinewidth\":0,\"ticks\":\"\"}},\"marker\":{\"colorbar\":{\"outlinewidth\":0,\"ticks\":\"\"}}}],\"scattermapbox\":[{\"type\":\"scattermapbox\",\"marker\":{\"colorbar\":{\"outlinewidth\":0,\"ticks\":\"\"}}}],\"scatterternary\":[{\"type\":\"scatterternary\",\"marker\":{\"colorbar\":{\"outlinewidth\":0,\"ticks\":\"\"}}}],\"scattercarpet\":[{\"type\":\"scattercarpet\",\"marker\":{\"colorbar\":{\"outlinewidth\":0,\"ticks\":\"\"}}}],\"carpet\":[{\"aaxis\":{\"endlinecolor\":\"#2a3f5f\",\"gridcolor\":\"white\",\"linecolor\":\"white\",\"minorgridcolor\":\"white\",\"startlinecolor\":\"#2a3f5f\"},\"baxis\":{\"endlinecolor\":\"#2a3f5f\",\"gridcolor\":\"white\",\"linecolor\":\"white\",\"minorgridcolor\":\"white\",\"startlinecolor\":\"#2a3f5f\"},\"type\":\"carpet\"}],\"table\":[{\"cells\":{\"fill\":{\"color\":\"#EBF0F8\"},\"line\":{\"color\":\"white\"}},\"header\":{\"fill\":{\"color\":\"#C8D4E3\"},\"line\":{\"color\":\"white\"}},\"type\":\"table\"}],\"barpolar\":[{\"marker\":{\"line\":{\"color\":\"#E5ECF6\",\"width\":0.5},\"pattern\":{\"fillmode\":\"overlay\",\"size\":10,\"solidity\":0.2}},\"type\":\"barpolar\"}],\"pie\":[{\"automargin\":true,\"type\":\"pie\"}]},\"layout\":{\"autotypenumbers\":\"strict\",\"colorway\":[\"#636efa\",\"#EF553B\",\"#00cc96\",\"#ab63fa\",\"#FFA15A\",\"#19d3f3\",\"#FF6692\",\"#B6E880\",\"#FF97FF\",\"#FECB52\"],\"font\":{\"color\":\"#2a3f5f\"},\"hovermode\":\"closest\",\"hoverlabel\":{\"align\":\"left\"},\"paper_bgcolor\":\"white\",\"plot_bgcolor\":\"#E5ECF6\",\"polar\":{\"bgcolor\":\"#E5ECF6\",\"angularaxis\":{\"gridcolor\":\"white\",\"linecolor\":\"white\",\"ticks\":\"\"},\"radialaxis\":{\"gridcolor\":\"white\",\"linecolor\":\"white\",\"ticks\":\"\"}},\"ternary\":{\"bgcolor\":\"#E5ECF6\",\"aaxis\":{\"gridcolor\":\"white\",\"linecolor\":\"white\",\"ticks\":\"\"},\"baxis\":{\"gridcolor\":\"white\",\"linecolor\":\"white\",\"ticks\":\"\"},\"caxis\":{\"gridcolor\":\"white\",\"linecolor\":\"white\",\"ticks\":\"\"}},\"coloraxis\":{\"colorbar\":{\"outlinewidth\":0,\"ticks\":\"\"}},\"colorscale\":{\"sequential\":[[0.0,\"#0d0887\"],[0.1111111111111111,\"#46039f\"],[0.2222222222222222,\"#7201a8\"],[0.3333333333333333,\"#9c179e\"],[0.4444444444444444,\"#bd3786\"],[0.5555555555555556,\"#d8576b\"],[0.6666666666666666,\"#ed7953\"],[0.7777777777777778,\"#fb9f3a\"],[0.8888888888888888,\"#fdca26\"],[1.0,\"#f0f921\"]],\"sequentialminus\":[[0.0,\"#0d0887\"],[0.1111111111111111,\"#46039f\"],[0.2222222222222222,\"#7201a8\"],[0.3333333333333333,\"#9c179e\"],[0.4444444444444444,\"#bd3786\"],[0.5555555555555556,\"#d8576b\"],[0.6666666666666666,\"#ed7953\"],[0.7777777777777778,\"#fb9f3a\"],[0.8888888888888888,\"#fdca26\"],[1.0,\"#f0f921\"]],\"diverging\":[[0,\"#8e0152\"],[0.1,\"#c51b7d\"],[0.2,\"#de77ae\"],[0.3,\"#f1b6da\"],[0.4,\"#fde0ef\"],[0.5,\"#f7f7f7\"],[0.6,\"#e6f5d0\"],[0.7,\"#b8e186\"],[0.8,\"#7fbc41\"],[0.9,\"#4d9221\"],[1,\"#276419\"]]},\"xaxis\":{\"gridcolor\":\"white\",\"linecolor\":\"white\",\"ticks\":\"\",\"title\":{\"standoff\":15},\"zerolinecolor\":\"white\",\"automargin\":true,\"zerolinewidth\":2},\"yaxis\":{\"gridcolor\":\"white\",\"linecolor\":\"white\",\"ticks\":\"\",\"title\":{\"standoff\":15},\"zerolinecolor\":\"white\",\"automargin\":true,\"zerolinewidth\":2},\"scene\":{\"xaxis\":{\"backgroundcolor\":\"#E5ECF6\",\"gridcolor\":\"white\",\"linecolor\":\"white\",\"showbackground\":true,\"ticks\":\"\",\"zerolinecolor\":\"white\",\"gridwidth\":2},\"yaxis\":{\"backgroundcolor\":\"#E5ECF6\",\"gridcolor\":\"white\",\"linecolor\":\"white\",\"showbackground\":true,\"ticks\":\"\",\"zerolinecolor\":\"white\",\"gridwidth\":2},\"zaxis\":{\"backgroundcolor\":\"#E5ECF6\",\"gridcolor\":\"white\",\"linecolor\":\"white\",\"showbackground\":true,\"ticks\":\"\",\"zerolinecolor\":\"white\",\"gridwidth\":2}},\"shapedefaults\":{\"line\":{\"color\":\"#2a3f5f\"}},\"annotationdefaults\":{\"arrowcolor\":\"#2a3f5f\",\"arrowhead\":0,\"arrowwidth\":1},\"geo\":{\"bgcolor\":\"white\",\"landcolor\":\"#E5ECF6\",\"subunitcolor\":\"white\",\"showland\":true,\"showlakes\":true,\"lakecolor\":\"white\"},\"title\":{\"x\":0.05},\"mapbox\":{\"style\":\"light\"}}},\"title\":{\"text\":\"Loss by eliminated features\"},\"xaxis\":{\"title\":{\"text\":\"number of removed features\"},\"gridcolor\":\"rgb(255,255,255)\",\"showgrid\":true,\"showline\":false,\"showticklabels\":true,\"tickcolor\":\"rgb(127,127,127)\",\"ticks\":\"outside\",\"zeroline\":false},\"yaxis\":{\"title\":{\"text\":\"loss value\",\"font\":{\"color\":\"rgb(51,160,44)\"}},\"tickfont\":{\"color\":\"rgb(51,160,44)\"},\"gridcolor\":\"rgb(255,255,255)\",\"showgrid\":true,\"showline\":false,\"showticklabels\":true,\"tickcolor\":\"rgb(127,127,127)\",\"ticks\":\"outside\",\"zeroline\":false},\"updatemenus\":[{\"active\":0,\"buttons\":[{\"args\":[{\"visible\":[true,true,false,false]}],\"label\":\"Hide features\",\"method\":\"update\"},{\"args\":[{\"visible\":[true,true,true,false]}],\"label\":\"Show indices\",\"method\":\"update\"},{\"args\":[{\"visible\":[true,true,false,true]}],\"label\":\"Show names\",\"method\":\"update\"}],\"pad\":{\"r\":10,\"t\":10},\"showactive\":true,\"x\":-0.25,\"xanchor\":\"left\",\"y\":1.03,\"yanchor\":\"top\"}],\"showlegend\":false},                        {\"responsive\": true}                    ).then(function(){\n",
       "                            \n",
       "var gd = document.getElementById('33e18adb-f8e2-4ea9-8692-d2a3285bab2c');\n",
       "var x = new MutationObserver(function (mutations, observer) {{\n",
       "        var display = window.getComputedStyle(gd).display;\n",
       "        if (!display || display === 'none') {{\n",
       "            console.log([gd, 'removed!']);\n",
       "            Plotly.purge(gd);\n",
       "            observer.disconnect();\n",
       "        }}\n",
       "}});\n",
       "\n",
       "// Listen for the removal of the full notebook cells\n",
       "var notebookContainer = gd.closest('#notebook-container');\n",
       "if (notebookContainer) {{\n",
       "    x.observe(notebookContainer, {childList: true});\n",
       "}}\n",
       "\n",
       "// Listen for the clearing of the current output cell\n",
       "var outputEl = gd.closest('.output');\n",
       "if (outputEl) {{\n",
       "    x.observe(outputEl, {childList: true});\n",
       "}}\n",
       "\n",
       "                        })                };                });            </script>        </div>"
      ]
     },
     "metadata": {},
     "output_type": "display_data"
    }
   ],
   "source": [
    "result = model.select_features(\n",
    "    train_pool, eval_set=val_pool,\n",
    "    features_for_select=X_train.columns.tolist(),\n",
    "    num_features_to_select=40,\n",
    "    steps=5,\n",
    "    plot=True,\n",
    ")"
   ]
  },
  {
   "cell_type": "code",
   "execution_count": 8,
   "id": "67c586c8-7e4c-4d1f-a778-abfcd789670e",
   "metadata": {},
   "outputs": [
    {
     "ename": "NameError",
     "evalue": "name 'result' is not defined",
     "output_type": "error",
     "traceback": [
      "\u001b[0;31m---------------------------------------------------------------------------\u001b[0m",
      "\u001b[0;31mNameError\u001b[0m                                 Traceback (most recent call last)",
      "Cell \u001b[0;32mIn[8], line 1\u001b[0m\n\u001b[0;32m----> 1\u001b[0m \u001b[38;5;28mprint\u001b[39m(\u001b[43mresult\u001b[49m[\u001b[38;5;124m'\u001b[39m\u001b[38;5;124meliminated_features_names\u001b[39m\u001b[38;5;124m'\u001b[39m])\n",
      "\u001b[0;31mNameError\u001b[0m: name 'result' is not defined"
     ]
    }
   ],
   "source": [
    "print(result['eliminated_features_names'])"
   ]
  },
  {
   "cell_type": "code",
   "execution_count": 9,
   "id": "568514a5-2186-4d8f-9177-ba034c053b9f",
   "metadata": {},
   "outputs": [],
   "source": [
    "X.drop(['wind_distance_ARR_100', 'average_airspeed_ARR_100', 'track_variation_ARR_100', \n",
    "        'is_offblock_weekend', 'Num_Engines', 'flown_distance_ARR_100', 'average_humidity_ARR_100',\n",
    "        'average_temperature_ARR_100', 'wind_distance_DEP_100', 'arrival_minute', 'track_variation_ENR',\n",
    "        'groundspeed_ARR_100', 'average_vertical_rate_ARR_100', 'taxiout_time', 'track_variation_DEP_100',\n",
    "        'average_airspeed_DEP_100', 'offblock_minute', 'average_airspeed_ENR', 'specific_energy_ENR',\n",
    "        'taxi_ratio', 'average_humidity_DEP_100', 'specific_energy_ARR_100', 'is_offblock_rush_hour',\n",
    "        'wind_distance_ENR', 'groundspeed_ENR', 'altitude_difference', 'average_vertical_rate_ENR',\n",
    "        'bearing', 'Altitude_ades'], axis=1, inplace=True)"
   ]
  },
  {
   "cell_type": "code",
   "execution_count": 10,
   "id": "460d377c-483d-464f-8d09-122f04624472",
   "metadata": {},
   "outputs": [
    {
     "ename": "NameError",
     "evalue": "name 'result' is not defined",
     "output_type": "error",
     "traceback": [
      "\u001b[0;31m---------------------------------------------------------------------------\u001b[0m",
      "\u001b[0;31mNameError\u001b[0m                                 Traceback (most recent call last)",
      "Cell \u001b[0;32mIn[10], line 1\u001b[0m\n\u001b[0;32m----> 1\u001b[0m \u001b[38;5;28mprint\u001b[39m(\u001b[43mresult\u001b[49m[\u001b[38;5;124m'\u001b[39m\u001b[38;5;124meliminated_features_names\u001b[39m\u001b[38;5;124m'\u001b[39m])\n\u001b[1;32m      2\u001b[0m X\u001b[38;5;241m.\u001b[39mdrop(result[\u001b[38;5;124m'\u001b[39m\u001b[38;5;124meliminated_features_names\u001b[39m\u001b[38;5;124m'\u001b[39m], axis\u001b[38;5;241m=\u001b[39m\u001b[38;5;241m1\u001b[39m, inplace\u001b[38;5;241m=\u001b[39m\u001b[38;5;28;01mTrue\u001b[39;00m)\n",
      "\u001b[0;31mNameError\u001b[0m: name 'result' is not defined"
     ]
    }
   ],
   "source": [
    "print(result['eliminated_features_names'])\n",
    "X.drop(result['eliminated_features_names'], axis=1, inplace=True)"
   ]
  },
  {
   "cell_type": "code",
   "execution_count": 10,
   "id": "32f2bd95-e429-4a77-b27d-65cbe866a0c9",
   "metadata": {},
   "outputs": [],
   "source": [
    "eliminated = ['wind_distance_ARR_100', 'average_airspeed_ARR_100', 'track_variation_ARR_100', \n",
    "        'is_offblock_weekend', 'Num_Engines', 'flown_distance_ARR_100', 'average_humidity_ARR_100',\n",
    "        'average_temperature_ARR_100', 'wind_distance_DEP_100', 'arrival_minute', 'track_variation_ENR',\n",
    "        'groundspeed_ARR_100', 'average_vertical_rate_ARR_100', 'taxiout_time', 'track_variation_DEP_100',\n",
    "        'average_airspeed_DEP_100', 'offblock_minute', 'average_airspeed_ENR', 'specific_energy_ENR',\n",
    "        'taxi_ratio', 'average_humidity_DEP_100', 'specific_energy_ARR_100', 'is_offblock_rush_hour',\n",
    "        'wind_distance_ENR', 'groundspeed_ENR', 'altitude_difference', 'average_vertical_rate_ENR',\n",
    "        'bearing', 'Altitude_ades']\n",
    "selected_cat_names = [x for x in cat_names if x not in eliminated]\n",
    "\n",
    "# print(selected_cat_names)\n",
    "# print(result['eliminated_features_names'])"
   ]
  },
  {
   "cell_type": "code",
   "execution_count": 11,
   "id": "ca7442c8-54f0-4e78-b4ba-074582c09bdf",
   "metadata": {},
   "outputs": [],
   "source": [
    "from catboost import CatBoostRegressor, Pool, metrics\n",
    "from sklearn.model_selection import train_test_split\n",
    "\n",
    "X_train, X_val, y_train, y_val = train_test_split(X, y, test_size=0.2, random_state=42)\n",
    "\n",
    "params = {\n",
    "    'learning_rate': 0.01, \n",
    "    'reg_lambda': 69.07051080443502, \n",
    "    'subsample': 0.9831691718361609, \n",
    "    'random_strength': 16.348436502754343, \n",
    "    'depth': 11, \n",
    "    'colsample_bylevel': 0.9434202103659302, \n",
    "    'min_data_in_leaf': 2, \n",
    "    'leaf_estimation_iterations': 7\n",
    "    # 'reg_lambda': 15.865685490104017, \n",
    "    # 'random_strength': 33.58229075926253, \n",
    "    # 'depth': 11, \n",
    "    # 'min_data_in_leaf': 3, \n",
    "    # 'leaf_estimation_iterations': 15\n",
    "}\n",
    "train_pool = Pool(X_train, y_train, cat_features=selected_cat_names)\n",
    "val_pool = Pool(X_val, y_val, cat_features=selected_cat_names)\n",
    "\n",
    "model = CatBoostRegressor(\n",
    "    iterations=50000,\n",
    "    objective=metrics.RMSE(),\n",
    "    eval_metric=metrics.RMSE(),\n",
    "    random_seed=42,\n",
    "    verbose=False,\n",
    "    task_type='CPU',\n",
    "    use_best_model=True,\n",
    "    od_type='Iter',\n",
    "    od_wait=50,\n",
    "    **params,\n",
    ")"
   ]
  },
  {
   "cell_type": "code",
   "execution_count": 12,
   "id": "44445a95-7525-4642-8b12-f522c000bf2c",
   "metadata": {},
   "outputs": [
    {
     "data": {
      "application/vnd.jupyter.widget-view+json": {
       "model_id": "94eff6f2d9cf4706b64ada0a67099ee0",
       "version_major": 2,
       "version_minor": 0
      },
      "text/plain": [
       "MetricVisualizer(layout=Layout(align_self='stretch', height='500px'))"
      ]
     },
     "metadata": {},
     "output_type": "display_data"
    },
    {
     "data": {
      "text/plain": [
       "<catboost.core.CatBoostRegressor at 0x74909e1203a0>"
      ]
     },
     "execution_count": 12,
     "metadata": {},
     "output_type": "execute_result"
    }
   ],
   "source": [
    "model.fit(\n",
    "    train_pool, eval_set=val_pool,\n",
    "    plot=True\n",
    ")"
   ]
  },
  {
   "cell_type": "code",
   "execution_count": 14,
   "id": "e9dae33e-a244-41cd-8947-91f934717d58",
   "metadata": {},
   "outputs": [
    {
     "data": {
      "application/vnd.jupyter.widget-view+json": {
       "model_id": "41f5ecbf1f1c436fa10f766e250097ab",
       "version_major": 2,
       "version_minor": 0
      },
      "text/plain": [
       "MetricVisualizer(layout=Layout(align_self='stretch', height='500px'))"
      ]
     },
     "metadata": {},
     "output_type": "display_data"
    },
    {
     "data": {
      "text/plain": [
       "<catboost.core.CatBoostRegressor at 0x7490f82fcc10>"
      ]
     },
     "execution_count": 14,
     "metadata": {},
     "output_type": "execute_result"
    }
   ],
   "source": [
    "best_iteration = model.get_best_iteration()\n",
    "model = CatBoostRegressor(\n",
    "    iterations=36104,#best_iteration\n",
    "    objective=metrics.RMSE(),\n",
    "    random_seed=42,\n",
    "    verbose=False,\n",
    "    task_type='CPU',\n",
    "    **params,\n",
    ")\n",
    "model.fit(\n",
    "    X, y, cat_features=selected_cat_names, plot=True\n",
    ")"
   ]
  },
  {
   "cell_type": "code",
   "execution_count": 22,
   "id": "4341f7ba-050b-4276-b9ab-14a7fe8eae47",
   "metadata": {},
   "outputs": [
    {
     "name": "stdout",
     "output_type": "stream",
     "text": [
      "MTOW_kg: 24.03111035241858\n",
      "FAA_Weight: 22.76016872684214\n",
      "MALW_kg: 5.570555389017825\n",
      "wtc: 5.111954710843343\n",
      "airline: 4.743464084514861\n",
      "Manufacturer: 4.355679639346204\n",
      "Approach_Speed_knot: 3.9841667223017287\n",
      "aircraft_type: 2.6993183496225153\n",
      "Model_FAA: 2.4998271448984832\n",
      "flight_duration_category: 1.843810841452681\n",
      "adep_region: 1.5633793320850875\n",
      "ades_region: 1.5600975820680538\n",
      "ades_geo_cluster: 1.0251854052330738\n",
      "same_region_flight: 0.9592194562945926\n",
      "flown_distance: 0.9084022435406115\n",
      "offblock_minute: 0.8280612789843642\n",
      "offblock_to_arrival_duration: 0.7974440126251763\n",
      "offblock_hour: 0.7835942981145246\n",
      "Longitude_adep: 0.7582431500030101\n",
      "adep_geo_cluster: 0.698792299017662\n",
      "flight_direction: 0.5921521443075404\n",
      "Altitude_adep: 0.5867450830780605\n",
      "offblock_day_of_week: 0.5781904228187235\n",
      "average_vertical_rate_DEP_100: 0.574083931140468\n",
      "offblock_season: 0.4536097231349992\n",
      "arrival_hour: 0.4202830816355176\n",
      "Latitude_adep: 0.3966773351448594\n",
      "cumulative_avg_speed: 0.37096076835870784\n",
      "groundspeed_DEP_100: 0.3645546969632437\n",
      "taxi_ratio: 0.35934527543913153\n",
      "offblock_month: 0.35334227406487545\n",
      "adep: 0.3455737523229558\n",
      "Physical_Class_Engine: 0.3284154149961422\n",
      "offblock_week_of_year: 0.3225853388950414\n",
      "specific_energy: 0.31586545397813015\n",
      "flown_distance_ENR: 0.31139116536766803\n",
      "normalized_taxi_ratio: 0.3111788455684762\n",
      "ades: 0.30348864250358054\n",
      "average_temperature_DEP_100: 0.2892935766746952\n",
      "is_intercontinental: 0.27175295810763794\n",
      "Altitude_ades: 0.24513685690036036\n",
      "altitude_difference: 0.24467332862890107\n",
      "average_humidity_ENR: 0.24392240997859588\n",
      "Longitude_ades: 0.22405224205279034\n",
      "average_airspeed_DEP_100: 0.21285967195095673\n",
      "specific_energy_DEP_100: 0.2031901502170664\n",
      "average_temperature_ENR: 0.20290516138498071\n",
      "average_vertical_rate_ENR: 0.17808981677107025\n",
      "arrival_minute: 0.17512361146807998\n",
      "same_country_flight: 0.16582886247861295\n",
      "track_variation_DEP_100: 0.15797206244771841\n",
      "specific_energy_ARR_100: 0.15641668027448732\n",
      "average_vertical_rate_ARR_100: 0.14773389441392465\n",
      "bearing: 0.13773297512392277\n",
      "speed_per_distance: 0.1369579652452793\n",
      "track_variation_ENR: 0.13357880959301793\n",
      "wind_distance_ENR: 0.122644101983693\n",
      "flown_distance_DEP_100: 0.12033414605487082\n",
      "is_offblock_rush_hour: 0.11000468839291164\n",
      "groundspeed_ARR_100: 0.11000039866371526\n",
      "Latitude_ades: 0.10141963079805826\n",
      "specific_energy_ENR: 0.0944754781428843\n",
      "elevation_gradient: 0.09351517411855852\n",
      "average_humidity_DEP_100: 0.08993996019917065\n",
      "wind_distance_DEP_100: 0.08287799561655092\n",
      "groundspeed_ENR: 0.08084170903202333\n",
      "average_humidity_ARR_100: 0.07404607017532402\n",
      "track_variation_ARR_100: 0.07310592995559369\n",
      "average_temperature_ARR_100: 0.0725674975704653\n",
      "wind_distance_ARR_100: 0.07198603334694138\n",
      "flown_distance_ARR_100: 0.06883037586973914\n",
      "is_offblock_weekend: 0.06785849083139525\n",
      "average_airspeed_ENR: 0.06708493104748879\n",
      "flight_speed: 0.06361952503307257\n",
      "taxiout_time: 0.056554647476245286\n",
      "average_airspeed_ARR_100: 0.05190256232478209\n",
      "Num_Engines: 0.02825125071182775\n"
     ]
    }
   ],
   "source": [
    "feature_importances = model.get_feature_importance(train_pool)\n",
    "feature_names = X_train.columns\n",
    "for score, name in sorted(zip(feature_importances, feature_names), reverse=True):\n",
    "    print('{}: {}'.format(name, score))"
   ]
  },
  {
   "cell_type": "code",
   "execution_count": 39,
   "id": "a3391849-8542-4d08-bccb-f25c345accac",
   "metadata": {},
   "outputs": [
    {
     "name": "stdout",
     "output_type": "stream",
     "text": [
      "average_vertical_rate_DEP_100: 0.574083931140468\n",
      "groundspeed_DEP_100: 0.3645546969632437\n",
      "specific_energy: 0.31586545397813015\n",
      "flown_distance_ENR: 0.31139116536766803\n",
      "average_temperature_DEP_100: 0.2892935766746952\n",
      "average_humidity_ENR: 0.24392240997859588\n",
      "specific_energy_DEP_100: 0.2031901502170664\n",
      "average_temperature_ENR: 0.20290516138498071\n",
      "average_vertical_rate_ENR: 0.17808981677107025\n",
      "track_variation_DEP_100: 0.15797206244771841\n",
      "specific_energy_ARR_100: 0.15641668027448732\n",
      "average_vertical_rate_ARR_100: 0.14773389441392465\n",
      "track_variation_ENR: 0.13357880959301793\n",
      "wind_distance_ENR: 0.122644101983693\n",
      "flown_distance_DEP_100: 0.12033414605487082\n",
      "groundspeed_ARR_100: 0.11000039866371526\n",
      "specific_energy_ENR: 0.0944754781428843\n",
      "average_humidity_DEP_100: 0.08993996019917065\n",
      "wind_distance_DEP_100: 0.08287799561655092\n",
      "groundspeed_ENR: 0.08084170903202333\n",
      "average_humidity_ARR_100: 0.07404607017532402\n",
      "track_variation_ARR_100: 0.07310592995559369\n",
      "average_temperature_ARR_100: 0.0725674975704653\n",
      "wind_distance_ARR_100: 0.07198603334694138\n",
      "flown_distance_ARR_100: 0.06883037586973914\n",
      "average_airspeed_ARR_100: 0.05190256232478209\n"
     ]
    }
   ],
   "source": [
    "trajectory_features = [\n",
    "    'track_variation_ARR_100',\n",
    "    'track_variation_DEP_100',\n",
    "    'track_variation_ENR',\n",
    "    'average_vertical_rate_ARR_100',\n",
    "    'average_vertical_rate_DEP_100',\n",
    "    'average_vertical_rate_ENR',\n",
    "    'average_airspeed_ARR_100',\n",
    "    'average_airspeed_DEP_100'\n",
    "    'average_airspeed_ENR',\n",
    "    'groundspeed_ARR_100',\n",
    "    'groundspeed_DEP_100',\n",
    "    'groundspeed_ENR',\n",
    "    'wind_distance_ARR_100',\n",
    "    'wind_distance_DEP_100',\n",
    "    'wind_distance_ENR',\n",
    "    'average_temperature_ARR_100',\n",
    "    'average_temperature_DEP_100',\n",
    "    'average_temperature_ENR',\n",
    "    'average_humidity_ARR_100',\n",
    "    'average_humidity_DEP_100',\n",
    "    'average_humidity_ENR',\n",
    "    'specific_energy_ARR_100',\n",
    "    'specific_energy_DEP_100',\n",
    "    'specific_energy_ENR',\n",
    "    'flown_distance_ARR_100',\n",
    "    'flown_distance_DEP_100',\n",
    "    'flown_distance_ENR',\n",
    "    'specific_energy',\n",
    "]\n",
    "\n",
    "for score, name in sorted(zip(feature_importances, feature_names), reverse=True):\n",
    "    if name in trajectory_features:\n",
    "        print('{}: {}'.format(name, score))"
   ]
  },
  {
   "cell_type": "markdown",
   "id": "d37271a3-39bf-474f-9fbc-464a905b5527",
   "metadata": {},
   "source": [
    "## Training on GPU"
   ]
  },
  {
   "cell_type": "code",
   "execution_count": null,
   "id": "05168d57-d6c3-4ca7-aa37-e57b1a13932b",
   "metadata": {},
   "outputs": [],
   "source": [
    "params = {\n",
    "    'objective': 'RMSE',\n",
    "    'iterations': 500,\n",
    "    'learning_rate': 0.1,\n",
    "    'eval_metric': metrics.RMSE(),\n",
    "    'random_seed': 42,\n",
    "    'logging_level': 'Silent',\n",
    "    'use_best_model': False,\n",
    "    'task_type': 'GPU',\n",
    "}\n",
    "train_pool = Pool(X_train, y_train, cat_features=cat_names)\n",
    "val_pool = Pool(X_val, y_val, cat_features=cat_names)"
   ]
  },
  {
   "cell_type": "code",
   "execution_count": null,
   "id": "5fd9440a-0f47-4c4d-88a7-6e416ccc3717",
   "metadata": {},
   "outputs": [],
   "source": [
    "%%time\n",
    "from sklearn.metrics import mean_squared_error\n",
    "\n",
    "model = CatBoostRegressor(**params)\n",
    "model.fit(train_pool, eval_set=val_pool)\n",
    "\n",
    "best_model_params = params.copy()\n",
    "best_model_params.update({\n",
    "    'use_best_model': True\n",
    "})\n",
    "best_model = CatBoostRegressor(**best_model_params)\n",
    "best_model.fit(train_pool, eval_set=val_pool)\n",
    "\n",
    "print('Simple model validation MSE: {:.4}'.format(\n",
    "    root_mean_squared_error(y_val, model.predict(X_val))\n",
    "))\n",
    "print('')\n",
    "\n",
    "print('Best model validation MSE: {:.4}'.format(\n",
    "    root_mean_squared_error(y_val, best_model.predict(X_val))\n",
    "))"
   ]
  },
  {
   "cell_type": "markdown",
   "id": "f082ce93-a26c-49cb-8812-ddac874ca2f5",
   "metadata": {},
   "source": [
    "## Features Importances"
   ]
  },
  {
   "cell_type": "code",
   "execution_count": null,
   "id": "0182b915-33a4-4750-9b59-d3af1a98e02a",
   "metadata": {},
   "outputs": [],
   "source": [
    "model = CatBoostRegressor(**params).fit(train_pool)\n",
    "feature_importances = model.get_feature_importance(train_pool)\n",
    "feature_names = X_train.columns\n",
    "for score, name in sorted(zip(feature_importances, feature_names), reverse=True):\n",
    "    print('{}: {}'.format(name, score))"
   ]
  },
  {
   "cell_type": "markdown",
   "id": "56cc8f27-a45f-449f-a237-64077f802bb5",
   "metadata": {},
   "source": [
    "## Hyperparameter Tunning"
   ]
  },
  {
   "cell_type": "code",
   "execution_count": null,
   "id": "09877478-7be3-4e07-b449-69d9d75f39bb",
   "metadata": {},
   "outputs": [],
   "source": [
    "!pip install optuna"
   ]
  },
  {
   "cell_type": "code",
   "execution_count": null,
   "id": "eb96b5f7-3f69-4be8-a6ac-9c508f0eaa3d",
   "metadata": {},
   "outputs": [],
   "source": [
    "import optuna\n",
    "\n",
    "def objective(trial):\n",
    "    # Taken from: https://deepnote.com/app/svpino/Tuning-Hyperparameters-with-Optuna-ea1a123d-8d2f-4e20-8f22-95f07470d557\n",
    "    params = {\n",
    "        'learning_rate' : trial.suggest_float('learning_rate', 0.01, 1),\n",
    "        'reg_lambda': trial.suggest_float('reg_lambda', 1e-5, 100),\n",
    "        # 'subsample': trial.suggest_float('subsample', 0, 1),\n",
    "        'random_strength': trial.suggest_float('random_strength', 10, 50),\n",
    "        'depth': trial.suggest_int('depth', 1, 15),\n",
    "        'min_data_in_leaf': trial.suggest_int('min_data_in_leaf', 1, 30),\n",
    "        'leaf_estimation_iterations': trial.suggest_int('leaf_estimation_iterations', 1, 15),\n",
    "    }\n",
    "    \n",
    "    model = CatBoostRegressor(\n",
    "        iterations=1000,\n",
    "        eval_metric=metrics.RMSE(),\n",
    "        random_seed=42,\n",
    "        verbose=False,\n",
    "        objective=metrics.RMSE(),\n",
    "        task_type='GPU', # training on GPU\n",
    "        use_best_model=True,\n",
    "        od_type='Iter',\n",
    "        od_wait=20,\n",
    "        **params,\n",
    "    )\n",
    "\n",
    "    cv_data = cv(\n",
    "        train_pool,\n",
    "        model.get_params(),\n",
    "        logging_level='Silent',\n",
    "    )\n",
    "    best_rmse = np.min(cv_data['test-RMSE-mean'])\n",
    "\n",
    "    return best_rmse"
   ]
  },
  {
   "cell_type": "code",
   "execution_count": null,
   "id": "4852c4e9-d634-4cd7-ac25-b259a5a3b224",
   "metadata": {},
   "outputs": [],
   "source": [
    "study = optuna.create_study(direction='minimize')\n",
    "study.optimize(objective, n_trials=50)\n",
    "\n",
    "# Display the best hyperparameters found\n",
    "print(f\"Best trial: {study.best_trial.params}\")\n",
    "\n",
    "# Train the final model with the best parameters\n",
    "best_params = study.best_trial.params\n",
    "best_model = CatBoostRegressor(\n",
    "    iterations=5000,\n",
    "    eval_metric=metrics.RMSE(),\n",
    "    random_seed=42,\n",
    "    logging_level='Silent',\n",
    "    objective=metrics.RMSE(),\n",
    "    task_type='GPU', # training on GPU\n",
    "    use_best_model=True,\n",
    "    od_type='Iter',\n",
    "    od_wait=20,\n",
    "    **best_params,\n",
    ")\n",
    "\n",
    "# Train the model with early stopping\n",
    "best_model.fit(train_pool, eval_set=val_pool)"
   ]
  },
  {
   "cell_type": "code",
   "execution_count": null,
   "id": "a8dfb7f1-da80-48a2-a2b5-fd5580f7a8f2",
   "metadata": {},
   "outputs": [],
   "source": [
    "model = CatBoostRegressor(\n",
    "    l2_leaf_reg=int(best['l2_leaf_reg']),\n",
    "    learning_rate=best['learning_rate'],\n",
    "    iterations=3000,\n",
    "    eval_metric=metrics.RMSE(),\n",
    "    random_seed=42,\n",
    "    verbose=False,\n",
    "    objective=metrics.RMSE(),\n",
    "    task_type='GPU',\n",
    "    use_best_model=True,\n",
    ")\n",
    "cv_data = cv(Pool(X, y, cat_features=cat_names), model.get_params(), plot=True)"
   ]
  },
  {
   "cell_type": "code",
   "execution_count": null,
   "id": "8126e214-6de0-41e0-bcc3-01b9ba479afc",
   "metadata": {},
   "outputs": [],
   "source": [
    "print('RMSE score: {}'.format(np.min(cv_data['test-RMSE-mean'])))"
   ]
  },
  {
   "cell_type": "code",
   "execution_count": null,
   "id": "b46696aa-4691-4ef0-b10f-a496b2cc3a37",
   "metadata": {},
   "outputs": [],
   "source": [
    "model.fit(train_pool, eval_set=val_pool)"
   ]
  },
  {
   "cell_type": "code",
   "execution_count": null,
   "id": "4a7e99c2-5d94-4621-a61c-0d9d31a75298",
   "metadata": {
    "scrolled": true
   },
   "outputs": [],
   "source": [
    "import matplotlib.pyplot as plt\n",
    "\n",
    "plt.figure(figsize=(8, 2))\n",
    "preds_val = model.predict(X_val)\n",
    "diff_val = preds_val - y_val\n",
    "plt.hist(diff_val, bins=200)\n",
    "diff_val.mean(), diff_val.std()"
   ]
  },
  {
   "cell_type": "code",
   "execution_count": null,
   "id": "884bf1a8-4647-445a-a1b8-673916daafc1",
   "metadata": {
    "scrolled": true
   },
   "outputs": [],
   "source": [
    "print('Model validation RMSE: {:.4}'.format(\n",
    "    root_mean_squared_error(y_val * std + mean, preds_val * std + mean)\n",
    "))"
   ]
  },
  {
   "cell_type": "markdown",
   "id": "297a0598-b099-49f7-a562-fb1d0aa0e052",
   "metadata": {},
   "source": [
    "## Submissão"
   ]
  },
  {
   "cell_type": "code",
   "execution_count": 14,
   "id": "b45d9111-8198-449f-bfea-5bb966be6f7f",
   "metadata": {
    "scrolled": true
   },
   "outputs": [
    {
     "data": {
      "text/html": [
       "<div>\n",
       "<style scoped>\n",
       "    .dataframe tbody tr th:only-of-type {\n",
       "        vertical-align: middle;\n",
       "    }\n",
       "\n",
       "    .dataframe tbody tr th {\n",
       "        vertical-align: top;\n",
       "    }\n",
       "\n",
       "    .dataframe thead th {\n",
       "        text-align: right;\n",
       "    }\n",
       "</style>\n",
       "<table border=\"1\" class=\"dataframe\">\n",
       "  <thead>\n",
       "    <tr style=\"text-align: right;\">\n",
       "      <th></th>\n",
       "      <th>adep</th>\n",
       "      <th>ades</th>\n",
       "      <th>aircraft_type</th>\n",
       "      <th>wtc</th>\n",
       "      <th>airline</th>\n",
       "      <th>taxiout_time</th>\n",
       "      <th>flown_distance</th>\n",
       "      <th>track_variation_ARR_100</th>\n",
       "      <th>track_variation_DEP_100</th>\n",
       "      <th>track_variation_ENR</th>\n",
       "      <th>...</th>\n",
       "      <th>Altitude_adep</th>\n",
       "      <th>Latitude_ades</th>\n",
       "      <th>Longitude_ades</th>\n",
       "      <th>Altitude_ades</th>\n",
       "      <th>altitude_difference</th>\n",
       "      <th>bearing</th>\n",
       "      <th>elevation_gradient</th>\n",
       "      <th>adep_geo_cluster</th>\n",
       "      <th>ades_geo_cluster</th>\n",
       "      <th>tow</th>\n",
       "    </tr>\n",
       "  </thead>\n",
       "  <tbody>\n",
       "    <tr>\n",
       "      <th>0</th>\n",
       "      <td>LTFJ</td>\n",
       "      <td>LFLL</td>\n",
       "      <td>B738</td>\n",
       "      <td>M</td>\n",
       "      <td>6351ec1b849adacc0cbb3b1313d8d39b</td>\n",
       "      <td>15.0</td>\n",
       "      <td>1122</td>\n",
       "      <td>74.373402</td>\n",
       "      <td>110.069323</td>\n",
       "      <td>50.723775</td>\n",
       "      <td>...</td>\n",
       "      <td>312</td>\n",
       "      <td>45.726</td>\n",
       "      <td>5.091</td>\n",
       "      <td>251</td>\n",
       "      <td>-61</td>\n",
       "      <td>293.477205</td>\n",
       "      <td>-0.030154</td>\n",
       "      <td>11</td>\n",
       "      <td>17</td>\n",
       "      <td>NaN</td>\n",
       "    </tr>\n",
       "    <tr>\n",
       "      <th>1</th>\n",
       "      <td>EBBR</td>\n",
       "      <td>KJFK</td>\n",
       "      <td>A333</td>\n",
       "      <td>H</td>\n",
       "      <td>bdeeef3a675587d530de70a25d7118d2</td>\n",
       "      <td>15.0</td>\n",
       "      <td>3205</td>\n",
       "      <td>98.664855</td>\n",
       "      <td>64.755647</td>\n",
       "      <td>93.023665</td>\n",
       "      <td>...</td>\n",
       "      <td>57</td>\n",
       "      <td>40.640</td>\n",
       "      <td>-73.779</td>\n",
       "      <td>4</td>\n",
       "      <td>-53</td>\n",
       "      <td>291.395141</td>\n",
       "      <td>-0.009004</td>\n",
       "      <td>6</td>\n",
       "      <td>1</td>\n",
       "      <td>NaN</td>\n",
       "    </tr>\n",
       "    <tr>\n",
       "      <th>2</th>\n",
       "      <td>KMIA</td>\n",
       "      <td>EGLL</td>\n",
       "      <td>B77W</td>\n",
       "      <td>H</td>\n",
       "      <td>5543e4dc327359ffaf5b9c0e6faaf0e1</td>\n",
       "      <td>10.0</td>\n",
       "      <td>3965</td>\n",
       "      <td>26.478102</td>\n",
       "      <td>73.771503</td>\n",
       "      <td>5.682069</td>\n",
       "      <td>...</td>\n",
       "      <td>3</td>\n",
       "      <td>51.477</td>\n",
       "      <td>-0.461</td>\n",
       "      <td>25</td>\n",
       "      <td>22</td>\n",
       "      <td>43.036806</td>\n",
       "      <td>0.003095</td>\n",
       "      <td>12</td>\n",
       "      <td>13</td>\n",
       "      <td>NaN</td>\n",
       "    </tr>\n",
       "    <tr>\n",
       "      <th>3</th>\n",
       "      <td>EGCN</td>\n",
       "      <td>LEAL</td>\n",
       "      <td>B38M</td>\n",
       "      <td>M</td>\n",
       "      <td>3922524069809ac4326134429751e26f</td>\n",
       "      <td>10.0</td>\n",
       "      <td>986</td>\n",
       "      <td>102.257838</td>\n",
       "      <td>176.128681</td>\n",
       "      <td>48.209089</td>\n",
       "      <td>...</td>\n",
       "      <td>55</td>\n",
       "      <td>38.282</td>\n",
       "      <td>-0.558</td>\n",
       "      <td>44</td>\n",
       "      <td>-11</td>\n",
       "      <td>178.644825</td>\n",
       "      <td>-0.006508</td>\n",
       "      <td>13</td>\n",
       "      <td>19</td>\n",
       "      <td>NaN</td>\n",
       "    </tr>\n",
       "    <tr>\n",
       "      <th>4</th>\n",
       "      <td>EIDW</td>\n",
       "      <td>LFLL</td>\n",
       "      <td>A320</td>\n",
       "      <td>M</td>\n",
       "      <td>a73f82288988b79be490c6322f4c32ed</td>\n",
       "      <td>15.0</td>\n",
       "      <td>686</td>\n",
       "      <td>5.653190</td>\n",
       "      <td>169.820834</td>\n",
       "      <td>50.924346</td>\n",
       "      <td>...</td>\n",
       "      <td>74</td>\n",
       "      <td>45.726</td>\n",
       "      <td>5.091</td>\n",
       "      <td>251</td>\n",
       "      <td>177</td>\n",
       "      <td>131.790949</td>\n",
       "      <td>0.149765</td>\n",
       "      <td>0</td>\n",
       "      <td>17</td>\n",
       "      <td>NaN</td>\n",
       "    </tr>\n",
       "  </tbody>\n",
       "</table>\n",
       "<p>5 rows × 78 columns</p>\n",
       "</div>"
      ],
      "text/plain": [
       "   adep  ades aircraft_type wtc                           airline  \\\n",
       "0  LTFJ  LFLL          B738   M  6351ec1b849adacc0cbb3b1313d8d39b   \n",
       "1  EBBR  KJFK          A333   H  bdeeef3a675587d530de70a25d7118d2   \n",
       "2  KMIA  EGLL          B77W   H  5543e4dc327359ffaf5b9c0e6faaf0e1   \n",
       "3  EGCN  LEAL          B38M   M  3922524069809ac4326134429751e26f   \n",
       "4  EIDW  LFLL          A320   M  a73f82288988b79be490c6322f4c32ed   \n",
       "\n",
       "   taxiout_time  flown_distance  track_variation_ARR_100  \\\n",
       "0          15.0            1122                74.373402   \n",
       "1          15.0            3205                98.664855   \n",
       "2          10.0            3965                26.478102   \n",
       "3          10.0             986               102.257838   \n",
       "4          15.0             686                 5.653190   \n",
       "\n",
       "   track_variation_DEP_100  track_variation_ENR  ...  Altitude_adep  \\\n",
       "0               110.069323            50.723775  ...            312   \n",
       "1                64.755647            93.023665  ...             57   \n",
       "2                73.771503             5.682069  ...              3   \n",
       "3               176.128681            48.209089  ...             55   \n",
       "4               169.820834            50.924346  ...             74   \n",
       "\n",
       "   Latitude_ades  Longitude_ades  Altitude_ades  altitude_difference  \\\n",
       "0         45.726           5.091            251                  -61   \n",
       "1         40.640         -73.779              4                  -53   \n",
       "2         51.477          -0.461             25                   22   \n",
       "3         38.282          -0.558             44                  -11   \n",
       "4         45.726           5.091            251                  177   \n",
       "\n",
       "      bearing  elevation_gradient  adep_geo_cluster  ades_geo_cluster  tow  \n",
       "0  293.477205           -0.030154                11                17  NaN  \n",
       "1  291.395141           -0.009004                 6                 1  NaN  \n",
       "2   43.036806            0.003095                12                13  NaN  \n",
       "3  178.644825           -0.006508                13                19  NaN  \n",
       "4  131.790949            0.149765                 0                17  NaN  \n",
       "\n",
       "[5 rows x 78 columns]"
      ]
     },
     "execution_count": 14,
     "metadata": {},
     "output_type": "execute_result"
    }
   ],
   "source": [
    "df_test = pd.read_csv(\"./data/submission_set_updated_v9_median.csv\")\n",
    "df_test.head()"
   ]
  },
  {
   "cell_type": "code",
   "execution_count": 15,
   "id": "2d70a7c6-65f5-4aff-8ed4-346bdfcfa78a",
   "metadata": {},
   "outputs": [],
   "source": [
    "X_test = df_test.drop('tow', axis=1)"
   ]
  },
  {
   "cell_type": "code",
   "execution_count": 16,
   "id": "daa505b0-3b6f-4c4e-8114-8e214d7ea053",
   "metadata": {},
   "outputs": [],
   "source": [
    "X_test.drop(eliminated, axis=1, inplace=True)\n",
    "X_test.drop(['offblock_to_arrival_duration', 'normalized_taxi_ratio', 'MALW_kg'], axis=1, inplace=True)"
   ]
  },
  {
   "cell_type": "code",
   "execution_count": 17,
   "id": "9a52c1cc-bd58-4630-9dfb-7bf319b640ab",
   "metadata": {},
   "outputs": [],
   "source": [
    "y_pred = model.predict(X_test)\n",
    "y_test = y_pred"
   ]
  },
  {
   "cell_type": "code",
   "execution_count": 18,
   "id": "e394697e-fc59-4f8e-b037-92d57aad7bb5",
   "metadata": {},
   "outputs": [
    {
     "data": {
      "text/plain": [
       "array([ 68266.78600426, 213770.67537386, 224245.33000388, ...,\n",
       "        74370.96606346,  61620.61662506,  61808.19147765])"
      ]
     },
     "execution_count": 18,
     "metadata": {},
     "output_type": "execute_result"
    }
   ],
   "source": [
    "y_test"
   ]
  },
  {
   "cell_type": "code",
   "execution_count": 19,
   "id": "d6d36b31-791d-49b6-80f9-87aad682703c",
   "metadata": {
    "scrolled": true
   },
   "outputs": [],
   "source": [
    "dft0 = pd.read_csv('./data/submission_set.csv')\n",
    "dft0['tow'] = y_test\n",
    "dft0[['flight_id', 'tow']].to_csv('catboost.csv', index=False)"
   ]
  },
  {
   "cell_type": "code",
   "execution_count": 20,
   "id": "0db81ef7-c884-4886-8083-441d98df5340",
   "metadata": {},
   "outputs": [
    {
     "name": "stdout",
     "output_type": "stream",
     "text": [
      "flight_id,tow\n",
      "248753821,68266.78600425777\n",
      "248753822,213770.67537386174\n",
      "248754498,224245.33000388148\n",
      "248757623,65076.344158274136\n",
      "248763603,63679.38214562848\n",
      "248755068,57399.74407700941\n",
      "248754229,53606.520341352574\n",
      "248754894,57357.813335871804\n",
      "248754751,55835.93413772961\n"
     ]
    }
   ],
   "source": [
    "!head catboost.csv"
   ]
  },
  {
   "cell_type": "code",
   "execution_count": 21,
   "id": "ae8fc7c9-2931-410b-9867-173be9b111f2",
   "metadata": {},
   "outputs": [
    {
     "name": "stdout",
     "output_type": "stream",
     "text": [
      "61\n",
      "0\n"
     ]
    }
   ],
   "source": [
    "submission_dataset = df_test\n",
    "submission_dataset['tow'] = y_pred\n",
    "# submission_dataset.head()\n",
    "pd.set_option('display.max_rows', None)\n",
    "# print(submission_dataset.T)\n",
    "pd.reset_option('display.max_rows')\n",
    "print((submission_dataset['tow'] > submission_dataset['MTOW_kg']).sum())\n",
    "mask = (submission_dataset['tow'] > submission_dataset['MTOW_kg'])\n",
    "submission_dataset.loc[mask, 'tow'] = submission_dataset.loc[mask, 'MTOW_kg']\n",
    "print((submission_dataset['tow'] > submission_dataset['MTOW_kg']).sum())"
   ]
  },
  {
   "cell_type": "code",
   "execution_count": 22,
   "id": "a12135ff-86ee-43d3-9bb4-509d2e57a8e1",
   "metadata": {},
   "outputs": [],
   "source": [
    "dft0 = pd.read_csv('./data/submission_set.csv')\n",
    "dft0['tow'] = submission_dataset['tow']\n",
    "dft0[['flight_id', 'tow']].to_csv('catboost_sat.csv', index=False)"
   ]
  },
  {
   "cell_type": "code",
   "execution_count": 23,
   "id": "eed40eee-95ca-4851-b264-dcf880a08808",
   "metadata": {},
   "outputs": [
    {
     "name": "stdout",
     "output_type": "stream",
     "text": [
      "...st_sat.csv: 2.85 MiB / 2.85 MiB ┃▓▓▓▓▓▓▓▓▓▓▓▓▓▓▓▓▓▓▓▓▓▓▓▓▓▓▓┃ 487.49 KiB/s 5s\u001b[0;22m\u001b[0m\u001b[m\u001b[32;1m\u001b[m\u001b[32;1m\u001b[m\u001b[32;1m\u001b[m\u001b[32;1m\u001b[m\u001b[32;1m\u001b[m\u001b[32;1m\u001b[m\u001b[32;1m\u001b[m\u001b[32;1m\u001b[m\u001b[32;1m\u001b[m\u001b[32;1m\u001b[m\u001b[32;1m\u001b[m\u001b[32;1m\u001b[m\u001b[32;1m\u001b[m\u001b[32;1m\u001b[m\u001b[32;1m\u001b[m\u001b[32;1m\u001b[m\u001b[32;1m\u001b[m\u001b[32;1m\u001b[m\u001b[32;1m\u001b[m\u001b[32;1m\u001b[m\u001b[32;1m\u001b[m\u001b[32;1m\u001b[m\u001b[32;1m\u001b[m\u001b[32;1m\u001b[m\u001b[32;1m\u001b[m\u001b[32;1m\u001b[m\u001b[32;1m\u001b[m\u001b[32;1m\u001b[m\u001b[32;1m\u001b[m\u001b[32;1m\u001b[m\u001b[32;1m\u001b[m\u001b[32;1m\u001b[m\u001b[32;1m\u001b[m\u001b[32;1m\u001b[m\u001b[32;1m\u001b[m\u001b[32;1m\u001b[m\u001b[32;1m\u001b[m\u001b[32;1m\u001b[m\u001b[32;1m\u001b[m\u001b[32;1m\u001b[m\u001b[32;1m\u001b[m\u001b[32;1m\u001b[m\u001b[32;1m\u001b[m\u001b[32;1m\u001b[m\u001b[32;1m\u001b[m\u001b[32;1m\u001b[m\u001b[32;1m\u001b[m\u001b[32;1m"
     ]
    }
   ],
   "source": [
    "!mc cp ./catboost_sat.csv dc24/submissions/team_tiny_rainbow_v45_7ec66710-1eb8-478e-8976-584c090b6373.csv"
   ]
  },
  {
   "cell_type": "code",
   "execution_count": null,
   "id": "8baf470c-9059-4ba9-97cc-d5507abfe255",
   "metadata": {},
   "outputs": [],
   "source": []
  }
 ],
 "metadata": {
  "kernelspec": {
   "display_name": "Python 3 (ipykernel)",
   "language": "python",
   "name": "python3"
  },
  "language_info": {
   "codemirror_mode": {
    "name": "ipython",
    "version": 3
   },
   "file_extension": ".py",
   "mimetype": "text/x-python",
   "name": "python",
   "nbconvert_exporter": "python",
   "pygments_lexer": "ipython3",
   "version": "3.10.12"
  }
 },
 "nbformat": 4,
 "nbformat_minor": 5
}
