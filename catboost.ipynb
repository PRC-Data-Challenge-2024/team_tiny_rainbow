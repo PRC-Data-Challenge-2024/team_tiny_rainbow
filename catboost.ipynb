{
 "cells": [
  {
   "cell_type": "code",
   "execution_count": 50,
   "id": "d208adad-c114-4181-a0e8-201a1b5cdf0e",
   "metadata": {},
   "outputs": [],
   "source": [
    "import pandas as pd\n",
    "import numpy as np"
   ]
  },
  {
   "cell_type": "markdown",
   "id": "ed5768b5-ccc9-44e8-90f0-af97e53fedfe",
   "metadata": {},
   "source": [
    "## Preprocessamento dos dados"
   ]
  },
  {
   "cell_type": "code",
   "execution_count": 6,
   "id": "00e2070e-305f-4387-a763-2b9bbad31e1b",
   "metadata": {},
   "outputs": [
    {
     "data": {
      "text/html": [
       "<div>\n",
       "<style scoped>\n",
       "    .dataframe tbody tr th:only-of-type {\n",
       "        vertical-align: middle;\n",
       "    }\n",
       "\n",
       "    .dataframe tbody tr th {\n",
       "        vertical-align: top;\n",
       "    }\n",
       "\n",
       "    .dataframe thead th {\n",
       "        text-align: right;\n",
       "    }\n",
       "</style>\n",
       "<table border=\"1\" class=\"dataframe\">\n",
       "  <thead>\n",
       "    <tr style=\"text-align: right;\">\n",
       "      <th></th>\n",
       "      <th>adep</th>\n",
       "      <th>country_code_adep</th>\n",
       "      <th>ades</th>\n",
       "      <th>name_ades</th>\n",
       "      <th>country_code_ades</th>\n",
       "      <th>aircraft_type</th>\n",
       "      <th>wtc</th>\n",
       "      <th>airline</th>\n",
       "      <th>flight_duration</th>\n",
       "      <th>taxiout_time</th>\n",
       "      <th>flown_distance</th>\n",
       "      <th>tow</th>\n",
       "      <th>offblock_hour</th>\n",
       "      <th>offblock_day_of_week</th>\n",
       "      <th>offblock_month</th>\n",
       "    </tr>\n",
       "  </thead>\n",
       "  <tbody>\n",
       "    <tr>\n",
       "      <th>0</th>\n",
       "      <td>EGLL</td>\n",
       "      <td>GB</td>\n",
       "      <td>EICK</td>\n",
       "      <td>Cork</td>\n",
       "      <td>IE</td>\n",
       "      <td>A320</td>\n",
       "      <td>M</td>\n",
       "      <td>a73f82288988b79be490c6322f4c32ed</td>\n",
       "      <td>61</td>\n",
       "      <td>18</td>\n",
       "      <td>321</td>\n",
       "      <td>-0.464485</td>\n",
       "      <td>14</td>\n",
       "      <td>5</td>\n",
       "      <td>1</td>\n",
       "    </tr>\n",
       "    <tr>\n",
       "      <th>1</th>\n",
       "      <td>LEBL</td>\n",
       "      <td>ES</td>\n",
       "      <td>KMIA</td>\n",
       "      <td>Miami</td>\n",
       "      <td>US</td>\n",
       "      <td>B772</td>\n",
       "      <td>H</td>\n",
       "      <td>5543e4dc327359ffaf5b9c0e6faaf0e1</td>\n",
       "      <td>570</td>\n",
       "      <td>13</td>\n",
       "      <td>4193</td>\n",
       "      <td>1.989801</td>\n",
       "      <td>10</td>\n",
       "      <td>5</td>\n",
       "      <td>1</td>\n",
       "    </tr>\n",
       "    <tr>\n",
       "      <th>2</th>\n",
       "      <td>ESSA</td>\n",
       "      <td>SE</td>\n",
       "      <td>KORD</td>\n",
       "      <td>Chicago O'Hare</td>\n",
       "      <td>US</td>\n",
       "      <td>A333</td>\n",
       "      <td>H</td>\n",
       "      <td>8be5c854fd664bcb97fb543339f74770</td>\n",
       "      <td>554</td>\n",
       "      <td>15</td>\n",
       "      <td>3770</td>\n",
       "      <td>2.834012</td>\n",
       "      <td>10</td>\n",
       "      <td>5</td>\n",
       "      <td>1</td>\n",
       "    </tr>\n",
       "    <tr>\n",
       "      <th>3</th>\n",
       "      <td>LSZH</td>\n",
       "      <td>CH</td>\n",
       "      <td>KPHL</td>\n",
       "      <td>Philadelphia</td>\n",
       "      <td>US</td>\n",
       "      <td>B788</td>\n",
       "      <td>H</td>\n",
       "      <td>5543e4dc327359ffaf5b9c0e6faaf0e1</td>\n",
       "      <td>497</td>\n",
       "      <td>11</td>\n",
       "      <td>3607</td>\n",
       "      <td>1.467256</td>\n",
       "      <td>11</td>\n",
       "      <td>5</td>\n",
       "      <td>1</td>\n",
       "    </tr>\n",
       "    <tr>\n",
       "      <th>4</th>\n",
       "      <td>EIDW</td>\n",
       "      <td>IE</td>\n",
       "      <td>EGLL</td>\n",
       "      <td>London Heathrow</td>\n",
       "      <td>GB</td>\n",
       "      <td>A21N</td>\n",
       "      <td>M</td>\n",
       "      <td>a73f82288988b79be490c6322f4c32ed</td>\n",
       "      <td>55</td>\n",
       "      <td>14</td>\n",
       "      <td>305</td>\n",
       "      <td>-0.172087</td>\n",
       "      <td>13</td>\n",
       "      <td>5</td>\n",
       "      <td>1</td>\n",
       "    </tr>\n",
       "  </tbody>\n",
       "</table>\n",
       "</div>"
      ],
      "text/plain": [
       "   adep country_code_adep  ades        name_ades country_code_ades  \\\n",
       "0  EGLL                GB  EICK             Cork                IE   \n",
       "1  LEBL                ES  KMIA            Miami                US   \n",
       "2  ESSA                SE  KORD   Chicago O'Hare                US   \n",
       "3  LSZH                CH  KPHL     Philadelphia                US   \n",
       "4  EIDW                IE  EGLL  London Heathrow                GB   \n",
       "\n",
       "  aircraft_type wtc                           airline  flight_duration  \\\n",
       "0          A320   M  a73f82288988b79be490c6322f4c32ed               61   \n",
       "1          B772   H  5543e4dc327359ffaf5b9c0e6faaf0e1              570   \n",
       "2          A333   H  8be5c854fd664bcb97fb543339f74770              554   \n",
       "3          B788   H  5543e4dc327359ffaf5b9c0e6faaf0e1              497   \n",
       "4          A21N   M  a73f82288988b79be490c6322f4c32ed               55   \n",
       "\n",
       "   taxiout_time  flown_distance       tow  offblock_hour  \\\n",
       "0            18             321 -0.464485             14   \n",
       "1            13            4193  1.989801             10   \n",
       "2            15            3770  2.834012             10   \n",
       "3            11            3607  1.467256             11   \n",
       "4            14             305 -0.172087             13   \n",
       "\n",
       "   offblock_day_of_week  offblock_month  \n",
       "0                     5               1  \n",
       "1                     5               1  \n",
       "2                     5               1  \n",
       "3                     5               1  \n",
       "4                     5               1  "
      ]
     },
     "execution_count": 6,
     "metadata": {},
     "output_type": "execute_result"
    }
   ],
   "source": [
    "def load(file_path):\n",
    "  df = pd.read_csv(file_path)\n",
    "  m, s = df['tow'].mean(), df['tow'].std()\n",
    "  df['date'] = pd.to_datetime(df['date'])\n",
    "  df['actual_offblock_time'] = pd.to_datetime(df['actual_offblock_time'])\n",
    "  df['arrival_time'] = pd.to_datetime(df['arrival_time'])\n",
    "  df['offblock_hour'] = df['actual_offblock_time'].dt.round('h').dt.hour\n",
    "  df['offblock_day_of_week'] = df['actual_offblock_time'].dt.dayofweek\n",
    "  df['offblock_month'] = df['actual_offblock_time'].dt.month\n",
    "  df = df.drop(columns=['flight_id','name_adep', 'callsign', 'actual_offblock_time', 'arrival_time', 'date'])\n",
    "  df['tow'] = (df['tow']-m)/s\n",
    "  return df, m, s # Roubando aqui na média e desvio padrão do dataset inteiro :p\n",
    "\n",
    "df, mean, std = load('challenge_set.csv')\n",
    "df.head()"
   ]
  },
  {
   "cell_type": "markdown",
   "id": "19261bf2-b8d1-4cd6-a3c4-969c8bbaa16a",
   "metadata": {},
   "source": [
    "## Modelo (com pre-processamento auto)"
   ]
  },
  {
   "cell_type": "code",
   "execution_count": 11,
   "id": "3aba2a91-c843-4b85-82b0-96646f97658c",
   "metadata": {},
   "outputs": [
    {
     "name": "stdout",
     "output_type": "stream",
     "text": [
      "adep                    0\n",
      "country_code_adep       0\n",
      "ades                    0\n",
      "name_ades               0\n",
      "country_code_ades       0\n",
      "aircraft_type           0\n",
      "wtc                     0\n",
      "airline                 0\n",
      "flight_duration         0\n",
      "taxiout_time            0\n",
      "flown_distance          0\n",
      "tow                     0\n",
      "offblock_hour           0\n",
      "offblock_day_of_week    0\n",
      "offblock_month          0\n",
      "dtype: int64\n"
     ]
    }
   ],
   "source": [
    "null_value_stats = df.isnull().sum(axis=0)\n",
    "print(null_value_stats)"
   ]
  },
  {
   "cell_type": "code",
   "execution_count": 16,
   "id": "e043fa0a-27d7-44ae-adce-99c6dcbfe1aa",
   "metadata": {},
   "outputs": [],
   "source": [
    "X = df.drop('tow', axis=1)\n",
    "y = df.tow"
   ]
  },
  {
   "cell_type": "code",
   "execution_count": 17,
   "id": "bc319e50-2de5-4aee-90ee-7fb8e24adab4",
   "metadata": {},
   "outputs": [
    {
     "name": "stdout",
     "output_type": "stream",
     "text": [
      "adep                    object\n",
      "country_code_adep       object\n",
      "ades                    object\n",
      "name_ades               object\n",
      "country_code_ades       object\n",
      "aircraft_type           object\n",
      "wtc                     object\n",
      "airline                 object\n",
      "flight_duration          int64\n",
      "taxiout_time             int64\n",
      "flown_distance           int64\n",
      "offblock_hour            int32\n",
      "offblock_day_of_week     int32\n",
      "offblock_month           int32\n",
      "dtype: object\n"
     ]
    }
   ],
   "source": [
    "print(X.dtypes)"
   ]
  },
  {
   "cell_type": "code",
   "execution_count": null,
   "id": "f5baf139-1f24-4603-86b5-a56486932ef4",
   "metadata": {},
   "outputs": [],
   "source": [
    "categorical_features_indices = ["
   ]
  },
  {
   "cell_type": "code",
   "execution_count": 19,
   "id": "b942f73f-81ae-4db5-bb2f-c8d309d237d6",
   "metadata": {},
   "outputs": [],
   "source": [
    "from sklearn.model_selection import train_test_split\n",
    "\n",
    "X_train, X_val, y_train, y_val = train_test_split(X, y, train_size=0.75, random_state=42)"
   ]
  },
  {
   "cell_type": "code",
   "execution_count": 20,
   "id": "69fd85b7-45c4-4f24-a8ca-1734a1dd2a9b",
   "metadata": {},
   "outputs": [],
   "source": [
    "from catboost import CatBoostRegressor, Pool, metrics, cv\n",
    "from sklearn.metrics import r2_score, mean_squared_error"
   ]
  },
  {
   "cell_type": "code",
   "execution_count": 22,
   "id": "cda2f2d5-27bd-4577-ab01-b422862b9077",
   "metadata": {},
   "outputs": [],
   "source": [
    "model = CatBoostRegressor(\n",
    "    objective='RMSE',\n",
    "    random_seed=42,\n",
    "    logging_level='Silent'\n",
    ")"
   ]
  },
  {
   "cell_type": "code",
   "execution_count": 23,
   "id": "43fd922d-b68f-465f-87ec-77c514f39a57",
   "metadata": {},
   "outputs": [],
   "source": [
    "cat_names = ['adep', 'country_code_adep', 'ades', 'name_ades', 'country_code_ades',\n",
    "             'aircraft_type', 'wtc', 'airline', 'offblock_hour', 'offblock_day_of_week', 'offblock_month']"
   ]
  },
  {
   "cell_type": "code",
   "execution_count": 29,
   "id": "44445a95-7525-4642-8b12-f522c000bf2c",
   "metadata": {},
   "outputs": [
    {
     "data": {
      "application/vnd.jupyter.widget-view+json": {
       "model_id": "21589d5b149f4eb5a815a48e234550c7",
       "version_major": 2,
       "version_minor": 0
      },
      "text/plain": [
       "MetricVisualizer(layout=Layout(align_self='stretch', height='500px'))"
      ]
     },
     "metadata": {},
     "output_type": "display_data"
    },
    {
     "data": {
      "text/plain": [
       "<catboost.core.CatBoostRegressor at 0x79dfc99634f0>"
      ]
     },
     "execution_count": 29,
     "metadata": {},
     "output_type": "execute_result"
    }
   ],
   "source": [
    "model.fit(\n",
    "    X_train, y_train,\n",
    "    cat_features=cat_names,\n",
    "    eval_set=(X_val, y_val),\n",
    "    plot=True\n",
    ")"
   ]
  },
  {
   "cell_type": "code",
   "execution_count": 58,
   "id": "d25ce53c-279d-4e83-99d6-53b3ac5fc776",
   "metadata": {},
   "outputs": [],
   "source": [
    "params = {\n",
    "    'objective': 'RMSE',\n",
    "    'iterations': 500,\n",
    "    'learning_rate': 0.1,\n",
    "    'eval_metric': metrics.RMSE(),\n",
    "    'random_seed': 42,\n",
    "    'logging_level': 'Silent',\n",
    "    'use_best_model': False,\n",
    "}\n",
    "train_pool = Pool(X_train, y_train, cat_features=cat_names)\n",
    "val_pool = Pool(X_val, y_val, cat_features=cat_names)"
   ]
  },
  {
   "cell_type": "code",
   "execution_count": 112,
   "id": "4341f7ba-050b-4276-b9ab-14a7fe8eae47",
   "metadata": {},
   "outputs": [
    {
     "name": "stdout",
     "output_type": "stream",
     "text": [
      "Simple model validation MSE: 0.07369\n",
      "\n",
      "Best model validation MSE: 0.07381\n",
      "CPU times: user 28.1 s, sys: 2.46 s, total: 30.5 s\n",
      "Wall time: 19.6 s\n"
     ]
    }
   ],
   "source": [
    "%%time\n",
    "from sklearn.metrics import root_mean_squared_error\n",
    "\n",
    "model = CatBoostRegressor(**params)\n",
    "model.fit(train_pool, eval_set=val_pool)\n",
    "\n",
    "best_model_params = params.copy()\n",
    "best_model_params.update({\n",
    "    'use_best_model': True\n",
    "})\n",
    "best_model = CatBoostRegressor(**best_model_params)\n",
    "best_model.fit(train_pool, eval_set=val_pool)\n",
    "\n",
    "print('Simple model validation MSE: {:.4}'.format(\n",
    "    root_mean_squared_error(y_val, model.predict(X_val))\n",
    "))\n",
    "print('')\n",
    "\n",
    "print('Best model validation MSE: {:.4}'.format(\n",
    "    root_mean_squared_error(y_val, best_model.predict(X_val))\n",
    "))"
   ]
  },
  {
   "cell_type": "markdown",
   "id": "d37271a3-39bf-474f-9fbc-464a905b5527",
   "metadata": {},
   "source": [
    "## Training on GPU"
   ]
  },
  {
   "cell_type": "code",
   "execution_count": 62,
   "id": "05168d57-d6c3-4ca7-aa37-e57b1a13932b",
   "metadata": {},
   "outputs": [],
   "source": [
    "params = {\n",
    "    'objective': 'RMSE',\n",
    "    'iterations': 500,\n",
    "    'learning_rate': 0.1,\n",
    "    'eval_metric': metrics.RMSE(),\n",
    "    'random_seed': 42,\n",
    "    'logging_level': 'Silent',\n",
    "    'use_best_model': False,\n",
    "    'task_type': 'GPU',\n",
    "}\n",
    "train_pool = Pool(X_train, y_train, cat_features=cat_names)\n",
    "val_pool = Pool(X_val, y_val, cat_features=cat_names)"
   ]
  },
  {
   "cell_type": "code",
   "execution_count": 63,
   "id": "5fd9440a-0f47-4c4d-88a7-6e416ccc3717",
   "metadata": {},
   "outputs": [
    {
     "name": "stdout",
     "output_type": "stream",
     "text": [
      "Simple model validation MSE: 0.005413\n",
      "\n",
      "Best model validation MSE: 0.005411\n",
      "CPU times: user 29 s, sys: 2.26 s, total: 31.2 s\n",
      "Wall time: 19.9 s\n"
     ]
    }
   ],
   "source": [
    "%%time\n",
    "from sklearn.metrics import mean_squared_error\n",
    "\n",
    "model = CatBoostRegressor(**params)\n",
    "model.fit(train_pool, eval_set=val_pool)\n",
    "\n",
    "best_model_params = params.copy()\n",
    "best_model_params.update({\n",
    "    'use_best_model': True\n",
    "})\n",
    "best_model = CatBoostRegressor(**best_model_params)\n",
    "best_model.fit(train_pool, eval_set=val_pool)\n",
    "\n",
    "print('Simple model validation MSE: {:.4}'.format(\n",
    "    root_mean_squared_error(y_val, model.predict(X_val))\n",
    "))\n",
    "print('')\n",
    "\n",
    "print('Best model validation MSE: {:.4}'.format(\n",
    "    root_mean_squared_error(y_val, best_model.predict(X_val))\n",
    "))"
   ]
  },
  {
   "cell_type": "markdown",
   "id": "f082ce93-a26c-49cb-8812-ddac874ca2f5",
   "metadata": {},
   "source": [
    "## Features Importances"
   ]
  },
  {
   "cell_type": "code",
   "execution_count": 43,
   "id": "0182b915-33a4-4750-9b59-d3af1a98e02a",
   "metadata": {},
   "outputs": [
    {
     "name": "stdout",
     "output_type": "stream",
     "text": [
      "wtc: 66.614928652863\n",
      "aircraft_type: 13.755218568342919\n",
      "airline: 6.733638730285759\n",
      "flight_duration: 4.712739729990969\n",
      "flown_distance: 4.572024187483981\n",
      "country_code_ades: 0.9367501487493993\n",
      "taxiout_time: 0.9222817534439907\n",
      "country_code_adep: 0.678400556634356\n",
      "ades: 0.5288999522061736\n",
      "offblock_hour: 0.42518023304026265\n",
      "offblock_month: 0.09052470234923729\n",
      "offblock_day_of_week: 0.029412784609957485\n",
      "name_ades: 0.0\n",
      "adep: 0.0\n"
     ]
    }
   ],
   "source": [
    "model = CatBoostRegressor(**params).fit(train_pool)\n",
    "feature_importances = model.get_feature_importance(train_pool)\n",
    "feature_names = X_train.columns\n",
    "for score, name in sorted(zip(feature_importances, feature_names), reverse=True):\n",
    "    print('{}: {}'.format(name, score))"
   ]
  },
  {
   "cell_type": "markdown",
   "id": "56cc8f27-a45f-449f-a237-64077f802bb5",
   "metadata": {},
   "source": [
    "## Hyperparameter Tunning"
   ]
  },
  {
   "cell_type": "code",
   "execution_count": 47,
   "id": "09877478-7be3-4e07-b449-69d9d75f39bb",
   "metadata": {},
   "outputs": [
    {
     "name": "stdout",
     "output_type": "stream",
     "text": [
      "Requirement already satisfied: hyperopt in ./env/lib/python3.10/site-packages (0.2.7)\n",
      "Requirement already satisfied: numpy in ./env/lib/python3.10/site-packages (from hyperopt) (1.26.4)\n",
      "Requirement already satisfied: future in ./env/lib/python3.10/site-packages (from hyperopt) (1.0.0)\n",
      "Requirement already satisfied: cloudpickle in ./env/lib/python3.10/site-packages (from hyperopt) (3.0.0)\n",
      "Requirement already satisfied: py4j in ./env/lib/python3.10/site-packages (from hyperopt) (0.10.9.7)\n",
      "Requirement already satisfied: scipy in ./env/lib/python3.10/site-packages (from hyperopt) (1.14.1)\n",
      "Requirement already satisfied: networkx>=2.2 in ./env/lib/python3.10/site-packages (from hyperopt) (3.3)\n",
      "Requirement already satisfied: tqdm in ./env/lib/python3.10/site-packages (from hyperopt) (4.66.5)\n",
      "Requirement already satisfied: six in ./env/lib/python3.10/site-packages (from hyperopt) (1.16.0)\n"
     ]
    }
   ],
   "source": [
    "!pip install hyperopt"
   ]
  },
  {
   "cell_type": "code",
   "execution_count": 106,
   "id": "eb96b5f7-3f69-4be8-a6ac-9c508f0eaa3d",
   "metadata": {},
   "outputs": [],
   "source": [
    "import hyperopt\n",
    "\n",
    "def hyperopt_objective(params):\n",
    "    model = CatBoostRegressor(\n",
    "        l2_leaf_reg=int(params['l2_leaf_reg']),\n",
    "        learning_rate=params['learning_rate'],\n",
    "        iterations=1000,\n",
    "        eval_metric=metrics.RMSE(),\n",
    "        random_seed=42,\n",
    "        verbose=False,\n",
    "        objective=metrics.RMSE(),\n",
    "        task_type='GPU', # training on GPU\n",
    "        use_best_model=True,\n",
    "    )\n",
    "\n",
    "    cv_data = cv(\n",
    "        Pool(X, y, cat_features=cat_names),\n",
    "        model.get_params(),\n",
    "        logging_level='Silent',\n",
    "    )\n",
    "    best_rmse = np.max(cv_data['test-RMSE-mean'])\n",
    "\n",
    "    return best_rmse"
   ]
  },
  {
   "cell_type": "code",
   "execution_count": 105,
   "id": "4852c4e9-d634-4cd7-ac25-b259a5a3b224",
   "metadata": {},
   "outputs": [
    {
     "name": "stdout",
     "output_type": "stream",
     "text": [
      " 10%|█         | 5/50 [00:29<04:23,  5.85s/trial, best loss: 0.3175062385860914]"
     ]
    },
    {
     "name": "stderr",
     "output_type": "stream",
     "text": [
      "learning rate is greater than 1. You probably need to decrease learning rate.\n",
      "\n",
      "learning rate is greater than 1. You probably need to decrease learning rate.\n",
      "\n",
      "learning rate is greater than 1. You probably need to decrease learning rate.\n",
      "\n"
     ]
    },
    {
     "name": "stdout",
     "output_type": "stream",
     "text": [
      " 14%|█▍        | 7/50 [00:38<03:53,  5.43s/trial, best loss: 0.3175062385860914]"
     ]
    },
    {
     "name": "stderr",
     "output_type": "stream",
     "text": [
      "learning rate is greater than 1. You probably need to decrease learning rate.\n",
      "\n",
      "learning rate is greater than 1. You probably need to decrease learning rate.\n",
      "\n",
      "learning rate is greater than 1. You probably need to decrease learning rate.\n",
      "\n"
     ]
    },
    {
     "name": "stdout",
     "output_type": "stream",
     "text": [
      " 16%|█▌        | 8/50 [00:44<03:52,  5.54s/trial, best loss: 0.3175062385860914]"
     ]
    },
    {
     "name": "stderr",
     "output_type": "stream",
     "text": [
      "learning rate is greater than 1. You probably need to decrease learning rate.\n",
      "\n",
      "learning rate is greater than 1. You probably need to decrease learning rate.\n",
      "\n",
      "learning rate is greater than 1. You probably need to decrease learning rate.\n",
      "\n"
     ]
    },
    {
     "name": "stdout",
     "output_type": "stream",
     "text": [
      " 18%|█▊        | 9/50 [00:48<03:27,  5.06s/trial, best loss: 0.3175062385860914]"
     ]
    },
    {
     "name": "stderr",
     "output_type": "stream",
     "text": [
      "learning rate is greater than 1. You probably need to decrease learning rate.\n",
      "\n",
      "learning rate is greater than 1. You probably need to decrease learning rate.\n",
      "\n",
      "learning rate is greater than 1. You probably need to decrease learning rate.\n",
      "\n"
     ]
    },
    {
     "name": "stdout",
     "output_type": "stream",
     "text": [
      " 22%|█▉       | 11/50 [00:59<03:26,  5.30s/trial, best loss: 0.3175062385860914]"
     ]
    },
    {
     "name": "stderr",
     "output_type": "stream",
     "text": [
      "learning rate is greater than 1. You probably need to decrease learning rate.\n",
      "\n",
      "learning rate is greater than 1. You probably need to decrease learning rate.\n",
      "\n",
      "learning rate is greater than 1. You probably need to decrease learning rate.\n",
      "\n"
     ]
    },
    {
     "name": "stdout",
     "output_type": "stream",
     "text": [
      " 22%|█▉       | 11/50 [01:02<03:42,  5.70s/trial, best loss: 0.3175062385860914]\n"
     ]
    },
    {
     "ename": "KeyboardInterrupt",
     "evalue": "",
     "output_type": "error",
     "traceback": [
      "\u001b[0;31m---------------------------------------------------------------------------\u001b[0m",
      "\u001b[0;31mKeyboardInterrupt\u001b[0m                         Traceback (most recent call last)",
      "Cell \u001b[0;32mIn[105], line 9\u001b[0m\n\u001b[1;32m      1\u001b[0m params_space \u001b[38;5;241m=\u001b[39m {\n\u001b[1;32m      2\u001b[0m     \u001b[38;5;124m'\u001b[39m\u001b[38;5;124ml2_leaf_reg\u001b[39m\u001b[38;5;124m'\u001b[39m: hyperopt\u001b[38;5;241m.\u001b[39mhp\u001b[38;5;241m.\u001b[39mqloguniform(\u001b[38;5;124m'\u001b[39m\u001b[38;5;124ml2_leaf_reg\u001b[39m\u001b[38;5;124m'\u001b[39m, \u001b[38;5;241m0\u001b[39m, \u001b[38;5;241m4\u001b[39m, \u001b[38;5;241m1\u001b[39m),\n\u001b[1;32m      3\u001b[0m     \u001b[38;5;124m'\u001b[39m\u001b[38;5;124mlearning_rate\u001b[39m\u001b[38;5;124m'\u001b[39m: hyperopt\u001b[38;5;241m.\u001b[39mhp\u001b[38;5;241m.\u001b[39mloguniform(\u001b[38;5;124m'\u001b[39m\u001b[38;5;124mlearning_rate\u001b[39m\u001b[38;5;124m'\u001b[39m, \u001b[38;5;241m-\u001b[39m\u001b[38;5;241m3\u001b[39m, \u001b[38;5;241m2\u001b[39m),\n\u001b[1;32m      4\u001b[0m     \u001b[38;5;66;03m# 'learning_rate': hyperopt.hp.uniform('learning_rate', 1e-3, 1.0),\u001b[39;00m\n\u001b[1;32m      5\u001b[0m }\n\u001b[1;32m      7\u001b[0m trials \u001b[38;5;241m=\u001b[39m hyperopt\u001b[38;5;241m.\u001b[39mTrials()\n\u001b[0;32m----> 9\u001b[0m best \u001b[38;5;241m=\u001b[39m \u001b[43mhyperopt\u001b[49m\u001b[38;5;241;43m.\u001b[39;49m\u001b[43mfmin\u001b[49m\u001b[43m(\u001b[49m\n\u001b[1;32m     10\u001b[0m \u001b[43m    \u001b[49m\u001b[43mhyperopt_objective\u001b[49m\u001b[43m,\u001b[49m\n\u001b[1;32m     11\u001b[0m \u001b[43m    \u001b[49m\u001b[43mspace\u001b[49m\u001b[38;5;241;43m=\u001b[39;49m\u001b[43mparams_space\u001b[49m\u001b[43m,\u001b[49m\n\u001b[1;32m     12\u001b[0m \u001b[43m    \u001b[49m\u001b[43malgo\u001b[49m\u001b[38;5;241;43m=\u001b[39;49m\u001b[43mhyperopt\u001b[49m\u001b[38;5;241;43m.\u001b[39;49m\u001b[43mtpe\u001b[49m\u001b[38;5;241;43m.\u001b[39;49m\u001b[43msuggest\u001b[49m\u001b[43m,\u001b[49m\n\u001b[1;32m     13\u001b[0m \u001b[43m    \u001b[49m\u001b[43mmax_evals\u001b[49m\u001b[38;5;241;43m=\u001b[39;49m\u001b[38;5;241;43m50\u001b[39;49m\u001b[43m,\u001b[49m\n\u001b[1;32m     14\u001b[0m \u001b[43m    \u001b[49m\u001b[43mtrials\u001b[49m\u001b[38;5;241;43m=\u001b[39;49m\u001b[43mtrials\u001b[49m\u001b[43m,\u001b[49m\n\u001b[1;32m     15\u001b[0m \u001b[43m    \u001b[49m\u001b[43mrstate\u001b[49m\u001b[38;5;241;43m=\u001b[39;49m\u001b[43mnp\u001b[49m\u001b[38;5;241;43m.\u001b[39;49m\u001b[43mrandom\u001b[49m\u001b[38;5;241;43m.\u001b[39;49m\u001b[43mdefault_rng\u001b[49m\u001b[43m(\u001b[49m\u001b[38;5;241;43m123\u001b[39;49m\u001b[43m)\u001b[49m\n\u001b[1;32m     16\u001b[0m \u001b[43m)\u001b[49m\n\u001b[1;32m     18\u001b[0m \u001b[38;5;28mprint\u001b[39m(best)\n",
      "File \u001b[0;32m~/ita/prc-challenge-ita/env/lib/python3.10/site-packages/hyperopt/fmin.py:540\u001b[0m, in \u001b[0;36mfmin\u001b[0;34m(fn, space, algo, max_evals, timeout, loss_threshold, trials, rstate, allow_trials_fmin, pass_expr_memo_ctrl, catch_eval_exceptions, verbose, return_argmin, points_to_evaluate, max_queue_len, show_progressbar, early_stop_fn, trials_save_file)\u001b[0m\n\u001b[1;32m    537\u001b[0m     fn \u001b[38;5;241m=\u001b[39m __objective_fmin_wrapper(fn)\n\u001b[1;32m    539\u001b[0m \u001b[38;5;28;01mif\u001b[39;00m allow_trials_fmin \u001b[38;5;129;01mand\u001b[39;00m \u001b[38;5;28mhasattr\u001b[39m(trials, \u001b[38;5;124m\"\u001b[39m\u001b[38;5;124mfmin\u001b[39m\u001b[38;5;124m\"\u001b[39m):\n\u001b[0;32m--> 540\u001b[0m     \u001b[38;5;28;01mreturn\u001b[39;00m \u001b[43mtrials\u001b[49m\u001b[38;5;241;43m.\u001b[39;49m\u001b[43mfmin\u001b[49m\u001b[43m(\u001b[49m\n\u001b[1;32m    541\u001b[0m \u001b[43m        \u001b[49m\u001b[43mfn\u001b[49m\u001b[43m,\u001b[49m\n\u001b[1;32m    542\u001b[0m \u001b[43m        \u001b[49m\u001b[43mspace\u001b[49m\u001b[43m,\u001b[49m\n\u001b[1;32m    543\u001b[0m \u001b[43m        \u001b[49m\u001b[43malgo\u001b[49m\u001b[38;5;241;43m=\u001b[39;49m\u001b[43malgo\u001b[49m\u001b[43m,\u001b[49m\n\u001b[1;32m    544\u001b[0m \u001b[43m        \u001b[49m\u001b[43mmax_evals\u001b[49m\u001b[38;5;241;43m=\u001b[39;49m\u001b[43mmax_evals\u001b[49m\u001b[43m,\u001b[49m\n\u001b[1;32m    545\u001b[0m \u001b[43m        \u001b[49m\u001b[43mtimeout\u001b[49m\u001b[38;5;241;43m=\u001b[39;49m\u001b[43mtimeout\u001b[49m\u001b[43m,\u001b[49m\n\u001b[1;32m    546\u001b[0m \u001b[43m        \u001b[49m\u001b[43mloss_threshold\u001b[49m\u001b[38;5;241;43m=\u001b[39;49m\u001b[43mloss_threshold\u001b[49m\u001b[43m,\u001b[49m\n\u001b[1;32m    547\u001b[0m \u001b[43m        \u001b[49m\u001b[43mmax_queue_len\u001b[49m\u001b[38;5;241;43m=\u001b[39;49m\u001b[43mmax_queue_len\u001b[49m\u001b[43m,\u001b[49m\n\u001b[1;32m    548\u001b[0m \u001b[43m        \u001b[49m\u001b[43mrstate\u001b[49m\u001b[38;5;241;43m=\u001b[39;49m\u001b[43mrstate\u001b[49m\u001b[43m,\u001b[49m\n\u001b[1;32m    549\u001b[0m \u001b[43m        \u001b[49m\u001b[43mpass_expr_memo_ctrl\u001b[49m\u001b[38;5;241;43m=\u001b[39;49m\u001b[43mpass_expr_memo_ctrl\u001b[49m\u001b[43m,\u001b[49m\n\u001b[1;32m    550\u001b[0m \u001b[43m        \u001b[49m\u001b[43mverbose\u001b[49m\u001b[38;5;241;43m=\u001b[39;49m\u001b[43mverbose\u001b[49m\u001b[43m,\u001b[49m\n\u001b[1;32m    551\u001b[0m \u001b[43m        \u001b[49m\u001b[43mcatch_eval_exceptions\u001b[49m\u001b[38;5;241;43m=\u001b[39;49m\u001b[43mcatch_eval_exceptions\u001b[49m\u001b[43m,\u001b[49m\n\u001b[1;32m    552\u001b[0m \u001b[43m        \u001b[49m\u001b[43mreturn_argmin\u001b[49m\u001b[38;5;241;43m=\u001b[39;49m\u001b[43mreturn_argmin\u001b[49m\u001b[43m,\u001b[49m\n\u001b[1;32m    553\u001b[0m \u001b[43m        \u001b[49m\u001b[43mshow_progressbar\u001b[49m\u001b[38;5;241;43m=\u001b[39;49m\u001b[43mshow_progressbar\u001b[49m\u001b[43m,\u001b[49m\n\u001b[1;32m    554\u001b[0m \u001b[43m        \u001b[49m\u001b[43mearly_stop_fn\u001b[49m\u001b[38;5;241;43m=\u001b[39;49m\u001b[43mearly_stop_fn\u001b[49m\u001b[43m,\u001b[49m\n\u001b[1;32m    555\u001b[0m \u001b[43m        \u001b[49m\u001b[43mtrials_save_file\u001b[49m\u001b[38;5;241;43m=\u001b[39;49m\u001b[43mtrials_save_file\u001b[49m\u001b[43m,\u001b[49m\n\u001b[1;32m    556\u001b[0m \u001b[43m    \u001b[49m\u001b[43m)\u001b[49m\n\u001b[1;32m    558\u001b[0m \u001b[38;5;28;01mif\u001b[39;00m trials \u001b[38;5;129;01mis\u001b[39;00m \u001b[38;5;28;01mNone\u001b[39;00m:\n\u001b[1;32m    559\u001b[0m     \u001b[38;5;28;01mif\u001b[39;00m os\u001b[38;5;241m.\u001b[39mpath\u001b[38;5;241m.\u001b[39mexists(trials_save_file):\n",
      "File \u001b[0;32m~/ita/prc-challenge-ita/env/lib/python3.10/site-packages/hyperopt/base.py:671\u001b[0m, in \u001b[0;36mTrials.fmin\u001b[0;34m(self, fn, space, algo, max_evals, timeout, loss_threshold, max_queue_len, rstate, verbose, pass_expr_memo_ctrl, catch_eval_exceptions, return_argmin, show_progressbar, early_stop_fn, trials_save_file)\u001b[0m\n\u001b[1;32m    666\u001b[0m \u001b[38;5;66;03m# -- Stop-gap implementation!\u001b[39;00m\n\u001b[1;32m    667\u001b[0m \u001b[38;5;66;03m#    fmin should have been a Trials method in the first place\u001b[39;00m\n\u001b[1;32m    668\u001b[0m \u001b[38;5;66;03m#    but for now it's still sitting in another file.\u001b[39;00m\n\u001b[1;32m    669\u001b[0m \u001b[38;5;28;01mfrom\u001b[39;00m \u001b[38;5;21;01m.\u001b[39;00m\u001b[38;5;21;01mfmin\u001b[39;00m \u001b[38;5;28;01mimport\u001b[39;00m fmin\n\u001b[0;32m--> 671\u001b[0m \u001b[38;5;28;01mreturn\u001b[39;00m \u001b[43mfmin\u001b[49m\u001b[43m(\u001b[49m\n\u001b[1;32m    672\u001b[0m \u001b[43m    \u001b[49m\u001b[43mfn\u001b[49m\u001b[43m,\u001b[49m\n\u001b[1;32m    673\u001b[0m \u001b[43m    \u001b[49m\u001b[43mspace\u001b[49m\u001b[43m,\u001b[49m\n\u001b[1;32m    674\u001b[0m \u001b[43m    \u001b[49m\u001b[43malgo\u001b[49m\u001b[38;5;241;43m=\u001b[39;49m\u001b[43malgo\u001b[49m\u001b[43m,\u001b[49m\n\u001b[1;32m    675\u001b[0m \u001b[43m    \u001b[49m\u001b[43mmax_evals\u001b[49m\u001b[38;5;241;43m=\u001b[39;49m\u001b[43mmax_evals\u001b[49m\u001b[43m,\u001b[49m\n\u001b[1;32m    676\u001b[0m \u001b[43m    \u001b[49m\u001b[43mtimeout\u001b[49m\u001b[38;5;241;43m=\u001b[39;49m\u001b[43mtimeout\u001b[49m\u001b[43m,\u001b[49m\n\u001b[1;32m    677\u001b[0m \u001b[43m    \u001b[49m\u001b[43mloss_threshold\u001b[49m\u001b[38;5;241;43m=\u001b[39;49m\u001b[43mloss_threshold\u001b[49m\u001b[43m,\u001b[49m\n\u001b[1;32m    678\u001b[0m \u001b[43m    \u001b[49m\u001b[43mtrials\u001b[49m\u001b[38;5;241;43m=\u001b[39;49m\u001b[38;5;28;43mself\u001b[39;49m\u001b[43m,\u001b[49m\n\u001b[1;32m    679\u001b[0m \u001b[43m    \u001b[49m\u001b[43mrstate\u001b[49m\u001b[38;5;241;43m=\u001b[39;49m\u001b[43mrstate\u001b[49m\u001b[43m,\u001b[49m\n\u001b[1;32m    680\u001b[0m \u001b[43m    \u001b[49m\u001b[43mverbose\u001b[49m\u001b[38;5;241;43m=\u001b[39;49m\u001b[43mverbose\u001b[49m\u001b[43m,\u001b[49m\n\u001b[1;32m    681\u001b[0m \u001b[43m    \u001b[49m\u001b[43mmax_queue_len\u001b[49m\u001b[38;5;241;43m=\u001b[39;49m\u001b[43mmax_queue_len\u001b[49m\u001b[43m,\u001b[49m\n\u001b[1;32m    682\u001b[0m \u001b[43m    \u001b[49m\u001b[43mallow_trials_fmin\u001b[49m\u001b[38;5;241;43m=\u001b[39;49m\u001b[38;5;28;43;01mFalse\u001b[39;49;00m\u001b[43m,\u001b[49m\u001b[43m  \u001b[49m\u001b[38;5;66;43;03m# -- prevent recursion\u001b[39;49;00m\n\u001b[1;32m    683\u001b[0m \u001b[43m    \u001b[49m\u001b[43mpass_expr_memo_ctrl\u001b[49m\u001b[38;5;241;43m=\u001b[39;49m\u001b[43mpass_expr_memo_ctrl\u001b[49m\u001b[43m,\u001b[49m\n\u001b[1;32m    684\u001b[0m \u001b[43m    \u001b[49m\u001b[43mcatch_eval_exceptions\u001b[49m\u001b[38;5;241;43m=\u001b[39;49m\u001b[43mcatch_eval_exceptions\u001b[49m\u001b[43m,\u001b[49m\n\u001b[1;32m    685\u001b[0m \u001b[43m    \u001b[49m\u001b[43mreturn_argmin\u001b[49m\u001b[38;5;241;43m=\u001b[39;49m\u001b[43mreturn_argmin\u001b[49m\u001b[43m,\u001b[49m\n\u001b[1;32m    686\u001b[0m \u001b[43m    \u001b[49m\u001b[43mshow_progressbar\u001b[49m\u001b[38;5;241;43m=\u001b[39;49m\u001b[43mshow_progressbar\u001b[49m\u001b[43m,\u001b[49m\n\u001b[1;32m    687\u001b[0m \u001b[43m    \u001b[49m\u001b[43mearly_stop_fn\u001b[49m\u001b[38;5;241;43m=\u001b[39;49m\u001b[43mearly_stop_fn\u001b[49m\u001b[43m,\u001b[49m\n\u001b[1;32m    688\u001b[0m \u001b[43m    \u001b[49m\u001b[43mtrials_save_file\u001b[49m\u001b[38;5;241;43m=\u001b[39;49m\u001b[43mtrials_save_file\u001b[49m\u001b[43m,\u001b[49m\n\u001b[1;32m    689\u001b[0m \u001b[43m\u001b[49m\u001b[43m)\u001b[49m\n",
      "File \u001b[0;32m~/ita/prc-challenge-ita/env/lib/python3.10/site-packages/hyperopt/fmin.py:586\u001b[0m, in \u001b[0;36mfmin\u001b[0;34m(fn, space, algo, max_evals, timeout, loss_threshold, trials, rstate, allow_trials_fmin, pass_expr_memo_ctrl, catch_eval_exceptions, verbose, return_argmin, points_to_evaluate, max_queue_len, show_progressbar, early_stop_fn, trials_save_file)\u001b[0m\n\u001b[1;32m    583\u001b[0m rval\u001b[38;5;241m.\u001b[39mcatch_eval_exceptions \u001b[38;5;241m=\u001b[39m catch_eval_exceptions\n\u001b[1;32m    585\u001b[0m \u001b[38;5;66;03m# next line is where the fmin is actually executed\u001b[39;00m\n\u001b[0;32m--> 586\u001b[0m \u001b[43mrval\u001b[49m\u001b[38;5;241;43m.\u001b[39;49m\u001b[43mexhaust\u001b[49m\u001b[43m(\u001b[49m\u001b[43m)\u001b[49m\n\u001b[1;32m    588\u001b[0m \u001b[38;5;28;01mif\u001b[39;00m return_argmin:\n\u001b[1;32m    589\u001b[0m     \u001b[38;5;28;01mif\u001b[39;00m \u001b[38;5;28mlen\u001b[39m(trials\u001b[38;5;241m.\u001b[39mtrials) \u001b[38;5;241m==\u001b[39m \u001b[38;5;241m0\u001b[39m:\n",
      "File \u001b[0;32m~/ita/prc-challenge-ita/env/lib/python3.10/site-packages/hyperopt/fmin.py:364\u001b[0m, in \u001b[0;36mFMinIter.exhaust\u001b[0;34m(self)\u001b[0m\n\u001b[1;32m    362\u001b[0m \u001b[38;5;28;01mdef\u001b[39;00m \u001b[38;5;21mexhaust\u001b[39m(\u001b[38;5;28mself\u001b[39m):\n\u001b[1;32m    363\u001b[0m     n_done \u001b[38;5;241m=\u001b[39m \u001b[38;5;28mlen\u001b[39m(\u001b[38;5;28mself\u001b[39m\u001b[38;5;241m.\u001b[39mtrials)\n\u001b[0;32m--> 364\u001b[0m     \u001b[38;5;28;43mself\u001b[39;49m\u001b[38;5;241;43m.\u001b[39;49m\u001b[43mrun\u001b[49m\u001b[43m(\u001b[49m\u001b[38;5;28;43mself\u001b[39;49m\u001b[38;5;241;43m.\u001b[39;49m\u001b[43mmax_evals\u001b[49m\u001b[43m \u001b[49m\u001b[38;5;241;43m-\u001b[39;49m\u001b[43m \u001b[49m\u001b[43mn_done\u001b[49m\u001b[43m,\u001b[49m\u001b[43m \u001b[49m\u001b[43mblock_until_done\u001b[49m\u001b[38;5;241;43m=\u001b[39;49m\u001b[38;5;28;43mself\u001b[39;49m\u001b[38;5;241;43m.\u001b[39;49m\u001b[43masynchronous\u001b[49m\u001b[43m)\u001b[49m\n\u001b[1;32m    365\u001b[0m     \u001b[38;5;28mself\u001b[39m\u001b[38;5;241m.\u001b[39mtrials\u001b[38;5;241m.\u001b[39mrefresh()\n\u001b[1;32m    366\u001b[0m     \u001b[38;5;28;01mreturn\u001b[39;00m \u001b[38;5;28mself\u001b[39m\n",
      "File \u001b[0;32m~/ita/prc-challenge-ita/env/lib/python3.10/site-packages/hyperopt/fmin.py:300\u001b[0m, in \u001b[0;36mFMinIter.run\u001b[0;34m(self, N, block_until_done)\u001b[0m\n\u001b[1;32m    297\u001b[0m     time\u001b[38;5;241m.\u001b[39msleep(\u001b[38;5;28mself\u001b[39m\u001b[38;5;241m.\u001b[39mpoll_interval_secs)\n\u001b[1;32m    298\u001b[0m \u001b[38;5;28;01melse\u001b[39;00m:\n\u001b[1;32m    299\u001b[0m     \u001b[38;5;66;03m# -- loop over trials and do the jobs directly\u001b[39;00m\n\u001b[0;32m--> 300\u001b[0m     \u001b[38;5;28;43mself\u001b[39;49m\u001b[38;5;241;43m.\u001b[39;49m\u001b[43mserial_evaluate\u001b[49m\u001b[43m(\u001b[49m\u001b[43m)\u001b[49m\n\u001b[1;32m    302\u001b[0m \u001b[38;5;28mself\u001b[39m\u001b[38;5;241m.\u001b[39mtrials\u001b[38;5;241m.\u001b[39mrefresh()\n\u001b[1;32m    303\u001b[0m \u001b[38;5;28;01mif\u001b[39;00m \u001b[38;5;28mself\u001b[39m\u001b[38;5;241m.\u001b[39mtrials_save_file \u001b[38;5;241m!=\u001b[39m \u001b[38;5;124m\"\u001b[39m\u001b[38;5;124m\"\u001b[39m:\n",
      "File \u001b[0;32m~/ita/prc-challenge-ita/env/lib/python3.10/site-packages/hyperopt/fmin.py:178\u001b[0m, in \u001b[0;36mFMinIter.serial_evaluate\u001b[0;34m(self, N)\u001b[0m\n\u001b[1;32m    176\u001b[0m ctrl \u001b[38;5;241m=\u001b[39m base\u001b[38;5;241m.\u001b[39mCtrl(\u001b[38;5;28mself\u001b[39m\u001b[38;5;241m.\u001b[39mtrials, current_trial\u001b[38;5;241m=\u001b[39mtrial)\n\u001b[1;32m    177\u001b[0m \u001b[38;5;28;01mtry\u001b[39;00m:\n\u001b[0;32m--> 178\u001b[0m     result \u001b[38;5;241m=\u001b[39m \u001b[38;5;28;43mself\u001b[39;49m\u001b[38;5;241;43m.\u001b[39;49m\u001b[43mdomain\u001b[49m\u001b[38;5;241;43m.\u001b[39;49m\u001b[43mevaluate\u001b[49m\u001b[43m(\u001b[49m\u001b[43mspec\u001b[49m\u001b[43m,\u001b[49m\u001b[43m \u001b[49m\u001b[43mctrl\u001b[49m\u001b[43m)\u001b[49m\n\u001b[1;32m    179\u001b[0m \u001b[38;5;28;01mexcept\u001b[39;00m \u001b[38;5;167;01mException\u001b[39;00m \u001b[38;5;28;01mas\u001b[39;00m e:\n\u001b[1;32m    180\u001b[0m     logger\u001b[38;5;241m.\u001b[39merror(\u001b[38;5;124m\"\u001b[39m\u001b[38;5;124mjob exception: \u001b[39m\u001b[38;5;132;01m%s\u001b[39;00m\u001b[38;5;124m\"\u001b[39m \u001b[38;5;241m%\u001b[39m \u001b[38;5;28mstr\u001b[39m(e))\n",
      "File \u001b[0;32m~/ita/prc-challenge-ita/env/lib/python3.10/site-packages/hyperopt/base.py:892\u001b[0m, in \u001b[0;36mDomain.evaluate\u001b[0;34m(self, config, ctrl, attach_attachments)\u001b[0m\n\u001b[1;32m    883\u001b[0m \u001b[38;5;28;01melse\u001b[39;00m:\n\u001b[1;32m    884\u001b[0m     \u001b[38;5;66;03m# -- the \"work\" of evaluating `config` can be written\u001b[39;00m\n\u001b[1;32m    885\u001b[0m     \u001b[38;5;66;03m#    either into the pyll part (self.expr)\u001b[39;00m\n\u001b[1;32m    886\u001b[0m     \u001b[38;5;66;03m#    or the normal Python part (self.fn)\u001b[39;00m\n\u001b[1;32m    887\u001b[0m     pyll_rval \u001b[38;5;241m=\u001b[39m pyll\u001b[38;5;241m.\u001b[39mrec_eval(\n\u001b[1;32m    888\u001b[0m         \u001b[38;5;28mself\u001b[39m\u001b[38;5;241m.\u001b[39mexpr,\n\u001b[1;32m    889\u001b[0m         memo\u001b[38;5;241m=\u001b[39mmemo,\n\u001b[1;32m    890\u001b[0m         print_node_on_error\u001b[38;5;241m=\u001b[39m\u001b[38;5;28mself\u001b[39m\u001b[38;5;241m.\u001b[39mrec_eval_print_node_on_error,\n\u001b[1;32m    891\u001b[0m     )\n\u001b[0;32m--> 892\u001b[0m     rval \u001b[38;5;241m=\u001b[39m \u001b[38;5;28;43mself\u001b[39;49m\u001b[38;5;241;43m.\u001b[39;49m\u001b[43mfn\u001b[49m\u001b[43m(\u001b[49m\u001b[43mpyll_rval\u001b[49m\u001b[43m)\u001b[49m\n\u001b[1;32m    894\u001b[0m \u001b[38;5;28;01mif\u001b[39;00m \u001b[38;5;28misinstance\u001b[39m(rval, (\u001b[38;5;28mfloat\u001b[39m, \u001b[38;5;28mint\u001b[39m, np\u001b[38;5;241m.\u001b[39mnumber)):\n\u001b[1;32m    895\u001b[0m     dict_rval \u001b[38;5;241m=\u001b[39m {\u001b[38;5;124m\"\u001b[39m\u001b[38;5;124mloss\u001b[39m\u001b[38;5;124m\"\u001b[39m: \u001b[38;5;28mfloat\u001b[39m(rval), \u001b[38;5;124m\"\u001b[39m\u001b[38;5;124mstatus\u001b[39m\u001b[38;5;124m\"\u001b[39m: STATUS_OK}\n",
      "Cell \u001b[0;32mIn[104], line 16\u001b[0m, in \u001b[0;36mhyperopt_objective\u001b[0;34m(params)\u001b[0m\n\u001b[1;32m      3\u001b[0m \u001b[38;5;28;01mdef\u001b[39;00m \u001b[38;5;21mhyperopt_objective\u001b[39m(params):\n\u001b[1;32m      4\u001b[0m     model \u001b[38;5;241m=\u001b[39m CatBoostRegressor(\n\u001b[1;32m      5\u001b[0m         l2_leaf_reg\u001b[38;5;241m=\u001b[39m\u001b[38;5;28mint\u001b[39m(params[\u001b[38;5;124m'\u001b[39m\u001b[38;5;124ml2_leaf_reg\u001b[39m\u001b[38;5;124m'\u001b[39m]),\n\u001b[1;32m      6\u001b[0m         learning_rate\u001b[38;5;241m=\u001b[39mparams[\u001b[38;5;124m'\u001b[39m\u001b[38;5;124mlearning_rate\u001b[39m\u001b[38;5;124m'\u001b[39m],\n\u001b[0;32m   (...)\u001b[0m\n\u001b[1;32m     13\u001b[0m         use_best_model\u001b[38;5;241m=\u001b[39m\u001b[38;5;28;01mTrue\u001b[39;00m,\n\u001b[1;32m     14\u001b[0m     )\n\u001b[0;32m---> 16\u001b[0m     cv_data \u001b[38;5;241m=\u001b[39m \u001b[43mcv\u001b[49m\u001b[43m(\u001b[49m\n\u001b[1;32m     17\u001b[0m \u001b[43m        \u001b[49m\u001b[43mPool\u001b[49m\u001b[43m(\u001b[49m\u001b[43mX\u001b[49m\u001b[43m,\u001b[49m\u001b[43m \u001b[49m\u001b[43my\u001b[49m\u001b[43m,\u001b[49m\u001b[43m \u001b[49m\u001b[43mcat_features\u001b[49m\u001b[38;5;241;43m=\u001b[39;49m\u001b[43mcat_names\u001b[49m\u001b[43m)\u001b[49m\u001b[43m,\u001b[49m\n\u001b[1;32m     18\u001b[0m \u001b[43m        \u001b[49m\u001b[43mmodel\u001b[49m\u001b[38;5;241;43m.\u001b[39;49m\u001b[43mget_params\u001b[49m\u001b[43m(\u001b[49m\u001b[43m)\u001b[49m\u001b[43m,\u001b[49m\n\u001b[1;32m     19\u001b[0m \u001b[43m        \u001b[49m\u001b[43mlogging_level\u001b[49m\u001b[38;5;241;43m=\u001b[39;49m\u001b[38;5;124;43m'\u001b[39;49m\u001b[38;5;124;43mSilent\u001b[39;49m\u001b[38;5;124;43m'\u001b[39;49m\u001b[43m,\u001b[49m\n\u001b[1;32m     20\u001b[0m \u001b[43m    \u001b[49m\u001b[43m)\u001b[49m\n\u001b[1;32m     21\u001b[0m     best_rmse \u001b[38;5;241m=\u001b[39m np\u001b[38;5;241m.\u001b[39mmax(cv_data[\u001b[38;5;124m'\u001b[39m\u001b[38;5;124mtest-RMSE-mean\u001b[39m\u001b[38;5;124m'\u001b[39m])\n\u001b[1;32m     23\u001b[0m     \u001b[38;5;28;01mreturn\u001b[39;00m best_rmse\n",
      "File \u001b[0;32m~/ita/prc-challenge-ita/env/lib/python3.10/site-packages/catboost/core.py:6980\u001b[0m, in \u001b[0;36mcv\u001b[0;34m(pool, params, dtrain, iterations, num_boost_round, fold_count, nfold, inverted, partition_random_seed, seed, shuffle, logging_level, stratified, as_pandas, metric_period, verbose, verbose_eval, plot, plot_file, early_stopping_rounds, save_snapshot, snapshot_file, snapshot_interval, metric_update_interval, folds, type, return_models, log_cout, log_cerr)\u001b[0m\n\u001b[1;32m   6978\u001b[0m \u001b[38;5;28;01mwith\u001b[39;00m log_fixup(log_cout, log_cerr), plot_wrapper(plot, plot_file\u001b[38;5;241m=\u001b[39mplot_file, plot_title\u001b[38;5;241m=\u001b[39m\u001b[38;5;124m'\u001b[39m\u001b[38;5;124mCross-validation plot\u001b[39m\u001b[38;5;124m'\u001b[39m, train_dirs\u001b[38;5;241m=\u001b[39mplot_dirs):\n\u001b[1;32m   6979\u001b[0m     \u001b[38;5;28;01mif\u001b[39;00m \u001b[38;5;129;01mnot\u001b[39;00m return_models:\n\u001b[0;32m-> 6980\u001b[0m         \u001b[38;5;28;01mreturn\u001b[39;00m \u001b[43m_cv\u001b[49m\u001b[43m(\u001b[49m\n\u001b[1;32m   6981\u001b[0m \u001b[43m            \u001b[49m\u001b[43mparams\u001b[49m\u001b[43m,\u001b[49m\n\u001b[1;32m   6982\u001b[0m \u001b[43m            \u001b[49m\u001b[43mpool\u001b[49m\u001b[43m,\u001b[49m\n\u001b[1;32m   6983\u001b[0m \u001b[43m            \u001b[49m\u001b[43mfold_count\u001b[49m\u001b[43m,\u001b[49m\n\u001b[1;32m   6984\u001b[0m \u001b[43m            \u001b[49m\u001b[43minverted\u001b[49m\u001b[43m,\u001b[49m\n\u001b[1;32m   6985\u001b[0m \u001b[43m            \u001b[49m\u001b[43mpartition_random_seed\u001b[49m\u001b[43m,\u001b[49m\n\u001b[1;32m   6986\u001b[0m \u001b[43m            \u001b[49m\u001b[43mshuffle\u001b[49m\u001b[43m,\u001b[49m\n\u001b[1;32m   6987\u001b[0m \u001b[43m            \u001b[49m\u001b[43mstratified\u001b[49m\u001b[43m,\u001b[49m\n\u001b[1;32m   6988\u001b[0m \u001b[43m            \u001b[49m\u001b[43mmetric_update_interval\u001b[49m\u001b[43m,\u001b[49m\n\u001b[1;32m   6989\u001b[0m \u001b[43m            \u001b[49m\u001b[43mas_pandas\u001b[49m\u001b[43m,\u001b[49m\n\u001b[1;32m   6990\u001b[0m \u001b[43m            \u001b[49m\u001b[43mfolds\u001b[49m\u001b[43m,\u001b[49m\n\u001b[1;32m   6991\u001b[0m \u001b[43m            \u001b[49m\u001b[38;5;28;43mtype\u001b[39;49m\u001b[43m,\u001b[49m\n\u001b[1;32m   6992\u001b[0m \u001b[43m            \u001b[49m\u001b[43mreturn_models\u001b[49m\n\u001b[1;32m   6993\u001b[0m \u001b[43m        \u001b[49m\u001b[43m)\u001b[49m\n\u001b[1;32m   6994\u001b[0m     \u001b[38;5;28;01melse\u001b[39;00m:\n\u001b[1;32m   6995\u001b[0m         results, cv_models \u001b[38;5;241m=\u001b[39m _cv(\n\u001b[1;32m   6996\u001b[0m             params,\n\u001b[1;32m   6997\u001b[0m             pool,\n\u001b[0;32m   (...)\u001b[0m\n\u001b[1;32m   7007\u001b[0m             return_models\n\u001b[1;32m   7008\u001b[0m         )\n",
      "File \u001b[0;32m_catboost.pyx:5880\u001b[0m, in \u001b[0;36m_catboost._cv\u001b[0;34m()\u001b[0m\n",
      "File \u001b[0;32m_catboost.pyx:5912\u001b[0m, in \u001b[0;36m_catboost._cv\u001b[0;34m()\u001b[0m\n",
      "\u001b[0;31mKeyboardInterrupt\u001b[0m: "
     ]
    }
   ],
   "source": [
    "params_space = {\n",
    "    'l2_leaf_reg': hyperopt.hp.qloguniform('l2_leaf_reg', 0, 4, 1),\n",
    "    'learning_rate': hyperopt.hp.uniform('learning_rate', 1e-3, 1.0),\n",
    "}\n",
    "\n",
    "trials = hyperopt.Trials()\n",
    "\n",
    "best = hyperopt.fmin(\n",
    "    hyperopt_objective,\n",
    "    space=params_space,\n",
    "    algo=hyperopt.tpe.suggest,\n",
    "    max_evals=50,\n",
    "    trials=trials,\n",
    "    rstate=np.random.default_rng(123)\n",
    ")\n",
    "\n",
    "print(best)"
   ]
  },
  {
   "cell_type": "code",
   "execution_count": 107,
   "id": "a8dfb7f1-da80-48a2-a2b5-fd5580f7a8f2",
   "metadata": {},
   "outputs": [
    {
     "data": {
      "application/vnd.jupyter.widget-view+json": {
       "model_id": "92b53604bc05499a9d11dd36878ecb6a",
       "version_major": 2,
       "version_minor": 0
      },
      "text/plain": [
       "MetricVisualizer(layout=Layout(align_self='stretch', height='500px'))"
      ]
     },
     "metadata": {},
     "output_type": "display_data"
    },
    {
     "name": "stdout",
     "output_type": "stream",
     "text": [
      "Training on fold [0/3]\n",
      "bestTest = 0.0719344877\n",
      "bestIteration = 2995\n",
      "Training on fold [1/3]\n",
      "bestTest = 0.0709938605\n",
      "bestIteration = 2925\n",
      "Training on fold [2/3]\n",
      "bestTest = 0.0713973583\n",
      "bestIteration = 2986\n"
     ]
    }
   ],
   "source": [
    "model = CatBoostRegressor(\n",
    "    l2_leaf_reg=int(best['l2_leaf_reg']),\n",
    "    learning_rate=best['learning_rate'],\n",
    "    iterations=3000,\n",
    "    eval_metric=metrics.RMSE(),\n",
    "    random_seed=42,\n",
    "    verbose=False,\n",
    "    objective=metrics.RMSE(),\n",
    "    task_type='GPU',\n",
    "    use_best_model=True,\n",
    ")\n",
    "cv_data = cv(Pool(X, y, cat_features=cat_names), model.get_params(), plot=True)"
   ]
  },
  {
   "cell_type": "code",
   "execution_count": 109,
   "id": "8126e214-6de0-41e0-bcc3-01b9ba479afc",
   "metadata": {},
   "outputs": [
    {
     "name": "stdout",
     "output_type": "stream",
     "text": [
      "Precise validation RMSE score: 0.07144757915986595\n"
     ]
    }
   ],
   "source": [
    "print('Precise validation RMSE score: {}'.format(np.min(cv_data['test-RMSE-mean'])))"
   ]
  },
  {
   "cell_type": "code",
   "execution_count": 110,
   "id": "b46696aa-4691-4ef0-b10f-a496b2cc3a37",
   "metadata": {},
   "outputs": [
    {
     "data": {
      "text/plain": [
       "<catboost.core.CatBoostRegressor at 0x79dff31cb850>"
      ]
     },
     "execution_count": 110,
     "metadata": {},
     "output_type": "execute_result"
    }
   ],
   "source": [
    "model.fit(train_pool, eval_set=val_pool)"
   ]
  },
  {
   "cell_type": "code",
   "execution_count": 86,
   "id": "4a7e99c2-5d94-4621-a61c-0d9d31a75298",
   "metadata": {
    "scrolled": true
   },
   "outputs": [
    {
     "data": {
      "text/plain": [
       "(-0.0005016623577173212, 0.07198964814909342)"
      ]
     },
     "execution_count": 86,
     "metadata": {},
     "output_type": "execute_result"
    },
    {
     "data": {
      "image/png": "[encoded data removed]",
      "text/plain": [
       "<Figure size 800x200 with 1 Axes>"
      ]
     },
     "metadata": {},
     "output_type": "display_data"
    }
   ],
   "source": [
    "import matplotlib.pyplot as plt\n",
    "\n",
    "plt.figure(figsize=(8, 2))\n",
    "preds_val = model.predict(X_val)\n",
    "diff_val = preds_val - y_val\n",
    "plt.hist(diff_val, bins=200)\n",
    "diff_val.mean(), diff_val.std()"
   ]
  },
  {
   "cell_type": "code",
   "execution_count": 113,
   "id": "884bf1a8-4647-445a-a1b8-673916daafc1",
   "metadata": {
    "scrolled": true
   },
   "outputs": [
    {
     "name": "stdout",
     "output_type": "stream",
     "text": [
      "Model validation RMSE: 3.834e+03\n"
     ]
    }
   ],
   "source": [
    "print('Model validation RMSE: {:.4}'.format(\n",
    "    root_mean_squared_error(y_val * std + mean, preds_val * std + mean)\n",
    "))"
   ]
  },
  {
   "cell_type": "markdown",
   "id": "297a0598-b099-49f7-a562-fb1d0aa0e052",
   "metadata": {},
   "source": [
    "## Submissão"
   ]
  },
  {
   "cell_type": "code",
   "execution_count": 96,
   "id": "b45d9111-8198-449f-bfea-5bb966be6f7f",
   "metadata": {
    "scrolled": true
   },
   "outputs": [
    {
     "data": {
      "text/html": [
       "<div>\n",
       "<style scoped>\n",
       "    .dataframe tbody tr th:only-of-type {\n",
       "        vertical-align: middle;\n",
       "    }\n",
       "\n",
       "    .dataframe tbody tr th {\n",
       "        vertical-align: top;\n",
       "    }\n",
       "\n",
       "    .dataframe thead th {\n",
       "        text-align: right;\n",
       "    }\n",
       "</style>\n",
       "<table border=\"1\" class=\"dataframe\">\n",
       "  <thead>\n",
       "    <tr style=\"text-align: right;\">\n",
       "      <th></th>\n",
       "      <th>adep</th>\n",
       "      <th>country_code_adep</th>\n",
       "      <th>ades</th>\n",
       "      <th>name_ades</th>\n",
       "      <th>country_code_ades</th>\n",
       "      <th>aircraft_type</th>\n",
       "      <th>wtc</th>\n",
       "      <th>airline</th>\n",
       "      <th>flight_duration</th>\n",
       "      <th>taxiout_time</th>\n",
       "      <th>flown_distance</th>\n",
       "      <th>tow</th>\n",
       "      <th>offblock_hour</th>\n",
       "      <th>offblock_day_of_week</th>\n",
       "      <th>offblock_month</th>\n",
       "    </tr>\n",
       "  </thead>\n",
       "  <tbody>\n",
       "    <tr>\n",
       "      <th>0</th>\n",
       "      <td>LTFJ</td>\n",
       "      <td>TR</td>\n",
       "      <td>LFLL</td>\n",
       "      <td>Lyon</td>\n",
       "      <td>FR</td>\n",
       "      <td>B738</td>\n",
       "      <td>M</td>\n",
       "      <td>6351ec1b849adacc0cbb3b1313d8d39b</td>\n",
       "      <td>170</td>\n",
       "      <td>15</td>\n",
       "      <td>1122</td>\n",
       "      <td>NaN</td>\n",
       "      <td>10</td>\n",
       "      <td>5</td>\n",
       "      <td>1</td>\n",
       "    </tr>\n",
       "    <tr>\n",
       "      <th>1</th>\n",
       "      <td>EBBR</td>\n",
       "      <td>BE</td>\n",
       "      <td>KJFK</td>\n",
       "      <td>New York JFK</td>\n",
       "      <td>US</td>\n",
       "      <td>A333</td>\n",
       "      <td>H</td>\n",
       "      <td>bdeeef3a675587d530de70a25d7118d2</td>\n",
       "      <td>470</td>\n",
       "      <td>15</td>\n",
       "      <td>3205</td>\n",
       "      <td>NaN</td>\n",
       "      <td>10</td>\n",
       "      <td>5</td>\n",
       "      <td>1</td>\n",
       "    </tr>\n",
       "    <tr>\n",
       "      <th>2</th>\n",
       "      <td>KMIA</td>\n",
       "      <td>US</td>\n",
       "      <td>EGLL</td>\n",
       "      <td>London Heathrow</td>\n",
       "      <td>GB</td>\n",
       "      <td>B77W</td>\n",
       "      <td>H</td>\n",
       "      <td>5543e4dc327359ffaf5b9c0e6faaf0e1</td>\n",
       "      <td>473</td>\n",
       "      <td>10</td>\n",
       "      <td>3965</td>\n",
       "      <td>NaN</td>\n",
       "      <td>2</td>\n",
       "      <td>5</td>\n",
       "      <td>1</td>\n",
       "    </tr>\n",
       "    <tr>\n",
       "      <th>3</th>\n",
       "      <td>EGCN</td>\n",
       "      <td>GB</td>\n",
       "      <td>LEAL</td>\n",
       "      <td>Alicante</td>\n",
       "      <td>ES</td>\n",
       "      <td>B38M</td>\n",
       "      <td>M</td>\n",
       "      <td>3922524069809ac4326134429751e26f</td>\n",
       "      <td>156</td>\n",
       "      <td>10</td>\n",
       "      <td>986</td>\n",
       "      <td>NaN</td>\n",
       "      <td>8</td>\n",
       "      <td>5</td>\n",
       "      <td>1</td>\n",
       "    </tr>\n",
       "    <tr>\n",
       "      <th>4</th>\n",
       "      <td>EIDW</td>\n",
       "      <td>IE</td>\n",
       "      <td>LFLL</td>\n",
       "      <td>Lyon</td>\n",
       "      <td>FR</td>\n",
       "      <td>A320</td>\n",
       "      <td>M</td>\n",
       "      <td>a73f82288988b79be490c6322f4c32ed</td>\n",
       "      <td>105</td>\n",
       "      <td>15</td>\n",
       "      <td>686</td>\n",
       "      <td>NaN</td>\n",
       "      <td>11</td>\n",
       "      <td>5</td>\n",
       "      <td>1</td>\n",
       "    </tr>\n",
       "  </tbody>\n",
       "</table>\n",
       "</div>"
      ],
      "text/plain": [
       "   adep country_code_adep  ades        name_ades country_code_ades  \\\n",
       "0  LTFJ                TR  LFLL             Lyon                FR   \n",
       "1  EBBR                BE  KJFK     New York JFK                US   \n",
       "2  KMIA                US  EGLL  London Heathrow                GB   \n",
       "3  EGCN                GB  LEAL         Alicante                ES   \n",
       "4  EIDW                IE  LFLL             Lyon                FR   \n",
       "\n",
       "  aircraft_type wtc                           airline  flight_duration  \\\n",
       "0          B738   M  6351ec1b849adacc0cbb3b1313d8d39b              170   \n",
       "1          A333   H  bdeeef3a675587d530de70a25d7118d2              470   \n",
       "2          B77W   H  5543e4dc327359ffaf5b9c0e6faaf0e1              473   \n",
       "3          B38M   M  3922524069809ac4326134429751e26f              156   \n",
       "4          A320   M  a73f82288988b79be490c6322f4c32ed              105   \n",
       "\n",
       "   taxiout_time  flown_distance  tow  offblock_hour  offblock_day_of_week  \\\n",
       "0            15            1122  NaN             10                     5   \n",
       "1            15            3205  NaN             10                     5   \n",
       "2            10            3965  NaN              2                     5   \n",
       "3            10             986  NaN              8                     5   \n",
       "4            15             686  NaN             11                     5   \n",
       "\n",
       "   offblock_month  \n",
       "0               1  \n",
       "1               1  \n",
       "2               1  \n",
       "3               1  \n",
       "4               1  "
      ]
     },
     "execution_count": 96,
     "metadata": {},
     "output_type": "execute_result"
    }
   ],
   "source": [
    "df_test, _, _ = load('submission_set.csv')\n",
    "df_test.head()"
   ]
  },
  {
   "cell_type": "code",
   "execution_count": 97,
   "id": "2d70a7c6-65f5-4aff-8ed4-346bdfcfa78a",
   "metadata": {},
   "outputs": [],
   "source": [
    "X_test = df_test.drop('tow', axis=1)"
   ]
  },
  {
   "cell_type": "code",
   "execution_count": 100,
   "id": "9a52c1cc-bd58-4630-9dfb-7bf319b640ab",
   "metadata": {},
   "outputs": [],
   "source": [
    "y_pred = model.predict(X_test)\n",
    "y_test = y_pred * std + mean"
   ]
  },
  {
   "cell_type": "code",
   "execution_count": 101,
   "id": "e394697e-fc59-4f8e-b037-92d57aad7bb5",
   "metadata": {},
   "outputs": [
    {
     "data": {
      "text/plain": [
       "array([ 69238.70389826, 208278.80918999, 213498.71312059, ...,\n",
       "        78344.36335698,  58749.63599476,  63962.04185803])"
      ]
     },
     "execution_count": 101,
     "metadata": {},
     "output_type": "execute_result"
    }
   ],
   "source": [
    "y_test"
   ]
  },
  {
   "cell_type": "code",
   "execution_count": 102,
   "id": "d6d36b31-791d-49b6-80f9-87aad682703c",
   "metadata": {
    "scrolled": true
   },
   "outputs": [],
   "source": [
    "dft0 = pd.read_csv('submission_set.csv')\n",
    "dft0['tow'] = y_test\n",
    "dft0[['flight_id', 'tow']].to_csv('catboost.csv', index=False)"
   ]
  },
  {
   "cell_type": "code",
   "execution_count": 103,
   "id": "0db81ef7-c884-4886-8083-441d98df5340",
   "metadata": {},
   "outputs": [
    {
     "name": "stdout",
     "output_type": "stream",
     "text": [
      "flight_id,tow\n",
      "248753821,69238.70389825726\n",
      "248753822,208278.80918999232\n",
      "248754498,213498.71312058743\n",
      "248757623,64001.00893104102\n",
      "248763603,64199.972194401205\n",
      "248755068,58672.80695669654\n",
      "248754229,57280.6246124405\n",
      "248754894,58685.62020256307\n",
      "248754751,56437.642355155745\n"
     ]
    }
   ],
   "source": [
    "!head catboost.csv"
   ]
  },
  {
   "cell_type": "code",
   "execution_count": 11,
   "id": "eed40eee-95ca-4851-b264-dcf880a08808",
   "metadata": {},
   "outputs": [],
   "source": [
    "# !mc cp ./mlp.csv dc24/submissions/team_tiny_rainbow_v2_7ec66710-1eb8-478e-8976-584c090b6373.csv"
   ]
  }
 ],
 "metadata": {
  "kernelspec": {
   "display_name": "Python 3 (ipykernel)",
   "language": "python",
   "name": "python3"
  },
  "language_info": {
   "codemirror_mode": {
    "name": "ipython",
    "version": 3
   },
   "file_extension": ".py",
   "mimetype": "text/x-python",
   "name": "python",
   "nbconvert_exporter": "python",
   "pygments_lexer": "ipython3",
   "version": "3.10.12"
  }
 },
 "nbformat": 4,
 "nbformat_minor": 5
}
