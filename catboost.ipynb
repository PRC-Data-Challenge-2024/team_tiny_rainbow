{
 "cells": [
  {
   "cell_type": "code",
   "execution_count": 1,
   "id": "d208adad-c114-4181-a0e8-201a1b5cdf0e",
   "metadata": {},
   "outputs": [],
   "source": [
    "import pandas as pd\n",
    "import numpy as np"
   ]
  },
  {
   "cell_type": "markdown",
   "id": "ed5768b5-ccc9-44e8-90f0-af97e53fedfe",
   "metadata": {},
   "source": [
    "## Preprocessamento dos dados"
   ]
  },
  {
   "cell_type": "code",
   "execution_count": 2,
   "id": "00e2070e-305f-4387-a763-2b9bbad31e1b",
   "metadata": {},
   "outputs": [
    {
     "data": {
      "text/html": [
       "<div>\n",
       "<style scoped>\n",
       "    .dataframe tbody tr th:only-of-type {\n",
       "        vertical-align: middle;\n",
       "    }\n",
       "\n",
       "    .dataframe tbody tr th {\n",
       "        vertical-align: top;\n",
       "    }\n",
       "\n",
       "    .dataframe thead th {\n",
       "        text-align: right;\n",
       "    }\n",
       "</style>\n",
       "<table border=\"1\" class=\"dataframe\">\n",
       "  <thead>\n",
       "    <tr style=\"text-align: right;\">\n",
       "      <th></th>\n",
       "      <th>aircraft_type</th>\n",
       "      <th>wtc</th>\n",
       "      <th>airline</th>\n",
       "      <th>taxiout_time</th>\n",
       "      <th>flown_distance</th>\n",
       "      <th>track_variation_ARR_100</th>\n",
       "      <th>track_variation_DEP_100</th>\n",
       "      <th>track_variation_ENR</th>\n",
       "      <th>average_vertical_rate_ARR_100</th>\n",
       "      <th>average_vertical_rate_DEP_100</th>\n",
       "      <th>...</th>\n",
       "      <th>Altitude_adep</th>\n",
       "      <th>Latitude_ades</th>\n",
       "      <th>Longitude_ades</th>\n",
       "      <th>Altitude_ades</th>\n",
       "      <th>altitude_difference</th>\n",
       "      <th>bearing</th>\n",
       "      <th>elevation_gradient</th>\n",
       "      <th>adep_geo_cluster</th>\n",
       "      <th>ades_geo_cluster</th>\n",
       "      <th>tow</th>\n",
       "    </tr>\n",
       "  </thead>\n",
       "  <tbody>\n",
       "    <tr>\n",
       "      <th>0</th>\n",
       "      <td>A320</td>\n",
       "      <td>M</td>\n",
       "      <td>a73f82288988b79be490c6322f4c32ed</td>\n",
       "      <td>18.0</td>\n",
       "      <td>321</td>\n",
       "      <td>124.339907</td>\n",
       "      <td>39.704139</td>\n",
       "      <td>2.102124</td>\n",
       "      <td>-1276.005427</td>\n",
       "      <td>1683.211169</td>\n",
       "      <td>...</td>\n",
       "      <td>25</td>\n",
       "      <td>51.843</td>\n",
       "      <td>-8.492</td>\n",
       "      <td>154</td>\n",
       "      <td>129</td>\n",
       "      <td>277.346455</td>\n",
       "      <td>0.232363</td>\n",
       "      <td>13</td>\n",
       "      <td>0</td>\n",
       "      <td>54748.000000</td>\n",
       "    </tr>\n",
       "    <tr>\n",
       "      <th>1</th>\n",
       "      <td>B772</td>\n",
       "      <td>H</td>\n",
       "      <td>5543e4dc327359ffaf5b9c0e6faaf0e1</td>\n",
       "      <td>13.0</td>\n",
       "      <td>4193</td>\n",
       "      <td>179.318890</td>\n",
       "      <td>8.910306</td>\n",
       "      <td>76.029652</td>\n",
       "      <td>-858.158167</td>\n",
       "      <td>1682.557205</td>\n",
       "      <td>...</td>\n",
       "      <td>4</td>\n",
       "      <td>25.793</td>\n",
       "      <td>-80.291</td>\n",
       "      <td>3</td>\n",
       "      <td>-1</td>\n",
       "      <td>285.530704</td>\n",
       "      <td>-0.000133</td>\n",
       "      <td>19</td>\n",
       "      <td>12</td>\n",
       "      <td>185441.000000</td>\n",
       "    </tr>\n",
       "    <tr>\n",
       "      <th>2</th>\n",
       "      <td>A333</td>\n",
       "      <td>H</td>\n",
       "      <td>8be5c854fd664bcb97fb543339f74770</td>\n",
       "      <td>15.0</td>\n",
       "      <td>3770</td>\n",
       "      <td>179.638848</td>\n",
       "      <td>32.391881</td>\n",
       "      <td>85.115541</td>\n",
       "      <td>-791.849866</td>\n",
       "      <td>840.240481</td>\n",
       "      <td>...</td>\n",
       "      <td>38</td>\n",
       "      <td>41.979</td>\n",
       "      <td>-87.904</td>\n",
       "      <td>204</td>\n",
       "      <td>166</td>\n",
       "      <td>305.643136</td>\n",
       "      <td>0.024214</td>\n",
       "      <td>8</td>\n",
       "      <td>15</td>\n",
       "      <td>230396.000000</td>\n",
       "    </tr>\n",
       "    <tr>\n",
       "      <th>3</th>\n",
       "      <td>B788</td>\n",
       "      <td>H</td>\n",
       "      <td>5543e4dc327359ffaf5b9c0e6faaf0e1</td>\n",
       "      <td>11.0</td>\n",
       "      <td>3607</td>\n",
       "      <td>0.208347</td>\n",
       "      <td>36.998783</td>\n",
       "      <td>101.712676</td>\n",
       "      <td>-690.489814</td>\n",
       "      <td>1851.136442</td>\n",
       "      <td>...</td>\n",
       "      <td>432</td>\n",
       "      <td>39.872</td>\n",
       "      <td>-75.241</td>\n",
       "      <td>12</td>\n",
       "      <td>-420</td>\n",
       "      <td>296.005451</td>\n",
       "      <td>-0.065017</td>\n",
       "      <td>2</td>\n",
       "      <td>1</td>\n",
       "      <td>157615.000000</td>\n",
       "    </tr>\n",
       "    <tr>\n",
       "      <th>4</th>\n",
       "      <td>A21N</td>\n",
       "      <td>M</td>\n",
       "      <td>a73f82288988b79be490c6322f4c32ed</td>\n",
       "      <td>14.0</td>\n",
       "      <td>305</td>\n",
       "      <td>NaN</td>\n",
       "      <td>174.878799</td>\n",
       "      <td>NaN</td>\n",
       "      <td>NaN</td>\n",
       "      <td>2754.662045</td>\n",
       "      <td>...</td>\n",
       "      <td>74</td>\n",
       "      <td>51.477</td>\n",
       "      <td>-0.461</td>\n",
       "      <td>25</td>\n",
       "      <td>-49</td>\n",
       "      <td>116.445141</td>\n",
       "      <td>-0.109150</td>\n",
       "      <td>0</td>\n",
       "      <td>13</td>\n",
       "      <td>70318.447226</td>\n",
       "    </tr>\n",
       "  </tbody>\n",
       "</table>\n",
       "<p>5 rows × 76 columns</p>\n",
       "</div>"
      ],
      "text/plain": [
       "  aircraft_type wtc                           airline  taxiout_time  \\\n",
       "0          A320   M  a73f82288988b79be490c6322f4c32ed          18.0   \n",
       "1          B772   H  5543e4dc327359ffaf5b9c0e6faaf0e1          13.0   \n",
       "2          A333   H  8be5c854fd664bcb97fb543339f74770          15.0   \n",
       "3          B788   H  5543e4dc327359ffaf5b9c0e6faaf0e1          11.0   \n",
       "4          A21N   M  a73f82288988b79be490c6322f4c32ed          14.0   \n",
       "\n",
       "   flown_distance  track_variation_ARR_100  track_variation_DEP_100  \\\n",
       "0             321               124.339907                39.704139   \n",
       "1            4193               179.318890                 8.910306   \n",
       "2            3770               179.638848                32.391881   \n",
       "3            3607                 0.208347                36.998783   \n",
       "4             305                      NaN               174.878799   \n",
       "\n",
       "   track_variation_ENR  average_vertical_rate_ARR_100  \\\n",
       "0             2.102124                   -1276.005427   \n",
       "1            76.029652                    -858.158167   \n",
       "2            85.115541                    -791.849866   \n",
       "3           101.712676                    -690.489814   \n",
       "4                  NaN                            NaN   \n",
       "\n",
       "   average_vertical_rate_DEP_100  ...  Altitude_adep  Latitude_ades  \\\n",
       "0                    1683.211169  ...             25         51.843   \n",
       "1                    1682.557205  ...              4         25.793   \n",
       "2                     840.240481  ...             38         41.979   \n",
       "3                    1851.136442  ...            432         39.872   \n",
       "4                    2754.662045  ...             74         51.477   \n",
       "\n",
       "   Longitude_ades  Altitude_ades  altitude_difference     bearing  \\\n",
       "0          -8.492            154                  129  277.346455   \n",
       "1         -80.291              3                   -1  285.530704   \n",
       "2         -87.904            204                  166  305.643136   \n",
       "3         -75.241             12                 -420  296.005451   \n",
       "4          -0.461             25                  -49  116.445141   \n",
       "\n",
       "   elevation_gradient  adep_geo_cluster  ades_geo_cluster            tow  \n",
       "0            0.232363                13                 0   54748.000000  \n",
       "1           -0.000133                19                12  185441.000000  \n",
       "2            0.024214                 8                15  230396.000000  \n",
       "3           -0.065017                 2                 1  157615.000000  \n",
       "4           -0.109150                 0                13   70318.447226  \n",
       "\n",
       "[5 rows x 76 columns]"
      ]
     },
     "execution_count": 2,
     "metadata": {},
     "output_type": "execute_result"
    }
   ],
   "source": [
    "# Load the dataset after the exploratory data analysis\n",
    "# challenge_set_updated = pd.read_csv(\"./data/challenge_set_updated_v7.csv\")\n",
    "challenge_set_updated = pd.read_csv(\"./data/challenge_set_updated_v8.csv\")\n",
    "submission_set = pd.read_csv(\"./data/submission_set.csv\")\n",
    "# submission_set_updated = pd.read_csv(\"./data/submission_set_updated_v7.csv\")\n",
    "submission_set_updated = pd.read_csv(\"./data/submission_set_updated_v8.csv\")\n",
    "\n",
    "# If necessary change this part to test the model before the training process\n",
    "df = challenge_set_updated.iloc[:,:]\n",
    "# df = challenge_set_updated.sample(frac=0.001)\n",
    "\n",
    "# Separating features and target variable\n",
    "X = df.drop('tow', axis=1)\n",
    "y = df['tow']\n",
    "\n",
    "df.head()"
   ]
  },
  {
   "cell_type": "markdown",
   "id": "19261bf2-b8d1-4cd6-a3c4-969c8bbaa16a",
   "metadata": {},
   "source": [
    "## Modelo (com pre-processamento auto)"
   ]
  },
  {
   "cell_type": "code",
   "execution_count": 3,
   "id": "08f4c04c-eb88-4732-b4c2-920d713ddc9c",
   "metadata": {},
   "outputs": [],
   "source": [
    "cat_names = ['aircraft_type', \n",
    "             'wtc', \n",
    "             'airline',\n",
    "             'offblock_hour',\n",
    "             'offblock_minute', \n",
    "             'offblock_day_of_week',\n",
    "             'offblock_month',\n",
    "             'offblock_week_of_year', \n",
    "             'offblock_season', \n",
    "             'arrival_hour',\n",
    "             'arrival_minute',\n",
    "             'is_offblock_weekend',\n",
    "             'is_offblock_rush_hour',\n",
    "             'flight_duration_category',                       \n",
    "             'adep_region', \n",
    "             'ades_region', \n",
    "             'same_country_flight',\n",
    "             'same_region_flight',                        \n",
    "             'flight_direction',\n",
    "             'is_intercontinental',\n",
    "             'Manufacturer',\n",
    "             'Model_FAA',\n",
    "             'Physical_Class_Engine',\n",
    "             'FAA_Weight']"
   ]
  },
  {
   "cell_type": "code",
   "execution_count": 4,
   "id": "3aba2a91-c843-4b85-82b0-96646f97658c",
   "metadata": {},
   "outputs": [
    {
     "name": "stdout",
     "output_type": "stream",
     "text": [
      "aircraft_type         0\n",
      "wtc                   0\n",
      "airline               0\n",
      "taxiout_time          0\n",
      "flown_distance        0\n",
      "                     ..\n",
      "bearing               0\n",
      "elevation_gradient    0\n",
      "adep_geo_cluster      0\n",
      "ades_geo_cluster      0\n",
      "tow                   0\n",
      "Length: 76, dtype: int64\n"
     ]
    }
   ],
   "source": [
    "null_value_stats = df.isnull().sum(axis=0)\n",
    "print(null_value_stats)"
   ]
  },
  {
   "cell_type": "code",
   "execution_count": 5,
   "id": "e043fa0a-27d7-44ae-adce-99c6dcbfe1aa",
   "metadata": {},
   "outputs": [],
   "source": [
    "X = df.drop('tow', axis=1)\n",
    "y = df.tow"
   ]
  },
  {
   "cell_type": "code",
   "execution_count": 6,
   "id": "bc319e50-2de5-4aee-90ee-7fb8e24adab4",
   "metadata": {},
   "outputs": [
    {
     "name": "stdout",
     "output_type": "stream",
     "text": [
      "aircraft_type           object\n",
      "wtc                     object\n",
      "airline                 object\n",
      "taxiout_time           float64\n",
      "flown_distance           int64\n",
      "                        ...   \n",
      "altitude_difference      int64\n",
      "bearing                float64\n",
      "elevation_gradient     float64\n",
      "adep_geo_cluster         int64\n",
      "ades_geo_cluster         int64\n",
      "Length: 75, dtype: object\n"
     ]
    }
   ],
   "source": [
    "print(X.dtypes)"
   ]
  },
  {
   "cell_type": "code",
   "execution_count": 7,
   "id": "b942f73f-81ae-4db5-bb2f-c8d309d237d6",
   "metadata": {},
   "outputs": [],
   "source": [
    "from sklearn.model_selection import train_test_split\n",
    "\n",
    "X_train, X_val, y_train, y_val = train_test_split(X, y, test_size=0.2, random_state=42)"
   ]
  },
  {
   "cell_type": "code",
   "execution_count": 8,
   "id": "69fd85b7-45c4-4f24-a8ca-1734a1dd2a9b",
   "metadata": {},
   "outputs": [],
   "source": [
    "from catboost import CatBoostRegressor, Pool, metrics, cv\n",
    "from sklearn.metrics import r2_score, mean_squared_error"
   ]
  },
  {
   "cell_type": "code",
   "execution_count": 11,
   "id": "cda2f2d5-27bd-4577-ab01-b422862b9077",
   "metadata": {},
   "outputs": [],
   "source": [
    "model = CatBoostRegressor(\n",
    "    objective='RMSE',\n",
    "    learning_rate=0.3,\n",
    "    iterations=5000,\n",
    "    random_seed=42,\n",
    "    logging_level='Silent',\n",
    "    use_best_model=True,\n",
    "    task_type='GPU',\n",
    ")"
   ]
  },
  {
   "cell_type": "code",
   "execution_count": 12,
   "id": "44445a95-7525-4642-8b12-f522c000bf2c",
   "metadata": {},
   "outputs": [
    {
     "data": {
      "application/vnd.jupyter.widget-view+json": {
       "model_id": "c267fc185f244af68690ab1e52b596f1",
       "version_major": 2,
       "version_minor": 0
      },
      "text/plain": [
       "MetricVisualizer(layout=Layout(align_self='stretch', height='500px'))"
      ]
     },
     "metadata": {},
     "output_type": "display_data"
    },
    {
     "data": {
      "text/plain": [
       "<catboost.core.CatBoostRegressor at 0x7a20f814bf40>"
      ]
     },
     "execution_count": 12,
     "metadata": {},
     "output_type": "execute_result"
    }
   ],
   "source": [
    "model.fit(\n",
    "    X_train, y_train,\n",
    "    cat_features=cat_names,\n",
    "    eval_set=(X_val, y_val),\n",
    "    plot=True\n",
    ")"
   ]
  },
  {
   "cell_type": "code",
   "execution_count": 11,
   "id": "d25ce53c-279d-4e83-99d6-53b3ac5fc776",
   "metadata": {},
   "outputs": [],
   "source": [
    "params = {\n",
    "    'objective': 'RMSE',\n",
    "    'iterations': 500,\n",
    "    'learning_rate': 0.1,\n",
    "    'eval_metric': metrics.RMSE(),\n",
    "    'random_seed': 42,\n",
    "    'logging_level': 'Silent',\n",
    "    'use_best_model': False,\n",
    "}\n",
    "train_pool = Pool(X_train, y_train, cat_features=cat_names)\n",
    "val_pool = Pool(X_val, y_val, cat_features=cat_names)"
   ]
  },
  {
   "cell_type": "code",
   "execution_count": 12,
   "id": "4341f7ba-050b-4276-b9ab-14a7fe8eae47",
   "metadata": {},
   "outputs": [
    {
     "ename": "KeyboardInterrupt",
     "evalue": "",
     "output_type": "error",
     "traceback": [
      "\u001b[0;31m---------------------------------------------------------------------------\u001b[0m",
      "\u001b[0;31mKeyboardInterrupt\u001b[0m                         Traceback (most recent call last)",
      "File \u001b[0;32m<timed exec>:4\u001b[0m\n",
      "File \u001b[0;32m~/ita/prc-challenge-ita/env/lib/python3.10/site-packages/catboost/core.py:5873\u001b[0m, in \u001b[0;36mCatBoostRegressor.fit\u001b[0;34m(self, X, y, cat_features, text_features, embedding_features, graph, sample_weight, baseline, use_best_model, eval_set, verbose, logging_level, plot, plot_file, column_description, verbose_eval, metric_period, silent, early_stopping_rounds, save_snapshot, snapshot_file, snapshot_interval, init_model, callbacks, log_cout, log_cerr)\u001b[0m\n\u001b[1;32m   5871\u001b[0m \u001b[38;5;28;01mif\u001b[39;00m \u001b[38;5;124m'\u001b[39m\u001b[38;5;124mloss_function\u001b[39m\u001b[38;5;124m'\u001b[39m \u001b[38;5;129;01min\u001b[39;00m params:\n\u001b[1;32m   5872\u001b[0m     CatBoostRegressor\u001b[38;5;241m.\u001b[39m_check_is_compatible_loss(params[\u001b[38;5;124m'\u001b[39m\u001b[38;5;124mloss_function\u001b[39m\u001b[38;5;124m'\u001b[39m])\n\u001b[0;32m-> 5873\u001b[0m \u001b[38;5;28;01mreturn\u001b[39;00m \u001b[38;5;28;43mself\u001b[39;49m\u001b[38;5;241;43m.\u001b[39;49m\u001b[43m_fit\u001b[49m\u001b[43m(\u001b[49m\u001b[43mX\u001b[49m\u001b[43m,\u001b[49m\u001b[43m \u001b[49m\u001b[43my\u001b[49m\u001b[43m,\u001b[49m\u001b[43m \u001b[49m\u001b[43mcat_features\u001b[49m\u001b[43m,\u001b[49m\u001b[43m \u001b[49m\u001b[43mtext_features\u001b[49m\u001b[43m,\u001b[49m\u001b[43m \u001b[49m\u001b[43membedding_features\u001b[49m\u001b[43m,\u001b[49m\u001b[43m \u001b[49m\u001b[38;5;28;43;01mNone\u001b[39;49;00m\u001b[43m,\u001b[49m\u001b[43m \u001b[49m\u001b[43mgraph\u001b[49m\u001b[43m,\u001b[49m\u001b[43m \u001b[49m\u001b[43msample_weight\u001b[49m\u001b[43m,\u001b[49m\u001b[43m \u001b[49m\u001b[38;5;28;43;01mNone\u001b[39;49;00m\u001b[43m,\u001b[49m\u001b[43m \u001b[49m\u001b[38;5;28;43;01mNone\u001b[39;49;00m\u001b[43m,\u001b[49m\u001b[43m \u001b[49m\u001b[38;5;28;43;01mNone\u001b[39;49;00m\u001b[43m,\u001b[49m\u001b[43m \u001b[49m\u001b[38;5;28;43;01mNone\u001b[39;49;00m\u001b[43m,\u001b[49m\u001b[43m \u001b[49m\u001b[43mbaseline\u001b[49m\u001b[43m,\u001b[49m\n\u001b[1;32m   5874\u001b[0m \u001b[43m                 \u001b[49m\u001b[43muse_best_model\u001b[49m\u001b[43m,\u001b[49m\u001b[43m \u001b[49m\u001b[43meval_set\u001b[49m\u001b[43m,\u001b[49m\u001b[43m \u001b[49m\u001b[43mverbose\u001b[49m\u001b[43m,\u001b[49m\u001b[43m \u001b[49m\u001b[43mlogging_level\u001b[49m\u001b[43m,\u001b[49m\u001b[43m \u001b[49m\u001b[43mplot\u001b[49m\u001b[43m,\u001b[49m\u001b[43m \u001b[49m\u001b[43mplot_file\u001b[49m\u001b[43m,\u001b[49m\u001b[43m \u001b[49m\u001b[43mcolumn_description\u001b[49m\u001b[43m,\u001b[49m\n\u001b[1;32m   5875\u001b[0m \u001b[43m                 \u001b[49m\u001b[43mverbose_eval\u001b[49m\u001b[43m,\u001b[49m\u001b[43m \u001b[49m\u001b[43mmetric_period\u001b[49m\u001b[43m,\u001b[49m\u001b[43m \u001b[49m\u001b[43msilent\u001b[49m\u001b[43m,\u001b[49m\u001b[43m \u001b[49m\u001b[43mearly_stopping_rounds\u001b[49m\u001b[43m,\u001b[49m\n\u001b[1;32m   5876\u001b[0m \u001b[43m                 \u001b[49m\u001b[43msave_snapshot\u001b[49m\u001b[43m,\u001b[49m\u001b[43m \u001b[49m\u001b[43msnapshot_file\u001b[49m\u001b[43m,\u001b[49m\u001b[43m \u001b[49m\u001b[43msnapshot_interval\u001b[49m\u001b[43m,\u001b[49m\u001b[43m \u001b[49m\u001b[43minit_model\u001b[49m\u001b[43m,\u001b[49m\u001b[43m \u001b[49m\u001b[43mcallbacks\u001b[49m\u001b[43m,\u001b[49m\u001b[43m \u001b[49m\u001b[43mlog_cout\u001b[49m\u001b[43m,\u001b[49m\u001b[43m \u001b[49m\u001b[43mlog_cerr\u001b[49m\u001b[43m)\u001b[49m\n",
      "File \u001b[0;32m~/ita/prc-challenge-ita/env/lib/python3.10/site-packages/catboost/core.py:2410\u001b[0m, in \u001b[0;36mCatBoost._fit\u001b[0;34m(self, X, y, cat_features, text_features, embedding_features, pairs, graph, sample_weight, group_id, group_weight, subgroup_id, pairs_weight, baseline, use_best_model, eval_set, verbose, logging_level, plot, plot_file, column_description, verbose_eval, metric_period, silent, early_stopping_rounds, save_snapshot, snapshot_file, snapshot_interval, init_model, callbacks, log_cout, log_cerr)\u001b[0m\n\u001b[1;32m   2407\u001b[0m allow_clear_pool \u001b[38;5;241m=\u001b[39m train_params[\u001b[38;5;124m\"\u001b[39m\u001b[38;5;124mallow_clear_pool\u001b[39m\u001b[38;5;124m\"\u001b[39m]\n\u001b[1;32m   2409\u001b[0m \u001b[38;5;28;01mwith\u001b[39;00m plot_wrapper(plot, plot_file, \u001b[38;5;124m'\u001b[39m\u001b[38;5;124mTraining plots\u001b[39m\u001b[38;5;124m'\u001b[39m, [_get_train_dir(\u001b[38;5;28mself\u001b[39m\u001b[38;5;241m.\u001b[39mget_params())]):\n\u001b[0;32m-> 2410\u001b[0m     \u001b[38;5;28;43mself\u001b[39;49m\u001b[38;5;241;43m.\u001b[39;49m\u001b[43m_train\u001b[49m\u001b[43m(\u001b[49m\n\u001b[1;32m   2411\u001b[0m \u001b[43m        \u001b[49m\u001b[43mtrain_pool\u001b[49m\u001b[43m,\u001b[49m\n\u001b[1;32m   2412\u001b[0m \u001b[43m        \u001b[49m\u001b[43mtrain_params\u001b[49m\u001b[43m[\u001b[49m\u001b[38;5;124;43m\"\u001b[39;49m\u001b[38;5;124;43meval_sets\u001b[39;49m\u001b[38;5;124;43m\"\u001b[39;49m\u001b[43m]\u001b[49m\u001b[43m,\u001b[49m\n\u001b[1;32m   2413\u001b[0m \u001b[43m        \u001b[49m\u001b[43mparams\u001b[49m\u001b[43m,\u001b[49m\n\u001b[1;32m   2414\u001b[0m \u001b[43m        \u001b[49m\u001b[43mallow_clear_pool\u001b[49m\u001b[43m,\u001b[49m\n\u001b[1;32m   2415\u001b[0m \u001b[43m        \u001b[49m\u001b[43mtrain_params\u001b[49m\u001b[43m[\u001b[49m\u001b[38;5;124;43m\"\u001b[39;49m\u001b[38;5;124;43minit_model\u001b[39;49m\u001b[38;5;124;43m\"\u001b[39;49m\u001b[43m]\u001b[49m\n\u001b[1;32m   2416\u001b[0m \u001b[43m    \u001b[49m\u001b[43m)\u001b[49m\n\u001b[1;32m   2418\u001b[0m \u001b[38;5;66;03m# Have property feature_importance possibly set\u001b[39;00m\n\u001b[1;32m   2419\u001b[0m loss \u001b[38;5;241m=\u001b[39m \u001b[38;5;28mself\u001b[39m\u001b[38;5;241m.\u001b[39m_object\u001b[38;5;241m.\u001b[39m_get_loss_function_name()\n",
      "File \u001b[0;32m~/ita/prc-challenge-ita/env/lib/python3.10/site-packages/catboost/core.py:1790\u001b[0m, in \u001b[0;36m_CatBoostBase._train\u001b[0;34m(self, train_pool, test_pool, params, allow_clear_pool, init_model)\u001b[0m\n\u001b[1;32m   1789\u001b[0m \u001b[38;5;28;01mdef\u001b[39;00m \u001b[38;5;21m_train\u001b[39m(\u001b[38;5;28mself\u001b[39m, train_pool, test_pool, params, allow_clear_pool, init_model):\n\u001b[0;32m-> 1790\u001b[0m     \u001b[38;5;28;43mself\u001b[39;49m\u001b[38;5;241;43m.\u001b[39;49m\u001b[43m_object\u001b[49m\u001b[38;5;241;43m.\u001b[39;49m\u001b[43m_train\u001b[49m\u001b[43m(\u001b[49m\u001b[43mtrain_pool\u001b[49m\u001b[43m,\u001b[49m\u001b[43m \u001b[49m\u001b[43mtest_pool\u001b[49m\u001b[43m,\u001b[49m\u001b[43m \u001b[49m\u001b[43mparams\u001b[49m\u001b[43m,\u001b[49m\u001b[43m \u001b[49m\u001b[43mallow_clear_pool\u001b[49m\u001b[43m,\u001b[49m\u001b[43m \u001b[49m\u001b[43minit_model\u001b[49m\u001b[38;5;241;43m.\u001b[39;49m\u001b[43m_object\u001b[49m\u001b[43m \u001b[49m\u001b[38;5;28;43;01mif\u001b[39;49;00m\u001b[43m \u001b[49m\u001b[43minit_model\u001b[49m\u001b[43m \u001b[49m\u001b[38;5;28;43;01melse\u001b[39;49;00m\u001b[43m \u001b[49m\u001b[38;5;28;43;01mNone\u001b[39;49;00m\u001b[43m)\u001b[49m\n\u001b[1;32m   1791\u001b[0m     \u001b[38;5;28mself\u001b[39m\u001b[38;5;241m.\u001b[39m_set_trained_model_attributes()\n",
      "File \u001b[0;32m_catboost.pyx:5017\u001b[0m, in \u001b[0;36m_catboost._CatBoost._train\u001b[0;34m()\u001b[0m\n",
      "File \u001b[0;32m_catboost.pyx:5066\u001b[0m, in \u001b[0;36m_catboost._CatBoost._train\u001b[0;34m()\u001b[0m\n",
      "\u001b[0;31mKeyboardInterrupt\u001b[0m: "
     ]
    }
   ],
   "source": [
    "%%time\n",
    "from sklearn.metrics import root_mean_squared_error\n",
    "\n",
    "model = CatBoostRegressor(**params)\n",
    "model.fit(train_pool, eval_set=val_pool)\n",
    "\n",
    "best_model_params = params.copy()\n",
    "best_model_params.update({\n",
    "    'use_best_model': True\n",
    "})\n",
    "best_model = CatBoostRegressor(**best_model_params)\n",
    "best_model.fit(train_pool, eval_set=val_pool)\n",
    "\n",
    "print('Simple model validation MSE: {:.4}'.format(\n",
    "    root_mean_squared_error(y_val, model.predict(X_val))\n",
    "))\n",
    "print('')\n",
    "\n",
    "print('Best model validation MSE: {:.4}'.format(\n",
    "    root_mean_squared_error(y_val, best_model.predict(X_val))\n",
    "))"
   ]
  },
  {
   "cell_type": "markdown",
   "id": "d37271a3-39bf-474f-9fbc-464a905b5527",
   "metadata": {},
   "source": [
    "## Training on GPU"
   ]
  },
  {
   "cell_type": "code",
   "execution_count": 13,
   "id": "05168d57-d6c3-4ca7-aa37-e57b1a13932b",
   "metadata": {},
   "outputs": [],
   "source": [
    "params = {\n",
    "    'objective': 'RMSE',\n",
    "    'iterations': 500,\n",
    "    'learning_rate': 0.1,\n",
    "    'eval_metric': metrics.RMSE(),\n",
    "    'random_seed': 42,\n",
    "    'logging_level': 'Silent',\n",
    "    'use_best_model': False,\n",
    "    'task_type': 'GPU',\n",
    "}\n",
    "train_pool = Pool(X_train, y_train, cat_features=cat_names)\n",
    "val_pool = Pool(X_val, y_val, cat_features=cat_names)"
   ]
  },
  {
   "cell_type": "code",
   "execution_count": null,
   "id": "5fd9440a-0f47-4c4d-88a7-6e416ccc3717",
   "metadata": {},
   "outputs": [],
   "source": [
    "%%time\n",
    "from sklearn.metrics import mean_squared_error\n",
    "\n",
    "model = CatBoostRegressor(**params)\n",
    "model.fit(train_pool, eval_set=val_pool)\n",
    "\n",
    "best_model_params = params.copy()\n",
    "best_model_params.update({\n",
    "    'use_best_model': True\n",
    "})\n",
    "best_model = CatBoostRegressor(**best_model_params)\n",
    "best_model.fit(train_pool, eval_set=val_pool)\n",
    "\n",
    "print('Simple model validation MSE: {:.4}'.format(\n",
    "    root_mean_squared_error(y_val, model.predict(X_val))\n",
    "))\n",
    "print('')\n",
    "\n",
    "print('Best model validation MSE: {:.4}'.format(\n",
    "    root_mean_squared_error(y_val, best_model.predict(X_val))\n",
    "))"
   ]
  },
  {
   "cell_type": "markdown",
   "id": "f082ce93-a26c-49cb-8812-ddac874ca2f5",
   "metadata": {},
   "source": [
    "## Features Importances"
   ]
  },
  {
   "cell_type": "code",
   "execution_count": null,
   "id": "0182b915-33a4-4750-9b59-d3af1a98e02a",
   "metadata": {},
   "outputs": [],
   "source": [
    "model = CatBoostRegressor(**params).fit(train_pool)\n",
    "feature_importances = model.get_feature_importance(train_pool)\n",
    "feature_names = X_train.columns\n",
    "for score, name in sorted(zip(feature_importances, feature_names), reverse=True):\n",
    "    print('{}: {}'.format(name, score))"
   ]
  },
  {
   "cell_type": "markdown",
   "id": "56cc8f27-a45f-449f-a237-64077f802bb5",
   "metadata": {},
   "source": [
    "## Hyperparameter Tunning"
   ]
  },
  {
   "cell_type": "code",
   "execution_count": null,
   "id": "09877478-7be3-4e07-b449-69d9d75f39bb",
   "metadata": {},
   "outputs": [],
   "source": [
    "!pip install optuna"
   ]
  },
  {
   "cell_type": "code",
   "execution_count": null,
   "id": "eb96b5f7-3f69-4be8-a6ac-9c508f0eaa3d",
   "metadata": {},
   "outputs": [],
   "source": [
    "import optuna\n",
    "\n",
    "def objective(trial):\n",
    "    # Taken from: https://deepnote.com/app/svpino/Tuning-Hyperparameters-with-Optuna-ea1a123d-8d2f-4e20-8f22-95f07470d557\n",
    "    params = {\n",
    "        'learning_rate' : trial.suggest_float('learning_rate', 0.01, 1),\n",
    "        'reg_lambda': trial.suggest_float('reg_lambda', 1e-5, 100),\n",
    "        # 'subsample': trial.suggest_float('subsample', 0, 1),\n",
    "        'random_strength': trial.suggest_float('random_strength', 10, 50),\n",
    "        'depth': trial.suggest_int('depth', 1, 15),\n",
    "        'min_data_in_leaf': trial.suggest_int('min_data_in_leaf', 1, 30),\n",
    "        'leaf_estimation_iterations': trial.suggest_int('leaf_estimation_iterations', 1, 15),\n",
    "    }\n",
    "    \n",
    "    model = CatBoostRegressor(\n",
    "        iterations=1000,\n",
    "        eval_metric=metrics.RMSE(),\n",
    "        random_seed=42,\n",
    "        verbose=False,\n",
    "        objective=metrics.RMSE(),\n",
    "        task_type='GPU', # training on GPU\n",
    "        use_best_model=True,\n",
    "        od_type='Iter',\n",
    "        od_wait=20,\n",
    "        **params,\n",
    "    )\n",
    "\n",
    "    cv_data = cv(\n",
    "        train_pool,\n",
    "        model.get_params(),\n",
    "        logging_level='Silent',\n",
    "    )\n",
    "    best_rmse = np.min(cv_data['test-RMSE-mean'])\n",
    "\n",
    "    return best_rmse"
   ]
  },
  {
   "cell_type": "code",
   "execution_count": null,
   "id": "4852c4e9-d634-4cd7-ac25-b259a5a3b224",
   "metadata": {},
   "outputs": [],
   "source": [
    "study = optuna.create_study(direction='minimize')\n",
    "study.optimize(objective, n_trials=50)\n",
    "\n",
    "# Display the best hyperparameters found\n",
    "print(f\"Best trial: {study.best_trial.params}\")\n",
    "\n",
    "# Train the final model with the best parameters\n",
    "best_params = study.best_trial.params\n",
    "best_model = CatBoostRegressor(\n",
    "    iterations=5000,\n",
    "    eval_metric=metrics.RMSE(),\n",
    "    random_seed=42,\n",
    "    logging_level='Silent',\n",
    "    objective=metrics.RMSE(),\n",
    "    task_type='GPU', # training on GPU\n",
    "    use_best_model=True,\n",
    "    od_type='Iter',\n",
    "    od_wait=20,\n",
    "    **best_params,\n",
    ")\n",
    "\n",
    "# Train the model with early stopping\n",
    "best_model.fit(train_pool, eval_set=val_pool)"
   ]
  },
  {
   "cell_type": "code",
   "execution_count": null,
   "id": "a8dfb7f1-da80-48a2-a2b5-fd5580f7a8f2",
   "metadata": {},
   "outputs": [],
   "source": [
    "model = CatBoostRegressor(\n",
    "    l2_leaf_reg=int(best['l2_leaf_reg']),\n",
    "    learning_rate=best['learning_rate'],\n",
    "    iterations=3000,\n",
    "    eval_metric=metrics.RMSE(),\n",
    "    random_seed=42,\n",
    "    verbose=False,\n",
    "    objective=metrics.RMSE(),\n",
    "    task_type='GPU',\n",
    "    use_best_model=True,\n",
    ")\n",
    "cv_data = cv(Pool(X, y, cat_features=cat_names), model.get_params(), plot=True)"
   ]
  },
  {
   "cell_type": "code",
   "execution_count": null,
   "id": "8126e214-6de0-41e0-bcc3-01b9ba479afc",
   "metadata": {},
   "outputs": [],
   "source": [
    "print('RMSE score: {}'.format(np.min(cv_data['test-RMSE-mean'])))"
   ]
  },
  {
   "cell_type": "code",
   "execution_count": null,
   "id": "b46696aa-4691-4ef0-b10f-a496b2cc3a37",
   "metadata": {},
   "outputs": [],
   "source": [
    "model.fit(train_pool, eval_set=val_pool)"
   ]
  },
  {
   "cell_type": "code",
   "execution_count": null,
   "id": "4a7e99c2-5d94-4621-a61c-0d9d31a75298",
   "metadata": {
    "scrolled": true
   },
   "outputs": [],
   "source": [
    "import matplotlib.pyplot as plt\n",
    "\n",
    "plt.figure(figsize=(8, 2))\n",
    "preds_val = model.predict(X_val)\n",
    "diff_val = preds_val - y_val\n",
    "plt.hist(diff_val, bins=200)\n",
    "diff_val.mean(), diff_val.std()"
   ]
  },
  {
   "cell_type": "code",
   "execution_count": null,
   "id": "884bf1a8-4647-445a-a1b8-673916daafc1",
   "metadata": {
    "scrolled": true
   },
   "outputs": [],
   "source": [
    "print('Model validation RMSE: {:.4}'.format(\n",
    "    root_mean_squared_error(y_val * std + mean, preds_val * std + mean)\n",
    "))"
   ]
  },
  {
   "cell_type": "markdown",
   "id": "297a0598-b099-49f7-a562-fb1d0aa0e052",
   "metadata": {},
   "source": [
    "## Submissão"
   ]
  },
  {
   "cell_type": "code",
   "execution_count": 15,
   "id": "b45d9111-8198-449f-bfea-5bb966be6f7f",
   "metadata": {
    "scrolled": true
   },
   "outputs": [
    {
     "data": {
      "text/html": [
       "<div>\n",
       "<style scoped>\n",
       "    .dataframe tbody tr th:only-of-type {\n",
       "        vertical-align: middle;\n",
       "    }\n",
       "\n",
       "    .dataframe tbody tr th {\n",
       "        vertical-align: top;\n",
       "    }\n",
       "\n",
       "    .dataframe thead th {\n",
       "        text-align: right;\n",
       "    }\n",
       "</style>\n",
       "<table border=\"1\" class=\"dataframe\">\n",
       "  <thead>\n",
       "    <tr style=\"text-align: right;\">\n",
       "      <th></th>\n",
       "      <th>aircraft_type</th>\n",
       "      <th>wtc</th>\n",
       "      <th>airline</th>\n",
       "      <th>taxiout_time</th>\n",
       "      <th>flown_distance</th>\n",
       "      <th>track_variation_ARR_100</th>\n",
       "      <th>track_variation_DEP_100</th>\n",
       "      <th>track_variation_ENR</th>\n",
       "      <th>average_vertical_rate_ARR_100</th>\n",
       "      <th>average_vertical_rate_DEP_100</th>\n",
       "      <th>...</th>\n",
       "      <th>Altitude_adep</th>\n",
       "      <th>Latitude_ades</th>\n",
       "      <th>Longitude_ades</th>\n",
       "      <th>Altitude_ades</th>\n",
       "      <th>altitude_difference</th>\n",
       "      <th>bearing</th>\n",
       "      <th>elevation_gradient</th>\n",
       "      <th>adep_geo_cluster</th>\n",
       "      <th>ades_geo_cluster</th>\n",
       "      <th>tow</th>\n",
       "    </tr>\n",
       "  </thead>\n",
       "  <tbody>\n",
       "    <tr>\n",
       "      <th>0</th>\n",
       "      <td>B738</td>\n",
       "      <td>M</td>\n",
       "      <td>6351ec1b849adacc0cbb3b1313d8d39b</td>\n",
       "      <td>15.0</td>\n",
       "      <td>1122</td>\n",
       "      <td>NaN</td>\n",
       "      <td>110.069323</td>\n",
       "      <td>50.723775</td>\n",
       "      <td>NaN</td>\n",
       "      <td>1806.031452</td>\n",
       "      <td>...</td>\n",
       "      <td>312</td>\n",
       "      <td>45.726</td>\n",
       "      <td>5.091</td>\n",
       "      <td>251</td>\n",
       "      <td>-61</td>\n",
       "      <td>293.477205</td>\n",
       "      <td>-0.030154</td>\n",
       "      <td>11</td>\n",
       "      <td>17</td>\n",
       "      <td>NaN</td>\n",
       "    </tr>\n",
       "    <tr>\n",
       "      <th>1</th>\n",
       "      <td>A333</td>\n",
       "      <td>H</td>\n",
       "      <td>bdeeef3a675587d530de70a25d7118d2</td>\n",
       "      <td>15.0</td>\n",
       "      <td>3205</td>\n",
       "      <td>98.664855</td>\n",
       "      <td>64.755647</td>\n",
       "      <td>93.023665</td>\n",
       "      <td>-926.465188</td>\n",
       "      <td>1432.940325</td>\n",
       "      <td>...</td>\n",
       "      <td>57</td>\n",
       "      <td>40.640</td>\n",
       "      <td>-73.779</td>\n",
       "      <td>4</td>\n",
       "      <td>-53</td>\n",
       "      <td>291.395141</td>\n",
       "      <td>-0.009004</td>\n",
       "      <td>6</td>\n",
       "      <td>1</td>\n",
       "      <td>NaN</td>\n",
       "    </tr>\n",
       "    <tr>\n",
       "      <th>2</th>\n",
       "      <td>B77W</td>\n",
       "      <td>H</td>\n",
       "      <td>5543e4dc327359ffaf5b9c0e6faaf0e1</td>\n",
       "      <td>10.0</td>\n",
       "      <td>3965</td>\n",
       "      <td>26.478102</td>\n",
       "      <td>73.771503</td>\n",
       "      <td>5.682069</td>\n",
       "      <td>-1089.944203</td>\n",
       "      <td>1914.880000</td>\n",
       "      <td>...</td>\n",
       "      <td>3</td>\n",
       "      <td>51.477</td>\n",
       "      <td>-0.461</td>\n",
       "      <td>25</td>\n",
       "      <td>22</td>\n",
       "      <td>43.036806</td>\n",
       "      <td>0.003095</td>\n",
       "      <td>12</td>\n",
       "      <td>13</td>\n",
       "      <td>NaN</td>\n",
       "    </tr>\n",
       "    <tr>\n",
       "      <th>3</th>\n",
       "      <td>B38M</td>\n",
       "      <td>M</td>\n",
       "      <td>3922524069809ac4326134429751e26f</td>\n",
       "      <td>10.0</td>\n",
       "      <td>986</td>\n",
       "      <td>102.257838</td>\n",
       "      <td>176.128681</td>\n",
       "      <td>48.209089</td>\n",
       "      <td>-988.140379</td>\n",
       "      <td>1576.297901</td>\n",
       "      <td>...</td>\n",
       "      <td>55</td>\n",
       "      <td>38.282</td>\n",
       "      <td>-0.558</td>\n",
       "      <td>44</td>\n",
       "      <td>-11</td>\n",
       "      <td>178.644825</td>\n",
       "      <td>-0.006508</td>\n",
       "      <td>13</td>\n",
       "      <td>19</td>\n",
       "      <td>NaN</td>\n",
       "    </tr>\n",
       "    <tr>\n",
       "      <th>4</th>\n",
       "      <td>A320</td>\n",
       "      <td>M</td>\n",
       "      <td>a73f82288988b79be490c6322f4c32ed</td>\n",
       "      <td>15.0</td>\n",
       "      <td>686</td>\n",
       "      <td>5.653190</td>\n",
       "      <td>169.820834</td>\n",
       "      <td>50.924346</td>\n",
       "      <td>-1239.918723</td>\n",
       "      <td>1726.270270</td>\n",
       "      <td>...</td>\n",
       "      <td>74</td>\n",
       "      <td>45.726</td>\n",
       "      <td>5.091</td>\n",
       "      <td>251</td>\n",
       "      <td>177</td>\n",
       "      <td>131.790949</td>\n",
       "      <td>0.149765</td>\n",
       "      <td>0</td>\n",
       "      <td>17</td>\n",
       "      <td>NaN</td>\n",
       "    </tr>\n",
       "  </tbody>\n",
       "</table>\n",
       "<p>5 rows × 76 columns</p>\n",
       "</div>"
      ],
      "text/plain": [
       "  aircraft_type wtc                           airline  taxiout_time  \\\n",
       "0          B738   M  6351ec1b849adacc0cbb3b1313d8d39b          15.0   \n",
       "1          A333   H  bdeeef3a675587d530de70a25d7118d2          15.0   \n",
       "2          B77W   H  5543e4dc327359ffaf5b9c0e6faaf0e1          10.0   \n",
       "3          B38M   M  3922524069809ac4326134429751e26f          10.0   \n",
       "4          A320   M  a73f82288988b79be490c6322f4c32ed          15.0   \n",
       "\n",
       "   flown_distance  track_variation_ARR_100  track_variation_DEP_100  \\\n",
       "0            1122                      NaN               110.069323   \n",
       "1            3205                98.664855                64.755647   \n",
       "2            3965                26.478102                73.771503   \n",
       "3             986               102.257838               176.128681   \n",
       "4             686                 5.653190               169.820834   \n",
       "\n",
       "   track_variation_ENR  average_vertical_rate_ARR_100  \\\n",
       "0            50.723775                            NaN   \n",
       "1            93.023665                    -926.465188   \n",
       "2             5.682069                   -1089.944203   \n",
       "3            48.209089                    -988.140379   \n",
       "4            50.924346                   -1239.918723   \n",
       "\n",
       "   average_vertical_rate_DEP_100  ...  Altitude_adep  Latitude_ades  \\\n",
       "0                    1806.031452  ...            312         45.726   \n",
       "1                    1432.940325  ...             57         40.640   \n",
       "2                    1914.880000  ...              3         51.477   \n",
       "3                    1576.297901  ...             55         38.282   \n",
       "4                    1726.270270  ...             74         45.726   \n",
       "\n",
       "   Longitude_ades  Altitude_ades  altitude_difference     bearing  \\\n",
       "0           5.091            251                  -61  293.477205   \n",
       "1         -73.779              4                  -53  291.395141   \n",
       "2          -0.461             25                   22   43.036806   \n",
       "3          -0.558             44                  -11  178.644825   \n",
       "4           5.091            251                  177  131.790949   \n",
       "\n",
       "   elevation_gradient  adep_geo_cluster  ades_geo_cluster  tow  \n",
       "0           -0.030154                11                17  NaN  \n",
       "1           -0.009004                 6                 1  NaN  \n",
       "2            0.003095                12                13  NaN  \n",
       "3           -0.006508                13                19  NaN  \n",
       "4            0.149765                 0                17  NaN  \n",
       "\n",
       "[5 rows x 76 columns]"
      ]
     },
     "execution_count": 15,
     "metadata": {},
     "output_type": "execute_result"
    }
   ],
   "source": [
    "df_test = pd.read_csv(\"./data/submission_set_updated_v8.csv\")\n",
    "df_test.head()"
   ]
  },
  {
   "cell_type": "code",
   "execution_count": 16,
   "id": "2d70a7c6-65f5-4aff-8ed4-346bdfcfa78a",
   "metadata": {},
   "outputs": [],
   "source": [
    "X_test = df_test.drop('tow', axis=1)"
   ]
  },
  {
   "cell_type": "code",
   "execution_count": 17,
   "id": "9a52c1cc-bd58-4630-9dfb-7bf319b640ab",
   "metadata": {},
   "outputs": [],
   "source": [
    "y_pred = model.predict(X_test)\n",
    "y_test = y_pred"
   ]
  },
  {
   "cell_type": "code",
   "execution_count": 18,
   "id": "e394697e-fc59-4f8e-b037-92d57aad7bb5",
   "metadata": {},
   "outputs": [
    {
     "data": {
      "text/plain": [
       "array([ 68946.2642462 , 213064.74788114, 220121.91304719, ...,\n",
       "        75229.24184834,  61912.40769668,  65203.63880688])"
      ]
     },
     "execution_count": 18,
     "metadata": {},
     "output_type": "execute_result"
    }
   ],
   "source": [
    "y_test"
   ]
  },
  {
   "cell_type": "code",
   "execution_count": 20,
   "id": "d6d36b31-791d-49b6-80f9-87aad682703c",
   "metadata": {
    "scrolled": true
   },
   "outputs": [],
   "source": [
    "dft0 = pd.read_csv('./data/submission_set.csv')\n",
    "dft0['tow'] = y_test\n",
    "dft0[['flight_id', 'tow']].to_csv('catboost.csv', index=False)"
   ]
  },
  {
   "cell_type": "code",
   "execution_count": 21,
   "id": "0db81ef7-c884-4886-8083-441d98df5340",
   "metadata": {},
   "outputs": [
    {
     "name": "stdout",
     "output_type": "stream",
     "text": [
      "flight_id,tow\n",
      "248753821,68946.26424620472\n",
      "248753822,213064.7478811413\n",
      "248754498,220121.91304718656\n",
      "248757623,63407.81450780528\n",
      "248763603,64560.268099067034\n",
      "248755068,54698.5422926647\n",
      "248754229,55945.19529199411\n",
      "248754894,59733.24085073604\n",
      "248754751,56641.6751755905\n"
     ]
    }
   ],
   "source": [
    "!head catboost.csv"
   ]
  },
  {
   "cell_type": "code",
   "execution_count": null,
   "id": "eed40eee-95ca-4851-b264-dcf880a08808",
   "metadata": {},
   "outputs": [],
   "source": [
    "# !mc cp ./mlp.csv dc24/submissions/team_tiny_rainbow_v2_7ec66710-1eb8-478e-8976-584c090b6373.csv"
   ]
  }
 ],
 "metadata": {
  "kernelspec": {
   "display_name": "Python 3 (ipykernel)",
   "language": "python",
   "name": "python3"
  },
  "language_info": {
   "codemirror_mode": {
    "name": "ipython",
    "version": 3
   },
   "file_extension": ".py",
   "mimetype": "text/x-python",
   "name": "python",
   "nbconvert_exporter": "python",
   "pygments_lexer": "ipython3",
   "version": "3.10.12"
  }
 },
 "nbformat": 4,
 "nbformat_minor": 5
}
