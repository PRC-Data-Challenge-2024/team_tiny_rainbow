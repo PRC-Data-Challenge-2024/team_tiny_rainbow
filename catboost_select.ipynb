{
 "cells": [
  {
   "cell_type": "markdown",
   "id": "721cb661-5a44-4daa-bfe0-3e63be8a5c27",
   "metadata": {},
   "source": [
    "# CatBoost Select Features"
   ]
  },
  {
   "cell_type": "code",
   "execution_count": 1,
   "id": "d208adad-c114-4181-a0e8-201a1b5cdf0e",
   "metadata": {
    "ExecuteTime": {
     "end_time": "2024-10-06T21:26:10.862240Z",
     "start_time": "2024-10-06T21:26:10.859122Z"
    }
   },
   "outputs": [],
   "source": [
    "import pandas as pd\n",
    "import numpy as np"
   ]
  },
  {
   "cell_type": "markdown",
   "id": "ed5768b5-ccc9-44e8-90f0-af97e53fedfe",
   "metadata": {},
   "source": [
    "## Loading Data"
   ]
  },
  {
   "cell_type": "code",
   "execution_count": 2,
   "id": "00e2070e-305f-4387-a763-2b9bbad31e1b",
   "metadata": {
    "ExecuteTime": {
     "end_time": "2024-10-06T21:38:42.054099Z",
     "start_time": "2024-10-06T21:38:38.158181Z"
    }
   },
   "outputs": [],
   "source": [
    "# Load the dataset after the exploratory data analysis\n",
    "challenge_set_updated = pd.read_csv(\"./data/challenge_set_updated_v20.csv\")\n",
    "submission_set_updated = pd.read_csv(\"./data/submission_set_updated_v20.csv\")\n",
    "submission_set = pd.read_csv(\"./data/final_submission_set.csv\")"
   ]
  },
  {
   "cell_type": "markdown",
   "id": "19261bf2-b8d1-4cd6-a3c4-969c8bbaa16a",
   "metadata": {},
   "source": [
    "## Predictive Model Learning"
   ]
  },
  {
   "cell_type": "code",
   "execution_count": 3,
   "id": "08f4c04c-eb88-4732-b4c2-920d713ddc9c",
   "metadata": {
    "ExecuteTime": {
     "end_time": "2024-10-06T21:38:42.090068Z",
     "start_time": "2024-10-06T21:38:42.087125Z"
    }
   },
   "outputs": [],
   "source": [
    "cat_names = ['callsign',\n",
    "            'adep', \n",
    "            'ades', \n",
    "            'aircraft_type', \n",
    "            'wtc', \n",
    "            'airline',\n",
    "            'offblock_hour',\n",
    "            'offblock_minute', \n",
    "            'offblock_day_of_week',\n",
    "            'offblock_weekday_name',\n",
    "            'offblock_month',\n",
    "            'offblock_week_of_year', \n",
    "            'offblock_season', \n",
    "            'arrival_hour',\n",
    "            'arrival_minute',\n",
    "            'arrival_season',\n",
    "            'arrival_weekday_name',\n",
    "            'is_offblock_weekend',\n",
    "            'is_offblock_rush_hour',\n",
    "            'flight_duration_category',                       \n",
    "            'adep_region', \n",
    "            'ades_region', \n",
    "            'same_country_flight',\n",
    "            'same_region_flight',                        \n",
    "            'flight_direction',\n",
    "            'is_intercontinental',\n",
    "            'Manufacturer',\n",
    "            'Model_FAA',\n",
    "            'Physical_Class_Engine',\n",
    "            'FAA_Weight',\n",
    "            'adep_geo_cluster',\n",
    "            'ades_geo_cluster']"
   ]
  },
  {
   "cell_type": "code",
   "execution_count": 4,
   "id": "047d2b79-142c-4a1d-9fed-d56779bedccc",
   "metadata": {
    "ExecuteTime": {
     "end_time": "2024-10-06T21:38:42.090068Z",
     "start_time": "2024-10-06T21:38:42.087125Z"
    }
   },
   "outputs": [],
   "source": [
    "dataset = pd.concat([challenge_set_updated, submission_set_updated], axis=0)"
   ]
  },
  {
   "cell_type": "code",
   "execution_count": 5,
   "id": "3aba2a91-c843-4b85-82b0-96646f97658c",
   "metadata": {
    "ExecuteTime": {
     "end_time": "2024-10-06T21:38:42.274048Z",
     "start_time": "2024-10-06T21:38:42.143808Z"
    }
   },
   "outputs": [
    {
     "name": "stdout",
     "output_type": "stream",
     "text": [
      "specific_energy_1                   0.406441\n",
      "vlof_tas                            0.406441\n",
      "sqrd_tas_1                          0.406441\n",
      "sqrd_vlof_tas                       0.406441\n",
      "vlof_groundspeed                    0.406441\n",
      "tas_1                               0.406441\n",
      "tas_2                               0.372550\n",
      "specific_energy_2                   0.372550\n",
      "sqrd_tas_2                          0.372550\n",
      "tas_3                               0.359277\n",
      "sqrd_tas_3                          0.359277\n",
      "specific_energy_3                   0.359277\n",
      "specific_energy_10                  0.356763\n",
      "sqrd_tas_10                         0.356763\n",
      "tas_10                              0.356763\n",
      "sqrd_tas_9                          0.353705\n",
      "specific_energy_9                   0.353705\n",
      "tas_9                               0.353705\n",
      "tas_4                               0.353320\n",
      "specific_energy_4                   0.353320\n",
      "sqrd_tas_4                          0.353320\n",
      "tas_8                               0.351376\n",
      "specific_energy_8                   0.351376\n",
      "sqrd_tas_8                          0.351376\n",
      "tas_5                               0.350255\n",
      "specific_energy_5                   0.350255\n",
      "sqrd_tas_5                          0.350255\n",
      "specific_energy_7                   0.349834\n",
      "tas_7                               0.349834\n",
      "sqrd_tas_7                          0.349834\n",
      "specific_energy_6                   0.349350\n",
      "tas_6                               0.349350\n",
      "sqrd_tas_6                          0.349350\n",
      "tow                                 0.300001\n",
      "altitude_10                         0.254349\n",
      "adep_height_10                      0.254349\n",
      "temperature_10                      0.254349\n",
      "altitude_9                          0.248318\n",
      "adep_height_9                       0.248318\n",
      "temperature_9                       0.248318\n",
      "adep_height_8                       0.242597\n",
      "temperature_8                       0.242597\n",
      "altitude_8                          0.242597\n",
      "temperature_7                       0.237159\n",
      "altitude_7                          0.237159\n",
      "adep_height_7                       0.237159\n",
      "tas_10NM                            0.232405\n",
      "groundspeed_10NM                    0.232405\n",
      "specific_energy                     0.232405\n",
      "altitude_6                          0.231989\n",
      "adep_height_6                       0.231989\n",
      "temperature_6                       0.231989\n",
      "temperature_5                       0.226917\n",
      "adep_height_5                       0.226917\n",
      "altitude_5                          0.226917\n",
      "altitude_4                          0.222195\n",
      "adep_height_4                       0.222195\n",
      "temperature_4                       0.222195\n",
      "altitude_3                          0.217559\n",
      "adep_height_3                       0.217559\n",
      "temperature_3                       0.217559\n",
      "adep_height_2                       0.213511\n",
      "temperature_2                       0.213511\n",
      "altitude_2                          0.213511\n",
      "adep_height_1                       0.210116\n",
      "temperature_1                       0.210116\n",
      "first_adep_height                   0.210116\n",
      "altitude_1                          0.210116\n",
      "airspeed_specific_energy_ENR        0.110038\n",
      "specific_energy_ENR                 0.110038\n",
      "airspeed_specific_energy_ARR        0.043125\n",
      "specific_energy_ARR_100             0.043125\n",
      "track_variation_ARR_100             0.040820\n",
      "groundspeed_ARR_100                 0.040820\n",
      "average_airspeed_ARR_100            0.040820\n",
      "altitude_groundspeed_ARR            0.040820\n",
      "vertical_rate_airspeed_ARR          0.040820\n",
      "groundspeed_flown_distance_ARR      0.040820\n",
      "vertical_rate_bins_ARR              0.040809\n",
      "humidity_bins_ARR                   0.040809\n",
      "temperature_bins_ARR                0.040809\n",
      "humidity_temperature_ARR            0.040809\n",
      "average_humidity_ARR_100            0.040809\n",
      "average_temperature_ARR_100         0.040809\n",
      "average_vertical_rate_ARR_100       0.040809\n",
      "average_altitude_ARR_100            0.040809\n",
      "max_altitude_ARR_100                0.040809\n",
      "transit_time_kpi17                  0.040331\n",
      "kpi17_time                          0.040331\n",
      "flown_distance_kpi17                0.040331\n",
      "kpi17_distance                      0.040331\n",
      "airspeed_specific_energy_DEP        0.031542\n",
      "specific_energy_DEP_40              0.031542\n",
      "track_variation_DEP_40              0.031541\n",
      "groundspeed_flown_distance_DEP      0.031541\n",
      "average_airspeed_DEP_40             0.031541\n",
      "groundspeed_DEP_40                  0.031541\n",
      "vertical_rate_airspeed_DEP          0.031541\n",
      "altitude_groundspeed_DEP            0.031541\n",
      "average_vertical_rate_DEP_40        0.031444\n",
      "humidity_temperature_DEP            0.031444\n",
      "average_temperature_DEP_40          0.031444\n",
      "average_humidity_DEP_40             0.031444\n",
      "temperature_bins_DEP                0.031444\n",
      "humidity_bins_DEP                   0.031444\n",
      "average_altitude_DEP_40             0.031444\n",
      "vertical_rate_bins_DEP              0.031444\n",
      "max_altitude_DEP_40                 0.031444\n",
      "vertical_rate_airspeed_ENR          0.000670\n",
      "altitude_groundspeed_ENR            0.000670\n",
      "groundspeed_ENR                     0.000670\n",
      "groundspeed_flown_distance_ENR      0.000670\n",
      "average_airspeed_ENR                0.000670\n",
      "track_variation_ENR                 0.000670\n",
      "humidity_temperature_ENR            0.000660\n",
      "max_altitude_ENR                    0.000660\n",
      "cruise_altitude_ENR                 0.000660\n",
      "average_humidity_ENR                0.000660\n",
      "average_temperature_ENR             0.000660\n",
      "average_altitude_ENR                0.000660\n",
      "average_vertical_rate_ENR           0.000660\n",
      "offblock_month                      0.000000\n",
      "wind_distance_flown_distance_ENR    0.000000\n",
      "FAA_Weight                          0.000000\n",
      "Approach_Speed_knot                 0.000000\n",
      "Num_Engines                         0.000000\n",
      "Physical_Class_Engine               0.000000\n",
      "Model_FAA                           0.000000\n",
      "Manufacturer                        0.000000\n",
      "groundspeed_airspeed_ratio_ENR      0.000000\n",
      "groundspeed_airspeed_ratio_DEP      0.000000\n",
      "groundspeed_airspeed_ratio_ARR      0.000000\n",
      "wind_distance_flown_distance_ARR    0.000000\n",
      "wind_distance_flown_distance_DEP    0.000000\n",
      "flown_distance_DEP_40               0.000000\n",
      "vertical_rate_airspeed_ratio_ENR    0.000000\n",
      "vertical_rate_airspeed_ratio_DEP    0.000000\n",
      "vertical_rate_airspeed_ratio_ARR    0.000000\n",
      "flown_distance_bins                 0.000000\n",
      "flight_duration_bins                0.000000\n",
      "ades                                0.000000\n",
      "flown_distance_ENR                  0.000000\n",
      "MTOW_kg                             0.000000\n",
      "MALW_kg                             0.000000\n",
      "mzfw_kg                             0.000000\n",
      "Longitude_adep                      0.000000\n",
      "ades_geo_cluster                    0.000000\n",
      "adep_geo_cluster                    0.000000\n",
      "elevation_gradient                  0.000000\n",
      "bearing                             0.000000\n",
      "altitude_difference                 0.000000\n",
      "actual_distance                     0.000000\n",
      "Altitude_ades                       0.000000\n",
      "Longitude_ades                      0.000000\n",
      "Latitude_ades                       0.000000\n",
      "Altitude_adep                       0.000000\n",
      "Latitude_adep                       0.000000\n",
      "max_fuel_l                          0.000000\n",
      "seats_max                           0.000000\n",
      "seats_min                           0.000000\n",
      "oew_kg                              0.000000\n",
      "height_m                            0.000000\n",
      "length_m                            0.000000\n",
      "wingspan_m                          0.000000\n",
      "tas_knots                           0.000000\n",
      "range_km                            0.000000\n",
      "cargo_capacity                      0.000000\n",
      "seats_typ                           0.000000\n",
      "aircraft_type                       0.000000\n",
      "flown_distance_ARR_100              0.000000\n",
      "wtc                                 0.000000\n",
      "normalized_taxi_ratio               0.000000\n",
      "taxi_ratio                          0.000000\n",
      "offblock_to_arrival_day_diff        0.000000\n",
      "is_arrival_rush_hour                0.000000\n",
      "is_arrival_weekend                  0.000000\n",
      "is_offblock_rush_hour               0.000000\n",
      "is_offblock_weekend                 0.000000\n",
      "offblock_to_arrival_duration        0.000000\n",
      "arrival_weekday_name                0.000000\n",
      "arrival_season                      0.000000\n",
      "arrival_year                        0.000000\n",
      "arrival_quarter                     0.000000\n",
      "arrival_week_of_year                0.000000\n",
      "arrival_month                       0.000000\n",
      "arrival_day_of_year                 0.000000\n",
      "arrival_day_of_week                 0.000000\n",
      "arrival_minute                      0.000000\n",
      "arrival_hour                        0.000000\n",
      "offblock_weekday_name               0.000000\n",
      "offblock_season                     0.000000\n",
      "offblock_year                       0.000000\n",
      "offblock_quarter                    0.000000\n",
      "flight_speed                        0.000000\n",
      "flight_duration_category            0.000000\n",
      "offblock_week_of_year               0.000000\n",
      "speed_per_distance                  0.000000\n",
      "airline                             0.000000\n",
      "wind_distance_ENR                   0.000000\n",
      "taxiout_time                        0.000000\n",
      "wind_distance_DEP_40                0.000000\n",
      "wind_distance_ARR_100               0.000000\n",
      "flown_distance                      0.000000\n",
      "adep                                0.000000\n",
      "offblock_hour                       0.000000\n",
      "offblock_minute                     0.000000\n",
      "offblock_day_of_week                0.000000\n",
      "offblock_day_of_year                0.000000\n",
      "is_intercontinental                 0.000000\n",
      "flight_direction                    0.000000\n",
      "same_region_flight                  0.000000\n",
      "same_country_flight                 0.000000\n",
      "ades_region                         0.000000\n",
      "adep_region                         0.000000\n",
      "flight_time_excl_taxi               0.000000\n",
      "ENR_distance_ratio                  0.000000\n",
      "avg_speed_ENR                       0.000000\n",
      "cumulative_avg_speed                0.000000\n",
      "callsign                            0.000000\n",
      "dtype: float64\n"
     ]
    }
   ],
   "source": [
    "pd.set_option('display.max_rows', None)\n",
    "\n",
    "print(dataset.isnull().mean().sort_values(ascending=False))\n",
    "\n",
    "pd.reset_option('display.max_rows')"
   ]
  },
  {
   "cell_type": "code",
   "execution_count": 6,
   "id": "65f64717-12fc-41c4-9852-550e59bf94e2",
   "metadata": {
    "ExecuteTime": {
     "end_time": "2024-10-06T21:38:42.274048Z",
     "start_time": "2024-10-06T21:38:42.143808Z"
    }
   },
   "outputs": [],
   "source": [
    "# Dropping columns with too many NaNs\n",
    "threshold = 0.4\n",
    "df = dataset.dropna(thresh=int((1 - threshold) * len(dataset)), axis=1)"
   ]
  },
  {
   "cell_type": "code",
   "execution_count": 7,
   "id": "5d434797c9b4c8a2",
   "metadata": {
    "ExecuteTime": {
     "end_time": "2024-10-06T21:38:55.408905Z",
     "start_time": "2024-10-06T21:38:42.352376Z"
    }
   },
   "outputs": [],
   "source": [
    "# Imputation of NaNs\n",
    "columns_with_nan = dataset.isna().any()\n",
    "for col in dataset.columns[columns_with_nan]:\n",
    "    dataset.loc[:, col] = dataset.fillna(dataset[col].median())"
   ]
  },
  {
   "cell_type": "code",
   "execution_count": 8,
   "id": "23c5b9e4-7275-4c88-a171-6a1d5f6f46c8",
   "metadata": {
    "ExecuteTime": {
     "end_time": "2024-10-06T21:38:55.408905Z",
     "start_time": "2024-10-06T21:38:42.352376Z"
    }
   },
   "outputs": [],
   "source": [
    "df = dataset.iloc[0:challenge_set_updated.shape[0], :]"
   ]
  },
  {
   "cell_type": "code",
   "execution_count": 9,
   "id": "e043fa0a-27d7-44ae-adce-99c6dcbfe1aa",
   "metadata": {
    "ExecuteTime": {
     "end_time": "2024-10-06T21:38:55.683992Z",
     "start_time": "2024-10-06T21:38:55.596679Z"
    }
   },
   "outputs": [],
   "source": [
    "X = df.drop('tow', axis=1)\n",
    "y = df.tow"
   ]
  },
  {
   "cell_type": "code",
   "execution_count": 10,
   "id": "90e35db3-54bd-46b4-b5b4-deffc73d41b4",
   "metadata": {
    "ExecuteTime": {
     "end_time": "2024-10-06T21:39:04.704355Z",
     "start_time": "2024-10-06T21:38:55.879796Z"
    }
   },
   "outputs": [],
   "source": [
    "# import numpy as np\n",
    "# import matplotlib.pyplot as plt\n",
    "# import seaborn as sns\n",
    "\n",
    "# # Create correlation matrix\n",
    "# corr_matrix = X.corr(numeric_only=True).abs()\n",
    "\n",
    "# # Select upper triangle of correlation matrix\n",
    "# upper = corr_matrix.where(np.triu(np.ones(corr_matrix.shape), k=1).astype(bool))\n",
    "\n",
    "# # Find features with correlation greater than 0.98\n",
    "# to_drop = [column for column in upper.columns if any(upper[column] > 0.98)]\n",
    "# print(to_drop)\n",
    "\n",
    "# # Plotting the correlation matrix\n",
    "# plt.figure(figsize=(12, 8))\n",
    "# sns.heatmap(corr_matrix, annot=True, cmap='coolwarm', fmt=\".2f\")\n",
    "# plt.title('Correlation Matrix of Challenge Set')\n",
    "# plt.show()\n",
    "\n",
    "# # # Drop features \n",
    "# # X.drop(to_drop, axis=1, inplace=True)"
   ]
  },
  {
   "cell_type": "code",
   "execution_count": 14,
   "id": "cda2f2d5-27bd-4577-ab01-b422862b9077",
   "metadata": {
    "ExecuteTime": {
     "end_time": "2024-10-06T21:40:44.912478Z",
     "start_time": "2024-10-06T21:40:42.565153Z"
    }
   },
   "outputs": [],
   "source": [
    "from catboost import CatBoostRegressor, Pool, metrics\n",
    "from sklearn.model_selection import train_test_split\n",
    "\n",
    "X_train, X_val, y_train, y_val = train_test_split(X, y, test_size=0.2, random_state=42)\n",
    "\n",
    "params = {\n",
    "    'learning_rate': 0.05, \n",
    "    'reg_lambda': 69.07051080443502, \n",
    "    'random_strength': 16.348436502754343, \n",
    "    'depth': 11, \n",
    "    'min_data_in_leaf': 2, \n",
    "    'leaf_estimation_iterations': 7\n",
    "}\n",
    "\n",
    "selected_cat_names = [x for x in cat_names if x in X.columns]\n",
    "\n",
    "train_pool = Pool(X_train, y_train, cat_features=selected_cat_names)\n",
    "val_pool = Pool(X_val, y_val, cat_features=selected_cat_names)\n",
    "\n",
    "model = CatBoostRegressor(\n",
    "    iterations=10000,\n",
    "    objective=metrics.RMSE(),\n",
    "    eval_metric=metrics.RMSE(),\n",
    "    random_seed=42,\n",
    "    verbose=False,\n",
    "    task_type='GPU',\n",
    "    use_best_model=True,\n",
    "    od_type='Iter',\n",
    "    od_wait=20,\n",
    "    **params,\n",
    ")"
   ]
  },
  {
   "cell_type": "code",
   "execution_count": null,
   "id": "111e2801-5dd8-4d68-b768-fe0ded4ca6f2",
   "metadata": {
    "ExecuteTime": {
     "end_time": "2024-10-06T21:41:42.961168Z",
     "start_time": "2024-10-06T21:41:21.038498Z"
    }
   },
   "outputs": [
    {
     "data": {
      "application/vnd.jupyter.widget-view+json": {
       "model_id": "1c246b868bbe40ff9e4f7d0355031124",
       "version_major": 2,
       "version_minor": 0
      },
      "text/plain": [
       "MetricVisualizer(layout=Layout(align_self='stretch', height='500px'))"
      ]
     },
     "metadata": {},
     "output_type": "display_data"
    },
    {
     "name": "stdout",
     "output_type": "stream",
     "text": [
      "Step #1 out of 20\n"
     ]
    }
   ],
   "source": [
    "result = model.select_features(\n",
    "    train_pool, eval_set=val_pool,\n",
    "    features_for_select=X_train.columns.tolist(),\n",
    "    num_features_to_select=80,\n",
    "    steps=20,\n",
    "    plot=True,\n",
    ")"
   ]
  },
  {
   "cell_type": "code",
   "execution_count": null,
   "id": "67c586c8-7e4c-4d1f-a778-abfcd789670e",
   "metadata": {},
   "outputs": [],
   "source": [
    "print(result['eliminated_features_names'])"
   ]
  },
  {
   "cell_type": "code",
   "execution_count": null,
   "id": "8459ebca-6ddf-46ce-8837-3273c444a4df",
   "metadata": {},
   "outputs": [],
   "source": []
  }
 ],
 "metadata": {
  "kernelspec": {
   "display_name": "Python 3 (ipykernel)",
   "language": "python",
   "name": "python3"
  },
  "language_info": {
   "codemirror_mode": {
    "name": "ipython",
    "version": 3
   },
   "file_extension": ".py",
   "mimetype": "text/x-python",
   "name": "python",
   "nbconvert_exporter": "python",
   "pygments_lexer": "ipython3",
   "version": "3.12.7"
  }
 },
 "nbformat": 4,
 "nbformat_minor": 5
}
