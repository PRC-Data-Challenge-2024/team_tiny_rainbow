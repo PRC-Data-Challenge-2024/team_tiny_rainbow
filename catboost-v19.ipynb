{
 "cells": [
  {
   "cell_type": "code",
   "execution_count": 1,
   "id": "d208adad-c114-4181-a0e8-201a1b5cdf0e",
   "metadata": {
    "ExecuteTime": {
     "end_time": "2024-10-06T21:26:10.862240Z",
     "start_time": "2024-10-06T21:26:10.859122Z"
    }
   },
   "outputs": [],
   "source": [
    "version = 106"
   ]
  },
  {
   "cell_type": "code",
   "execution_count": 2,
   "id": "74207992-1acb-45cb-885a-d563db344aeb",
   "metadata": {
    "ExecuteTime": {
     "end_time": "2024-10-06T21:26:10.862240Z",
     "start_time": "2024-10-06T21:26:10.859122Z"
    }
   },
   "outputs": [],
   "source": [
    "import pandas as pd\n",
    "import numpy as np"
   ]
  },
  {
   "cell_type": "markdown",
   "id": "ed5768b5-ccc9-44e8-90f0-af97e53fedfe",
   "metadata": {},
   "source": [
    "## Loading Data"
   ]
  },
  {
   "cell_type": "code",
   "execution_count": 3,
   "id": "00e2070e-305f-4387-a763-2b9bbad31e1b",
   "metadata": {
    "ExecuteTime": {
     "end_time": "2024-10-06T21:38:42.054099Z",
     "start_time": "2024-10-06T21:38:38.158181Z"
    }
   },
   "outputs": [],
   "source": [
    "# Load the dataset after the exploratory data analysis\n",
    "challenge_set_updated = pd.read_csv(\"./data/challenge_set_updated_v19.csv\")\n",
    "submission_set_updated = pd.read_csv(\"./data/submission_set_updated_v19.csv\")\n",
    "submission_set = pd.read_csv(\"./data/final_submission_set.csv\")"
   ]
  },
  {
   "cell_type": "markdown",
   "id": "19261bf2-b8d1-4cd6-a3c4-969c8bbaa16a",
   "metadata": {},
   "source": [
    "## Predictive Model Learning"
   ]
  },
  {
   "cell_type": "code",
   "execution_count": 4,
   "id": "08f4c04c-eb88-4732-b4c2-920d713ddc9c",
   "metadata": {
    "ExecuteTime": {
     "end_time": "2024-10-06T21:38:42.090068Z",
     "start_time": "2024-10-06T21:38:42.087125Z"
    }
   },
   "outputs": [],
   "source": [
    "cat_names = ['callsign',\n",
    "            'adep', \n",
    "            'ades', \n",
    "            'aircraft_type', \n",
    "            'wtc', \n",
    "            'airline',\n",
    "            'offblock_hour',\n",
    "            'offblock_minute', \n",
    "            'offblock_day_of_week',\n",
    "            'offblock_weekday_name',\n",
    "            'offblock_month',\n",
    "            'offblock_week_of_year', \n",
    "            'offblock_season', \n",
    "            'arrival_hour',\n",
    "            'arrival_minute',\n",
    "            'arrival_season',\n",
    "            'arrival_weekday_name',\n",
    "            'is_offblock_weekend',\n",
    "            'is_offblock_rush_hour',\n",
    "            'flight_duration_category',                       \n",
    "            'adep_region', \n",
    "            'ades_region', \n",
    "            'same_country_flight',\n",
    "            'same_region_flight',                        \n",
    "            'flight_direction',\n",
    "            'is_intercontinental',\n",
    "            'Manufacturer',\n",
    "            'Model_FAA',\n",
    "            'Physical_Class_Engine',\n",
    "            'FAA_Weight',\n",
    "            'adep_geo_cluster',\n",
    "            'ades_geo_cluster']"
   ]
  },
  {
   "cell_type": "code",
   "execution_count": 5,
   "id": "047d2b79-142c-4a1d-9fed-d56779bedccc",
   "metadata": {
    "ExecuteTime": {
     "end_time": "2024-10-06T21:38:42.090068Z",
     "start_time": "2024-10-06T21:38:42.087125Z"
    }
   },
   "outputs": [],
   "source": [
    "dataset = pd.concat([challenge_set_updated, submission_set_updated], axis=0)\n",
    "dataset.drop('stall_vel_knots', axis=1, inplace=True)"
   ]
  },
  {
   "cell_type": "code",
   "execution_count": 6,
   "id": "3aba2a91-c843-4b85-82b0-96646f97658c",
   "metadata": {
    "ExecuteTime": {
     "end_time": "2024-10-06T21:38:42.274048Z",
     "start_time": "2024-10-06T21:38:42.143808Z"
    }
   },
   "outputs": [
    {
     "name": "stdout",
     "output_type": "stream",
     "text": [
      "vlof_tas                            0.406441\n",
      "sqrd_tas_1                          0.406441\n",
      "tas_1                               0.406441\n",
      "specific_energy_1                   0.406441\n",
      "sqrd_vlof_tas                       0.406441\n",
      "vlof_groundspeed                    0.406441\n",
      "tas_2                               0.372550\n",
      "specific_energy_2                   0.372550\n",
      "sqrd_tas_2                          0.372550\n",
      "sqrd_tas_3                          0.359277\n",
      "specific_energy_3                   0.359277\n",
      "tas_3                               0.359277\n",
      "sqrd_tas_10                         0.356763\n",
      "specific_energy_10                  0.356763\n",
      "tas_10                              0.356763\n",
      "sqrd_tas_9                          0.353705\n",
      "tas_9                               0.353705\n",
      "specific_energy_9                   0.353705\n",
      "tas_4                               0.353320\n",
      "specific_energy_4                   0.353320\n",
      "sqrd_tas_4                          0.353320\n",
      "tas_8                               0.351376\n",
      "sqrd_tas_8                          0.351376\n",
      "specific_energy_8                   0.351376\n",
      "tas_5                               0.350255\n",
      "sqrd_tas_5                          0.350255\n",
      "specific_energy_5                   0.350255\n",
      "tas_7                               0.349834\n",
      "specific_energy_7                   0.349834\n",
      "sqrd_tas_7                          0.349834\n",
      "sqrd_tas_6                          0.349350\n",
      "specific_energy_6                   0.349350\n",
      "tas_6                               0.349350\n",
      "tow                                 0.300001\n",
      "adep_height_10                      0.254349\n",
      "temperature_10                      0.254349\n",
      "altitude_10                         0.254349\n",
      "adep_height_9                       0.248318\n",
      "temperature_9                       0.248318\n",
      "altitude_9                          0.248318\n",
      "altitude_8                          0.242597\n",
      "temperature_8                       0.242597\n",
      "adep_height_8                       0.242597\n",
      "groundspeed_10NM                    0.238016\n",
      "specific_energy                     0.238016\n",
      "tas_10NM                            0.238016\n",
      "temperature_7                       0.237159\n",
      "adep_height_7                       0.237159\n",
      "altitude_7                          0.237159\n",
      "adep_height_6                       0.231989\n",
      "temperature_6                       0.231989\n",
      "altitude_6                          0.231989\n",
      "temperature_5                       0.226917\n",
      "adep_height_5                       0.226917\n",
      "altitude_5                          0.226917\n",
      "temperature_4                       0.222195\n",
      "altitude_4                          0.222195\n",
      "adep_height_4                       0.222195\n",
      "adep_height_3                       0.217559\n",
      "altitude_3                          0.217559\n",
      "temperature_3                       0.217559\n",
      "adep_height_2                       0.213511\n",
      "temperature_2                       0.213511\n",
      "altitude_2                          0.213511\n",
      "adep_height_1                       0.210116\n",
      "altitude_1                          0.210116\n",
      "temperature_1                       0.210116\n",
      "first_adep_height                   0.210116\n",
      "specific_energy_ENR                 0.110038\n",
      "airspeed_specific_energy_ENR        0.110038\n",
      "specific_energy_ARR_100             0.043125\n",
      "airspeed_specific_energy_ARR        0.043125\n",
      "vertical_rate_bins_ARR              0.040824\n",
      "vertical_rate_airspeed_ARR          0.040824\n",
      "average_vertical_rate_ARR_100       0.040824\n",
      "altitude_groundspeed_ARR            0.040820\n",
      "groundspeed_ARR_100                 0.040820\n",
      "average_airspeed_ARR_100            0.040820\n",
      "groundspeed_flown_distance_ARR      0.040820\n",
      "track_variation_ARR_100             0.040820\n",
      "temperature_bins_ARR                0.040809\n",
      "average_temperature_ARR_100         0.040809\n",
      "average_humidity_ARR_100            0.040809\n",
      "average_altitude_ARR_100            0.040809\n",
      "max_altitude_ARR_100                0.040809\n",
      "humidity_bins_ARR                   0.040809\n",
      "humidity_temperature_ARR            0.040809\n",
      "kpi17_time                          0.040513\n",
      "kpi17_distance                      0.040513\n",
      "transit_time_kpi17                  0.040513\n",
      "flown_distance_kpi17                0.040513\n",
      "airspeed_specific_energy_DEP        0.031542\n",
      "specific_energy_DEP_40              0.031542\n",
      "average_vertical_rate_DEP_40        0.031542\n",
      "vertical_rate_airspeed_DEP          0.031542\n",
      "vertical_rate_bins_DEP              0.031542\n",
      "track_variation_DEP_40              0.031541\n",
      "groundspeed_flown_distance_DEP      0.031541\n",
      "altitude_groundspeed_DEP            0.031541\n",
      "average_airspeed_DEP_40             0.031541\n",
      "groundspeed_DEP_40                  0.031541\n",
      "humidity_bins_DEP                   0.031444\n",
      "temperature_bins_DEP                0.031444\n",
      "humidity_temperature_DEP            0.031444\n",
      "average_temperature_DEP_40          0.031444\n",
      "average_humidity_DEP_40             0.031444\n",
      "average_altitude_DEP_40             0.031444\n",
      "max_altitude_DEP_40                 0.031444\n",
      "vertical_rate_airspeed_ENR          0.000673\n",
      "average_vertical_rate_ENR           0.000673\n",
      "groundspeed_ENR                     0.000670\n",
      "average_airspeed_ENR                0.000670\n",
      "groundspeed_flown_distance_ENR      0.000670\n",
      "altitude_groundspeed_ENR            0.000670\n",
      "track_variation_ENR                 0.000670\n",
      "humidity_temperature_ENR            0.000660\n",
      "max_altitude_ENR                    0.000660\n",
      "average_humidity_ENR                0.000660\n",
      "average_temperature_ENR             0.000660\n",
      "average_altitude_ENR                0.000660\n",
      "offblock_week_of_year               0.000000\n",
      "wind_distance_flown_distance_ENR    0.000000\n",
      "FAA_Weight                          0.000000\n",
      "Approach_Speed_knot                 0.000000\n",
      "Num_Engines                         0.000000\n",
      "Physical_Class_Engine               0.000000\n",
      "Model_FAA                           0.000000\n",
      "Manufacturer                        0.000000\n",
      "groundspeed_airspeed_ratio_ENR      0.000000\n",
      "groundspeed_airspeed_ratio_DEP      0.000000\n",
      "groundspeed_airspeed_ratio_ARR      0.000000\n",
      "wind_distance_flown_distance_ARR    0.000000\n",
      "wind_distance_flown_distance_DEP    0.000000\n",
      "MALW_kg                             0.000000\n",
      "vertical_rate_airspeed_ratio_ENR    0.000000\n",
      "vertical_rate_airspeed_ratio_DEP    0.000000\n",
      "vertical_rate_airspeed_ratio_ARR    0.000000\n",
      "flown_distance_bins                 0.000000\n",
      "flight_duration_bins                0.000000\n",
      "ades                                0.000000\n",
      "flown_distance_ENR                  0.000000\n",
      "MTOW_kg                             0.000000\n",
      "mzfw_kg                             0.000000\n",
      "flown_distance_DEP_40               0.000000\n",
      "Longitude_adep                      0.000000\n",
      "ades_geo_cluster                    0.000000\n",
      "adep_geo_cluster                    0.000000\n",
      "elevation_gradient                  0.000000\n",
      "bearing                             0.000000\n",
      "altitude_difference                 0.000000\n",
      "actual_distance                     0.000000\n",
      "Altitude_ades                       0.000000\n",
      "Longitude_ades                      0.000000\n",
      "Latitude_ades                       0.000000\n",
      "Altitude_adep                       0.000000\n",
      "Latitude_adep                       0.000000\n",
      "max_fuel_l                          0.000000\n",
      "seats_max                           0.000000\n",
      "seats_min                           0.000000\n",
      "oew_kg                              0.000000\n",
      "height_m                            0.000000\n",
      "length_m                            0.000000\n",
      "wingspan_m                          0.000000\n",
      "tas_knots                           0.000000\n",
      "range_km                            0.000000\n",
      "cargo_capacity                      0.000000\n",
      "seats_typ                           0.000000\n",
      "aircraft_type                       0.000000\n",
      "flown_distance_ARR_100              0.000000\n",
      "wtc                                 0.000000\n",
      "flight_duration_category            0.000000\n",
      "flight_speed                        0.000000\n",
      "taxi_ratio                          0.000000\n",
      "offblock_to_arrival_day_diff        0.000000\n",
      "is_arrival_rush_hour                0.000000\n",
      "is_arrival_weekend                  0.000000\n",
      "is_offblock_rush_hour               0.000000\n",
      "is_offblock_weekend                 0.000000\n",
      "offblock_to_arrival_duration        0.000000\n",
      "arrival_weekday_name                0.000000\n",
      "arrival_season                      0.000000\n",
      "arrival_year                        0.000000\n",
      "arrival_quarter                     0.000000\n",
      "arrival_week_of_year                0.000000\n",
      "arrival_month                       0.000000\n",
      "arrival_day_of_year                 0.000000\n",
      "arrival_day_of_week                 0.000000\n",
      "arrival_minute                      0.000000\n",
      "arrival_hour                        0.000000\n",
      "offblock_weekday_name               0.000000\n",
      "offblock_season                     0.000000\n",
      "offblock_year                       0.000000\n",
      "normalized_taxi_ratio               0.000000\n",
      "speed_per_distance                  0.000000\n",
      "offblock_quarter                    0.000000\n",
      "cumulative_avg_speed                0.000000\n",
      "airline                             0.000000\n",
      "wind_distance_ENR                   0.000000\n",
      "taxiout_time                        0.000000\n",
      "wind_distance_DEP_40                0.000000\n",
      "wind_distance_ARR_100               0.000000\n",
      "flown_distance                      0.000000\n",
      "adep                                0.000000\n",
      "offblock_hour                       0.000000\n",
      "offblock_minute                     0.000000\n",
      "offblock_day_of_week                0.000000\n",
      "offblock_day_of_year                0.000000\n",
      "offblock_month                      0.000000\n",
      "is_intercontinental                 0.000000\n",
      "flight_direction                    0.000000\n",
      "same_region_flight                  0.000000\n",
      "same_country_flight                 0.000000\n",
      "ades_region                         0.000000\n",
      "adep_region                         0.000000\n",
      "flight_time_excl_taxi               0.000000\n",
      "ENR_distance_ratio                  0.000000\n",
      "avg_speed_ENR                       0.000000\n",
      "callsign                            0.000000\n",
      "dtype: float64\n"
     ]
    }
   ],
   "source": [
    "pd.set_option('display.max_rows', None)\n",
    "\n",
    "print(dataset.isnull().mean().sort_values(ascending=False))\n",
    "\n",
    "pd.reset_option('display.max_rows')"
   ]
  },
  {
   "cell_type": "code",
   "execution_count": 7,
   "id": "65f64717-12fc-41c4-9852-550e59bf94e2",
   "metadata": {
    "ExecuteTime": {
     "end_time": "2024-10-06T21:38:42.274048Z",
     "start_time": "2024-10-06T21:38:42.143808Z"
    }
   },
   "outputs": [],
   "source": [
    "# Dropping columns with too many NaNs\n",
    "threshold = 0.4\n",
    "df = dataset.dropna(thresh=int((1 - threshold) * len(dataset)), axis=1)"
   ]
  },
  {
   "cell_type": "code",
   "execution_count": 8,
   "id": "87e2aab5-1d74-448b-89b0-f988d4032a8e",
   "metadata": {},
   "outputs": [],
   "source": [
    "eliminated_features = ['groundspeed_airspeed_ratio_ENR', 'temperature_9', 'wind_distance_flown_distance_ENR', 'average_humidity_DEP_40', 'vertical_rate_bins_ARR', \n",
    "        'groundspeed_flown_distance_ARR', 'arrival_quarter', 'offblock_year', 'arrival_year', 'offblock_to_arrival_day_diff', 'altitude_9', 'tas_1', \n",
    "        'is_arrival_weekend', 'adep_height_6', 'sqrd_vlof_tas', 'average_airspeed_ARR_100', 'adep_height_7', 'wind_distance_ARR_100', 'altitude_4', \n",
    "        'adep_height_1', 'groundspeed_airspeed_ratio_ARR', 'tas_8', 'specific_energy_4', 'temperature_bins_DEP', 'temperature_6', 'humidity_bins_DEP', \n",
    "        'altitude_5', 'adep_height_5', 'sqrd_tas_8', 'sqrd_tas_7', 'specific_energy_7', 'specific_energy_1', 'adep_height_4', 'sqrd_tas_6', 'tas_2', \n",
    "        'sqrd_tas_5', 'specific_energy_3', 'altitude_8', 'specific_energy_6', 'adep_height_8', 'vertical_rate_airspeed_ARR', 'altitude_2', 'sqrd_tas_1', \n",
    "        'sqrd_tas_3', 'specific_energy_8', 'sqrd_tas_9', 'temperature_8', 'groundspeed_airspeed_ratio_DEP', 'sqrd_tas_4', 'altitude_6', \n",
    "        'specific_energy_5', 'humidity_temperature_DEP', 'adep_height_2', 'altitude_7', 'adep_height_3', 'temperature_1', 'specific_energy_2', \n",
    "        'temperature_5', 'wind_distance_flown_distance_ARR', 'arrival_month', 'temperature_4', 'groundspeed_ARR_100', 'tas_4', 'arrival_minute', \n",
    "        'adep_height_9', 'altitude_groundspeed_ARR', 'altitude_3', 'temperature_7', 'airspeed_specific_energy_ENR', 'altitude_10', 'sqrd_tas_10', \n",
    "        'humidity_bins_ARR', 'specific_energy_9', 'sqrd_tas_2', 'temperature_2', 'tas_10', 'average_humidity_ENR', 'offblock_quarter', \n",
    "        'airspeed_specific_energy_DEP', 'wind_distance_flown_distance_DEP', 'tas_6', 'flown_distance_ARR_100', 'vertical_rate_airspeed_ratio_ARR', \n",
    "        'average_humidity_ARR_100', 'specific_energy_10', 'first_adep_height', 'tas_3', 'temperature_3', 'track_variation_ARR_100', \n",
    "        'is_offblock_rush_hour', 'average_temperature_ENR', 'is_arrival_rush_hour', 'average_altitude_ARR_100', 'specific_energy_ENR', \n",
    "        'groundspeed_ENR', 'is_offblock_weekend', 'Num_Engines', 'temperature_bins_ARR', 'average_temperature_ARR_100', 'kpi17_time', \n",
    "        'average_airspeed_DEP_40', 'wind_distance_ENR', 'offblock_minute', 'groundspeed_10NM', 'average_vertical_rate_ARR_100', 'vlof_tas', \n",
    "        'humidity_temperature_ARR']"
   ]
  },
  {
   "cell_type": "code",
   "execution_count": 8,
   "id": "5d434797c9b4c8a2",
   "metadata": {
    "ExecuteTime": {
     "end_time": "2024-10-06T21:38:55.408905Z",
     "start_time": "2024-10-06T21:38:42.352376Z"
    }
   },
   "outputs": [],
   "source": [
    "# Imputation of NaNs\n",
    "columns_with_nan = dataset.isna().any()\n",
    "for col in dataset.columns[columns_with_nan]:\n",
    "    dataset.loc[:, col] = dataset.fillna(dataset[col].median())"
   ]
  },
  {
   "cell_type": "code",
   "execution_count": 21,
   "id": "b0734978-00cc-410b-91a5-b9421f28c31e",
   "metadata": {},
   "outputs": [
    {
     "name": "stdout",
     "output_type": "stream",
     "text": [
      "[IterativeImputer] Completing matrix with shape (527162, 83)\n",
      "[IterativeImputer] Ending imputation round 1/5, elapsed time 226.46\n",
      "[IterativeImputer] Change: 567069505.1329292, scaled tolerance: 17221679.503513314 \n",
      "[IterativeImputer] Ending imputation round 2/5, elapsed time 455.61\n",
      "[IterativeImputer] Change: 134237606.06333306, scaled tolerance: 17221679.503513314 \n",
      "[IterativeImputer] Ending imputation round 3/5, elapsed time 676.09\n",
      "[IterativeImputer] Change: 29579437.94665668, scaled tolerance: 17221679.503513314 \n",
      "[IterativeImputer] Ending imputation round 4/5, elapsed time 902.09\n",
      "[IterativeImputer] Change: 10042756.898145434, scaled tolerance: 17221679.503513314 \n",
      "[IterativeImputer] Early stopping criterion reached.\n",
      "[IterativeImputer] Completing matrix with shape (527162, 83)\n",
      "[IterativeImputer] Ending imputation round 1/4, elapsed time 7.80\n",
      "[IterativeImputer] Ending imputation round 2/4, elapsed time 15.55\n",
      "[IterativeImputer] Ending imputation round 3/4, elapsed time 23.29\n",
      "[IterativeImputer] Ending imputation round 4/4, elapsed time 31.02\n"
     ]
    }
   ],
   "source": [
    "from sklearn.impute import KNNImputer\n",
    "from sklearn.experimental import enable_iterative_imputer\n",
    "from sklearn.impute import IterativeImputer\n",
    "from sklearn.linear_model import LinearRegression\n",
    "\n",
    "X_imputed = dataset.drop('tow', axis=1)\n",
    "X_imputed = X_imputed.drop(eliminated_features, axis=1)\n",
    "selected_cat_names = [x for x in cat_names if x in X_imputed.columns]\n",
    "X_imputed = X_imputed.drop(selected_cat_names, axis=1)\n",
    "\n",
    "regressor = LinearRegression()\n",
    "\n",
    "imputer = IterativeImputer(estimator=regressor, missing_values=np.nan, max_iter=5, verbose=2, imputation_order='roman', random_state=42)\n",
    "# imputer = KNNImputer()\n",
    "imputer.fit(X_imputed)\n",
    "\n",
    "X_imputed = imputer.transform(X_imputed)"
   ]
  },
  {
   "cell_type": "code",
   "execution_count": 22,
   "id": "6b8a5929-7826-47e8-8e2a-06e9761dd443",
   "metadata": {
    "ExecuteTime": {
     "end_time": "2024-10-06T21:38:42.274048Z",
     "start_time": "2024-10-06T21:38:42.143808Z"
    }
   },
   "outputs": [
    {
     "name": "stdout",
     "output_type": "stream",
     "text": [
      "vlof_tas                            0.406441\n",
      "sqrd_tas_1                          0.406441\n",
      "tas_1                               0.406441\n",
      "specific_energy_1                   0.406441\n",
      "sqrd_vlof_tas                       0.406441\n",
      "vlof_groundspeed                    0.406441\n",
      "tas_2                               0.372550\n",
      "specific_energy_2                   0.372550\n",
      "sqrd_tas_2                          0.372550\n",
      "sqrd_tas_3                          0.359277\n",
      "specific_energy_3                   0.359277\n",
      "tas_3                               0.359277\n",
      "sqrd_tas_10                         0.356763\n",
      "specific_energy_10                  0.356763\n",
      "tas_10                              0.356763\n",
      "sqrd_tas_9                          0.353705\n",
      "tas_9                               0.353705\n",
      "specific_energy_9                   0.353705\n",
      "tas_4                               0.353320\n",
      "specific_energy_4                   0.353320\n",
      "sqrd_tas_4                          0.353320\n",
      "tas_8                               0.351376\n",
      "sqrd_tas_8                          0.351376\n",
      "specific_energy_8                   0.351376\n",
      "tas_5                               0.350255\n",
      "sqrd_tas_5                          0.350255\n",
      "specific_energy_5                   0.350255\n",
      "tas_7                               0.349834\n",
      "specific_energy_7                   0.349834\n",
      "sqrd_tas_7                          0.349834\n",
      "sqrd_tas_6                          0.349350\n",
      "specific_energy_6                   0.349350\n",
      "tas_6                               0.349350\n",
      "tow                                 0.300001\n",
      "adep_height_10                      0.254349\n",
      "temperature_10                      0.254349\n",
      "altitude_10                         0.254349\n",
      "adep_height_9                       0.248318\n",
      "temperature_9                       0.248318\n",
      "altitude_9                          0.248318\n",
      "altitude_8                          0.242597\n",
      "temperature_8                       0.242597\n",
      "adep_height_8                       0.242597\n",
      "groundspeed_10NM                    0.238016\n",
      "specific_energy                     0.238016\n",
      "tas_10NM                            0.238016\n",
      "temperature_7                       0.237159\n",
      "adep_height_7                       0.237159\n",
      "altitude_7                          0.237159\n",
      "adep_height_6                       0.231989\n",
      "temperature_6                       0.231989\n",
      "altitude_6                          0.231989\n",
      "temperature_5                       0.226917\n",
      "adep_height_5                       0.226917\n",
      "altitude_5                          0.226917\n",
      "temperature_4                       0.222195\n",
      "altitude_4                          0.222195\n",
      "adep_height_4                       0.222195\n",
      "adep_height_3                       0.217559\n",
      "altitude_3                          0.217559\n",
      "temperature_3                       0.217559\n",
      "adep_height_2                       0.213511\n",
      "temperature_2                       0.213511\n",
      "altitude_2                          0.213511\n",
      "adep_height_1                       0.210116\n",
      "altitude_1                          0.210116\n",
      "temperature_1                       0.210116\n",
      "first_adep_height                   0.210116\n",
      "specific_energy_ENR                 0.110038\n",
      "airspeed_specific_energy_ENR        0.110038\n",
      "specific_energy_ARR_100             0.043125\n",
      "airspeed_specific_energy_ARR        0.043125\n",
      "vertical_rate_bins_ARR              0.040824\n",
      "vertical_rate_airspeed_ARR          0.040824\n",
      "average_vertical_rate_ARR_100       0.040824\n",
      "altitude_groundspeed_ARR            0.040820\n",
      "groundspeed_ARR_100                 0.040820\n",
      "average_airspeed_ARR_100            0.040820\n",
      "groundspeed_flown_distance_ARR      0.040820\n",
      "track_variation_ARR_100             0.040820\n",
      "temperature_bins_ARR                0.040809\n",
      "average_temperature_ARR_100         0.040809\n",
      "average_humidity_ARR_100            0.040809\n",
      "average_altitude_ARR_100            0.040809\n",
      "max_altitude_ARR_100                0.040809\n",
      "humidity_bins_ARR                   0.040809\n",
      "humidity_temperature_ARR            0.040809\n",
      "kpi17_time                          0.040513\n",
      "kpi17_distance                      0.040513\n",
      "transit_time_kpi17                  0.040513\n",
      "flown_distance_kpi17                0.040513\n",
      "vertical_rate_airspeed_DEP          0.031542\n",
      "specific_energy_DEP_40              0.031542\n",
      "average_vertical_rate_DEP_40        0.031542\n",
      "airspeed_specific_energy_DEP        0.031542\n",
      "vertical_rate_bins_DEP              0.031542\n",
      "track_variation_DEP_40              0.031541\n",
      "altitude_groundspeed_DEP            0.031541\n",
      "groundspeed_flown_distance_DEP      0.031541\n",
      "average_airspeed_DEP_40             0.031541\n",
      "groundspeed_DEP_40                  0.031541\n",
      "humidity_bins_DEP                   0.031444\n",
      "temperature_bins_DEP                0.031444\n",
      "max_altitude_DEP_40                 0.031444\n",
      "humidity_temperature_DEP            0.031444\n",
      "average_temperature_DEP_40          0.031444\n",
      "average_humidity_DEP_40             0.031444\n",
      "average_altitude_DEP_40             0.031444\n",
      "vertical_rate_airspeed_ENR          0.000673\n",
      "average_vertical_rate_ENR           0.000673\n",
      "groundspeed_ENR                     0.000670\n",
      "average_airspeed_ENR                0.000670\n",
      "groundspeed_flown_distance_ENR      0.000670\n",
      "altitude_groundspeed_ENR            0.000670\n",
      "track_variation_ENR                 0.000670\n",
      "humidity_temperature_ENR            0.000660\n",
      "max_altitude_ENR                    0.000660\n",
      "average_humidity_ENR                0.000660\n",
      "average_temperature_ENR             0.000660\n",
      "average_altitude_ENR                0.000660\n",
      "offblock_week_of_year               0.000000\n",
      "groundspeed_airspeed_ratio_ARR      0.000000\n",
      "MTOW_kg                             0.000000\n",
      "FAA_Weight                          0.000000\n",
      "Approach_Speed_knot                 0.000000\n",
      "Num_Engines                         0.000000\n",
      "Physical_Class_Engine               0.000000\n",
      "Model_FAA                           0.000000\n",
      "Manufacturer                        0.000000\n",
      "groundspeed_airspeed_ratio_ENR      0.000000\n",
      "groundspeed_airspeed_ratio_DEP      0.000000\n",
      "wind_distance_flown_distance_DEP    0.000000\n",
      "wind_distance_flown_distance_ENR    0.000000\n",
      "flown_distance_DEP_40               0.000000\n",
      "wind_distance_flown_distance_ARR    0.000000\n",
      "vertical_rate_airspeed_ratio_ENR    0.000000\n",
      "vertical_rate_airspeed_ratio_DEP    0.000000\n",
      "vertical_rate_airspeed_ratio_ARR    0.000000\n",
      "flown_distance_bins                 0.000000\n",
      "flight_duration_bins                0.000000\n",
      "ades                                0.000000\n",
      "flown_distance_ENR                  0.000000\n",
      "MALW_kg                             0.000000\n",
      "mzfw_kg                             0.000000\n",
      "max_fuel_l                          0.000000\n",
      "Longitude_adep                      0.000000\n",
      "ades_geo_cluster                    0.000000\n",
      "adep_geo_cluster                    0.000000\n",
      "elevation_gradient                  0.000000\n",
      "bearing                             0.000000\n",
      "altitude_difference                 0.000000\n",
      "actual_distance                     0.000000\n",
      "Altitude_ades                       0.000000\n",
      "Longitude_ades                      0.000000\n",
      "Latitude_ades                       0.000000\n",
      "Altitude_adep                       0.000000\n",
      "Latitude_adep                       0.000000\n",
      "seats_typ                           0.000000\n",
      "seats_max                           0.000000\n",
      "seats_min                           0.000000\n",
      "stall_vel_knots                     0.000000\n",
      "oew_kg                              0.000000\n",
      "height_m                            0.000000\n",
      "length_m                            0.000000\n",
      "wingspan_m                          0.000000\n",
      "tas_knots                           0.000000\n",
      "range_km                            0.000000\n",
      "cargo_capacity                      0.000000\n",
      "aircraft_type                       0.000000\n",
      "wtc                                 0.000000\n",
      "offblock_quarter                    0.000000\n",
      "flight_duration_category            0.000000\n",
      "flight_speed                        0.000000\n",
      "taxi_ratio                          0.000000\n",
      "offblock_to_arrival_day_diff        0.000000\n",
      "is_arrival_rush_hour                0.000000\n",
      "is_arrival_weekend                  0.000000\n",
      "is_offblock_rush_hour               0.000000\n",
      "is_offblock_weekend                 0.000000\n",
      "offblock_to_arrival_duration        0.000000\n",
      "arrival_weekday_name                0.000000\n",
      "arrival_season                      0.000000\n",
      "arrival_year                        0.000000\n",
      "arrival_quarter                     0.000000\n",
      "arrival_week_of_year                0.000000\n",
      "arrival_month                       0.000000\n",
      "arrival_day_of_year                 0.000000\n",
      "arrival_day_of_week                 0.000000\n",
      "arrival_minute                      0.000000\n",
      "arrival_hour                        0.000000\n",
      "offblock_weekday_name               0.000000\n",
      "offblock_season                     0.000000\n",
      "offblock_year                       0.000000\n",
      "normalized_taxi_ratio               0.000000\n",
      "speed_per_distance                  0.000000\n",
      "flown_distance_ARR_100              0.000000\n",
      "cumulative_avg_speed                0.000000\n",
      "airline                             0.000000\n",
      "wind_distance_ENR                   0.000000\n",
      "taxiout_time                        0.000000\n",
      "wind_distance_DEP_40                0.000000\n",
      "wind_distance_ARR_100               0.000000\n",
      "flown_distance                      0.000000\n",
      "adep                                0.000000\n",
      "offblock_hour                       0.000000\n",
      "offblock_minute                     0.000000\n",
      "offblock_day_of_week                0.000000\n",
      "offblock_day_of_year                0.000000\n",
      "offblock_month                      0.000000\n",
      "is_intercontinental                 0.000000\n",
      "flight_direction                    0.000000\n",
      "same_region_flight                  0.000000\n",
      "same_country_flight                 0.000000\n",
      "ades_region                         0.000000\n",
      "adep_region                         0.000000\n",
      "flight_time_excl_taxi               0.000000\n",
      "ENR_distance_ratio                  0.000000\n",
      "avg_speed_ENR                       0.000000\n",
      "callsign                            0.000000\n",
      "dtype: float64\n"
     ]
    }
   ],
   "source": [
    "pd.set_option('display.max_rows', None)\n",
    "\n",
    "print(dataset.isnull().mean().sort_values(ascending=False))\n",
    "\n",
    "pd.reset_option('display.max_rows')"
   ]
  },
  {
   "cell_type": "code",
   "execution_count": 24,
   "id": "5726ab8d-4023-4d3b-8a8c-777fe2288f04",
   "metadata": {
    "ExecuteTime": {
     "end_time": "2024-10-06T21:38:42.274048Z",
     "start_time": "2024-10-06T21:38:42.143808Z"
    }
   },
   "outputs": [
    {
     "name": "stdout",
     "output_type": "stream",
     "text": [
      "[[ 1.80000000e+01  3.21000000e+02  6.92967951e-01 ...  1.29000000e+02\n",
      "   2.77346455e+02  2.32363394e-01]\n",
      " [ 1.30000000e+01  4.19300000e+03  6.27793601e+00 ... -1.00000000e+00\n",
      "   2.85530704e+02 -1.32540511e-04]\n",
      " [ 1.50000000e+01  3.77000000e+03  6.24592398e+00 ...  1.66000000e+02\n",
      "   3.05643136e+02  2.42136938e-02]\n",
      " ...\n",
      " [ 1.40000000e+01  3.42600000e+03  1.96558129e+00 ...  0.00000000e+00\n",
      "   2.96505920e+02  0.00000000e+00]\n",
      " [ 1.50000000e+01  3.35000000e+02  8.38468055e-01 ...  1.45000000e+02\n",
      "   4.36724373e+01  2.55441541e-01]\n",
      " [ 1.00000000e+01  1.01400000e+03 -2.24273864e+00 ...  3.21000000e+02\n",
      "   2.79850550e+02  1.79498509e-01]]\n"
     ]
    }
   ],
   "source": [
    "pd.set_option('display.max_rows', None)\n",
    "\n",
    "print(X_imputed)\n",
    "\n",
    "pd.reset_option('display.max_rows')"
   ]
  },
  {
   "cell_type": "code",
   "execution_count": 9,
   "id": "23c5b9e4-7275-4c88-a171-6a1d5f6f46c8",
   "metadata": {
    "ExecuteTime": {
     "end_time": "2024-10-06T21:38:55.408905Z",
     "start_time": "2024-10-06T21:38:42.352376Z"
    }
   },
   "outputs": [],
   "source": [
    "df = dataset.iloc[0:challenge_set_updated.shape[0], :]"
   ]
  },
  {
   "cell_type": "code",
   "execution_count": 10,
   "id": "e043fa0a-27d7-44ae-adce-99c6dcbfe1aa",
   "metadata": {
    "ExecuteTime": {
     "end_time": "2024-10-06T21:38:55.683992Z",
     "start_time": "2024-10-06T21:38:55.596679Z"
    }
   },
   "outputs": [],
   "source": [
    "X = df.drop('tow', axis=1)\n",
    "y = df.tow"
   ]
  },
  {
   "cell_type": "code",
   "execution_count": 54,
   "id": "90e35db3-54bd-46b4-b5b4-deffc73d41b4",
   "metadata": {
    "ExecuteTime": {
     "end_time": "2024-10-06T21:39:04.704355Z",
     "start_time": "2024-10-06T21:38:55.879796Z"
    }
   },
   "outputs": [],
   "source": [
    "# import numpy as np\n",
    "# import matplotlib.pyplot as plt\n",
    "# import seaborn as sns\n",
    "\n",
    "# # Create correlation matrix\n",
    "# corr_matrix = X.corr(numeric_only=True).abs()\n",
    "\n",
    "# # Select upper triangle of correlation matrix\n",
    "# upper = corr_matrix.where(np.triu(np.ones(corr_matrix.shape), k=1).astype(bool))\n",
    "\n",
    "# # Find features with correlation greater than 0.98\n",
    "# to_drop = [column for column in upper.columns if any(upper[column] > 0.98)]\n",
    "# print(to_drop)\n",
    "\n",
    "# # Plotting the correlation matrix\n",
    "# plt.figure(figsize=(12, 8))\n",
    "# sns.heatmap(corr_matrix, annot=True, cmap='coolwarm', fmt=\".2f\")\n",
    "# plt.title('Correlation Matrix of Challenge Set')\n",
    "# plt.show()\n",
    "\n",
    "# # # Drop features \n",
    "# # X.drop(to_drop, axis=1, inplace=True)"
   ]
  },
  {
   "cell_type": "code",
   "execution_count": 12,
   "id": "67c586c8-7e4c-4d1f-a778-abfcd789670e",
   "metadata": {},
   "outputs": [],
   "source": [
    "eliminated_features = ['groundspeed_airspeed_ratio_ENR', 'temperature_9', 'wind_distance_flown_distance_ENR', 'average_humidity_DEP_40', 'vertical_rate_bins_ARR', \n",
    "        'groundspeed_flown_distance_ARR', 'arrival_quarter', 'offblock_year', 'arrival_year', 'offblock_to_arrival_day_diff', 'altitude_9', 'tas_1', \n",
    "        'is_arrival_weekend', 'adep_height_6', 'sqrd_vlof_tas', 'average_airspeed_ARR_100', 'adep_height_7', 'wind_distance_ARR_100', 'altitude_4', \n",
    "        'adep_height_1', 'groundspeed_airspeed_ratio_ARR', 'tas_8', 'specific_energy_4', 'temperature_bins_DEP', 'temperature_6', 'humidity_bins_DEP', \n",
    "        'altitude_5', 'adep_height_5', 'sqrd_tas_8', 'sqrd_tas_7', 'specific_energy_7', 'specific_energy_1', 'adep_height_4', 'sqrd_tas_6', 'tas_2', \n",
    "        'sqrd_tas_5', 'specific_energy_3', 'altitude_8', 'specific_energy_6', 'adep_height_8', 'vertical_rate_airspeed_ARR', 'altitude_2', 'sqrd_tas_1', \n",
    "        'sqrd_tas_3', 'specific_energy_8', 'sqrd_tas_9', 'temperature_8', 'groundspeed_airspeed_ratio_DEP', 'sqrd_tas_4', 'altitude_6', \n",
    "        'specific_energy_5', 'humidity_temperature_DEP', 'adep_height_2', 'altitude_7', 'adep_height_3', 'temperature_1', 'specific_energy_2', \n",
    "        'temperature_5', 'wind_distance_flown_distance_ARR', 'arrival_month', 'temperature_4', 'groundspeed_ARR_100', 'tas_4', 'arrival_minute', \n",
    "        'adep_height_9', 'altitude_groundspeed_ARR', 'altitude_3', 'temperature_7', 'airspeed_specific_energy_ENR', 'altitude_10', 'sqrd_tas_10', \n",
    "        'humidity_bins_ARR', 'specific_energy_9', 'sqrd_tas_2', 'temperature_2', 'tas_10', 'average_humidity_ENR', 'offblock_quarter', \n",
    "        'airspeed_specific_energy_DEP', 'wind_distance_flown_distance_DEP', 'tas_6', 'flown_distance_ARR_100', 'vertical_rate_airspeed_ratio_ARR', \n",
    "        'average_humidity_ARR_100', 'specific_energy_10', 'first_adep_height', 'tas_3', 'temperature_3', 'track_variation_ARR_100', \n",
    "        'is_offblock_rush_hour', 'average_temperature_ENR', 'is_arrival_rush_hour', 'average_altitude_ARR_100', 'specific_energy_ENR', \n",
    "        'groundspeed_ENR', 'is_offblock_weekend', 'Num_Engines', 'temperature_bins_ARR', 'average_temperature_ARR_100', 'kpi17_time', \n",
    "        'average_airspeed_DEP_40', 'wind_distance_ENR', 'offblock_minute', 'groundspeed_10NM', 'average_vertical_rate_ARR_100', 'vlof_tas', \n",
    "        'humidity_temperature_ARR']"
   ]
  },
  {
   "cell_type": "code",
   "execution_count": 13,
   "id": "568514a5-2186-4d8f-9177-ba034c053b9f",
   "metadata": {},
   "outputs": [],
   "source": [
    "X.drop(eliminated_features, axis=1, inplace=True)"
   ]
  },
  {
   "cell_type": "code",
   "execution_count": 14,
   "id": "ca7442c8-54f0-4e78-b4ba-074582c09bdf",
   "metadata": {},
   "outputs": [],
   "source": [
    "from catboost import CatBoostRegressor, Pool, metrics\n",
    "from sklearn.model_selection import train_test_split\n",
    "\n",
    "X_train, X_val, y_train, y_val = train_test_split(X, y, test_size=0.2, random_state=42)\n",
    "\n",
    "params = {\n",
    "    'learning_rate': 0.01, \n",
    "    'reg_lambda': 0.05357182104973179, \n",
    "    'random_strength': 20.10951792232919, \n",
    "    'depth': 9, \n",
    "    'min_data_in_leaf': 11, \n",
    "    'leaf_estimation_iterations': 12\n",
    "}\n",
    "\n",
    "selected_cat_names = [x for x in cat_names if x in X.columns]\n",
    "\n",
    "train_pool = Pool(X_train, y_train, cat_features=selected_cat_names)\n",
    "val_pool = Pool(X_val, y_val, cat_features=selected_cat_names)\n",
    "\n",
    "model = CatBoostRegressor(\n",
    "    iterations=100000,\n",
    "    objective=metrics.RMSE(),\n",
    "    eval_metric=metrics.RMSE(),\n",
    "    random_seed=42,\n",
    "    verbose=False,\n",
    "    task_type='GPU',\n",
    "    use_best_model=True,\n",
    "    od_type='Iter',\n",
    "    od_wait=50,\n",
    "    **params,\n",
    ")"
   ]
  },
  {
   "cell_type": "code",
   "execution_count": 15,
   "id": "44445a95-7525-4642-8b12-f522c000bf2c",
   "metadata": {},
   "outputs": [
    {
     "data": {
      "application/vnd.jupyter.widget-view+json": {
       "model_id": "ba24dde6968f4028a8878f908e327cea",
       "version_major": 2,
       "version_minor": 0
      },
      "text/plain": [
       "MetricVisualizer(layout=Layout(align_self='stretch', height='500px'))"
      ]
     },
     "metadata": {},
     "output_type": "display_data"
    },
    {
     "ename": "CatBoostError",
     "evalue": "bad allocation",
     "output_type": "error",
     "traceback": [
      "\u001b[1;31m---------------------------------------------------------------------------\u001b[0m",
      "\u001b[1;31mCatBoostError\u001b[0m                             Traceback (most recent call last)",
      "Cell \u001b[1;32mIn[15], line 1\u001b[0m\n\u001b[1;32m----> 1\u001b[0m \u001b[43mmodel\u001b[49m\u001b[38;5;241;43m.\u001b[39;49m\u001b[43mfit\u001b[49m\u001b[43m(\u001b[49m\n\u001b[0;32m      2\u001b[0m \u001b[43m    \u001b[49m\u001b[43mtrain_pool\u001b[49m\u001b[43m,\u001b[49m\u001b[43m \u001b[49m\u001b[43meval_set\u001b[49m\u001b[38;5;241;43m=\u001b[39;49m\u001b[43mval_pool\u001b[49m\u001b[43m,\u001b[49m\n\u001b[0;32m      3\u001b[0m \u001b[43m    \u001b[49m\u001b[43mplot\u001b[49m\u001b[38;5;241;43m=\u001b[39;49m\u001b[38;5;28;43;01mTrue\u001b[39;49;00m\n\u001b[0;32m      4\u001b[0m \u001b[43m)\u001b[49m\n",
      "File \u001b[1;32mC:\\ITA\\prc-challenge-ita\\env\\Lib\\site-packages\\catboost\\core.py:5873\u001b[0m, in \u001b[0;36mCatBoostRegressor.fit\u001b[1;34m(self, X, y, cat_features, text_features, embedding_features, graph, sample_weight, baseline, use_best_model, eval_set, verbose, logging_level, plot, plot_file, column_description, verbose_eval, metric_period, silent, early_stopping_rounds, save_snapshot, snapshot_file, snapshot_interval, init_model, callbacks, log_cout, log_cerr)\u001b[0m\n\u001b[0;32m   5871\u001b[0m \u001b[38;5;28;01mif\u001b[39;00m \u001b[38;5;124m'\u001b[39m\u001b[38;5;124mloss_function\u001b[39m\u001b[38;5;124m'\u001b[39m \u001b[38;5;129;01min\u001b[39;00m params:\n\u001b[0;32m   5872\u001b[0m     CatBoostRegressor\u001b[38;5;241m.\u001b[39m_check_is_compatible_loss(params[\u001b[38;5;124m'\u001b[39m\u001b[38;5;124mloss_function\u001b[39m\u001b[38;5;124m'\u001b[39m])\n\u001b[1;32m-> 5873\u001b[0m \u001b[38;5;28;01mreturn\u001b[39;00m \u001b[38;5;28;43mself\u001b[39;49m\u001b[38;5;241;43m.\u001b[39;49m\u001b[43m_fit\u001b[49m\u001b[43m(\u001b[49m\u001b[43mX\u001b[49m\u001b[43m,\u001b[49m\u001b[43m \u001b[49m\u001b[43my\u001b[49m\u001b[43m,\u001b[49m\u001b[43m \u001b[49m\u001b[43mcat_features\u001b[49m\u001b[43m,\u001b[49m\u001b[43m \u001b[49m\u001b[43mtext_features\u001b[49m\u001b[43m,\u001b[49m\u001b[43m \u001b[49m\u001b[43membedding_features\u001b[49m\u001b[43m,\u001b[49m\u001b[43m \u001b[49m\u001b[38;5;28;43;01mNone\u001b[39;49;00m\u001b[43m,\u001b[49m\u001b[43m \u001b[49m\u001b[43mgraph\u001b[49m\u001b[43m,\u001b[49m\u001b[43m \u001b[49m\u001b[43msample_weight\u001b[49m\u001b[43m,\u001b[49m\u001b[43m \u001b[49m\u001b[38;5;28;43;01mNone\u001b[39;49;00m\u001b[43m,\u001b[49m\u001b[43m \u001b[49m\u001b[38;5;28;43;01mNone\u001b[39;49;00m\u001b[43m,\u001b[49m\u001b[43m \u001b[49m\u001b[38;5;28;43;01mNone\u001b[39;49;00m\u001b[43m,\u001b[49m\u001b[43m \u001b[49m\u001b[38;5;28;43;01mNone\u001b[39;49;00m\u001b[43m,\u001b[49m\u001b[43m \u001b[49m\u001b[43mbaseline\u001b[49m\u001b[43m,\u001b[49m\n\u001b[0;32m   5874\u001b[0m \u001b[43m                 \u001b[49m\u001b[43muse_best_model\u001b[49m\u001b[43m,\u001b[49m\u001b[43m \u001b[49m\u001b[43meval_set\u001b[49m\u001b[43m,\u001b[49m\u001b[43m \u001b[49m\u001b[43mverbose\u001b[49m\u001b[43m,\u001b[49m\u001b[43m \u001b[49m\u001b[43mlogging_level\u001b[49m\u001b[43m,\u001b[49m\u001b[43m \u001b[49m\u001b[43mplot\u001b[49m\u001b[43m,\u001b[49m\u001b[43m \u001b[49m\u001b[43mplot_file\u001b[49m\u001b[43m,\u001b[49m\u001b[43m \u001b[49m\u001b[43mcolumn_description\u001b[49m\u001b[43m,\u001b[49m\n\u001b[0;32m   5875\u001b[0m \u001b[43m                 \u001b[49m\u001b[43mverbose_eval\u001b[49m\u001b[43m,\u001b[49m\u001b[43m \u001b[49m\u001b[43mmetric_period\u001b[49m\u001b[43m,\u001b[49m\u001b[43m \u001b[49m\u001b[43msilent\u001b[49m\u001b[43m,\u001b[49m\u001b[43m \u001b[49m\u001b[43mearly_stopping_rounds\u001b[49m\u001b[43m,\u001b[49m\n\u001b[0;32m   5876\u001b[0m \u001b[43m                 \u001b[49m\u001b[43msave_snapshot\u001b[49m\u001b[43m,\u001b[49m\u001b[43m \u001b[49m\u001b[43msnapshot_file\u001b[49m\u001b[43m,\u001b[49m\u001b[43m \u001b[49m\u001b[43msnapshot_interval\u001b[49m\u001b[43m,\u001b[49m\u001b[43m \u001b[49m\u001b[43minit_model\u001b[49m\u001b[43m,\u001b[49m\u001b[43m \u001b[49m\u001b[43mcallbacks\u001b[49m\u001b[43m,\u001b[49m\u001b[43m \u001b[49m\u001b[43mlog_cout\u001b[49m\u001b[43m,\u001b[49m\u001b[43m \u001b[49m\u001b[43mlog_cerr\u001b[49m\u001b[43m)\u001b[49m\n",
      "File \u001b[1;32mC:\\ITA\\prc-challenge-ita\\env\\Lib\\site-packages\\catboost\\core.py:2410\u001b[0m, in \u001b[0;36mCatBoost._fit\u001b[1;34m(self, X, y, cat_features, text_features, embedding_features, pairs, graph, sample_weight, group_id, group_weight, subgroup_id, pairs_weight, baseline, use_best_model, eval_set, verbose, logging_level, plot, plot_file, column_description, verbose_eval, metric_period, silent, early_stopping_rounds, save_snapshot, snapshot_file, snapshot_interval, init_model, callbacks, log_cout, log_cerr)\u001b[0m\n\u001b[0;32m   2407\u001b[0m allow_clear_pool \u001b[38;5;241m=\u001b[39m train_params[\u001b[38;5;124m\"\u001b[39m\u001b[38;5;124mallow_clear_pool\u001b[39m\u001b[38;5;124m\"\u001b[39m]\n\u001b[0;32m   2409\u001b[0m \u001b[38;5;28;01mwith\u001b[39;00m plot_wrapper(plot, plot_file, \u001b[38;5;124m'\u001b[39m\u001b[38;5;124mTraining plots\u001b[39m\u001b[38;5;124m'\u001b[39m, [_get_train_dir(\u001b[38;5;28mself\u001b[39m\u001b[38;5;241m.\u001b[39mget_params())]):\n\u001b[1;32m-> 2410\u001b[0m     \u001b[38;5;28;43mself\u001b[39;49m\u001b[38;5;241;43m.\u001b[39;49m\u001b[43m_train\u001b[49m\u001b[43m(\u001b[49m\n\u001b[0;32m   2411\u001b[0m \u001b[43m        \u001b[49m\u001b[43mtrain_pool\u001b[49m\u001b[43m,\u001b[49m\n\u001b[0;32m   2412\u001b[0m \u001b[43m        \u001b[49m\u001b[43mtrain_params\u001b[49m\u001b[43m[\u001b[49m\u001b[38;5;124;43m\"\u001b[39;49m\u001b[38;5;124;43meval_sets\u001b[39;49m\u001b[38;5;124;43m\"\u001b[39;49m\u001b[43m]\u001b[49m\u001b[43m,\u001b[49m\n\u001b[0;32m   2413\u001b[0m \u001b[43m        \u001b[49m\u001b[43mparams\u001b[49m\u001b[43m,\u001b[49m\n\u001b[0;32m   2414\u001b[0m \u001b[43m        \u001b[49m\u001b[43mallow_clear_pool\u001b[49m\u001b[43m,\u001b[49m\n\u001b[0;32m   2415\u001b[0m \u001b[43m        \u001b[49m\u001b[43mtrain_params\u001b[49m\u001b[43m[\u001b[49m\u001b[38;5;124;43m\"\u001b[39;49m\u001b[38;5;124;43minit_model\u001b[39;49m\u001b[38;5;124;43m\"\u001b[39;49m\u001b[43m]\u001b[49m\n\u001b[0;32m   2416\u001b[0m \u001b[43m    \u001b[49m\u001b[43m)\u001b[49m\n\u001b[0;32m   2418\u001b[0m \u001b[38;5;66;03m# Have property feature_importance possibly set\u001b[39;00m\n\u001b[0;32m   2419\u001b[0m loss \u001b[38;5;241m=\u001b[39m \u001b[38;5;28mself\u001b[39m\u001b[38;5;241m.\u001b[39m_object\u001b[38;5;241m.\u001b[39m_get_loss_function_name()\n",
      "File \u001b[1;32mC:\\ITA\\prc-challenge-ita\\env\\Lib\\site-packages\\catboost\\core.py:1790\u001b[0m, in \u001b[0;36m_CatBoostBase._train\u001b[1;34m(self, train_pool, test_pool, params, allow_clear_pool, init_model)\u001b[0m\n\u001b[0;32m   1789\u001b[0m \u001b[38;5;28;01mdef\u001b[39;00m \u001b[38;5;21m_train\u001b[39m(\u001b[38;5;28mself\u001b[39m, train_pool, test_pool, params, allow_clear_pool, init_model):\n\u001b[1;32m-> 1790\u001b[0m     \u001b[38;5;28;43mself\u001b[39;49m\u001b[38;5;241;43m.\u001b[39;49m\u001b[43m_object\u001b[49m\u001b[38;5;241;43m.\u001b[39;49m\u001b[43m_train\u001b[49m\u001b[43m(\u001b[49m\u001b[43mtrain_pool\u001b[49m\u001b[43m,\u001b[49m\u001b[43m \u001b[49m\u001b[43mtest_pool\u001b[49m\u001b[43m,\u001b[49m\u001b[43m \u001b[49m\u001b[43mparams\u001b[49m\u001b[43m,\u001b[49m\u001b[43m \u001b[49m\u001b[43mallow_clear_pool\u001b[49m\u001b[43m,\u001b[49m\u001b[43m \u001b[49m\u001b[43minit_model\u001b[49m\u001b[38;5;241;43m.\u001b[39;49m\u001b[43m_object\u001b[49m\u001b[43m \u001b[49m\u001b[38;5;28;43;01mif\u001b[39;49;00m\u001b[43m \u001b[49m\u001b[43minit_model\u001b[49m\u001b[43m \u001b[49m\u001b[38;5;28;43;01melse\u001b[39;49;00m\u001b[43m \u001b[49m\u001b[38;5;28;43;01mNone\u001b[39;49;00m\u001b[43m)\u001b[49m\n\u001b[0;32m   1791\u001b[0m     \u001b[38;5;28mself\u001b[39m\u001b[38;5;241m.\u001b[39m_set_trained_model_attributes()\n",
      "File \u001b[1;32m_catboost.pyx:5017\u001b[0m, in \u001b[0;36m_catboost._CatBoost._train\u001b[1;34m()\u001b[0m\n",
      "File \u001b[1;32m_catboost.pyx:5066\u001b[0m, in \u001b[0;36m_catboost._CatBoost._train\u001b[1;34m()\u001b[0m\n",
      "\u001b[1;31mCatBoostError\u001b[0m: bad allocation"
     ]
    }
   ],
   "source": [
    "model.fit(\n",
    "    train_pool, eval_set=val_pool,\n",
    "    verbose=100,\n",
    "    plot=True\n",
    ")"
   ]
  },
  {
   "cell_type": "code",
   "execution_count": null,
   "id": "a8bf4549-989f-4dee-b004-06ccc45efe3a",
   "metadata": {},
   "outputs": [],
   "source": [
    "model.save_model('catboost_train_v%d.cbm' % version, 'cbm')"
   ]
  },
  {
   "cell_type": "code",
   "execution_count": null,
   "id": "86b00888-1d30-476d-8e3b-bf6addce9baf",
   "metadata": {},
   "outputs": [],
   "source": [
    "y_pred = model.predict(X_val)\n",
    "pd.DataFrame(data={'tow': y_pred}).to_csv('catboost_val_v%d.csv' % version, index=False)"
   ]
  },
  {
   "cell_type": "code",
   "execution_count": null,
   "id": "3de8b83c-5784-492b-9e63-66c60abd9acf",
   "metadata": {},
   "outputs": [],
   "source": [
    "def classify_aircraft(row):\n",
    "    if row['Physical_Class_Engine'] == 'Turboprop' and row['wtc'] == 'M':\n",
    "        return 'Medium Turbo Prop'\n",
    "    elif row['Physical_Class_Engine'] == 'Jet' and row['wtc'] == 'M':\n",
    "        return 'Medium Jet'\n",
    "    elif row['Physical_Class_Engine'] == 'Jet' and row['wtc'] == 'H':\n",
    "        return 'Heavy Jet'\n",
    "    else:\n",
    "        return None  # If no classification applies, return None"
   ]
  },
  {
   "cell_type": "code",
   "execution_count": null,
   "id": "173b30f4-1808-4fd8-960a-2a26b0f3205c",
   "metadata": {},
   "outputs": [],
   "source": [
    "from sklearn.metrics import root_mean_squared_error\n",
    "\n",
    "X_val_groups = X_val.copy()\n",
    "\n",
    "X_val_groups['Aircraft_Class'] = X_val.apply(classify_aircraft, axis=1)\n",
    "\n",
    "X_val_groups = X_val_groups.reset_index()\n",
    "\n",
    "indices_m_prop = X_val_groups[X_val_groups['Aircraft_Class'] == 'Medium Turbo Prop'].index\n",
    "indices_m_jet = X_val_groups[X_val_groups['Aircraft_Class'] == 'Medium Jet'].index\n",
    "indices_h_jet = X_val_groups[X_val_groups['Aircraft_Class'] == 'Heavy Jet'].index\n",
    "\n",
    "print('RMSE Medium Turbo Prop:', root_mean_squared_error(y_val.iloc[indices_m_prop], y_pred[indices_m_prop]))\n",
    "print('RMSE Medium Jet:', root_mean_squared_error(y_val.iloc[indices_m_jet], y_pred[indices_m_jet]))\n",
    "print('RMSE Heavy Jet:', root_mean_squared_error(y_val.iloc[indices_h_jet], y_pred[indices_h_jet]))"
   ]
  },
  {
   "cell_type": "code",
   "execution_count": null,
   "id": "e9dae33e-a244-41cd-8947-91f934717d58",
   "metadata": {},
   "outputs": [
    {
     "data": {
      "application/vnd.jupyter.widget-view+json": {
       "model_id": "1e2f0bf28c8d44658dda956dcd656e32",
       "version_major": 2,
       "version_minor": 0
      },
      "text/plain": [
       "MetricVisualizer(layout=Layout(align_self='stretch', height='500px'))"
      ]
     },
     "metadata": {},
     "output_type": "display_data"
    },
    {
     "name": "stdout",
     "output_type": "stream",
     "text": [
      "0:\tlearn: 52736.2971836\ttotal: 236ms\tremaining: 4h 19m 46s\n",
      "100:\tlearn: 20337.3313655\ttotal: 12.8s\tremaining: 2h 18m 48s\n",
      "200:\tlearn: 8816.9696033\ttotal: 26.5s\tremaining: 2h 24m 35s\n",
      "300:\tlearn: 5195.0391820\ttotal: 40.3s\tremaining: 2h 26m 34s\n",
      "400:\tlearn: 4212.4105156\ttotal: 53.9s\tremaining: 2h 26m 54s\n",
      "500:\tlearn: 3881.6931623\ttotal: 1m 7s\tremaining: 2h 27m 32s\n",
      "600:\tlearn: 3705.4029322\ttotal: 1m 21s\tremaining: 2h 28m 8s\n",
      "700:\tlearn: 3578.5764791\ttotal: 1m 36s\tremaining: 2h 29m 13s\n",
      "800:\tlearn: 3475.8877394\ttotal: 1m 50s\tremaining: 2h 30m 32s\n",
      "900:\tlearn: 3390.8479087\ttotal: 2m 5s\tremaining: 2h 31m 1s\n",
      "1000:\tlearn: 3311.8167040\ttotal: 2m 19s\tremaining: 2h 31m 15s\n",
      "1100:\tlearn: 3241.2589645\ttotal: 2m 34s\tremaining: 2h 31m 23s\n",
      "1200:\tlearn: 3176.5267586\ttotal: 2m 48s\tremaining: 2h 31m 37s\n",
      "1300:\tlearn: 3116.2270721\ttotal: 3m 3s\tremaining: 2h 32m 3s\n",
      "1400:\tlearn: 3060.9504318\ttotal: 3m 18s\tremaining: 2h 32m 27s\n",
      "1500:\tlearn: 3007.2124752\ttotal: 3m 33s\tremaining: 2h 32m 37s\n",
      "1600:\tlearn: 2954.7859372\ttotal: 3m 47s\tremaining: 2h 32m 39s\n",
      "1700:\tlearn: 2909.3801432\ttotal: 4m 2s\tremaining: 2h 32m 42s\n",
      "1800:\tlearn: 2866.4302538\ttotal: 4m 16s\tremaining: 2h 32m 37s\n",
      "1900:\tlearn: 2826.2282220\ttotal: 4m 31s\tremaining: 2h 32m 39s\n",
      "2000:\tlearn: 2790.7821518\ttotal: 4m 46s\tremaining: 2h 32m 47s\n",
      "2100:\tlearn: 2759.0674594\ttotal: 5m 2s\tremaining: 2h 33m 7s\n",
      "2200:\tlearn: 2728.5262247\ttotal: 5m 16s\tremaining: 2h 33m 5s\n",
      "2300:\tlearn: 2700.8073177\ttotal: 5m 31s\tremaining: 2h 33m 10s\n",
      "2400:\tlearn: 2675.2417526\ttotal: 5m 47s\tremaining: 2h 33m 23s\n",
      "2500:\tlearn: 2651.2351495\ttotal: 6m 2s\tremaining: 2h 33m 29s\n",
      "2600:\tlearn: 2628.9542515\ttotal: 6m 18s\tremaining: 2h 33m 36s\n",
      "2700:\tlearn: 2607.4593913\ttotal: 6m 33s\tremaining: 2h 33m 33s\n",
      "2800:\tlearn: 2587.0074289\ttotal: 6m 48s\tremaining: 2h 33m 35s\n",
      "2900:\tlearn: 2567.0808108\ttotal: 7m 3s\tremaining: 2h 33m 39s\n",
      "3000:\tlearn: 2546.9800312\ttotal: 7m 18s\tremaining: 2h 33m 32s\n",
      "3100:\tlearn: 2529.0040823\ttotal: 7m 33s\tremaining: 2h 33m 17s\n",
      "3200:\tlearn: 2510.9367896\ttotal: 7m 48s\tremaining: 2h 33m 10s\n",
      "3300:\tlearn: 2494.0969859\ttotal: 8m 3s\tremaining: 2h 32m 57s\n",
      "3400:\tlearn: 2478.0618060\ttotal: 8m 17s\tremaining: 2h 32m 43s\n",
      "3500:\tlearn: 2462.4292644\ttotal: 8m 33s\tremaining: 2h 32m 39s\n",
      "3600:\tlearn: 2447.6588673\ttotal: 8m 48s\tremaining: 2h 32m 30s\n",
      "3700:\tlearn: 2432.8229588\ttotal: 9m 3s\tremaining: 2h 32m 25s\n",
      "3800:\tlearn: 2418.2338006\ttotal: 9m 18s\tremaining: 2h 32m 16s\n",
      "3900:\tlearn: 2404.0949078\ttotal: 9m 33s\tremaining: 2h 32m 9s\n",
      "4000:\tlearn: 2390.1240524\ttotal: 9m 48s\tremaining: 2h 32m 1s\n",
      "4100:\tlearn: 2376.8079930\ttotal: 10m 3s\tremaining: 2h 31m 53s\n",
      "4200:\tlearn: 2364.0565286\ttotal: 10m 18s\tremaining: 2h 31m 37s\n",
      "4300:\tlearn: 2351.5017745\ttotal: 10m 33s\tremaining: 2h 31m 26s\n",
      "4400:\tlearn: 2339.0004356\ttotal: 10m 48s\tremaining: 2h 31m 20s\n",
      "4500:\tlearn: 2327.2583750\ttotal: 11m 4s\tremaining: 2h 31m 14s\n",
      "4600:\tlearn: 2315.8261322\ttotal: 11m 19s\tremaining: 2h 31m 6s\n",
      "4700:\tlearn: 2304.2949373\ttotal: 11m 34s\tremaining: 2h 30m 51s\n",
      "4800:\tlearn: 2293.2530296\ttotal: 11m 48s\tremaining: 2h 30m 36s\n",
      "4900:\tlearn: 2282.1169973\ttotal: 12m 3s\tremaining: 2h 30m 21s\n",
      "5000:\tlearn: 2271.0431148\ttotal: 12m 18s\tremaining: 2h 30m 8s\n",
      "5100:\tlearn: 2260.0442400\ttotal: 12m 33s\tremaining: 2h 29m 59s\n",
      "5200:\tlearn: 2250.1079825\ttotal: 12m 49s\tremaining: 2h 29m 49s\n",
      "5300:\tlearn: 2240.4952452\ttotal: 13m 4s\tremaining: 2h 29m 45s\n",
      "5400:\tlearn: 2230.5890261\ttotal: 13m 20s\tremaining: 2h 29m 37s\n",
      "5500:\tlearn: 2221.0706051\ttotal: 13m 35s\tremaining: 2h 29m 29s\n",
      "5600:\tlearn: 2211.6065383\ttotal: 13m 51s\tremaining: 2h 29m 21s\n",
      "5700:\tlearn: 2202.2524456\ttotal: 14m 6s\tremaining: 2h 29m 10s\n",
      "5800:\tlearn: 2193.2615791\ttotal: 14m 21s\tremaining: 2h 28m 59s\n",
      "5900:\tlearn: 2184.4127395\ttotal: 14m 36s\tremaining: 2h 28m 47s\n",
      "6000:\tlearn: 2175.2599672\ttotal: 14m 51s\tremaining: 2h 28m 35s\n",
      "6100:\tlearn: 2166.5163084\ttotal: 15m 7s\tremaining: 2h 28m 26s\n",
      "6200:\tlearn: 2157.6404227\ttotal: 15m 22s\tremaining: 2h 28m 14s\n",
      "6300:\tlearn: 2149.1950579\ttotal: 15m 37s\tremaining: 2h 28m\n",
      "6400:\tlearn: 2141.2253696\ttotal: 15m 52s\tremaining: 2h 27m 43s\n",
      "6500:\tlearn: 2132.9305870\ttotal: 16m 6s\tremaining: 2h 27m 28s\n",
      "6600:\tlearn: 2124.8541793\ttotal: 16m 21s\tremaining: 2h 27m 16s\n",
      "6700:\tlearn: 2116.6171570\ttotal: 16m 37s\tremaining: 2h 27m 4s\n",
      "6800:\tlearn: 2108.8021880\ttotal: 16m 52s\tremaining: 2h 26m 52s\n",
      "6900:\tlearn: 2101.4401801\ttotal: 17m 7s\tremaining: 2h 26m 41s\n",
      "7000:\tlearn: 2094.1886611\ttotal: 17m 22s\tremaining: 2h 26m 27s\n",
      "7100:\tlearn: 2087.0052135\ttotal: 17m 38s\tremaining: 2h 26m 15s\n",
      "7200:\tlearn: 2079.5342725\ttotal: 17m 53s\tremaining: 2h 26m 4s\n",
      "7300:\tlearn: 2072.1568162\ttotal: 18m 8s\tremaining: 2h 25m 54s\n",
      "7400:\tlearn: 2064.9409324\ttotal: 18m 23s\tremaining: 2h 25m 40s\n",
      "7500:\tlearn: 2057.7434163\ttotal: 18m 38s\tremaining: 2h 25m 26s\n",
      "7600:\tlearn: 2050.6565249\ttotal: 18m 54s\tremaining: 2h 25m 14s\n",
      "7700:\tlearn: 2043.7311158\ttotal: 19m 9s\tremaining: 2h 25m 3s\n",
      "7800:\tlearn: 2037.0201889\ttotal: 19m 24s\tremaining: 2h 24m 47s\n",
      "7900:\tlearn: 2030.4674439\ttotal: 19m 39s\tremaining: 2h 24m 32s\n",
      "8000:\tlearn: 2023.7850204\ttotal: 19m 54s\tremaining: 2h 24m 18s\n",
      "8100:\tlearn: 2017.1944765\ttotal: 20m 9s\tremaining: 2h 24m 1s\n",
      "8200:\tlearn: 2010.5629847\ttotal: 20m 24s\tremaining: 2h 23m 49s\n",
      "8300:\tlearn: 2003.7312245\ttotal: 20m 39s\tremaining: 2h 23m 38s\n",
      "8400:\tlearn: 1997.4093811\ttotal: 20m 55s\tremaining: 2h 23m 25s\n",
      "8500:\tlearn: 1990.8760386\ttotal: 21m 10s\tremaining: 2h 23m 15s\n",
      "8600:\tlearn: 1984.6575002\ttotal: 21m 26s\tremaining: 2h 23m 3s\n",
      "8700:\tlearn: 1978.4993075\ttotal: 21m 41s\tremaining: 2h 22m 51s\n",
      "8800:\tlearn: 1971.7662301\ttotal: 21m 57s\tremaining: 2h 22m 39s\n",
      "8900:\tlearn: 1965.7650640\ttotal: 22m 12s\tremaining: 2h 22m 26s\n",
      "9000:\tlearn: 1959.7611987\ttotal: 22m 27s\tremaining: 2h 22m 12s\n",
      "9100:\tlearn: 1953.7164308\ttotal: 22m 42s\tremaining: 2h 22m\n",
      "9200:\tlearn: 1947.9859751\ttotal: 22m 58s\tremaining: 2h 21m 48s\n",
      "9300:\tlearn: 1942.4993812\ttotal: 23m 13s\tremaining: 2h 21m 37s\n",
      "9400:\tlearn: 1936.6333054\ttotal: 23m 28s\tremaining: 2h 21m 21s\n",
      "9500:\tlearn: 1931.1723032\ttotal: 23m 43s\tremaining: 2h 21m 4s\n",
      "9600:\tlearn: 1925.3187601\ttotal: 23m 58s\tremaining: 2h 20m 50s\n",
      "9700:\tlearn: 1919.6626612\ttotal: 24m 14s\tremaining: 2h 20m 40s\n",
      "9800:\tlearn: 1913.9956008\ttotal: 24m 30s\tremaining: 2h 20m 32s\n",
      "9900:\tlearn: 1908.5031373\ttotal: 24m 46s\tremaining: 2h 20m 20s\n",
      "10000:\tlearn: 1903.0576286\ttotal: 25m 1s\tremaining: 2h 20m 6s\n",
      "10100:\tlearn: 1897.6299047\ttotal: 25m 16s\tremaining: 2h 19m 53s\n",
      "10200:\tlearn: 1892.2404856\ttotal: 25m 32s\tremaining: 2h 19m 42s\n",
      "10300:\tlearn: 1887.0794402\ttotal: 25m 48s\tremaining: 2h 19m 31s\n",
      "10400:\tlearn: 1881.7863672\ttotal: 26m 4s\tremaining: 2h 19m 20s\n",
      "10500:\tlearn: 1876.3962107\ttotal: 26m 19s\tremaining: 2h 19m 7s\n",
      "10600:\tlearn: 1871.3885861\ttotal: 26m 34s\tremaining: 2h 18m 53s\n",
      "10700:\tlearn: 1866.2177424\ttotal: 26m 50s\tremaining: 2h 18m 41s\n",
      "10800:\tlearn: 1861.2456143\ttotal: 27m 5s\tremaining: 2h 18m 29s\n",
      "10900:\tlearn: 1856.0996182\ttotal: 27m 21s\tremaining: 2h 18m 14s\n",
      "11000:\tlearn: 1851.0364142\ttotal: 27m 36s\tremaining: 2h 18m 1s\n",
      "11100:\tlearn: 1846.1925188\ttotal: 27m 51s\tremaining: 2h 17m 45s\n",
      "11200:\tlearn: 1841.4358010\ttotal: 28m 6s\tremaining: 2h 17m 29s\n",
      "11300:\tlearn: 1836.3148541\ttotal: 28m 21s\tremaining: 2h 17m 15s\n",
      "11400:\tlearn: 1831.5945408\ttotal: 28m 36s\tremaining: 2h 17m 1s\n",
      "11500:\tlearn: 1826.8158534\ttotal: 28m 52s\tremaining: 2h 16m 50s\n",
      "11600:\tlearn: 1822.0044558\ttotal: 29m 8s\tremaining: 2h 16m 36s\n",
      "11700:\tlearn: 1817.4084129\ttotal: 29m 23s\tremaining: 2h 16m 22s\n",
      "11800:\tlearn: 1812.8556773\ttotal: 29m 38s\tremaining: 2h 16m 9s\n",
      "11900:\tlearn: 1808.2769438\ttotal: 29m 54s\tremaining: 2h 15m 55s\n",
      "12000:\tlearn: 1803.7904634\ttotal: 30m 9s\tremaining: 2h 15m 42s\n"
     ]
    }
   ],
   "source": [
    "best_iteration = model.get_best_iteration()\n",
    "best_iteration = 66000\n",
    "model = CatBoostRegressor(\n",
    "    iterations=best_iteration,\n",
    "    objective=metrics.RMSE(),\n",
    "    random_seed=42,\n",
    "    verbose=False,\n",
    "    task_type='GPU',\n",
    "    **params,\n",
    ")\n",
    "model.fit(\n",
    "    X, y,\n",
    "    cat_features=selected_cat_names, \n",
    "    plot=True,\n",
    "    verbose=100\n",
    ")"
   ]
  },
  {
   "cell_type": "code",
   "execution_count": 37,
   "id": "14239bd0-c412-47a2-9bab-c05d781132a4",
   "metadata": {},
   "outputs": [
    {
     "ename": "UnicodeDecodeError",
     "evalue": "'utf-8' codec can't decode byte 0xe7 in position 16: invalid continuation byte",
     "output_type": "error",
     "traceback": [
      "\u001b[1;31m---------------------------------------------------------------------------\u001b[0m",
      "\u001b[1;31mUnicodeDecodeError\u001b[0m                        Traceback (most recent call last)",
      "Cell \u001b[1;32mIn[37], line 1\u001b[0m\n\u001b[1;32m----> 1\u001b[0m \u001b[43mmodel\u001b[49m\u001b[38;5;241;43m.\u001b[39;49m\u001b[43msave_model\u001b[49m\u001b[43m(\u001b[49m\u001b[38;5;124;43m'\u001b[39;49m\u001b[38;5;124;43mcatboost_all_v\u001b[39;49m\u001b[38;5;132;43;01m%d\u001b[39;49;00m\u001b[38;5;124;43m.cbm\u001b[39;49m\u001b[38;5;124;43m'\u001b[39;49m\u001b[43m \u001b[49m\u001b[38;5;241;43m%\u001b[39;49m\u001b[43m \u001b[49m\u001b[43mversion\u001b[49m\u001b[43m,\u001b[49m\u001b[43m \u001b[49m\u001b[38;5;124;43m'\u001b[39;49m\u001b[38;5;124;43mcbm\u001b[39;49m\u001b[38;5;124;43m'\u001b[39;49m\u001b[43m)\u001b[49m\n",
      "File \u001b[1;32mC:\\ITA\\prc-challenge-ita\\env\\Lib\\site-packages\\catboost\\core.py:3437\u001b[0m, in \u001b[0;36mCatBoost.save_model\u001b[1;34m(self, fname, format, export_parameters, pool)\u001b[0m\n\u001b[0;32m   3430\u001b[0m \u001b[38;5;28;01mif\u001b[39;00m pool \u001b[38;5;129;01mis\u001b[39;00m \u001b[38;5;129;01mnot\u001b[39;00m \u001b[38;5;28;01mNone\u001b[39;00m \u001b[38;5;129;01mand\u001b[39;00m \u001b[38;5;129;01mnot\u001b[39;00m \u001b[38;5;28misinstance\u001b[39m(pool, Pool):\n\u001b[0;32m   3431\u001b[0m     pool \u001b[38;5;241m=\u001b[39m Pool(\n\u001b[0;32m   3432\u001b[0m         data\u001b[38;5;241m=\u001b[39mpool,\n\u001b[0;32m   3433\u001b[0m         cat_features\u001b[38;5;241m=\u001b[39m\u001b[38;5;28mself\u001b[39m\u001b[38;5;241m.\u001b[39m_get_cat_feature_indices() \u001b[38;5;28;01mif\u001b[39;00m \u001b[38;5;129;01mnot\u001b[39;00m \u001b[38;5;28misinstance\u001b[39m(pool, FeaturesData) \u001b[38;5;28;01melse\u001b[39;00m \u001b[38;5;28;01mNone\u001b[39;00m,\n\u001b[0;32m   3434\u001b[0m         text_features\u001b[38;5;241m=\u001b[39m\u001b[38;5;28mself\u001b[39m\u001b[38;5;241m.\u001b[39m_get_text_feature_indices() \u001b[38;5;28;01mif\u001b[39;00m \u001b[38;5;129;01mnot\u001b[39;00m \u001b[38;5;28misinstance\u001b[39m(pool, FeaturesData) \u001b[38;5;28;01melse\u001b[39;00m \u001b[38;5;28;01mNone\u001b[39;00m,\n\u001b[0;32m   3435\u001b[0m         embedding_features\u001b[38;5;241m=\u001b[39m\u001b[38;5;28mself\u001b[39m\u001b[38;5;241m.\u001b[39m_get_embedding_feature_indices() \u001b[38;5;28;01mif\u001b[39;00m \u001b[38;5;129;01mnot\u001b[39;00m \u001b[38;5;28misinstance\u001b[39m(pool, FeaturesData) \u001b[38;5;28;01melse\u001b[39;00m \u001b[38;5;28;01mNone\u001b[39;00m\n\u001b[0;32m   3436\u001b[0m     )\n\u001b[1;32m-> 3437\u001b[0m \u001b[38;5;28;43mself\u001b[39;49m\u001b[38;5;241;43m.\u001b[39;49m\u001b[43m_save_model\u001b[49m\u001b[43m(\u001b[49m\u001b[43mfname\u001b[49m\u001b[43m,\u001b[49m\u001b[43m \u001b[49m\u001b[38;5;28;43mformat\u001b[39;49m\u001b[43m,\u001b[49m\u001b[43m \u001b[49m\u001b[43mexport_parameters\u001b[49m\u001b[43m,\u001b[49m\u001b[43m \u001b[49m\u001b[43mpool\u001b[49m\u001b[43m)\u001b[49m\n",
      "File \u001b[1;32mC:\\ITA\\prc-challenge-ita\\env\\Lib\\site-packages\\catboost\\core.py:1907\u001b[0m, in \u001b[0;36m_CatBoostBase._save_model\u001b[1;34m(self, output_file, format, export_parameters, pool)\u001b[0m\n\u001b[0;32m   1904\u001b[0m \u001b[38;5;28;01mif\u001b[39;00m export_parameters:\n\u001b[0;32m   1905\u001b[0m     params_string \u001b[38;5;241m=\u001b[39m json\u001b[38;5;241m.\u001b[39mdumps(export_parameters, \u001b[38;5;28mcls\u001b[39m\u001b[38;5;241m=\u001b[39m_NumpyAwareEncoder)\n\u001b[1;32m-> 1907\u001b[0m \u001b[38;5;28;43mself\u001b[39;49m\u001b[38;5;241;43m.\u001b[39;49m\u001b[43m_object\u001b[49m\u001b[38;5;241;43m.\u001b[39;49m\u001b[43m_save_model\u001b[49m\u001b[43m(\u001b[49m\u001b[43moutput_file\u001b[49m\u001b[43m,\u001b[49m\u001b[43m \u001b[49m\u001b[38;5;28;43mformat\u001b[39;49m\u001b[43m,\u001b[49m\u001b[43m \u001b[49m\u001b[43mparams_string\u001b[49m\u001b[43m,\u001b[49m\u001b[43m \u001b[49m\u001b[43mpool\u001b[49m\u001b[43m)\u001b[49m\n",
      "File \u001b[1;32m_catboost.pyx:5394\u001b[0m, in \u001b[0;36m_catboost._CatBoost._save_model\u001b[1;34m()\u001b[0m\n",
      "File \u001b[1;32m_catboost.pyx:5406\u001b[0m, in \u001b[0;36m_catboost._CatBoost._save_model\u001b[1;34m()\u001b[0m\n",
      "\u001b[1;31mUnicodeDecodeError\u001b[0m: 'utf-8' codec can't decode byte 0xe7 in position 16: invalid continuation byte"
     ]
    }
   ],
   "source": [
    "model.save_model('catboost_all_v%d.cbm' % version, 'cbm')"
   ]
  },
  {
   "cell_type": "code",
   "execution_count": 40,
   "id": "4341f7ba-050b-4276-b9ab-14a7fe8eae47",
   "metadata": {},
   "outputs": [
    {
     "ename": "CatBoostError",
     "evalue": "bad allocation",
     "output_type": "error",
     "traceback": [
      "\u001b[1;31m---------------------------------------------------------------------------\u001b[0m",
      "\u001b[1;31mCatBoostError\u001b[0m                             Traceback (most recent call last)",
      "Cell \u001b[1;32mIn[40], line 1\u001b[0m\n\u001b[1;32m----> 1\u001b[0m feature_importances \u001b[38;5;241m=\u001b[39m \u001b[43mmodel\u001b[49m\u001b[38;5;241;43m.\u001b[39;49m\u001b[43mget_feature_importance\u001b[49m\u001b[43m(\u001b[49m\u001b[43mtrain_pool\u001b[49m\u001b[43m)\u001b[49m\n\u001b[0;32m      2\u001b[0m feature_names \u001b[38;5;241m=\u001b[39m X_train\u001b[38;5;241m.\u001b[39mcolumns\n\u001b[0;32m      3\u001b[0m \u001b[38;5;28;01mfor\u001b[39;00m score, name \u001b[38;5;129;01min\u001b[39;00m \u001b[38;5;28msorted\u001b[39m(\u001b[38;5;28mzip\u001b[39m(feature_importances, feature_names), reverse\u001b[38;5;241m=\u001b[39m\u001b[38;5;28;01mTrue\u001b[39;00m):\n",
      "File \u001b[1;32mC:\\ITA\\prc-challenge-ita\\env\\Lib\\site-packages\\catboost\\core.py:3249\u001b[0m, in \u001b[0;36mCatBoost.get_feature_importance\u001b[1;34m(self, data, type, prettified, thread_count, verbose, fstr_type, shap_mode, model_output, interaction_indices, shap_calc_type, reference_data, sage_n_samples, sage_batch_size, sage_detect_convergence, log_cout, log_cerr)\u001b[0m\n\u001b[0;32m   3246\u001b[0m         \u001b[38;5;28;01mraise\u001b[39;00m CatBoostError(\u001b[38;5;124m\"\u001b[39m\u001b[38;5;124mdata is empty.\u001b[39m\u001b[38;5;124m\"\u001b[39m)\n\u001b[0;32m   3248\u001b[0m shap_calc_type \u001b[38;5;241m=\u001b[39m enum_from_enum_or_str(EShapCalcType, shap_calc_type)\u001b[38;5;241m.\u001b[39mvalue\n\u001b[1;32m-> 3249\u001b[0m fstr, feature_names \u001b[38;5;241m=\u001b[39m \u001b[38;5;28;43mself\u001b[39;49m\u001b[38;5;241;43m.\u001b[39;49m\u001b[43m_calc_fstr\u001b[49m\u001b[43m(\u001b[49m\u001b[38;5;28;43mtype\u001b[39;49m\u001b[43m,\u001b[49m\u001b[43m \u001b[49m\u001b[43mdata\u001b[49m\u001b[43m,\u001b[49m\u001b[43m \u001b[49m\u001b[43mreference_data\u001b[49m\u001b[43m,\u001b[49m\u001b[43m \u001b[49m\u001b[43mthread_count\u001b[49m\u001b[43m,\u001b[49m\u001b[43m \u001b[49m\u001b[43mverbose\u001b[49m\u001b[43m,\u001b[49m\u001b[43m \u001b[49m\u001b[43mmodel_output\u001b[49m\u001b[43m,\u001b[49m\u001b[43m \u001b[49m\u001b[43mshap_mode\u001b[49m\u001b[43m,\u001b[49m\u001b[43m \u001b[49m\u001b[43minteraction_indices\u001b[49m\u001b[43m,\u001b[49m\n\u001b[0;32m   3250\u001b[0m \u001b[43m                                      \u001b[49m\u001b[43mshap_calc_type\u001b[49m\u001b[43m,\u001b[49m\u001b[43m \u001b[49m\u001b[43msage_n_samples\u001b[49m\u001b[43m,\u001b[49m\u001b[43m \u001b[49m\u001b[43msage_batch_size\u001b[49m\u001b[43m,\u001b[49m\u001b[43m \u001b[49m\u001b[43msage_detect_convergence\u001b[49m\u001b[43m)\u001b[49m\n\u001b[0;32m   3251\u001b[0m \u001b[38;5;28;01mif\u001b[39;00m \u001b[38;5;28mtype\u001b[39m \u001b[38;5;129;01min\u001b[39;00m (EFstrType\u001b[38;5;241m.\u001b[39mPredictionValuesChange, EFstrType\u001b[38;5;241m.\u001b[39mLossFunctionChange,\n\u001b[0;32m   3252\u001b[0m             EFstrType\u001b[38;5;241m.\u001b[39mPredictionDiff, EFstrType\u001b[38;5;241m.\u001b[39mSageValues):\n\u001b[0;32m   3253\u001b[0m     feature_importances \u001b[38;5;241m=\u001b[39m [value[\u001b[38;5;241m0\u001b[39m] \u001b[38;5;28;01mfor\u001b[39;00m value \u001b[38;5;129;01min\u001b[39;00m fstr]\n",
      "File \u001b[1;32mC:\\ITA\\prc-challenge-ita\\env\\Lib\\site-packages\\catboost\\core.py:1875\u001b[0m, in \u001b[0;36m_CatBoostBase._calc_fstr\u001b[1;34m(self, type, pool, reference_data, thread_count, verbose, model_output, shap_mode, interaction_indices, shap_calc_type, sage_n_samples, sage_batch_size, sage_detect_convergence)\u001b[0m\n\u001b[0;32m   1860\u001b[0m \u001b[38;5;28;01mdef\u001b[39;00m \u001b[38;5;21m_calc_fstr\u001b[39m(\n\u001b[0;32m   1861\u001b[0m     \u001b[38;5;28mself\u001b[39m,\n\u001b[0;32m   1862\u001b[0m     \u001b[38;5;28mtype\u001b[39m,\n\u001b[1;32m   (...)\u001b[0m\n\u001b[0;32m   1873\u001b[0m     sage_detect_convergence\n\u001b[0;32m   1874\u001b[0m ):\n\u001b[1;32m-> 1875\u001b[0m     \u001b[38;5;28;01mreturn\u001b[39;00m \u001b[38;5;28;43mself\u001b[39;49m\u001b[38;5;241;43m.\u001b[39;49m\u001b[43m_object\u001b[49m\u001b[38;5;241;43m.\u001b[39;49m\u001b[43m_calc_fstr\u001b[49m\u001b[43m(\u001b[49m\n\u001b[0;32m   1876\u001b[0m \u001b[43m        \u001b[49m\u001b[38;5;28;43mtype\u001b[39;49m\u001b[38;5;241;43m.\u001b[39;49m\u001b[43mname\u001b[49m\u001b[43m,\u001b[49m\n\u001b[0;32m   1877\u001b[0m \u001b[43m        \u001b[49m\u001b[43mpool\u001b[49m\u001b[43m,\u001b[49m\n\u001b[0;32m   1878\u001b[0m \u001b[43m        \u001b[49m\u001b[43mreference_data\u001b[49m\u001b[43m,\u001b[49m\n\u001b[0;32m   1879\u001b[0m \u001b[43m        \u001b[49m\u001b[43mthread_count\u001b[49m\u001b[43m,\u001b[49m\n\u001b[0;32m   1880\u001b[0m \u001b[43m        \u001b[49m\u001b[43mverbose\u001b[49m\u001b[43m,\u001b[49m\n\u001b[0;32m   1881\u001b[0m \u001b[43m        \u001b[49m\u001b[43mmodel_output\u001b[49m\u001b[43m,\u001b[49m\n\u001b[0;32m   1882\u001b[0m \u001b[43m        \u001b[49m\u001b[43mshap_mode\u001b[49m\u001b[43m,\u001b[49m\n\u001b[0;32m   1883\u001b[0m \u001b[43m        \u001b[49m\u001b[43minteraction_indices\u001b[49m\u001b[43m,\u001b[49m\n\u001b[0;32m   1884\u001b[0m \u001b[43m        \u001b[49m\u001b[43mshap_calc_type\u001b[49m\u001b[43m,\u001b[49m\n\u001b[0;32m   1885\u001b[0m \u001b[43m        \u001b[49m\u001b[43msage_n_samples\u001b[49m\u001b[43m,\u001b[49m\n\u001b[0;32m   1886\u001b[0m \u001b[43m        \u001b[49m\u001b[43msage_batch_size\u001b[49m\u001b[43m,\u001b[49m\n\u001b[0;32m   1887\u001b[0m \u001b[43m        \u001b[49m\u001b[43msage_detect_convergence\u001b[49m\n\u001b[0;32m   1888\u001b[0m \u001b[43m    \u001b[49m\u001b[43m)\u001b[49m\n",
      "File \u001b[1;32m_catboost.pyx:5255\u001b[0m, in \u001b[0;36m_catboost._CatBoost._calc_fstr\u001b[1;34m()\u001b[0m\n",
      "File \u001b[1;32m_catboost.pyx:5320\u001b[0m, in \u001b[0;36m_catboost._CatBoost._calc_fstr\u001b[1;34m()\u001b[0m\n",
      "\u001b[1;31mCatBoostError\u001b[0m: bad allocation"
     ]
    }
   ],
   "source": [
    "feature_importances = model.get_feature_importance(train_pool)\n",
    "feature_names = X_train.columns\n",
    "for score, name in sorted(zip(feature_importances, feature_names), reverse=True):\n",
    "    print('{}: {}'.format(name, score))"
   ]
  },
  {
   "cell_type": "code",
   "execution_count": null,
   "id": "eb378ec9-b59a-419b-9a83-c211b4d7c676",
   "metadata": {},
   "outputs": [],
   "source": [
    "import matplotlib\n",
    "\n",
    "feature_im_df = pd.DataFrame({\n",
    "    \"feature\": X.columns,\n",
    "    \"importance\": feature_importances\n",
    "})\n",
    "\n",
    "feature_im_df = feature_im_df.sort_values(by=\"importance\", ascending=False)\n",
    "\n",
    "sns.set(rc={'text.usetex' : True, 'text.latex.preamble': '\\\\usepackage{libertine}'})\n",
    "plt.figure(figsize=(10, 6))\n",
    "plt.figure()\n",
    "sns.barplot(data = feature_im_df[:20], x='importance', y='feature', palette=\"viridis\")\n",
    "\n",
    "plt.title(\"CatBoost feature importance\")\n",
    "plt.xlabel(\"Importance\")\n",
    "plt.ylabel(\"feature\")\n",
    "plt.tight_layout()\n",
    "plt.savefig('catboost_feature_importance.pdf', bbox_inches='tight')\n",
    "plt.show()"
   ]
  },
  {
   "cell_type": "code",
   "execution_count": null,
   "id": "0182b915-33a4-4750-9b59-d3af1a98e02a",
   "metadata": {},
   "outputs": [],
   "source": [
    "model = CatBoostRegressor(**params).fit(train_pool)\n",
    "feature_importances = model.get_feature_importance(train_pool)\n",
    "feature_names = X_train.columns\n",
    "for score, name in sorted(zip(feature_importances, feature_names), reverse=True):\n",
    "    print('{}: {}'.format(name, score))"
   ]
  },
  {
   "cell_type": "markdown",
   "id": "297a0598-b099-49f7-a562-fb1d0aa0e052",
   "metadata": {},
   "source": [
    "## Generating Submission"
   ]
  },
  {
   "cell_type": "code",
   "execution_count": null,
   "id": "b45d9111-8198-449f-bfea-5bb966be6f7f",
   "metadata": {},
   "outputs": [],
   "source": [
    "df_test = dataset.iloc[challenge_set_updated.shape[0]:, :]\n",
    "df_test.head()"
   ]
  },
  {
   "cell_type": "code",
   "execution_count": null,
   "id": "2d70a7c6-65f5-4aff-8ed4-346bdfcfa78a",
   "metadata": {},
   "outputs": [],
   "source": [
    "X_test = df_test.drop('tow', axis=1)"
   ]
  },
  {
   "cell_type": "code",
   "execution_count": null,
   "id": "daa505b0-3b6f-4c4e-8114-8e214d7ea053",
   "metadata": {},
   "outputs": [],
   "source": [
    "X_test = X_test.loc[:, X_test.columns.isin(X.columns)]"
   ]
  },
  {
   "cell_type": "code",
   "execution_count": null,
   "id": "9a52c1cc-bd58-4630-9dfb-7bf319b640ab",
   "metadata": {},
   "outputs": [],
   "source": [
    "y_pred = model.predict(X_test)\n",
    "y_test = y_pred\n",
    "print(y_test)"
   ]
  },
  {
   "cell_type": "code",
   "execution_count": null,
   "id": "92f919ca-95d1-4163-b2a7-db77ec45ff34",
   "metadata": {
    "scrolled": true
   },
   "outputs": [],
   "source": [
    "dft0 = pd.read_csv('./data/final_submission_set.csv')\n",
    "dft0['tow'] = y_test\n",
    "dft0[['flight_id', 'tow']].to_csv('catboost.csv', index=False)"
   ]
  },
  {
   "cell_type": "code",
   "execution_count": null,
   "id": "3e4b172e-1995-413e-83e3-cb3eace0cd7c",
   "metadata": {
    "scrolled": true
   },
   "outputs": [],
   "source": [
    "print((df_test['aircraft_type'] == submission_set_updated['aircraft_type']).mean())"
   ]
  },
  {
   "cell_type": "code",
   "execution_count": null,
   "id": "ae8fc7c9-2931-410b-9867-173be9b111f2",
   "metadata": {},
   "outputs": [],
   "source": [
    "submission_dataset = df_test\n",
    "submission_dataset['tow'] = y_pred\n",
    "pd.set_option('display.max_rows', None)\n",
    "pd.reset_option('display.max_rows')\n",
    "print((submission_dataset['tow'] > submission_dataset['MTOW_kg']).sum())\n",
    "mask = (submission_dataset['tow'] > submission_dataset['MTOW_kg'])\n",
    "submission_dataset.loc[mask, 'tow'] = submission_dataset.loc[mask, 'MTOW_kg']\n",
    "print((submission_dataset['tow'] > submission_dataset['MTOW_kg']).sum())"
   ]
  },
  {
   "cell_type": "code",
   "execution_count": null,
   "id": "a12135ff-86ee-43d3-9bb4-509d2e57a8e1",
   "metadata": {},
   "outputs": [],
   "source": [
    "dft0 = pd.read_csv('./data/final_submission_set.csv')\n",
    "dft0['tow'] = submission_dataset['tow']\n",
    "dft0[['flight_id', 'tow']].to_csv('catboost_submission_v%d.csv' % version, index=False)"
   ]
  },
  {
   "cell_type": "code",
   "execution_count": null,
   "id": "f1a583db-5691-401f-9aa3-24abd66b5d7a",
   "metadata": {},
   "outputs": [],
   "source": []
  },
  {
   "cell_type": "code",
   "execution_count": null,
   "id": "367e22c4-5831-453a-8bbe-e565958e07a5",
   "metadata": {},
   "outputs": [],
   "source": []
  }
 ],
 "metadata": {
  "kernelspec": {
   "display_name": "Python 3 (ipykernel)",
   "language": "python",
   "name": "python3"
  },
  "language_info": {
   "codemirror_mode": {
    "name": "ipython",
    "version": 3
   },
   "file_extension": ".py",
   "mimetype": "text/x-python",
   "name": "python",
   "nbconvert_exporter": "python",
   "pygments_lexer": "ipython3",
   "version": "3.12.7"
  }
 },
 "nbformat": 4,
 "nbformat_minor": 5
}
