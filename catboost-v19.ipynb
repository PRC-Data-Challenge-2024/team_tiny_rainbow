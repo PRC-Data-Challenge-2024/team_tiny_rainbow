{
 "cells": [
  {
   "cell_type": "code",
   "execution_count": 1,
   "id": "d208adad-c114-4181-a0e8-201a1b5cdf0e",
   "metadata": {
    "ExecuteTime": {
     "end_time": "2024-10-06T21:26:10.862240Z",
     "start_time": "2024-10-06T21:26:10.859122Z"
    }
   },
   "outputs": [],
   "source": [
    "version = 102"
   ]
  },
  {
   "cell_type": "code",
   "execution_count": 2,
   "id": "74207992-1acb-45cb-885a-d563db344aeb",
   "metadata": {
    "ExecuteTime": {
     "end_time": "2024-10-06T21:26:10.862240Z",
     "start_time": "2024-10-06T21:26:10.859122Z"
    }
   },
   "outputs": [],
   "source": [
    "import pandas as pd\n",
    "import numpy as np"
   ]
  },
  {
   "cell_type": "markdown",
   "id": "ed5768b5-ccc9-44e8-90f0-af97e53fedfe",
   "metadata": {},
   "source": [
    "## Loading Data"
   ]
  },
  {
   "cell_type": "code",
   "execution_count": 3,
   "id": "00e2070e-305f-4387-a763-2b9bbad31e1b",
   "metadata": {
    "ExecuteTime": {
     "end_time": "2024-10-06T21:38:42.054099Z",
     "start_time": "2024-10-06T21:38:38.158181Z"
    }
   },
   "outputs": [],
   "source": [
    "# Load the dataset after the exploratory data analysis\n",
    "challenge_set_updated = pd.read_csv(\"./data/challenge_set_updated_v19.csv\")\n",
    "submission_set_updated = pd.read_csv(\"./data/submission_set_updated_v19.csv\")\n",
    "submission_set = pd.read_csv(\"./data/final_submission_set.csv\")"
   ]
  },
  {
   "cell_type": "markdown",
   "id": "19261bf2-b8d1-4cd6-a3c4-969c8bbaa16a",
   "metadata": {},
   "source": [
    "## Predictive Model Learning"
   ]
  },
  {
   "cell_type": "code",
   "execution_count": 4,
   "id": "08f4c04c-eb88-4732-b4c2-920d713ddc9c",
   "metadata": {
    "ExecuteTime": {
     "end_time": "2024-10-06T21:38:42.090068Z",
     "start_time": "2024-10-06T21:38:42.087125Z"
    }
   },
   "outputs": [],
   "source": [
    "cat_names = ['callsign',\n",
    "            'adep', \n",
    "            'ades', \n",
    "            'aircraft_type', \n",
    "            'wtc', \n",
    "            'airline',\n",
    "            'offblock_hour',\n",
    "            'offblock_minute', \n",
    "            'offblock_day_of_week',\n",
    "            'offblock_weekday_name',\n",
    "            'offblock_month',\n",
    "            'offblock_week_of_year', \n",
    "            'offblock_season', \n",
    "            'arrival_hour',\n",
    "            'arrival_minute',\n",
    "            'arrival_season',\n",
    "            'arrival_weekday_name',\n",
    "            'is_offblock_weekend',\n",
    "            'is_offblock_rush_hour',\n",
    "            'flight_duration_category',                       \n",
    "            'adep_region', \n",
    "            'ades_region', \n",
    "            'same_country_flight',\n",
    "            'same_region_flight',                        \n",
    "            'flight_direction',\n",
    "            'is_intercontinental',\n",
    "            'Manufacturer',\n",
    "            'Model_FAA',\n",
    "            'Physical_Class_Engine',\n",
    "            'FAA_Weight',\n",
    "            'adep_geo_cluster',\n",
    "            'ades_geo_cluster']"
   ]
  },
  {
   "cell_type": "code",
   "execution_count": 5,
   "id": "047d2b79-142c-4a1d-9fed-d56779bedccc",
   "metadata": {
    "ExecuteTime": {
     "end_time": "2024-10-06T21:38:42.090068Z",
     "start_time": "2024-10-06T21:38:42.087125Z"
    }
   },
   "outputs": [],
   "source": [
    "dataset = pd.concat([challenge_set_updated, submission_set_updated], axis=0)"
   ]
  },
  {
   "cell_type": "code",
   "execution_count": 6,
   "id": "3aba2a91-c843-4b85-82b0-96646f97658c",
   "metadata": {
    "ExecuteTime": {
     "end_time": "2024-10-06T21:38:42.274048Z",
     "start_time": "2024-10-06T21:38:42.143808Z"
    }
   },
   "outputs": [
    {
     "name": "stdout",
     "output_type": "stream",
     "text": [
      "vlof_tas                            0.406441\n",
      "sqrd_tas_1                          0.406441\n",
      "tas_1                               0.406441\n",
      "specific_energy_1                   0.406441\n",
      "sqrd_vlof_tas                       0.406441\n",
      "vlof_groundspeed                    0.406441\n",
      "tas_2                               0.372550\n",
      "specific_energy_2                   0.372550\n",
      "sqrd_tas_2                          0.372550\n",
      "sqrd_tas_3                          0.359277\n",
      "specific_energy_3                   0.359277\n",
      "tas_3                               0.359277\n",
      "sqrd_tas_10                         0.356763\n",
      "specific_energy_10                  0.356763\n",
      "tas_10                              0.356763\n",
      "sqrd_tas_9                          0.353705\n",
      "tas_9                               0.353705\n",
      "specific_energy_9                   0.353705\n",
      "tas_4                               0.353320\n",
      "specific_energy_4                   0.353320\n",
      "sqrd_tas_4                          0.353320\n",
      "tas_8                               0.351376\n",
      "sqrd_tas_8                          0.351376\n",
      "specific_energy_8                   0.351376\n",
      "tas_5                               0.350255\n",
      "sqrd_tas_5                          0.350255\n",
      "specific_energy_5                   0.350255\n",
      "tas_7                               0.349834\n",
      "specific_energy_7                   0.349834\n",
      "sqrd_tas_7                          0.349834\n",
      "sqrd_tas_6                          0.349350\n",
      "specific_energy_6                   0.349350\n",
      "tas_6                               0.349350\n",
      "tow                                 0.300001\n",
      "adep_height_10                      0.254349\n",
      "temperature_10                      0.254349\n",
      "altitude_10                         0.254349\n",
      "adep_height_9                       0.248318\n",
      "temperature_9                       0.248318\n",
      "altitude_9                          0.248318\n",
      "altitude_8                          0.242597\n",
      "temperature_8                       0.242597\n",
      "adep_height_8                       0.242597\n",
      "groundspeed_10NM                    0.238016\n",
      "specific_energy                     0.238016\n",
      "tas_10NM                            0.238016\n",
      "temperature_7                       0.237159\n",
      "adep_height_7                       0.237159\n",
      "altitude_7                          0.237159\n",
      "adep_height_6                       0.231989\n",
      "temperature_6                       0.231989\n",
      "altitude_6                          0.231989\n",
      "temperature_5                       0.226917\n",
      "adep_height_5                       0.226917\n",
      "altitude_5                          0.226917\n",
      "temperature_4                       0.222195\n",
      "altitude_4                          0.222195\n",
      "adep_height_4                       0.222195\n",
      "adep_height_3                       0.217559\n",
      "altitude_3                          0.217559\n",
      "temperature_3                       0.217559\n",
      "adep_height_2                       0.213511\n",
      "temperature_2                       0.213511\n",
      "altitude_2                          0.213511\n",
      "adep_height_1                       0.210116\n",
      "altitude_1                          0.210116\n",
      "temperature_1                       0.210116\n",
      "first_adep_height                   0.210116\n",
      "specific_energy_ENR                 0.110038\n",
      "airspeed_specific_energy_ENR        0.110038\n",
      "specific_energy_ARR_100             0.043125\n",
      "airspeed_specific_energy_ARR        0.043125\n",
      "vertical_rate_bins_ARR              0.040824\n",
      "vertical_rate_airspeed_ARR          0.040824\n",
      "average_vertical_rate_ARR_100       0.040824\n",
      "altitude_groundspeed_ARR            0.040820\n",
      "groundspeed_ARR_100                 0.040820\n",
      "average_airspeed_ARR_100            0.040820\n",
      "groundspeed_flown_distance_ARR      0.040820\n",
      "track_variation_ARR_100             0.040820\n",
      "temperature_bins_ARR                0.040809\n",
      "average_temperature_ARR_100         0.040809\n",
      "average_humidity_ARR_100            0.040809\n",
      "average_altitude_ARR_100            0.040809\n",
      "max_altitude_ARR_100                0.040809\n",
      "humidity_bins_ARR                   0.040809\n",
      "humidity_temperature_ARR            0.040809\n",
      "kpi17_time                          0.040513\n",
      "kpi17_distance                      0.040513\n",
      "transit_time_kpi17                  0.040513\n",
      "flown_distance_kpi17                0.040513\n",
      "vertical_rate_airspeed_DEP          0.031542\n",
      "specific_energy_DEP_40              0.031542\n",
      "average_vertical_rate_DEP_40        0.031542\n",
      "airspeed_specific_energy_DEP        0.031542\n",
      "vertical_rate_bins_DEP              0.031542\n",
      "track_variation_DEP_40              0.031541\n",
      "altitude_groundspeed_DEP            0.031541\n",
      "groundspeed_flown_distance_DEP      0.031541\n",
      "average_airspeed_DEP_40             0.031541\n",
      "groundspeed_DEP_40                  0.031541\n",
      "humidity_bins_DEP                   0.031444\n",
      "temperature_bins_DEP                0.031444\n",
      "max_altitude_DEP_40                 0.031444\n",
      "humidity_temperature_DEP            0.031444\n",
      "average_temperature_DEP_40          0.031444\n",
      "average_humidity_DEP_40             0.031444\n",
      "average_altitude_DEP_40             0.031444\n",
      "vertical_rate_airspeed_ENR          0.000673\n",
      "average_vertical_rate_ENR           0.000673\n",
      "groundspeed_ENR                     0.000670\n",
      "average_airspeed_ENR                0.000670\n",
      "groundspeed_flown_distance_ENR      0.000670\n",
      "altitude_groundspeed_ENR            0.000670\n",
      "track_variation_ENR                 0.000670\n",
      "humidity_temperature_ENR            0.000660\n",
      "max_altitude_ENR                    0.000660\n",
      "average_humidity_ENR                0.000660\n",
      "average_temperature_ENR             0.000660\n",
      "average_altitude_ENR                0.000660\n",
      "offblock_week_of_year               0.000000\n",
      "groundspeed_airspeed_ratio_ARR      0.000000\n",
      "MTOW_kg                             0.000000\n",
      "FAA_Weight                          0.000000\n",
      "Approach_Speed_knot                 0.000000\n",
      "Num_Engines                         0.000000\n",
      "Physical_Class_Engine               0.000000\n",
      "Model_FAA                           0.000000\n",
      "Manufacturer                        0.000000\n",
      "groundspeed_airspeed_ratio_ENR      0.000000\n",
      "groundspeed_airspeed_ratio_DEP      0.000000\n",
      "wind_distance_flown_distance_DEP    0.000000\n",
      "wind_distance_flown_distance_ENR    0.000000\n",
      "flown_distance_DEP_40               0.000000\n",
      "wind_distance_flown_distance_ARR    0.000000\n",
      "vertical_rate_airspeed_ratio_ENR    0.000000\n",
      "vertical_rate_airspeed_ratio_DEP    0.000000\n",
      "vertical_rate_airspeed_ratio_ARR    0.000000\n",
      "flown_distance_bins                 0.000000\n",
      "flight_duration_bins                0.000000\n",
      "ades                                0.000000\n",
      "flown_distance_ENR                  0.000000\n",
      "MALW_kg                             0.000000\n",
      "mzfw_kg                             0.000000\n",
      "max_fuel_l                          0.000000\n",
      "Longitude_adep                      0.000000\n",
      "ades_geo_cluster                    0.000000\n",
      "adep_geo_cluster                    0.000000\n",
      "elevation_gradient                  0.000000\n",
      "bearing                             0.000000\n",
      "altitude_difference                 0.000000\n",
      "actual_distance                     0.000000\n",
      "Altitude_ades                       0.000000\n",
      "Longitude_ades                      0.000000\n",
      "Latitude_ades                       0.000000\n",
      "Altitude_adep                       0.000000\n",
      "Latitude_adep                       0.000000\n",
      "seats_typ                           0.000000\n",
      "seats_max                           0.000000\n",
      "seats_min                           0.000000\n",
      "stall_vel_knots                     0.000000\n",
      "oew_kg                              0.000000\n",
      "height_m                            0.000000\n",
      "length_m                            0.000000\n",
      "wingspan_m                          0.000000\n",
      "tas_knots                           0.000000\n",
      "range_km                            0.000000\n",
      "cargo_capacity                      0.000000\n",
      "aircraft_type                       0.000000\n",
      "wtc                                 0.000000\n",
      "offblock_quarter                    0.000000\n",
      "flight_duration_category            0.000000\n",
      "flight_speed                        0.000000\n",
      "taxi_ratio                          0.000000\n",
      "offblock_to_arrival_day_diff        0.000000\n",
      "is_arrival_rush_hour                0.000000\n",
      "is_arrival_weekend                  0.000000\n",
      "is_offblock_rush_hour               0.000000\n",
      "is_offblock_weekend                 0.000000\n",
      "offblock_to_arrival_duration        0.000000\n",
      "arrival_weekday_name                0.000000\n",
      "arrival_season                      0.000000\n",
      "arrival_year                        0.000000\n",
      "arrival_quarter                     0.000000\n",
      "arrival_week_of_year                0.000000\n",
      "arrival_month                       0.000000\n",
      "arrival_day_of_year                 0.000000\n",
      "arrival_day_of_week                 0.000000\n",
      "arrival_minute                      0.000000\n",
      "arrival_hour                        0.000000\n",
      "offblock_weekday_name               0.000000\n",
      "offblock_season                     0.000000\n",
      "offblock_year                       0.000000\n",
      "normalized_taxi_ratio               0.000000\n",
      "speed_per_distance                  0.000000\n",
      "flown_distance_ARR_100              0.000000\n",
      "cumulative_avg_speed                0.000000\n",
      "airline                             0.000000\n",
      "wind_distance_ENR                   0.000000\n",
      "taxiout_time                        0.000000\n",
      "wind_distance_DEP_40                0.000000\n",
      "wind_distance_ARR_100               0.000000\n",
      "flown_distance                      0.000000\n",
      "adep                                0.000000\n",
      "offblock_hour                       0.000000\n",
      "offblock_minute                     0.000000\n",
      "offblock_day_of_week                0.000000\n",
      "offblock_day_of_year                0.000000\n",
      "offblock_month                      0.000000\n",
      "is_intercontinental                 0.000000\n",
      "flight_direction                    0.000000\n",
      "same_region_flight                  0.000000\n",
      "same_country_flight                 0.000000\n",
      "ades_region                         0.000000\n",
      "adep_region                         0.000000\n",
      "flight_time_excl_taxi               0.000000\n",
      "ENR_distance_ratio                  0.000000\n",
      "avg_speed_ENR                       0.000000\n",
      "callsign                            0.000000\n",
      "dtype: float64\n"
     ]
    }
   ],
   "source": [
    "pd.set_option('display.max_rows', None)\n",
    "\n",
    "print(dataset.isnull().mean().sort_values(ascending=False))\n",
    "\n",
    "pd.reset_option('display.max_rows')"
   ]
  },
  {
   "cell_type": "code",
   "execution_count": 7,
   "id": "65f64717-12fc-41c4-9852-550e59bf94e2",
   "metadata": {
    "ExecuteTime": {
     "end_time": "2024-10-06T21:38:42.274048Z",
     "start_time": "2024-10-06T21:38:42.143808Z"
    }
   },
   "outputs": [],
   "source": [
    "# Dropping columns with too many NaNs\n",
    "threshold = 0.4\n",
    "df = dataset.dropna(thresh=int((1 - threshold) * len(dataset)), axis=1)"
   ]
  },
  {
   "cell_type": "code",
   "execution_count": 8,
   "id": "5d434797c9b4c8a2",
   "metadata": {
    "ExecuteTime": {
     "end_time": "2024-10-06T21:38:55.408905Z",
     "start_time": "2024-10-06T21:38:42.352376Z"
    }
   },
   "outputs": [],
   "source": [
    "# Imputation of NaNs\n",
    "columns_with_nan = dataset.isna().any()\n",
    "for col in dataset.columns[columns_with_nan]:\n",
    "    dataset.loc[:, col] = dataset.fillna(dataset[col].median())"
   ]
  },
  {
   "cell_type": "code",
   "execution_count": 9,
   "id": "23c5b9e4-7275-4c88-a171-6a1d5f6f46c8",
   "metadata": {
    "ExecuteTime": {
     "end_time": "2024-10-06T21:38:55.408905Z",
     "start_time": "2024-10-06T21:38:42.352376Z"
    }
   },
   "outputs": [],
   "source": [
    "df = dataset.iloc[0:challenge_set_updated.shape[0], :]"
   ]
  },
  {
   "cell_type": "code",
   "execution_count": 10,
   "id": "e043fa0a-27d7-44ae-adce-99c6dcbfe1aa",
   "metadata": {
    "ExecuteTime": {
     "end_time": "2024-10-06T21:38:55.683992Z",
     "start_time": "2024-10-06T21:38:55.596679Z"
    }
   },
   "outputs": [],
   "source": [
    "X = df.drop('tow', axis=1)\n",
    "y = df.tow"
   ]
  },
  {
   "cell_type": "code",
   "execution_count": 11,
   "id": "90e35db3-54bd-46b4-b5b4-deffc73d41b4",
   "metadata": {
    "ExecuteTime": {
     "end_time": "2024-10-06T21:39:04.704355Z",
     "start_time": "2024-10-06T21:38:55.879796Z"
    }
   },
   "outputs": [],
   "source": [
    "# import numpy as np\n",
    "# import matplotlib.pyplot as plt\n",
    "# import seaborn as sns\n",
    "\n",
    "# # Create correlation matrix\n",
    "# corr_matrix = X.corr(numeric_only=True).abs()\n",
    "\n",
    "# # Select upper triangle of correlation matrix\n",
    "# upper = corr_matrix.where(np.triu(np.ones(corr_matrix.shape), k=1).astype(bool))\n",
    "\n",
    "# # Find features with correlation greater than 0.98\n",
    "# to_drop = [column for column in upper.columns if any(upper[column] > 0.98)]\n",
    "# print(to_drop)\n",
    "\n",
    "# # Plotting the correlation matrix\n",
    "# plt.figure(figsize=(12, 8))\n",
    "# sns.heatmap(corr_matrix, annot=True, cmap='coolwarm', fmt=\".2f\")\n",
    "# plt.title('Correlation Matrix of Challenge Set')\n",
    "# plt.show()\n",
    "\n",
    "# # # Drop features \n",
    "# # X.drop(to_drop, axis=1, inplace=True)"
   ]
  },
  {
   "cell_type": "code",
   "execution_count": 12,
   "id": "67c586c8-7e4c-4d1f-a778-abfcd789670e",
   "metadata": {},
   "outputs": [],
   "source": [
    "eliminated_features = ['groundspeed_airspeed_ratio_ENR', 'temperature_9', 'wind_distance_flown_distance_ENR', 'average_humidity_DEP_40', 'vertical_rate_bins_ARR', \n",
    "        'groundspeed_flown_distance_ARR', 'arrival_quarter', 'offblock_year', 'arrival_year', 'offblock_to_arrival_day_diff', 'altitude_9', 'tas_1', \n",
    "        'is_arrival_weekend', 'adep_height_6', 'sqrd_vlof_tas', 'average_airspeed_ARR_100', 'adep_height_7', 'wind_distance_ARR_100', 'altitude_4', \n",
    "        'adep_height_1', 'groundspeed_airspeed_ratio_ARR', 'tas_8', 'specific_energy_4', 'temperature_bins_DEP', 'temperature_6', 'humidity_bins_DEP', \n",
    "        'altitude_5', 'adep_height_5', 'sqrd_tas_8', 'sqrd_tas_7', 'specific_energy_7', 'specific_energy_1', 'adep_height_4', 'sqrd_tas_6', 'tas_2', \n",
    "        'sqrd_tas_5', 'specific_energy_3', 'altitude_8', 'specific_energy_6', 'adep_height_8', 'vertical_rate_airspeed_ARR', 'altitude_2', 'sqrd_tas_1', \n",
    "        'sqrd_tas_3', 'specific_energy_8', 'sqrd_tas_9', 'temperature_8', 'groundspeed_airspeed_ratio_DEP', 'sqrd_tas_4', 'altitude_6', \n",
    "        'specific_energy_5', 'humidity_temperature_DEP', 'adep_height_2', 'altitude_7', 'adep_height_3', 'temperature_1', 'specific_energy_2', \n",
    "        'temperature_5', 'wind_distance_flown_distance_ARR', 'arrival_month', 'temperature_4', 'groundspeed_ARR_100', 'tas_4', 'arrival_minute', \n",
    "        'adep_height_9', 'altitude_groundspeed_ARR', 'altitude_3', 'temperature_7', 'airspeed_specific_energy_ENR', 'altitude_10', 'sqrd_tas_10', \n",
    "        'humidity_bins_ARR', 'specific_energy_9', 'sqrd_tas_2', 'temperature_2', 'tas_10', 'average_humidity_ENR', 'offblock_quarter', \n",
    "        'airspeed_specific_energy_DEP', 'wind_distance_flown_distance_DEP', 'tas_6', 'flown_distance_ARR_100', 'vertical_rate_airspeed_ratio_ARR', \n",
    "        'average_humidity_ARR_100', 'specific_energy_10', 'first_adep_height', 'tas_3', 'temperature_3', 'track_variation_ARR_100', \n",
    "        'is_offblock_rush_hour', 'average_temperature_ENR', 'is_arrival_rush_hour', 'average_altitude_ARR_100', 'specific_energy_ENR', \n",
    "        'groundspeed_ENR', 'is_offblock_weekend', 'Num_Engines', 'temperature_bins_ARR', 'average_temperature_ARR_100', 'kpi17_time', \n",
    "        'average_airspeed_DEP_40', 'wind_distance_ENR', 'offblock_minute', 'groundspeed_10NM', 'average_vertical_rate_ARR_100', 'vlof_tas', \n",
    "        'humidity_temperature_ARR']"
   ]
  },
  {
   "cell_type": "code",
   "execution_count": 13,
   "id": "568514a5-2186-4d8f-9177-ba034c053b9f",
   "metadata": {},
   "outputs": [],
   "source": [
    "X.drop(eliminated_features, axis=1, inplace=True)"
   ]
  },
  {
   "cell_type": "code",
   "execution_count": null,
   "id": "ca7442c8-54f0-4e78-b4ba-074582c09bdf",
   "metadata": {},
   "outputs": [],
   "source": [
    "from catboost import CatBoostRegressor, Pool, metrics\n",
    "from sklearn.model_selection import train_test_split\n",
    "\n",
    "X_train, X_val, y_train, y_val = train_test_split(X, y, test_size=0.2, random_state=42)\n",
    "\n",
    "params = {\n",
    "    'learning_rate': 0.01, \n",
    "    'reg_lambda': 0.05357182104973179, \n",
    "    'random_strength': 20.10951792232919, \n",
    "    'depth': 9, \n",
    "    'min_data_in_leaf': 11, \n",
    "    'leaf_estimation_iterations': 12\n",
    "}\n",
    "\n",
    "selected_cat_names = [x for x in cat_names if x in X.columns]\n",
    "\n",
    "train_pool = Pool(X_train, y_train, cat_features=selected_cat_names)\n",
    "val_pool = Pool(X_val, y_val, cat_features=selected_cat_names)\n",
    "\n",
    "model = CatBoostRegressor(\n",
    "    iterations=100000,\n",
    "    objective=metrics.RMSE(),\n",
    "    eval_metric=metrics.RMSE(),\n",
    "    random_seed=42,\n",
    "    verbose=False,\n",
    "    task_type='GPU',\n",
    "    use_best_model=True,\n",
    "    od_type='Iter',\n",
    "    od_wait=50,\n",
    "    **params,\n",
    ")"
   ]
  },
  {
   "cell_type": "code",
   "execution_count": null,
   "id": "44445a95-7525-4642-8b12-f522c000bf2c",
   "metadata": {},
   "outputs": [],
   "source": [
    "model.fit(\n",
    "    train_pool, eval_set=val_pool,\n",
    "    plot=True\n",
    ")"
   ]
  },
  {
   "cell_type": "code",
   "execution_count": null,
   "id": "a8bf4549-989f-4dee-b004-06ccc45efe3a",
   "metadata": {},
   "outputs": [],
   "source": [
    "model.save_model('catboost_train_v%d.cbm' % version, 'cbm')"
   ]
  },
  {
   "cell_type": "code",
   "execution_count": null,
   "id": "86b00888-1d30-476d-8e3b-bf6addce9baf",
   "metadata": {},
   "outputs": [],
   "source": [
    "y_pred = model.predict(X_val)\n",
    "pd.DataFrame(data={'tow': y_pred}).to_csv('catboost_val_v%d.csv' % version, index=False)"
   ]
  },
  {
   "cell_type": "code",
   "execution_count": null,
   "id": "3de8b83c-5784-492b-9e63-66c60abd9acf",
   "metadata": {},
   "outputs": [],
   "source": [
    "def classify_aircraft(row):\n",
    "    if row['Physical_Class_Engine'] == 'Turboprop' and row['wtc'] == 'M':\n",
    "        return 'Medium Turbo Prop'\n",
    "    elif row['Physical_Class_Engine'] == 'Jet' and row['wtc'] == 'M':\n",
    "        return 'Medium Jet'\n",
    "    elif row['Physical_Class_Engine'] == 'Jet' and row['wtc'] == 'H':\n",
    "        return 'Heavy Jet'\n",
    "    else:\n",
    "        return None  # If no classification applies, return None"
   ]
  },
  {
   "cell_type": "code",
   "execution_count": null,
   "id": "173b30f4-1808-4fd8-960a-2a26b0f3205c",
   "metadata": {},
   "outputs": [],
   "source": [
    "from sklearn.metrics import root_mean_squared_error\n",
    "\n",
    "X_val_groups = X_val.copy()\n",
    "\n",
    "X_val_groups['Aircraft_Class'] = X_val.apply(classify_aircraft, axis=1)\n",
    "\n",
    "X_val_groups = X_val_groups.reset_index()\n",
    "\n",
    "indices_m_prop = X_val_groups[X_val_groups['Aircraft_Class'] == 'Medium Turbo Prop'].index\n",
    "indices_m_jet = X_val_groups[X_val_groups['Aircraft_Class'] == 'Medium Jet'].index\n",
    "indices_h_jet = X_val_groups[X_val_groups['Aircraft_Class'] == 'Heavy Jet'].index\n",
    "\n",
    "print('RMSE Medium Turbo Prop:', root_mean_squared_error(y_val.iloc[indices_m_prop], y_pred.iloc[indices_m_prop]))\n",
    "print('RMSE Medium Jet:', root_mean_squared_error(y_val.iloc[indices_m_jet], y_pred.iloc[indices_m_jet]))\n",
    "print('RMSE Heavy Jet:', root_mean_squared_error(y_val.iloc[indices_h_jet], y_pred.iloc[indices_h_jet]))"
   ]
  },
  {
   "cell_type": "code",
   "execution_count": null,
   "id": "e9dae33e-a244-41cd-8947-91f934717d58",
   "metadata": {},
   "outputs": [],
   "source": [
    "best_iteration = model.get_best_iteration()\n",
    "model = CatBoostRegressor(\n",
    "    iterations=best_iteration,\n",
    "    objective=metrics.RMSE(),\n",
    "    random_seed=42,\n",
    "    verbose=False,\n",
    "    task_type='GPU',\n",
    "    **params,\n",
    ")\n",
    "model.fit(\n",
    "    X, y,\n",
    "    cat_features=selected_cat_names, \n",
    "    plot=True\n",
    ")"
   ]
  },
  {
   "cell_type": "code",
   "execution_count": null,
   "id": "14239bd0-c412-47a2-9bab-c05d781132a4",
   "metadata": {},
   "outputs": [],
   "source": [
    "model.save_model('catboost_all_v%d.cbm' % version, 'cbm')"
   ]
  },
  {
   "cell_type": "code",
   "execution_count": null,
   "id": "4341f7ba-050b-4276-b9ab-14a7fe8eae47",
   "metadata": {},
   "outputs": [],
   "source": [
    "feature_importances = model.get_feature_importance(train_pool)\n",
    "feature_names = X_train.columns\n",
    "for score, name in sorted(zip(feature_importances, feature_names), reverse=True):\n",
    "    print('{}: {}'.format(name, score))"
   ]
  },
  {
   "cell_type": "code",
   "execution_count": null,
   "id": "eb378ec9-b59a-419b-9a83-c211b4d7c676",
   "metadata": {},
   "outputs": [],
   "source": [
    "import matplotlib\n",
    "\n",
    "feature_im_df = pd.DataFrame({\n",
    "    \"feature\": X.columns,\n",
    "    \"importance\": feature_importances\n",
    "})\n",
    "\n",
    "feature_im_df = feature_im_df.sort_values(by=\"importance\", ascending=False)\n",
    "\n",
    "sns.set(rc={'text.usetex' : True, 'text.latex.preamble': '\\\\usepackage{libertine}'})\n",
    "plt.figure(figsize=(10, 6))\n",
    "plt.figure()\n",
    "sns.barplot(data = feature_im_df[:20], x='importance', y='feature', palette=\"viridis\")\n",
    "\n",
    "plt.title(\"CatBoost feature importance\")\n",
    "plt.xlabel(\"Importance\")\n",
    "plt.ylabel(\"feature\")\n",
    "plt.tight_layout()\n",
    "plt.savefig('catboost_feature_importance.pdf', bbox_inches='tight')\n",
    "plt.show()"
   ]
  },
  {
   "cell_type": "code",
   "execution_count": null,
   "id": "0182b915-33a4-4750-9b59-d3af1a98e02a",
   "metadata": {},
   "outputs": [],
   "source": [
    "model = CatBoostRegressor(**params).fit(train_pool)\n",
    "feature_importances = model.get_feature_importance(train_pool)\n",
    "feature_names = X_train.columns\n",
    "for score, name in sorted(zip(feature_importances, feature_names), reverse=True):\n",
    "    print('{}: {}'.format(name, score))"
   ]
  },
  {
   "cell_type": "markdown",
   "id": "297a0598-b099-49f7-a562-fb1d0aa0e052",
   "metadata": {},
   "source": [
    "## Generating Submission"
   ]
  },
  {
   "cell_type": "code",
   "execution_count": null,
   "id": "b45d9111-8198-449f-bfea-5bb966be6f7f",
   "metadata": {},
   "outputs": [],
   "source": [
    "df_test = dataset.iloc[challenge_set_updated.shape[0]:, :]\n",
    "df_test.head()"
   ]
  },
  {
   "cell_type": "code",
   "execution_count": null,
   "id": "2d70a7c6-65f5-4aff-8ed4-346bdfcfa78a",
   "metadata": {},
   "outputs": [],
   "source": [
    "X_test = df_test.drop('tow', axis=1)"
   ]
  },
  {
   "cell_type": "code",
   "execution_count": null,
   "id": "daa505b0-3b6f-4c4e-8114-8e214d7ea053",
   "metadata": {},
   "outputs": [],
   "source": [
    "X_test = X_test.loc[:, X_test.columns.isin(X.columns)]"
   ]
  },
  {
   "cell_type": "code",
   "execution_count": null,
   "id": "9a52c1cc-bd58-4630-9dfb-7bf319b640ab",
   "metadata": {},
   "outputs": [],
   "source": [
    "y_pred = model.predict(X_test)\n",
    "y_test = y_pred\n",
    "print(y_test)"
   ]
  },
  {
   "cell_type": "code",
   "execution_count": null,
   "id": "92f919ca-95d1-4163-b2a7-db77ec45ff34",
   "metadata": {
    "scrolled": true
   },
   "outputs": [],
   "source": [
    "dft0 = pd.read_csv('./data/final_submission_set.csv')\n",
    "dft0['tow'] = y_test\n",
    "dft0[['flight_id', 'tow']].to_csv('catboost.csv', index=False)"
   ]
  },
  {
   "cell_type": "code",
   "execution_count": null,
   "id": "3e4b172e-1995-413e-83e3-cb3eace0cd7c",
   "metadata": {
    "scrolled": true
   },
   "outputs": [],
   "source": [
    "print((df_test['aircraft_type'] == submission_set_updated['aircraft_type']).mean())"
   ]
  },
  {
   "cell_type": "code",
   "execution_count": null,
   "id": "ae8fc7c9-2931-410b-9867-173be9b111f2",
   "metadata": {},
   "outputs": [],
   "source": [
    "submission_dataset = df_test\n",
    "submission_dataset['tow'] = y_pred\n",
    "pd.set_option('display.max_rows', None)\n",
    "pd.reset_option('display.max_rows')\n",
    "print((submission_dataset['tow'] > submission_dataset['MTOW_kg']).sum())\n",
    "mask = (submission_dataset['tow'] > submission_dataset['MTOW_kg'])\n",
    "submission_dataset.loc[mask, 'tow'] = submission_dataset.loc[mask, 'MTOW_kg']\n",
    "print((submission_dataset['tow'] > submission_dataset['MTOW_kg']).sum())"
   ]
  },
  {
   "cell_type": "code",
   "execution_count": null,
   "id": "a12135ff-86ee-43d3-9bb4-509d2e57a8e1",
   "metadata": {},
   "outputs": [],
   "source": [
    "dft0 = pd.read_csv('./data/final_submission_set.csv')\n",
    "dft0['tow'] = submission_dataset['tow']\n",
    "dft0[['flight_id', 'tow']].to_csv('catboost_submission_v%.csv' % version, index=False)"
   ]
  }
 ],
 "metadata": {
  "kernelspec": {
   "display_name": "Python 3 (ipykernel)",
   "language": "python",
   "name": "python3"
  },
  "language_info": {
   "codemirror_mode": {
    "name": "ipython",
    "version": 3
   },
   "file_extension": ".py",
   "mimetype": "text/x-python",
   "name": "python",
   "nbconvert_exporter": "python",
   "pygments_lexer": "ipython3",
   "version": "3.12.7"
  }
 },
 "nbformat": 4,
 "nbformat_minor": 5
}
