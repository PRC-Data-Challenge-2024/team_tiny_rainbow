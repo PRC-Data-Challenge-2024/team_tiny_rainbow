{
 "cells": [
  {
   "cell_type": "markdown",
   "id": "12342f03-8eb3-48e4-ac47-f4dc3d691932",
   "metadata": {
    "tags": []
   },
   "source": [
    "# XGBoost Model"
   ]
  },
  {
   "cell_type": "code",
   "execution_count": 1,
   "id": "23ff59ad-e6f3-4acf-bff2-3f9307ec3043",
   "metadata": {},
   "outputs": [],
   "source": [
    "import pandas as pd\n",
    "from xgboost import XGBRegressor, callback\n",
    "from sklearn.model_selection import train_test_split, RandomizedSearchCV\n",
    "from sklearn.metrics import r2_score, mean_squared_error\n",
    "import numpy as np\n",
    "from tqdm import tqdm\n",
    "from datetime import datetime\n",
    "import pytz\n",
    "import json\n",
    "import joblib \n",
    "import os\n",
    "import seaborn as sns\n",
    "import matplotlib.pyplot as plt\n",
    "from tqdm import tqdm"
   ]
  },
  {
   "cell_type": "code",
   "execution_count": 2,
   "id": "33936ce9-6883-4634-9cdf-7e48db301656",
   "metadata": {},
   "outputs": [],
   "source": [
    "# Load the dataset after the exploratory data analysis\n",
    "challenge_set_updated = pd.read_csv(\"./data/challenge_set_updated_v9.csv\")\n",
    "submission_set = pd.read_csv(\"./data/submission_set.csv\")\n",
    "submission_set_updated = pd.read_csv(\"./data/submission_set_updated_v9.csv\")"
   ]
  },
  {
   "cell_type": "code",
   "execution_count": 3,
   "id": "3ffb1c80-41a8-4a17-a3a2-20fc4c511969",
   "metadata": {},
   "outputs": [
    {
     "name": "stdout",
     "output_type": "stream",
     "text": [
      "Analysis of challenge_set_updated:\n",
      "                               Missing Values  Percentage\n",
      "track_variation_ARR_100                 23528    6.375927\n",
      "track_variation_DEP_100                 54966   14.895410\n",
      "track_variation_ENR                     50848   13.779460\n",
      "average_vertical_rate_ARR_100           23728    6.430126\n",
      "average_vertical_rate_DEP_100           55412   15.016273\n",
      "average_vertical_rate_ENR               50852   13.780544\n",
      "average_airspeed_ARR_100                23996    6.502752\n",
      "average_airspeed_DEP_100                55471   15.032262\n",
      "average_airspeed_ENR                    50852   13.780544\n",
      "groundspeed_ARR_100                     23725    6.429313\n",
      "groundspeed_DEP_100                     55409   15.015460\n",
      "groundspeed_ENR                         50850   13.780002\n",
      "wind_distance_ARR_100                   23528    6.375927\n",
      "wind_distance_DEP_100                   54966   14.895410\n",
      "wind_distance_ENR                       50848   13.779460\n",
      "average_temperature_ARR_100             23832    6.458309\n",
      "average_temperature_DEP_100             55228   14.966410\n",
      "average_temperature_ENR                 50850   13.780002\n",
      "average_humidity_ARR_100                23832    6.458309\n",
      "average_humidity_DEP_100                55228   14.966410\n",
      "average_humidity_ENR                    50850   13.780002\n",
      "specific_energy_ARR_100                153734   41.660863\n",
      "specific_energy_DEP_100                 56379   15.278324\n",
      "specific_energy_ENR                     51764   14.027690\n",
      "flown_distance_ARR_100                  23528    6.375927\n",
      "flown_distance_DEP_100                  54966   14.895410\n",
      "flown_distance_ENR                      50848   13.779460\n",
      "specific_energy                          4329    1.173129\n",
      "\n",
      "Analysis of submission_set_updated:\n",
      "                               Missing Values  Percentage\n",
      "track_variation_ARR_100                  6688    6.311875\n",
      "track_variation_DEP_100                 15825   14.935022\n",
      "track_variation_ENR                     14348   13.541087\n",
      "average_vertical_rate_ARR_100            6749    6.369445\n",
      "average_vertical_rate_DEP_100           15943   15.046386\n",
      "average_vertical_rate_ENR               14348   13.541087\n",
      "average_airspeed_ARR_100                 6810    6.427014\n",
      "average_airspeed_DEP_100                15969   15.070924\n",
      "average_airspeed_ENR                    14350   13.542974\n",
      "groundspeed_ARR_100                      6749    6.369445\n",
      "groundspeed_DEP_100                     15943   15.046386\n",
      "groundspeed_ENR                         14348   13.541087\n",
      "wind_distance_ARR_100                    6688    6.311875\n",
      "wind_distance_DEP_100                   15825   14.935022\n",
      "wind_distance_ENR                       14348   13.541087\n",
      "average_temperature_ARR_100              6766    6.385489\n",
      "average_temperature_DEP_100             15910   15.015242\n",
      "average_temperature_ENR                 14350   13.542974\n",
      "average_humidity_ARR_100                 6766    6.385489\n",
      "average_humidity_DEP_100                15910   15.015242\n",
      "average_humidity_ENR                    14350   13.542974\n",
      "specific_energy_ARR_100                 43812   41.348069\n",
      "specific_energy_DEP_100                 16232   15.319133\n",
      "specific_energy_ENR                     14616   13.794015\n",
      "flown_distance_ARR_100                   6688    6.311875\n",
      "flown_distance_DEP_100                  15825   14.935022\n",
      "flown_distance_ENR                      14348   13.541087\n",
      "specific_energy                          1349    1.273134\n",
      "tow                                    105959  100.000000\n"
     ]
    }
   ],
   "source": [
    "# Function to analyze missing values\n",
    "def analyze_missing_values(df):\n",
    "    # Count and percentage of missing values per column\n",
    "    missing_values = df.isna().sum()\n",
    "    missing_percentage = (missing_values / len(df)) * 100\n",
    "    missing_summary = pd.DataFrame({'Missing Values': missing_values, 'Percentage': missing_percentage})\n",
    "    \n",
    "    # Display summary of missing values\n",
    "    print(missing_summary[missing_summary['Missing Values'] > 0])\n",
    "    \n",
    "# Analyzing missing values in both datasets\n",
    "print(\"Analysis of challenge_set_updated:\")\n",
    "analyze_missing_values(challenge_set_updated)\n",
    "\n",
    "print(\"\\nAnalysis of submission_set_updated:\")\n",
    "analyze_missing_values(submission_set_updated)"
   ]
  },
  {
   "cell_type": "code",
   "execution_count": 4,
   "id": "b9adef39-d715-4df0-8f6b-095d9523be43",
   "metadata": {},
   "outputs": [],
   "source": [
    "# Function to drop columns with more than 16% missing values, except for 'tow' in the submission set\n",
    "def drop_columns_above_threshold(df, threshold=16, preserve_columns=None):\n",
    "    if preserve_columns is None:\n",
    "        preserve_columns = []\n",
    "    \n",
    "    missing_percentage = df.isna().mean() * 100\n",
    "    cols_to_keep = missing_percentage[missing_percentage <= threshold].index.tolist()\n",
    "    \n",
    "    # Ensure columns in preserve_columns are kept even if they exceed the threshold\n",
    "    cols_to_keep.extend([col for col in preserve_columns if col in df.columns])\n",
    "    \n",
    "    df = df[cols_to_keep]\n",
    "    return df\n",
    "\n",
    "# Applying the function to challenge_set_updated\n",
    "challenge_set_updated = drop_columns_above_threshold(challenge_set_updated)\n",
    "\n",
    "# Applying the function to submission_set_updated, keeping 'tow'\n",
    "submission_set_updated = drop_columns_above_threshold(submission_set_updated, preserve_columns=['tow'])"
   ]
  },
  {
   "cell_type": "code",
   "execution_count": 5,
   "id": "35910a7a-9bed-421e-b589-5f942b5b832d",
   "metadata": {},
   "outputs": [
    {
     "name": "stderr",
     "output_type": "stream",
     "text": [
      "Imputing columns:   0%|          | 0/27 [00:00<?, ?it/s]"
     ]
    },
    {
     "name": "stdout",
     "output_type": "stream",
     "text": [
      "Processing column: track_variation_ARR_100\n"
     ]
    },
    {
     "name": "stderr",
     "output_type": "stream",
     "text": [
      "Imputing columns:   4%|▎         | 1/27 [00:30<13:08, 30.31s/it]"
     ]
    },
    {
     "name": "stdout",
     "output_type": "stream",
     "text": [
      "Processing column: track_variation_DEP_100\n"
     ]
    },
    {
     "name": "stderr",
     "output_type": "stream",
     "text": [
      "Imputing columns:   7%|▋         | 2/27 [00:59<12:27, 29.89s/it]"
     ]
    },
    {
     "name": "stdout",
     "output_type": "stream",
     "text": [
      "Processing column: track_variation_ENR\n"
     ]
    },
    {
     "name": "stderr",
     "output_type": "stream",
     "text": [
      "Imputing columns:  11%|█         | 3/27 [01:29<11:54, 29.76s/it]"
     ]
    },
    {
     "name": "stdout",
     "output_type": "stream",
     "text": [
      "Processing column: average_vertical_rate_ARR_100\n"
     ]
    },
    {
     "name": "stderr",
     "output_type": "stream",
     "text": [
      "Imputing columns:  15%|█▍        | 4/27 [01:59<11:30, 30.03s/it]"
     ]
    },
    {
     "name": "stdout",
     "output_type": "stream",
     "text": [
      "Processing column: average_vertical_rate_DEP_100\n"
     ]
    },
    {
     "name": "stderr",
     "output_type": "stream",
     "text": [
      "Imputing columns:  19%|█▊        | 5/27 [02:29<10:57, 29.88s/it]"
     ]
    },
    {
     "name": "stdout",
     "output_type": "stream",
     "text": [
      "Processing column: average_vertical_rate_ENR\n"
     ]
    },
    {
     "name": "stderr",
     "output_type": "stream",
     "text": [
      "Imputing columns:  22%|██▏       | 6/27 [02:58<10:23, 29.68s/it]"
     ]
    },
    {
     "name": "stdout",
     "output_type": "stream",
     "text": [
      "Processing column: average_airspeed_ARR_100\n"
     ]
    },
    {
     "name": "stderr",
     "output_type": "stream",
     "text": [
      "Imputing columns:  26%|██▌       | 7/27 [03:29<09:57, 29.90s/it]"
     ]
    },
    {
     "name": "stdout",
     "output_type": "stream",
     "text": [
      "Processing column: average_airspeed_DEP_100\n"
     ]
    },
    {
     "name": "stderr",
     "output_type": "stream",
     "text": [
      "Imputing columns:  30%|██▉       | 8/27 [03:59<09:27, 29.87s/it]"
     ]
    },
    {
     "name": "stdout",
     "output_type": "stream",
     "text": [
      "Processing column: average_airspeed_ENR\n"
     ]
    },
    {
     "name": "stderr",
     "output_type": "stream",
     "text": [
      "Imputing columns:  33%|███▎      | 9/27 [04:29<08:59, 29.95s/it]"
     ]
    },
    {
     "name": "stdout",
     "output_type": "stream",
     "text": [
      "Processing column: groundspeed_ARR_100\n"
     ]
    },
    {
     "name": "stderr",
     "output_type": "stream",
     "text": [
      "Imputing columns:  37%|███▋      | 10/27 [04:58<08:27, 29.86s/it]"
     ]
    },
    {
     "name": "stdout",
     "output_type": "stream",
     "text": [
      "Processing column: groundspeed_DEP_100\n"
     ]
    },
    {
     "name": "stderr",
     "output_type": "stream",
     "text": [
      "Imputing columns:  41%|████      | 11/27 [05:28<07:58, 29.89s/it]"
     ]
    },
    {
     "name": "stdout",
     "output_type": "stream",
     "text": [
      "Processing column: groundspeed_ENR\n"
     ]
    },
    {
     "name": "stderr",
     "output_type": "stream",
     "text": [
      "Imputing columns:  44%|████▍     | 12/27 [05:59<07:30, 30.04s/it]"
     ]
    },
    {
     "name": "stdout",
     "output_type": "stream",
     "text": [
      "Processing column: wind_distance_ARR_100\n"
     ]
    },
    {
     "name": "stderr",
     "output_type": "stream",
     "text": [
      "Imputing columns:  48%|████▊     | 13/27 [06:28<06:59, 29.98s/it]"
     ]
    },
    {
     "name": "stdout",
     "output_type": "stream",
     "text": [
      "Processing column: wind_distance_DEP_100\n"
     ]
    },
    {
     "name": "stderr",
     "output_type": "stream",
     "text": [
      "Imputing columns:  52%|█████▏    | 14/27 [06:58<06:26, 29.71s/it]"
     ]
    },
    {
     "name": "stdout",
     "output_type": "stream",
     "text": [
      "Processing column: wind_distance_ENR\n"
     ]
    },
    {
     "name": "stderr",
     "output_type": "stream",
     "text": [
      "Imputing columns:  56%|█████▌    | 15/27 [07:26<05:52, 29.39s/it]"
     ]
    },
    {
     "name": "stdout",
     "output_type": "stream",
     "text": [
      "Processing column: average_temperature_ARR_100\n"
     ]
    },
    {
     "name": "stderr",
     "output_type": "stream",
     "text": [
      "Imputing columns:  59%|█████▉    | 16/27 [07:56<05:24, 29.54s/it]"
     ]
    },
    {
     "name": "stdout",
     "output_type": "stream",
     "text": [
      "Processing column: average_temperature_DEP_100\n"
     ]
    },
    {
     "name": "stderr",
     "output_type": "stream",
     "text": [
      "Imputing columns:  63%|██████▎   | 17/27 [08:26<04:56, 29.63s/it]"
     ]
    },
    {
     "name": "stdout",
     "output_type": "stream",
     "text": [
      "Processing column: average_temperature_ENR\n"
     ]
    },
    {
     "name": "stderr",
     "output_type": "stream",
     "text": [
      "Imputing columns:  67%|██████▋   | 18/27 [08:56<04:27, 29.69s/it]"
     ]
    },
    {
     "name": "stdout",
     "output_type": "stream",
     "text": [
      "Processing column: average_humidity_ARR_100\n"
     ]
    },
    {
     "name": "stderr",
     "output_type": "stream",
     "text": [
      "Imputing columns:  70%|███████   | 19/27 [09:25<03:57, 29.65s/it]"
     ]
    },
    {
     "name": "stdout",
     "output_type": "stream",
     "text": [
      "Processing column: average_humidity_DEP_100\n"
     ]
    },
    {
     "name": "stderr",
     "output_type": "stream",
     "text": [
      "Imputing columns:  74%|███████▍  | 20/27 [09:54<03:26, 29.46s/it]"
     ]
    },
    {
     "name": "stdout",
     "output_type": "stream",
     "text": [
      "Processing column: average_humidity_ENR\n"
     ]
    },
    {
     "name": "stderr",
     "output_type": "stream",
     "text": [
      "Imputing columns:  78%|███████▊  | 21/27 [10:09<02:29, 24.92s/it]"
     ]
    },
    {
     "name": "stdout",
     "output_type": "stream",
     "text": [
      "Processing column: specific_energy_DEP_100\n"
     ]
    },
    {
     "name": "stderr",
     "output_type": "stream",
     "text": [
      "Imputing columns:  81%|████████▏ | 22/27 [10:38<02:11, 26.31s/it]"
     ]
    },
    {
     "name": "stdout",
     "output_type": "stream",
     "text": [
      "Processing column: specific_energy_ENR\n"
     ]
    },
    {
     "name": "stderr",
     "output_type": "stream",
     "text": [
      "Imputing columns:  85%|████████▌ | 23/27 [11:08<01:49, 27.37s/it]"
     ]
    },
    {
     "name": "stdout",
     "output_type": "stream",
     "text": [
      "Processing column: flown_distance_ARR_100\n"
     ]
    },
    {
     "name": "stderr",
     "output_type": "stream",
     "text": [
      "Imputing columns:  89%|████████▉ | 24/27 [11:38<01:24, 28.23s/it]"
     ]
    },
    {
     "name": "stdout",
     "output_type": "stream",
     "text": [
      "Processing column: flown_distance_DEP_100\n"
     ]
    },
    {
     "name": "stderr",
     "output_type": "stream",
     "text": [
      "Imputing columns:  93%|█████████▎| 25/27 [12:07<00:56, 28.45s/it]"
     ]
    },
    {
     "name": "stdout",
     "output_type": "stream",
     "text": [
      "Processing column: flown_distance_ENR\n"
     ]
    },
    {
     "name": "stderr",
     "output_type": "stream",
     "text": [
      "Imputing columns:  96%|█████████▋| 26/27 [12:36<00:28, 28.56s/it]"
     ]
    },
    {
     "name": "stdout",
     "output_type": "stream",
     "text": [
      "Processing column: specific_energy\n"
     ]
    },
    {
     "name": "stderr",
     "output_type": "stream",
     "text": [
      "Imputing columns: 100%|██████████| 27/27 [13:05<00:00, 29.11s/it]\n",
      "Imputing columns:   0%|          | 0/27 [00:00<?, ?it/s]"
     ]
    },
    {
     "name": "stdout",
     "output_type": "stream",
     "text": [
      "Processing column: track_variation_ARR_100\n"
     ]
    },
    {
     "name": "stderr",
     "output_type": "stream",
     "text": [
      "Imputing columns:   4%|▎         | 1/27 [00:22<09:37, 22.20s/it]"
     ]
    },
    {
     "name": "stdout",
     "output_type": "stream",
     "text": [
      "Processing column: track_variation_DEP_100\n"
     ]
    },
    {
     "name": "stderr",
     "output_type": "stream",
     "text": [
      "Imputing columns:   7%|▋         | 2/27 [00:43<09:07, 21.89s/it]"
     ]
    },
    {
     "name": "stdout",
     "output_type": "stream",
     "text": [
      "Processing column: track_variation_ENR\n"
     ]
    },
    {
     "name": "stderr",
     "output_type": "stream",
     "text": [
      "Imputing columns:  11%|█         | 3/27 [01:05<08:41, 21.71s/it]"
     ]
    },
    {
     "name": "stdout",
     "output_type": "stream",
     "text": [
      "Processing column: average_vertical_rate_ARR_100\n"
     ]
    },
    {
     "name": "stderr",
     "output_type": "stream",
     "text": [
      "Imputing columns:  15%|█▍        | 4/27 [01:27<08:24, 21.93s/it]"
     ]
    },
    {
     "name": "stdout",
     "output_type": "stream",
     "text": [
      "Processing column: average_vertical_rate_DEP_100\n"
     ]
    },
    {
     "name": "stderr",
     "output_type": "stream",
     "text": [
      "Imputing columns:  19%|█▊        | 5/27 [01:50<08:05, 22.09s/it]"
     ]
    },
    {
     "name": "stdout",
     "output_type": "stream",
     "text": [
      "Processing column: average_vertical_rate_ENR\n"
     ]
    },
    {
     "name": "stderr",
     "output_type": "stream",
     "text": [
      "Imputing columns:  22%|██▏       | 6/27 [02:11<07:38, 21.85s/it]"
     ]
    },
    {
     "name": "stdout",
     "output_type": "stream",
     "text": [
      "Processing column: average_airspeed_ARR_100\n"
     ]
    },
    {
     "name": "stderr",
     "output_type": "stream",
     "text": [
      "Imputing columns:  26%|██▌       | 7/27 [02:33<07:21, 22.06s/it]"
     ]
    },
    {
     "name": "stdout",
     "output_type": "stream",
     "text": [
      "Processing column: average_airspeed_DEP_100\n"
     ]
    },
    {
     "name": "stderr",
     "output_type": "stream",
     "text": [
      "Imputing columns:  30%|██▉       | 8/27 [02:56<07:00, 22.12s/it]"
     ]
    },
    {
     "name": "stdout",
     "output_type": "stream",
     "text": [
      "Processing column: average_airspeed_ENR\n"
     ]
    },
    {
     "name": "stderr",
     "output_type": "stream",
     "text": [
      "Imputing columns:  33%|███▎      | 9/27 [03:17<06:35, 21.98s/it]"
     ]
    },
    {
     "name": "stdout",
     "output_type": "stream",
     "text": [
      "Processing column: groundspeed_ARR_100\n"
     ]
    },
    {
     "name": "stderr",
     "output_type": "stream",
     "text": [
      "Imputing columns:  37%|███▋      | 10/27 [03:40<06:15, 22.08s/it]"
     ]
    },
    {
     "name": "stdout",
     "output_type": "stream",
     "text": [
      "Processing column: groundspeed_DEP_100\n"
     ]
    },
    {
     "name": "stderr",
     "output_type": "stream",
     "text": [
      "Imputing columns:  41%|████      | 11/27 [04:01<05:50, 21.90s/it]"
     ]
    },
    {
     "name": "stdout",
     "output_type": "stream",
     "text": [
      "Processing column: groundspeed_ENR\n"
     ]
    },
    {
     "name": "stderr",
     "output_type": "stream",
     "text": [
      "Imputing columns:  44%|████▍     | 12/27 [04:22<05:25, 21.68s/it]"
     ]
    },
    {
     "name": "stdout",
     "output_type": "stream",
     "text": [
      "Processing column: wind_distance_ARR_100\n"
     ]
    },
    {
     "name": "stderr",
     "output_type": "stream",
     "text": [
      "Imputing columns:  48%|████▊     | 13/27 [04:44<05:04, 21.78s/it]"
     ]
    },
    {
     "name": "stdout",
     "output_type": "stream",
     "text": [
      "Processing column: wind_distance_DEP_100\n"
     ]
    },
    {
     "name": "stderr",
     "output_type": "stream",
     "text": [
      "Imputing columns:  52%|█████▏    | 14/27 [05:05<04:40, 21.58s/it]"
     ]
    },
    {
     "name": "stdout",
     "output_type": "stream",
     "text": [
      "Processing column: wind_distance_ENR\n"
     ]
    },
    {
     "name": "stderr",
     "output_type": "stream",
     "text": [
      "Imputing columns:  56%|█████▌    | 15/27 [05:27<04:20, 21.68s/it]"
     ]
    },
    {
     "name": "stdout",
     "output_type": "stream",
     "text": [
      "Processing column: average_temperature_ARR_100\n"
     ]
    },
    {
     "name": "stderr",
     "output_type": "stream",
     "text": [
      "Imputing columns:  59%|█████▉    | 16/27 [05:50<04:01, 21.96s/it]"
     ]
    },
    {
     "name": "stdout",
     "output_type": "stream",
     "text": [
      "Processing column: average_temperature_DEP_100\n"
     ]
    },
    {
     "name": "stderr",
     "output_type": "stream",
     "text": [
      "Imputing columns:  63%|██████▎   | 17/27 [06:15<03:47, 22.75s/it]"
     ]
    },
    {
     "name": "stdout",
     "output_type": "stream",
     "text": [
      "Processing column: average_temperature_ENR\n"
     ]
    },
    {
     "name": "stderr",
     "output_type": "stream",
     "text": [
      "Imputing columns:  67%|██████▋   | 18/27 [06:35<03:19, 22.21s/it]"
     ]
    },
    {
     "name": "stdout",
     "output_type": "stream",
     "text": [
      "Processing column: average_humidity_ARR_100\n"
     ]
    },
    {
     "name": "stderr",
     "output_type": "stream",
     "text": [
      "Imputing columns:  70%|███████   | 19/27 [06:58<02:59, 22.44s/it]"
     ]
    },
    {
     "name": "stdout",
     "output_type": "stream",
     "text": [
      "Processing column: average_humidity_DEP_100\n"
     ]
    },
    {
     "name": "stderr",
     "output_type": "stream",
     "text": [
      "Imputing columns:  74%|███████▍  | 20/27 [07:20<02:35, 22.23s/it]"
     ]
    },
    {
     "name": "stdout",
     "output_type": "stream",
     "text": [
      "Processing column: average_humidity_ENR\n"
     ]
    },
    {
     "name": "stderr",
     "output_type": "stream",
     "text": [
      "Imputing columns:  78%|███████▊  | 21/27 [07:28<01:47, 17.85s/it]"
     ]
    },
    {
     "name": "stdout",
     "output_type": "stream",
     "text": [
      "Processing column: specific_energy_DEP_100\n"
     ]
    },
    {
     "name": "stderr",
     "output_type": "stream",
     "text": [
      "Imputing columns:  81%|████████▏ | 22/27 [07:50<01:35, 19.15s/it]"
     ]
    },
    {
     "name": "stdout",
     "output_type": "stream",
     "text": [
      "Processing column: specific_energy_ENR\n"
     ]
    },
    {
     "name": "stderr",
     "output_type": "stream",
     "text": [
      "Imputing columns:  85%|████████▌ | 23/27 [08:13<01:20, 20.19s/it]"
     ]
    },
    {
     "name": "stdout",
     "output_type": "stream",
     "text": [
      "Processing column: flown_distance_ARR_100\n"
     ]
    },
    {
     "name": "stderr",
     "output_type": "stream",
     "text": [
      "Imputing columns:  89%|████████▉ | 24/27 [08:34<01:01, 20.49s/it]"
     ]
    },
    {
     "name": "stdout",
     "output_type": "stream",
     "text": [
      "Processing column: flown_distance_DEP_100\n"
     ]
    },
    {
     "name": "stderr",
     "output_type": "stream",
     "text": [
      "Imputing columns:  93%|█████████▎| 25/27 [08:55<00:41, 20.69s/it]"
     ]
    },
    {
     "name": "stdout",
     "output_type": "stream",
     "text": [
      "Processing column: flown_distance_ENR\n"
     ]
    },
    {
     "name": "stderr",
     "output_type": "stream",
     "text": [
      "Imputing columns:  96%|█████████▋| 26/27 [09:17<00:21, 21.17s/it]"
     ]
    },
    {
     "name": "stdout",
     "output_type": "stream",
     "text": [
      "Processing column: specific_energy\n"
     ]
    },
    {
     "name": "stderr",
     "output_type": "stream",
     "text": [
      "Imputing columns: 100%|██████████| 27/27 [09:40<00:00, 21.50s/it]\n"
     ]
    }
   ],
   "source": [
    "# Function to handle infinities and large values\n",
    "def clean_infinities(df):\n",
    "    \"\"\"\n",
    "    Replace infinite values with NaN in the dataframe to handle large or infinite values.\n",
    "    \"\"\"\n",
    "    return df.replace([np.inf, -np.inf], np.nan)\n",
    "\n",
    "# Function to impute missing values using XGBoost\n",
    "def xgboost_imputation(df, exclude_columns=None):\n",
    "    \"\"\"\n",
    "    Impute missing values using XGBoost, using only the columns that do not have missing values,\n",
    "    excluding the specified columns.\n",
    "    \n",
    "    Parameters:\n",
    "    df (pd.DataFrame): The dataframe to impute.\n",
    "    exclude_columns (list): List of columns to exclude from the model (e.g., 'tow').\n",
    "    \n",
    "    Returns:\n",
    "    pd.DataFrame: Dataframe with imputed values.\n",
    "    \"\"\"\n",
    "    df = df.copy()  # Create a copy of the dataframe to avoid modifying the original\n",
    "\n",
    "    # Clean infinite values in the dataframe by replacing them with NaN\n",
    "    df = clean_infinities(df)\n",
    "\n",
    "    # Exclude specified columns from the imputation process\n",
    "    if exclude_columns is None:\n",
    "        exclude_columns = []\n",
    "\n",
    "    # Ensure 'tow' is in the exclude columns, regardless of its state\n",
    "    if 'tow' not in exclude_columns:\n",
    "        exclude_columns.append('tow')\n",
    "\n",
    "    # Select numeric columns that are not in the exclude list\n",
    "    numeric_columns = df.select_dtypes(include=[np.number]).drop(columns=exclude_columns, errors='ignore')\n",
    "\n",
    "    # Identify columns with missing values\n",
    "    cols_with_missing = numeric_columns.columns[numeric_columns.isnull().any()]\n",
    "\n",
    "    # Loop through each column that has missing values with a progress bar using tqdm\n",
    "    for col in tqdm(cols_with_missing, desc=\"Imputing columns\"):\n",
    "        # Print the column being processed\n",
    "        print(f\"Processing column: {col}\")\n",
    "        \n",
    "        # Separate rows with and without missing values in the target column\n",
    "        missing_rows = numeric_columns[col].isnull()\n",
    "        non_missing_rows = ~missing_rows\n",
    "\n",
    "        # Find columns that do not have missing values both in non-missing and missing rows\n",
    "        non_missing_features = numeric_columns.loc[non_missing_rows].dropna(axis=1).columns\n",
    "        missing_features = numeric_columns.loc[missing_rows, non_missing_features].dropna(axis=1).columns\n",
    "\n",
    "        # Ensure both training and missing feature sets are aligned and non-empty\n",
    "        consistent_features = non_missing_features.intersection(missing_features)\n",
    "\n",
    "        if consistent_features.empty:\n",
    "            print(f\"Skipping column {col}: No consistent features between training and prediction.\")\n",
    "            continue\n",
    "\n",
    "        # Use only the consistent columns without missing values for training\n",
    "        X_train = df.loc[non_missing_rows, consistent_features]\n",
    "        y_train = df.loc[non_missing_rows, col]\n",
    "\n",
    "        # Verifica se há NaNs nas features antes de treinar o modelo\n",
    "        if X_train.isnull().values.any() or y_train.isnull().values.any():\n",
    "            print(f\"Skipping column {col}: NaNs found in training data.\")\n",
    "            continue\n",
    "\n",
    "        # Treina o modelo de XGBoost\n",
    "        model = XGBRegressor(n_estimators=100, random_state=42, verbosity=0)\n",
    "        model.fit(X_train, y_train)\n",
    "\n",
    "        # Verifica as colunas para as linhas com valores faltantes\n",
    "        X_missing = df.loc[missing_rows, consistent_features]\n",
    "\n",
    "        # Verifica se X_missing contém NaNs ou se as colunas de treinamento e previsão estão consistentes\n",
    "        if X_missing.isnull().values.any() or X_missing.empty:\n",
    "            print(f\"Skipping prediction for column {col}: X_missing contains NaNs or no data available.\")\n",
    "            continue\n",
    "\n",
    "        # Realiza a previsão\n",
    "        df.loc[missing_rows, col] = model.predict(X_missing)\n",
    "\n",
    "    return df\n",
    "\n",
    "# Applying the XGBoost imputation on challenge_set_updated\n",
    "challenge_set_updated = xgboost_imputation(challenge_set_updated, exclude_columns=['tow'])\n",
    "# challenge_set_updated.to_csv(\"./data/challenge_set_updated_imputed.csv\", index=False)\n",
    "\n",
    "# Applying the XGBoost imputation on submission_set_updated\n",
    "submission_set_updated = xgboost_imputation(submission_set_updated, exclude_columns=['tow'])\n",
    "# submission_set_updated.to_csv(\"./data/submission_set_updated_imputed.csv\", index=False)"
   ]
  },
  {
   "cell_type": "code",
   "execution_count": 6,
   "id": "4f017078-f0cd-4e9f-9ae3-658d1b560116",
   "metadata": {},
   "outputs": [],
   "source": [
    "# If necessary change this part to test the model before the training process\n",
    "df = challenge_set_updated.iloc[:,:]\n",
    "\n",
    "# Separating features and target variable\n",
    "X = df.drop('tow', axis=1)\n",
    "y = df['tow']\n",
    "\n",
    "n_jobs = os.cpu_count() - 1"
   ]
  },
  {
   "cell_type": "code",
   "execution_count": 7,
   "id": "19810434-b559-47aa-b836-1d6adb80443f",
   "metadata": {},
   "outputs": [
    {
     "name": "stdout",
     "output_type": "stream",
     "text": [
      "[0]\tvalidation_0-rmse:53006.36066\n",
      "[50]\tvalidation_0-rmse:35616.51712\n",
      "[100]\tvalidation_0-rmse:24020.16086\n",
      "[150]\tvalidation_0-rmse:16325.07587\n",
      "[200]\tvalidation_0-rmse:11257.27182\n",
      "[250]\tvalidation_0-rmse:7976.95443\n",
      "[300]\tvalidation_0-rmse:5926.18963\n",
      "[350]\tvalidation_0-rmse:4700.24745\n",
      "[400]\tvalidation_0-rmse:4010.22660\n",
      "[450]\tvalidation_0-rmse:3641.43447\n",
      "[500]\tvalidation_0-rmse:3448.85114\n",
      "[550]\tvalidation_0-rmse:3347.26972\n",
      "[600]\tvalidation_0-rmse:3288.98414\n",
      "[650]\tvalidation_0-rmse:3252.93973\n",
      "[700]\tvalidation_0-rmse:3230.11886\n",
      "[750]\tvalidation_0-rmse:3214.24538\n",
      "[800]\tvalidation_0-rmse:3198.83707\n",
      "[850]\tvalidation_0-rmse:3186.31054\n",
      "[900]\tvalidation_0-rmse:3175.65963\n",
      "[950]\tvalidation_0-rmse:3166.53343\n",
      "[1000]\tvalidation_0-rmse:3158.86946\n",
      "[1050]\tvalidation_0-rmse:3151.40440\n",
      "[1100]\tvalidation_0-rmse:3145.03319\n",
      "[1150]\tvalidation_0-rmse:3139.48192\n",
      "[1200]\tvalidation_0-rmse:3134.68302\n",
      "[1250]\tvalidation_0-rmse:3130.61947\n",
      "[1300]\tvalidation_0-rmse:3126.87198\n",
      "[1350]\tvalidation_0-rmse:3123.26288\n",
      "[1400]\tvalidation_0-rmse:3119.71702\n",
      "[1450]\tvalidation_0-rmse:3116.31416\n",
      "[1500]\tvalidation_0-rmse:3112.97815\n",
      "[1550]\tvalidation_0-rmse:3110.31208\n",
      "[1600]\tvalidation_0-rmse:3107.52453\n",
      "[1650]\tvalidation_0-rmse:3105.04919\n",
      "[1700]\tvalidation_0-rmse:3102.82343\n",
      "[1750]\tvalidation_0-rmse:3100.84681\n",
      "[1800]\tvalidation_0-rmse:3098.73886\n",
      "[1850]\tvalidation_0-rmse:3096.85487\n",
      "[1900]\tvalidation_0-rmse:3094.87931\n",
      "[1950]\tvalidation_0-rmse:3093.36708\n",
      "[2000]\tvalidation_0-rmse:3091.75170\n",
      "[2050]\tvalidation_0-rmse:3090.17498\n",
      "[2100]\tvalidation_0-rmse:3088.37653\n",
      "[2150]\tvalidation_0-rmse:3086.85792\n",
      "[2200]\tvalidation_0-rmse:3085.39302\n",
      "[2250]\tvalidation_0-rmse:3083.81372\n",
      "[2300]\tvalidation_0-rmse:3082.34764\n",
      "[2350]\tvalidation_0-rmse:3081.18839\n",
      "[2400]\tvalidation_0-rmse:3080.00459\n",
      "[2450]\tvalidation_0-rmse:3078.70542\n",
      "[2500]\tvalidation_0-rmse:3077.45210\n",
      "[2550]\tvalidation_0-rmse:3076.25958\n",
      "[2600]\tvalidation_0-rmse:3075.03678\n",
      "[2650]\tvalidation_0-rmse:3074.01257\n",
      "[2700]\tvalidation_0-rmse:3073.00566\n",
      "[2750]\tvalidation_0-rmse:3072.01170\n",
      "[2800]\tvalidation_0-rmse:3070.91255\n",
      "[2850]\tvalidation_0-rmse:3070.09146\n",
      "[2900]\tvalidation_0-rmse:3069.14693\n",
      "[2950]\tvalidation_0-rmse:3068.28398\n",
      "[3000]\tvalidation_0-rmse:3067.56841\n",
      "[3050]\tvalidation_0-rmse:3066.71872\n",
      "[3100]\tvalidation_0-rmse:3065.82287\n",
      "[3150]\tvalidation_0-rmse:3065.11464\n",
      "[3200]\tvalidation_0-rmse:3064.44651\n",
      "[3250]\tvalidation_0-rmse:3063.70634\n",
      "[3300]\tvalidation_0-rmse:3062.93330\n",
      "[3350]\tvalidation_0-rmse:3062.32627\n",
      "[3400]\tvalidation_0-rmse:3061.68572\n",
      "[3450]\tvalidation_0-rmse:3060.95008\n",
      "[3500]\tvalidation_0-rmse:3060.33724\n",
      "[3550]\tvalidation_0-rmse:3059.79354\n",
      "[3600]\tvalidation_0-rmse:3059.26221\n",
      "[3650]\tvalidation_0-rmse:3058.72368\n",
      "[3700]\tvalidation_0-rmse:3058.26318\n",
      "[3750]\tvalidation_0-rmse:3057.78234\n",
      "[3800]\tvalidation_0-rmse:3057.35947\n",
      "[3850]\tvalidation_0-rmse:3056.88061\n",
      "[3900]\tvalidation_0-rmse:3056.47138\n",
      "[3950]\tvalidation_0-rmse:3055.93759\n",
      "[4000]\tvalidation_0-rmse:3055.49618\n",
      "[4050]\tvalidation_0-rmse:3055.13594\n",
      "[4100]\tvalidation_0-rmse:3054.67344\n",
      "[4150]\tvalidation_0-rmse:3054.29778\n",
      "[4200]\tvalidation_0-rmse:3053.89364\n",
      "[4250]\tvalidation_0-rmse:3053.49604\n",
      "[4300]\tvalidation_0-rmse:3053.14682\n",
      "[4350]\tvalidation_0-rmse:3052.74188\n",
      "[4400]\tvalidation_0-rmse:3052.30509\n",
      "[4450]\tvalidation_0-rmse:3051.91684\n",
      "[4500]\tvalidation_0-rmse:3051.60046\n",
      "[4550]\tvalidation_0-rmse:3051.23958\n",
      "[4600]\tvalidation_0-rmse:3050.93497\n",
      "[4650]\tvalidation_0-rmse:3050.54937\n",
      "[4700]\tvalidation_0-rmse:3050.27623\n",
      "[4750]\tvalidation_0-rmse:3049.96906\n",
      "[4800]\tvalidation_0-rmse:3049.62695\n",
      "[4850]\tvalidation_0-rmse:3049.29565\n",
      "[4900]\tvalidation_0-rmse:3048.99969\n",
      "[4950]\tvalidation_0-rmse:3048.65489\n",
      "[5000]\tvalidation_0-rmse:3048.35439\n",
      "[5050]\tvalidation_0-rmse:3048.04396\n",
      "[5100]\tvalidation_0-rmse:3047.76276\n",
      "[5150]\tvalidation_0-rmse:3047.52817\n",
      "[5200]\tvalidation_0-rmse:3047.27965\n",
      "[5250]\tvalidation_0-rmse:3046.97220\n",
      "[5300]\tvalidation_0-rmse:3046.72533\n",
      "[5350]\tvalidation_0-rmse:3046.58706\n",
      "[5400]\tvalidation_0-rmse:3046.39282\n",
      "[5450]\tvalidation_0-rmse:3046.16058\n",
      "[5500]\tvalidation_0-rmse:3045.89096\n",
      "[5550]\tvalidation_0-rmse:3045.66506\n",
      "[5600]\tvalidation_0-rmse:3045.42971\n",
      "[5650]\tvalidation_0-rmse:3045.22180\n",
      "[5700]\tvalidation_0-rmse:3045.01112\n",
      "[5750]\tvalidation_0-rmse:3044.80969\n",
      "[5800]\tvalidation_0-rmse:3044.61268\n",
      "[5850]\tvalidation_0-rmse:3044.44374\n",
      "[5900]\tvalidation_0-rmse:3044.26101\n",
      "[5950]\tvalidation_0-rmse:3044.11349\n",
      "[6000]\tvalidation_0-rmse:3043.93212\n",
      "[6050]\tvalidation_0-rmse:3043.75799\n",
      "[6100]\tvalidation_0-rmse:3043.61174\n",
      "[6150]\tvalidation_0-rmse:3043.45447\n",
      "[6200]\tvalidation_0-rmse:3043.33535\n",
      "[6250]\tvalidation_0-rmse:3043.16072\n",
      "[6300]\tvalidation_0-rmse:3043.02436\n",
      "[6350]\tvalidation_0-rmse:3042.88358\n",
      "[6400]\tvalidation_0-rmse:3042.71895\n",
      "[6450]\tvalidation_0-rmse:3042.59281\n",
      "[6500]\tvalidation_0-rmse:3042.43392\n",
      "[6550]\tvalidation_0-rmse:3042.27532\n",
      "[6600]\tvalidation_0-rmse:3042.16161\n",
      "[6650]\tvalidation_0-rmse:3042.00735\n",
      "[6700]\tvalidation_0-rmse:3041.86418\n",
      "[6750]\tvalidation_0-rmse:3041.75337\n",
      "[6800]\tvalidation_0-rmse:3041.64393\n",
      "[6850]\tvalidation_0-rmse:3041.51094\n",
      "[6900]\tvalidation_0-rmse:3041.36751\n",
      "[6950]\tvalidation_0-rmse:3041.23904\n",
      "[7000]\tvalidation_0-rmse:3041.13167\n",
      "[7050]\tvalidation_0-rmse:3040.96404\n",
      "[7100]\tvalidation_0-rmse:3040.85049\n",
      "[7150]\tvalidation_0-rmse:3040.73683\n",
      "[7200]\tvalidation_0-rmse:3040.61121\n",
      "[7250]\tvalidation_0-rmse:3040.50321\n",
      "[7300]\tvalidation_0-rmse:3040.43359\n",
      "[7350]\tvalidation_0-rmse:3040.35744\n",
      "[7400]\tvalidation_0-rmse:3040.29511\n",
      "[7450]\tvalidation_0-rmse:3040.17710\n",
      "[7500]\tvalidation_0-rmse:3040.11263\n",
      "[7550]\tvalidation_0-rmse:3040.01423\n",
      "[7600]\tvalidation_0-rmse:3039.89650\n",
      "[7650]\tvalidation_0-rmse:3039.78529\n",
      "[7700]\tvalidation_0-rmse:3039.66645\n",
      "[7746]\tvalidation_0-rmse:3039.60784\n",
      "Best Model Performance - R^2 Score: 0.9968, RMSE: 2981.5294\n",
      "Updated best_params: {'subsample': 1.0, 'reg_lambda': 0.46415888336127775, 'reg_alpha': 0.166810053720005, 'min_child_weight': 4, 'max_depth': 13, 'learning_rate': 0.008, 'gamma': 0.4444444444444444, 'colsample_bytree': 0.6, 'n_estimators': 7727}\n"
     ]
    }
   ],
   "source": [
    "# Split the data into training and test sets\n",
    "X_train_full, X_test, y_train_full, y_test = train_test_split(X, y, test_size=0.2, random_state=42)\n",
    "\n",
    "# Further split the training data into training and validation sets for early stopping\n",
    "X_train, X_val, y_train, y_val = train_test_split(X_train_full, y_train_full, test_size=0.2, random_state=42)\n",
    "\n",
    "# Define the best parameters provided\n",
    "best_params = {\n",
    "    'subsample': 1.0,\n",
    "    'reg_lambda': 0.46415888336127775,\n",
    "    'reg_alpha': 0.166810053720005,\n",
    "    'min_child_weight': 4,\n",
    "    'max_depth': 13,\n",
    "    'learning_rate': 0.008,\n",
    "    'gamma': 0.4444444444444444,\n",
    "    'colsample_bytree': 0.6\n",
    "}\n",
    "\n",
    "# Initialize the XGBoost model with the provided best parameters\n",
    "best_model = XGBRegressor(\n",
    "    **best_params,\n",
    "    objective='reg:squarederror',\n",
    "    random_state=42,\n",
    "    n_estimators=10_000_000,  # Set a high value to allow early stopping to find the best n_estimators\n",
    "    n_jobs=n_jobs,\n",
    "    eval_metric=\"rmse\",  # Set eval_metric in the constructor\n",
    "    early_stopping_rounds=20,  # Set early_stopping_rounds in the constructor\n",
    "    # enable_categorical=True  # Enable categorical feature handling\n",
    ")\n",
    "\n",
    "# Train the model on the training data with early stopping using the validation set\n",
    "best_model.fit(X_train, y_train, verbose=50, eval_set=[(X_val, y_val)])\n",
    "\n",
    "# Update best_params with the best number of estimators found during early stopping\n",
    "best_params['n_estimators'] = best_model.best_iteration + 1  # +1 because best_iteration is zero-indexed\n",
    "\n",
    "# Evaluate the final model on the test set\n",
    "y_pred = best_model.predict(X_test)\n",
    "r2 = r2_score(y_test, y_pred)\n",
    "rmse = np.sqrt(mean_squared_error(y_test, y_pred))\n",
    "\n",
    "print(f\"Best Model Performance - R^2 Score: {r2:.4f}, RMSE: {rmse:.4f}\")\n",
    "print(f\"Updated best_params: {best_params}\")"
   ]
  },
  {
   "cell_type": "code",
   "execution_count": 8,
   "id": "af9cc69f-c81a-4e13-a47a-43ecfc901801",
   "metadata": {},
   "outputs": [
    {
     "name": "stdout",
     "output_type": "stream",
     "text": [
      "Results saved to logs/model_results_20240918_210029.txt\n"
     ]
    }
   ],
   "source": [
    "# Save R², RMSE, and hyperparameters\n",
    "results = {\n",
    "    'R2': float(r2),\n",
    "    'RMSE': float(rmse),\n",
    "    'Best Parameters': {key: (int(value) if isinstance(value, np.integer) else float(value)\n",
    "                              if isinstance(value, np.floating) else value)\n",
    "                        for key, value in best_params.items()}\n",
    "}\n",
    "\n",
    "# Set timezone to São Paulo (UTC-3)\n",
    "saopaulo_tz = pytz.timezone('America/Sao_Paulo')\n",
    "timestamp = datetime.now(saopaulo_tz).strftime('%Y%m%d_%H%M%S')\n",
    "\n",
    "# Define logs directory, and create them if they don't exist\n",
    "logs_dir = 'logs'\n",
    "os.makedirs(logs_dir, exist_ok=True)\n",
    "\n",
    "# Define file paths within the respective directories\n",
    "results_file = os.path.join(logs_dir, f'model_results_{timestamp}.txt')\n",
    "\n",
    "# Save the results to a TXT file\n",
    "with open(results_file, 'w') as file:\n",
    "    file.write(f\"R2: {results['R2']}\\n\")\n",
    "    file.write(f\"RMSE: {results['RMSE']}\\n\")\n",
    "    file.write(\"Best Parameters:\\n\")\n",
    "    for param, value in results['Best Parameters'].items():\n",
    "        file.write(f\"  {param}: {value}\\n\")\n",
    "\n",
    "print(f\"Results saved to {results_file}\")"
   ]
  },
  {
   "cell_type": "code",
   "execution_count": 9,
   "id": "fa803af4-452f-4f19-97b0-e1a5e69bf4bc",
   "metadata": {},
   "outputs": [
    {
     "name": "stdout",
     "output_type": "stream",
     "text": [
      "Final Model Performance - R^2 Score: 0.9968, RMSE: 2981.5294\n"
     ]
    }
   ],
   "source": [
    "# Display evaluation metrics\n",
    "print(f\"Final Model Performance - R^2 Score: {r2:.4f}, RMSE: {rmse:.4f}\")"
   ]
  },
  {
   "cell_type": "code",
   "execution_count": 10,
   "id": "bcc4fe08-cc67-4d28-8787-554c7e05917a",
   "metadata": {},
   "outputs": [
    {
     "name": "stdout",
     "output_type": "stream",
     "text": [
      "Final model trained successfully using all available data.\n"
     ]
    }
   ],
   "source": [
    "# Define models directory, and create them if they don't exist\n",
    "models_dir = 'models'\n",
    "os.makedirs(models_dir, exist_ok=True)\n",
    "\n",
    "# Train the final model using the full training+validation+test set with the optimal n_estimators\n",
    "final_model = XGBRegressor(**best_params, objective='reg:squarederror', random_state=42, n_jobs=n_jobs)\n",
    "\n",
    "# Train the model on the entire training+validation+set data\n",
    "final_model.fit(X, y, verbose=100)\n",
    "\n",
    "print(\"Final model trained successfully using all available data.\")"
   ]
  },
  {
   "cell_type": "code",
   "execution_count": 11,
   "id": "f4865b87-8fb4-4d17-b844-4813da8d2f64",
   "metadata": {},
   "outputs": [
    {
     "name": "stdout",
     "output_type": "stream",
     "text": [
      "Model saved to models/trained_model_20240918_210029.joblib\n"
     ]
    }
   ],
   "source": [
    "# Define file paths within the respective directories\n",
    "model_file = os.path.join(models_dir, f'trained_model_{timestamp}.joblib')\n",
    "\n",
    "# Save the trained model to a file in the models folder\n",
    "joblib.dump(final_model, model_file)\n",
    "print(f\"Model saved to {model_file}\")"
   ]
  },
  {
   "cell_type": "code",
   "execution_count": 12,
   "id": "53a5ee28-9a58-4fe5-9493-89c605857c8a",
   "metadata": {},
   "outputs": [
    {
     "data": {
      "text/html": [
       "<div>\n",
       "<style scoped>\n",
       "    .dataframe tbody tr th:only-of-type {\n",
       "        vertical-align: middle;\n",
       "    }\n",
       "\n",
       "    .dataframe tbody tr th {\n",
       "        vertical-align: top;\n",
       "    }\n",
       "\n",
       "    .dataframe thead th {\n",
       "        text-align: right;\n",
       "    }\n",
       "</style>\n",
       "<table border=\"1\" class=\"dataframe\">\n",
       "  <thead>\n",
       "    <tr style=\"text-align: right;\">\n",
       "      <th></th>\n",
       "      <th>flight_id</th>\n",
       "      <th>date</th>\n",
       "      <th>callsign</th>\n",
       "      <th>adep</th>\n",
       "      <th>name_adep</th>\n",
       "      <th>country_code_adep</th>\n",
       "      <th>ades</th>\n",
       "      <th>name_ades</th>\n",
       "      <th>country_code_ades</th>\n",
       "      <th>actual_offblock_time</th>\n",
       "      <th>arrival_time</th>\n",
       "      <th>aircraft_type</th>\n",
       "      <th>wtc</th>\n",
       "      <th>airline</th>\n",
       "      <th>flight_duration</th>\n",
       "      <th>taxiout_time</th>\n",
       "      <th>flown_distance</th>\n",
       "      <th>tow</th>\n",
       "    </tr>\n",
       "  </thead>\n",
       "  <tbody>\n",
       "    <tr>\n",
       "      <th>0</th>\n",
       "      <td>248753821</td>\n",
       "      <td>2022-01-01</td>\n",
       "      <td>3b3de0f3ad0ee192513995c02f7bf7cf</td>\n",
       "      <td>LTFJ</td>\n",
       "      <td>Istanbul Sabiha Gokcen</td>\n",
       "      <td>TR</td>\n",
       "      <td>LFLL</td>\n",
       "      <td>Lyon</td>\n",
       "      <td>FR</td>\n",
       "      <td>2022-01-01T09:44:00Z</td>\n",
       "      <td>2022-01-01T12:48:33Z</td>\n",
       "      <td>B738</td>\n",
       "      <td>M</td>\n",
       "      <td>6351ec1b849adacc0cbb3b1313d8d39b</td>\n",
       "      <td>170</td>\n",
       "      <td>15</td>\n",
       "      <td>1122</td>\n",
       "      <td>69072.593750</td>\n",
       "    </tr>\n",
       "    <tr>\n",
       "      <th>1</th>\n",
       "      <td>248753822</td>\n",
       "      <td>2022-01-01</td>\n",
       "      <td>e06dd03d4a879ca37d9e18c1bd7cad16</td>\n",
       "      <td>EBBR</td>\n",
       "      <td>Brussels</td>\n",
       "      <td>BE</td>\n",
       "      <td>KJFK</td>\n",
       "      <td>New York JFK</td>\n",
       "      <td>US</td>\n",
       "      <td>2022-01-01T09:45:00Z</td>\n",
       "      <td>2022-01-01T17:49:51Z</td>\n",
       "      <td>A333</td>\n",
       "      <td>H</td>\n",
       "      <td>bdeeef3a675587d530de70a25d7118d2</td>\n",
       "      <td>470</td>\n",
       "      <td>15</td>\n",
       "      <td>3205</td>\n",
       "      <td>215474.828125</td>\n",
       "    </tr>\n",
       "    <tr>\n",
       "      <th>2</th>\n",
       "      <td>248754498</td>\n",
       "      <td>2022-01-01</td>\n",
       "      <td>2d3b1c962c78c4ebeef11bcd51b9e94c</td>\n",
       "      <td>KMIA</td>\n",
       "      <td>Miami</td>\n",
       "      <td>US</td>\n",
       "      <td>EGLL</td>\n",
       "      <td>London Heathrow</td>\n",
       "      <td>GB</td>\n",
       "      <td>2022-01-01T01:52:00Z</td>\n",
       "      <td>2022-01-01T09:55:16Z</td>\n",
       "      <td>B77W</td>\n",
       "      <td>H</td>\n",
       "      <td>5543e4dc327359ffaf5b9c0e6faaf0e1</td>\n",
       "      <td>473</td>\n",
       "      <td>10</td>\n",
       "      <td>3965</td>\n",
       "      <td>223672.390625</td>\n",
       "    </tr>\n",
       "    <tr>\n",
       "      <th>3</th>\n",
       "      <td>248757623</td>\n",
       "      <td>2022-01-01</td>\n",
       "      <td>81564432d3ee97c4bdf4cd8f006753dc</td>\n",
       "      <td>EGCN</td>\n",
       "      <td>Doncaster Sheffield</td>\n",
       "      <td>GB</td>\n",
       "      <td>LEAL</td>\n",
       "      <td>Alicante</td>\n",
       "      <td>ES</td>\n",
       "      <td>2022-01-01T08:20:00Z</td>\n",
       "      <td>2022-01-01T11:06:08Z</td>\n",
       "      <td>B38M</td>\n",
       "      <td>M</td>\n",
       "      <td>3922524069809ac4326134429751e26f</td>\n",
       "      <td>156</td>\n",
       "      <td>10</td>\n",
       "      <td>986</td>\n",
       "      <td>63226.054688</td>\n",
       "    </tr>\n",
       "    <tr>\n",
       "      <th>4</th>\n",
       "      <td>248763603</td>\n",
       "      <td>2022-01-01</td>\n",
       "      <td>84be079d7e660db105d91f600b4b3d59</td>\n",
       "      <td>EIDW</td>\n",
       "      <td>Dublin</td>\n",
       "      <td>IE</td>\n",
       "      <td>LFLL</td>\n",
       "      <td>Lyon</td>\n",
       "      <td>FR</td>\n",
       "      <td>2022-01-01T11:01:00Z</td>\n",
       "      <td>2022-01-01T13:00:43Z</td>\n",
       "      <td>A320</td>\n",
       "      <td>M</td>\n",
       "      <td>a73f82288988b79be490c6322f4c32ed</td>\n",
       "      <td>105</td>\n",
       "      <td>15</td>\n",
       "      <td>686</td>\n",
       "      <td>63306.199219</td>\n",
       "    </tr>\n",
       "    <tr>\n",
       "      <th>...</th>\n",
       "      <td>...</td>\n",
       "      <td>...</td>\n",
       "      <td>...</td>\n",
       "      <td>...</td>\n",
       "      <td>...</td>\n",
       "      <td>...</td>\n",
       "      <td>...</td>\n",
       "      <td>...</td>\n",
       "      <td>...</td>\n",
       "      <td>...</td>\n",
       "      <td>...</td>\n",
       "      <td>...</td>\n",
       "      <td>...</td>\n",
       "      <td>...</td>\n",
       "      <td>...</td>\n",
       "      <td>...</td>\n",
       "      <td>...</td>\n",
       "      <td>...</td>\n",
       "    </tr>\n",
       "    <tr>\n",
       "      <th>105954</th>\n",
       "      <td>258066302</td>\n",
       "      <td>2022-12-31</td>\n",
       "      <td>2d3b4446c4d05a25196a9d52cab936fb</td>\n",
       "      <td>LTFJ</td>\n",
       "      <td>Istanbul Sabiha Gokcen</td>\n",
       "      <td>TR</td>\n",
       "      <td>EKCH</td>\n",
       "      <td>Copenhagen</td>\n",
       "      <td>DK</td>\n",
       "      <td>2022-12-31T09:36:00Z</td>\n",
       "      <td>2022-12-31T13:12:17Z</td>\n",
       "      <td>B38M</td>\n",
       "      <td>M</td>\n",
       "      <td>6351ec1b849adacc0cbb3b1313d8d39b</td>\n",
       "      <td>201</td>\n",
       "      <td>15</td>\n",
       "      <td>1199</td>\n",
       "      <td>67619.484375</td>\n",
       "    </tr>\n",
       "    <tr>\n",
       "      <th>105955</th>\n",
       "      <td>258068609</td>\n",
       "      <td>2022-12-31</td>\n",
       "      <td>253fd692ed441fac523081471c067772</td>\n",
       "      <td>LOWW</td>\n",
       "      <td>Vienna</td>\n",
       "      <td>AT</td>\n",
       "      <td>KIAD</td>\n",
       "      <td>Washington Dulles</td>\n",
       "      <td>US</td>\n",
       "      <td>2022-12-31T09:49:00Z</td>\n",
       "      <td>2022-12-31T19:38:26Z</td>\n",
       "      <td>B763</td>\n",
       "      <td>H</td>\n",
       "      <td>5d407cb11cc29578cc3e292e743f5393</td>\n",
       "      <td>575</td>\n",
       "      <td>14</td>\n",
       "      <td>3937</td>\n",
       "      <td>175100.078125</td>\n",
       "    </tr>\n",
       "    <tr>\n",
       "      <th>105956</th>\n",
       "      <td>258068876</td>\n",
       "      <td>2022-12-31</td>\n",
       "      <td>c9fca302ca2e28acab0eb0bb1b46f11b</td>\n",
       "      <td>LTFM</td>\n",
       "      <td>iGA Istanbul</td>\n",
       "      <td>TR</td>\n",
       "      <td>LSZH</td>\n",
       "      <td>Zurich</td>\n",
       "      <td>CH</td>\n",
       "      <td>2022-12-31T09:25:00Z</td>\n",
       "      <td>2022-12-31T12:24:24Z</td>\n",
       "      <td>A321</td>\n",
       "      <td>M</td>\n",
       "      <td>6351ec1b849adacc0cbb3b1313d8d39b</td>\n",
       "      <td>154</td>\n",
       "      <td>25</td>\n",
       "      <td>988</td>\n",
       "      <td>74976.968750</td>\n",
       "    </tr>\n",
       "    <tr>\n",
       "      <th>105957</th>\n",
       "      <td>258064675</td>\n",
       "      <td>2022-12-31</td>\n",
       "      <td>00f96ad0e382476649574ba044c764fc</td>\n",
       "      <td>EHAM</td>\n",
       "      <td>Amsterdam</td>\n",
       "      <td>NL</td>\n",
       "      <td>EDDF</td>\n",
       "      <td>Frankfurt</td>\n",
       "      <td>DE</td>\n",
       "      <td>2022-12-31T10:04:21Z</td>\n",
       "      <td>2022-12-31T10:55:35Z</td>\n",
       "      <td>A320</td>\n",
       "      <td>M</td>\n",
       "      <td>f502877cab405652cf0dd70c2213e730</td>\n",
       "      <td>42</td>\n",
       "      <td>9</td>\n",
       "      <td>240</td>\n",
       "      <td>60707.332031</td>\n",
       "    </tr>\n",
       "    <tr>\n",
       "      <th>105958</th>\n",
       "      <td>258058370</td>\n",
       "      <td>2022-12-31</td>\n",
       "      <td>5f0c222c7f7ceff3fbe75c854cce74c9</td>\n",
       "      <td>UBBB</td>\n",
       "      <td>Baku</td>\n",
       "      <td>AZ</td>\n",
       "      <td>LTFM</td>\n",
       "      <td>iGA Istanbul</td>\n",
       "      <td>TR</td>\n",
       "      <td>2022-12-31T09:40:00Z</td>\n",
       "      <td>2022-12-31T12:28:00Z</td>\n",
       "      <td>B738</td>\n",
       "      <td>M</td>\n",
       "      <td>6351ec1b849adacc0cbb3b1313d8d39b</td>\n",
       "      <td>158</td>\n",
       "      <td>10</td>\n",
       "      <td>1014</td>\n",
       "      <td>64291.394531</td>\n",
       "    </tr>\n",
       "  </tbody>\n",
       "</table>\n",
       "<p>105959 rows × 18 columns</p>\n",
       "</div>"
      ],
      "text/plain": [
       "        flight_id        date                          callsign  adep  \\\n",
       "0       248753821  2022-01-01  3b3de0f3ad0ee192513995c02f7bf7cf  LTFJ   \n",
       "1       248753822  2022-01-01  e06dd03d4a879ca37d9e18c1bd7cad16  EBBR   \n",
       "2       248754498  2022-01-01  2d3b1c962c78c4ebeef11bcd51b9e94c  KMIA   \n",
       "3       248757623  2022-01-01  81564432d3ee97c4bdf4cd8f006753dc  EGCN   \n",
       "4       248763603  2022-01-01  84be079d7e660db105d91f600b4b3d59  EIDW   \n",
       "...           ...         ...                               ...   ...   \n",
       "105954  258066302  2022-12-31  2d3b4446c4d05a25196a9d52cab936fb  LTFJ   \n",
       "105955  258068609  2022-12-31  253fd692ed441fac523081471c067772  LOWW   \n",
       "105956  258068876  2022-12-31  c9fca302ca2e28acab0eb0bb1b46f11b  LTFM   \n",
       "105957  258064675  2022-12-31  00f96ad0e382476649574ba044c764fc  EHAM   \n",
       "105958  258058370  2022-12-31  5f0c222c7f7ceff3fbe75c854cce74c9  UBBB   \n",
       "\n",
       "                     name_adep country_code_adep  ades          name_ades  \\\n",
       "0       Istanbul Sabiha Gokcen                TR  LFLL               Lyon   \n",
       "1                     Brussels                BE  KJFK       New York JFK   \n",
       "2                        Miami                US  EGLL    London Heathrow   \n",
       "3          Doncaster Sheffield                GB  LEAL           Alicante   \n",
       "4                       Dublin                IE  LFLL               Lyon   \n",
       "...                        ...               ...   ...                ...   \n",
       "105954  Istanbul Sabiha Gokcen                TR  EKCH         Copenhagen   \n",
       "105955                  Vienna                AT  KIAD  Washington Dulles   \n",
       "105956            iGA Istanbul                TR  LSZH             Zurich   \n",
       "105957               Amsterdam                NL  EDDF          Frankfurt   \n",
       "105958                    Baku                AZ  LTFM       iGA Istanbul   \n",
       "\n",
       "       country_code_ades  actual_offblock_time          arrival_time  \\\n",
       "0                     FR  2022-01-01T09:44:00Z  2022-01-01T12:48:33Z   \n",
       "1                     US  2022-01-01T09:45:00Z  2022-01-01T17:49:51Z   \n",
       "2                     GB  2022-01-01T01:52:00Z  2022-01-01T09:55:16Z   \n",
       "3                     ES  2022-01-01T08:20:00Z  2022-01-01T11:06:08Z   \n",
       "4                     FR  2022-01-01T11:01:00Z  2022-01-01T13:00:43Z   \n",
       "...                  ...                   ...                   ...   \n",
       "105954                DK  2022-12-31T09:36:00Z  2022-12-31T13:12:17Z   \n",
       "105955                US  2022-12-31T09:49:00Z  2022-12-31T19:38:26Z   \n",
       "105956                CH  2022-12-31T09:25:00Z  2022-12-31T12:24:24Z   \n",
       "105957                DE  2022-12-31T10:04:21Z  2022-12-31T10:55:35Z   \n",
       "105958                TR  2022-12-31T09:40:00Z  2022-12-31T12:28:00Z   \n",
       "\n",
       "       aircraft_type wtc                           airline  flight_duration  \\\n",
       "0               B738   M  6351ec1b849adacc0cbb3b1313d8d39b              170   \n",
       "1               A333   H  bdeeef3a675587d530de70a25d7118d2              470   \n",
       "2               B77W   H  5543e4dc327359ffaf5b9c0e6faaf0e1              473   \n",
       "3               B38M   M  3922524069809ac4326134429751e26f              156   \n",
       "4               A320   M  a73f82288988b79be490c6322f4c32ed              105   \n",
       "...              ...  ..                               ...              ...   \n",
       "105954          B38M   M  6351ec1b849adacc0cbb3b1313d8d39b              201   \n",
       "105955          B763   H  5d407cb11cc29578cc3e292e743f5393              575   \n",
       "105956          A321   M  6351ec1b849adacc0cbb3b1313d8d39b              154   \n",
       "105957          A320   M  f502877cab405652cf0dd70c2213e730               42   \n",
       "105958          B738   M  6351ec1b849adacc0cbb3b1313d8d39b              158   \n",
       "\n",
       "        taxiout_time  flown_distance            tow  \n",
       "0                 15            1122   69072.593750  \n",
       "1                 15            3205  215474.828125  \n",
       "2                 10            3965  223672.390625  \n",
       "3                 10             986   63226.054688  \n",
       "4                 15             686   63306.199219  \n",
       "...              ...             ...            ...  \n",
       "105954            15            1199   67619.484375  \n",
       "105955            14            3937  175100.078125  \n",
       "105956            25             988   74976.968750  \n",
       "105957             9             240   60707.332031  \n",
       "105958            10            1014   64291.394531  \n",
       "\n",
       "[105959 rows x 18 columns]"
      ]
     },
     "execution_count": 12,
     "metadata": {},
     "output_type": "execute_result"
    }
   ],
   "source": [
    "# Use the final model to predict the `tow` for the submission_set_updated\n",
    "submission_set_features = submission_set_updated.iloc[:,:-1]\n",
    "submission_set['tow'] = final_model.predict(submission_set_features)\n",
    "\n",
    "submission_set"
   ]
  },
  {
   "cell_type": "code",
   "execution_count": 13,
   "id": "598c600c-c2d2-46f2-a9da-e71acc696e08",
   "metadata": {},
   "outputs": [],
   "source": [
    "# Define the submissions directory and create it if it doesn't exist\n",
    "submissions_dir = 'submissions'\n",
    "os.makedirs(submissions_dir, exist_ok=True)\n",
    "\n",
    "# Save the submission with a timestamp in the filename\n",
    "submission_file = os.path.join(submissions_dir, f\"submission_{timestamp}.csv\")\n",
    "submission_set.to_csv(submission_file, index=False)"
   ]
  }
 ],
 "metadata": {
  "kernelspec": {
   "display_name": "Python [conda env:base] *",
   "language": "python",
   "name": "conda-base-py"
  },
  "language_info": {
   "codemirror_mode": {
    "name": "ipython",
    "version": 3
   },
   "file_extension": ".py",
   "mimetype": "text/x-python",
   "name": "python",
   "nbconvert_exporter": "python",
   "pygments_lexer": "ipython3",
   "version": "3.9.10"
  }
 },
 "nbformat": 4,
 "nbformat_minor": 5
}
