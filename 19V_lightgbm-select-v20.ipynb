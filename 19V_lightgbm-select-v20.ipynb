{
 "cells": [
  {
   "cell_type": "code",
   "execution_count": 1,
   "id": "d208adad-c114-4181-a0e8-201a1b5cdf0e",
   "metadata": {
    "ExecuteTime": {
     "end_time": "2024-10-06T21:26:10.862240Z",
     "start_time": "2024-10-06T21:26:10.859122Z"
    }
   },
   "outputs": [],
   "source": [
    "import pandas as pd\n",
    "import numpy as np"
   ]
  },
  {
   "cell_type": "markdown",
   "id": "ed5768b5-ccc9-44e8-90f0-af97e53fedfe",
   "metadata": {},
   "source": [
    "## Loading Data"
   ]
  },
  {
   "cell_type": "code",
   "execution_count": 2,
   "id": "00e2070e-305f-4387-a763-2b9bbad31e1b",
   "metadata": {
    "ExecuteTime": {
     "end_time": "2024-10-06T21:38:42.054099Z",
     "start_time": "2024-10-06T21:38:38.158181Z"
    }
   },
   "outputs": [],
   "source": [
    "# Load the dataset after the exploratory data analysis\n",
    "challenge_set_updated = pd.read_csv(\"./data/challenge_set_updated_v20.csv\")\n",
    "submission_set_updated = pd.read_csv(\"./data/submission_set_updated_v20.csv\")\n",
    "submission_set = pd.read_csv(\"./data/final_submission_set.csv\")"
   ]
  },
  {
   "cell_type": "markdown",
   "id": "19261bf2-b8d1-4cd6-a3c4-969c8bbaa16a",
   "metadata": {},
   "source": [
    "## Predictive Model Learning"
   ]
  },
  {
   "cell_type": "code",
   "execution_count": 3,
   "id": "08f4c04c-eb88-4732-b4c2-920d713ddc9c",
   "metadata": {
    "ExecuteTime": {
     "end_time": "2024-10-06T21:38:42.090068Z",
     "start_time": "2024-10-06T21:38:42.087125Z"
    }
   },
   "outputs": [],
   "source": [
    "cat_names = ['callsign',\n",
    "            'adep', \n",
    "            'ades', \n",
    "            'aircraft_type', \n",
    "            'wtc', \n",
    "            'airline',\n",
    "            'offblock_hour',\n",
    "            'offblock_minute', \n",
    "            'offblock_day_of_week',\n",
    "            'offblock_weekday_name',\n",
    "            'offblock_month',\n",
    "            'offblock_week_of_year', \n",
    "            'offblock_season', \n",
    "            'arrival_hour',\n",
    "            'arrival_minute',\n",
    "            'arrival_season',\n",
    "            'arrival_weekday_name',\n",
    "            'is_offblock_weekend',\n",
    "            'is_offblock_rush_hour',\n",
    "            'flight_duration_category',                       \n",
    "            'adep_region', \n",
    "            'ades_region', \n",
    "            'same_country_flight',\n",
    "            'same_region_flight',                        \n",
    "            'flight_direction',\n",
    "            'is_intercontinental',\n",
    "            'Manufacturer',\n",
    "            'Model_FAA',\n",
    "            'Physical_Class_Engine',\n",
    "            'FAA_Weight',\n",
    "            'adep_geo_cluster',\n",
    "            'ades_geo_cluster']"
   ]
  },
  {
   "cell_type": "code",
   "execution_count": 4,
   "id": "047d2b79-142c-4a1d-9fed-d56779bedccc",
   "metadata": {
    "ExecuteTime": {
     "end_time": "2024-10-06T21:38:42.090068Z",
     "start_time": "2024-10-06T21:38:42.087125Z"
    }
   },
   "outputs": [],
   "source": [
    "dataset = pd.concat([challenge_set_updated, submission_set_updated], axis=0)"
   ]
  },
  {
   "cell_type": "code",
   "execution_count": 5,
   "id": "3aba2a91-c843-4b85-82b0-96646f97658c",
   "metadata": {
    "ExecuteTime": {
     "end_time": "2024-10-06T21:38:42.274048Z",
     "start_time": "2024-10-06T21:38:42.143808Z"
    }
   },
   "outputs": [
    {
     "name": "stdout",
     "output_type": "stream",
     "text": [
      "specific_energy_1                   0.406441\n",
      "vlof_tas                            0.406441\n",
      "sqrd_tas_1                          0.406441\n",
      "sqrd_vlof_tas                       0.406441\n",
      "vlof_groundspeed                    0.406441\n",
      "tas_1                               0.406441\n",
      "tas_2                               0.372550\n",
      "specific_energy_2                   0.372550\n",
      "sqrd_tas_2                          0.372550\n",
      "tas_3                               0.359277\n",
      "sqrd_tas_3                          0.359277\n",
      "specific_energy_3                   0.359277\n",
      "specific_energy_10                  0.356763\n",
      "sqrd_tas_10                         0.356763\n",
      "tas_10                              0.356763\n",
      "sqrd_tas_9                          0.353705\n",
      "specific_energy_9                   0.353705\n",
      "tas_9                               0.353705\n",
      "tas_4                               0.353320\n",
      "specific_energy_4                   0.353320\n",
      "sqrd_tas_4                          0.353320\n",
      "tas_8                               0.351376\n",
      "specific_energy_8                   0.351376\n",
      "sqrd_tas_8                          0.351376\n",
      "tas_5                               0.350255\n",
      "specific_energy_5                   0.350255\n",
      "sqrd_tas_5                          0.350255\n",
      "specific_energy_7                   0.349834\n",
      "tas_7                               0.349834\n",
      "sqrd_tas_7                          0.349834\n",
      "specific_energy_6                   0.349350\n",
      "tas_6                               0.349350\n",
      "sqrd_tas_6                          0.349350\n",
      "tow                                 0.300001\n",
      "altitude_10                         0.254349\n",
      "adep_height_10                      0.254349\n",
      "temperature_10                      0.254349\n",
      "altitude_9                          0.248318\n",
      "adep_height_9                       0.248318\n",
      "temperature_9                       0.248318\n",
      "adep_height_8                       0.242597\n",
      "temperature_8                       0.242597\n",
      "altitude_8                          0.242597\n",
      "temperature_7                       0.237159\n",
      "altitude_7                          0.237159\n",
      "adep_height_7                       0.237159\n",
      "tas_10NM                            0.232405\n",
      "groundspeed_10NM                    0.232405\n",
      "specific_energy                     0.232405\n",
      "altitude_6                          0.231989\n",
      "adep_height_6                       0.231989\n",
      "temperature_6                       0.231989\n",
      "temperature_5                       0.226917\n",
      "adep_height_5                       0.226917\n",
      "altitude_5                          0.226917\n",
      "altitude_4                          0.222195\n",
      "adep_height_4                       0.222195\n",
      "temperature_4                       0.222195\n",
      "altitude_3                          0.217559\n",
      "adep_height_3                       0.217559\n",
      "temperature_3                       0.217559\n",
      "adep_height_2                       0.213511\n",
      "temperature_2                       0.213511\n",
      "altitude_2                          0.213511\n",
      "adep_height_1                       0.210116\n",
      "temperature_1                       0.210116\n",
      "first_adep_height                   0.210116\n",
      "altitude_1                          0.210116\n",
      "airspeed_specific_energy_ENR        0.110038\n",
      "specific_energy_ENR                 0.110038\n",
      "airspeed_specific_energy_ARR        0.043125\n",
      "specific_energy_ARR_100             0.043125\n",
      "track_variation_ARR_100             0.040820\n",
      "groundspeed_ARR_100                 0.040820\n",
      "average_airspeed_ARR_100            0.040820\n",
      "altitude_groundspeed_ARR            0.040820\n",
      "vertical_rate_airspeed_ARR          0.040820\n",
      "groundspeed_flown_distance_ARR      0.040820\n",
      "vertical_rate_bins_ARR              0.040809\n",
      "humidity_bins_ARR                   0.040809\n",
      "temperature_bins_ARR                0.040809\n",
      "humidity_temperature_ARR            0.040809\n",
      "average_humidity_ARR_100            0.040809\n",
      "average_temperature_ARR_100         0.040809\n",
      "average_vertical_rate_ARR_100       0.040809\n",
      "average_altitude_ARR_100            0.040809\n",
      "max_altitude_ARR_100                0.040809\n",
      "transit_time_kpi17                  0.040331\n",
      "kpi17_time                          0.040331\n",
      "kpi17_distance                      0.040331\n",
      "flown_distance_kpi17                0.040331\n",
      "airspeed_specific_energy_DEP        0.031542\n",
      "specific_energy_DEP_40              0.031542\n",
      "track_variation_DEP_40              0.031541\n",
      "groundspeed_flown_distance_DEP      0.031541\n",
      "average_airspeed_DEP_40             0.031541\n",
      "groundspeed_DEP_40                  0.031541\n",
      "vertical_rate_airspeed_DEP          0.031541\n",
      "altitude_groundspeed_DEP            0.031541\n",
      "average_vertical_rate_DEP_40        0.031444\n",
      "humidity_temperature_DEP            0.031444\n",
      "average_temperature_DEP_40          0.031444\n",
      "average_humidity_DEP_40             0.031444\n",
      "temperature_bins_DEP                0.031444\n",
      "humidity_bins_DEP                   0.031444\n",
      "average_altitude_DEP_40             0.031444\n",
      "vertical_rate_bins_DEP              0.031444\n",
      "max_altitude_DEP_40                 0.031444\n",
      "vertical_rate_airspeed_ENR          0.000670\n",
      "altitude_groundspeed_ENR            0.000670\n",
      "groundspeed_ENR                     0.000670\n",
      "average_airspeed_ENR                0.000670\n",
      "groundspeed_flown_distance_ENR      0.000670\n",
      "track_variation_ENR                 0.000670\n",
      "humidity_temperature_ENR            0.000660\n",
      "max_altitude_ENR                    0.000660\n",
      "cruise_altitude_ENR                 0.000660\n",
      "average_humidity_ENR                0.000660\n",
      "average_temperature_ENR             0.000660\n",
      "average_altitude_ENR                0.000660\n",
      "average_vertical_rate_ENR           0.000660\n",
      "offblock_month                      0.000000\n",
      "wind_distance_flown_distance_ENR    0.000000\n",
      "FAA_Weight                          0.000000\n",
      "Approach_Speed_knot                 0.000000\n",
      "Num_Engines                         0.000000\n",
      "Physical_Class_Engine               0.000000\n",
      "Model_FAA                           0.000000\n",
      "Manufacturer                        0.000000\n",
      "groundspeed_airspeed_ratio_ENR      0.000000\n",
      "groundspeed_airspeed_ratio_DEP      0.000000\n",
      "groundspeed_airspeed_ratio_ARR      0.000000\n",
      "wind_distance_flown_distance_ARR    0.000000\n",
      "wind_distance_flown_distance_DEP    0.000000\n",
      "MALW_kg                             0.000000\n",
      "vertical_rate_airspeed_ratio_ENR    0.000000\n",
      "vertical_rate_airspeed_ratio_DEP    0.000000\n",
      "vertical_rate_airspeed_ratio_ARR    0.000000\n",
      "flown_distance_bins                 0.000000\n",
      "flight_duration_bins                0.000000\n",
      "ades                                0.000000\n",
      "flown_distance_ENR                  0.000000\n",
      "MTOW_kg                             0.000000\n",
      "mzfw_kg                             0.000000\n",
      "flown_distance_DEP_40               0.000000\n",
      "max_fuel_l                          0.000000\n",
      "ades_geo_cluster                    0.000000\n",
      "adep_geo_cluster                    0.000000\n",
      "elevation_gradient                  0.000000\n",
      "bearing                             0.000000\n",
      "altitude_difference                 0.000000\n",
      "actual_distance                     0.000000\n",
      "Altitude_ades                       0.000000\n",
      "Longitude_ades                      0.000000\n",
      "Latitude_ades                       0.000000\n",
      "Altitude_adep                       0.000000\n",
      "Longitude_adep                      0.000000\n",
      "Latitude_adep                       0.000000\n",
      "seats_max                           0.000000\n",
      "seats_min                           0.000000\n",
      "stall_vel_knots                     0.000000\n",
      "oew_kg                              0.000000\n",
      "height_m                            0.000000\n",
      "length_m                            0.000000\n",
      "wingspan_m                          0.000000\n",
      "tas_knots                           0.000000\n",
      "range_km                            0.000000\n",
      "cargo_capacity                      0.000000\n",
      "seats_typ                           0.000000\n",
      "aircraft_type                       0.000000\n",
      "flown_distance_ARR_100              0.000000\n",
      "wtc                                 0.000000\n",
      "normalized_taxi_ratio               0.000000\n",
      "taxi_ratio                          0.000000\n",
      "offblock_to_arrival_day_diff        0.000000\n",
      "is_arrival_rush_hour                0.000000\n",
      "is_arrival_weekend                  0.000000\n",
      "is_offblock_rush_hour               0.000000\n",
      "is_offblock_weekend                 0.000000\n",
      "offblock_to_arrival_duration        0.000000\n",
      "arrival_weekday_name                0.000000\n",
      "arrival_season                      0.000000\n",
      "arrival_year                        0.000000\n",
      "arrival_quarter                     0.000000\n",
      "arrival_week_of_year                0.000000\n",
      "arrival_month                       0.000000\n",
      "arrival_day_of_year                 0.000000\n",
      "arrival_day_of_week                 0.000000\n",
      "arrival_minute                      0.000000\n",
      "arrival_hour                        0.000000\n",
      "offblock_weekday_name               0.000000\n",
      "offblock_season                     0.000000\n",
      "offblock_year                       0.000000\n",
      "offblock_quarter                    0.000000\n",
      "flight_speed                        0.000000\n",
      "flight_duration_category            0.000000\n",
      "offblock_week_of_year               0.000000\n",
      "speed_per_distance                  0.000000\n",
      "airline                             0.000000\n",
      "wind_distance_ENR                   0.000000\n",
      "taxiout_time                        0.000000\n",
      "wind_distance_DEP_40                0.000000\n",
      "wind_distance_ARR_100               0.000000\n",
      "flown_distance                      0.000000\n",
      "adep                                0.000000\n",
      "offblock_hour                       0.000000\n",
      "offblock_minute                     0.000000\n",
      "offblock_day_of_week                0.000000\n",
      "offblock_day_of_year                0.000000\n",
      "is_intercontinental                 0.000000\n",
      "flight_direction                    0.000000\n",
      "same_region_flight                  0.000000\n",
      "same_country_flight                 0.000000\n",
      "ades_region                         0.000000\n",
      "adep_region                         0.000000\n",
      "flight_time_excl_taxi               0.000000\n",
      "ENR_distance_ratio                  0.000000\n",
      "avg_speed_ENR                       0.000000\n",
      "cumulative_avg_speed                0.000000\n",
      "callsign                            0.000000\n",
      "dtype: float64\n"
     ]
    }
   ],
   "source": [
    "pd.set_option('display.max_rows', None)\n",
    "\n",
    "print(dataset.isnull().mean().sort_values(ascending=False))\n",
    "\n",
    "pd.reset_option('display.max_rows')"
   ]
  },
  {
   "cell_type": "code",
   "execution_count": 6,
   "id": "65f64717-12fc-41c4-9852-550e59bf94e2",
   "metadata": {
    "ExecuteTime": {
     "end_time": "2024-10-06T21:38:42.274048Z",
     "start_time": "2024-10-06T21:38:42.143808Z"
    }
   },
   "outputs": [],
   "source": [
    "# Dropping columns with too many NaNs\n",
    "threshold = 0.4\n",
    "df = dataset.dropna(thresh=int((1 - threshold) * len(dataset)), axis=1)"
   ]
  },
  {
   "cell_type": "code",
   "execution_count": 7,
   "id": "5d434797c9b4c8a2",
   "metadata": {
    "ExecuteTime": {
     "end_time": "2024-10-06T21:38:55.408905Z",
     "start_time": "2024-10-06T21:38:42.352376Z"
    }
   },
   "outputs": [],
   "source": [
    "# Imputation of NaNs\n",
    "columns_with_nan = dataset.isna().any()\n",
    "for col in dataset.columns[columns_with_nan]:\n",
    "    dataset.loc[:, col] = dataset.fillna(dataset[col].median())"
   ]
  },
  {
   "cell_type": "code",
   "execution_count": 8,
   "id": "23c5b9e4-7275-4c88-a171-6a1d5f6f46c8",
   "metadata": {
    "ExecuteTime": {
     "end_time": "2024-10-06T21:38:55.408905Z",
     "start_time": "2024-10-06T21:38:42.352376Z"
    }
   },
   "outputs": [],
   "source": [
    "df = dataset.iloc[0:challenge_set_updated.shape[0], :]"
   ]
  },
  {
   "cell_type": "code",
   "execution_count": 9,
   "id": "e043fa0a-27d7-44ae-adce-99c6dcbfe1aa",
   "metadata": {
    "ExecuteTime": {
     "end_time": "2024-10-06T21:38:55.683992Z",
     "start_time": "2024-10-06T21:38:55.596679Z"
    }
   },
   "outputs": [],
   "source": [
    "X = df.drop('tow', axis=1)\n",
    "y = df.tow"
   ]
  },
  {
   "cell_type": "code",
   "execution_count": null,
   "id": "f47ece36",
   "metadata": {},
   "outputs": [
    {
     "name": "stderr",
     "output_type": "stream",
     "text": [
      "/home/carolima/.local/lib/python3.10/site-packages/lightgbm/engine.py:204: UserWarning: Found `n_estimators` in params. Will use it instead of argument\n",
      "  _log_warning(f\"Found `{alias}` in params. Will use it instead of argument\")\n"
     ]
    },
    {
     "name": "stdout",
     "output_type": "stream",
     "text": [
      "[LightGBM] [Warning] Provided parameters constrain tree depth (max_depth=13) without explicitly setting 'num_leaves'. This can lead to underfitting. To resolve this warning, pass 'num_leaves' (<=8192) in params. Alternatively, pass (max_depth=-1) and just use 'num_leaves' to constrain model complexity.\n",
      "[LightGBM] [Warning] Categorical features with more bins than the configured maximum bin number found.\n",
      "[LightGBM] [Warning] For categorical features, max_bin and max_bin_by_feature may be ignored with a large number of categories.\n",
      "[LightGBM] [Warning] Provided parameters constrain tree depth (max_depth=13) without explicitly setting 'num_leaves'. This can lead to underfitting. To resolve this warning, pass 'num_leaves' (<=8192) in params. Alternatively, pass (max_depth=-1) and just use 'num_leaves' to constrain model complexity.\n",
      "[LightGBM] [Info] This is the GPU trainer!!\n",
      "[LightGBM] [Info] Total Bins 46211\n",
      "[LightGBM] [Info] Number of data points in the train set: 295210, number of used features: 216\n",
      "Switching to CPU due to GPU limitation.\n",
      "[LightGBM] [Warning] Provided parameters constrain tree depth (max_depth=13) without explicitly setting 'num_leaves'. This can lead to underfitting. To resolve this warning, pass 'num_leaves' (<=8192) in params. Alternatively, pass (max_depth=-1) and just use 'num_leaves' to constrain model complexity.\n",
      "[LightGBM] [Warning] Provided parameters constrain tree depth (max_depth=13) without explicitly setting 'num_leaves'. This can lead to underfitting. To resolve this warning, pass 'num_leaves' (<=8192) in params. Alternatively, pass (max_depth=-1) and just use 'num_leaves' to constrain model complexity.\n",
      "[LightGBM] [Warning] Provided parameters constrain tree depth (max_depth=13) without explicitly setting 'num_leaves'. This can lead to underfitting. To resolve this warning, pass 'num_leaves' (<=8192) in params. Alternatively, pass (max_depth=-1) and just use 'num_leaves' to constrain model complexity.\n"
     ]
    },
    {
     "name": "stderr",
     "output_type": "stream",
     "text": [
      "/home/carolima/.local/lib/python3.10/site-packages/lightgbm/engine.py:204: UserWarning: Found `n_estimators` in params. Will use it instead of argument\n",
      "  _log_warning(f\"Found `{alias}` in params. Will use it instead of argument\")\n",
      "[LightGBM] [Fatal] bin size 6666 cannot run on GPU\n"
     ]
    },
    {
     "name": "stdout",
     "output_type": "stream",
     "text": [
      "[LightGBM] [Info] Auto-choosing col-wise multi-threading, the overhead of testing was 0.728449 seconds.\n",
      "You can set `force_col_wise=true` to remove the overhead.\n",
      "[LightGBM] [Info] Total Bins 46211\n",
      "[LightGBM] [Info] Number of data points in the train set: 295210, number of used features: 216\n",
      "[LightGBM] [Warning] Provided parameters constrain tree depth (max_depth=13) without explicitly setting 'num_leaves'. This can lead to underfitting. To resolve this warning, pass 'num_leaves' (<=8192) in params. Alternatively, pass (max_depth=-1) and just use 'num_leaves' to constrain model complexity.\n",
      "[LightGBM] [Info] Start training from score 79542.054059\n",
      "Training until validation scores don't improve for 100 rounds\n",
      "[100]\tvalid's rmse: 19984.5\n",
      "[200]\tvalid's rmse: 8352.76\n",
      "[300]\tvalid's rmse: 4685.95\n",
      "[400]\tvalid's rmse: 3698.43\n",
      "[500]\tvalid's rmse: 3393.35\n",
      "[600]\tvalid's rmse: 3249.8\n",
      "[700]\tvalid's rmse: 3159.44\n",
      "[800]\tvalid's rmse: 3093.29\n",
      "[900]\tvalid's rmse: 3038.41\n",
      "[1000]\tvalid's rmse: 2992.87\n",
      "[1100]\tvalid's rmse: 2953.61\n",
      "[1200]\tvalid's rmse: 2921.23\n",
      "[1300]\tvalid's rmse: 2892.65\n",
      "[1400]\tvalid's rmse: 2867.24\n",
      "[1500]\tvalid's rmse: 2845.51\n",
      "[1600]\tvalid's rmse: 2826.96\n",
      "[1700]\tvalid's rmse: 2809.4\n",
      "[1800]\tvalid's rmse: 2794.07\n",
      "[1900]\tvalid's rmse: 2779.7\n",
      "[2000]\tvalid's rmse: 2766.7\n",
      "[2100]\tvalid's rmse: 2754.83\n",
      "[2200]\tvalid's rmse: 2744.27\n",
      "[2300]\tvalid's rmse: 2734.25\n",
      "[2400]\tvalid's rmse: 2725.19\n",
      "[2500]\tvalid's rmse: 2716.82\n",
      "[2600]\tvalid's rmse: 2708.93\n",
      "[2700]\tvalid's rmse: 2701.59\n",
      "[2800]\tvalid's rmse: 2694.65\n",
      "[2900]\tvalid's rmse: 2688.78\n",
      "[3000]\tvalid's rmse: 2682.99\n",
      "[3100]\tvalid's rmse: 2677.54\n",
      "[3200]\tvalid's rmse: 2672.16\n",
      "[3300]\tvalid's rmse: 2666.9\n",
      "[3400]\tvalid's rmse: 2662.29\n",
      "[3500]\tvalid's rmse: 2657.12\n",
      "[3600]\tvalid's rmse: 2652.97\n",
      "[3700]\tvalid's rmse: 2649\n",
      "[3800]\tvalid's rmse: 2645.15\n",
      "[3900]\tvalid's rmse: 2641.41\n",
      "[4000]\tvalid's rmse: 2637.56\n",
      "[4100]\tvalid's rmse: 2633.64\n",
      "[4200]\tvalid's rmse: 2630.28\n",
      "[4300]\tvalid's rmse: 2626.64\n",
      "[4400]\tvalid's rmse: 2623.69\n",
      "[4500]\tvalid's rmse: 2620.89\n",
      "[4600]\tvalid's rmse: 2618.07\n"
     ]
    }
   ],
   "source": [
    "import lightgbm as lgb\n",
    "from sklearn.model_selection import train_test_split\n",
    "from lightgbm.basic import LightGBMError\n",
    "\n",
    "# Specify your categorical columns\n",
    "categorical_cols = [\n",
    "    'callsign', 'adep', 'ades', 'aircraft_type', 'wtc', 'airline',\n",
    "    'offblock_season', 'offblock_weekday_name', 'arrival_season', 'arrival_weekday_name',\n",
    "    'flight_duration_category', 'adep_region', 'ades_region', 'flight_direction',\n",
    "    'Manufacturer', 'Model_FAA', 'Physical_Class_Engine', 'FAA_Weight'\n",
    "]\n",
    "\n",
    "# Convert categorical columns to type 'category'\n",
    "for col in categorical_cols:\n",
    "    if col in X.columns:\n",
    "        X[col] = X[col].astype('category')\n",
    "\n",
    "# Splitting the dataset\n",
    "X_train, X_val, y_train, y_val = train_test_split(X, y, test_size=0.2, random_state=42)\n",
    "\n",
    "\n",
    "\n",
    "# LightGBM parameters\n",
    "params = {\n",
    "    'learning_rate': 0.01,\n",
    "    'reg_lambda': 0.46415888336127775,\n",
    "    'reg_alpha': 0.166810053720005,\n",
    "    'min_child_weight': 4,\n",
    "    'max_depth': 13,\n",
    "    'colsample_bytree': 0.6,\n",
    "    'objective': 'regression',\n",
    "    'random_state': 42,\n",
    "    'n_estimators': 50000,\n",
    "    'metric': 'rmse',\n",
    "    'n_jobs': -1,\n",
    "    'device': 'gpu',  # Enable GPU usage\n",
    "    'subsample': 1.0\n",
    "}\n",
    "\n",
    "# Creating LightGBM datasets with free_raw_data set to False\n",
    "train_data = lgb.Dataset(X_train, label=y_train, \n",
    "                         categorical_feature=categorical_cols, \n",
    "                         free_raw_data=False)\n",
    "val_data = lgb.Dataset(X_val, label=y_val, \n",
    "                       categorical_feature=categorical_cols, \n",
    "                       free_raw_data=False)\n",
    "\n",
    "# Training the LightGBM model\n",
    "try:\n",
    "    model = lgb.train(\n",
    "        params,\n",
    "        train_data,\n",
    "        valid_sets=[val_data],\n",
    "        valid_names=['valid'],\n",
    "        callbacks=[\n",
    "            lgb.early_stopping(stopping_rounds=100),\n",
    "            lgb.log_evaluation(period=100)  # Logs evaluation every 100 rounds\n",
    "        ]\n",
    "    )\n",
    "except LightGBMError as e:\n",
    "    # Handle GPU error, switch to CPU\n",
    "    print(\"Switching to CPU due to GPU limitation.\")\n",
    "    params['device'] = 'cpu'  # Switch device to CPU\n",
    "    model = lgb.train(\n",
    "        params,\n",
    "        train_data,\n",
    "        num_boost_round=5000,\n",
    "        valid_sets=[val_data],\n",
    "        valid_names=['valid'],\n",
    "        callbacks=[\n",
    "            lgb.early_stopping(stopping_rounds=100),\n",
    "            lgb.log_evaluation(period=100)  # Logs evaluation every 100 rounds\n",
    "        ]\n",
    "    )\n"
   ]
  },
  {
   "cell_type": "code",
   "execution_count": null,
   "id": "dc468ff5",
   "metadata": {},
   "outputs": [],
   "source": [
    "# Save the model to a file (e.g., in LightGBM format)\n",
    "model.save_model('modelsinterrupted_model.txt')\n"
   ]
  },
  {
   "cell_type": "code",
   "execution_count": null,
   "id": "569f2257",
   "metadata": {},
   "outputs": [],
   "source": [
    "try:\n",
    "    # Assuming the training code is running here\n",
    "    pass\n",
    "except KeyboardInterrupt:\n",
    "    print(\"Training interrupted. You can still use the current model.\")\n",
    "\n",
    "    # Use the partially trained model\n",
    "    y_pred = model.predict(X_val)  # Example prediction on validation data\n",
    "\n",
    "    # Save the current model to a file\n",
    "    model.save_model('interrupted_model.txt')\n"
   ]
  },
  {
   "cell_type": "code",
   "execution_count": null,
   "id": "d0128e48",
   "metadata": {},
   "outputs": [],
   "source": [
    "# Printing the best iteration and RMSE\n",
    "best_iteration = model.best_iteration\n",
    "best_rmse = model.best_score['valid']['rmse']\n",
    "print(f\"Best iteration: {best_iteration}\")\n",
    "print(f\"Best RMSE: {best_rmse}\")"
   ]
  },
  {
   "cell_type": "code",
   "execution_count": null,
   "id": "37862db5",
   "metadata": {},
   "outputs": [],
   "source": [
    "# Continue training the LightGBM model for additional rounds\n",
    "additional_rounds = 5000  # Specify the number of additional boosting rounds\n",
    "\n",
    "# Train the model further\n",
    "model = lgb.train(\n",
    "    params,\n",
    "    train_data,\n",
    "    init_model=model,  # Continue from the existing model\n",
    "    num_boost_round=additional_rounds,\n",
    "    valid_sets=[val_data],\n",
    "    valid_names=['valid'],\n",
    "    callbacks=[\n",
    "        lgb.early_stopping(stopping_rounds=100),\n",
    "        lgb.log_evaluation(period=100)\n",
    "    ]\n",
    ")\n",
    "\n",
    "# Print the updated best iteration and RMSE\n",
    "best_iteration = model.best_iteration\n",
    "best_rmse = model.best_score['valid']['rmse']\n",
    "print(f\"Updated best iteration: {best_iteration}\")\n",
    "print(f\"Updated best RMSE: {best_rmse}\")\n"
   ]
  },
  {
   "cell_type": "code",
   "execution_count": null,
   "id": "111e2801-5dd8-4d68-b768-fe0ded4ca6f2",
   "metadata": {
    "ExecuteTime": {
     "end_time": "2024-10-06T21:41:42.961168Z",
     "start_time": "2024-10-06T21:41:21.038498Z"
    }
   },
   "outputs": [],
   "source": [
    "model.save_model('models/lightgbm_model_v96.txt')"
   ]
  },
  {
   "cell_type": "code",
   "execution_count": null,
   "id": "71d027c6",
   "metadata": {},
   "outputs": [],
   "source": [
    "y_pred = model.predict(X_val)\n",
    "pd.DataFrame(data={'tow': y_pred}).to_csv('outout_data/lightgbm_val_v19.csv', index=False)"
   ]
  },
  {
   "cell_type": "code",
   "execution_count": null,
   "id": "3eb0c2fc",
   "metadata": {},
   "outputs": [],
   "source": [
    "df_test = dataset.iloc[challenge_set_updated.shape[0]:, :]\n",
    "# df_test = pd.read_csv(\"./data/submission_set_updated_v18.csv\")\n",
    "df_test.head()"
   ]
  },
  {
   "cell_type": "code",
   "execution_count": 13,
   "id": "b87faf1e",
   "metadata": {},
   "outputs": [],
   "source": [
    "X_test = df_test.drop('tow', axis=1)\n"
   ]
  },
  {
   "cell_type": "code",
   "execution_count": 14,
   "id": "84bc8fa9",
   "metadata": {},
   "outputs": [],
   "source": [
    "# Assuming X_test is your test dataset\n",
    "\n",
    "# Convert categorical columns to 'category' type with the same categories as in X_train\n",
    "for col in categorical_cols:\n",
    "    if col in X_test.columns:\n",
    "        X_test[col] = pd.Categorical(X_test[col], categories=X_train[col].cat.categories)\n",
    "\n",
    "# Now you can safely use the model for prediction\n",
    "y_pred = model.predict(X_test)\n",
    "y_test = y_pred"
   ]
  },
  {
   "cell_type": "code",
   "execution_count": 16,
   "id": "9cceb72a",
   "metadata": {},
   "outputs": [],
   "source": [
    "dft0 = pd.read_csv('./data/final_submission_set.csv')\n",
    "dft0['tow'] = y_test\n",
    "dft0[['flight_id', 'tow']].to_csv('submissions/lightligbm3.csv', index=False)"
   ]
  },
  {
   "cell_type": "code",
   "execution_count": null,
   "id": "7aa22d5a",
   "metadata": {},
   "outputs": [],
   "source": [
    "!mc cp ./submissions/lightligbm3.csv dc24/submissions/team_tiny_rainbow_v112_7ec66710-1eb8-478e-8976-584c090b6373.csv\n"
   ]
  },
  {
   "cell_type": "code",
   "execution_count": null,
   "id": "6c006efe",
   "metadata": {},
   "outputs": [],
   "source": []
  }
 ],
 "metadata": {
  "kernelspec": {
   "display_name": "Python 3",
   "language": "python",
   "name": "python3"
  },
  "language_info": {
   "codemirror_mode": {
    "name": "ipython",
    "version": 3
   },
   "file_extension": ".py",
   "mimetype": "text/x-python",
   "name": "python",
   "nbconvert_exporter": "python",
   "pygments_lexer": "ipython3",
   "version": "3.10.12"
  }
 },
 "nbformat": 4,
 "nbformat_minor": 5
}
